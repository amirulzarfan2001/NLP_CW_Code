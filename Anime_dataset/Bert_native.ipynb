{
 "cells": [
  {
   "cell_type": "code",
   "execution_count": 1,
   "id": "7053b74b",
   "metadata": {},
   "outputs": [
    {
     "name": "stderr",
     "output_type": "stream",
     "text": [
      "c:\\Users\\User\\anaconda3\\envs\\nlp_env\\lib\\site-packages\\tqdm\\auto.py:21: TqdmWarning: IProgress not found. Please update jupyter and ipywidgets. See https://ipywidgets.readthedocs.io/en/stable/user_install.html\n",
      "  from .autonotebook import tqdm as notebook_tqdm\n"
     ]
    },
    {
     "data": {
      "application/vnd.microsoft.datawrangler.viewer.v0+json": {
       "columns": [
        {
         "name": "index",
         "rawType": "int64",
         "type": "integer"
        },
        {
         "name": "synopsis",
         "rawType": "object",
         "type": "string"
        },
        {
         "name": "genres",
         "rawType": "object",
         "type": "unknown"
        }
       ],
       "conversionMethod": "pd.DataFrame",
       "ref": "6d45ce9d-da2b-422a-bf6d-dd70bf22d4bf",
       "rows": [
        [
         "0",
         "Sometime in the future, the world was completely dried up and became all desert. They had little rivers and lakes left, which villians and dangerous animals lived. Water has become the most valueable thing on the world. Whoever can control water will rule over the world.  (Source: ANN)",
         "['Action', 'Adventure']"
        ],
        [
         "1",
         "Set in 2014, the anime follows the adventures of 23 years old Mafuneko, a newly minted assistant director who joins the TV production department at Tokyo Hajikko Television, only to discover that the glamorous and glitzy life of working behind-the-scenes making TV shows involves strange and inexplicable tasks such as \"gathering 300 acorns\" and \"making a mosaic out of the images reflected in the camera lens.\" Despite being surrounded by chaos, set-backs, and weirdos, Mafuneko struggles to become a fully-fledged TV producer.  (Source: Crunchyroll, edited)",
         "['Comedy']"
        ],
        [
         "2",
         "Follows a pig whose family's mission is to collect underpants.",
         "['Comedy', 'Kids']"
        ],
        [
         "3",
         "In honor of the 2018 World Cup, this season of GG Bond focuses on sports team competition, team spirit, and personal growth as they compete in the Meteor League.  ",
         "['Kids', 'Sci-Fi', 'Sports', 'Super Power']"
        ],
        [
         "4",
         "Fairies living in a fluffy forest, where both flowers and trees are fluffy. Follow a witch's trouble-maker apprentices Pui Pui and Muu Muu.",
         "['Fantasy', 'Kids']"
        ],
        [
         "5",
         "This story is about Mick, a sleeping chironomid. Insects are taken up into space for use in experiments by humans. An epic space adventure of Mick and his friends of their journey back home to Earth. The development plans and experiments are aborted by humans for no known reason, the organisms are left behind in the space station with limited resources. Going over hurdles and fighting through challenges, together, they travel across planets and gain new comrades, heading for Earth. As their journey progresses, the mystery behind the human’s abandonment unravels…  (Source: Crunchyroll)",
         "['Adventure', 'Other']"
        ],
        [
         "6",
         "The anime is based on MegaHouse's line of Ziguru Hazeru (literally, \"Jiggle and Pop Out\") mecha toys that allow people to remove parts from the joints and add different parts in their place. In addition, if one combines together Hazeru Gokuu, Hazeru Sagojo, and Hazeru Hakkai, the resulting mecha will be Hazeru Seioh, allowing for users to combine their toys together.  The ZIGURUHAZERU animated series is based on the upcoming original toy line of the same name from MegaHouse, featuring cool robot toys modelled after characters from the famous Journey to the West tale.",
         "['Action', 'Mecha']"
        ],
        [
         "7",
         "Fuwa Beibei encounters the severely injured goddess, Athena. In order to help Athena regain strength, Beibei sets out to find a mysterious wooden box left by Coubertin in 1894, but the worrying thing is that Pixiu who injured his stomach from his glutinous eating habits heard this news too. He thought that this mysterious energy could not only cure his stomach, but also improve his magic, and such begins the journey through time and space of two spirits with different aims. After all the hardships, they found the sixth son of the dragon - Bixi, and after the two's efforts in passing his test, Bixi carries them along 100 years of Olympic history.",
         "['Historical']"
        ],
        [
         "8",
         "The anime will depict various vehicles as characters in the \"Mobile Land\" island. The protagonist Car-kun arrives at the island as a delivery worker. Through his deliveries, he gets to know the residents of Mobile Land, all while following traffic rules and having his deliveries stopped by the meddling Sabibi.  (Source: ANN)",
         "['Comedy', 'Kids', 'Other', 'Slice of Life']"
        ],
        [
         "9",
         "follows the adventures of an adorable jet plane named Jett who travels around the world delivering packages to children. On every delivery, Jett encounters new problems that he must solve with the help of his friends the \"Super Wings\": Dizzy, Jerome and Donnie. Together, the team explores different countries and learns the diversity of new cultures.  (Source: Official YouTube channel)",
         "['Adventure', 'Kids', 'Other']"
        ],
        [
         "10",
         "A collaboration shorts that aired as part of Yomiuri TV's morning program block.",
         "['Comedy']"
        ],
        [
         "11",
         "There was once a man who was summoned to another world, and saved it. Of course, he became too popular there, and turned into an isekai-normie. However, that man fell into a \"trap\" and was forcibly returned to his original world. Moreover, he had to start over as a baby!  This is the story of the way-too-fantastic ex-hero who lived as a gloomy high-schooler, as he gets summoned once again to that same other world in a very unexpected development!  (Source: Coolmic, edited)",
         "['Action', 'Adventure', 'Comedy', 'Fantasy', 'Harem', 'Romance']"
        ],
        [
         "12",
         "The 2018 LINE sticker set Poccolies is inspiring a series of anime shorts. The story of the sticker set is that a positive and honest boy named Patsuhiko lives on Pokkori Island, along with the shrewd and mysterious Ham, and a reliable older brother figure named Kangaroo. The sticker set follows their daily lives.  (Source: ANN)",
         "['Kids', 'Slice of Life']"
        ],
        [
         "13",
         "Fourth season of Kamiusagi Rope, events occur after the feature film. Airs on Mezamashi TV instead of the theaters.",
         "['Comedy', 'Slice of Life']"
        ],
        [
         "14",
         "Korean Animation about the monsters Eerie, Rock-G, Popo, and Yossi and the adventures they go on each day!",
         "['Adventure']"
        ],
        [
         "15",
         "TV adaptation of Cocone Corporation's mobile puzzle game app.  Discover the adventures of the cat painter, Vincent van Meowogh who lives in a mansion in Paris surrounded by his quirky friends. Let's give him a spark of inspiration for his painting by completing puzzle stages, buy back the furniture and restore his home to its former glory!  (Source: ANN)",
         "['Kids', 'Other']"
        ],
        [
         "16",
         "General of the Three Kingdoms, Kongming had struggled his whole life, facing countless battles that made him into the accomplished strategist he was. So on his deathbed, he wished only to be reborn into a peaceful world... and was sent straight to modern-day party-central, Tokyo! Can even a brilliant strategist like Kongming adapt to the wild beats and even wilder party people?!  (Source: Kodansha US, edited)",
         "['Comedy']"
        ],
        [
         "17",
         "Kou Yamori seems like a typical middle school student on the surface. Relatively good at studies and amiable with his classmates, he puts a lot of effort into maintaining this facade. One day, however, he decides to stop pretending and quits school, developing insomnia as a result of having no daytime outlet for his energy. When taking walks alone at night, he feels marginally better, though he is aware that his inability to sleep should be considered a serious problem.  On one such walk, Kou meets a weird girl, Nazuna Nanakusa, who diagnoses the cause of his sleeplessness: despite making changes in his life, he is still holding himself back from experiencing true freedom. She says that he won't be able to sleep unless he is satisfied with how he spends his waking hours. When it appears that she has resolved his current worries, Nazuna invites him back to her apartment to share her futon. After a while, unaware that he is only feigning unconsciousness, she leans over him—and bites his neck!  ",
         "['Other', 'Romance', 'Shounen', 'Supernatural']"
        ],
        [
         "18",
         "Ryou Mizushima enrolls in junior high and joins the badminton club with great vigor. Although the club didn't have a proper coach, Mizushima improved his skills with his own physical strength by the time he participated in the prefectural tournament. Afterwards, he is approached by the Yokohama Minato High School's badminton coach, Ebihara.  Indecisive and timid, Mizushima hesitates to attend such a prestigious school. However, with his elder sister Rika giving him a strong push, he decides to go to Yokohama Minato. Now blessed with a coach and idiosyncratic teammates, Mizushima will gain experience he's lacked till now, and aims to win the inter-high tournament.  (Source: MAL News)",
         "['Sports']"
        ],
        [
         "19",
         "This show consists of shorts starring 7 characters created and voiced by the voice actors of the variety show \"Seiyuu Danshi desu ga...?\". The anime will be a slapstick comedy that follows seven spirits that come to the modern world.  (Source: ANN)",
         "['Comedy', 'Supernatural']"
        ],
        [
         "20",
         "Hello Jadoo is a South-Korean TV show about a girl named Choi Jadoo who is a very free-spirited girl. In every episode, she would always get into drama, whether it was with her parents or school. At the same time, she meets new people and she tries to solve problems occurring.",
         "['Slice of Life']"
        ],
        [
         "21",
         "The supreme Gods who had too much free time created the ultimate brain games \"Play of the Gods.\" Former Goddess Leche awoke from a long slumber and declared to the world, \"Bring forth the person who is the best in games in this era!\" Fay is nominated to represent humanity as the \"best rookie in recent years.\"  The \"Game of the Gods\" that is about to begin between the two may be a little too difficult, as there has yet to be a victor throughout human history, because Gods are capricious, very unreasonable, and sometimes completely incomprehensible. However, given the nature of the games, it would be a waste not to have a good time and play with all of one's heart! The ultimate brain battles of a genius gamer boy, a former Goddess, and friends begin!  (Source: MAL News)",
         "['Ecchi', 'Fantasy', 'Other']"
        ],
        [
         "22",
         "Struggling with life and society, high school student Michio Kaga wanders about the Internet and lands on an odd website. The website, featuring a number of questions and a point based system, allows one to create skills and abilities for a character. Upon completing his character, Kaga was transported to a game-like fantasy world and reborn as a strong man who can claim idol-level girls. Thus begins the cheat and harem legend of a reborn man!  (Source: MAL News)",
         "['Action', 'Adventure', 'Fantasy', 'Harem', 'Romance']"
        ],
        [
         "23",
         "Technoroid: Overmind is set in the Entertainment Tower Babel, a new hope found by those who have lost the joy of light as humanity's activities are restricted due to the large-scale climate change caused by the expanded sun. The anime depicts unique units and characters fighting for the top of Babel, pursuing emotions that move people and androids through performances.  (Source: MAL News)",
         "['Music']"
        ],
        [
         "24",
         "Tsukumogami—spirits or \"marebito\" can possess objects of considerable age and gain a physical form. Although he is part of the Saenome clan that is in charge of peacefully sending them back to their own world, Hyouma Kunato despises them because one took away what was very precious to him. In order to cure him of this loathing, Hyouma's grandfather sends him to live with Botan Nagatsuki, a girl who is the master of six \"friendly\" tsukumogami and lives with them as a family.  (Source: MU, edited)",
         "['Action', 'Seinen', 'Supernatural']"
        ],
        [
         "25",
         "A young woman aims to become a famous fashion designer.  (Source: AniDB)",
         "['Romance', 'Shoujo']"
        ],
        [
         "26",
         "The hero of Tensei shitara Ken deshita differs from your standard otherworldly protagonist in that he is reincarnated as a sword! Beginning his quest by spawning in the middle of a beast-ridden forest, he encounters an injured girl frantically fleeing for her life. Saving her from her assailants, the pair acquaint themselves, and the girl introduces herself as Fran. She bears a heavy past, having endured the enslavement and maltreatment of her tribe, the Black Cats.  As the hero is unable to remember the name from his past life, the young and tenacious Fran bestows him the name \"Shishou\" and becomes his wielder. Thereafter, Shishou and Fran become a formidable team, embarking on quests to liberate the oppressed and exact justice!  ",
         "['Action', 'Fantasy']"
        ],
        [
         "27",
         "If a girl teases you, that means she likes you!  Unfortunately, Akiteru knows from experience that isn't the case. Because every girl he interacts with shows him nothing but scorn, and he's not scored a single date from it! Luckily, he's more concerned with securing a spot for him and his game-development buddies at his uncle's business.  But when his uncle throws him a condition that involves playing the part of his daughter's boyfriend, Akiteru has no choice but to take it. What will his best friend's sister Iroha, who bullies him relentlessly, think of the news?  (Source: J-Novel Club)",
         "['Comedy', 'Romance', 'School']"
        ],
        [
         "28",
         "There is a mysterious power of the Holy Spirit hidden in the legendary continent of Labelle, and the way to get power is recorded in the book of flower, guard by numerous flower Fairy Kings,only the legendary magic ambassador is recognized to wake up the power, and use them to defeat evil. For this.The evil force,led by Jakarta,the Queen of Dark had start a war to the continent of Labelle.With the help of the Flower Goddess,Pupula and the tribe of gouring flower fairys, the fate of the continent of Labelle is linked with an Earth girl... Who is the legendary envoy XiaAnAn.  (Source: Magical Girl Wiki)",
         "['Kids']"
        ],
        [
         "29",
         "Denji has a simple dream—to live a happy and peaceful life, spending time with a girl he likes. This is a far cry from reality, however, as Denji is forced by the yakuza into killing devils in order to pay off his crushing debts. Using his pet devil Pochita as a weapon, he is ready to do anything for a bit of cash.  Unfortunately, he has outlived his usefulness and is murdered by a devil in contract with the yakuza. However, in an unexpected turn of events, Pochita merges with Denji's dead body and grants him the powers of a chainsaw devil. Now able to transform parts of his body into chainsaws, a revived Denji uses his new abilities to quickly and brutally dispatch his enemies. Catching the eye of the official devil hunters who arrive at the scene, he is offered work at the Public Safety Bureau as one of them. Now with the means to face even the toughest of enemies, Denji will stop at nothing to achieve his simple teenage dreams.  ",
         "['Action', 'Adventure', 'Demons', 'Shounen']"
        ],
        [
         "30",
         "6.5-centimeter tall Degirdians fall to Earth in their spacecraft while chasing fugitives. Their spaceship transforms into a capsule toy stand near a toy store and a human boy accidentally takes home one of the aliens thinking it's a capsule toy. They befriend a human boy and try to figure out a way to get home all while fighting off the evil alien.",
         "['Kids', 'Sci-Fi']"
        ],
        [
         "31",
         "revolves around mischievous creatures called Teenieping that like to enter people's minds, but their playful nature and magical powers can wreak havoc in their hosts' lives. When the Teenieping are set loose on Earth, Princess Romi of the Emotion Kingdom becomes an ordinary girl that has to turn into a magical girl to stop them, all while balancing her new civilian life as a worker for the Bakery Heartrose with her coworkers Ian, Kyle, and Jun.  (Source: Wikipedia)",
         "['Fantasy', 'Kids', 'School']"
        ],
        [
         "32",
         "A more educational season of GG Bond. This season is composed of 2 arcs, each arc has 52 episodes.  GG Bond works on cleaning up some fossils at the lab as they'll be used in a museum exhibit. He uses a fossil to create a data coin that is compatible with his special jet. This allows for him to travel back in time to the original animal (a T-Rex) the fossil was made of. While GG Bond is ecstatic to learn about dinosaurs in-person (as well as mine more accurate data for the data coin), he didn't quite realize the danger he'd be in. He successfully gets out of this sticky situation but there's still a lot more dinosaurs he needs to get information on.",
         "['Historical', 'Kids', 'Sci-Fi', 'Super Power']"
        ],
        [
         "33",
         "Hitori Gotou is a high school girl who's starting to learn to play the guitar because she dreams of being in a band, but she's so shy that she hasn't made a single friend. However, her dream might come true after she meets Nijika Ijichi, a girl who plays drums and is looking for a new guitarist for her band.  (Source: MU, edited)",
         "['Comedy', 'Music', 'Slice of Life']"
        ],
        [
         "34",
         "TV anime based on San-X's new series of mascot characters \"Chickip Dancers.\" The main characters in the anime will be the apprehensive but curious bone-in chicken Hone Chicken, and the dancing instructor frog Skip Gaeru, who travels by dancing.  (Source: ANN)",
         "['Slice of Life']"
        ],
        [
         "35",
         "Stop-motion animation using clay and puppets follows a musician and hit cat traveling the world and learning about music in different cultures while spreading their own songs.",
         "['Kids', 'Music']"
        ],
        [
         "36",
         "A Chinese prince meets a regular civilian during his travels and quickly falls in love. They marry and have a daughter, but the prince is soon separated from them during a rebellion. Many years later, the prince has become emperor and locates his lost daughter. She comes to live with him, but unfortunately has picked up several unrefined habits during her times as a civilian.",
         "['Comedy', 'Historical', 'Kids']"
        ],
        [
         "37",
         "is an animation series with some educational undertones targeting 5~7-year-old kids. The entire series is set against the backdrop of a supermarket. Viewing the animations, children will be able to imagine themselves in amidst all a supermarket has to offer. Children can join Kemy and his quest to figure out the answers to everyday questions. Buka and Chaka do not reprise their roles in this season.  (Source: korean-products.com)  ",
         "['Kids']"
        ],
        [
         "38",
         "Centers on a penguin who works in an abusive company and gripes about the difficulties of workplace life. The title is a play on the \"koutei penguin,\" the Japanese name for the emperor penguin.  (Source: ANN)",
         "['Other']"
        ],
        [
         "39",
         "No synopsis has been added for this series yet.   to update this information.",
         "['Comedy', 'Fantasy']"
        ],
        [
         "40",
         "In \"a certain era\" on \"a certain continent,\" banal things are happening. The construction of \"Large-Scale Leisure Facilities\" has demanded that all the villages are to be evicted. When these demands are denied, the village and its residents are obliterated. A boy named Chap once lived in tranquility, but that happiness soon came crumbling down. He decides to embark on a journey of revenge, but soon falls madly in love with the king's daughter, Princess Melora. In order to fulfill her selfish wishes, he gathers his friends in order to overcome the impossible.",
         "['Adventure', 'Comedy', 'Fantasy', 'Kids']"
        ],
        [
         "41",
         "The story centers around a cat who answers people's wishes and delivers happiness. (\"Tane\" and \"neko\" are the Japanese words for \"seed\" and \"cat,\" respectively.)  (Source: ANN)",
         "['Comedy']"
        ],
        [
         "42",
         "The series follows a young girl named Shina who hopes to become the world's best DJ, and is interested in new sounds. Shina explores a mysterious world filled with Otoppe, strange creatures capable of unique sounds.",
         "['Fantasy', 'Kids', 'Music']"
        ],
        [
         "43",
         "The second season of the franchise. It aired within the \"Fight Tension☆School\" variety program.",
         "['Comedy', 'Mecha']"
        ],
        [
         "44",
         "Shorts that aired within \"Fight Tension☆Depart,\" a variety program that originally aired the anime as one of its segments. Celeb-chan is a narcissistic school girl who believes that she is a celebrity because her family is incredibly wealthy. She tries to do typical rich people things such as starting her own heavy makeup line, becoming a singer, saving an endangered species, buying a teacup poodle, etc. The results are never how she expects it.",
         "['Comedy', 'Parody']"
        ],
        [
         "45",
         "How did Asia's most prominent entrepreneurs know when to grasp opportunities? And how did they overcome difficulties and attain their positions of power? This series uses the unconventional technique of blending actual documentary footage with CG animation to get a close-up look into the front lines and what lies behind the scenes of Asian business.  Our cartoon host is Shima Kosaku, a character from a popular Japanese business manga. He delves into the heart of the Asian economic market representing 4 billion people, to visit entrepreneurs who have survived turbulent times. Thai business magnate, Dhanin Chearavanont (Chairman of CP Group), and innovative Taiwanese semiconductor entrepreneur, Morris Chang (Chairman of TSMC), are among the many movers and shakers to be featured. Don't miss this opportunity to glimpse the dramatic lives of these media-shy business titans.  (Source: Official Site)",
         "['Drama', 'Seinen']"
        ],
        [
         "46",
         "The story centers on Matthew, a daydreaming worrywart of a rabbit. Matthew also has two friends: Keron, a pessimistic frog who is fond of good-luck charms; and Ham, a hamster of few words and who moves through life at his own pace. The story follows the three animals' everyday lives within a mysterious forest.  (Source: ANN)",
         "['Slice of Life']"
        ],
        [
         "47",
         "Excellent student Iwakura Mitsumi has always dreamt about leaving her small town, going to a prestigious university, and making positive change in the world. But she's so focused on reaching her goals that she's not prepared for the very different (and overwhelming) city life that awaits her in a Tokyo high school. Luckily, she makes fast friends with Shima Sousuke, a handsome classmate who's as laid-back as she is over-prepared. Can this naive country girl make it big in Tokyo with Sousuke by her side?  (Source: Seven Seas Entertainment)",
         "['School', 'Seinen', 'Slice of Life']"
        ],
        [
         "48",
         "The story will follow four girls who seek to use their songs to heal and soothe the people of their world. The tagline reads, \"Kindhearted, powerful songs heal the world. These are beautiful miracles sung by humanity.\"  (Source: MAL Source)",
         "['Music']"
        ],
        [
         "49",
         "It follows the fan favorite character Vandyne as his hidden secrets are revealed. Unlike the reboot, which exclusively uses 3DCG visuals, this series is like the earlier entries and is animated with 2D and 3D visuals.  The mini-series is part of a new promotional campaign from Sono Kong. The Korean toy manufacturer will launch four new mechanimals this month at retail.  (Source: toonbarn.com)",
         "['Adventure', 'Kids', 'Mecha', 'Other']"
        ]
       ],
       "shape": {
        "columns": 2,
        "rows": 9194
       }
      },
      "text/html": [
       "<div>\n",
       "<style scoped>\n",
       "    .dataframe tbody tr th:only-of-type {\n",
       "        vertical-align: middle;\n",
       "    }\n",
       "\n",
       "    .dataframe tbody tr th {\n",
       "        vertical-align: top;\n",
       "    }\n",
       "\n",
       "    .dataframe thead th {\n",
       "        text-align: right;\n",
       "    }\n",
       "</style>\n",
       "<table border=\"1\" class=\"dataframe\">\n",
       "  <thead>\n",
       "    <tr style=\"text-align: right;\">\n",
       "      <th></th>\n",
       "      <th>synopsis</th>\n",
       "      <th>genres</th>\n",
       "    </tr>\n",
       "  </thead>\n",
       "  <tbody>\n",
       "    <tr>\n",
       "      <th>0</th>\n",
       "      <td>Sometime in the future, the world was complete...</td>\n",
       "      <td>[Action, Adventure]</td>\n",
       "    </tr>\n",
       "    <tr>\n",
       "      <th>1</th>\n",
       "      <td>Set in 2014, the anime follows the adventures ...</td>\n",
       "      <td>[Comedy]</td>\n",
       "    </tr>\n",
       "    <tr>\n",
       "      <th>2</th>\n",
       "      <td>Follows a pig whose family's mission is to col...</td>\n",
       "      <td>[Comedy, Kids]</td>\n",
       "    </tr>\n",
       "    <tr>\n",
       "      <th>3</th>\n",
       "      <td>In honor of the 2018 World Cup, this season of...</td>\n",
       "      <td>[Kids, Sci-Fi, Sports, Super Power]</td>\n",
       "    </tr>\n",
       "    <tr>\n",
       "      <th>4</th>\n",
       "      <td>Fairies living in a fluffy forest, where both ...</td>\n",
       "      <td>[Fantasy, Kids]</td>\n",
       "    </tr>\n",
       "    <tr>\n",
       "      <th>...</th>\n",
       "      <td>...</td>\n",
       "      <td>...</td>\n",
       "    </tr>\n",
       "    <tr>\n",
       "      <th>9189</th>\n",
       "      <td>The Konohagakure Grand Sports Festival has beg...</td>\n",
       "      <td>[Action, Comedy, Fantasy, Other, Shounen, Sports]</td>\n",
       "    </tr>\n",
       "    <tr>\n",
       "      <th>9190</th>\n",
       "      <td>Special bundled with the Blu-ray/DVD volume of .</td>\n",
       "      <td>[Ecchi]</td>\n",
       "    </tr>\n",
       "    <tr>\n",
       "      <th>9191</th>\n",
       "      <td>According to the official Hobby Japan website,...</td>\n",
       "      <td>[Comedy, Ecchi, Fantasy, Parody]</td>\n",
       "    </tr>\n",
       "    <tr>\n",
       "      <th>9192</th>\n",
       "      <td>A series of comedic shorts featuring chibi ver...</td>\n",
       "      <td>[Adventure, Comedy, Fantasy, Parody]</td>\n",
       "    </tr>\n",
       "    <tr>\n",
       "      <th>9193</th>\n",
       "      <td>These shorts, included in the Blu-ray and DVD ...</td>\n",
       "      <td>[Comedy, Seinen, Slice of Life]</td>\n",
       "    </tr>\n",
       "  </tbody>\n",
       "</table>\n",
       "<p>9194 rows × 2 columns</p>\n",
       "</div>"
      ],
      "text/plain": [
       "                                               synopsis  \\\n",
       "0     Sometime in the future, the world was complete...   \n",
       "1     Set in 2014, the anime follows the adventures ...   \n",
       "2     Follows a pig whose family's mission is to col...   \n",
       "3     In honor of the 2018 World Cup, this season of...   \n",
       "4     Fairies living in a fluffy forest, where both ...   \n",
       "...                                                 ...   \n",
       "9189  The Konohagakure Grand Sports Festival has beg...   \n",
       "9190   Special bundled with the Blu-ray/DVD volume of .   \n",
       "9191  According to the official Hobby Japan website,...   \n",
       "9192  A series of comedic shorts featuring chibi ver...   \n",
       "9193  These shorts, included in the Blu-ray and DVD ...   \n",
       "\n",
       "                                                 genres  \n",
       "0                                   [Action, Adventure]  \n",
       "1                                              [Comedy]  \n",
       "2                                        [Comedy, Kids]  \n",
       "3                   [Kids, Sci-Fi, Sports, Super Power]  \n",
       "4                                       [Fantasy, Kids]  \n",
       "...                                                 ...  \n",
       "9189  [Action, Comedy, Fantasy, Other, Shounen, Sports]  \n",
       "9190                                            [Ecchi]  \n",
       "9191                   [Comedy, Ecchi, Fantasy, Parody]  \n",
       "9192               [Adventure, Comedy, Fantasy, Parody]  \n",
       "9193                    [Comedy, Seinen, Slice of Life]  \n",
       "\n",
       "[9194 rows x 2 columns]"
      ]
     },
     "metadata": {},
     "output_type": "display_data"
    }
   ],
   "source": [
    "from my_import import *\n",
    "df_train = pd.read_csv('df_train.csv')\n",
    "df_val = pd.read_csv('df_val.csv')\n",
    "df_test = pd.read_csv('df_test.csv')\n",
    "df_full = pd.read_csv('final_cleaned_dataset_df.csv')\n",
    "\n",
    "#Make sure the genre collumns is in lists not strings\n",
    "#NEED TO DO THIS EVERYTIME EXPORT DATASET\n",
    "df_train['genres'] = df_train['genres'].apply(lambda x: list(ast.literal_eval(x)))\n",
    "df_val['genres'] = df_val['genres'].apply(lambda x: list(ast.literal_eval(x)))\n",
    "df_test['genres'] = df_test['genres'].apply(lambda x: list(ast.literal_eval(x)))\n",
    "\n",
    "df_train=df_train.drop(columns=['title','index'])\n",
    "df_val=df_val.drop(columns=['title','index'])\n",
    "df_test=df_test.drop(columns=['title','index'])\n",
    "\n",
    "\n",
    "display(df_train)"
   ]
  },
  {
   "cell_type": "code",
   "execution_count": 3,
   "id": "fec7a217",
   "metadata": {},
   "outputs": [
    {
     "name": "stdout",
     "output_type": "stream",
     "text": [
      "Using device: cuda\n"
     ]
    },
    {
     "name": "stderr",
     "output_type": "stream",
     "text": [
      "C:\\Users\\User\\AppData\\Local\\Temp\\ipykernel_25476\\4186845695.py:36: UserWarning: Creating a tensor from a list of numpy.ndarrays is extremely slow. Please consider converting the list to a single numpy.ndarray with numpy.array() before converting to a tensor. (Triggered internally at C:\\actions-runner\\_work\\pytorch\\pytorch\\pytorch\\torch\\csrc\\utils\\tensor_new.cpp:257.)\n",
      "  train_labels = torch.tensor(list(df_train[\"labels\"].values))\n",
      "Some weights of RobertaForSequenceClassification were not initialized from the model checkpoint at roberta-base and are newly initialized: ['classifier.dense.bias', 'classifier.dense.weight', 'classifier.out_proj.bias', 'classifier.out_proj.weight']\n",
      "You should probably TRAIN this model on a down-stream task to be able to use it for predictions and inference.\n"
     ]
    },
    {
     "name": "stdout",
     "output_type": "stream",
     "text": [
      "\n",
      "Epoch 1/4\n"
     ]
    },
    {
     "name": "stderr",
     "output_type": "stream",
     "text": [
      "Training: 100%|██████████| 1150/1150 [14:22<00:00,  1.33it/s]\n"
     ]
    },
    {
     "name": "stdout",
     "output_type": "stream",
     "text": [
      "Train Loss: 0.3325\n"
     ]
    },
    {
     "name": "stderr",
     "output_type": "stream",
     "text": [
      "Validating: 100%|██████████| 143/143 [00:41<00:00,  3.44it/s]\n"
     ]
    },
    {
     "name": "stdout",
     "output_type": "stream",
     "text": [
      "Val Loss: 0.2942 | F1 (samples): 0.0334\n",
      "\n",
      "Epoch 2/4\n"
     ]
    },
    {
     "name": "stderr",
     "output_type": "stream",
     "text": [
      "Training: 100%|██████████| 1150/1150 [15:19<00:00,  1.25it/s]\n"
     ]
    },
    {
     "name": "stdout",
     "output_type": "stream",
     "text": [
      "Train Loss: 0.2820\n"
     ]
    },
    {
     "name": "stderr",
     "output_type": "stream",
     "text": [
      "Validating: 100%|██████████| 143/143 [00:41<00:00,  3.42it/s]\n"
     ]
    },
    {
     "name": "stdout",
     "output_type": "stream",
     "text": [
      "Val Loss: 0.2640 | F1 (samples): 0.2391\n",
      "\n",
      "Epoch 3/4\n"
     ]
    },
    {
     "name": "stderr",
     "output_type": "stream",
     "text": [
      "Training: 100%|██████████| 1150/1150 [15:22<00:00,  1.25it/s]\n"
     ]
    },
    {
     "name": "stdout",
     "output_type": "stream",
     "text": [
      "Train Loss: 0.2610\n"
     ]
    },
    {
     "name": "stderr",
     "output_type": "stream",
     "text": [
      "Validating: 100%|██████████| 143/143 [00:41<00:00,  3.43it/s]\n"
     ]
    },
    {
     "name": "stdout",
     "output_type": "stream",
     "text": [
      "Val Loss: 0.2532 | F1 (samples): 0.2974\n",
      "\n",
      "Epoch 4/4\n"
     ]
    },
    {
     "name": "stderr",
     "output_type": "stream",
     "text": [
      "Training: 100%|██████████| 1150/1150 [15:23<00:00,  1.25it/s]\n"
     ]
    },
    {
     "name": "stdout",
     "output_type": "stream",
     "text": [
      "Train Loss: 0.2480\n"
     ]
    },
    {
     "name": "stderr",
     "output_type": "stream",
     "text": [
      "Validating: 100%|██████████| 143/143 [00:41<00:00,  3.43it/s]\n"
     ]
    },
    {
     "name": "stdout",
     "output_type": "stream",
     "text": [
      "Val Loss: 0.2437 | F1 (samples): 0.3916\n"
     ]
    },
    {
     "data": {
      "image/png": "[encoded data removed]",
      "text/plain": [
       "<Figure size 1200x500 with 2 Axes>"
      ]
     },
     "metadata": {},
     "output_type": "display_data"
    },
    {
     "name": "stderr",
     "output_type": "stream",
     "text": [
      "Testing: 100%|██████████| 141/141 [00:41<00:00,  3.42it/s]"
     ]
    },
    {
     "name": "stdout",
     "output_type": "stream",
     "text": [
      "\n",
      "Test Loss: 0.2450\n",
      "Test F1 (samples): 0.3931 | Jaccard: 0.3014 | Hit Rate: 0.6673\n"
     ]
    },
    {
     "name": "stderr",
     "output_type": "stream",
     "text": [
      "\n"
     ]
    }
   ],
   "source": [
    "import torch\n",
    "from torch.utils.data import DataLoader, TensorDataset\n",
    "from transformers import AutoTokenizer, AutoConfig, AutoModelForSequenceClassification\n",
    "from sklearn.metrics import f1_score, jaccard_score\n",
    "import numpy as np\n",
    "import pandas as pd\n",
    "from tqdm import tqdm\n",
    "import matplotlib.pyplot as plt\n",
    "\n",
    "# ========== STEP 1: Device & Data ==========\n",
    "device = torch.device(\"cuda\" if torch.cuda.is_available() else \"cpu\")\n",
    "print(\"Using device:\", device)\n",
    "\n",
    "all_genres = sorted(set(genre for sublist in df_train[\"genres\"] for genre in sublist))\n",
    "label2id = {genre: idx for idx, genre in enumerate(all_genres)}\n",
    "id2label = {idx: genre for genre, idx in label2id.items()}\n",
    "num_labels = len(label2id)\n",
    "\n",
    "def encode_labels(genres):\n",
    "    vec = np.zeros(num_labels, dtype=np.float32)\n",
    "    for genre in genres:\n",
    "        vec[label2id[genre]] = 1.0\n",
    "    return vec\n",
    "\n",
    "df_train[\"labels\"] = df_train[\"genres\"].apply(encode_labels)\n",
    "df_val[\"labels\"] = df_val[\"genres\"].apply(encode_labels)\n",
    "df_test[\"labels\"] = df_test[\"genres\"].apply(encode_labels)\n",
    "\n",
    "model_ckpt = \"roberta-base\"\n",
    "tokenizer = AutoTokenizer.from_pretrained(model_ckpt, use_fast=False)\n",
    "\n",
    "train_encodings = tokenizer(df_train[\"synopsis\"].tolist(), padding=True, truncation=True, return_tensors=\"pt\", max_length=256)\n",
    "val_encodings = tokenizer(df_val[\"synopsis\"].tolist(), padding=True, truncation=True, return_tensors=\"pt\", max_length=256)\n",
    "test_encodings = tokenizer(df_test[\"synopsis\"].tolist(), padding=True, truncation=True, return_tensors=\"pt\", max_length=256)\n",
    "\n",
    "train_labels = torch.tensor(list(df_train[\"labels\"].values))\n",
    "val_labels = torch.tensor(list(df_val[\"labels\"].values))\n",
    "test_labels = torch.tensor(list(df_test[\"labels\"].values))\n",
    "\n",
    "train_dataset = TensorDataset(train_encodings[\"input_ids\"], train_encodings[\"attention_mask\"], train_labels)\n",
    "val_dataset = TensorDataset(val_encodings[\"input_ids\"], val_encodings[\"attention_mask\"], val_labels)\n",
    "test_dataset = TensorDataset(test_encodings[\"input_ids\"], test_encodings[\"attention_mask\"], test_labels)\n",
    "\n",
    "train_loader = DataLoader(train_dataset, batch_size=8, shuffle=True)\n",
    "val_loader = DataLoader(val_dataset, batch_size=8)\n",
    "test_loader = DataLoader(test_dataset, batch_size=8)\n",
    "\n",
    "config = AutoConfig.from_pretrained(model_ckpt, num_labels=num_labels, problem_type=\"multi_label_classification\", id2label=id2label, label2id=label2id,hidden_dropout_prob=0.3 )\n",
    "model = AutoModelForSequenceClassification.from_pretrained(model_ckpt, config=config).to(device)\n",
    "\n",
    "optimizer = torch.optim.AdamW(model.parameters(), lr=1e-5,weight_decay=0.01)\n",
    "loss_fn = torch.nn.BCEWithLogitsLoss()\n",
    "\n",
    "num_epochs = 4\n",
    "train_losses, val_losses, val_accuracies = [], [], []\n",
    "\n",
    "for epoch in range(num_epochs):\n",
    "    model.train()\n",
    "    total_train_loss = 0\n",
    "\n",
    "    print(f\"\\nEpoch {epoch+1}/{num_epochs}\")\n",
    "    for batch in tqdm(train_loader, desc=\"Training\"):\n",
    "        input_ids, attention_mask, labels = [b.to(device) for b in batch]\n",
    "        optimizer.zero_grad()\n",
    "\n",
    "        outputs = model(input_ids=input_ids, attention_mask=attention_mask)\n",
    "        logits = outputs.logits\n",
    "        loss = loss_fn(logits, labels)\n",
    "\n",
    "        loss.backward()\n",
    "        optimizer.step()\n",
    "\n",
    "        total_train_loss += loss.item()\n",
    "\n",
    "    avg_train_loss = total_train_loss / len(train_loader)\n",
    "    train_losses.append(avg_train_loss)\n",
    "    print(f\"Train Loss: {avg_train_loss:.4f}\")\n",
    "\n",
    "    # ===== Validation =====\n",
    "    model.eval()\n",
    "    total_val_loss = 0\n",
    "    all_preds, all_labels = [], []\n",
    "\n",
    "    with torch.no_grad():\n",
    "        for batch in tqdm(val_loader, desc=\"Validating\"):\n",
    "            input_ids, attention_mask, labels = [b.to(device) for b in batch]\n",
    "            outputs = model(input_ids=input_ids, attention_mask=attention_mask)\n",
    "            logits = outputs.logits\n",
    "            loss = loss_fn(logits, labels)\n",
    "            total_val_loss += loss.item()\n",
    "\n",
    "            preds = torch.sigmoid(logits) > 0.5\n",
    "            all_preds.append(preds.cpu().numpy())\n",
    "            all_labels.append(labels.cpu().numpy())\n",
    "\n",
    "    avg_val_loss = total_val_loss / len(val_loader)\n",
    "    val_losses.append(avg_val_loss)\n",
    "\n",
    "    y_true = np.vstack(all_labels)\n",
    "    y_pred = np.vstack(all_preds)\n",
    "    val_acc = f1_score(y_true, y_pred, average=\"samples\")\n",
    "    val_accuracies.append(val_acc)\n",
    "\n",
    "    print(f\"Val Loss: {avg_val_loss:.4f} | F1 (samples): {val_acc:.4f}\")\n",
    "\n",
    "    # Save model checkpoint\n",
    "    torch.save(model.state_dict(), f\"checkpoint_epoch{epoch+1}.pt\")\n",
    "\n",
    "# ====== Plotting ======\n",
    "plt.figure(figsize=(12,5))\n",
    "plt.subplot(1,2,1)\n",
    "plt.plot(train_losses, label=\"Train Loss\")\n",
    "plt.plot(val_losses, label=\"Val Loss\")\n",
    "plt.xlabel(\"Epoch\")\n",
    "plt.ylabel(\"Loss\")\n",
    "plt.title(\"Training & Validation Loss\")\n",
    "plt.legend()\n",
    "\n",
    "plt.subplot(1,2,2)\n",
    "plt.plot(val_accuracies, label=\"Val F1 (samples)\")\n",
    "plt.xlabel(\"Epoch\")\n",
    "plt.ylabel(\"F1 Score\")\n",
    "plt.title(\"Validation F1 Score\")\n",
    "plt.legend()\n",
    "\n",
    "plt.tight_layout()\n",
    "plt.show()\n",
    "\n",
    "# ====== Final Test Evaluation ======\n",
    "model.eval()\n",
    "all_preds, all_labels = [], []\n",
    "total_test_loss = 0\n",
    "\n",
    "with torch.no_grad():\n",
    "    for batch in tqdm(test_loader, desc=\"Testing\"):\n",
    "        input_ids, attention_mask, labels = [b.to(device) for b in batch]\n",
    "        outputs = model(input_ids=input_ids, attention_mask=attention_mask)\n",
    "        logits = outputs.logits\n",
    "        loss = loss_fn(logits, labels)\n",
    "        total_test_loss += loss.item()\n",
    "\n",
    "        preds = torch.sigmoid(logits) > 0.5\n",
    "        all_preds.append(preds.cpu().numpy())\n",
    "        all_labels.append(labels.cpu().numpy())\n",
    "\n",
    "y_true = np.vstack(all_labels)\n",
    "y_pred = np.vstack(all_preds)\n",
    "test_f1 = f1_score(y_true, y_pred, average=\"samples\")\n",
    "test_jaccard = jaccard_score(y_true, y_pred, average=\"samples\")\n",
    "test_hit = (np.logical_and(y_true, y_pred).sum(axis=1) > 0).mean()\n",
    "avg_test_loss = total_test_loss / len(test_loader)\n",
    "\n",
    "print(f\"\\nTest Loss: {avg_test_loss:.4f}\")\n",
    "print(f\"Test F1 (samples): {test_f1:.4f} | Jaccard: {test_jaccard:.4f} | Hit Rate: {test_hit:.4f}\")\n"
   ]
  },
  {
   "cell_type": "code",
   "execution_count": 4,
   "id": "c01fbea4",
   "metadata": {},
   "outputs": [
    {
     "name": "stdout",
     "output_type": "stream",
     "text": [
      "Genres: ['Comedy', 'Romance', 'School']\n"
     ]
    }
   ],
   "source": [
    "def predict_genres(synopsis, threshold=0.5):\n",
    "    model.eval()\n",
    "    inputs = tokenizer(synopsis, return_tensors=\"pt\", padding=True, truncation=True, max_length=256)\n",
    "    inputs = {k: v.to(device) for k, v in inputs.items()}\n",
    "\n",
    "    with torch.no_grad():\n",
    "        outputs = model(**inputs)\n",
    "        probs = torch.sigmoid(outputs.logits).cpu().numpy()[0]\n",
    "\n",
    "    predicted_indices = [i for i, p in enumerate(probs) if p > threshold]\n",
    "    return [id2label[i] for i in predicted_indices]\n",
    "\n",
    "# Example use\n",
    "synopsis = \"Student council president Miyuki Shirogane and vice-president Kaguya Shinomiya appear to be the perfect couple; but both are too proud to confess their love and scheme to make the other confess their love first.\"\n",
    "genres = predict_genres(synopsis)\n",
    "print(\"Genres:\", genres)\n"
   ]
  },
  {
   "cell_type": "code",
   "execution_count": 5,
   "id": "6efafde6",
   "metadata": {},
   "outputs": [
    {
     "data": {
      "text/plain": [
       "('anime-genre-model-Roberta\\\\tokenizer_config.json',\n",
       " 'anime-genre-model-Roberta\\\\special_tokens_map.json',\n",
       " 'anime-genre-model-Roberta\\\\vocab.json',\n",
       " 'anime-genre-model-Roberta\\\\merges.txt',\n",
       " 'anime-genre-model-Roberta\\\\added_tokens.json')"
      ]
     },
     "execution_count": 5,
     "metadata": {},
     "output_type": "execute_result"
    }
   ],
   "source": [
    "model.save_pretrained(\"anime-genre-model-Roberta\")\n",
    "tokenizer.save_pretrained(\"anime-genre-model-Roberta\")"
   ]
  },
  {
   "cell_type": "code",
   "execution_count": 11,
   "id": "688b31a3",
   "metadata": {},
   "outputs": [
    {
     "name": "stdout",
     "output_type": "stream",
     "text": [
      "Genres: ['Sci-Fi']\n"
     ]
    }
   ],
   "source": [
    "tokenizer = AutoTokenizer.from_pretrained(\"anime-genre-model\")\n",
    "model = AutoModelForSequenceClassification.from_pretrained(\"anime-genre-model\").to(device)\n",
    "\n",
    "synopsis = \"The year is 2052—an era of unprecedented peace and prosperity prevails across the globe. The reason for this: mankind has been freed from sickness and pain. Nobel Prize winning neuroscientist Dr. Skinner has developed a miracle cure-all drug with no apparent drawbacks called Hapuna. Hapuna soon becomes ubiquitous... and essential. However, soon after Hapuna is officially introduced, Dr. Skinner vanishes.\"\n",
    "genres = predict_genres(synopsis)\n",
    "print(\"Genres:\", genres)\n"
   ]
  }
 ],
 "metadata": {
  "kernelspec": {
   "display_name": "nlp_env",
   "language": "python",
   "name": "python3"
  },
  "language_info": {
   "codemirror_mode": {
    "name": "ipython",
    "version": 3
   },
   "file_extension": ".py",
   "mimetype": "text/x-python",
   "name": "python",
   "nbconvert_exporter": "python",
   "pygments_lexer": "ipython3",
   "version": "3.10.16"
  }
 },
 "nbformat": 4,
 "nbformat_minor": 5
}
