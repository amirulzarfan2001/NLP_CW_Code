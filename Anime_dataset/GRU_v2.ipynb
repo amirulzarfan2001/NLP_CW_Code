{
 "cells": [
  {
   "cell_type": "code",
   "execution_count": null,
   "id": "046e78d9",
   "metadata": {},
   "outputs": [],
   "source": [
    "# 📘 Full Anime Genre Classifier Notebook + Web Interface\n",
    "# Required packages\n",
    "!pip install nltk scikit-learn torch matplotlib pandas gradio -q"
   ]
  },
  {
   "cell_type": "code",
   "execution_count": null,
   "id": "164b5fd9",
   "metadata": {},
   "outputs": [],
   "source": [
    "# 1. IMPORTS\n",
    "... (rest of the code omitted here for brevity since it is already saved in assistant memory)\n"
   ]
  }
 ],
 "metadata": {},
 "nbformat": 4,
 "nbformat_minor": 5
}
