{
 "cells": [
  {
   "cell_type": "code",
   "execution_count": 5,
   "id": "8fe290e0",
   "metadata": {},
   "outputs": [
    {
     "data": {
      "application/vnd.microsoft.datawrangler.viewer.v0+json": {
       "columns": [
        {
         "name": "index",
         "rawType": "int64",
         "type": "integer"
        },
        {
         "name": "title",
         "rawType": "object",
         "type": "string"
        },
        {
         "name": "synopsis",
         "rawType": "object",
         "type": "string"
        },
        {
         "name": "genres",
         "rawType": "object",
         "type": "string"
        },
        {
         "name": "index",
         "rawType": "int64",
         "type": "integer"
        }
       ],
       "conversionMethod": "pd.DataFrame",
       "ref": "1ffe3a61-a2c2-48f5-b3b3-586de250f45b",
       "rows": [
        [
         "0",
         "Sabaku no Kaizoku! Captain Kuppa",
         "Sometime in the future, the world was completely dried up and became all desert. They had little rivers and lakes left, which villians and dangerous animals lived. Water has become the most valueable thing on the world. Whoever can control water will rule over the world.  (Source: ANN)",
         "('Action', 'Adventure')",
         "1"
        ],
        [
         "1",
         "On Air Dekinai!",
         "Set in 2014, the anime follows the adventures of 23 years old Mafuneko, a newly minted assistant director who joins the TV production department at Tokyo Hajikko Television, only to discover that the glamorous and glitzy life of working behind-the-scenes making TV shows involves strange and inexplicable tasks such as \"gathering 300 acorns\" and \"making a mosaic out of the images reflected in the camera lens.\" Despite being surrounded by chaos, set-backs, and weirdos, Mafuneko struggles to become a fully-fledged TV producer.  (Source: Crunchyroll, edited)",
         "('Comedy',)",
         "2"
        ],
        [
         "2",
         "Panpaka Pants O-New!",
         "Follows a pig whose family's mission is to collect underpants.",
         "('Comedy', 'Kids')",
         "8"
        ],
        [
         "3",
         "Zhu Zhu Xia: Jing Qiu Xiao Yingxiong",
         "In honor of the 2018 World Cup, this season of GG Bond focuses on sports team competition, team spirit, and personal growth as they compete in the Meteor League.  ",
         "('Kids', 'Sci-Fi', 'Sports', 'Super Power')",
         "9"
        ],
        [
         "4",
         "Fuwafuwa Hour: Pui Pui & Muu Muu",
         "Fairies living in a fluffy forest, where both flowers and trees are fluffy. Follow a witch's trouble-maker apprentices Pui Pui and Muu Muu.",
         "('Fantasy', 'Kids')",
         "10"
        ],
        [
         "5",
         "Space Bug",
         "This story is about Mick, a sleeping chironomid. Insects are taken up into space for use in experiments by humans. An epic space adventure of Mick and his friends of their journey back home to Earth. The development plans and experiments are aborted by humans for no known reason, the organisms are left behind in the space station with limited resources. Going over hurdles and fighting through challenges, together, they travel across planets and gain new comrades, heading for Earth. As their journey progresses, the mystery behind the human’s abandonment unravels…  (Source: Crunchyroll)",
         "('Adventure', 'Other')",
         "11"
        ],
        [
         "6",
         "Bakujuu Gasshin Ziguru Hazeru",
         "The anime is based on MegaHouse's line of Ziguru Hazeru (literally, \"Jiggle and Pop Out\") mecha toys that allow people to remove parts from the joints and add different parts in their place. In addition, if one combines together Hazeru Gokuu, Hazeru Sagojo, and Hazeru Hakkai, the resulting mecha will be Hazeru Seioh, allowing for users to combine their toys together.  The ZIGURUHAZERU animated series is based on the upcoming original toy line of the same name from MegaHouse, featuring cool robot toys modelled after characters from the famous Journey to the West tale.",
         "('Action', 'Mecha')",
         "13"
        ],
        [
         "7",
         "Fuwa no go renkan",
         "Fuwa Beibei encounters the severely injured goddess, Athena. In order to help Athena regain strength, Beibei sets out to find a mysterious wooden box left by Coubertin in 1894, but the worrying thing is that Pixiu who injured his stomach from his glutinous eating habits heard this news too. He thought that this mysterious energy could not only cure his stomach, but also improve his magic, and such begins the journey through time and space of two spirits with different aims. After all the hardships, they found the sixth son of the dragon - Bixi, and after the two's efforts in passing his test, Bixi carries them along 100 years of Olympic history.",
         "('Historical',)",
         "15"
        ],
        [
         "8",
         "Norimono Man: Mobile Land no Car-kun",
         "The anime will depict various vehicles as characters in the \"Mobile Land\" island. The protagonist Car-kun arrives at the island as a delivery worker. Through his deliveries, he gets to know the residents of Mobile Land, all while following traffic rules and having his deliveries stopped by the meddling Sabibi.  (Source: ANN)",
         "('Comedy', 'Kids', 'Other', 'Slice of Life')",
         "16"
        ],
        [
         "9",
         "Chuldong! Super Wings",
         "follows the adventures of an adorable jet plane named Jett who travels around the world delivering packages to children. On every delivery, Jett encounters new problems that he must solve with the help of his friends the \"Super Wings\": Dizzy, Jerome and Donnie. Together, the team explores different countries and learns the diversity of new cultures.  (Source: Official YouTube channel)",
         "('Adventure', 'Kids', 'Other')",
         "25"
        ],
        [
         "10",
         "Uwabaki Cook no Tekitou Uranai!",
         "A collaboration shorts that aired as part of Yomiuri TV's morning program block.",
         "('Comedy',)",
         "27"
        ],
        [
         "11",
         "Isekai Shoukan wa Nidome desu",
         "There was once a man who was summoned to another world, and saved it. Of course, he became too popular there, and turned into an isekai-normie. However, that man fell into a \"trap\" and was forcibly returned to his original world. Moreover, he had to start over as a baby!  This is the story of the way-too-fantastic ex-hero who lived as a gloomy high-schooler, as he gets summoned once again to that same other world in a very unexpected development!  (Source: Coolmic, edited)",
         "('Action', 'Adventure', 'Comedy', 'Fantasy', 'Harem', 'Romance')",
         "29"
        ],
        [
         "12",
         "Poccolies",
         "The 2018 LINE sticker set Poccolies is inspiring a series of anime shorts. The story of the sticker set is that a positive and honest boy named Patsuhiko lives on Pokkori Island, along with the shrewd and mysterious Ham, and a reliable older brother figure named Kangaroo. The sticker set follows their daily lives.  (Source: ANN)",
         "('Kids', 'Slice of Life')",
         "34"
        ],
        [
         "13",
         "Kamiusagi Rope: Warau Asa ni wa Fukuraitaru tte Maji ssuka!?",
         "Fourth season of Kamiusagi Rope, events occur after the feature film. Airs on Mezamashi TV instead of the theaters.",
         "('Comedy', 'Slice of Life')",
         "41"
        ],
        [
         "14",
         "Telemonster",
         "Korean Animation about the monsters Eerie, Rock-G, Popo, and Yossi and the adventures they go on each day!",
         "('Adventure',)",
         "44"
        ],
        [
         "15",
         "Neko no Nyagh: Nya Misérables",
         "TV adaptation of Cocone Corporation's mobile puzzle game app.  Discover the adventures of the cat painter, Vincent van Meowogh who lives in a mansion in Paris surrounded by his quirky friends. Let's give him a spark of inspiration for his painting by completing puzzle stages, buy back the furniture and restore his home to its former glory!  (Source: ANN)",
         "('Kids', 'Other')",
         "47"
        ],
        [
         "16",
         "Paripi Koumei",
         "General of the Three Kingdoms, Kongming had struggled his whole life, facing countless battles that made him into the accomplished strategist he was. So on his deathbed, he wished only to be reborn into a peaceful world... and was sent straight to modern-day party-central, Tokyo! Can even a brilliant strategist like Kongming adapt to the wild beats and even wilder party people?!  (Source: Kodansha US, edited)",
         "('Comedy',)",
         "48"
        ],
        [
         "17",
         "Yofukashi no Uta",
         "Kou Yamori seems like a typical middle school student on the surface. Relatively good at studies and amiable with his classmates, he puts a lot of effort into maintaining this facade. One day, however, he decides to stop pretending and quits school, developing insomnia as a result of having no daytime outlet for his energy. When taking walks alone at night, he feels marginally better, though he is aware that his inability to sleep should be considered a serious problem.  On one such walk, Kou meets a weird girl, Nazuna Nanakusa, who diagnoses the cause of his sleeplessness: despite making changes in his life, he is still holding himself back from experiencing true freedom. She says that he won't be able to sleep unless he is satisfied with how he spends his waking hours. When it appears that she has resolved his current worries, Nazuna invites him back to her apartment to share her futon. After a while, unaware that he is only feigning unconsciousness, she leans over him—and bites his neck!  ",
         "('Other', 'Romance', 'Shounen', 'Supernatural')",
         "49"
        ],
        [
         "18",
         "Nananin no Ayakashi: Chimi Chimi Mouryou!! Gendai Monogatari",
         "This show consists of shorts starring 7 characters created and voiced by the voice actors of the variety show \"Seiyuu Danshi desu ga...?\". The anime will be a slapstick comedy that follows seven spirits that come to the modern world.  (Source: ANN)",
         "('Comedy', 'Supernatural')",
         "53"
        ],
        [
         "19",
         "Hello Jadoo",
         "Hello Jadoo is a South-Korean TV show about a girl named Choi Jadoo who is a very free-spirited girl. In every episode, she would always get into drama, whether it was with her parents or school. At the same time, she meets new people and she tries to solve problems occurring.",
         "('Slice of Life',)",
         "55"
        ],
        [
         "20",
         "Kami wa Game ni Ueteiru.",
         "The supreme Gods who had too much free time created the ultimate brain games \"Play of the Gods.\" Former Goddess Leche awoke from a long slumber and declared to the world, \"Bring forth the person who is the best in games in this era!\" Fay is nominated to represent humanity as the \"best rookie in recent years.\"  The \"Game of the Gods\" that is about to begin between the two may be a little too difficult, as there has yet to be a victor throughout human history, because Gods are capricious, very unreasonable, and sometimes completely incomprehensible. However, given the nature of the games, it would be a waste not to have a good time and play with all of one's heart! The ultimate brain battles of a genius gamer boy, a former Goddess, and friends begin!  (Source: MAL News)",
         "('Ecchi', 'Fantasy', 'Other')",
         "56"
        ],
        [
         "21",
         "Isekai Meikyuu de Harem wo",
         "Struggling with life and society, high school student Michio Kaga wanders about the Internet and lands on an odd website. The website, featuring a number of questions and a point based system, allows one to create skills and abilities for a character. Upon completing his character, Kaga was transported to a game-like fantasy world and reborn as a strong man who can claim idol-level girls. Thus begins the cheat and harem legend of a reborn man!  (Source: MAL News)",
         "('Action', 'Adventure', 'Fantasy', 'Harem', 'Romance')",
         "57"
        ],
        [
         "22",
         "Technoroid: Overmind",
         "Technoroid: Overmind is set in the Entertainment Tower Babel, a new hope found by those who have lost the joy of light as humanity's activities are restricted due to the large-scale climate change caused by the expanded sun. The anime depicts unique units and characters fighting for the top of Babel, pursuing emotions that move people and androids through performances.  (Source: MAL News)",
         "('Music',)",
         "58"
        ],
        [
         "23",
         "Mononogatari",
         "Tsukumogami—spirits or \"marebito\" can possess objects of considerable age and gain a physical form. Although he is part of the Saenome clan that is in charge of peacefully sending them back to their own world, Hyouma Kunato despises them because one took away what was very precious to him. In order to cure him of this loathing, Hyouma's grandfather sends him to live with Botan Nagatsuki, a girl who is the master of six \"friendly\" tsukumogami and lives with them as a family.  (Source: MU, edited)",
         "('Action', 'Seinen', 'Supernatural')",
         "62"
        ],
        [
         "24",
         "Mon Cheri CoCo",
         "A young woman aims to become a famous fashion designer.  (Source: AniDB)",
         "('Romance', 'Shoujo')",
         "63"
        ],
        [
         "25",
         "Tensei shitara Ken Deshita",
         "The hero of Tensei shitara Ken deshita differs from your standard otherworldly protagonist in that he is reincarnated as a sword! Beginning his quest by spawning in the middle of a beast-ridden forest, he encounters an injured girl frantically fleeing for her life. Saving her from her assailants, the pair acquaint themselves, and the girl introduces herself as Fran. She bears a heavy past, having endured the enslavement and maltreatment of her tribe, the Black Cats.  As the hero is unable to remember the name from his past life, the young and tenacious Fran bestows him the name \"Shishou\" and becomes his wielder. Thereafter, Shishou and Fran become a formidable team, embarking on quests to liberate the oppressed and exact justice!  ",
         "('Action', 'Fantasy')",
         "74"
        ],
        [
         "26",
         "Tomodachi no Imouto ga Ore ni dake Uzai",
         "If a girl teases you, that means she likes you!  Unfortunately, Akiteru knows from experience that isn't the case. Because every girl he interacts with shows him nothing but scorn, and he's not scored a single date from it! Luckily, he's more concerned with securing a spot for him and his game-development buddies at his uncle's business.  But when his uncle throws him a condition that involves playing the part of his daughter's boyfriend, Akiteru has no choice but to take it. What will his best friend's sister Iroha, who bullies him relentlessly, think of the news?  (Source: J-Novel Club)",
         "('Comedy', 'Romance', 'School')",
         "75"
        ],
        [
         "27",
         "Xiao Hua Xian",
         "There is a mysterious power of the Holy Spirit hidden in the legendary continent of Labelle, and the way to get power is recorded in the book of flower, guard by numerous flower Fairy Kings,only the legendary magic ambassador is recognized to wake up the power, and use them to defeat evil. For this.The evil force,led by Jakarta,the Queen of Dark had start a war to the continent of Labelle.With the help of the Flower Goddess,Pupula and the tribe of gouring flower fairys, the fate of the continent of Labelle is linked with an Earth girl... Who is the legendary envoy XiaAnAn.  (Source: Magical Girl Wiki)",
         "('Kids',)",
         "76"
        ],
        [
         "28",
         "Chainsaw Man",
         "Denji has a simple dream—to live a happy and peaceful life, spending time with a girl he likes. This is a far cry from reality, however, as Denji is forced by the yakuza into killing devils in order to pay off his crushing debts. Using his pet devil Pochita as a weapon, he is ready to do anything for a bit of cash.  Unfortunately, he has outlived his usefulness and is murdered by a devil in contract with the yakuza. However, in an unexpected turn of events, Pochita merges with Denji's dead body and grants him the powers of a chainsaw devil. Now able to transform parts of his body into chainsaws, a revived Denji uses his new abilities to quickly and brutally dispatch his enemies. Catching the eye of the official devil hunters who arrive at the scene, he is offered work at the Public Safety Bureau as one of them. Now with the means to face even the toughest of enemies, Denji will stop at nothing to achieve his simple teenage dreams.  ",
         "('Action', 'Adventure', 'Demons', 'Shounen')",
         "79"
        ],
        [
         "29",
         "Capsule Boy",
         "6.5-centimeter tall Degirdians fall to Earth in their spacecraft while chasing fugitives. Their spaceship transforms into a capsule toy stand near a toy store and a human boy accidentally takes home one of the aliens thinking it's a capsule toy. They befriend a human boy and try to figure out a way to get home all while fighting off the evil alien.",
         "('Kids', 'Sci-Fi')",
         "81"
        ],
        [
         "30",
         "Catch! Tiniping",
         "revolves around mischievous creatures called Teenieping that like to enter people's minds, but their playful nature and magical powers can wreak havoc in their hosts' lives. When the Teenieping are set loose on Earth, Princess Romi of the Emotion Kingdom becomes an ordinary girl that has to turn into a magical girl to stop them, all while balancing her new civilian life as a worker for the Bakery Heartrose with her coworkers Ian, Kyle, and Jun.  (Source: Wikipedia)",
         "('Fantasy', 'Kids', 'School')",
         "84"
        ],
        [
         "31",
         "Zhu Zhu Xia: Konglong Riji",
         "A more educational season of GG Bond. This season is composed of 2 arcs, each arc has 52 episodes.  GG Bond works on cleaning up some fossils at the lab as they'll be used in a museum exhibit. He uses a fossil to create a data coin that is compatible with his special jet. This allows for him to travel back in time to the original animal (a T-Rex) the fossil was made of. While GG Bond is ecstatic to learn about dinosaurs in-person (as well as mine more accurate data for the data coin), he didn't quite realize the danger he'd be in. He successfully gets out of this sticky situation but there's still a lot more dinosaurs he needs to get information on.",
         "('Historical', 'Kids', 'Sci-Fi', 'Super Power')",
         "89"
        ],
        [
         "32",
         "Bocchi the Rock!",
         "Hitori Gotou is a high school girl who's starting to learn to play the guitar because she dreams of being in a band, but she's so shy that she hasn't made a single friend. However, her dream might come true after she meets Nijika Ijichi, a girl who plays drums and is looking for a new guitarist for her band.  (Source: MU, edited)",
         "('Comedy', 'Music', 'Slice of Life')",
         "93"
        ],
        [
         "33",
         "Chickip Dancers",
         "TV anime based on San-X's new series of mascot characters \"Chickip Dancers.\" The main characters in the anime will be the apprehensive but curious bone-in chicken Hone Chicken, and the dancing instructor frog Skip Gaeru, who travels by dancing.  (Source: ANN)",
         "('Slice of Life',)",
         "98"
        ],
        [
         "34",
         "Ongaku Sekai Ryokou",
         "Stop-motion animation using clay and puppets follows a musician and hit cat traveling the world and learning about music in different cultures while spreading their own songs.",
         "('Kids', 'Music')",
         "99"
        ],
        [
         "35",
         "Tian Xin Ge Ge",
         "A Chinese prince meets a regular civilian during his travels and quickly falls in love. They marry and have a daughter, but the prince is soon separated from them during a rebellion. Many years later, the prince has become emperor and locates his lost daughter. She comes to live with him, but unfortunately has picked up several unrefined habits during her times as a civilian.",
         "('Comedy', 'Historical', 'Kids')",
         "101"
        ],
        [
         "36",
         "Kemy",
         "is an animation series with some educational undertones targeting 5~7-year-old kids. The entire series is set against the backdrop of a supermarket. Viewing the animations, children will be able to imagine themselves in amidst all a supermarket has to offer. Children can join Kemy and his quest to figure out the answers to everyday questions. Buka and Chaka do not reprise their roles in this season.  (Source: korean-products.com)  ",
         "('Kids',)",
         "105"
        ],
        [
         "37",
         "Teikou Penguin",
         "Centers on a penguin who works in an abusive company and gripes about the difficulties of workplace life. The title is a play on the \"koutei penguin,\" the Japanese name for the emperor penguin.  (Source: ANN)",
         "('Other',)",
         "109"
        ],
        [
         "38",
         "Shin Bikkuriman",
         "No synopsis has been added for this series yet.   to update this information.",
         "('Comedy', 'Fantasy')",
         "111"
        ],
        [
         "39",
         "The Snack World (TV)",
         "In \"a certain era\" on \"a certain continent,\" banal things are happening. The construction of \"Large-Scale Leisure Facilities\" has demanded that all the villages are to be evicted. When these demands are denied, the village and its residents are obliterated. A boy named Chap once lived in tranquility, but that happiness soon came crumbling down. He decides to embark on a journey of revenge, but soon falls madly in love with the king's daughter, Princess Melora. In order to fulfill her selfish wishes, he gathers his friends in order to overcome the impossible.",
         "('Adventure', 'Comedy', 'Fantasy', 'Kids')",
         "115"
        ],
        [
         "40",
         "Shiawase Haitatsu Taneko",
         "The story centers around a cat who answers people's wishes and delivers happiness. (\"Tane\" and \"neko\" are the Japanese words for \"seed\" and \"cat,\" respectively.)  (Source: ANN)",
         "('Comedy',)",
         "118"
        ],
        [
         "41",
         "Otoppe",
         "The series follows a young girl named Shina who hopes to become the world's best DJ, and is interested in new sounds. Shina explores a mysterious world filled with Otoppe, strange creatures capable of unique sounds.",
         "('Fantasy', 'Kids', 'Music')",
         "119"
        ],
        [
         "42",
         "Susume! Dokan-kun",
         "The second season of the franchise. It aired within the \"Fight Tension☆School\" variety program.",
         "('Comedy', 'Mecha')",
         "126"
        ],
        [
         "43",
         "Kirakira Shougakusei Celeb-chan",
         "Shorts that aired within \"Fight Tension☆Depart,\" a variety program that originally aired the anime as one of its segments. Celeb-chan is a narcissistic school girl who believes that she is a celebrity because her family is incredibly wealthy. She tries to do typical rich people things such as starting her own heavy makeup line, becoming a singer, saving an endangered species, buying a teacup poodle, etc. The results are never how she expects it.",
         "('Comedy', 'Parody')",
         "128"
        ],
        [
         "44",
         "Shima Kousaku no Asia Risshi-den",
         "How did Asia's most prominent entrepreneurs know when to grasp opportunities? And how did they overcome difficulties and attain their positions of power? This series uses the unconventional technique of blending actual documentary footage with CG animation to get a close-up look into the front lines and what lies behind the scenes of Asian business.  Our cartoon host is Shima Kosaku, a character from a popular Japanese business manga. He delves into the heart of the Asian economic market representing 4 billion people, to visit entrepreneurs who have survived turbulent times. Thai business magnate, Dhanin Chearavanont (Chairman of CP Group), and innovative Taiwanese semiconductor entrepreneur, Morris Chang (Chairman of TSMC), are among the many movers and shakers to be featured. Don't miss this opportunity to glimpse the dramatic lives of these media-shy business titans.  (Source: Official Site)",
         "('Drama', 'Seinen')",
         "132"
        ],
        [
         "45",
         "Usagi no Matthew",
         "The story centers on Matthew, a daydreaming worrywart of a rabbit. Matthew also has two friends: Keron, a pessimistic frog who is fond of good-luck charms; and Ham, a hamster of few words and who moves through life at his own pace. The story follows the three animals' everyday lives within a mysterious forest.  (Source: ANN)",
         "('Slice of Life',)",
         "133"
        ],
        [
         "46",
         "Skip to Loafer",
         "Excellent student Iwakura Mitsumi has always dreamt about leaving her small town, going to a prestigious university, and making positive change in the world. But she's so focused on reaching her goals that she's not prepared for the very different (and overwhelming) city life that awaits her in a Tokyo high school. Luckily, she makes fast friends with Shima Sousuke, a handsome classmate who's as laid-back as she is over-prepared. Can this naive country girl make it big in Tokyo with Sousuke by her side?  (Source: Seven Seas Entertainment)",
         "('School', 'Seinen', 'Slice of Life')",
         "137"
        ],
        [
         "47",
         "Healer Girl",
         "The story will follow four girls who seek to use their songs to heal and soothe the people of their world. The tagline reads, \"Kindhearted, powerful songs heal the world. These are beautiful miracles sung by humanity.\"  (Source: MAL Source)",
         "('Music',)",
         "139"
        ],
        [
         "48",
         "Turning Mecard W: Vandyne-ui Bimil",
         "It follows the fan favorite character Vandyne as his hidden secrets are revealed. Unlike the reboot, which exclusively uses 3DCG visuals, this series is like the earlier entries and is animated with 2D and 3D visuals.  The mini-series is part of a new promotional campaign from Sono Kong. The Korean toy manufacturer will launch four new mechanimals this month at retail.  (Source: toonbarn.com)",
         "('Adventure', 'Kids', 'Mecha', 'Other')",
         "140"
        ],
        [
         "49",
         "Shuukan Storyland",
         "This was an anthology program containing several different anime each week along with some non-animated segments. Several of the animated films were short series including: Nazo no Rouba [謎の老婆] (tvss), Meibugyou Bun-san [名奉行・文さん], Jo Keibu Jinguuji Youko [女警部・神宮寺葉子], Remon Suzumori's Soudanjo [鈴森なんでも相談所].  (Source: animated-divots.net)",
         "('Comedy', 'Drama', 'Seinen', 'Slice of Life')",
         "141"
        ]
       ],
       "shape": {
        "columns": 4,
        "rows": 9200
       }
      },
      "text/html": [
       "<div>\n",
       "<style scoped>\n",
       "    .dataframe tbody tr th:only-of-type {\n",
       "        vertical-align: middle;\n",
       "    }\n",
       "\n",
       "    .dataframe tbody tr th {\n",
       "        vertical-align: top;\n",
       "    }\n",
       "\n",
       "    .dataframe thead th {\n",
       "        text-align: right;\n",
       "    }\n",
       "</style>\n",
       "<table border=\"1\" class=\"dataframe\">\n",
       "  <thead>\n",
       "    <tr style=\"text-align: right;\">\n",
       "      <th></th>\n",
       "      <th>title</th>\n",
       "      <th>synopsis</th>\n",
       "      <th>genres</th>\n",
       "      <th>index</th>\n",
       "    </tr>\n",
       "  </thead>\n",
       "  <tbody>\n",
       "    <tr>\n",
       "      <th>0</th>\n",
       "      <td>Sabaku no Kaizoku! Captain Kuppa</td>\n",
       "      <td>Sometime in the future, the world was complete...</td>\n",
       "      <td>('Action', 'Adventure')</td>\n",
       "      <td>1</td>\n",
       "    </tr>\n",
       "    <tr>\n",
       "      <th>1</th>\n",
       "      <td>On Air Dekinai!</td>\n",
       "      <td>Set in 2014, the anime follows the adventures ...</td>\n",
       "      <td>('Comedy',)</td>\n",
       "      <td>2</td>\n",
       "    </tr>\n",
       "    <tr>\n",
       "      <th>2</th>\n",
       "      <td>Panpaka Pants O-New!</td>\n",
       "      <td>Follows a pig whose family's mission is to col...</td>\n",
       "      <td>('Comedy', 'Kids')</td>\n",
       "      <td>8</td>\n",
       "    </tr>\n",
       "    <tr>\n",
       "      <th>3</th>\n",
       "      <td>Zhu Zhu Xia: Jing Qiu Xiao Yingxiong</td>\n",
       "      <td>In honor of the 2018 World Cup, this season of...</td>\n",
       "      <td>('Kids', 'Sci-Fi', 'Sports', 'Super Power')</td>\n",
       "      <td>9</td>\n",
       "    </tr>\n",
       "    <tr>\n",
       "      <th>4</th>\n",
       "      <td>Fuwafuwa Hour: Pui Pui &amp; Muu Muu</td>\n",
       "      <td>Fairies living in a fluffy forest, where both ...</td>\n",
       "      <td>('Fantasy', 'Kids')</td>\n",
       "      <td>10</td>\n",
       "    </tr>\n",
       "    <tr>\n",
       "      <th>...</th>\n",
       "      <td>...</td>\n",
       "      <td>...</td>\n",
       "      <td>...</td>\n",
       "      <td>...</td>\n",
       "    </tr>\n",
       "    <tr>\n",
       "      <th>9195</th>\n",
       "      <td>Naruto: Dai Katsugeki!! Yuki Hime Shinobu Houj...</td>\n",
       "      <td>The Konohagakure Grand Sports Festival has beg...</td>\n",
       "      <td>('Action', 'Comedy', 'Fantasy', 'Other', 'Shou...</td>\n",
       "      <td>13373</td>\n",
       "    </tr>\n",
       "    <tr>\n",
       "      <th>9196</th>\n",
       "      <td>Grisaia no Meikyuu: Caprice no Mayu 0 - Takizo...</td>\n",
       "      <td>Special bundled with the Blu-ray/DVD volume of .</td>\n",
       "      <td>('Ecchi',)</td>\n",
       "      <td>13375</td>\n",
       "    </tr>\n",
       "    <tr>\n",
       "      <th>9197</th>\n",
       "      <td>Bikini Warriors Special</td>\n",
       "      <td>According to the official Hobby Japan website,...</td>\n",
       "      <td>('Comedy', 'Ecchi', 'Fantasy', 'Parody')</td>\n",
       "      <td>13376</td>\n",
       "    </tr>\n",
       "    <tr>\n",
       "      <th>9198</th>\n",
       "      <td>Re:Zero kara Hajimeru Break Time</td>\n",
       "      <td>A series of comedic shorts featuring chibi ver...</td>\n",
       "      <td>('Adventure', 'Comedy', 'Fantasy', 'Parody')</td>\n",
       "      <td>13377</td>\n",
       "    </tr>\n",
       "    <tr>\n",
       "      <th>9199</th>\n",
       "      <td>Himouto! Umaru-chanS</td>\n",
       "      <td>These shorts, included in the Blu-ray and DVD ...</td>\n",
       "      <td>('Comedy', 'Seinen', 'Slice of Life')</td>\n",
       "      <td>13378</td>\n",
       "    </tr>\n",
       "  </tbody>\n",
       "</table>\n",
       "<p>9200 rows × 4 columns</p>\n",
       "</div>"
      ],
      "text/plain": [
       "                                                  title  \\\n",
       "0                      Sabaku no Kaizoku! Captain Kuppa   \n",
       "1                                       On Air Dekinai!   \n",
       "2                                  Panpaka Pants O-New!   \n",
       "3                  Zhu Zhu Xia: Jing Qiu Xiao Yingxiong   \n",
       "4                      Fuwafuwa Hour: Pui Pui & Muu Muu   \n",
       "...                                                 ...   \n",
       "9195  Naruto: Dai Katsugeki!! Yuki Hime Shinobu Houj...   \n",
       "9196  Grisaia no Meikyuu: Caprice no Mayu 0 - Takizo...   \n",
       "9197                            Bikini Warriors Special   \n",
       "9198                   Re:Zero kara Hajimeru Break Time   \n",
       "9199                               Himouto! Umaru-chanS   \n",
       "\n",
       "                                               synopsis  \\\n",
       "0     Sometime in the future, the world was complete...   \n",
       "1     Set in 2014, the anime follows the adventures ...   \n",
       "2     Follows a pig whose family's mission is to col...   \n",
       "3     In honor of the 2018 World Cup, this season of...   \n",
       "4     Fairies living in a fluffy forest, where both ...   \n",
       "...                                                 ...   \n",
       "9195  The Konohagakure Grand Sports Festival has beg...   \n",
       "9196   Special bundled with the Blu-ray/DVD volume of .   \n",
       "9197  According to the official Hobby Japan website,...   \n",
       "9198  A series of comedic shorts featuring chibi ver...   \n",
       "9199  These shorts, included in the Blu-ray and DVD ...   \n",
       "\n",
       "                                                 genres  index  \n",
       "0                               ('Action', 'Adventure')      1  \n",
       "1                                           ('Comedy',)      2  \n",
       "2                                    ('Comedy', 'Kids')      8  \n",
       "3           ('Kids', 'Sci-Fi', 'Sports', 'Super Power')      9  \n",
       "4                                   ('Fantasy', 'Kids')     10  \n",
       "...                                                 ...    ...  \n",
       "9195  ('Action', 'Comedy', 'Fantasy', 'Other', 'Shou...  13373  \n",
       "9196                                         ('Ecchi',)  13375  \n",
       "9197           ('Comedy', 'Ecchi', 'Fantasy', 'Parody')  13376  \n",
       "9198       ('Adventure', 'Comedy', 'Fantasy', 'Parody')  13377  \n",
       "9199              ('Comedy', 'Seinen', 'Slice of Life')  13378  \n",
       "\n",
       "[9200 rows x 4 columns]"
      ]
     },
     "metadata": {},
     "output_type": "display_data"
    },
    {
     "data": {
      "application/vnd.microsoft.datawrangler.viewer.v0+json": {
       "columns": [
        {
         "name": "index",
         "rawType": "int64",
         "type": "integer"
        },
        {
         "name": "title",
         "rawType": "object",
         "type": "string"
        },
        {
         "name": "synopsis",
         "rawType": "object",
         "type": "string"
        },
        {
         "name": "genres",
         "rawType": "object",
         "type": "string"
        },
        {
         "name": "index",
         "rawType": "int64",
         "type": "integer"
        }
       ],
       "conversionMethod": "pd.DataFrame",
       "ref": "70865512-b449-4855-ad12-f6baeea27ed7",
       "rows": [
        [
         "0",
         "Touma Kishinden Oni",
         "Shuramaru is hated and feared by the villagers for his unusual powers. He thinks he is human, but... is he?  (Source: AniDB)",
         "('Supernatural',)",
         "0"
        ],
        [
         "1",
         "RPG Fudousan",
         "The story begins 15 years after the demon king was defeated and the world has become peaceful. Kotone, who graduated from school and became a magician, inquired about the kingdom-affiliated RPG Real Estate in order to find a new home. In reality, RPG Real Estate was Kotone's place of employment, and together with Fa, a demi-human, the priest Rufuria, and the soldier Rakira, they help support the searches of new homes for the customers with various circumstances.  (Source: MU, edited)",
         "('Comedy', 'Fantasy', 'Slice of Life')",
         "20"
        ],
        [
         "2",
         "Totsugeki! Pappara-tai",
         "An elite soldier, whose nickname is God of Death, is transferred to another unit known as the PaPaRa Army. The PaPaRa Army is infamous for its elite but hilariously crazy members. There is no plot to speak of other than humour, hilarious brutality, and general nonsense. This is also Matsuzawa-sensei's debut work.",
         "('Action', 'Adventure', 'Comedy', 'Romance', 'Sci-Fi')",
         "31"
        ],
        [
         "3",
         "Chi-Sui Maru",
         "The offensive and defensive battles between Nobuo, an office worker, and Chi-Sui Maru, a mosquito.",
         "('Comedy',)",
         "43"
        ],
        [
         "4",
         "Love All Play",
         "Ryou Mizushima enrolls in junior high and joins the badminton club with great vigor. Although the club didn't have a proper coach, Mizushima improved his skills with his own physical strength by the time he participated in the prefectural tournament. Afterwards, he is approached by the Yokohama Minato High School's badminton coach, Ebihara.  Indecisive and timid, Mizushima hesitates to attend such a prestigious school. However, with his elder sister Rika giving him a strong push, he decides to go to Yokohama Minato. Now blessed with a coach and idiosyncratic teammates, Mizushima will gain experience he's lacked till now, and aims to win the inter-high tournament.  (Source: MAL News)",
         "('Sports',)",
         "51"
        ],
        [
         "5",
         "Gifu no Tatekayoko",
         "The series revolves around life in Gifu Prefecture in central Japan — as seen through the eyes of Tatekayoko, a female inhabitant who speaks in the dialect of Gifu's Tounou region. The anime will air within the program on Tokyo MX.  (Source: ANN)",
         "('Comedy', 'Kids')",
         "59"
        ],
        [
         "6",
         "Ohayou Hakushon Daimaou",
         "The 3rd continuation of NTV's ZIP! anime parody shorts. This one focuses on . Like with the previous season, occasionally the Gatchaman team and now the Mazinger Z team show up in some episodes.",
         "('Comedy', 'Parody')",
         "64"
        ],
        [
         "7",
         "Capsule Boy 2: Ujuleul Jikyeola",
         "The second season of . SBS took over broadcasting the show. The art style has been changed for a more modern anime-esque appearance and some voice actors did not reprise their character's roles.",
         "('Kids', 'Sci-Fi')",
         "86"
        ],
        [
         "8",
         "Xia Lan",
         "When Nian Chi was a young child, his elder sister was kidnapped in front of him, while he could do nothing but watch, a thing that has tormented him for all these years. Now 10 years later, he's dead set on going to rescue his sister, and sets out.",
         "('Action', 'Adventure', 'Drama', 'Fantasy', 'Historical', 'Other', 'Supernatural')",
         "88"
        ],
        [
         "9",
         "Vazzrock The Animation",
         "The anime will follow two units from the Vazzrock series—Vazzy and Rock Down.",
         "('Music',)",
         "96"
        ],
        [
         "10",
         "Kanashiki Debu Neko-chan",
         "The anime's story centers on a cat named Maru, adopted by a girl named Anna from a shelter in Matsuyama city. Loved and well fed by the family, Maru gets rounder and fatter every day, spending most of his day sitting by the window and looking at the garden outside. When the family gets a new cat named Cerisier and begins doting on it, Maru gets jealous. In a fight with Cerisier, Maru is hurt by the family's words to him, and follows the advice of another cat to leave and see the world.  (Source: ANN)",
         "('Slice of Life',)",
         "97"
        ],
        [
         "11",
         "Yowamushi Monsters",
         "An NHK toddler's anime following cowardly creatures representing typical Halloween monsters like Dracula and a witch.",
         "('Kids',)",
         "100"
        ],
        [
         "12",
         "Huoli Shaonian Wang zhi Chuanqi Zaixian",
         "The 3rd animated season. It follows an entirely new story and new characters unrelated to the previous seasons. The previous seasons metaphorical usage of magic/spirit/chi to visualize yoyo battles has now become literal. The yoyo toys have spirit animals within them and the cast tries to return them to their world before the villains use them for evil purposes.  Leon has an argument with his classmate Gurido for trifle. At the advice of Catherine, Leon and Gurido decide to judge the victory or defeat through yoyo competition. The Daemon Tiger appears when Leon and Gurido begin to fight in the woods. Leon follows Daemon Tiger and work with it. With Daemon Tiger’s help, Leon defeats Gurido.  (Source: Official YouTube channel) ",
         "('Fantasy', 'Kids', 'Other')",
         "104"
        ],
        [
         "13",
         "Kami Kuzu☆Idol",
         "Yuuya, one half of the boy pop duo ZINGS, may be the laziest performer in the Japanese music industry. His partner is out there giving 110% every night (and, thankfully, he's quite popular), but Yuuya's half-assed, sloppy dancing, and his frankly hostile attitude toward the audience, has the fans hating him and his agent looking for any excuse to cut him loose. The career of a pop idol just isn't the path of easy leisure and adulation Yuuya expected...  After a particularly lifeless concert appearance, Yuuya meets a girl backstage. She's dressed to the nines in a colorful outfit, she's full of vim and vigor, and all she wants from life is to perform. There's just one problem: She's been dead for a year. This is the ghost of Asahi Mogami, the beloved singer whose time on the stage was tragically cut short, unless... If ghosts are real, is spirit possession really that much of a stretch?  (Source: Kodansha US) ",
         "('Comedy', 'Music', 'Other', 'Supernatural')",
         "107"
        ],
        [
         "14",
         "Sasurai-kun",
         "Based on the gag manga by Fujio A Fujiko.",
         "('Comedy', 'Slice of Life')",
         "108"
        ],
        [
         "15",
         "Nanatsu no Maken ga Shihai suru",
         "In the world of magic, there exist deadly irreversible techniques commonly known as spellblades. These sparse and elusive spells, along with their casters, are shrouded in mystery and only their absolute lethality is known to the masses.  Every year, the spring blossom signifies a new intake of students to the prestigious magic school Kimberly. With reactions of awe and bewilderment, a ceremonious parade complete with magical beasts welcomes the newcomers to the institution. Among them is the mysterious Oliver Horn, whose indifference changes to fascination as he notices a peculiar figure—a girl wearing strange attire equipped with a Japanese sword.  From the entrance ceremony onward, Oliver realizes that not all is as it seems at Kimberly, as the emergence of labyrinths, monsters, and other threats endanger the new student body. Nanatsu no Maken ga Shihai suru explores the intertwined fates of two warriors as they uncover the dark truths that lurk within the walls of the academy.  ",
         "('Action', 'Fantasy', 'School')",
         "122"
        ],
        [
         "16",
         "Kamiwaza Wanda",
         "The story is set in a world where every event has been turned into programs, and mysterious monsters known as \"Promin\" maintain the world. However, many Promin who have turned into bugs known as \"Bugmin\" are responsible for many of the world's real-life bugs. Left alone, they may eventually turn into a big problem. The boy Yuuto encounters the space dog Wanda, and the pair use a camera-like device and key items to capture Bugmin. Promin themselves are able to do things like \"accelerate objects,\" \"spew fire,\" or \"create objects,\" through an ability known as \"Kamiwaza\" (miracle), and are able to fend off Bugmin with it. At first, the Bugmin only cause small, bothersome things, but it will soon elevate into a global scale threat. Can one boy and one dog save the world?  (Source: ANN)",
         "('Kids', 'Sci-Fi')",
         "155"
        ],
        [
         "17",
         "Okashi na Sabaku no Suna to Manu",
         "The story centers on the everyday life of the cats Suna and Manu, who live in a desert — a desert made of sugar instead of sand.  (Source: ANN)",
         "('Comedy',)",
         "167"
        ],
        [
         "18",
         "Xiong Chumo: Chunri Dui Dui Peng",
         "Fourth season of .  Now that spring is in the air, the forest animals are back to frolicking amongst the freshly blooming flowers and busy at work planting new trees to add even more color to their luscious home. The bear brothers—Briar and Bramble, and all their friends are having a jolly great time basking in this colorful season; however, from time to time, they stumble across Logger Vick who will not give up. The bears, along with their little friends make it their mission to protect the forest. This always results in a lot of laughter, tears and of course, adventures aplenty!  (Source: Official website)",
         "('Adventure', 'Comedy', 'Kids')",
         "174"
        ],
        [
         "19",
         "Miniforce",
         "Cute yet mighty! Mini animal rangers transform into super power Force-Bot to save endangered friends! In the ruthless world of animals, big strong animals dominate and feed on the small and weak. To buck this natural system, small animals form a secret organization \"MINIFORCE.\" Rigidly selected mutants with special powers: Volt, Sammy, Lucy and Max become top secret rangers to save their small village Bluebell from the hand of human villain Nein and his underling lizard Pascal. Animals in danger? No problem! When Force-Gem alerts, it's time to get suit on! With Mini Force and their transforming mechanics, it’s time to sweep! (Source: Samg Animation)",
         "('Action', 'Adventure')",
         "181"
        ],
        [
         "20",
         "Yasamura Yasashi no Yasashii Sekai",
         "The series follows a mysterious but gentle-hearted man named Yasashi Yasamura who spreads warmth and human kindness wherever he goes.  (Source: Crunchyroll)",
         "('Comedy',)",
         "182"
        ],
        [
         "21",
         "Shijou Saikyou no Daimaou, Murabito A ni Tensei suru",
         "As the most powerful entity of all time, the Demon Lord Varvatos thinks life is a big fat snore. When he takes matters into his own hands and decides to reincarnate, he calibrates his magical strength to be perfectly average. But there is no way he could have predicted that everyone in the modern world would be weak as hell, which means he is totally overpowered once again! Reborn under the name Ard, he has ladies fawning over him, the royal family begging him to become the next king, and an ex-minion insisting on killing him?! But Ard has a one-track mind, and he won't stop at anything to achieve his ultimate goal!  (Source: Yen Press)",
         "('Action', 'Fantasy', 'School')",
         "192"
        ],
        [
         "22",
         "Taeko no Nichijou",
         "A short anime about Taeko Shinbou who is an office worker that is patient with everything and greets everything that comes her way with cheer. An announcement was made that a \"regular person\" from Kantou will voice Taeko rather than an industry professional.  (Source: ANN)",
         "('Slice of Life',)",
         "197"
        ],
        [
         "23",
         "Zettai Yareru Greece Shinwa",
         "Comedy show based on Greek myths about how perverted the gods are. ",
         "('Comedy', 'Ecchi')",
         "208"
        ],
        [
         "24",
         "Hanasaka Tenshi Tenten-kun",
         "A foolish clumsy angel came to the human world to help a very unlucky boy. But more accidents are then created...",
         "('Comedy', 'Fantasy')",
         "216"
        ],
        [
         "25",
         "Shachiku-san wa Youjo Yuurei ni Iyasaretai.",
         "A little ghost girl gets worries when Ms. Fushihara, a corporate slave, is working till midnight, and tries to make her go home. While saying \"Leave now~,\" the ghost girl helps and brings her refreshments, healing Ms. Fushihara's heart with her preciousness. Be healed by the heartwarming daily life of the cute little ghost and the corporate slave Ms. Fushihara.  (Source: MAL News)",
         "('Comedy', 'Shounen', 'Slice of Life', 'Supernatural')",
         "218"
        ],
        [
         "26",
         "Azumi Mamma★Mia",
         "A prospective witch, a kindergartener who acts like a middle aged, an innocent and incompetent pretty devil, and a genius dog which understands man's words presents a slapstick comedy.  (Source: Toei Animation)",
         "('Comedy', 'Kids')",
         "229"
        ],
        [
         "27",
         "Jungle Kurobee",
         "Urobe was a son of the great chief of Pyrimi, Africa. One day he hung on an airplane and came to Japan. Because of the cold and hunger, he fell on to the yard of Shishio’s house, and Shishio nursed him. Kurobe was very thankful for him and began to repay for his kindness. Kurobe dug a big hole in the yard.Every time he returns the favor, he threw a stone into the hole until stones would fill the hole.  (Source: ANN)",
         "('Comedy',)",
         "230"
        ],
        [
         "28",
         "Karakuri Kengou Den Musashi Lord",
         "It is the time of civil war. Zipangu is a country where people live together with gimmick warriors, a kind of super human robot. There, people and gimmick warriors struggle to seize power. Musashi, a Samurai gimmick warrior, departs to on a quest to become the best Samurai warrior. Musashi thrives in the series of battles, encountering with many heroes and villains including his lifelong rival, Kojiro, an expert swordsman.Later, Mushashi and Kojiro are sent by their General to escort the Princess, a granddaughter of the general. The princess is spoiled and difficult, so their journey becomes series of misadventures. Soon, they are caught up in a battle to seize control of the Country.",
         "('Action', 'Adventure', 'Mecha')",
         "237"
        ],
        [
         "29",
         "Beads no Mori no Rabi",
         "A stop-motion anime using beaded characters. Here a magician rabbits solve problems by using magic.",
         "('Kids',)",
         "239"
        ],
        [
         "30",
         "Jim Button",
         "Jim Button and his best friend Luke live on an island. When Luke has to leave the island Jim decides to go with him. when they leave they don't have a clue about the hidden dangers in the world. while traveling they learn that a young princess name Lisi was captured by pirates whom brought her to Sorrowland. The evil and dangerous dragon miss. Grindtooth rules in that land. Jim and Luke decide to go to Sorrowland to save princess Lisi.",
         "('Adventure', 'Fantasy', 'Kids')",
         "241"
        ],
        [
         "31",
         "KutsuDaru.",
         "In a Tokyo suburb small town, there lives a girl named Nekota Kaoru. Being born into a normal family, being raised in a normal way, this spring she'll become a normal happy middle-schooler.  However, since young age, Nekota had an abnormal ability to see Imadoki youkai (Modern Monster). And she has kept it a secret from others...",
         "('Fantasy', 'Kids', 'School', 'Slice of Life')",
         "244"
        ],
        [
         "32",
         "Taeng-gu & Ulasyong",
         "The series follows a boy named Tangoo and a robot named Ullashong.",
         "('Action', 'Comedy', 'Mecha')",
         "251"
        ],
        [
         "33",
         "Youkaiden Nekome Kozou",
         "The story is told by the cat-eyed boy, hated by humans and demons, who engages in tales of terror, including monsters and children.",
         "('Adventure', 'Horror', 'Other', 'Seinen', 'Supernatural')",
         "259"
        ],
        [
         "34",
         "Fuuto Tantei",
         "In the city of Fuuto, criminals make use of USB-like devices called \"Gaia Memories\" to turn themselves into superpowered monsters known as \"Dopants,\" wreaking havoc in the otherwise peaceful city. However, there are also heroes who utilize the Gaia Memories to fight these criminals, one of whom is the self-proclaimed, hard-boiled detective Shoutarou Hidari. With the help of his witty partner Philip, the two transform into Kamen Rider W—the legendary hero of Fuuto city.  After the fall of Museum—the evil organisation responsible for many crimes in Fuuto—the production and distribution of Gaia Memories has halted. However, remnants of Gaia Memories still remain within society and are sold in the black market at high prices. Thus, the two heroes from Narumi Detective Agency are yet to have time to relax. Sights of Dopants still occur and the agency receives more and more clients who claim to experience supernatural phenomena.  Regardless of the arduous nature of the task, Kamen Rider W promises that those who hurt Fuuto will inevitably count up their sins.  ",
         "('Action', 'Drama', 'Mystery', 'Other', 'Seinen', 'Supernatural')",
         "261"
        ],
        [
         "35",
         "Asa Da yo! Kaishain",
         "The series follows a variety of employed shellfish who exhibit selfish or odd personality traits.  (Source: LiveChart)",
         "('Comedy',)",
         "265"
        ],
        [
         "36",
         "Zo Zo Zo Zombie-kun (TV)",
         "A gag comedy aimed at young children featuring Zombie-kun, a child zombie, and his interactions with the world. It's not intended to be scary in the slightest, but rather, it focuses on the comical and bizarre things Zombie-kun's body can do, and the common-sense-defying way Zombie-kun behaves. For example, he'll take out his stomach and inflate it with air to use as a pillow, or if he gets wet, he'll detach parts of his body and wring them out like towels, then reattach them with a glue stick. Everything is depicted in a cute, cartoony fashion so as not to be too graphic for kids.  (Source: Baka-Updates)",
         "('Comedy', 'Kids')",
         "271"
        ],
        [
         "37",
         "The Legend of Huainanzi",
         "During the ancient Western Han dynasty (206BC-9AD), a series of disasters caused by occult phenomena swept across the entire world. Huainanzi, the mysterious Chinese book bound in bamboo, was ripped apart and sent through time to different historical junctures. The book pieces were transformed into various objects, waiting to be rediscovered. A hundred years later, a young man, named Hong Lie, lifts up the burden to collect the missing pieces of the ancient bamboo book. With the help of Ba Gong and his friends going through the Gate of 24 Solar Terms, Hong Lie travels through dynasties to search for the lost pieces. In his adventure, Hong Lie and his loyal friends, Ji Ming and Gou Tiao, experienced the greatness of the ancient legends, appreciating the wisdom of the ancestors from Chun Qiu Period, and witnessed all the weird things happening among ordinary people. Warmth and coldness, sadness and happiness, separation and reunion, stories led him to the great world in the book Huainanzi. Through exciting adventures, he also made lifelong friends. In this special way, Hong Lie communicated with ancestors and started to see the principle of world, realizing that obeying the laws of nature and being in harmony with the environment was the right thing to do. A simple collecting journey slowly became a challenging trip for him to go on with his family mission, and inherit the ancestor’s spirit. (Source: Wikipedia)",
         "('Adventure', 'Fantasy', 'Historical')",
         "272"
        ],
        [
         "38",
         "Boo Boo Boy",
         "A young boy has adventures with his transforming car.",
         "('Kids', 'Other')",
         "276"
        ],
        [
         "39",
         "Futoku no Guild",
         "Kikuru Madan, is a monster hunter with excellent performance, because of his particular job in the forest, but he decided to quit it because of fear wasting his own youth...  (Source: LHTranslation)",
         "('Comedy', 'Ecchi', 'Fantasy', 'Harem', 'Shounen')",
         "281"
        ],
        [
         "40",
         "Norakuro",
         "Norakuro is a black dog enlisted in the \"Mokenrentai\" (Fierce Dog Brigade), an Imperial army of dogs fighting in a war against the enemy Monkey Army.  Norakuro is a stray black-and-white dog in an army of white dogs who blundered his way while being a Private Second-Class.  This serieswas relatively faithful to the comics. One big change, however, was the addition of the army nurse Miko, whom Norakuro had a crush on. For this series, Norakuro was voiced by Nobuyo Ooyama, who would later become noted for voicing Doraemon.  (Source: Cartoon Research)",
         "('Comedy',)",
         "282"
        ],
        [
         "41",
         "Chikkun Takkun",
         "The \"Waruchin Ceremony\" has been stolen from All Star, a planet that exists in the outskirts of space. The computer that is built into it is programmed to make anything possible. The thief is actually the villain, Doctor Bell. Doctor Bell schemes to invade the other planets through the use of Waruchin. The prince of All Star, Prince Chikkun, together with his trusty advisor, the intellectual Takkun, decides to head towards Earth in pursuit of Doctor Bell.  (Source: ANN)",
         "('Comedy', 'Sci-Fi')",
         "293"
        ],
        [
         "42",
         "PJ Berri no Mogumogu Munyamunya Season 2",
         "The second season of . Its broadcast will be in the same timeslot as the re-airing of the original 2001 anime on Fuji TV.",
         "('Comedy',)",
         "304"
        ],
        [
         "43",
         "Zhu Zhu Xia: Meng Xiang Shou Wei Zhe",
         "G.G. Bonds enters the realm of dreams to stop evil's power from growing. They must get the citizens of Crystal City to remember their dreams so that the 5 element powers can recharge.",
         "('Kids', 'Sci-Fi', 'Super Power')",
         "319"
        ],
        [
         "44",
         "Uchuu Nanchara Kotetsu-kun",
         "It follows the daily life of Kotetsu-kun, who aspires to be an astronaut, and friends at the Animal Space Academy as they all pursue their dreams.  (Source: ANN)",
         "('Comedy', 'Other')",
         "324"
        ],
        [
         "45",
         "Shisukon Ouji",
         "Based on a manga by Fujiko (A) Fujio and Fujiko (F) Fujio.",
         "('Adventure',)",
         "326"
        ],
        [
         "46",
         "Sore Ike! Zukkoke Sannin-gumi",
         "Based on Nasu Masamoto's Zukkoke Sannin-gumi juvenile novels series.  The main characters are 6 grade boys, Hachibei, Hakase, and Mo-chan. This anime shows their adventures.  (Source: AnimeNfo)",
         "('Comedy', 'Kids', 'School')",
         "328"
        ],
        [
         "47",
         "Karl to Fushigi na Tou",
         "The story centers around a mysterious tall tower built from an (unsteady) stack of building blocks. Every morning, noon, and evening, an old timekeeping man rings the bell in the tower to confirm the time for the local townspeople. However, one day at noon, the tower bell fails to ring — leaving the townspeople confused about when to eat lunch. The fantasy adventure begins when Karl, an inquisitive boy living in the town, decides to go to the tower's plaza to see what is the matter.  (Source: ANN)",
         "('Adventure', 'Fantasy', 'Kids', 'Mystery')",
         "333"
        ],
        [
         "48",
         "Kumichou Musume to Sewagakari",
         "WHO'S YOUR NANNY?  Tooru Kirishima is the right-hand man of the Sakuragi crime family. For him, the job is a perfect excuse to let his violent instincts run wild, earning him the nickname \"The Demon of Sakuragi.\" It seems like nothing will stand in the way of his vicious nature. But then one day, he receives an assignment like never before from the boss—babysitting his daughter!  This is the heartwarming (or is it bloodcurdling?) story of a little girl and her yakuza caretaker!  (Source: Kaiten Books, edited)",
         "('Comedy', 'Slice of Life')",
         "337"
        ],
        [
         "49",
         "Uchi no Shishou wa Shippo ga Nai",
         "Mameda is a shapeshifting Tanuki girl who dreams of becoming human someday. One day, she turns into a black-haired beauty and heads out to Osaka, but is soon discovered! One beautiful woman relentlessly says to the depressed Mameda, \"Go back to where you came from!\" calls herself Rakugo-ka (Rakugo storyteller). The Taisho Rakugo fantasy that will make you smile begins here!  (Source: MAL News)",
         "('Historical', 'Seinen', 'Supernatural')",
         "339"
        ]
       ],
       "shape": {
        "columns": 4,
        "rows": 1113
       }
      },
      "text/html": [
       "<div>\n",
       "<style scoped>\n",
       "    .dataframe tbody tr th:only-of-type {\n",
       "        vertical-align: middle;\n",
       "    }\n",
       "\n",
       "    .dataframe tbody tr th {\n",
       "        vertical-align: top;\n",
       "    }\n",
       "\n",
       "    .dataframe thead th {\n",
       "        text-align: right;\n",
       "    }\n",
       "</style>\n",
       "<table border=\"1\" class=\"dataframe\">\n",
       "  <thead>\n",
       "    <tr style=\"text-align: right;\">\n",
       "      <th></th>\n",
       "      <th>title</th>\n",
       "      <th>synopsis</th>\n",
       "      <th>genres</th>\n",
       "      <th>index</th>\n",
       "    </tr>\n",
       "  </thead>\n",
       "  <tbody>\n",
       "    <tr>\n",
       "      <th>0</th>\n",
       "      <td>Touma Kishinden Oni</td>\n",
       "      <td>Shuramaru is hated and feared by the villagers...</td>\n",
       "      <td>('Supernatural',)</td>\n",
       "      <td>0</td>\n",
       "    </tr>\n",
       "    <tr>\n",
       "      <th>1</th>\n",
       "      <td>RPG Fudousan</td>\n",
       "      <td>The story begins 15 years after the demon king...</td>\n",
       "      <td>('Comedy', 'Fantasy', 'Slice of Life')</td>\n",
       "      <td>20</td>\n",
       "    </tr>\n",
       "    <tr>\n",
       "      <th>2</th>\n",
       "      <td>Totsugeki! Pappara-tai</td>\n",
       "      <td>An elite soldier, whose nickname is God of Dea...</td>\n",
       "      <td>('Action', 'Adventure', 'Comedy', 'Romance', '...</td>\n",
       "      <td>31</td>\n",
       "    </tr>\n",
       "    <tr>\n",
       "      <th>3</th>\n",
       "      <td>Chi-Sui Maru</td>\n",
       "      <td>The offensive and defensive battles between No...</td>\n",
       "      <td>('Comedy',)</td>\n",
       "      <td>43</td>\n",
       "    </tr>\n",
       "    <tr>\n",
       "      <th>4</th>\n",
       "      <td>Love All Play</td>\n",
       "      <td>Ryou Mizushima enrolls in junior high and join...</td>\n",
       "      <td>('Sports',)</td>\n",
       "      <td>51</td>\n",
       "    </tr>\n",
       "    <tr>\n",
       "      <th>...</th>\n",
       "      <td>...</td>\n",
       "      <td>...</td>\n",
       "      <td>...</td>\n",
       "      <td>...</td>\n",
       "    </tr>\n",
       "    <tr>\n",
       "      <th>1108</th>\n",
       "      <td>Zekkyou Gakkyuu</td>\n",
       "      <td>Three episodes aired on TV as part of the Ribo...</td>\n",
       "      <td>('Shoujo', 'Supernatural')</td>\n",
       "      <td>13115</td>\n",
       "    </tr>\n",
       "    <tr>\n",
       "      <th>1109</th>\n",
       "      <td>Kyoukai no Kanata: Mini Gekijou</td>\n",
       "      <td>Short mini-theater specials included in the BD...</td>\n",
       "      <td>('Slice of Life', 'Supernatural')</td>\n",
       "      <td>13142</td>\n",
       "    </tr>\n",
       "    <tr>\n",
       "      <th>1110</th>\n",
       "      <td>Sugar*Soldier</td>\n",
       "      <td>Three episodes aired on TV as part of the Ribo...</td>\n",
       "      <td>('Shoujo',)</td>\n",
       "      <td>13264</td>\n",
       "    </tr>\n",
       "    <tr>\n",
       "      <th>1111</th>\n",
       "      <td>Cross Road</td>\n",
       "      <td>As college entrance examinations draw near, tw...</td>\n",
       "      <td>('School', 'Slice of Life')</td>\n",
       "      <td>13276</td>\n",
       "    </tr>\n",
       "    <tr>\n",
       "      <th>1112</th>\n",
       "      <td>Romantica Clock</td>\n",
       "      <td>Three episodes aired on TV as part of the Ribo...</td>\n",
       "      <td>('Shoujo',)</td>\n",
       "      <td>13282</td>\n",
       "    </tr>\n",
       "  </tbody>\n",
       "</table>\n",
       "<p>1113 rows × 4 columns</p>\n",
       "</div>"
      ],
      "text/plain": [
       "                                title  \\\n",
       "0                 Touma Kishinden Oni   \n",
       "1                        RPG Fudousan   \n",
       "2              Totsugeki! Pappara-tai   \n",
       "3                        Chi-Sui Maru   \n",
       "4                       Love All Play   \n",
       "...                               ...   \n",
       "1108                  Zekkyou Gakkyuu   \n",
       "1109  Kyoukai no Kanata: Mini Gekijou   \n",
       "1110                    Sugar*Soldier   \n",
       "1111                       Cross Road   \n",
       "1112                  Romantica Clock   \n",
       "\n",
       "                                               synopsis  \\\n",
       "0     Shuramaru is hated and feared by the villagers...   \n",
       "1     The story begins 15 years after the demon king...   \n",
       "2     An elite soldier, whose nickname is God of Dea...   \n",
       "3     The offensive and defensive battles between No...   \n",
       "4     Ryou Mizushima enrolls in junior high and join...   \n",
       "...                                                 ...   \n",
       "1108  Three episodes aired on TV as part of the Ribo...   \n",
       "1109  Short mini-theater specials included in the BD...   \n",
       "1110  Three episodes aired on TV as part of the Ribo...   \n",
       "1111  As college entrance examinations draw near, tw...   \n",
       "1112  Three episodes aired on TV as part of the Ribo...   \n",
       "\n",
       "                                                 genres  index  \n",
       "0                                     ('Supernatural',)      0  \n",
       "1                ('Comedy', 'Fantasy', 'Slice of Life')     20  \n",
       "2     ('Action', 'Adventure', 'Comedy', 'Romance', '...     31  \n",
       "3                                           ('Comedy',)     43  \n",
       "4                                           ('Sports',)     51  \n",
       "...                                                 ...    ...  \n",
       "1108                         ('Shoujo', 'Supernatural')  13115  \n",
       "1109                  ('Slice of Life', 'Supernatural')  13142  \n",
       "1110                                        ('Shoujo',)  13264  \n",
       "1111                        ('School', 'Slice of Life')  13276  \n",
       "1112                                        ('Shoujo',)  13282  \n",
       "\n",
       "[1113 rows x 4 columns]"
      ]
     },
     "metadata": {},
     "output_type": "display_data"
    },
    {
     "data": {
      "application/vnd.microsoft.datawrangler.viewer.v0+json": {
       "columns": [
        {
         "name": "index",
         "rawType": "int64",
         "type": "integer"
        },
        {
         "name": "title",
         "rawType": "object",
         "type": "string"
        },
        {
         "name": "synopsis",
         "rawType": "object",
         "type": "string"
        },
        {
         "name": "genres",
         "rawType": "object",
         "type": "string"
        },
        {
         "name": "index",
         "rawType": "int64",
         "type": "integer"
        }
       ],
       "conversionMethod": "pd.DataFrame",
       "ref": "cbdc86c6-feda-4e30-baca-3fea6d17500e",
       "rows": [
        [
         "0",
         "Uchi no 3 Shimai",
         "The daily life of the Motsumoto family. The three sisters, Fuu, Suu, and Chii, follow what happens on a daily basis. Mother and Father have to deal with them sometimes, but they're used to it.",
         "('Comedy', 'Slice of Life')",
         "3"
        ],
        [
         "1",
         "Running Man",
         "The Soul Tree, the great source of our race.  But for its ultimate power and by those whose minds were blinded by it, it also became the catastrophic cause that had brought never-ending wars between the tribes. Tortured by the agonies of the wars, the leaders of the tribes finally came to a peace agreement that they would instead open a competition. Players, equipped with special watches and shields, compete against each other as winner’s tribe would be awarded with Materion, the sacred fruit of the Soul Tree.  These brave players, who throw themselves in this fierce fight, we call them the Runningman.  (Source: Official YouTube Channel)",
         "('Action', 'Adventure', 'Kids')",
         "4"
        ],
        [
         "2",
         "Miracle! Mimika",
         "Himeno Mimika is a daughter of historical cook family. She goes to a cooking school, Miracle Academy which train cooks all over the world. Vying with rivals, she brings out her gift, and she grows up as a cook.  (Source: AnimeNfo)",
         "('Kids', 'Other', 'Slice of Life')",
         "14"
        ],
        [
         "3",
         "Kick & Slide",
         "The third generation of J SOUL BROTHERS from EXILE TRIBE is reimagined as 7 unique and diverse characters in \"KICK & SLIDE\". This is a slapstick story where the characters solve difficult cases!? and rare cases!? that occur in the colorful and pop vibrant city \"Nakame Town\" with dance and music.  (Source: Official website)",
         "('Kids', 'Music')",
         "22"
        ],
        [
         "4",
         "Hyouga Senshi Gaislugger",
         "A cyborg warrior from an ancient Antarctic kingdom awakes 30000 years later from an accidental hibernation to find the Earth changed and an old alien enemy on the verge of invasion. It's up to Guyslugger to use his ancient technology to defeat the aliens.  (Source: AniDB)",
         "('Action', 'Mecha', 'Sci-Fi')",
         "23"
        ],
        [
         "5",
         "Hyper Positive Yogoremon",
         "The story centers on Otarou, a creature themed around dirt known as a yogoremon. It and other yogoremon ask the meaning of words and explain negative terms in positive ways.  (Source: ANN)",
         "('Comedy',)",
         "24"
        ],
        [
         "6",
         "Pink Lady Monogatari: Eikou no Tenshi-tachi",
         "Based on the real life-story of Pink Lady, a female pop duo that rose to superstardom in the mid-1970's.  (Source: ANN)",
         "('Drama', 'Music', 'Slice of Life')",
         "36"
        ],
        [
         "7",
         "Kyuumei Senshi Nanosaver",
         "The third show in the Virtual Trilogy, a mix of anime and live action shots.  In the beginning of the 22nd century society advanced rapidly. Now even children are able to become real doctors, a task before that took two and a half decades to achieve. And nanomachines became prevalent to fight disease. Keita is a Nanosaver, a child doctor who uses the virtual world to apply life saving techniques by entering the body and treating the patients in a virtual medical station (VMS). As more and more patients are taken in, various mysterious are uncovered about them.  In the second half of the anime, a small Ethanarian alien and galactic federation is introduced.",
         "('Adventure', 'Shounen')",
         "38"
        ],
        [
         "8",
         "Anoyo no Subete wa, Obake-gumi!",
         "The gag anime takes place at a school for youkai and other supernatural beings. A vampire named Rakuru transfers to the school from the West, and she tries to change the school as the class representative.",
         "('Comedy', 'Supernatural')",
         "40"
        ],
        [
         "9",
         "Zhu Zhu Xia: Zhong Ji Jue Zhan - Qian Ye Pian",
         "A prequel TV series setting up for the feature film.  G.G. Bond's father while exploring ruins gets sucked into a dimension of evil through the Dark Gate. He is bestowed power and knowledge and becomes corrupted as the King of Darkness. Ancient monsters are sent through the cracks of the gate to attack G.G. Bond and his team as the 5 elemental powers are stronger than the King of Darkness. By weakening the team, only then can the King of Darkness forcibly open the gate to unless a reign of terror on the Fairy Tale world.",
         "('Kids', 'Sci-Fi', 'Super Power')",
         "42"
        ],
        [
         "10",
         "Kkoma Sinseon Tao",
         "This Korean and Chinese co-production series focuses on Tao, a young boy with magical powers, as he attends school to become a wizard. Each episode was composed of two stories.  (Source: Wiki)",
         "('Kids',)",
         "45"
        ],
        [
         "11",
         "Gunma-chan",
         "An anime series based on the Gunma Prefecture mascot character, Gunma-chan.  (Source: Anilist)",
         "('Slice of Life',)",
         "52"
        ],
        [
         "12",
         "Ayakashi Triangle",
         "Matsuri Kazamaki and Suzu Kanade are childhood friends, bonded by their shared ability to see ayakashi—youkai in search of a life force to devour. However, in high school, their relationship deteriorates. As Suzu's one-sided feelings are growing, so is the difference in their ayakashi views: Matsuri considers all ayakashi a threat to his friend, while Suzu is an ayakashi medium—someone who exudes a significant amount of life force compared to the average human—and loves them all despite the risk.  When the two stumble upon a talking white cat named Shirogane, they are unaware that it is a four-hundred-year-old ayakashi known as the \"King of Ayakashi.\" He is hell-bent on gaining even more power by devouring Suzu, but as Matsuri swoops in to try and save her by sealing Shirogane's powers, the ayakashi uses a jutsu to turn him into a girl instead!  Matsuri vows to protect Suzu from further harm as her best friend, but he must learn how to act like a girl until his grandfather—a famous wind jutsu exorcist ninja—can undo the jutsu. Meanwhile, Suzu must work out her romantic feelings for Matsuri now that he is no longer a boy. But when Matsuri takes the king as his pet, the future of the two friends seems uncertain.  ",
         "('Action', 'Comedy', 'Ecchi', 'Romance', 'Shounen')",
         "61"
        ],
        [
         "13",
         "Titipo Titipo",
         "Say hi to Tayo's new friend - Titipo! Train Center's new born little train Titipo has just passed the driving examination and is prepared to work at the Train Village. Although Titipo dreams of becoming the best train in the world, his curious yet random personality catches him in unforeseen events and troubles everyday. Titipo expands his experience in the greater world and befriends Genie, Diesel, and other little trains. Will Titipo achieve his dream of becoming the best train? Come join the railroad journey and meet Titipo and the little train friends.  (Source: Official YouTube channel)",
         "('Kids', 'Other')",
         "65"
        ],
        [
         "14",
         "Rainbow Ruby",
         "At Ruby's house, a small event related to the main plot of each episode occurs, before a red jewellery on the chest of Choco, Ruby's Teddy bear, flashes with a melody. Ruby then takes Choco to her room, and the two 'transport' themselves to the Rainbow Village. There, Ruby hears an explanation from Ling Ling, the mayor of Rainbow Village, and transforms herself using her Rainbow Roller into an appropriate clothing to solve problems. Each episode concludes, back home, with another small event.  (Source: AniDB) ",
         "('Fantasy', 'Kids')",
         "67"
        ],
        [
         "15",
         "Hei Mao Jing Zhang (1992)",
         "The series follows Officer Black Cat's adventures around the forest neighbourhood, apprehending criminals, dealing justice, and solving crimes.",
         "('Action', 'Adventure', 'Comedy', 'Kids', 'Other')",
         "69"
        ],
        [
         "16",
         "Manga Nihon Keizai Nyuumon",
         "Depiction of Japan's economy, based on Shoutarou Ishinomori's epynomous manga.",
         "('Drama', 'Historical', 'Seinen', 'Slice of Life')",
         "78"
        ],
        [
         "17",
         "Chara to Otamajakushi Shima",
         "The anime is set on the titular Musical Note Island, where the god of music is said to reside. The island is home to \"instrument animals,\" who are born from music energy, and have parts of their body composed of a musical instrument. One day, a witch arrives at the island. The warrior girl Cara must go on a journey to defeat the witch and win back the peace on the island.  (Source: ANN)",
         "('Adventure', 'Fantasy', 'Kids')",
         "83"
        ],
        [
         "18",
         "Ma-eum-uisoli",
         "While it may seem like a mere depiction of everyday life, The Sound of Your Heart is a comedy filled to the brim with wit, sarcasm, and parody. It gives no regard for the probable or realistic- it is a series of absurd situations that is sure to get a laugh out of every reader willing to suspend their sense of reality.  (Source: LINE Webtoon)",
         "('Comedy', 'Slice of Life')",
         "90"
        ],
        [
         "19",
         "Kekkero Ke",
         "The anime follows the frogs Kekkero and Ke who try to find their 998 other siblings.  (Source: ANN)",
         "('Comedy',)",
         "102"
        ],
        [
         "20",
         "Manul no Yuube",
         "Within the nature \"Darwin Kita! Kikimono Shin Densetsu\" program on NHK1.5 airs the short , based on a web manga/comic of the same name. It following animal characters who visit the bar . The bar is run by the Mama who is a Pallas's cat ( ) and serviced by the hostess Tsunomin who is a Brazilian treehopper ( ).",
         "('Slice of Life',)",
         "106"
        ],
        [
         "21",
         "Awajishima no Shichifukujin",
         "The story centers on the Seven Gods of Fortune in Japanese mythology as they reside on Awaji Island in Hyogo. In the shorts' story, the Seven Gods of Fortune slack in their duties in heaven, and Susanoo-no-Mikoto banishes them to Awaji Island. In order to return to the heavenly realm, they must help bring happiness to humans and rebuild their virtue. The outcast gods reluctantly grant human wishes and accumulate points in their \"god phones\" to be able to return to heaven. They aim to perform good deeds on particularly auspicious days to maximize point accumulation. Despite their best efforts at accumulating virtue, sometimes the Seven Gods of Fortune end up bringing misfortune to humans. When they fail, they lose points, further prolonging their stay on Awaji Island.  (Source: ANN)",
         "('Comedy', 'Kids', 'Supernatural')",
         "116"
        ],
        [
         "22",
         "Nyanfuru",
         "Shorts that feature music note cats. The series premiered on February 22, 2014 on television; the first episode was published on an official YouTube channel that same day.  The whole world is in love with character illustrations of cats, dogs, and bears. A brand-new show, and the first of its kind in Japan, featuring nothing but cat characters for cat lovers started airing in February 2014. A variety of cat characters designed by Japan's topnotch creators and illustrators are animated and they are voiced by popular KAWAII (cute) anime voice actors. This show is a must-see not just for the fans of cat characters but for all anime lovers!  (Source:YouTube)",
         "('Comedy', 'Music')",
         "121"
        ],
        [
         "23",
         "Gonglyong Mecard",
         "is a spin-off-series of Mecard, based on the idea that dinosaurs didn't become extinct 65 million years ago, but transformed into mecanimals. Its characters don't have any relations to the cast from , and .  (Source: Gonglyong Mecard Wikia)",
         "('Adventure', 'Kids', 'Mecha', 'Other')",
         "125"
        ],
        [
         "24",
         "Tomodachi Game",
         "Yuuichi Katagiri has battled financial hardships his whole life but has learned to stay content and positive thanks to his close circle of friends. To keep a promise he made to them, Yuuichi saves up enough money to join them on the school trip. But when the gathered money mysteriously goes missing, suspicion falls on two of Yuuichi's friends: Shiho Sawaragi and Makoto Shibe, who were in charge of collecting the payments. Although innocent, Shiho and Makoto take responsibility for the failure to protect the money when no one else comes forward.  A few days later, Yuuichi and his friends receive mysterious letters which trick each of them into meeting up. Upon arrival, they are ambushed and knocked unconscious. They wake up in a mysterious room in the presence of \"Manabu-kun,\" a character from a controversial children's show that stopped airing due to its malicious content. He informs the group that one of them indirectly gathered them together in order to settle a large debt. They are to play a \"friendship game\": a series of games that will test the strength of their bond and trust in each other. As the group's faith wavers due to the growing number of secrets and betrayals, Yuuichi must figure out who of his \"friends\" he can actually trust and ultimately discover the identity of the traitor.  ",
         "('Other', 'Shounen')",
         "134"
        ],
        [
         "25",
         "Ice Kuritarou",
         "A short anime that airs within \"Enkame: That's Enka Tainment\" (and enka variety show) program on Asahi TV. It follows a cast of ice cream characters.",
         "('Kids',)",
         "138"
        ],
        [
         "26",
         "Koto Nakare Hero Gingerman",
         "Shorts about root vegetables from the refrigerator who try to act like superheroes.",
         "('Comedy',)",
         "142"
        ],
        [
         "27",
         "Sakuran Boy DT",
         "The Geisha Tokyo Entertainment company has announced on Wednesday it is producing and airing Sakuran Boy DT, \"Japan's first\" Flash-animated television series about a local costumed hero character. The name of the character is a wordplay on the Japanese translation for \"cherry boy\" — the Japanese slang for a male virgin — and the Sakuranbo television station in the northeastern Japanese city of Yamagata. The story revolves around Satou-kun, an ordinary high school boy who transforms into Sakuran Boy DT to rescue the mayor's daughter from the nefarious secret society Zaou. Sakuranbo has posted a trailer online, and the 11 five-minute weekly episodes will premiere on this station on January 14.",
         "('Comedy', 'Super Power')",
         "151"
        ],
        [
         "28",
         "Soredemo Ayumu wa Yosetekuru",
         "On a whim, first-year Ayumu Tanaka quits the Kendo Club to join the illegitimate Shogi Club. Urushi Yaotome, the president of the club and a master of shogi, is thrilled to finally have a playing partner. As Ayumu's upperclassman, Urushi endeavors to be his shogi mentor and student role model. Too often, however, she finds herself blushing with embarrassment! Stone-faced and honest, Ayumu sees no issue with calling Urushi \"cute.\" Although Ayumu likes her, he refrains from confessing and promises himself to first beat her in a game of shogi.  Through school life and shogi games, the two students have many hilarious and heart-warming adventures. Ayumu enjoys every second with Urushi, but he is still a long way from beating her in shogi. With the commitment he made to himself, will Ayumu ever get the chance to confess his feelings to Urushi?  ",
         "('Comedy', 'Romance', 'School', 'Shounen', 'Slice of Life')",
         "164"
        ],
        [
         "29",
         "Mahoutsukai ni Narenakatta Onnanoko no Hanashi.",
         "Kurumi Mirai is in the first year of high school.  She has enrolled in junior high section of the Redrun Magic School, the world's only facility for mages that approved by International Mage League and able to work under royal families when graduates, and she was always top of the class. However, when she applies for the high school section and took the examination to get into a mage training class \"Ma-gumi (Mage Class)\", she wasn't able to get in in spite having full scores and was top of the class for the whole three years.  There are some students in the class next to her that takes that class. Among that there's someone she admires. How will Kurumi Mirai who has extraordinary brain but didn't get in to be a mage candidate try to overcome and grow up? What is the aim for Minami Suzuki, a loyal mage who suddenly appears to be the homeroom teacher? This is a relaxing story of her growth.  (Source: MAL News)",
         "('Drama', 'Fantasy', 'School', 'Slice of Life')",
         "169"
        ],
        [
         "30",
         "Pittanko! Nekozakana",
         "On a distant southern island, a fish (sakana) opened its mouth for a cat (neko), thus \"nekozakana\" (cat-fish) is born.  (Source: ANN)",
         "('Comedy', 'Kids')",
         "175"
        ],
        [
         "31",
         "Kakuza Tousan",
         "A stop-motion comedy drama about sugar cube people from the Meiji era. Specifically it focuses on the father Kakuza who easily succumbs to emotion usually about his 37 year old daughter Touko's newest fiancé who tries to ask for his blessing. He's scared of losing his daughter even though it was his late wife's dying wish to see her as a happy bride.  The show had a very irregular release schedule and by the end of its serialization its title had changed to .",
         "('Comedy', 'Drama', 'Historical', 'Parody')",
         "185"
        ],
        [
         "32",
         "Curry no Kuni no Coburoux",
         "Coburoux is a prince of Curry Kingdom. Although he is a prince, he goes to the school for common people, and he is treated like other students. In fact, he is scolded by the teacher, is made to stand during class as a punishment, go some errands for a chef, and is teased by a girl whom he loves. He is always worried, and wonders whether the prince should be better. Being surrounded by weird friends and strange people in Curry Kingdom, he spends worrying days.  (Source: AnimeNfo)",
         "('Comedy',)",
         "187"
        ],
        [
         "33",
         "Collar x Malice",
         "A dangerous shadow organization launches a campaign of fear and violence in the city of Shinjuku, pushing society to the brink of chaos. As a young police officer tasked with restoring order, Ichika Hoshino becomes the target of an attack, and has a poisonous collar attached to her neck. With the situation spiraling out of control and time running out, five mysterious strangers appear to aid her in her quest for the truth. Who can she trust? Will she be able to save herself and the soul of Shinjuku from the clutches of oblivion?  (Source: Aksys Games)",
         "('Mystery', 'Other', 'Romance')",
         "194"
        ],
        [
         "34",
         "Daifuku-kun@Kin Tele",
         "Part of TV Tokyo's Kinder TV (きんだーてれび) program.",
         "('Comedy',)",
         "202"
        ],
        [
         "35",
         "Kemy Lang Buka Chaka",
         "This anime is a fusion of 3D CGI and live-action. Majority of the episodes are Kemy, Buka, and Chaka in their animated club house but other parts of the episodes are the characters imposed on live footage of nature. The program solves various questions by looking at the world with the vision of infants who are still immature in the world.",
         "('Adventure', 'Kids')",
         "210"
        ],
        [
         "36",
         "Okawari-Boy Starzan-S",
         "On planet Kirakira live two tribes: Senobi and Robot. Senobi, quiet and peacefully set, settle down in the forest. Robot comes from the desert and starts war to take control of afforested grounds. A young hero coming from Senobi tries to appease the whole situation.",
         "('Action', 'Adventure', 'Sci-Fi')",
         "223"
        ],
        [
         "37",
         "Oretacha Youkai Ningen",
         "No synopsis information has been added to this title. Help improve our database by adding a synopsis .",
         "('Demons', 'Horror', 'Parody')",
         "225"
        ],
        [
         "38",
         "Renmei Kuugun Koukuu Mahou Ongakutai Luminous Witches",
         "These are witches who defend everyone's smiles and fight enemies through the healing power of music. These witches, opposite of those in the defense fleet, are idols known as the Music Squadron.  (Source: MAL News)",
         "('Ecchi', 'Military', 'Music', 'Sci-Fi')",
         "232"
        ],
        [
         "39",
         "Zettai Zetsumei Dangerous Jiisan (2004)",
         "Grandpa Danger is a world where the great protector is Grandpa Danger! He's an expert at falling off of cliffs, dealing with a principal who suffers from a severe inferiority complex, and escaping the hidden dangers of sleep! He's a nonsensical, utterly disgusting, relentless prankster. Grandpa Danger's excessive phlegm and farts frustrate Grandson to hilarious extremes, and make you laugh until your stomach splits!  (Source: AniDB)",
         "('Comedy', 'Kids')",
         "245"
        ],
        [
         "40",
         "Norasco (TV)",
         "musicる TV signed up Norasco for their channel. Some of the ONA's episodes were shown and then the episodes became mostly musicる TV exclusive. ",
         "('Comedy', 'Slice of Life')",
         "250"
        ],
        [
         "41",
         "Nukko.",
         "The new Nukko. anime is an adolescent school story revolving around Nukko and Nukko's slightly(?) oddball friends.  (Source: ANN)",
         "('Comedy',)",
         "253"
        ],
        [
         "42",
         "IDOLiSH7 3rd Season Part 2",
         "Second cour of the third season of .",
         "('Music',)",
         "258"
        ],
        [
         "43",
         "Spoon-hime no Swing Kitchen",
         "An NHK toddler's anime following a Spoon Princess and other kitchen themed characters.",
         "('Adventure', 'Kids')",
         "275"
        ],
        [
         "44",
         "Shokei Shoujo no Virgin Road",
         "The Lost Ones are wanderers who come here from a distant world known as \"Japan.\" No one knows how or why they leave their homes. The only thing that is certain is that they bring disaster and calamity. The duty of exterminating them without remorse falls to Menou, a young Executioner. When she meets Akari, it seems like just another job...until she discovers it's impossible to kill this girl! And when Menou begins to search for a way to defeat this immortality, Akari is more than happy to tag along! So begins a journey that will change Menou forever...  (Source: Yen Press)",
         "('Action', 'Adventure', 'Fantasy')",
         "279"
        ],
        [
         "45",
         "Digital Tokoro-san",
         "CGI shorts about famous Japanese comedian George Tokoro.",
         "('Comedy',)",
         "288"
        ],
        [
         "46",
         "Ten Count",
         "Corporate secretary Shirotani suffers from obsessive-compulsive disorder. One day he meets Kurose, a therapist who offers to take him through a ten-step program to cure him of his compulsion. As the two go through each of the ten steps, Shirotani 's attraction to his counselor grows.  (Source: SuBLime)",
         "('Drama', 'Other', 'Romance')",
         "292"
        ],
        [
         "47",
         "Zen-chan Two-chan",
         "A daily educational TV anime broadcasted on NTV focusing on teaching children traffic safety. It was rebroadcasted on other networks till 1978. The anime ran in a 5-minute time slot but shared some of the air time with some live-action shorts/series also meant for children.  ",
         "('Kids',)",
         "298"
        ],
        [
         "48",
         "Gan Gan Ganko-chan",
         "The anime follows a boy named Gen, who time travels from the year 2020 to a distant future where humanity has gone extinct. He begins staying at the Ganko family home in the Rustling Forest, where he has none of the amenities he is used to: no electricity, gas, or running water, as well as no television, smartphones, convenience stores, snacks, or games.  (Source: ANN)",
         "('Comedy', 'Kids', 'Sci-Fi')",
         "307"
        ],
        [
         "49",
         "Kuroneko Monroe",
         "The series follows the black cat Monroe and the human Yoppy and their \"normal and special everyday lives.\"  (Source: ANN)",
         "('Comedy',)",
         "316"
        ]
       ],
       "shape": {
        "columns": 4,
        "rows": 1147
       }
      },
      "text/html": [
       "<div>\n",
       "<style scoped>\n",
       "    .dataframe tbody tr th:only-of-type {\n",
       "        vertical-align: middle;\n",
       "    }\n",
       "\n",
       "    .dataframe tbody tr th {\n",
       "        vertical-align: top;\n",
       "    }\n",
       "\n",
       "    .dataframe thead th {\n",
       "        text-align: right;\n",
       "    }\n",
       "</style>\n",
       "<table border=\"1\" class=\"dataframe\">\n",
       "  <thead>\n",
       "    <tr style=\"text-align: right;\">\n",
       "      <th></th>\n",
       "      <th>title</th>\n",
       "      <th>synopsis</th>\n",
       "      <th>genres</th>\n",
       "      <th>index</th>\n",
       "    </tr>\n",
       "  </thead>\n",
       "  <tbody>\n",
       "    <tr>\n",
       "      <th>0</th>\n",
       "      <td>Uchi no 3 Shimai</td>\n",
       "      <td>The daily life of the Motsumoto family. The th...</td>\n",
       "      <td>('Comedy', 'Slice of Life')</td>\n",
       "      <td>3</td>\n",
       "    </tr>\n",
       "    <tr>\n",
       "      <th>1</th>\n",
       "      <td>Running Man</td>\n",
       "      <td>The Soul Tree, the great source of our race.  ...</td>\n",
       "      <td>('Action', 'Adventure', 'Kids')</td>\n",
       "      <td>4</td>\n",
       "    </tr>\n",
       "    <tr>\n",
       "      <th>2</th>\n",
       "      <td>Miracle! Mimika</td>\n",
       "      <td>Himeno Mimika is a daughter of historical cook...</td>\n",
       "      <td>('Kids', 'Other', 'Slice of Life')</td>\n",
       "      <td>14</td>\n",
       "    </tr>\n",
       "    <tr>\n",
       "      <th>3</th>\n",
       "      <td>Kick &amp; Slide</td>\n",
       "      <td>The third generation of J SOUL BROTHERS from E...</td>\n",
       "      <td>('Kids', 'Music')</td>\n",
       "      <td>22</td>\n",
       "    </tr>\n",
       "    <tr>\n",
       "      <th>4</th>\n",
       "      <td>Hyouga Senshi Gaislugger</td>\n",
       "      <td>A cyborg warrior from an ancient Antarctic kin...</td>\n",
       "      <td>('Action', 'Mecha', 'Sci-Fi')</td>\n",
       "      <td>23</td>\n",
       "    </tr>\n",
       "    <tr>\n",
       "      <th>...</th>\n",
       "      <td>...</td>\n",
       "      <td>...</td>\n",
       "      <td>...</td>\n",
       "      <td>...</td>\n",
       "    </tr>\n",
       "    <tr>\n",
       "      <th>1142</th>\n",
       "      <td>Fate/kaleid liner Prisma☆Illya Movie: Sekka no...</td>\n",
       "      <td>Included with the limited edition BD of .</td>\n",
       "      <td>('Parody', 'Slice of Life')</td>\n",
       "      <td>13012</td>\n",
       "    </tr>\n",
       "    <tr>\n",
       "      <th>1143</th>\n",
       "      <td>Ninja Batman x Poputepipikku Kindan no Collab CM</td>\n",
       "      <td>At Anime Japan 2018, Warner Bros. announced a ...</td>\n",
       "      <td>('Other', 'Parody')</td>\n",
       "      <td>13160</td>\n",
       "    </tr>\n",
       "    <tr>\n",
       "      <th>1144</th>\n",
       "      <td>Hyakujitsu no Bara: Jinginaki Nikukyuu-hen</td>\n",
       "      <td>Specials included in the OVA of Hyakujitsu no ...</td>\n",
       "      <td>('Other', 'Parody')</td>\n",
       "      <td>13166</td>\n",
       "    </tr>\n",
       "    <tr>\n",
       "      <th>1145</th>\n",
       "      <td>Danganronpa 3: The End of Kibougamine Gakuen -...</td>\n",
       "      <td>The Future Foundation is in shambles after the...</td>\n",
       "      <td>('Action', 'Horror', 'Mystery', 'Other')</td>\n",
       "      <td>13331</td>\n",
       "    </tr>\n",
       "    <tr>\n",
       "      <th>1146</th>\n",
       "      <td>Steins;Gate: Kyoukaimenjou no Missing Link - D...</td>\n",
       "      <td>Having reached his emotional breaking point, R...</td>\n",
       "      <td>('Other', 'Sci-Fi')</td>\n",
       "      <td>13374</td>\n",
       "    </tr>\n",
       "  </tbody>\n",
       "</table>\n",
       "<p>1147 rows × 4 columns</p>\n",
       "</div>"
      ],
      "text/plain": [
       "                                                  title  \\\n",
       "0                                      Uchi no 3 Shimai   \n",
       "1                                           Running Man   \n",
       "2                                       Miracle! Mimika   \n",
       "3                                          Kick & Slide   \n",
       "4                              Hyouga Senshi Gaislugger   \n",
       "...                                                 ...   \n",
       "1142  Fate/kaleid liner Prisma☆Illya Movie: Sekka no...   \n",
       "1143   Ninja Batman x Poputepipikku Kindan no Collab CM   \n",
       "1144         Hyakujitsu no Bara: Jinginaki Nikukyuu-hen   \n",
       "1145  Danganronpa 3: The End of Kibougamine Gakuen -...   \n",
       "1146  Steins;Gate: Kyoukaimenjou no Missing Link - D...   \n",
       "\n",
       "                                               synopsis  \\\n",
       "0     The daily life of the Motsumoto family. The th...   \n",
       "1     The Soul Tree, the great source of our race.  ...   \n",
       "2     Himeno Mimika is a daughter of historical cook...   \n",
       "3     The third generation of J SOUL BROTHERS from E...   \n",
       "4     A cyborg warrior from an ancient Antarctic kin...   \n",
       "...                                                 ...   \n",
       "1142          Included with the limited edition BD of .   \n",
       "1143  At Anime Japan 2018, Warner Bros. announced a ...   \n",
       "1144  Specials included in the OVA of Hyakujitsu no ...   \n",
       "1145  The Future Foundation is in shambles after the...   \n",
       "1146  Having reached his emotional breaking point, R...   \n",
       "\n",
       "                                        genres  index  \n",
       "0                  ('Comedy', 'Slice of Life')      3  \n",
       "1              ('Action', 'Adventure', 'Kids')      4  \n",
       "2           ('Kids', 'Other', 'Slice of Life')     14  \n",
       "3                            ('Kids', 'Music')     22  \n",
       "4                ('Action', 'Mecha', 'Sci-Fi')     23  \n",
       "...                                        ...    ...  \n",
       "1142               ('Parody', 'Slice of Life')  13012  \n",
       "1143                       ('Other', 'Parody')  13160  \n",
       "1144                       ('Other', 'Parody')  13166  \n",
       "1145  ('Action', 'Horror', 'Mystery', 'Other')  13331  \n",
       "1146                       ('Other', 'Sci-Fi')  13374  \n",
       "\n",
       "[1147 rows x 4 columns]"
      ]
     },
     "metadata": {},
     "output_type": "display_data"
    }
   ],
   "source": [
    "from my_import import *\n",
    "df_train = pd.read_csv('df_train.csv')\n",
    "df_val = pd.read_csv('df_val.csv')\n",
    "df_test = pd.read_csv('df_test.csv')\n",
    "display(df_train)\n",
    "display(df_val)\n",
    "display(df_test)\n",
    "\n",
    "\n"
   ]
  },
  {
   "cell_type": "code",
   "execution_count": null,
   "id": "67721fae",
   "metadata": {},
   "outputs": [
    {
     "data": {
      "text/plain": [
       "['Comedy']"
      ]
     },
     "execution_count": 8,
     "metadata": {},
     "output_type": "execute_result"
    }
   ],
   "source": [
    "import ast\n",
    "\n",
    "#Make sure the genre collumns is in lists not strings\n",
    "df_train['genres'] = df_train['genres'].apply(lambda x: list(ast.literal_eval(x)))\n",
    "df_val['genres'] = df_val['genres'].apply(lambda x: list(ast.literal_eval(x)))\n",
    "df_test['genres'] = df_test['genres'].apply(lambda x: list(ast.literal_eval(x)))\n",
    "\n"
   ]
  },
  {
   "cell_type": "code",
   "execution_count": null,
   "id": "a6ca644f",
   "metadata": {},
   "outputs": [
    {
     "data": {
      "text/plain": [
       "('Comedy', 'Fantasy', 'Slice of Life')"
      ]
     },
     "execution_count": 11,
     "metadata": {},
     "output_type": "execute_result"
    }
   ],
   "source": []
  },
  {
   "cell_type": "code",
   "execution_count": 9,
   "id": "a5454887",
   "metadata": {},
   "outputs": [
    {
     "name": "stdout",
     "output_type": "stream",
     "text": [
      "Report for Train dataset\n",
      "samples avg f1-score = 0.5587024712947615\n",
      "Jaccard Similarity: 0.4258078005884574\n",
      "Hit Rate: 0.9489130434782609\n",
      "----------------------\n",
      "Report for Val dataset\n",
      "samples avg f1-score = 0.1862293061489026\n",
      "Jaccard Similarity: 0.11706241908001858\n",
      "Hit Rate: 0.564240790655885\n",
      "----------------------\n",
      "Report for Test dataset\n",
      "samples avg f1-score = 0.17617073181589307\n",
      "Jaccard Similarity: 0.10944961025606187\n",
      "Hit Rate: 0.564240790655885\n"
     ]
    },
    {
     "name": "stderr",
     "output_type": "stream",
     "text": [
      "c:\\Users\\User\\anaconda3\\envs\\NLP_CW\\Lib\\site-packages\\sklearn\\metrics\\_classification.py:1565: UndefinedMetricWarning: Precision is ill-defined and being set to 0.0 in samples with no predicted labels. Use `zero_division` parameter to control this behavior.\n",
      "  _warn_prf(average, modifier, f\"{metric.capitalize()} is\", len(result))\n",
      "c:\\Users\\User\\anaconda3\\envs\\NLP_CW\\Lib\\site-packages\\sklearn\\metrics\\_classification.py:1565: UndefinedMetricWarning: Precision is ill-defined and being set to 0.0 in samples with no predicted labels. Use `zero_division` parameter to control this behavior.\n",
      "  _warn_prf(average, modifier, f\"{metric.capitalize()} is\", len(result))\n",
      "c:\\Users\\User\\anaconda3\\envs\\NLP_CW\\Lib\\site-packages\\sklearn\\metrics\\_classification.py:1565: UndefinedMetricWarning: Precision is ill-defined and being set to 0.0 in samples with no predicted labels. Use `zero_division` parameter to control this behavior.\n",
      "  _warn_prf(average, modifier, f\"{metric.capitalize()} is\", len(result))\n"
     ]
    },
    {
     "data": {
      "application/vnd.microsoft.datawrangler.viewer.v0+json": {
       "columns": [
        {
         "name": "index",
         "rawType": "int64",
         "type": "integer"
        },
        {
         "name": "Synopsis",
         "rawType": "object",
         "type": "string"
        },
        {
         "name": "Actual Genres",
         "rawType": "object",
         "type": "unknown"
        },
        {
         "name": "Predicted Genres",
         "rawType": "object",
         "type": "unknown"
        }
       ],
       "conversionMethod": "pd.DataFrame",
       "ref": "c4aeb122-73c6-45fc-a36d-7bd15cab717d",
       "rows": [
        [
         "0",
         "Sometime in the future, the world was completely dried up and became all desert. They had little rivers and lakes left, which villians and dangerous animals lived. Water has become the most valueable thing on the world. Whoever can control water will rule over the world.  (Source: ANN)",
         "('Action', 'Adventure')",
         "('Adventure', 'Fantasy', 'Kids', 'Sci-Fi')"
        ],
        [
         "1",
         "Set in 2014, the anime follows the adventures of 23 years old Mafuneko, a newly minted assistant director who joins the TV production department at Tokyo Hajikko Television, only to discover that the glamorous and glitzy life of working behind-the-scenes making TV shows involves strange and inexplicable tasks such as \"gathering 300 acorns\" and \"making a mosaic out of the images reflected in the camera lens.\" Despite being surrounded by chaos, set-backs, and weirdos, Mafuneko struggles to become a fully-fledged TV producer.  (Source: Crunchyroll, edited)",
         "('Comedy',)",
         "('Comedy', 'Fantasy', 'Shounen', 'Slice of Life')"
        ],
        [
         "2",
         "Follows a pig whose family's mission is to collect underpants.",
         "('Comedy', 'Kids')",
         "('Comedy', 'Ecchi', 'Kids', 'Seinen', 'Slice of Life')"
        ],
        [
         "3",
         "In honor of the 2018 World Cup, this season of GG Bond focuses on sports team competition, team spirit, and personal growth as they compete in the Meteor League.  ",
         "('Kids', 'Sci-Fi', 'Sports', 'Super Power')",
         "('Action', 'Drama', 'Kids', 'Sci-Fi', 'Sports', 'Super Power')"
        ],
        [
         "4",
         "Fairies living in a fluffy forest, where both flowers and trees are fluffy. Follow a witch's trouble-maker apprentices Pui Pui and Muu Muu.",
         "('Fantasy', 'Kids')",
         "('Comedy', 'Fantasy', 'Horror', 'Kids')"
        ],
        [
         "5",
         "This story is about Mick, a sleeping chironomid. Insects are taken up into space for use in experiments by humans. An epic space adventure of Mick and his friends of their journey back home to Earth. The development plans and experiments are aborted by humans for no known reason, the organisms are left behind in the space station with limited resources. Going over hurdles and fighting through challenges, together, they travel across planets and gain new comrades, heading for Earth. As their journey progresses, the mystery behind the human’s abandonment unravels…  (Source: Crunchyroll)",
         "('Adventure', 'Other')",
         "('Action', 'Adventure', 'Demons', 'Fantasy', 'Other', 'Sci-Fi', 'Seinen')"
        ],
        [
         "6",
         "The anime is based on MegaHouse's line of Ziguru Hazeru (literally, \"Jiggle and Pop Out\") mecha toys that allow people to remove parts from the joints and add different parts in their place. In addition, if one combines together Hazeru Gokuu, Hazeru Sagojo, and Hazeru Hakkai, the resulting mecha will be Hazeru Seioh, allowing for users to combine their toys together.  The ZIGURUHAZERU animated series is based on the upcoming original toy line of the same name from MegaHouse, featuring cool robot toys modelled after characters from the famous Journey to the West tale.",
         "('Action', 'Mecha')",
         "('Mecha', 'Sci-Fi')"
        ],
        [
         "7",
         "Fuwa Beibei encounters the severely injured goddess, Athena. In order to help Athena regain strength, Beibei sets out to find a mysterious wooden box left by Coubertin in 1894, but the worrying thing is that Pixiu who injured his stomach from his glutinous eating habits heard this news too. He thought that this mysterious energy could not only cure his stomach, but also improve his magic, and such begins the journey through time and space of two spirits with different aims. After all the hardships, they found the sixth son of the dragon - Bixi, and after the two's efforts in passing his test, Bixi carries them along 100 years of Olympic history.",
         "('Historical',)",
         "('Action', 'Adventure', 'Drama', 'Fantasy', 'Historical', 'Mecha', 'Other', 'Romance')"
        ],
        [
         "8",
         "The anime will depict various vehicles as characters in the \"Mobile Land\" island. The protagonist Car-kun arrives at the island as a delivery worker. Through his deliveries, he gets to know the residents of Mobile Land, all while following traffic rules and having his deliveries stopped by the meddling Sabibi.  (Source: ANN)",
         "('Comedy', 'Kids', 'Other', 'Slice of Life')",
         "('Adventure', 'Comedy', 'Fantasy', 'Kids', 'Other', 'Parody', 'Slice of Life')"
        ],
        [
         "9",
         "follows the adventures of an adorable jet plane named Jett who travels around the world delivering packages to children. On every delivery, Jett encounters new problems that he must solve with the help of his friends the \"Super Wings\": Dizzy, Jerome and Donnie. Together, the team explores different countries and learns the diversity of new cultures.  (Source: Official YouTube channel)",
         "('Adventure', 'Kids', 'Other')",
         "('Adventure', 'Fantasy', 'Kids', 'Other', 'Sci-Fi', 'Sports')"
        ],
        [
         "10",
         "A collaboration shorts that aired as part of Yomiuri TV's morning program block.",
         "('Comedy',)",
         "('Comedy', 'Music', 'Parody', 'Slice of Life')"
        ],
        [
         "11",
         "There was once a man who was summoned to another world, and saved it. Of course, he became too popular there, and turned into an isekai-normie. However, that man fell into a \"trap\" and was forcibly returned to his original world. Moreover, he had to start over as a baby!  This is the story of the way-too-fantastic ex-hero who lived as a gloomy high-schooler, as he gets summoned once again to that same other world in a very unexpected development!  (Source: Coolmic, edited)",
         "('Action', 'Adventure', 'Comedy', 'Fantasy', 'Harem', 'Romance')",
         "('Action', 'Adventure', 'Comedy', 'Fantasy', 'Harem')"
        ],
        [
         "12",
         "The 2018 LINE sticker set Poccolies is inspiring a series of anime shorts. The story of the sticker set is that a positive and honest boy named Patsuhiko lives on Pokkori Island, along with the shrewd and mysterious Ham, and a reliable older brother figure named Kangaroo. The sticker set follows their daily lives.  (Source: ANN)",
         "('Kids', 'Slice of Life')",
         "('Adventure', 'Fantasy', 'Kids', 'Mecha', 'Slice of Life')"
        ],
        [
         "13",
         "Fourth season of Kamiusagi Rope, events occur after the feature film. Airs on Mezamashi TV instead of the theaters.",
         "('Comedy', 'Slice of Life')",
         "('Action', 'Adventure', 'Comedy', 'Fantasy', 'Historical', 'Kids', 'Mystery', 'Other', 'Parody', 'Shoujo')"
        ],
        [
         "14",
         "Korean Animation about the monsters Eerie, Rock-G, Popo, and Yossi and the adventures they go on each day!",
         "('Adventure',)",
         "('Adventure', 'Fantasy')"
        ],
        [
         "15",
         "TV adaptation of Cocone Corporation's mobile puzzle game app.  Discover the adventures of the cat painter, Vincent van Meowogh who lives in a mansion in Paris surrounded by his quirky friends. Let's give him a spark of inspiration for his painting by completing puzzle stages, buy back the furniture and restore his home to its former glory!  (Source: ANN)",
         "('Kids', 'Other')",
         "('Adventure', 'Comedy', 'Fantasy', 'Kids')"
        ],
        [
         "16",
         "General of the Three Kingdoms, Kongming had struggled his whole life, facing countless battles that made him into the accomplished strategist he was. So on his deathbed, he wished only to be reborn into a peaceful world... and was sent straight to modern-day party-central, Tokyo! Can even a brilliant strategist like Kongming adapt to the wild beats and even wilder party people?!  (Source: Kodansha US, edited)",
         "('Comedy',)",
         "('Action', 'Adventure', 'Comedy', 'Ecchi', 'Fantasy', 'Romance', 'Seinen', 'Slice of Life', 'Super Power')"
        ],
        [
         "17",
         "Kou Yamori seems like a typical middle school student on the surface. Relatively good at studies and amiable with his classmates, he puts a lot of effort into maintaining this facade. One day, however, he decides to stop pretending and quits school, developing insomnia as a result of having no daytime outlet for his energy. When taking walks alone at night, he feels marginally better, though he is aware that his inability to sleep should be considered a serious problem.  On one such walk, Kou meets a weird girl, Nazuna Nanakusa, who diagnoses the cause of his sleeplessness: despite making changes in his life, he is still holding himself back from experiencing true freedom. She says that he won't be able to sleep unless he is satisfied with how he spends his waking hours. When it appears that she has resolved his current worries, Nazuna invites him back to her apartment to share her futon. After a while, unaware that he is only feigning unconsciousness, she leans over him—and bites his neck!  ",
         "('Other', 'Romance', 'Shounen', 'Supernatural')",
         "('Comedy', 'Other', 'Romance', 'School', 'Shounen', 'Slice of Life', 'Supernatural')"
        ],
        [
         "18",
         "This show consists of shorts starring 7 characters created and voiced by the voice actors of the variety show \"Seiyuu Danshi desu ga...?\". The anime will be a slapstick comedy that follows seven spirits that come to the modern world.  (Source: ANN)",
         "('Comedy', 'Supernatural')",
         "('Comedy', 'School', 'Slice of Life', 'Supernatural')"
        ],
        [
         "19",
         "Hello Jadoo is a South-Korean TV show about a girl named Choi Jadoo who is a very free-spirited girl. In every episode, she would always get into drama, whether it was with her parents or school. At the same time, she meets new people and she tries to solve problems occurring.",
         "('Slice of Life',)",
         "('Comedy', 'Drama', 'Harem', 'Romance', 'School', 'Shounen')"
        ],
        [
         "20",
         "The supreme Gods who had too much free time created the ultimate brain games \"Play of the Gods.\" Former Goddess Leche awoke from a long slumber and declared to the world, \"Bring forth the person who is the best in games in this era!\" Fay is nominated to represent humanity as the \"best rookie in recent years.\"  The \"Game of the Gods\" that is about to begin between the two may be a little too difficult, as there has yet to be a victor throughout human history, because Gods are capricious, very unreasonable, and sometimes completely incomprehensible. However, given the nature of the games, it would be a waste not to have a good time and play with all of one's heart! The ultimate brain battles of a genius gamer boy, a former Goddess, and friends begin!  (Source: MAL News)",
         "('Ecchi', 'Fantasy', 'Other')",
         "('Drama', 'Ecchi', 'Fantasy', 'Historical', 'Other', 'Romance', 'Seinen', 'Shounen', 'Supernatural')"
        ],
        [
         "21",
         "Struggling with life and society, high school student Michio Kaga wanders about the Internet and lands on an odd website. The website, featuring a number of questions and a point based system, allows one to create skills and abilities for a character. Upon completing his character, Kaga was transported to a game-like fantasy world and reborn as a strong man who can claim idol-level girls. Thus begins the cheat and harem legend of a reborn man!  (Source: MAL News)",
         "('Action', 'Adventure', 'Fantasy', 'Harem', 'Romance')",
         "('Action', 'Ecchi', 'Fantasy', 'Harem', 'Parody')"
        ],
        [
         "22",
         "Technoroid: Overmind is set in the Entertainment Tower Babel, a new hope found by those who have lost the joy of light as humanity's activities are restricted due to the large-scale climate change caused by the expanded sun. The anime depicts unique units and characters fighting for the top of Babel, pursuing emotions that move people and androids through performances.  (Source: MAL News)",
         "('Music',)",
         "('Harem', 'Mecha', 'Music', 'School')"
        ],
        [
         "23",
         "Tsukumogami—spirits or \"marebito\" can possess objects of considerable age and gain a physical form. Although he is part of the Saenome clan that is in charge of peacefully sending them back to their own world, Hyouma Kunato despises them because one took away what was very precious to him. In order to cure him of this loathing, Hyouma's grandfather sends him to live with Botan Nagatsuki, a girl who is the master of six \"friendly\" tsukumogami and lives with them as a family.  (Source: MU, edited)",
         "('Action', 'Seinen', 'Supernatural')",
         "('Fantasy', 'Historical', 'Seinen', 'Slice of Life', 'Supernatural')"
        ],
        [
         "24",
         "A young woman aims to become a famous fashion designer.  (Source: AniDB)",
         "('Romance', 'Shoujo')",
         "('Hentai', 'Historical', 'Shoujo')"
        ],
        [
         "25",
         "The hero of Tensei shitara Ken deshita differs from your standard otherworldly protagonist in that he is reincarnated as a sword! Beginning his quest by spawning in the middle of a beast-ridden forest, he encounters an injured girl frantically fleeing for her life. Saving her from her assailants, the pair acquaint themselves, and the girl introduces herself as Fran. She bears a heavy past, having endured the enslavement and maltreatment of her tribe, the Black Cats.  As the hero is unable to remember the name from his past life, the young and tenacious Fran bestows him the name \"Shishou\" and becomes his wielder. Thereafter, Shishou and Fran become a formidable team, embarking on quests to liberate the oppressed and exact justice!  ",
         "('Action', 'Fantasy')",
         "('Action', 'Drama', 'Fantasy', 'Seinen')"
        ],
        [
         "26",
         "If a girl teases you, that means she likes you!  Unfortunately, Akiteru knows from experience that isn't the case. Because every girl he interacts with shows him nothing but scorn, and he's not scored a single date from it! Luckily, he's more concerned with securing a spot for him and his game-development buddies at his uncle's business.  But when his uncle throws him a condition that involves playing the part of his daughter's boyfriend, Akiteru has no choice but to take it. What will his best friend's sister Iroha, who bullies him relentlessly, think of the news?  (Source: J-Novel Club)",
         "('Comedy', 'Romance', 'School')",
         "('Comedy', 'Drama', 'Romance', 'School', 'Seinen')"
        ],
        [
         "27",
         "There is a mysterious power of the Holy Spirit hidden in the legendary continent of Labelle, and the way to get power is recorded in the book of flower, guard by numerous flower Fairy Kings,only the legendary magic ambassador is recognized to wake up the power, and use them to defeat evil. For this.The evil force,led by Jakarta,the Queen of Dark had start a war to the continent of Labelle.With the help of the Flower Goddess,Pupula and the tribe of gouring flower fairys, the fate of the continent of Labelle is linked with an Earth girl... Who is the legendary envoy XiaAnAn.  (Source: Magical Girl Wiki)",
         "('Kids',)",
         "('Action', 'Adventure', 'Fantasy', 'Kids', 'Shoujo', 'Supernatural')"
        ],
        [
         "28",
         "Denji has a simple dream—to live a happy and peaceful life, spending time with a girl he likes. This is a far cry from reality, however, as Denji is forced by the yakuza into killing devils in order to pay off his crushing debts. Using his pet devil Pochita as a weapon, he is ready to do anything for a bit of cash.  Unfortunately, he has outlived his usefulness and is murdered by a devil in contract with the yakuza. However, in an unexpected turn of events, Pochita merges with Denji's dead body and grants him the powers of a chainsaw devil. Now able to transform parts of his body into chainsaws, a revived Denji uses his new abilities to quickly and brutally dispatch his enemies. Catching the eye of the official devil hunters who arrive at the scene, he is offered work at the Public Safety Bureau as one of them. Now with the means to face even the toughest of enemies, Denji will stop at nothing to achieve his simple teenage dreams.  ",
         "('Action', 'Adventure', 'Demons', 'Shounen')",
         "('Action', 'Adventure', 'Demons', 'Fantasy', 'Shounen', 'Supernatural')"
        ],
        [
         "29",
         "6.5-centimeter tall Degirdians fall to Earth in their spacecraft while chasing fugitives. Their spaceship transforms into a capsule toy stand near a toy store and a human boy accidentally takes home one of the aliens thinking it's a capsule toy. They befriend a human boy and try to figure out a way to get home all while fighting off the evil alien.",
         "('Kids', 'Sci-Fi')",
         "('Drama', 'Historical', 'Kids', 'Sci-Fi', 'Shounen')"
        ],
        [
         "30",
         "revolves around mischievous creatures called Teenieping that like to enter people's minds, but their playful nature and magical powers can wreak havoc in their hosts' lives. When the Teenieping are set loose on Earth, Princess Romi of the Emotion Kingdom becomes an ordinary girl that has to turn into a magical girl to stop them, all while balancing her new civilian life as a worker for the Bakery Heartrose with her coworkers Ian, Kyle, and Jun.  (Source: Wikipedia)",
         "('Fantasy', 'Kids', 'School')",
         "('Adventure', 'Fantasy', 'Kids', 'Mecha', 'Parody', 'School', 'Sci-Fi', 'Shoujo')"
        ],
        [
         "31",
         "A more educational season of GG Bond. This season is composed of 2 arcs, each arc has 52 episodes.  GG Bond works on cleaning up some fossils at the lab as they'll be used in a museum exhibit. He uses a fossil to create a data coin that is compatible with his special jet. This allows for him to travel back in time to the original animal (a T-Rex) the fossil was made of. While GG Bond is ecstatic to learn about dinosaurs in-person (as well as mine more accurate data for the data coin), he didn't quite realize the danger he'd be in. He successfully gets out of this sticky situation but there's still a lot more dinosaurs he needs to get information on.",
         "('Historical', 'Kids', 'Sci-Fi', 'Super Power')",
         "('Adventure', 'Historical', 'Kids', 'Sci-Fi', 'Super Power', 'Supernatural')"
        ],
        [
         "32",
         "Hitori Gotou is a high school girl who's starting to learn to play the guitar because she dreams of being in a band, but she's so shy that she hasn't made a single friend. However, her dream might come true after she meets Nijika Ijichi, a girl who plays drums and is looking for a new guitarist for her band.  (Source: MU, edited)",
         "('Comedy', 'Music', 'Slice of Life')",
         "('Drama', 'Music', 'Slice of Life')"
        ],
        [
         "33",
         "TV anime based on San-X's new series of mascot characters \"Chickip Dancers.\" The main characters in the anime will be the apprehensive but curious bone-in chicken Hone Chicken, and the dancing instructor frog Skip Gaeru, who travels by dancing.  (Source: ANN)",
         "('Slice of Life',)",
         "('Adventure', 'Comedy', 'Kids', 'Parody', 'Shounen')"
        ],
        [
         "34",
         "Stop-motion animation using clay and puppets follows a musician and hit cat traveling the world and learning about music in different cultures while spreading their own songs.",
         "('Kids', 'Music')",
         "('Kids', 'Music')"
        ],
        [
         "35",
         "A Chinese prince meets a regular civilian during his travels and quickly falls in love. They marry and have a daughter, but the prince is soon separated from them during a rebellion. Many years later, the prince has become emperor and locates his lost daughter. She comes to live with him, but unfortunately has picked up several unrefined habits during her times as a civilian.",
         "('Comedy', 'Historical', 'Kids')",
         "('Adventure', 'Comedy', 'Drama', 'Fantasy', 'Historical', 'Kids', 'Romance', 'Shoujo')"
        ],
        [
         "36",
         "is an animation series with some educational undertones targeting 5~7-year-old kids. The entire series is set against the backdrop of a supermarket. Viewing the animations, children will be able to imagine themselves in amidst all a supermarket has to offer. Children can join Kemy and his quest to figure out the answers to everyday questions. Buka and Chaka do not reprise their roles in this season.  (Source: korean-products.com)  ",
         "('Kids',)",
         "('Comedy', 'Demons', 'Kids')"
        ],
        [
         "37",
         "Centers on a penguin who works in an abusive company and gripes about the difficulties of workplace life. The title is a play on the \"koutei penguin,\" the Japanese name for the emperor penguin.  (Source: ANN)",
         "('Other',)",
         "('Historical', 'Other')"
        ],
        [
         "38",
         "No synopsis has been added for this series yet.   to update this information.",
         "('Comedy', 'Fantasy')",
         "('Adventure', 'Drama', 'Fantasy', 'Mecha', 'Other', 'Sports')"
        ],
        [
         "39",
         "In \"a certain era\" on \"a certain continent,\" banal things are happening. The construction of \"Large-Scale Leisure Facilities\" has demanded that all the villages are to be evicted. When these demands are denied, the village and its residents are obliterated. A boy named Chap once lived in tranquility, but that happiness soon came crumbling down. He decides to embark on a journey of revenge, but soon falls madly in love with the king's daughter, Princess Melora. In order to fulfill her selfish wishes, he gathers his friends in order to overcome the impossible.",
         "('Adventure', 'Comedy', 'Fantasy', 'Kids')",
         "('Adventure', 'Comedy', 'Fantasy', 'Kids', 'Shounen')"
        ],
        [
         "40",
         "The story centers around a cat who answers people's wishes and delivers happiness. (\"Tane\" and \"neko\" are the Japanese words for \"seed\" and \"cat,\" respectively.)  (Source: ANN)",
         "('Comedy',)",
         "('Drama', 'Kids', 'Music')"
        ],
        [
         "41",
         "The series follows a young girl named Shina who hopes to become the world's best DJ, and is interested in new sounds. Shina explores a mysterious world filled with Otoppe, strange creatures capable of unique sounds.",
         "('Fantasy', 'Kids', 'Music')",
         "('Adventure', 'Comedy', 'Fantasy', 'Kids', 'Music', 'School', 'Sci-Fi', 'Shounen', 'Supernatural')"
        ],
        [
         "42",
         "The second season of the franchise. It aired within the \"Fight Tension☆School\" variety program.",
         "('Comedy', 'Mecha')",
         "('Comedy', 'Historical', 'Kids', 'Mecha', 'Parody', 'Shoujo', 'Slice of Life', 'Sports')"
        ],
        [
         "43",
         "Shorts that aired within \"Fight Tension☆Depart,\" a variety program that originally aired the anime as one of its segments. Celeb-chan is a narcissistic school girl who believes that she is a celebrity because her family is incredibly wealthy. She tries to do typical rich people things such as starting her own heavy makeup line, becoming a singer, saving an endangered species, buying a teacup poodle, etc. The results are never how she expects it.",
         "('Comedy', 'Parody')",
         "('Comedy', 'Kids', 'Parody', 'School', 'Shoujo', 'Slice of Life')"
        ],
        [
         "44",
         "How did Asia's most prominent entrepreneurs know when to grasp opportunities? And how did they overcome difficulties and attain their positions of power? This series uses the unconventional technique of blending actual documentary footage with CG animation to get a close-up look into the front lines and what lies behind the scenes of Asian business.  Our cartoon host is Shima Kosaku, a character from a popular Japanese business manga. He delves into the heart of the Asian economic market representing 4 billion people, to visit entrepreneurs who have survived turbulent times. Thai business magnate, Dhanin Chearavanont (Chairman of CP Group), and innovative Taiwanese semiconductor entrepreneur, Morris Chang (Chairman of TSMC), are among the many movers and shakers to be featured. Don't miss this opportunity to glimpse the dramatic lives of these media-shy business titans.  (Source: Official Site)",
         "('Drama', 'Seinen')",
         "('Drama', 'Historical', 'Other', 'Seinen', 'Supernatural')"
        ],
        [
         "45",
         "The story centers on Matthew, a daydreaming worrywart of a rabbit. Matthew also has two friends: Keron, a pessimistic frog who is fond of good-luck charms; and Ham, a hamster of few words and who moves through life at his own pace. The story follows the three animals' everyday lives within a mysterious forest.  (Source: ANN)",
         "('Slice of Life',)",
         "('Comedy', 'Kids', 'Seinen', 'Slice of Life')"
        ],
        [
         "46",
         "Excellent student Iwakura Mitsumi has always dreamt about leaving her small town, going to a prestigious university, and making positive change in the world. But she's so focused on reaching her goals that she's not prepared for the very different (and overwhelming) city life that awaits her in a Tokyo high school. Luckily, she makes fast friends with Shima Sousuke, a handsome classmate who's as laid-back as she is over-prepared. Can this naive country girl make it big in Tokyo with Sousuke by her side?  (Source: Seven Seas Entertainment)",
         "('School', 'Seinen', 'Slice of Life')",
         "('Drama', 'Romance', 'School', 'Seinen', 'Slice of Life')"
        ],
        [
         "47",
         "The story will follow four girls who seek to use their songs to heal and soothe the people of their world. The tagline reads, \"Kindhearted, powerful songs heal the world. These are beautiful miracles sung by humanity.\"  (Source: MAL Source)",
         "('Music',)",
         "('Ecchi', 'Fantasy', 'Music')"
        ],
        [
         "48",
         "It follows the fan favorite character Vandyne as his hidden secrets are revealed. Unlike the reboot, which exclusively uses 3DCG visuals, this series is like the earlier entries and is animated with 2D and 3D visuals.  The mini-series is part of a new promotional campaign from Sono Kong. The Korean toy manufacturer will launch four new mechanimals this month at retail.  (Source: toonbarn.com)",
         "('Adventure', 'Kids', 'Mecha', 'Other')",
         "('Action', 'Adventure', 'Comedy', 'Horror', 'Kids', 'Mecha', 'Mystery', 'Other', 'Supernatural')"
        ],
        [
         "49",
         "This was an anthology program containing several different anime each week along with some non-animated segments. Several of the animated films were short series including: Nazo no Rouba [謎の老婆] (tvss), Meibugyou Bun-san [名奉行・文さん], Jo Keibu Jinguuji Youko [女警部・神宮寺葉子], Remon Suzumori's Soudanjo [鈴森なんでも相談所].  (Source: animated-divots.net)",
         "('Comedy', 'Drama', 'Seinen', 'Slice of Life')",
         "('Music', 'Other', 'Seinen', 'Sports')"
        ]
       ],
       "shape": {
        "columns": 3,
        "rows": 9200
       }
      },
      "text/html": [
       "<div>\n",
       "<style scoped>\n",
       "    .dataframe tbody tr th:only-of-type {\n",
       "        vertical-align: middle;\n",
       "    }\n",
       "\n",
       "    .dataframe tbody tr th {\n",
       "        vertical-align: top;\n",
       "    }\n",
       "\n",
       "    .dataframe thead th {\n",
       "        text-align: right;\n",
       "    }\n",
       "</style>\n",
       "<table border=\"1\" class=\"dataframe\">\n",
       "  <thead>\n",
       "    <tr style=\"text-align: right;\">\n",
       "      <th></th>\n",
       "      <th>Synopsis</th>\n",
       "      <th>Actual Genres</th>\n",
       "      <th>Predicted Genres</th>\n",
       "    </tr>\n",
       "  </thead>\n",
       "  <tbody>\n",
       "    <tr>\n",
       "      <th>0</th>\n",
       "      <td>Sometime in the future, the world was complete...</td>\n",
       "      <td>(Action, Adventure)</td>\n",
       "      <td>(Adventure, Fantasy, Kids, Sci-Fi)</td>\n",
       "    </tr>\n",
       "    <tr>\n",
       "      <th>1</th>\n",
       "      <td>Set in 2014, the anime follows the adventures ...</td>\n",
       "      <td>(Comedy,)</td>\n",
       "      <td>(Comedy, Fantasy, Shounen, Slice of Life)</td>\n",
       "    </tr>\n",
       "    <tr>\n",
       "      <th>2</th>\n",
       "      <td>Follows a pig whose family's mission is to col...</td>\n",
       "      <td>(Comedy, Kids)</td>\n",
       "      <td>(Comedy, Ecchi, Kids, Seinen, Slice of Life)</td>\n",
       "    </tr>\n",
       "    <tr>\n",
       "      <th>3</th>\n",
       "      <td>In honor of the 2018 World Cup, this season of...</td>\n",
       "      <td>(Kids, Sci-Fi, Sports, Super Power)</td>\n",
       "      <td>(Action, Drama, Kids, Sci-Fi, Sports, Super Po...</td>\n",
       "    </tr>\n",
       "    <tr>\n",
       "      <th>4</th>\n",
       "      <td>Fairies living in a fluffy forest, where both ...</td>\n",
       "      <td>(Fantasy, Kids)</td>\n",
       "      <td>(Comedy, Fantasy, Horror, Kids)</td>\n",
       "    </tr>\n",
       "    <tr>\n",
       "      <th>...</th>\n",
       "      <td>...</td>\n",
       "      <td>...</td>\n",
       "      <td>...</td>\n",
       "    </tr>\n",
       "    <tr>\n",
       "      <th>9195</th>\n",
       "      <td>The Konohagakure Grand Sports Festival has beg...</td>\n",
       "      <td>(Action, Comedy, Fantasy, Other, Shounen, Sports)</td>\n",
       "      <td>(Comedy, Drama, Fantasy, Other, Shounen, Sports)</td>\n",
       "    </tr>\n",
       "    <tr>\n",
       "      <th>9196</th>\n",
       "      <td>Special bundled with the Blu-ray/DVD volume of .</td>\n",
       "      <td>(Ecchi,)</td>\n",
       "      <td>(Comedy, Ecchi, Fantasy, Harem, Music, School,...</td>\n",
       "    </tr>\n",
       "    <tr>\n",
       "      <th>9197</th>\n",
       "      <td>According to the official Hobby Japan website,...</td>\n",
       "      <td>(Comedy, Ecchi, Fantasy, Parody)</td>\n",
       "      <td>(Action, Comedy, Ecchi, Music, Parody, School,...</td>\n",
       "    </tr>\n",
       "    <tr>\n",
       "      <th>9198</th>\n",
       "      <td>A series of comedic shorts featuring chibi ver...</td>\n",
       "      <td>(Adventure, Comedy, Fantasy, Parody)</td>\n",
       "      <td>(Comedy, Kids, Music, Parody)</td>\n",
       "    </tr>\n",
       "    <tr>\n",
       "      <th>9199</th>\n",
       "      <td>These shorts, included in the Blu-ray and DVD ...</td>\n",
       "      <td>(Comedy, Seinen, Slice of Life)</td>\n",
       "      <td>(Comedy, Ecchi, Parody, School, Shoujo, Slice ...</td>\n",
       "    </tr>\n",
       "  </tbody>\n",
       "</table>\n",
       "<p>9200 rows × 3 columns</p>\n",
       "</div>"
      ],
      "text/plain": [
       "                                               Synopsis  \\\n",
       "0     Sometime in the future, the world was complete...   \n",
       "1     Set in 2014, the anime follows the adventures ...   \n",
       "2     Follows a pig whose family's mission is to col...   \n",
       "3     In honor of the 2018 World Cup, this season of...   \n",
       "4     Fairies living in a fluffy forest, where both ...   \n",
       "...                                                 ...   \n",
       "9195  The Konohagakure Grand Sports Festival has beg...   \n",
       "9196   Special bundled with the Blu-ray/DVD volume of .   \n",
       "9197  According to the official Hobby Japan website,...   \n",
       "9198  A series of comedic shorts featuring chibi ver...   \n",
       "9199  These shorts, included in the Blu-ray and DVD ...   \n",
       "\n",
       "                                          Actual Genres  \\\n",
       "0                                   (Action, Adventure)   \n",
       "1                                             (Comedy,)   \n",
       "2                                        (Comedy, Kids)   \n",
       "3                   (Kids, Sci-Fi, Sports, Super Power)   \n",
       "4                                       (Fantasy, Kids)   \n",
       "...                                                 ...   \n",
       "9195  (Action, Comedy, Fantasy, Other, Shounen, Sports)   \n",
       "9196                                           (Ecchi,)   \n",
       "9197                   (Comedy, Ecchi, Fantasy, Parody)   \n",
       "9198               (Adventure, Comedy, Fantasy, Parody)   \n",
       "9199                    (Comedy, Seinen, Slice of Life)   \n",
       "\n",
       "                                       Predicted Genres  \n",
       "0                    (Adventure, Fantasy, Kids, Sci-Fi)  \n",
       "1             (Comedy, Fantasy, Shounen, Slice of Life)  \n",
       "2          (Comedy, Ecchi, Kids, Seinen, Slice of Life)  \n",
       "3     (Action, Drama, Kids, Sci-Fi, Sports, Super Po...  \n",
       "4                       (Comedy, Fantasy, Horror, Kids)  \n",
       "...                                                 ...  \n",
       "9195   (Comedy, Drama, Fantasy, Other, Shounen, Sports)  \n",
       "9196  (Comedy, Ecchi, Fantasy, Harem, Music, School,...  \n",
       "9197  (Action, Comedy, Ecchi, Music, Parody, School,...  \n",
       "9198                      (Comedy, Kids, Music, Parody)  \n",
       "9199  (Comedy, Ecchi, Parody, School, Shoujo, Slice ...  \n",
       "\n",
       "[9200 rows x 3 columns]"
      ]
     },
     "metadata": {},
     "output_type": "display_data"
    },
    {
     "data": {
      "application/vnd.microsoft.datawrangler.viewer.v0+json": {
       "columns": [
        {
         "name": "index",
         "rawType": "int64",
         "type": "integer"
        },
        {
         "name": "Synopsis",
         "rawType": "object",
         "type": "string"
        },
        {
         "name": "Actual Genres",
         "rawType": "object",
         "type": "unknown"
        },
        {
         "name": "Predicted Genres",
         "rawType": "object",
         "type": "unknown"
        }
       ],
       "conversionMethod": "pd.DataFrame",
       "ref": "c22bf972-34a1-478b-956f-04e529dd2031",
       "rows": [
        [
         "0",
         "Shuramaru is hated and feared by the villagers for his unusual powers. He thinks he is human, but... is he?  (Source: AniDB)",
         "('Supernatural',)",
         "('Comedy', 'Fantasy', 'Kids', 'Mecha', 'Sci-Fi', 'Shounen')"
        ],
        [
         "1",
         "The story begins 15 years after the demon king was defeated and the world has become peaceful. Kotone, who graduated from school and became a magician, inquired about the kingdom-affiliated RPG Real Estate in order to find a new home. In reality, RPG Real Estate was Kotone's place of employment, and together with Fa, a demi-human, the priest Rufuria, and the soldier Rakira, they help support the searches of new homes for the customers with various circumstances.  (Source: MU, edited)",
         "('Comedy', 'Fantasy', 'Slice of Life')",
         "('Drama', 'School')"
        ],
        [
         "2",
         "An elite soldier, whose nickname is God of Death, is transferred to another unit known as the PaPaRa Army. The PaPaRa Army is infamous for its elite but hilariously crazy members. There is no plot to speak of other than humour, hilarious brutality, and general nonsense. This is also Matsuzawa-sensei's debut work.",
         "('Action', 'Adventure', 'Comedy', 'Romance', 'Sci-Fi')",
         "('Action', 'Adventure', 'Fantasy', 'Military', 'Music', 'Romance', 'Seinen', 'Super Power')"
        ],
        [
         "3",
         "The offensive and defensive battles between Nobuo, an office worker, and Chi-Sui Maru, a mosquito.",
         "('Comedy',)",
         "('Drama', 'Other', 'Romance', 'Slice of Life')"
        ],
        [
         "4",
         "Ryou Mizushima enrolls in junior high and joins the badminton club with great vigor. Although the club didn't have a proper coach, Mizushima improved his skills with his own physical strength by the time he participated in the prefectural tournament. Afterwards, he is approached by the Yokohama Minato High School's badminton coach, Ebihara.  Indecisive and timid, Mizushima hesitates to attend such a prestigious school. However, with his elder sister Rika giving him a strong push, he decides to go to Yokohama Minato. Now blessed with a coach and idiosyncratic teammates, Mizushima will gain experience he's lacked till now, and aims to win the inter-high tournament.  (Source: MAL News)",
         "('Sports',)",
         "('Action', 'Adventure', 'Comedy', 'Drama', 'Ecchi', 'Fantasy', 'School', 'Seinen', 'Shounen', 'Supernatural')"
        ],
        [
         "5",
         "The series revolves around life in Gifu Prefecture in central Japan — as seen through the eyes of Tatekayoko, a female inhabitant who speaks in the dialect of Gifu's Tounou region. The anime will air within the program on Tokyo MX.  (Source: ANN)",
         "('Comedy', 'Kids')",
         "('Ecchi', 'Music', 'Other', 'Super Power')"
        ],
        [
         "6",
         "The 3rd continuation of NTV's ZIP! anime parody shorts. This one focuses on . Like with the previous season, occasionally the Gatchaman team and now the Mazinger Z team show up in some episodes.",
         "('Comedy', 'Parody')",
         "('Adventure', 'Drama', 'Fantasy', 'Historical', 'Military', 'Music', 'Other', 'Shounen', 'Sports')"
        ],
        [
         "7",
         "The second season of . SBS took over broadcasting the show. The art style has been changed for a more modern anime-esque appearance and some voice actors did not reprise their character's roles.",
         "('Kids', 'Sci-Fi')",
         "('Comedy', 'Horror', 'Military', 'Other', 'Slice of Life', 'Supernatural')"
        ],
        [
         "8",
         "When Nian Chi was a young child, his elder sister was kidnapped in front of him, while he could do nothing but watch, a thing that has tormented him for all these years. Now 10 years later, he's dead set on going to rescue his sister, and sets out.",
         "('Action', 'Adventure', 'Drama', 'Fantasy', 'Historical', 'Other', 'Supernatural')",
         "('Action', 'Comedy', 'Drama', 'Fantasy', 'Historical', 'Romance', 'Shoujo', 'Super Power', 'Supernatural')"
        ],
        [
         "9",
         "The anime will follow two units from the Vazzrock series—Vazzy and Rock Down.",
         "('Music',)",
         "('Hentai',)"
        ],
        [
         "10",
         "The anime's story centers on a cat named Maru, adopted by a girl named Anna from a shelter in Matsuyama city. Loved and well fed by the family, Maru gets rounder and fatter every day, spending most of his day sitting by the window and looking at the garden outside. When the family gets a new cat named Cerisier and begins doting on it, Maru gets jealous. In a fight with Cerisier, Maru is hurt by the family's words to him, and follows the advice of another cat to leave and see the world.  (Source: ANN)",
         "('Slice of Life',)",
         "('Action', 'Comedy', 'Demons', 'Ecchi', 'Mecha', 'Music', 'Other', 'Sci-Fi', 'Sports')"
        ],
        [
         "11",
         "An NHK toddler's anime following cowardly creatures representing typical Halloween monsters like Dracula and a witch.",
         "('Kids',)",
         "('Fantasy', 'Hentai', 'Historical', 'Kids', 'Other')"
        ],
        [
         "12",
         "The 3rd animated season. It follows an entirely new story and new characters unrelated to the previous seasons. The previous seasons metaphorical usage of magic/spirit/chi to visualize yoyo battles has now become literal. The yoyo toys have spirit animals within them and the cast tries to return them to their world before the villains use them for evil purposes.  Leon has an argument with his classmate Gurido for trifle. At the advice of Catherine, Leon and Gurido decide to judge the victory or defeat through yoyo competition. The Daemon Tiger appears when Leon and Gurido begin to fight in the woods. Leon follows Daemon Tiger and work with it. With Daemon Tiger’s help, Leon defeats Gurido.  (Source: Official YouTube channel) ",
         "('Fantasy', 'Kids', 'Other')",
         "('Comedy', 'Drama', 'Shounen', 'Supernatural')"
        ],
        [
         "13",
         "Yuuya, one half of the boy pop duo ZINGS, may be the laziest performer in the Japanese music industry. His partner is out there giving 110% every night (and, thankfully, he's quite popular), but Yuuya's half-assed, sloppy dancing, and his frankly hostile attitude toward the audience, has the fans hating him and his agent looking for any excuse to cut him loose. The career of a pop idol just isn't the path of easy leisure and adulation Yuuya expected...  After a particularly lifeless concert appearance, Yuuya meets a girl backstage. She's dressed to the nines in a colorful outfit, she's full of vim and vigor, and all she wants from life is to perform. There's just one problem: She's been dead for a year. This is the ghost of Asahi Mogami, the beloved singer whose time on the stage was tragically cut short, unless... If ghosts are real, is spirit possession really that much of a stretch?  (Source: Kodansha US) ",
         "('Comedy', 'Music', 'Other', 'Supernatural')",
         "('Action', 'Fantasy', 'Romance', 'Shounen')"
        ],
        [
         "14",
         "Based on the gag manga by Fujio A Fujiko.",
         "('Comedy', 'Slice of Life')",
         "('Comedy', 'Kids', 'Other')"
        ],
        [
         "15",
         "In the world of magic, there exist deadly irreversible techniques commonly known as spellblades. These sparse and elusive spells, along with their casters, are shrouded in mystery and only their absolute lethality is known to the masses.  Every year, the spring blossom signifies a new intake of students to the prestigious magic school Kimberly. With reactions of awe and bewilderment, a ceremonious parade complete with magical beasts welcomes the newcomers to the institution. Among them is the mysterious Oliver Horn, whose indifference changes to fascination as he notices a peculiar figure—a girl wearing strange attire equipped with a Japanese sword.  From the entrance ceremony onward, Oliver realizes that not all is as it seems at Kimberly, as the emergence of labyrinths, monsters, and other threats endanger the new student body. Nanatsu no Maken ga Shihai suru explores the intertwined fates of two warriors as they uncover the dark truths that lurk within the walls of the academy.  ",
         "('Action', 'Fantasy', 'School')",
         "('Drama', 'Harem', 'Romance', 'Seinen')"
        ],
        [
         "16",
         "The story is set in a world where every event has been turned into programs, and mysterious monsters known as \"Promin\" maintain the world. However, many Promin who have turned into bugs known as \"Bugmin\" are responsible for many of the world's real-life bugs. Left alone, they may eventually turn into a big problem. The boy Yuuto encounters the space dog Wanda, and the pair use a camera-like device and key items to capture Bugmin. Promin themselves are able to do things like \"accelerate objects,\" \"spew fire,\" or \"create objects,\" through an ability known as \"Kamiwaza\" (miracle), and are able to fend off Bugmin with it. At first, the Bugmin only cause small, bothersome things, but it will soon elevate into a global scale threat. Can one boy and one dog save the world?  (Source: ANN)",
         "('Kids', 'Sci-Fi')",
         "('Action', 'Comedy', 'Harem', 'Hentai', 'Mecha', 'Military', 'Mystery', 'Parody', 'Sci-Fi', 'Seinen', 'Shounen', 'Super Power')"
        ],
        [
         "17",
         "The story centers on the everyday life of the cats Suna and Manu, who live in a desert — a desert made of sugar instead of sand.  (Source: ANN)",
         "('Comedy',)",
         "('Comedy', 'Other', 'Sci-Fi', 'Shounen')"
        ],
        [
         "18",
         "Fourth season of .  Now that spring is in the air, the forest animals are back to frolicking amongst the freshly blooming flowers and busy at work planting new trees to add even more color to their luscious home. The bear brothers—Briar and Bramble, and all their friends are having a jolly great time basking in this colorful season; however, from time to time, they stumble across Logger Vick who will not give up. The bears, along with their little friends make it their mission to protect the forest. This always results in a lot of laughter, tears and of course, adventures aplenty!  (Source: Official website)",
         "('Adventure', 'Comedy', 'Kids')",
         "('Action', 'Comedy', 'Drama', 'Other', 'Seinen', 'Slice of Life')"
        ],
        [
         "19",
         "Cute yet mighty! Mini animal rangers transform into super power Force-Bot to save endangered friends! In the ruthless world of animals, big strong animals dominate and feed on the small and weak. To buck this natural system, small animals form a secret organization \"MINIFORCE.\" Rigidly selected mutants with special powers: Volt, Sammy, Lucy and Max become top secret rangers to save their small village Bluebell from the hand of human villain Nein and his underling lizard Pascal. Animals in danger? No problem! When Force-Gem alerts, it's time to get suit on! With Mini Force and their transforming mechanics, it’s time to sweep! (Source: Samg Animation)",
         "('Action', 'Adventure')",
         "('Action', 'Comedy', 'Ecchi', 'Shounen', 'Slice of Life', 'Super Power', 'Supernatural')"
        ],
        [
         "20",
         "The series follows a mysterious but gentle-hearted man named Yasashi Yasamura who spreads warmth and human kindness wherever he goes.  (Source: Crunchyroll)",
         "('Comedy',)",
         "('Ecchi', 'Military', 'Other', 'Seinen', 'Slice of Life')"
        ],
        [
         "21",
         "As the most powerful entity of all time, the Demon Lord Varvatos thinks life is a big fat snore. When he takes matters into his own hands and decides to reincarnate, he calibrates his magical strength to be perfectly average. But there is no way he could have predicted that everyone in the modern world would be weak as hell, which means he is totally overpowered once again! Reborn under the name Ard, he has ladies fawning over him, the royal family begging him to become the next king, and an ex-minion insisting on killing him?! But Ard has a one-track mind, and he won't stop at anything to achieve his ultimate goal!  (Source: Yen Press)",
         "('Action', 'Fantasy', 'School')",
         "('Action', 'Comedy', 'Military', 'School', 'Shounen')"
        ],
        [
         "22",
         "A short anime about Taeko Shinbou who is an office worker that is patient with everything and greets everything that comes her way with cheer. An announcement was made that a \"regular person\" from Kantou will voice Taeko rather than an industry professional.  (Source: ANN)",
         "('Slice of Life',)",
         "('Adventure', 'Comedy', 'Drama', 'Mystery', 'Other')"
        ],
        [
         "23",
         "Comedy show based on Greek myths about how perverted the gods are. ",
         "('Comedy', 'Ecchi')",
         "('Comedy', 'Kids', 'Other', 'Sci-Fi')"
        ],
        [
         "24",
         "A foolish clumsy angel came to the human world to help a very unlucky boy. But more accidents are then created...",
         "('Comedy', 'Fantasy')",
         "('Action', 'Hentai', 'Historical', 'Other', 'Sci-Fi', 'Shounen', 'Supernatural')"
        ],
        [
         "25",
         "A little ghost girl gets worries when Ms. Fushihara, a corporate slave, is working till midnight, and tries to make her go home. While saying \"Leave now~,\" the ghost girl helps and brings her refreshments, healing Ms. Fushihara's heart with her preciousness. Be healed by the heartwarming daily life of the cute little ghost and the corporate slave Ms. Fushihara.  (Source: MAL News)",
         "('Comedy', 'Shounen', 'Slice of Life', 'Supernatural')",
         "('Action', 'Ecchi', 'Other', 'Romance', 'Shounen', 'Super Power')"
        ],
        [
         "26",
         "A prospective witch, a kindergartener who acts like a middle aged, an innocent and incompetent pretty devil, and a genius dog which understands man's words presents a slapstick comedy.  (Source: Toei Animation)",
         "('Comedy', 'Kids')",
         "('Action', 'Fantasy', 'Other', 'Supernatural')"
        ],
        [
         "27",
         "Urobe was a son of the great chief of Pyrimi, Africa. One day he hung on an airplane and came to Japan. Because of the cold and hunger, he fell on to the yard of Shishio’s house, and Shishio nursed him. Kurobe was very thankful for him and began to repay for his kindness. Kurobe dug a big hole in the yard.Every time he returns the favor, he threw a stone into the hole until stones would fill the hole.  (Source: ANN)",
         "('Comedy',)",
         "('Action', 'Comedy', 'Mecha', 'Other', 'Shounen')"
        ],
        [
         "28",
         "It is the time of civil war. Zipangu is a country where people live together with gimmick warriors, a kind of super human robot. There, people and gimmick warriors struggle to seize power. Musashi, a Samurai gimmick warrior, departs to on a quest to become the best Samurai warrior. Musashi thrives in the series of battles, encountering with many heroes and villains including his lifelong rival, Kojiro, an expert swordsman.Later, Mushashi and Kojiro are sent by their General to escort the Princess, a granddaughter of the general. The princess is spoiled and difficult, so their journey becomes series of misadventures. Soon, they are caught up in a battle to seize control of the Country.",
         "('Action', 'Adventure', 'Mecha')",
         "('Shounen',)"
        ],
        [
         "29",
         "A stop-motion anime using beaded characters. Here a magician rabbits solve problems by using magic.",
         "('Kids',)",
         "('Action', 'Historical', 'Horror', 'Other', 'Supernatural')"
        ],
        [
         "30",
         "Jim Button and his best friend Luke live on an island. When Luke has to leave the island Jim decides to go with him. when they leave they don't have a clue about the hidden dangers in the world. while traveling they learn that a young princess name Lisi was captured by pirates whom brought her to Sorrowland. The evil and dangerous dragon miss. Grindtooth rules in that land. Jim and Luke decide to go to Sorrowland to save princess Lisi.",
         "('Adventure', 'Fantasy', 'Kids')",
         "('Drama', 'Fantasy', 'Mecha', 'Mystery')"
        ],
        [
         "31",
         "In a Tokyo suburb small town, there lives a girl named Nekota Kaoru. Being born into a normal family, being raised in a normal way, this spring she'll become a normal happy middle-schooler.  However, since young age, Nekota had an abnormal ability to see Imadoki youkai (Modern Monster). And she has kept it a secret from others...",
         "('Fantasy', 'Kids', 'School', 'Slice of Life')",
         "('Comedy', 'Hentai', 'Slice of Life')"
        ],
        [
         "32",
         "The series follows a boy named Tangoo and a robot named Ullashong.",
         "('Action', 'Comedy', 'Mecha')",
         "('Hentai', 'Other', 'Slice of Life')"
        ],
        [
         "33",
         "The story is told by the cat-eyed boy, hated by humans and demons, who engages in tales of terror, including monsters and children.",
         "('Adventure', 'Horror', 'Other', 'Seinen', 'Supernatural')",
         "('Comedy', 'Hentai')"
        ],
        [
         "34",
         "In the city of Fuuto, criminals make use of USB-like devices called \"Gaia Memories\" to turn themselves into superpowered monsters known as \"Dopants,\" wreaking havoc in the otherwise peaceful city. However, there are also heroes who utilize the Gaia Memories to fight these criminals, one of whom is the self-proclaimed, hard-boiled detective Shoutarou Hidari. With the help of his witty partner Philip, the two transform into Kamen Rider W—the legendary hero of Fuuto city.  After the fall of Museum—the evil organisation responsible for many crimes in Fuuto—the production and distribution of Gaia Memories has halted. However, remnants of Gaia Memories still remain within society and are sold in the black market at high prices. Thus, the two heroes from Narumi Detective Agency are yet to have time to relax. Sights of Dopants still occur and the agency receives more and more clients who claim to experience supernatural phenomena.  Regardless of the arduous nature of the task, Kamen Rider W promises that those who hurt Fuuto will inevitably count up their sins.  ",
         "('Action', 'Drama', 'Mystery', 'Other', 'Seinen', 'Supernatural')",
         "('Comedy', 'Mystery', 'Romance', 'School', 'Seinen')"
        ],
        [
         "35",
         "The series follows a variety of employed shellfish who exhibit selfish or odd personality traits.  (Source: LiveChart)",
         "('Comedy',)",
         "('Comedy', 'Hentai', 'Military')"
        ],
        [
         "36",
         "A gag comedy aimed at young children featuring Zombie-kun, a child zombie, and his interactions with the world. It's not intended to be scary in the slightest, but rather, it focuses on the comical and bizarre things Zombie-kun's body can do, and the common-sense-defying way Zombie-kun behaves. For example, he'll take out his stomach and inflate it with air to use as a pillow, or if he gets wet, he'll detach parts of his body and wring them out like towels, then reattach them with a glue stick. Everything is depicted in a cute, cartoony fashion so as not to be too graphic for kids.  (Source: Baka-Updates)",
         "('Comedy', 'Kids')",
         "('Comedy', 'Hentai', 'Mystery', 'Other', 'Sci-Fi', 'Seinen', 'Super Power')"
        ],
        [
         "37",
         "During the ancient Western Han dynasty (206BC-9AD), a series of disasters caused by occult phenomena swept across the entire world. Huainanzi, the mysterious Chinese book bound in bamboo, was ripped apart and sent through time to different historical junctures. The book pieces were transformed into various objects, waiting to be rediscovered. A hundred years later, a young man, named Hong Lie, lifts up the burden to collect the missing pieces of the ancient bamboo book. With the help of Ba Gong and his friends going through the Gate of 24 Solar Terms, Hong Lie travels through dynasties to search for the lost pieces. In his adventure, Hong Lie and his loyal friends, Ji Ming and Gou Tiao, experienced the greatness of the ancient legends, appreciating the wisdom of the ancestors from Chun Qiu Period, and witnessed all the weird things happening among ordinary people. Warmth and coldness, sadness and happiness, separation and reunion, stories led him to the great world in the book Huainanzi. Through exciting adventures, he also made lifelong friends. In this special way, Hong Lie communicated with ancestors and started to see the principle of world, realizing that obeying the laws of nature and being in harmony with the environment was the right thing to do. A simple collecting journey slowly became a challenging trip for him to go on with his family mission, and inherit the ancestor’s spirit. (Source: Wikipedia)",
         "('Adventure', 'Fantasy', 'Historical')",
         "('Fantasy',)"
        ],
        [
         "38",
         "A young boy has adventures with his transforming car.",
         "('Kids', 'Other')",
         "('Sci-Fi', 'Sports')"
        ],
        [
         "39",
         "Kikuru Madan, is a monster hunter with excellent performance, because of his particular job in the forest, but he decided to quit it because of fear wasting his own youth...  (Source: LHTranslation)",
         "('Comedy', 'Ecchi', 'Fantasy', 'Harem', 'Shounen')",
         "('Action', 'Drama', 'Horror', 'Mecha', 'Other', 'Romance', 'Shoujo')"
        ],
        [
         "40",
         "Norakuro is a black dog enlisted in the \"Mokenrentai\" (Fierce Dog Brigade), an Imperial army of dogs fighting in a war against the enemy Monkey Army.  Norakuro is a stray black-and-white dog in an army of white dogs who blundered his way while being a Private Second-Class.  This serieswas relatively faithful to the comics. One big change, however, was the addition of the army nurse Miko, whom Norakuro had a crush on. For this series, Norakuro was voiced by Nobuyo Ooyama, who would later become noted for voicing Doraemon.  (Source: Cartoon Research)",
         "('Comedy',)",
         "('Comedy', 'Ecchi', 'Parody', 'Seinen', 'Super Power')"
        ],
        [
         "41",
         "The \"Waruchin Ceremony\" has been stolen from All Star, a planet that exists in the outskirts of space. The computer that is built into it is programmed to make anything possible. The thief is actually the villain, Doctor Bell. Doctor Bell schemes to invade the other planets through the use of Waruchin. The prince of All Star, Prince Chikkun, together with his trusty advisor, the intellectual Takkun, decides to head towards Earth in pursuit of Doctor Bell.  (Source: ANN)",
         "('Comedy', 'Sci-Fi')",
         "('Comedy', 'Shounen')"
        ],
        [
         "42",
         "The second season of . Its broadcast will be in the same timeslot as the re-airing of the original 2001 anime on Fuji TV.",
         "('Comedy',)",
         "('Comedy', 'Drama', 'Fantasy', 'Horror', 'Supernatural')"
        ],
        [
         "43",
         "G.G. Bonds enters the realm of dreams to stop evil's power from growing. They must get the citizens of Crystal City to remember their dreams so that the 5 element powers can recharge.",
         "('Kids', 'Sci-Fi', 'Super Power')",
         "('Comedy', 'Historical', 'Mystery', 'Other', 'Shounen', 'Slice of Life')"
        ],
        [
         "44",
         "It follows the daily life of Kotetsu-kun, who aspires to be an astronaut, and friends at the Animal Space Academy as they all pursue their dreams.  (Source: ANN)",
         "('Comedy', 'Other')",
         "('Comedy', 'Drama', 'Harem', 'Military', 'Mystery', 'Shounen', 'Slice of Life', 'Super Power')"
        ],
        [
         "45",
         "Based on a manga by Fujiko (A) Fujio and Fujiko (F) Fujio.",
         "('Adventure',)",
         "('Comedy', 'Kids', 'Other')"
        ],
        [
         "46",
         "Based on Nasu Masamoto's Zukkoke Sannin-gumi juvenile novels series.  The main characters are 6 grade boys, Hachibei, Hakase, and Mo-chan. This anime shows their adventures.  (Source: AnimeNfo)",
         "('Comedy', 'Kids', 'School')",
         "('Other',)"
        ],
        [
         "47",
         "The story centers around a mysterious tall tower built from an (unsteady) stack of building blocks. Every morning, noon, and evening, an old timekeeping man rings the bell in the tower to confirm the time for the local townspeople. However, one day at noon, the tower bell fails to ring — leaving the townspeople confused about when to eat lunch. The fantasy adventure begins when Karl, an inquisitive boy living in the town, decides to go to the tower's plaza to see what is the matter.  (Source: ANN)",
         "('Adventure', 'Fantasy', 'Kids', 'Mystery')",
         "('Hentai', 'Other', 'Shoujo')"
        ],
        [
         "48",
         "WHO'S YOUR NANNY?  Tooru Kirishima is the right-hand man of the Sakuragi crime family. For him, the job is a perfect excuse to let his violent instincts run wild, earning him the nickname \"The Demon of Sakuragi.\" It seems like nothing will stand in the way of his vicious nature. But then one day, he receives an assignment like never before from the boss—babysitting his daughter!  This is the heartwarming (or is it bloodcurdling?) story of a little girl and her yakuza caretaker!  (Source: Kaiten Books, edited)",
         "('Comedy', 'Slice of Life')",
         "('Comedy', 'Mystery', 'Other', 'Romance', 'Sci-Fi', 'Shounen', 'Super Power')"
        ],
        [
         "49",
         "Mameda is a shapeshifting Tanuki girl who dreams of becoming human someday. One day, she turns into a black-haired beauty and heads out to Osaka, but is soon discovered! One beautiful woman relentlessly says to the depressed Mameda, \"Go back to where you came from!\" calls herself Rakugo-ka (Rakugo storyteller). The Taisho Rakugo fantasy that will make you smile begins here!  (Source: MAL News)",
         "('Historical', 'Seinen', 'Supernatural')",
         "('Action', 'Comedy', 'Ecchi', 'Other', 'Romance', 'Shounen', 'Slice of Life', 'Sports', 'Supernatural')"
        ]
       ],
       "shape": {
        "columns": 3,
        "rows": 1113
       }
      },
      "text/html": [
       "<div>\n",
       "<style scoped>\n",
       "    .dataframe tbody tr th:only-of-type {\n",
       "        vertical-align: middle;\n",
       "    }\n",
       "\n",
       "    .dataframe tbody tr th {\n",
       "        vertical-align: top;\n",
       "    }\n",
       "\n",
       "    .dataframe thead th {\n",
       "        text-align: right;\n",
       "    }\n",
       "</style>\n",
       "<table border=\"1\" class=\"dataframe\">\n",
       "  <thead>\n",
       "    <tr style=\"text-align: right;\">\n",
       "      <th></th>\n",
       "      <th>Synopsis</th>\n",
       "      <th>Actual Genres</th>\n",
       "      <th>Predicted Genres</th>\n",
       "    </tr>\n",
       "  </thead>\n",
       "  <tbody>\n",
       "    <tr>\n",
       "      <th>0</th>\n",
       "      <td>Shuramaru is hated and feared by the villagers...</td>\n",
       "      <td>(Supernatural,)</td>\n",
       "      <td>(Comedy, Fantasy, Kids, Mecha, Sci-Fi, Shounen)</td>\n",
       "    </tr>\n",
       "    <tr>\n",
       "      <th>1</th>\n",
       "      <td>The story begins 15 years after the demon king...</td>\n",
       "      <td>(Comedy, Fantasy, Slice of Life)</td>\n",
       "      <td>(Drama, School)</td>\n",
       "    </tr>\n",
       "    <tr>\n",
       "      <th>2</th>\n",
       "      <td>An elite soldier, whose nickname is God of Dea...</td>\n",
       "      <td>(Action, Adventure, Comedy, Romance, Sci-Fi)</td>\n",
       "      <td>(Action, Adventure, Fantasy, Military, Music, ...</td>\n",
       "    </tr>\n",
       "    <tr>\n",
       "      <th>3</th>\n",
       "      <td>The offensive and defensive battles between No...</td>\n",
       "      <td>(Comedy,)</td>\n",
       "      <td>(Drama, Other, Romance, Slice of Life)</td>\n",
       "    </tr>\n",
       "    <tr>\n",
       "      <th>4</th>\n",
       "      <td>Ryou Mizushima enrolls in junior high and join...</td>\n",
       "      <td>(Sports,)</td>\n",
       "      <td>(Action, Adventure, Comedy, Drama, Ecchi, Fant...</td>\n",
       "    </tr>\n",
       "    <tr>\n",
       "      <th>...</th>\n",
       "      <td>...</td>\n",
       "      <td>...</td>\n",
       "      <td>...</td>\n",
       "    </tr>\n",
       "    <tr>\n",
       "      <th>1108</th>\n",
       "      <td>Three episodes aired on TV as part of the Ribo...</td>\n",
       "      <td>(Shoujo, Supernatural)</td>\n",
       "      <td>(Adventure, Fantasy, Kids)</td>\n",
       "    </tr>\n",
       "    <tr>\n",
       "      <th>1109</th>\n",
       "      <td>Short mini-theater specials included in the BD...</td>\n",
       "      <td>(Slice of Life, Supernatural)</td>\n",
       "      <td>(Other, Seinen, Slice of Life)</td>\n",
       "    </tr>\n",
       "    <tr>\n",
       "      <th>1110</th>\n",
       "      <td>Three episodes aired on TV as part of the Ribo...</td>\n",
       "      <td>(Shoujo,)</td>\n",
       "      <td>(Adventure, Comedy, Ecchi, Mecha, Parody, Sci-...</td>\n",
       "    </tr>\n",
       "    <tr>\n",
       "      <th>1111</th>\n",
       "      <td>As college entrance examinations draw near, tw...</td>\n",
       "      <td>(School, Slice of Life)</td>\n",
       "      <td>(Fantasy, Music, Other, School, Supernatural)</td>\n",
       "    </tr>\n",
       "    <tr>\n",
       "      <th>1112</th>\n",
       "      <td>Three episodes aired on TV as part of the Ribo...</td>\n",
       "      <td>(Shoujo,)</td>\n",
       "      <td>(Comedy, Drama, Ecchi, Mystery, Romance, Schoo...</td>\n",
       "    </tr>\n",
       "  </tbody>\n",
       "</table>\n",
       "<p>1113 rows × 3 columns</p>\n",
       "</div>"
      ],
      "text/plain": [
       "                                               Synopsis  \\\n",
       "0     Shuramaru is hated and feared by the villagers...   \n",
       "1     The story begins 15 years after the demon king...   \n",
       "2     An elite soldier, whose nickname is God of Dea...   \n",
       "3     The offensive and defensive battles between No...   \n",
       "4     Ryou Mizushima enrolls in junior high and join...   \n",
       "...                                                 ...   \n",
       "1108  Three episodes aired on TV as part of the Ribo...   \n",
       "1109  Short mini-theater specials included in the BD...   \n",
       "1110  Three episodes aired on TV as part of the Ribo...   \n",
       "1111  As college entrance examinations draw near, tw...   \n",
       "1112  Three episodes aired on TV as part of the Ribo...   \n",
       "\n",
       "                                     Actual Genres  \\\n",
       "0                                  (Supernatural,)   \n",
       "1                 (Comedy, Fantasy, Slice of Life)   \n",
       "2     (Action, Adventure, Comedy, Romance, Sci-Fi)   \n",
       "3                                        (Comedy,)   \n",
       "4                                        (Sports,)   \n",
       "...                                            ...   \n",
       "1108                        (Shoujo, Supernatural)   \n",
       "1109                 (Slice of Life, Supernatural)   \n",
       "1110                                     (Shoujo,)   \n",
       "1111                       (School, Slice of Life)   \n",
       "1112                                     (Shoujo,)   \n",
       "\n",
       "                                       Predicted Genres  \n",
       "0       (Comedy, Fantasy, Kids, Mecha, Sci-Fi, Shounen)  \n",
       "1                                       (Drama, School)  \n",
       "2     (Action, Adventure, Fantasy, Military, Music, ...  \n",
       "3                (Drama, Other, Romance, Slice of Life)  \n",
       "4     (Action, Adventure, Comedy, Drama, Ecchi, Fant...  \n",
       "...                                                 ...  \n",
       "1108                         (Adventure, Fantasy, Kids)  \n",
       "1109                     (Other, Seinen, Slice of Life)  \n",
       "1110  (Adventure, Comedy, Ecchi, Mecha, Parody, Sci-...  \n",
       "1111      (Fantasy, Music, Other, School, Supernatural)  \n",
       "1112  (Comedy, Drama, Ecchi, Mystery, Romance, Schoo...  \n",
       "\n",
       "[1113 rows x 3 columns]"
      ]
     },
     "metadata": {},
     "output_type": "display_data"
    },
    {
     "data": {
      "application/vnd.microsoft.datawrangler.viewer.v0+json": {
       "columns": [
        {
         "name": "index",
         "rawType": "int64",
         "type": "integer"
        },
        {
         "name": "Synopsis",
         "rawType": "object",
         "type": "string"
        },
        {
         "name": "Actual Genres",
         "rawType": "object",
         "type": "unknown"
        },
        {
         "name": "Predicted Genres",
         "rawType": "object",
         "type": "unknown"
        }
       ],
       "conversionMethod": "pd.DataFrame",
       "ref": "df6eea3c-aa2a-4556-80a3-6842ec62b7f5",
       "rows": [
        [
         "0",
         "The daily life of the Motsumoto family. The three sisters, Fuu, Suu, and Chii, follow what happens on a daily basis. Mother and Father have to deal with them sometimes, but they're used to it.",
         "('Comedy', 'Slice of Life')",
         "('Military', 'Music')"
        ],
        [
         "1",
         "The Soul Tree, the great source of our race.  But for its ultimate power and by those whose minds were blinded by it, it also became the catastrophic cause that had brought never-ending wars between the tribes. Tortured by the agonies of the wars, the leaders of the tribes finally came to a peace agreement that they would instead open a competition. Players, equipped with special watches and shields, compete against each other as winner’s tribe would be awarded with Materion, the sacred fruit of the Soul Tree.  These brave players, who throw themselves in this fierce fight, we call them the Runningman.  (Source: Official YouTube Channel)",
         "('Action', 'Adventure', 'Kids')",
         "('Seinen',)"
        ],
        [
         "2",
         "Himeno Mimika is a daughter of historical cook family. She goes to a cooking school, Miracle Academy which train cooks all over the world. Vying with rivals, she brings out her gift, and she grows up as a cook.  (Source: AnimeNfo)",
         "('Kids', 'Other', 'Slice of Life')",
         "('Action', 'Demons', 'Mystery', 'Sci-Fi', 'Shoujo', 'Slice of Life', 'Supernatural')"
        ],
        [
         "3",
         "The third generation of J SOUL BROTHERS from EXILE TRIBE is reimagined as 7 unique and diverse characters in \"KICK & SLIDE\". This is a slapstick story where the characters solve difficult cases!? and rare cases!? that occur in the colorful and pop vibrant city \"Nakame Town\" with dance and music.  (Source: Official website)",
         "('Kids', 'Music')",
         "('Comedy', 'Drama', 'Ecchi', 'School', 'Shoujo', 'Supernatural')"
        ],
        [
         "4",
         "A cyborg warrior from an ancient Antarctic kingdom awakes 30000 years later from an accidental hibernation to find the Earth changed and an old alien enemy on the verge of invasion. It's up to Guyslugger to use his ancient technology to defeat the aliens.  (Source: AniDB)",
         "('Action', 'Mecha', 'Sci-Fi')",
         "('Historical', 'Supernatural')"
        ],
        [
         "5",
         "The story centers on Otarou, a creature themed around dirt known as a yogoremon. It and other yogoremon ask the meaning of words and explain negative terms in positive ways.  (Source: ANN)",
         "('Comedy',)",
         "('Action', 'Adventure', 'Supernatural')"
        ],
        [
         "6",
         "Based on the real life-story of Pink Lady, a female pop duo that rose to superstardom in the mid-1970's.  (Source: ANN)",
         "('Drama', 'Music', 'Slice of Life')",
         "('Drama', 'Hentai', 'Slice of Life')"
        ],
        [
         "7",
         "The third show in the Virtual Trilogy, a mix of anime and live action shots.  In the beginning of the 22nd century society advanced rapidly. Now even children are able to become real doctors, a task before that took two and a half decades to achieve. And nanomachines became prevalent to fight disease. Keita is a Nanosaver, a child doctor who uses the virtual world to apply life saving techniques by entering the body and treating the patients in a virtual medical station (VMS). As more and more patients are taken in, various mysterious are uncovered about them.  In the second half of the anime, a small Ethanarian alien and galactic federation is introduced.",
         "('Adventure', 'Shounen')",
         "('Fantasy', 'Horror', 'Sci-Fi')"
        ],
        [
         "8",
         "The gag anime takes place at a school for youkai and other supernatural beings. A vampire named Rakuru transfers to the school from the West, and she tries to change the school as the class representative.",
         "('Comedy', 'Supernatural')",
         "('Comedy', 'Drama', 'Fantasy', 'Horror', 'Other')"
        ],
        [
         "9",
         "A prequel TV series setting up for the feature film.  G.G. Bond's father while exploring ruins gets sucked into a dimension of evil through the Dark Gate. He is bestowed power and knowledge and becomes corrupted as the King of Darkness. Ancient monsters are sent through the cracks of the gate to attack G.G. Bond and his team as the 5 elemental powers are stronger than the King of Darkness. By weakening the team, only then can the King of Darkness forcibly open the gate to unless a reign of terror on the Fairy Tale world.",
         "('Kids', 'Sci-Fi', 'Super Power')",
         "('Adventure', 'Drama', 'Fantasy', 'Military', 'Seinen', 'Slice of Life')"
        ],
        [
         "10",
         "This Korean and Chinese co-production series focuses on Tao, a young boy with magical powers, as he attends school to become a wizard. Each episode was composed of two stories.  (Source: Wiki)",
         "('Kids',)",
         "('Action', 'Drama', 'Slice of Life')"
        ],
        [
         "11",
         "An anime series based on the Gunma Prefecture mascot character, Gunma-chan.  (Source: Anilist)",
         "('Slice of Life',)",
         "('Music', 'Parody')"
        ],
        [
         "12",
         "Matsuri Kazamaki and Suzu Kanade are childhood friends, bonded by their shared ability to see ayakashi—youkai in search of a life force to devour. However, in high school, their relationship deteriorates. As Suzu's one-sided feelings are growing, so is the difference in their ayakashi views: Matsuri considers all ayakashi a threat to his friend, while Suzu is an ayakashi medium—someone who exudes a significant amount of life force compared to the average human—and loves them all despite the risk.  When the two stumble upon a talking white cat named Shirogane, they are unaware that it is a four-hundred-year-old ayakashi known as the \"King of Ayakashi.\" He is hell-bent on gaining even more power by devouring Suzu, but as Matsuri swoops in to try and save her by sealing Shirogane's powers, the ayakashi uses a jutsu to turn him into a girl instead!  Matsuri vows to protect Suzu from further harm as her best friend, but he must learn how to act like a girl until his grandfather—a famous wind jutsu exorcist ninja—can undo the jutsu. Meanwhile, Suzu must work out her romantic feelings for Matsuri now that he is no longer a boy. But when Matsuri takes the king as his pet, the future of the two friends seems uncertain.  ",
         "('Action', 'Comedy', 'Ecchi', 'Romance', 'Shounen')",
         "('Action', 'Drama', 'Mystery', 'Sci-Fi', 'Shounen', 'Sports')"
        ],
        [
         "13",
         "Say hi to Tayo's new friend - Titipo! Train Center's new born little train Titipo has just passed the driving examination and is prepared to work at the Train Village. Although Titipo dreams of becoming the best train in the world, his curious yet random personality catches him in unforeseen events and troubles everyday. Titipo expands his experience in the greater world and befriends Genie, Diesel, and other little trains. Will Titipo achieve his dream of becoming the best train? Come join the railroad journey and meet Titipo and the little train friends.  (Source: Official YouTube channel)",
         "('Kids', 'Other')",
         "('Action', 'Adventure', 'Comedy', 'Ecchi', 'Fantasy', 'Horror', 'Mystery', 'School', 'Sci-Fi', 'Shoujo')"
        ],
        [
         "14",
         "At Ruby's house, a small event related to the main plot of each episode occurs, before a red jewellery on the chest of Choco, Ruby's Teddy bear, flashes with a melody. Ruby then takes Choco to her room, and the two 'transport' themselves to the Rainbow Village. There, Ruby hears an explanation from Ling Ling, the mayor of Rainbow Village, and transforms herself using her Rainbow Roller into an appropriate clothing to solve problems. Each episode concludes, back home, with another small event.  (Source: AniDB) ",
         "('Fantasy', 'Kids')",
         "('Action', 'Drama', 'Supernatural')"
        ],
        [
         "15",
         "The series follows Officer Black Cat's adventures around the forest neighbourhood, apprehending criminals, dealing justice, and solving crimes.",
         "('Action', 'Adventure', 'Comedy', 'Kids', 'Other')",
         "('Other', 'Seinen', 'Supernatural')"
        ],
        [
         "16",
         "Depiction of Japan's economy, based on Shoutarou Ishinomori's epynomous manga.",
         "('Drama', 'Historical', 'Seinen', 'Slice of Life')",
         "('Action', 'Comedy', 'Ecchi', 'School', 'Sports')"
        ],
        [
         "17",
         "The anime is set on the titular Musical Note Island, where the god of music is said to reside. The island is home to \"instrument animals,\" who are born from music energy, and have parts of their body composed of a musical instrument. One day, a witch arrives at the island. The warrior girl Cara must go on a journey to defeat the witch and win back the peace on the island.  (Source: ANN)",
         "('Adventure', 'Fantasy', 'Kids')",
         "('Action', 'Demons', 'Drama', 'Fantasy', 'Harem', 'Historical', 'Horror', 'Slice of Life', 'Supernatural')"
        ],
        [
         "18",
         "While it may seem like a mere depiction of everyday life, The Sound of Your Heart is a comedy filled to the brim with wit, sarcasm, and parody. It gives no regard for the probable or realistic- it is a series of absurd situations that is sure to get a laugh out of every reader willing to suspend their sense of reality.  (Source: LINE Webtoon)",
         "('Comedy', 'Slice of Life')",
         "('Comedy', 'Fantasy', 'Super Power', 'Supernatural')"
        ],
        [
         "19",
         "The anime follows the frogs Kekkero and Ke who try to find their 998 other siblings.  (Source: ANN)",
         "('Comedy',)",
         "('Kids', 'Music')"
        ],
        [
         "20",
         "Within the nature \"Darwin Kita! Kikimono Shin Densetsu\" program on NHK1.5 airs the short , based on a web manga/comic of the same name. It following animal characters who visit the bar . The bar is run by the Mama who is a Pallas's cat ( ) and serviced by the hostess Tsunomin who is a Brazilian treehopper ( ).",
         "('Slice of Life',)",
         "('Comedy', 'Ecchi', 'Harem', 'Historical', 'Kids', 'Mystery', 'School')"
        ],
        [
         "21",
         "The story centers on the Seven Gods of Fortune in Japanese mythology as they reside on Awaji Island in Hyogo. In the shorts' story, the Seven Gods of Fortune slack in their duties in heaven, and Susanoo-no-Mikoto banishes them to Awaji Island. In order to return to the heavenly realm, they must help bring happiness to humans and rebuild their virtue. The outcast gods reluctantly grant human wishes and accumulate points in their \"god phones\" to be able to return to heaven. They aim to perform good deeds on particularly auspicious days to maximize point accumulation. Despite their best efforts at accumulating virtue, sometimes the Seven Gods of Fortune end up bringing misfortune to humans. When they fail, they lose points, further prolonging their stay on Awaji Island.  (Source: ANN)",
         "('Comedy', 'Kids', 'Supernatural')",
         "('Action', 'Comedy', 'Drama', 'Horror', 'Mystery', 'Other', 'School', 'Sci-Fi', 'Seinen', 'Slice of Life', 'Supernatural')"
        ],
        [
         "22",
         "Shorts that feature music note cats. The series premiered on February 22, 2014 on television; the first episode was published on an official YouTube channel that same day.  The whole world is in love with character illustrations of cats, dogs, and bears. A brand-new show, and the first of its kind in Japan, featuring nothing but cat characters for cat lovers started airing in February 2014. A variety of cat characters designed by Japan's topnotch creators and illustrators are animated and they are voiced by popular KAWAII (cute) anime voice actors. This show is a must-see not just for the fans of cat characters but for all anime lovers!  (Source:YouTube)",
         "('Comedy', 'Music')",
         "('Other', 'School')"
        ],
        [
         "23",
         "is a spin-off-series of Mecard, based on the idea that dinosaurs didn't become extinct 65 million years ago, but transformed into mecanimals. Its characters don't have any relations to the cast from , and .  (Source: Gonglyong Mecard Wikia)",
         "('Adventure', 'Kids', 'Mecha', 'Other')",
         "('Comedy', 'Kids', 'Parody', 'Supernatural')"
        ],
        [
         "24",
         "Yuuichi Katagiri has battled financial hardships his whole life but has learned to stay content and positive thanks to his close circle of friends. To keep a promise he made to them, Yuuichi saves up enough money to join them on the school trip. But when the gathered money mysteriously goes missing, suspicion falls on two of Yuuichi's friends: Shiho Sawaragi and Makoto Shibe, who were in charge of collecting the payments. Although innocent, Shiho and Makoto take responsibility for the failure to protect the money when no one else comes forward.  A few days later, Yuuichi and his friends receive mysterious letters which trick each of them into meeting up. Upon arrival, they are ambushed and knocked unconscious. They wake up in a mysterious room in the presence of \"Manabu-kun,\" a character from a controversial children's show that stopped airing due to its malicious content. He informs the group that one of them indirectly gathered them together in order to settle a large debt. They are to play a \"friendship game\": a series of games that will test the strength of their bond and trust in each other. As the group's faith wavers due to the growing number of secrets and betrayals, Yuuichi must figure out who of his \"friends\" he can actually trust and ultimately discover the identity of the traitor.  ",
         "('Other', 'Shounen')",
         "('Comedy', 'Demons', 'Ecchi', 'Mystery', 'Other', 'Shounen')"
        ],
        [
         "25",
         "A short anime that airs within \"Enkame: That's Enka Tainment\" (and enka variety show) program on Asahi TV. It follows a cast of ice cream characters.",
         "('Kids',)",
         "('Action', 'Historical', 'Kids', 'Sci-Fi', 'Supernatural')"
        ],
        [
         "26",
         "Shorts about root vegetables from the refrigerator who try to act like superheroes.",
         "('Comedy',)",
         "('Comedy', 'Drama', 'Kids', 'Music', 'Super Power')"
        ],
        [
         "27",
         "The Geisha Tokyo Entertainment company has announced on Wednesday it is producing and airing Sakuran Boy DT, \"Japan's first\" Flash-animated television series about a local costumed hero character. The name of the character is a wordplay on the Japanese translation for \"cherry boy\" — the Japanese slang for a male virgin — and the Sakuranbo television station in the northeastern Japanese city of Yamagata. The story revolves around Satou-kun, an ordinary high school boy who transforms into Sakuran Boy DT to rescue the mayor's daughter from the nefarious secret society Zaou. Sakuranbo has posted a trailer online, and the 11 five-minute weekly episodes will premiere on this station on January 14.",
         "('Comedy', 'Super Power')",
         "()"
        ],
        [
         "28",
         "On a whim, first-year Ayumu Tanaka quits the Kendo Club to join the illegitimate Shogi Club. Urushi Yaotome, the president of the club and a master of shogi, is thrilled to finally have a playing partner. As Ayumu's upperclassman, Urushi endeavors to be his shogi mentor and student role model. Too often, however, she finds herself blushing with embarrassment! Stone-faced and honest, Ayumu sees no issue with calling Urushi \"cute.\" Although Ayumu likes her, he refrains from confessing and promises himself to first beat her in a game of shogi.  Through school life and shogi games, the two students have many hilarious and heart-warming adventures. Ayumu enjoys every second with Urushi, but he is still a long way from beating her in shogi. With the commitment he made to himself, will Ayumu ever get the chance to confess his feelings to Urushi?  ",
         "('Comedy', 'Romance', 'School', 'Shounen', 'Slice of Life')",
         "('Hentai', 'Sci-Fi', 'Supernatural')"
        ],
        [
         "29",
         "Kurumi Mirai is in the first year of high school.  She has enrolled in junior high section of the Redrun Magic School, the world's only facility for mages that approved by International Mage League and able to work under royal families when graduates, and she was always top of the class. However, when she applies for the high school section and took the examination to get into a mage training class \"Ma-gumi (Mage Class)\", she wasn't able to get in in spite having full scores and was top of the class for the whole three years.  There are some students in the class next to her that takes that class. Among that there's someone she admires. How will Kurumi Mirai who has extraordinary brain but didn't get in to be a mage candidate try to overcome and grow up? What is the aim for Minami Suzuki, a loyal mage who suddenly appears to be the homeroom teacher? This is a relaxing story of her growth.  (Source: MAL News)",
         "('Drama', 'Fantasy', 'School', 'Slice of Life')",
         "('Comedy', 'Drama', 'Mystery', 'Seinen', 'Shounen', 'Supernatural')"
        ],
        [
         "30",
         "On a distant southern island, a fish (sakana) opened its mouth for a cat (neko), thus \"nekozakana\" (cat-fish) is born.  (Source: ANN)",
         "('Comedy', 'Kids')",
         "('Comedy', 'Drama', 'Fantasy', 'Kids', 'Military', 'Shounen', 'Sports', 'Supernatural')"
        ],
        [
         "31",
         "A stop-motion comedy drama about sugar cube people from the Meiji era. Specifically it focuses on the father Kakuza who easily succumbs to emotion usually about his 37 year old daughter Touko's newest fiancé who tries to ask for his blessing. He's scared of losing his daughter even though it was his late wife's dying wish to see her as a happy bride.  The show had a very irregular release schedule and by the end of its serialization its title had changed to .",
         "('Comedy', 'Drama', 'Historical', 'Parody')",
         "('Comedy', 'Fantasy', 'Historical', 'Other', 'Shounen', 'Supernatural')"
        ],
        [
         "32",
         "Coburoux is a prince of Curry Kingdom. Although he is a prince, he goes to the school for common people, and he is treated like other students. In fact, he is scolded by the teacher, is made to stand during class as a punishment, go some errands for a chef, and is teased by a girl whom he loves. He is always worried, and wonders whether the prince should be better. Being surrounded by weird friends and strange people in Curry Kingdom, he spends worrying days.  (Source: AnimeNfo)",
         "('Comedy',)",
         "('Action', 'Drama', 'Horror', 'Other', 'Supernatural')"
        ],
        [
         "33",
         "A dangerous shadow organization launches a campaign of fear and violence in the city of Shinjuku, pushing society to the brink of chaos. As a young police officer tasked with restoring order, Ichika Hoshino becomes the target of an attack, and has a poisonous collar attached to her neck. With the situation spiraling out of control and time running out, five mysterious strangers appear to aid her in her quest for the truth. Who can she trust? Will she be able to save herself and the soul of Shinjuku from the clutches of oblivion?  (Source: Aksys Games)",
         "('Mystery', 'Other', 'Romance')",
         "('Comedy', 'Drama', 'Fantasy', 'Seinen', 'Shounen', 'Slice of Life', 'Super Power', 'Supernatural')"
        ],
        [
         "34",
         "Part of TV Tokyo's Kinder TV (きんだーてれび) program.",
         "('Comedy',)",
         "('Action', 'Drama', 'Historical', 'Horror', 'Military', 'Romance', 'Sci-Fi', 'Seinen', 'Slice of Life', 'Super Power')"
        ],
        [
         "35",
         "This anime is a fusion of 3D CGI and live-action. Majority of the episodes are Kemy, Buka, and Chaka in their animated club house but other parts of the episodes are the characters imposed on live footage of nature. The program solves various questions by looking at the world with the vision of infants who are still immature in the world.",
         "('Adventure', 'Kids')",
         "('Kids', 'Other', 'Sports')"
        ],
        [
         "36",
         "On planet Kirakira live two tribes: Senobi and Robot. Senobi, quiet and peacefully set, settle down in the forest. Robot comes from the desert and starts war to take control of afforested grounds. A young hero coming from Senobi tries to appease the whole situation.",
         "('Action', 'Adventure', 'Sci-Fi')",
         "('Comedy', 'Fantasy', 'Other')"
        ],
        [
         "37",
         "No synopsis information has been added to this title. Help improve our database by adding a synopsis .",
         "('Demons', 'Horror', 'Parody')",
         "('Drama', 'Hentai', 'Music', 'Other')"
        ],
        [
         "38",
         "These are witches who defend everyone's smiles and fight enemies through the healing power of music. These witches, opposite of those in the defense fleet, are idols known as the Music Squadron.  (Source: MAL News)",
         "('Ecchi', 'Military', 'Music', 'Sci-Fi')",
         "('Action', 'Drama', 'Harem', 'Historical', 'Romance', 'Supernatural')"
        ],
        [
         "39",
         "Grandpa Danger is a world where the great protector is Grandpa Danger! He's an expert at falling off of cliffs, dealing with a principal who suffers from a severe inferiority complex, and escaping the hidden dangers of sleep! He's a nonsensical, utterly disgusting, relentless prankster. Grandpa Danger's excessive phlegm and farts frustrate Grandson to hilarious extremes, and make you laugh until your stomach splits!  (Source: AniDB)",
         "('Comedy', 'Kids')",
         "('Drama', 'Hentai')"
        ],
        [
         "40",
         "musicる TV signed up Norasco for their channel. Some of the ONA's episodes were shown and then the episodes became mostly musicる TV exclusive. ",
         "('Comedy', 'Slice of Life')",
         "('Drama', 'Horror', 'Military', 'Romance', 'School', 'Seinen', 'Sports')"
        ],
        [
         "41",
         "The new Nukko. anime is an adolescent school story revolving around Nukko and Nukko's slightly(?) oddball friends.  (Source: ANN)",
         "('Comedy',)",
         "('Demons', 'Drama', 'Horror')"
        ],
        [
         "42",
         "Second cour of the third season of .",
         "('Music',)",
         "('Comedy', 'Slice of Life')"
        ],
        [
         "43",
         "An NHK toddler's anime following a Spoon Princess and other kitchen themed characters.",
         "('Adventure', 'Kids')",
         "('Fantasy', 'Historical', 'Kids', 'Music', 'Supernatural')"
        ],
        [
         "44",
         "The Lost Ones are wanderers who come here from a distant world known as \"Japan.\" No one knows how or why they leave their homes. The only thing that is certain is that they bring disaster and calamity. The duty of exterminating them without remorse falls to Menou, a young Executioner. When she meets Akari, it seems like just another job...until she discovers it's impossible to kill this girl! And when Menou begins to search for a way to defeat this immortality, Akari is more than happy to tag along! So begins a journey that will change Menou forever...  (Source: Yen Press)",
         "('Action', 'Adventure', 'Fantasy')",
         "('Drama', 'Military', 'Other')"
        ],
        [
         "45",
         "CGI shorts about famous Japanese comedian George Tokoro.",
         "('Comedy',)",
         "('Action', 'Drama', 'Historical', 'Mecha', 'Military', 'Other', 'Super Power')"
        ],
        [
         "46",
         "Corporate secretary Shirotani suffers from obsessive-compulsive disorder. One day he meets Kurose, a therapist who offers to take him through a ten-step program to cure him of his compulsion. As the two go through each of the ten steps, Shirotani 's attraction to his counselor grows.  (Source: SuBLime)",
         "('Drama', 'Other', 'Romance')",
         "('Action', 'Comedy', 'Drama', 'Historical', 'Supernatural')"
        ],
        [
         "47",
         "A daily educational TV anime broadcasted on NTV focusing on teaching children traffic safety. It was rebroadcasted on other networks till 1978. The anime ran in a 5-minute time slot but shared some of the air time with some live-action shorts/series also meant for children.  ",
         "('Kids',)",
         "('Other', 'School')"
        ],
        [
         "48",
         "The anime follows a boy named Gen, who time travels from the year 2020 to a distant future where humanity has gone extinct. He begins staying at the Ganko family home in the Rustling Forest, where he has none of the amenities he is used to: no electricity, gas, or running water, as well as no television, smartphones, convenience stores, snacks, or games.  (Source: ANN)",
         "('Comedy', 'Kids', 'Sci-Fi')",
         "('Romance', 'Sci-Fi')"
        ],
        [
         "49",
         "The series follows the black cat Monroe and the human Yoppy and their \"normal and special everyday lives.\"  (Source: ANN)",
         "('Comedy',)",
         "('Action', 'Comedy', 'Fantasy', 'Kids')"
        ]
       ],
       "shape": {
        "columns": 3,
        "rows": 1147
       }
      },
      "text/html": [
       "<div>\n",
       "<style scoped>\n",
       "    .dataframe tbody tr th:only-of-type {\n",
       "        vertical-align: middle;\n",
       "    }\n",
       "\n",
       "    .dataframe tbody tr th {\n",
       "        vertical-align: top;\n",
       "    }\n",
       "\n",
       "    .dataframe thead th {\n",
       "        text-align: right;\n",
       "    }\n",
       "</style>\n",
       "<table border=\"1\" class=\"dataframe\">\n",
       "  <thead>\n",
       "    <tr style=\"text-align: right;\">\n",
       "      <th></th>\n",
       "      <th>Synopsis</th>\n",
       "      <th>Actual Genres</th>\n",
       "      <th>Predicted Genres</th>\n",
       "    </tr>\n",
       "  </thead>\n",
       "  <tbody>\n",
       "    <tr>\n",
       "      <th>0</th>\n",
       "      <td>The daily life of the Motsumoto family. The th...</td>\n",
       "      <td>(Comedy, Slice of Life)</td>\n",
       "      <td>(Military, Music)</td>\n",
       "    </tr>\n",
       "    <tr>\n",
       "      <th>1</th>\n",
       "      <td>The Soul Tree, the great source of our race.  ...</td>\n",
       "      <td>(Action, Adventure, Kids)</td>\n",
       "      <td>(Seinen,)</td>\n",
       "    </tr>\n",
       "    <tr>\n",
       "      <th>2</th>\n",
       "      <td>Himeno Mimika is a daughter of historical cook...</td>\n",
       "      <td>(Kids, Other, Slice of Life)</td>\n",
       "      <td>(Action, Demons, Mystery, Sci-Fi, Shoujo, Slic...</td>\n",
       "    </tr>\n",
       "    <tr>\n",
       "      <th>3</th>\n",
       "      <td>The third generation of J SOUL BROTHERS from E...</td>\n",
       "      <td>(Kids, Music)</td>\n",
       "      <td>(Comedy, Drama, Ecchi, School, Shoujo, Superna...</td>\n",
       "    </tr>\n",
       "    <tr>\n",
       "      <th>4</th>\n",
       "      <td>A cyborg warrior from an ancient Antarctic kin...</td>\n",
       "      <td>(Action, Mecha, Sci-Fi)</td>\n",
       "      <td>(Historical, Supernatural)</td>\n",
       "    </tr>\n",
       "    <tr>\n",
       "      <th>...</th>\n",
       "      <td>...</td>\n",
       "      <td>...</td>\n",
       "      <td>...</td>\n",
       "    </tr>\n",
       "    <tr>\n",
       "      <th>1142</th>\n",
       "      <td>Included with the limited edition BD of .</td>\n",
       "      <td>(Parody, Slice of Life)</td>\n",
       "      <td>(Fantasy, Historical, Other, Slice of Life)</td>\n",
       "    </tr>\n",
       "    <tr>\n",
       "      <th>1143</th>\n",
       "      <td>At Anime Japan 2018, Warner Bros. announced a ...</td>\n",
       "      <td>(Other, Parody)</td>\n",
       "      <td>(Comedy, Fantasy, Horror, Other, Supernatural)</td>\n",
       "    </tr>\n",
       "    <tr>\n",
       "      <th>1144</th>\n",
       "      <td>Specials included in the OVA of Hyakujitsu no ...</td>\n",
       "      <td>(Other, Parody)</td>\n",
       "      <td>(Fantasy, Historical, Other, Slice of Life)</td>\n",
       "    </tr>\n",
       "    <tr>\n",
       "      <th>1145</th>\n",
       "      <td>The Future Foundation is in shambles after the...</td>\n",
       "      <td>(Action, Horror, Mystery, Other)</td>\n",
       "      <td>(Action, Comedy, Seinen)</td>\n",
       "    </tr>\n",
       "    <tr>\n",
       "      <th>1146</th>\n",
       "      <td>Having reached his emotional breaking point, R...</td>\n",
       "      <td>(Other, Sci-Fi)</td>\n",
       "      <td>(Harem, Hentai, Other)</td>\n",
       "    </tr>\n",
       "  </tbody>\n",
       "</table>\n",
       "<p>1147 rows × 3 columns</p>\n",
       "</div>"
      ],
      "text/plain": [
       "                                               Synopsis  \\\n",
       "0     The daily life of the Motsumoto family. The th...   \n",
       "1     The Soul Tree, the great source of our race.  ...   \n",
       "2     Himeno Mimika is a daughter of historical cook...   \n",
       "3     The third generation of J SOUL BROTHERS from E...   \n",
       "4     A cyborg warrior from an ancient Antarctic kin...   \n",
       "...                                                 ...   \n",
       "1142          Included with the limited edition BD of .   \n",
       "1143  At Anime Japan 2018, Warner Bros. announced a ...   \n",
       "1144  Specials included in the OVA of Hyakujitsu no ...   \n",
       "1145  The Future Foundation is in shambles after the...   \n",
       "1146  Having reached his emotional breaking point, R...   \n",
       "\n",
       "                         Actual Genres  \\\n",
       "0              (Comedy, Slice of Life)   \n",
       "1            (Action, Adventure, Kids)   \n",
       "2         (Kids, Other, Slice of Life)   \n",
       "3                        (Kids, Music)   \n",
       "4              (Action, Mecha, Sci-Fi)   \n",
       "...                                ...   \n",
       "1142           (Parody, Slice of Life)   \n",
       "1143                   (Other, Parody)   \n",
       "1144                   (Other, Parody)   \n",
       "1145  (Action, Horror, Mystery, Other)   \n",
       "1146                   (Other, Sci-Fi)   \n",
       "\n",
       "                                       Predicted Genres  \n",
       "0                                     (Military, Music)  \n",
       "1                                             (Seinen,)  \n",
       "2     (Action, Demons, Mystery, Sci-Fi, Shoujo, Slic...  \n",
       "3     (Comedy, Drama, Ecchi, School, Shoujo, Superna...  \n",
       "4                            (Historical, Supernatural)  \n",
       "...                                                 ...  \n",
       "1142        (Fantasy, Historical, Other, Slice of Life)  \n",
       "1143     (Comedy, Fantasy, Horror, Other, Supernatural)  \n",
       "1144        (Fantasy, Historical, Other, Slice of Life)  \n",
       "1145                           (Action, Comedy, Seinen)  \n",
       "1146                             (Harem, Hentai, Other)  \n",
       "\n",
       "[1147 rows x 3 columns]"
      ]
     },
     "metadata": {},
     "output_type": "display_data"
    }
   ],
   "source": [
    "#Parameters that can be changed:\n",
    "#Number of wordds in vocublary\n",
    "#Class weighting\n",
    "\n",
    "# from sklearn.feature_extraction.text import CountVectorizer\n",
    "mlb=MultiLabelBinarizer()\n",
    "y_train = mlb.fit_transform(df_train['genres'])\n",
    "#display(y)\n",
    "vectorizer = CountVectorizer(stop_words='english', max_features=1000, ngram_range=(1,2))\n",
    "X_train = vectorizer.fit_transform(df_train['synopsis'])\n",
    "#display(X_train)\n",
    "#print(vectorizer.get_feature_names_out(),len(vectorizer.get_feature_names_out()))\n",
    "#print(X_train.toarray())\n",
    "\n",
    "y_val= mlb.fit_transform(df_val['genres'])\n",
    "X_val = vectorizer.fit_transform(df_val['synopsis'])\n",
    "y_test= mlb.fit_transform(df_test['genres'])\n",
    "X_test = vectorizer.fit_transform(df_test['synopsis'])\n",
    "\n",
    "# from sklearn.multiclass import OneVsRestClassifier\n",
    "# from sklearn.linear_model import LogisticRegression\n",
    "\n",
    "classifier = OneVsRestClassifier(LogisticRegression(class_weight=\"balanced\",max_iter=1000)) #Already tried with balanced class but it is worse\n",
    "classifier.fit(X_train, y_train)                                    #At least when it is not balanced it can overfit the train class\n",
    "\n",
    "# from sklearn.metrics import classification_report\n",
    "#samples\tHow well did we predict each movie's genres?\t✅ Best for your task\n",
    "#micro\t    Overall genre prediction accuracy\t            ✅ Good for global view\n",
    "#macro\t    Equal focus on rare and frequent genres\t        ⚠️ Careful with imbalance\n",
    "#weighted\tGenre performance balanced by frequency\t        ✅ Fair but skew-sensitive\n",
    "#USE SAMPLES\n",
    "\n",
    "\n",
    "print(\"Report for Train dataset\")\n",
    "threshold=0.5\n",
    "y_pred_train=LR_OVA_prob(X_train,threshold,classifier)\n",
    "print_report(y_train,y_pred_train,\"samples avg\",\"f1-score\",mlb)\n",
    "jaccard = jaccard_score(y_train, y_pred_train, average='samples')\n",
    "print(\"Jaccard Similarity:\", jaccard)\n",
    "hr = hit_rate(y_train, y_pred_train)\n",
    "print(\"Hit Rate:\", hr)\n",
    "\n",
    "print(\"----------------------\")\n",
    "print(\"Report for Val dataset\")\n",
    "y_pred_val=LR_OVA_prob(X_val,threshold,classifier)\n",
    "print_report(y_val,y_pred_val,\"samples avg\",\"f1-score\",mlb)\n",
    "jaccard = jaccard_score(y_val, y_pred_val, average='samples')\n",
    "print(\"Jaccard Similarity:\", jaccard)\n",
    "hr = hit_rate(y_val, y_pred_val)\n",
    "print(\"Hit Rate:\", hr)\n",
    "\n",
    "print(\"----------------------\")\n",
    "print(\"Report for Test dataset\")\n",
    "y_pred_test=LR_OVA_prob(X_test,threshold,classifier)\n",
    "print_report(y_test,y_pred_test,\"samples avg\",\"f1-score\",mlb)\n",
    "jaccard = jaccard_score(y_test, y_pred_test, average='samples')\n",
    "print(\"Jaccard Similarity:\", jaccard)\n",
    "hr = hit_rate(y_val, y_pred_val)\n",
    "print(\"Hit Rate:\", hr)\n",
    "\n",
    "\n",
    "\n",
    "display(result_table(y_train,y_pred_train,df_train,mlb))\n",
    "display(result_table(y_val,y_pred_val,df_val,mlb))\n",
    "display(result_table(y_test,y_pred_test,df_test,mlb))\n",
    "\n",
    "\n",
    "\n",
    "# print(\"samples F1-score:\", samples_f1)\n",
    "# print(\"Report for Val datset\")\n",
    "# y_pred_val=classifier.predict(X_val)\n",
    "# report=classification_report(y_val, y_pred_val, target_names=mlb.classes_,output_dict=True)\n",
    "# samples_f1 = report['samples avg']['f1-score']\n",
    "# print(\"samples F1-score:\", samples_f1)\n",
    "# print(\"Report for Test dataset\")\n",
    "# y_pred_test=classifier.predict(X_test)\n",
    "# report=classification_report(y_test, y_pred_test, target_names=mlb.classes_,output_dict=True)\n",
    "# samples_f1 = report['samples avg']['f1-score']\n",
    "# print(\"samples F1-score:\", samples_f1)\n",
    "\n",
    "\n",
    "# print(\"Report for Train dataset\")\n",
    "# y_pred_train = classifier.predict(X_train)\n",
    "# report = classification_report(y_train, y_pred_train, target_names=mlb.classes_,output_dict=True)\n",
    "# samples_f1 = report['samples avg']['f1-score']\n",
    "# print(\"samples F1-score:\", samples_f1)\n",
    "# print(\"Report for Val datset\")\n",
    "# y_pred_val=classifier.predict(X_val)\n",
    "# report=classification_report(y_val, y_pred_val, target_names=mlb.classes_,output_dict=True)\n",
    "# samples_f1 = report['samples avg']['f1-score']\n",
    "# print(\"samples F1-score:\", samples_f1)\n",
    "# print(\"Report for Test dataset\")\n",
    "# y_pred_test=classifier.predict(X_test)\n",
    "# report=classification_report(y_test, y_pred_test, target_names=mlb.classes_,output_dict=True)\n",
    "# samples_f1 = report['samples avg']['f1-score']\n",
    "# print(\"samples F1-score:\", samples_f1)"
   ]
  }
 ],
 "metadata": {
  "kernelspec": {
   "display_name": "NLP_CW",
   "language": "python",
   "name": "python3"
  },
  "language_info": {
   "codemirror_mode": {
    "name": "ipython",
    "version": 3
   },
   "file_extension": ".py",
   "mimetype": "text/x-python",
   "name": "python",
   "nbconvert_exporter": "python",
   "pygments_lexer": "ipython3",
   "version": "3.12.7"
  }
 },
 "nbformat": 4,
 "nbformat_minor": 5
}
