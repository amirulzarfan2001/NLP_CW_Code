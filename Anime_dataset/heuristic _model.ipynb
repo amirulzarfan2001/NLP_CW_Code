{
 "cells": [
  {
   "cell_type": "code",
   "execution_count": 2,
   "id": "aa069986",
   "metadata": {},
   "outputs": [],
   "source": [
    "from my_import import *\n",
    "df_train = pd.read_csv('df_train.csv')\n",
    "df_val = pd.read_csv('df_val.csv')\n",
    "df_test = pd.read_csv('df_test.csv')\n",
    "final_cleaned_dataset_df=pd.read_csv('final_cleaned_dataset_df.csv')\n",
    "\n",
    "#Make sure the genre collumns is in lists not strings\n",
    "#NEED TO DO THIS EVERYTIME EXPORT DATASET\n",
    "df_train['genres'] = df_train['genres'].apply(lambda x: list(ast.literal_eval(x)))\n",
    "df_val['genres'] = df_val['genres'].apply(lambda x: list(ast.literal_eval(x)))\n",
    "df_test['genres'] = df_test['genres'].apply(lambda x: list(ast.literal_eval(x)))\n",
    "final_cleaned_dataset_df['genres'] = final_cleaned_dataset_df['genres'].apply(lambda x: list(ast.literal_eval(x)))"
   ]
  },
  {
   "cell_type": "code",
   "execution_count": 3,
   "id": "9a2b181a",
   "metadata": {},
   "outputs": [
    {
     "name": "stdout",
     "output_type": "stream",
     "text": [
      "samples avg f1-score = 0.1941602638199497\n",
      "Jaccard Similarity: 0.14171082238490618\n",
      "Hit Rate: 0.3862129144851658\n"
     ]
    },
    {
     "name": "stderr",
     "output_type": "stream",
     "text": [
      "c:\\Users\\User\\anaconda3\\envs\\nlp_env\\lib\\site-packages\\sklearn\\metrics\\_classification.py:1565: UndefinedMetricWarning: Precision is ill-defined and being set to 0.0 in labels with no predicted samples. Use `zero_division` parameter to control this behavior.\n",
      "  _warn_prf(average, modifier, f\"{metric.capitalize()} is\", len(result))\n"
     ]
    }
   ],
   "source": [
    "#Top 5 genres in the dataset is Comedy, Action, Other Fantasy and Adventure\n",
    "\n",
    "#display(final_cleaned_dataset_df)\n",
    "mlb=MultiLabelBinarizer()\n",
    "y_true=mlb.fit_transform(final_cleaned_dataset_df['genres'])\n",
    "\n",
    "#print(\"Genre Labels:\", mlb.classes_)\n",
    "\n",
    "# Step 1: Find index of 'Comedy'\n",
    "comedy_index = list(mlb.classes_).index('Comedy')\n",
    "\n",
    "# Step 2: Create y_pred with all samples tagged as 'Comedy'\n",
    "# Same shape as y_true, but only 'Comedy' column is 1\n",
    "y_pred = np.zeros_like(y_true)\n",
    "y_pred[:, comedy_index] = 1\n",
    "\n",
    "print_report(y_true,y_pred,\"samples avg\",\"f1-score\",mlb)\n",
    "jaccard = jaccard_score(y_true, y_pred, average='samples')\n",
    "print(\"Jaccard Similarity:\", jaccard)\n",
    "hr = hit_rate(y_true, y_pred)\n",
    "print(\"Hit Rate:\", hr)\n"
   ]
  },
  {
   "cell_type": "code",
   "execution_count": 4,
   "id": "fd066e6b",
   "metadata": {},
   "outputs": [
    {
     "name": "stdout",
     "output_type": "stream",
     "text": [
      "\n",
      "Top-1 Genres: ['Comedy']\n",
      "F1 Score:      0.1942\n",
      "Jaccard Index: 0.1417\n",
      "Hit Rate:      38.62%\n",
      "\n",
      "Top-2 Genres: ['Comedy', 'Action']\n",
      "F1 Score:      0.2416\n",
      "Jaccard Index: 0.1587\n",
      "Hit Rate:      57.40%\n",
      "\n",
      "Top-3 Genres: ['Comedy', 'Action', 'Other']\n",
      "F1 Score:      0.2680\n",
      "Jaccard Index: 0.1744\n",
      "Hit Rate:      66.47%\n"
     ]
    }
   ],
   "source": [
    "# Define top genres\n",
    "top1 = ['Comedy']\n",
    "top2 = ['Comedy', 'Action']\n",
    "top3 = ['Comedy', 'Action', 'Other']\n",
    "\n",
    "# Helper to create y_pred based on selected genres\n",
    "def create_y_pred(genre_list, mlb, y_true):\n",
    "    indices = [list(mlb.classes_).index(genre) for genre in genre_list]\n",
    "    y_pred = np.zeros_like(y_true)\n",
    "    y_pred[:, indices] = 1\n",
    "    return y_pred\n",
    "\n",
    "# Helper to compute metrics\n",
    "def evaluate(y_true, y_pred):\n",
    "    f1 = f1_score(y_true, y_pred, average='samples')\n",
    "    jaccard = jaccard_score(y_true, y_pred, average='samples')\n",
    "    hit_rate = (np.logical_and(y_true, y_pred).sum(axis=1) > 0).mean()\n",
    "    return f1, jaccard, hit_rate\n",
    "\n",
    "# Run evaluations\n",
    "for label_set, name in zip([top1, top2, top3], [\"Top-1\", \"Top-2\", \"Top-3\"]):\n",
    "    y_pred = create_y_pred(label_set, mlb, y_true)\n",
    "    f1, jaccard, hit_rate = evaluate(y_true, y_pred)\n",
    "    print(f\"\\n{name} Genres: {label_set}\")\n",
    "    print(f\"F1 Score:      {f1:.4f}\")\n",
    "    print(f\"Jaccard Index: {jaccard:.4f}\")\n",
    "    print(f\"Hit Rate:      {hit_rate*100:.2f}%\")"
   ]
  },
  {
   "cell_type": "code",
   "execution_count": 5,
   "id": "64d78e77",
   "metadata": {},
   "outputs": [
    {
     "name": "stdout",
     "output_type": "stream",
     "text": [
      "\n",
      "Top-1 Genres: ['Comedy']\n",
      "F1 Score:      0.1942\n",
      "Jaccard Index: 0.1417\n",
      "Hit Rate:      38.62%\n",
      "\n",
      "Top-2 Genres: ['Comedy', 'Action']\n",
      "F1 Score:      0.2416\n",
      "Jaccard Index: 0.1587\n",
      "Hit Rate:      57.40%\n",
      "\n",
      "Top-3 Genres: ['Comedy', 'Action', 'Other']\n",
      "F1 Score:      0.2680\n",
      "Jaccard Index: 0.1744\n",
      "Hit Rate:      66.47%\n",
      "\n",
      "Top-4 Genres: ['Comedy', 'Action', 'Other', 'Fantasy']\n",
      "F1 Score:      0.2857\n",
      "Jaccard Index: 0.1857\n",
      "Hit Rate:      72.90%\n",
      "\n",
      "Top-5 Genres: ['Comedy', 'Action', 'Other', 'Fantasy', 'Adventure']\n",
      "F1 Score:      0.2919\n",
      "Jaccard Index: 0.1918\n",
      "Hit Rate:      75.43%\n"
     ]
    }
   ],
   "source": [
    "# Define top N genres\n",
    "top_genres = ['Comedy', 'Action', 'Other', 'Fantasy', 'Adventure']\n",
    "\n",
    "# Helper: create y_pred from selected top genres\n",
    "def create_y_pred(genre_list, mlb, y_true):\n",
    "    indices = [list(mlb.classes_).index(genre) for genre in genre_list]\n",
    "    y_pred = np.zeros_like(y_true)\n",
    "    y_pred[:, indices] = 1\n",
    "    return y_pred\n",
    "\n",
    "# Helper: calculate metrics\n",
    "def evaluate(y_true, y_pred):\n",
    "    f1 = f1_score(y_true, y_pred, average='samples')\n",
    "    jaccard = jaccard_score(y_true, y_pred, average='samples')\n",
    "    hit_rate = (np.logical_and(y_true, y_pred).sum(axis=1) > 0).mean()\n",
    "    return f1, jaccard, hit_rate\n",
    "\n",
    "# Loop through Top-1 to Top-5\n",
    "for n in range(1, 6):\n",
    "    selected_genres = top_genres[:n]\n",
    "    y_pred = create_y_pred(selected_genres, mlb, y_true)\n",
    "    f1, jaccard, hit_rate = evaluate(y_true, y_pred)\n",
    "    \n",
    "    print(f\"\\nTop-{n} Genres: {selected_genres}\")\n",
    "    print(f\"F1 Score:      {f1:.4f}\")\n",
    "    print(f\"Jaccard Index: {jaccard:.4f}\")\n",
    "    print(f\"Hit Rate:      {hit_rate*100:.2f}%\")"
   ]
  }
 ],
 "metadata": {
  "kernelspec": {
   "display_name": "nlp_env",
   "language": "python",
   "name": "python3"
  },
  "language_info": {
   "codemirror_mode": {
    "name": "ipython",
    "version": 3
   },
   "file_extension": ".py",
   "mimetype": "text/x-python",
   "name": "python",
   "nbconvert_exporter": "python",
   "pygments_lexer": "ipython3",
   "version": "3.10.16"
  }
 },
 "nbformat": 4,
 "nbformat_minor": 5
}
