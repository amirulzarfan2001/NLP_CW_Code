{
 "cells": [
  {
   "cell_type": "code",
   "execution_count": 1,
   "id": "256225a4",
   "metadata": {},
   "outputs": [
    {
     "name": "stderr",
     "output_type": "stream",
     "text": [
      "c:\\Users\\User\\anaconda3\\envs\\nlp_env\\lib\\site-packages\\tqdm\\auto.py:21: TqdmWarning: IProgress not found. Please update jupyter and ipywidgets. See https://ipywidgets.readthedocs.io/en/stable/user_install.html\n",
      "  from .autonotebook import tqdm as notebook_tqdm\n"
     ]
    },
    {
     "data": {
      "application/vnd.microsoft.datawrangler.viewer.v0+json": {
       "columns": [
        {
         "name": "index",
         "rawType": "int64",
         "type": "integer"
        },
        {
         "name": "synopsis",
         "rawType": "object",
         "type": "string"
        },
        {
         "name": "genres",
         "rawType": "object",
         "type": "unknown"
        }
       ],
       "conversionMethod": "pd.DataFrame",
       "ref": "c104aa83-d0fb-4a90-aeb3-a4d095a41169",
       "rows": [
        [
         "0",
         "Shuramaru is hated and feared by the villagers for his unusual powers. He thinks he is human, but... is he?",
         "['Supernatural']"
        ],
        [
         "1",
         "Sometime in the future, the world was completely dried up and became all desert. They had little rivers and lakes left, which villians and dangerous animals lived. Water has become the most valueable thing on the world. Whoever can control water will rule over the world.",
         "['Action', 'Adventure']"
        ],
        [
         "2",
         "Set in 2014, the anime follows the adventures of 23 years old Mafuneko, a newly minted assistant director who joins the TV production department at Tokyo Hajikko Television, only to discover that the glamorous and glitzy life of working behind-the-scenes making TV shows involves strange and inexplicable tasks such as \"gathering 300 acorns\" and \"making a mosaic out of the images reflected in the camera lens.\" Despite being surrounded by chaos, set-backs, and weirdos, Mafuneko struggles to become a fully-fledged TV producer.",
         "['Comedy']"
        ],
        [
         "3",
         "This story is about Mick, a sleeping chironomid. Insects are taken up into space for use in experiments by humans. An epic space adventure of Mick and his friends of their journey back home to Earth. The development plans and experiments are aborted by humans for no known reason, the organisms are left behind in the space station with limited resources. Going over hurdles and fighting through challenges, together, they travel across planets and gain new comrades, heading for Earth. As their journey progresses, the mystery behind the human’s abandonment unravels…",
         "['Adventure']"
        ],
        [
         "4",
         "The anime is based on MegaHouse's line of Ziguru Hazeru (literally, \"Jiggle and Pop Out\") mecha toys that allow people to remove parts from the joints and add different parts in their place. In addition, if one combines together Hazeru Gokuu, Hazeru Sagojo, and Hazeru Hakkai, the resulting mecha will be Hazeru Seioh, allowing for users to combine their toys together.  The ZIGURUHAZERU animated series is based on the upcoming original toy line of the same name from MegaHouse, featuring cool robot toys modelled after characters from the famous Journey to the West tale.",
         "['Action', 'Mecha']"
        ],
        [
         "5",
         "Himeno Mimika is a daughter of historical cook family. She goes to a cooking school, Miracle Academy which train cooks all over the world. Vying with rivals, she brings out her gift, and she grows up as a cook.",
         "['Kids', 'Slice of Life']"
        ],
        [
         "6",
         "Fuwa Beibei encounters the severely injured goddess, Athena. In order to help Athena regain strength, Beibei sets out to find a mysterious wooden box left by Coubertin in 1894, but the worrying thing is that Pixiu who injured his stomach from his glutinous eating habits heard this news too. He thought that this mysterious energy could not only cure his stomach, but also improve his magic, and such begins the journey through time and space of two spirits with different aims. After all the hardships, they found the sixth son of the dragon - Bixi, and after the two's efforts in passing his test, Bixi carries them along 100 years of Olympic history.",
         "['Historical']"
        ],
        [
         "7",
         "The anime will depict various vehicles as characters in the \"Mobile Land\" island. The protagonist Car-kun arrives at the island as a delivery worker. Through his deliveries, he gets to know the residents of Mobile Land, all while following traffic rules and having his deliveries stopped by the meddling Sabibi.",
         "['Comedy', 'Kids', 'Slice of Life']"
        ],
        [
         "8",
         "The third generation of J SOUL BROTHERS from EXILE TRIBE is reimagined as 7 unique and diverse characters in \"KICK & SLIDE\". This is a slapstick story where the characters solve difficult cases!? and rare cases!? that occur in the colorful and pop vibrant city \"Nakame Town\" with dance and music.",
         "['Kids', 'Music']"
        ],
        [
         "9",
         "There was once a man who was summoned to another world, and saved it. Of course, he became too popular there, and turned into an isekai-normie. However, that man fell into a \"trap\" and was forcibly returned to his original world. Moreover, he had to start over as a baby!  This is the story of the way-too-fantastic ex-hero who lived as a gloomy high-schooler, as he gets summoned once again to that same other world in a very unexpected development!",
         "['Action', 'Adventure', 'Comedy', 'Fantasy', 'Romance']"
        ],
        [
         "10",
         "The gag anime takes place at a school for youkai and other supernatural beings. A vampire named Rakuru transfers to the school from the West, and she tries to change the school as the class representative.",
         "['Comedy', 'Supernatural']"
        ],
        [
         "11",
         "The offensive and defensive battles between Nobuo, an office worker, and Chi-Sui Maru, a mosquito.",
         "['Comedy']"
        ],
        [
         "12",
         "TV adaptation of Cocone Corporation's mobile puzzle game app.  Discover the adventures of the cat painter, Vincent van Meowogh who lives in a mansion in Paris surrounded by his quirky friends. Let's give him a spark of inspiration for his painting by completing puzzle stages, buy back the furniture and restore his home to its former glory!",
         "['Kids']"
        ],
        [
         "13",
         "Kou Yamori seems like a typical middle school student on the surface. Relatively good at studies and amiable with his classmates, he puts a lot of effort into maintaining this facade. One day, however, he decides to stop pretending and quits school, developing insomnia as a result of having no daytime outlet for his energy. When taking walks alone at night, he feels marginally better, though he is aware that his inability to sleep should be considered a serious problem.  On one such walk, Kou meets a weird girl, Nazuna Nanakusa, who diagnoses the cause of his sleeplessness: despite making changes in his life, he is still holding himself back from experiencing true freedom. She says that he won't be able to sleep unless he is satisfied with how he spends his waking hours. When it appears that she has resolved his current worries, Nazuna invites him back to her apartment to share her futon. After a while, unaware that he is only feigning unconsciousness, she leans over him—and bites his neck!",
         "['Romance', 'Shounen', 'Supernatural']"
        ],
        [
         "14",
         "Ryou Mizushima enrolls in junior high and joins the badminton club with great vigor. Although the club didn't have a proper coach, Mizushima improved his skills with his own physical strength by the time he participated in the prefectural tournament. Afterwards, he is approached by the Yokohama Minato High School's badminton coach, Ebihara.  Indecisive and timid, Mizushima hesitates to attend such a prestigious school. However, with his elder sister Rika giving him a strong push, he decides to go to Yokohama Minato. Now blessed with a coach and idiosyncratic teammates, Mizushima will gain experience he's lacked till now, and aims to win the inter-high tournament.",
         "['Sports']"
        ],
        [
         "15",
         "Hello Jadoo is a South-Korean TV show about a girl named Choi Jadoo who is a very free-spirited girl. In every episode, she would always get into drama, whether it was with her parents or school. At the same time, she meets new people and she tries to solve problems occurring.",
         "['Slice of Life']"
        ],
        [
         "16",
         "Struggling with life and society, high school student Michio Kaga wanders about the Internet and lands on an odd website. The website, featuring a number of questions and a point based system, allows one to create skills and abilities for a character. Upon completing his character, Kaga was transported to a game-like fantasy world and reborn as a strong man who can claim idol-level girls. Thus begins the cheat and harem legend of a reborn man!",
         "['Action', 'Adventure', 'Fantasy', 'Romance']"
        ],
        [
         "17",
         "The series revolves around life in Gifu Prefecture in central Japan — as seen through the eyes of Tatekayoko, a female inhabitant who speaks in the dialect of Gifu's Tounou region. The anime will air within the program on Tokyo MX.",
         "['Comedy', 'Kids']"
        ],
        [
         "18",
         "Matsuri Kazamaki and Suzu Kanade are childhood friends, bonded by their shared ability to see ayakashi—youkai in search of a life force to devour. However, in high school, their relationship deteriorates. As Suzu's one-sided feelings are growing, so is the difference in their ayakashi views: Matsuri considers all ayakashi a threat to his friend, while Suzu is an ayakashi medium—someone who exudes a significant amount of life force compared to the average human—and loves them all despite the risk.  When the two stumble upon a talking white cat named Shirogane, they are unaware that it is a four-hundred-year-old ayakashi known as the \"King of Ayakashi.\" He is hell-bent on gaining even more power by devouring Suzu, but as Matsuri swoops in to try and save her by sealing Shirogane's powers, the ayakashi uses a jutsu to turn him into a girl instead!  Matsuri vows to protect Suzu from further harm as her best friend, but he must learn how to act like a girl until his grandfather—a famous wind jutsu exorcist ninja—can undo the jutsu. Meanwhile, Suzu must work out her romantic feelings for Matsuri now that he is no longer a boy. But when Matsuri takes the king as his pet, the future of the two friends seems uncertain.",
         "['Action', 'Comedy', 'Romance', 'Shounen']"
        ],
        [
         "19",
         "Tsukumogami—spirits or \"marebito\" can possess objects of considerable age and gain a physical form. Although he is part of the Saenome clan that is in charge of peacefully sending them back to their own world, Hyouma Kunato despises them because one took away what was very precious to him. In order to cure him of this loathing, Hyouma's grandfather sends him to live with Botan Nagatsuki, a girl who is the master of six \"friendly\" tsukumogami and lives with them as a family.",
         "['Action', 'Seinen', 'Supernatural']"
        ],
        [
         "20",
         "The 3rd continuation of NTV's ZIP! anime parody shorts. This one focuses on . Like with the previous season, occasionally the Gatchaman team and now the Mazinger Z team show up in some episodes.",
         "['Comedy']"
        ],
        [
         "21",
         "At Ruby's house, a small event related to the main plot of each episode occurs, before a red jewellery on the chest of Choco, Ruby's Teddy bear, flashes with a melody. Ruby then takes Choco to her room, and the two 'transport' themselves to the Rainbow Village. There, Ruby hears an explanation from Ling Ling, the mayor of Rainbow Village, and transforms herself using her Rainbow Roller into an appropriate clothing to solve problems. Each episode concludes, back home, with another small event.",
         "['Fantasy', 'Kids']"
        ],
        [
         "22",
         "There is a mysterious power of the Holy Spirit hidden in the legendary continent of Labelle, and the way to get power is recorded in the book of flower, guard by numerous flower Fairy Kings,only the legendary magic ambassador is recognized to wake up the power, and use them to defeat evil. For this.The evil force,led by Jakarta,the Queen of Dark had start a war to the continent of Labelle.With the help of the Flower Goddess,Pupula and the tribe of gouring flower fairys, the fate of the continent of Labelle is linked with an Earth girl... Who is the legendary envoy XiaAnAn.",
         "['Kids']"
        ],
        [
         "23",
         "Denji has a simple dream—to live a happy and peaceful life, spending time with a girl he likes. This is a far cry from reality, however, as Denji is forced by the yakuza into killing devils in order to pay off his crushing debts. Using his pet devil Pochita as a weapon, he is ready to do anything for a bit of cash.  Unfortunately, he has outlived his usefulness and is murdered by a devil in contract with the yakuza. However, in an unexpected turn of events, Pochita merges with Denji's dead body and grants him the powers of a chainsaw devil. Now able to transform parts of his body into chainsaws, a revived Denji uses his new abilities to quickly and brutally dispatch his enemies. Catching the eye of the official devil hunters who arrive at the scene, he is offered work at the Public Safety Bureau as one of them. Now with the means to face even the toughest of enemies, Denji will stop at nothing to achieve his simple teenage dreams.",
         "['Action', 'Adventure', 'Shounen']"
        ],
        [
         "24",
         "6.5-centimeter tall Degirdians fall to Earth in their spacecraft while chasing fugitives. Their spaceship transforms into a capsule toy stand near a toy store and a human boy accidentally takes home one of the aliens thinking it's a capsule toy. They befriend a human boy and try to figure out a way to get home all while fighting off the evil alien.",
         "['Kids', 'Sci-Fi']"
        ],
        [
         "25",
         "The anime is set on the titular Musical Note Island, where the god of music is said to reside. The island is home to \"instrument animals,\" who are born from music energy, and have parts of their body composed of a musical instrument. One day, a witch arrives at the island. The warrior girl Cara must go on a journey to defeat the witch and win back the peace on the island.",
         "['Adventure', 'Fantasy', 'Kids']"
        ],
        [
         "26",
         "A more educational season of GG Bond. This season is composed of 2 arcs, each arc has 52 episodes.  GG Bond works on cleaning up some fossils at the lab as they'll be used in a museum exhibit. He uses a fossil to create a data coin that is compatible with his special jet. This allows for him to travel back in time to the original animal (a T-Rex) the fossil was made of. While GG Bond is ecstatic to learn about dinosaurs in-person (as well as mine more accurate data for the data coin), he didn't quite realize the danger he'd be in. He successfully gets out of this sticky situation but there's still a lot more dinosaurs he needs to get information on.",
         "['Historical', 'Kids', 'Sci-Fi', 'Super Power']"
        ],
        [
         "27",
         "While it may seem like a mere depiction of everyday life, The Sound of Your Heart is a comedy filled to the brim with wit, sarcasm, and parody. It gives no regard for the probable or realistic- it is a series of absurd situations that is sure to get a laugh out of every reader willing to suspend their sense of reality.",
         "['Comedy', 'Slice of Life']"
        ],
        [
         "28",
         "The anime will follow two units from the Vazzrock series—Vazzy and Rock Down.",
         "['Music']"
        ],
        [
         "29",
         "The 3rd animated season. It follows an entirely new story and new characters unrelated to the previous seasons. The previous seasons metaphorical usage of magic/spirit/chi to visualize yoyo battles has now become literal. The yoyo toys have spirit animals within them and the cast tries to return them to their world before the villains use them for evil purposes.  Leon has an argument with his classmate Gurido for trifle. At the advice of Catherine, Leon and Gurido decide to judge the victory or defeat through yoyo competition. The Daemon Tiger appears when Leon and Gurido begin to fight in the woods. Leon follows Daemon Tiger and work with it. With Daemon Tiger’s help, Leon defeats Gurido.",
         "['Fantasy', 'Kids']"
        ],
        [
         "30",
         "is an animation series with some educational undertones targeting 5~7-year-old kids. The entire series is set against the backdrop of a supermarket. Viewing the animations, children will be able to imagine themselves in amidst all a supermarket has to offer. Children can join Kemy and his quest to figure out the answers to everyday questions. Buka and Chaka do not reprise their roles in this season.",
         "['Kids']"
        ],
        [
         "31",
         "Within the nature \"Darwin Kita! Kikimono Shin Densetsu\" program on NHK1.5 airs the short , based on a web manga/comic of the same name. It following animal characters who visit the bar . The bar is run by the Mama who is a Pallas's cat ( ) and serviced by the hostess Tsunomin who is a Brazilian treehopper ( ).",
         "['Slice of Life']"
        ],
        [
         "32",
         "Yuuya, one half of the boy pop duo ZINGS, may be the laziest performer in the Japanese music industry. His partner is out there giving 110% every night (and, thankfully, he's quite popular), but Yuuya's half-assed, sloppy dancing, and his frankly hostile attitude toward the audience, has the fans hating him and his agent looking for any excuse to cut him loose. The career of a pop idol just isn't the path of easy leisure and adulation Yuuya expected...  After a particularly lifeless concert appearance, Yuuya meets a girl backstage. She's dressed to the nines in a colorful outfit, she's full of vim and vigor, and all she wants from life is to perform. There's just one problem: She's been dead for a year. This is the ghost of Asahi Mogami, the beloved singer whose time on the stage was tragically cut short, unless... If ghosts are real, is spirit possession really that much of a stretch?",
         "['Comedy', 'Music', 'Supernatural']"
        ],
        [
         "33",
         "The story centers on the Seven Gods of Fortune in Japanese mythology as they reside on Awaji Island in Hyogo. In the shorts' story, the Seven Gods of Fortune slack in their duties in heaven, and Susanoo-no-Mikoto banishes them to Awaji Island. In order to return to the heavenly realm, they must help bring happiness to humans and rebuild their virtue. The outcast gods reluctantly grant human wishes and accumulate points in their \"god phones\" to be able to return to heaven. They aim to perform good deeds on particularly auspicious days to maximize point accumulation. Despite their best efforts at accumulating virtue, sometimes the Seven Gods of Fortune end up bringing misfortune to humans. When they fail, they lose points, further prolonging their stay on Awaji Island.",
         "['Comedy', 'Kids', 'Supernatural']"
        ],
        [
         "34",
         "The story centers around a cat who answers people's wishes and delivers happiness. (\"Tane\" and \"neko\" are the Japanese words for \"seed\" and \"cat,\" respectively.)",
         "['Comedy']"
        ],
        [
         "35",
         "In the world of magic, there exist deadly irreversible techniques commonly known as spellblades. These sparse and elusive spells, along with their casters, are shrouded in mystery and only their absolute lethality is known to the masses.  Every year, the spring blossom signifies a new intake of students to the prestigious magic school Kimberly. With reactions of awe and bewilderment, a ceremonious parade complete with magical beasts welcomes the newcomers to the institution. Among them is the mysterious Oliver Horn, whose indifference changes to fascination as he notices a peculiar figure—a girl wearing strange attire equipped with a Japanese sword.  From the entrance ceremony onward, Oliver realizes that not all is as it seems at Kimberly, as the emergence of labyrinths, monsters, and other threats endanger the new student body. Nanatsu no Maken ga Shihai suru explores the intertwined fates of two warriors as they uncover the dark truths that lurk within the walls of the academy.",
         "['Action', 'Fantasy', 'School']"
        ],
        [
         "36",
         "is a spin-off-series of Mecard, based on the idea that dinosaurs didn't become extinct 65 million years ago, but transformed into mecanimals. Its characters don't have any relations to the cast from , and .",
         "['Adventure', 'Kids', 'Mecha']"
        ],
        [
         "37",
         "How did Asia's most prominent entrepreneurs know when to grasp opportunities? And how did they overcome difficulties and attain their positions of power? This series uses the unconventional technique of blending actual documentary footage with CG animation to get a close-up look into the front lines and what lies behind the scenes of Asian business.  Our cartoon host is Shima Kosaku, a character from a popular Japanese business manga. He delves into the heart of the Asian economic market representing 4 billion people, to visit entrepreneurs who have survived turbulent times. Thai business magnate, Dhanin Chearavanont (Chairman of CP Group), and innovative Taiwanese semiconductor entrepreneur, Morris Chang (Chairman of TSMC), are among the many movers and shakers to be featured. Don't miss this opportunity to glimpse the dramatic lives of these media-shy business titans.",
         "['Drama', 'Seinen']"
        ],
        [
         "38",
         "Yuuichi Katagiri has battled financial hardships his whole life but has learned to stay content and positive thanks to his close circle of friends. To keep a promise he made to them, Yuuichi saves up enough money to join them on the school trip. But when the gathered money mysteriously goes missing, suspicion falls on two of Yuuichi's friends: Shiho Sawaragi and Makoto Shibe, who were in charge of collecting the payments. Although innocent, Shiho and Makoto take responsibility for the failure to protect the money when no one else comes forward.  A few days later, Yuuichi and his friends receive mysterious letters which trick each of them into meeting up. Upon arrival, they are ambushed and knocked unconscious. They wake up in a mysterious room in the presence of \"Manabu-kun,\" a character from a controversial children's show that stopped airing due to its malicious content. He informs the group that one of them indirectly gathered them together in order to settle a large debt. They are to play a \"friendship game\": a series of games that will test the strength of their bond and trust in each other. As the group's faith wavers due to the growing number of secrets and betrayals, Yuuichi must figure out who of his \"friends\" he can actually trust and ultimately discover the identity of the traitor.",
         "['Shounen']"
        ],
        [
         "39",
         "This was an anthology program containing several different anime each week along with some non-animated segments. Several of the animated films were short series including: Nazo no Rouba [謎の老婆] (tvss), Meibugyou Bun-san [名奉行・文さん], Jo Keibu Jinguuji Youko [女警部・神宮寺葉子], Remon Suzumori's Soudanjo [鈴森なんでも相談所].",
         "['Comedy', 'Drama', 'Seinen', 'Slice of Life']"
        ],
        [
         "40",
         "The \"heart-warming comedy\" anime centers on Chimimo, who is a messenger of hell and a shape-shifting evil demon. Chimimo is one of 12 evil demons whose mission is to turn the human world into hell. The 12 demons along with \"Hell-san\" go to the human world, but Hell-san and Chimimo become freeloaders to a family of three sisters named Mutsumi, Hazuki, and Mei.",
         "['Comedy']"
        ],
        [
         "41",
         "The second series features the Tea Dogs interacting with humans.",
         "['Kids', 'Slice of Life']"
        ],
        [
         "42",
         "Set in the future on the Yellow River Planet, the realm of car racing has advanced beyond Formula One-into the domain of the Galaxy Racers. Riders steer their simulator-racers which remotely control the actual customized speedsters hurtling around a track.  The hero, a teenager named Roy, was born to race and aspires to be the King of Galaxy Racers. But his guardian, his grandfather, sees a threat from and great danger in the evil and greedy Taz, the CEO of the Titan Space Navigation Auto Group which seeks to swallow or destroy all competitors, and whose Mosha Racing Team would just as ruthlessly run over and crush Roy under its thundering wheels. He arranges for him to join the good guys in the Matela Racing Team to race for the highest honors.  Many years ago, Ray’s father, Dr Renault, worked for the Titan Group and he invented the Galaxy Racers but he was against CEO Taz’s destructive greed. He tries to escape-and disappears! Monopolizing the technology and construction of the Racers, Taz, the Titan Group and Mosha Racing Team swallowed, crushed and beat all rival companies, racers and teams.  Desperately, Ray’s grandfather uses a secret design hidden by Dr Renault from Taz and builds for him a superior racer, The Lion King. But he has first to learn the skills and garner experience from racing at the highest levels. To acquire these qualities plus humility and resilience, he relies on his Matela friends who have their own cool cars, to help him. But arrayed against them are the Mosha baddies and their menacing machines.  In a series of hair-raising and nail-biting races with thrills & spills, growling engines, screeching wheels, burning rubber, smashing metal against metal, intense bitter rivalry, persevering friendships & loyalties forged in grueling teamwork and battle, Ray and Team Matela must conquer their fears and overcome the arrogant and powerful Team Mosha which uses cheating as a winning strategy.  Will justice prevail or evil triumph? Find out on The Galaxy Racers on a track near you!",
         "['Action', 'Adventure']"
        ],
        [
         "43",
         "The Geisha Tokyo Entertainment company has announced on Wednesday it is producing and airing Sakuran Boy DT, \"Japan's first\" Flash-animated television series about a local costumed hero character. The name of the character is a wordplay on the Japanese translation for \"cherry boy\" — the Japanese slang for a male virgin — and the Sakuranbo television station in the northeastern Japanese city of Yamagata. The story revolves around Satou-kun, an ordinary high school boy who transforms into Sakuran Boy DT to rescue the mayor's daughter from the nefarious secret society Zaou. Sakuranbo has posted a trailer online, and the 11 five-minute weekly episodes will premiere on this station on January 14.",
         "['Comedy', 'Super Power']"
        ],
        [
         "44",
         "The series centers around two cats: a younger sister named Neko, and an older brother named Mata. Neko is a nekomata (a mythical two-tailed cat), innocently selfish, and spoiled by her brother. Mata is a neighborhood cat with an eartipped mark as a sign of being neutered. They meet under a streetlight in the city at night to talk.",
         "['Supernatural']"
        ],
        [
         "45",
         "The story centers on the everyday life of the cats Suna and Manu, who live in a desert — a desert made of sugar instead of sand.",
         "['Comedy']"
        ],
        [
         "46",
         "Kurumi Mirai is in the first year of high school.  She has enrolled in junior high section of the Redrun Magic School, the world's only facility for mages that approved by International Mage League and able to work under royal families when graduates, and she was always top of the class. However, when she applies for the high school section and took the examination to get into a mage training class \"Ma-gumi (Mage Class)\", she wasn't able to get in in spite having full scores and was top of the class for the whole three years.  There are some students in the class next to her that takes that class. Among that there's someone she admires. How will Kurumi Mirai who has extraordinary brain but didn't get in to be a mage candidate try to overcome and grow up? What is the aim for Minami Suzuki, a loyal mage who suddenly appears to be the homeroom teacher? This is a relaxing story of her growth.",
         "['Drama', 'Fantasy', 'School', 'Slice of Life']"
        ],
        [
         "47",
         "G.G. Bond finally won the appreciation of Princess Crystal and moved to Crystal City. But conspiracy traps lurk in the darkness out to frame G.G. Bond an ruin his good name.",
         "['Kids', 'Sci-Fi', 'Super Power']"
        ],
        [
         "48",
         "Fourth season of .  Now that spring is in the air, the forest animals are back to frolicking amongst the freshly blooming flowers and busy at work planting new trees to add even more color to their luscious home. The bear brothers—Briar and Bramble, and all their friends are having a jolly great time basking in this colorful season; however, from time to time, they stumble across Logger Vick who will not give up. The bears, along with their little friends make it their mission to protect the forest. This always results in a lot of laughter, tears and of course, adventures aplenty!",
         "['Adventure', 'Comedy', 'Kids']"
        ],
        [
         "49",
         "On a distant southern island, a fish (sakana) opened its mouth for a cat (neko), thus \"nekozakana\" (cat-fish) is born.",
         "['Comedy', 'Kids']"
        ]
       ],
       "shape": {
        "columns": 2,
        "rows": 7120
       }
      },
      "text/html": [
       "<div>\n",
       "<style scoped>\n",
       "    .dataframe tbody tr th:only-of-type {\n",
       "        vertical-align: middle;\n",
       "    }\n",
       "\n",
       "    .dataframe tbody tr th {\n",
       "        vertical-align: top;\n",
       "    }\n",
       "\n",
       "    .dataframe thead th {\n",
       "        text-align: right;\n",
       "    }\n",
       "</style>\n",
       "<table border=\"1\" class=\"dataframe\">\n",
       "  <thead>\n",
       "    <tr style=\"text-align: right;\">\n",
       "      <th></th>\n",
       "      <th>synopsis</th>\n",
       "      <th>genres</th>\n",
       "    </tr>\n",
       "  </thead>\n",
       "  <tbody>\n",
       "    <tr>\n",
       "      <th>0</th>\n",
       "      <td>Shuramaru is hated and feared by the villagers...</td>\n",
       "      <td>[Supernatural]</td>\n",
       "    </tr>\n",
       "    <tr>\n",
       "      <th>1</th>\n",
       "      <td>Sometime in the future, the world was complete...</td>\n",
       "      <td>[Action, Adventure]</td>\n",
       "    </tr>\n",
       "    <tr>\n",
       "      <th>2</th>\n",
       "      <td>Set in 2014, the anime follows the adventures ...</td>\n",
       "      <td>[Comedy]</td>\n",
       "    </tr>\n",
       "    <tr>\n",
       "      <th>3</th>\n",
       "      <td>This story is about Mick, a sleeping chironomi...</td>\n",
       "      <td>[Adventure]</td>\n",
       "    </tr>\n",
       "    <tr>\n",
       "      <th>4</th>\n",
       "      <td>The anime is based on MegaHouse's line of Zigu...</td>\n",
       "      <td>[Action, Mecha]</td>\n",
       "    </tr>\n",
       "    <tr>\n",
       "      <th>...</th>\n",
       "      <td>...</td>\n",
       "      <td>...</td>\n",
       "    </tr>\n",
       "    <tr>\n",
       "      <th>7115</th>\n",
       "      <td>Picture Drama episodes included in each DVD vo...</td>\n",
       "      <td>[Action, Adventure, Comedy, Drama, Fantasy, Ro...</td>\n",
       "    </tr>\n",
       "    <tr>\n",
       "      <th>7116</th>\n",
       "      <td>On a hot summer day, Takashi Natsume and his f...</td>\n",
       "      <td>[Drama, Shoujo, Slice of Life, Supernatural]</td>\n",
       "    </tr>\n",
       "    <tr>\n",
       "      <th>7117</th>\n",
       "      <td>Due to the arrival of aliens called the \"Amant...</td>\n",
       "      <td>[Action, Comedy, Historical, Mecha, Sci-Fi, Sh...</td>\n",
       "    </tr>\n",
       "    <tr>\n",
       "      <th>7118</th>\n",
       "      <td>The Konohagakure Grand Sports Festival has beg...</td>\n",
       "      <td>[Action, Comedy, Fantasy, Shounen, Sports]</td>\n",
       "    </tr>\n",
       "    <tr>\n",
       "      <th>7119</th>\n",
       "      <td>Having reached his emotional breaking point, R...</td>\n",
       "      <td>[Sci-Fi]</td>\n",
       "    </tr>\n",
       "  </tbody>\n",
       "</table>\n",
       "<p>7120 rows × 2 columns</p>\n",
       "</div>"
      ],
      "text/plain": [
       "                                               synopsis  \\\n",
       "0     Shuramaru is hated and feared by the villagers...   \n",
       "1     Sometime in the future, the world was complete...   \n",
       "2     Set in 2014, the anime follows the adventures ...   \n",
       "3     This story is about Mick, a sleeping chironomi...   \n",
       "4     The anime is based on MegaHouse's line of Zigu...   \n",
       "...                                                 ...   \n",
       "7115  Picture Drama episodes included in each DVD vo...   \n",
       "7116  On a hot summer day, Takashi Natsume and his f...   \n",
       "7117  Due to the arrival of aliens called the \"Amant...   \n",
       "7118  The Konohagakure Grand Sports Festival has beg...   \n",
       "7119  Having reached his emotional breaking point, R...   \n",
       "\n",
       "                                                 genres  \n",
       "0                                        [Supernatural]  \n",
       "1                                   [Action, Adventure]  \n",
       "2                                              [Comedy]  \n",
       "3                                           [Adventure]  \n",
       "4                                       [Action, Mecha]  \n",
       "...                                                 ...  \n",
       "7115  [Action, Adventure, Comedy, Drama, Fantasy, Ro...  \n",
       "7116       [Drama, Shoujo, Slice of Life, Supernatural]  \n",
       "7117  [Action, Comedy, Historical, Mecha, Sci-Fi, Sh...  \n",
       "7118         [Action, Comedy, Fantasy, Shounen, Sports]  \n",
       "7119                                           [Sci-Fi]  \n",
       "\n",
       "[7120 rows x 2 columns]"
      ]
     },
     "metadata": {},
     "output_type": "display_data"
    }
   ],
   "source": [
    "from my_import import *\n",
    "df_train = pd.read_csv('df_train.csv')\n",
    "df_val = pd.read_csv('df_val.csv')\n",
    "df_test = pd.read_csv('df_test.csv')\n",
    "df_full = pd.read_csv('final_cleaned_dataset_df.csv')\n",
    "\n",
    "#Make sure the genre collumns is in lists not strings\n",
    "#NEED TO DO THIS EVERYTIME EXPORT DATASET\n",
    "df_train['genres'] = df_train['genres'].apply(lambda x: list(ast.literal_eval(x)))\n",
    "df_val['genres'] = df_val['genres'].apply(lambda x: list(ast.literal_eval(x)))\n",
    "df_test['genres'] = df_test['genres'].apply(lambda x: list(ast.literal_eval(x)))\n",
    "\n",
    "df_train=df_train.drop(columns=['title','index'])\n",
    "df_val=df_val.drop(columns=['title','index'])\n",
    "df_test=df_test.drop(columns=['title','index'])\n",
    "\n",
    "\n",
    "display(df_train)"
   ]
  },
  {
   "cell_type": "code",
   "execution_count": 2,
   "id": "33c91bbe",
   "metadata": {},
   "outputs": [
    {
     "name": "stderr",
     "output_type": "stream",
     "text": [
      "[nltk_data] Downloading package punkt to\n",
      "[nltk_data]     C:\\Users\\User\\AppData\\Roaming\\nltk_data...\n",
      "[nltk_data]   Package punkt is already up-to-date!\n",
      "100%|██████████| 196/196 [00:02<00:00, 65.49it/s]\n",
      "c:\\Users\\User\\anaconda3\\envs\\nlp_env\\lib\\site-packages\\sklearn\\metrics\\_classification.py:1565: UndefinedMetricWarning: Precision is ill-defined and being set to 0.0 in samples with no predicted labels. Use `zero_division` parameter to control this behavior.\n",
      "  _warn_prf(average, modifier, f\"{metric.capitalize()} is\", len(result))\n"
     ]
    },
    {
     "name": "stdout",
     "output_type": "stream",
     "text": [
      "Epoch 1: Train Loss 0.4071, Val Loss 0.3992\n"
     ]
    },
    {
     "name": "stderr",
     "output_type": "stream",
     "text": [
      "100%|██████████| 196/196 [00:02<00:00, 75.46it/s]\n",
      "c:\\Users\\User\\anaconda3\\envs\\nlp_env\\lib\\site-packages\\sklearn\\metrics\\_classification.py:1565: UndefinedMetricWarning: Precision is ill-defined and being set to 0.0 in samples with no predicted labels. Use `zero_division` parameter to control this behavior.\n",
      "  _warn_prf(average, modifier, f\"{metric.capitalize()} is\", len(result))\n"
     ]
    },
    {
     "name": "stdout",
     "output_type": "stream",
     "text": [
      "Epoch 2: Train Loss 0.3795, Val Loss 0.3926\n"
     ]
    },
    {
     "name": "stderr",
     "output_type": "stream",
     "text": [
      "100%|██████████| 196/196 [00:02<00:00, 75.86it/s]\n",
      "c:\\Users\\User\\anaconda3\\envs\\nlp_env\\lib\\site-packages\\sklearn\\metrics\\_classification.py:1565: UndefinedMetricWarning: Precision is ill-defined and being set to 0.0 in samples with no predicted labels. Use `zero_division` parameter to control this behavior.\n",
      "  _warn_prf(average, modifier, f\"{metric.capitalize()} is\", len(result))\n"
     ]
    },
    {
     "name": "stdout",
     "output_type": "stream",
     "text": [
      "Epoch 3: Train Loss 0.3587, Val Loss 0.3617\n"
     ]
    },
    {
     "name": "stderr",
     "output_type": "stream",
     "text": [
      "100%|██████████| 196/196 [00:02<00:00, 75.14it/s]\n",
      "c:\\Users\\User\\anaconda3\\envs\\nlp_env\\lib\\site-packages\\sklearn\\metrics\\_classification.py:1565: UndefinedMetricWarning: Precision is ill-defined and being set to 0.0 in samples with no predicted labels. Use `zero_division` parameter to control this behavior.\n",
      "  _warn_prf(average, modifier, f\"{metric.capitalize()} is\", len(result))\n"
     ]
    },
    {
     "name": "stdout",
     "output_type": "stream",
     "text": [
      "Epoch 4: Train Loss 0.3310, Val Loss 0.3439\n"
     ]
    },
    {
     "name": "stderr",
     "output_type": "stream",
     "text": [
      "100%|██████████| 196/196 [00:02<00:00, 76.74it/s]\n",
      "c:\\Users\\User\\anaconda3\\envs\\nlp_env\\lib\\site-packages\\sklearn\\metrics\\_classification.py:1565: UndefinedMetricWarning: Precision is ill-defined and being set to 0.0 in samples with no predicted labels. Use `zero_division` parameter to control this behavior.\n",
      "  _warn_prf(average, modifier, f\"{metric.capitalize()} is\", len(result))\n"
     ]
    },
    {
     "name": "stdout",
     "output_type": "stream",
     "text": [
      "Epoch 5: Train Loss 0.2994, Val Loss 0.3271\n"
     ]
    },
    {
     "name": "stderr",
     "output_type": "stream",
     "text": [
      "100%|██████████| 196/196 [00:02<00:00, 75.24it/s]\n",
      "c:\\Users\\User\\anaconda3\\envs\\nlp_env\\lib\\site-packages\\sklearn\\metrics\\_classification.py:1565: UndefinedMetricWarning: Precision is ill-defined and being set to 0.0 in samples with no predicted labels. Use `zero_division` parameter to control this behavior.\n",
      "  _warn_prf(average, modifier, f\"{metric.capitalize()} is\", len(result))\n"
     ]
    },
    {
     "name": "stdout",
     "output_type": "stream",
     "text": [
      "Epoch 6: Train Loss 0.2713, Val Loss 0.3274\n"
     ]
    },
    {
     "name": "stderr",
     "output_type": "stream",
     "text": [
      "100%|██████████| 196/196 [00:02<00:00, 75.38it/s]\n",
      "c:\\Users\\User\\anaconda3\\envs\\nlp_env\\lib\\site-packages\\sklearn\\metrics\\_classification.py:1565: UndefinedMetricWarning: Precision is ill-defined and being set to 0.0 in samples with no predicted labels. Use `zero_division` parameter to control this behavior.\n",
      "  _warn_prf(average, modifier, f\"{metric.capitalize()} is\", len(result))\n"
     ]
    },
    {
     "name": "stdout",
     "output_type": "stream",
     "text": [
      "Epoch 7: Train Loss 0.2472, Val Loss 0.3311\n"
     ]
    },
    {
     "name": "stderr",
     "output_type": "stream",
     "text": [
      "100%|██████████| 196/196 [00:02<00:00, 73.55it/s]\n",
      "c:\\Users\\User\\anaconda3\\envs\\nlp_env\\lib\\site-packages\\sklearn\\metrics\\_classification.py:1565: UndefinedMetricWarning: Precision is ill-defined and being set to 0.0 in samples with no predicted labels. Use `zero_division` parameter to control this behavior.\n",
      "  _warn_prf(average, modifier, f\"{metric.capitalize()} is\", len(result))\n"
     ]
    },
    {
     "name": "stdout",
     "output_type": "stream",
     "text": [
      "Epoch 8: Train Loss 0.2234, Val Loss 0.3377\n"
     ]
    },
    {
     "name": "stderr",
     "output_type": "stream",
     "text": [
      "100%|██████████| 196/196 [00:02<00:00, 74.85it/s]\n",
      "c:\\Users\\User\\anaconda3\\envs\\nlp_env\\lib\\site-packages\\sklearn\\metrics\\_classification.py:1565: UndefinedMetricWarning: Precision is ill-defined and being set to 0.0 in samples with no predicted labels. Use `zero_division` parameter to control this behavior.\n",
      "  _warn_prf(average, modifier, f\"{metric.capitalize()} is\", len(result))\n"
     ]
    },
    {
     "name": "stdout",
     "output_type": "stream",
     "text": [
      "Epoch 9: Train Loss 0.2007, Val Loss 0.3459\n"
     ]
    },
    {
     "name": "stderr",
     "output_type": "stream",
     "text": [
      "100%|██████████| 196/196 [00:02<00:00, 75.01it/s]\n",
      "c:\\Users\\User\\anaconda3\\envs\\nlp_env\\lib\\site-packages\\sklearn\\metrics\\_classification.py:1565: UndefinedMetricWarning: Precision is ill-defined and being set to 0.0 in samples with no predicted labels. Use `zero_division` parameter to control this behavior.\n",
      "  _warn_prf(average, modifier, f\"{metric.capitalize()} is\", len(result))\n"
     ]
    },
    {
     "name": "stdout",
     "output_type": "stream",
     "text": [
      "Epoch 10: Train Loss 0.1781, Val Loss 0.3581\n"
     ]
    },
    {
     "name": "stderr",
     "output_type": "stream",
     "text": [
      "c:\\Users\\User\\anaconda3\\envs\\nlp_env\\lib\\site-packages\\sklearn\\metrics\\_classification.py:1565: UndefinedMetricWarning: Precision is ill-defined and being set to 0.0 in samples with no predicted labels. Use `zero_division` parameter to control this behavior.\n",
      "  _warn_prf(average, modifier, f\"{metric.capitalize()} is\", len(result))\n"
     ]
    },
    {
     "name": "stdout",
     "output_type": "stream",
     "text": [
      "\n",
      "Test Metrics with Optimized Threshold\n",
      "Loss: 0.3245\n",
      "F1: 0.4277\n",
      "Acc: 0.0534\n",
      "Precision: 0.5238\n",
      "Recall: 0.4070\n",
      "Jaccard: 0.3256\n",
      "Hamming: 0.1388\n",
      "Exact_match: 0.0534\n",
      "Hit_rate: 0.7330\n",
      "Auc_roc: 0.7836\n"
     ]
    },
    {
     "data": {
      "image/png": "[encoded data removed]",
      "text/plain": [
       "<Figure size 640x480 with 1 Axes>"
      ]
     },
     "metadata": {},
     "output_type": "display_data"
    }
   ],
   "source": [
    "# 📘 Full Anime Genre Classifier Notebook + Web Interface\n",
    "\n",
    "# Required packages\n",
    "!pip install nltk scikit-learn torch matplotlib pandas gradio -q\n",
    "\n",
    "# 1. IMPORTS\n",
    "import torch\n",
    "import torch.nn as nn\n",
    "import torch.optim as optim\n",
    "from torch.utils.data import Dataset, DataLoader\n",
    "import pandas as pd\n",
    "import numpy as np\n",
    "import ast\n",
    "from sklearn.preprocessing import MultiLabelBinarizer\n",
    "from sklearn.metrics import f1_score, accuracy_score, precision_score, recall_score, hamming_loss, roc_auc_score, jaccard_score\n",
    "import matplotlib.pyplot as plt\n",
    "import gradio as gr\n",
    "from nltk.tokenize import word_tokenize\n",
    "from collections import Counter\n",
    "from tqdm import tqdm\n",
    "import nltk\n",
    "nltk.download('punkt')\n",
    "\n",
    "DEVICE = torch.device(\"cuda\" if torch.cuda.is_available() else \"cpu\")\n",
    "\n",
    "# 2. LOAD & PREPROCESS DATA\n",
    "def load_df(path):\n",
    "    df = pd.read_csv(path)\n",
    "    df['genres'] = df['genres'].apply(lambda x: list(ast.literal_eval(x)))\n",
    "    df = df.drop(columns=['title', 'index'])\n",
    "    return df\n",
    "\n",
    "df_train = load_df('df_train.csv')\n",
    "df_val = load_df('df_val.csv')\n",
    "df_test = load_df('df_test.csv')\n",
    "\n",
    "for df in [df_train, df_val, df_test]:\n",
    "    df['tokens'] = df['synopsis'].apply(lambda x: word_tokenize(x.lower()))\n",
    "\n",
    "all_tokens = [token for sublist in df_train['tokens'] for token in sublist]\n",
    "vocab = ['<PAD>', '<UNK>'] + [word for word, freq in Counter(all_tokens).items() if freq >= 3]\n",
    "word2idx = {word: i for i, word in enumerate(vocab)}\n",
    "MAX_LEN = 200\n",
    "\n",
    "def encode(tokens):\n",
    "    ids = [word2idx.get(w, word2idx['<UNK>']) for w in tokens]\n",
    "    return ids[:MAX_LEN] + [0] * (MAX_LEN - len(ids))\n",
    "\n",
    "for df in [df_train, df_val, df_test]:\n",
    "    df['input_ids'] = df['tokens'].apply(encode)\n",
    "\n",
    "mlb = MultiLabelBinarizer()\n",
    "y_train = mlb.fit_transform(df_train['genres'])\n",
    "y_val = mlb.transform(df_val['genres'])\n",
    "y_test = mlb.transform(df_test['genres'])\n",
    "X_train = df_train['input_ids'].tolist()\n",
    "X_val = df_val['input_ids'].tolist()\n",
    "X_test = df_test['input_ids'].tolist()\n",
    "\n",
    "# 3. LOAD GLOVE\n",
    "\n",
    "def load_glove(path, dim):\n",
    "    glove = {}\n",
    "    with open(path, 'r', encoding='utf-8') as f:\n",
    "        for line in f:\n",
    "            parts = line.strip().split()\n",
    "            glove[parts[0]] = np.array(parts[1:], dtype='float32')\n",
    "    return glove\n",
    "\n",
    "import os\n",
    "import zipfile\n",
    "import urllib.request\n",
    "\n",
    "def download_glove_if_needed(path='glove.6B.100d.txt'):\n",
    "    glove_url = \"http://nlp.stanford.edu/data/glove.6B.zip\"\n",
    "    zip_path = \"glove.6B.zip\"\n",
    "\n",
    "    if not os.path.exists(path):\n",
    "        print(\"Downloading GloVe embeddings...\")\n",
    "        urllib.request.urlretrieve(glove_url, zip_path)\n",
    "\n",
    "        print(\"Extracting GloVe files...\")\n",
    "        with zipfile.ZipFile(zip_path, 'r') as zip_ref:\n",
    "            zip_ref.extractall()\n",
    "\n",
    "        os.remove(zip_path)\n",
    "        print(\"GloVe is ready.\")\n",
    "\n",
    "# Call this before loading\n",
    "download_glove_if_needed('glove.6B.100d.txt')\n",
    "\n",
    "glove = load_glove('glove.6B.100d.txt', 100)\n",
    "embedding_matrix = np.random.normal(0, 1, (len(vocab), 100))\n",
    "embedding_matrix[word2idx['<PAD>']] = np.zeros(100)\n",
    "for word, idx in word2idx.items():\n",
    "    if word in glove:\n",
    "        embedding_matrix[idx] = glove[word]\n",
    "\n",
    "# 4. DATASET & MODEL\n",
    "class AnimeDataset(Dataset):\n",
    "    def __init__(self, X, y):\n",
    "        self.X = X\n",
    "        self.y = y\n",
    "    def __len__(self): return len(self.X)\n",
    "    def __getitem__(self, i):\n",
    "        return torch.tensor(self.X[i]), torch.tensor(self.y[i], dtype=torch.float32)\n",
    "\n",
    "train_loader = DataLoader(AnimeDataset(X_train, y_train), batch_size=32, shuffle=True)\n",
    "val_loader = DataLoader(AnimeDataset(X_val, y_val), batch_size=32)\n",
    "test_loader = DataLoader(AnimeDataset(X_test, y_test), batch_size=32)\n",
    "\n",
    "class GenreClassifier(nn.Module):\n",
    "    def __init__(self, embedding_matrix, hidden_dim, out_dim):\n",
    "        super().__init__()\n",
    "        self.embedding = nn.Embedding.from_pretrained(torch.tensor(embedding_matrix, dtype=torch.float32), freeze=False)\n",
    "        self.gru = nn.GRU(100, hidden_dim, batch_first=True, bidirectional=True)\n",
    "        self.fc = nn.Linear(hidden_dim * 2, out_dim)\n",
    "        self.sigmoid = nn.Sigmoid()\n",
    "    def forward(self, x):\n",
    "        x = self.embedding(x)\n",
    "        out, _ = self.gru(x)\n",
    "        return self.sigmoid(self.fc(out[:, -1, :]))\n",
    "\n",
    "model = GenreClassifier(embedding_matrix, 128, y_train.shape[1]).to(DEVICE)\n",
    "\n",
    "# 5. TRAINING LOOP + EVALUATION\n",
    "criterion = nn.BCELoss()\n",
    "optimizer = optim.Adam(model.parameters(), lr=1e-3)\n",
    "best_val_loss = float('inf')\n",
    "best_model_state = None\n",
    "train_losses, val_losses = [], []\n",
    "\n",
    "def evaluate(model, loader, threshold=0.5):\n",
    "    model.eval()\n",
    "    y_true, y_prob = [], []\n",
    "    total_loss = 0\n",
    "    with torch.no_grad():\n",
    "        for x, y in loader:\n",
    "            x, y = x.to(DEVICE), y.to(DEVICE)\n",
    "            out = model(x)\n",
    "            loss = criterion(out, y)\n",
    "            total_loss += loss.item()\n",
    "            y_true.append(y.cpu().numpy())\n",
    "            y_prob.append(out.cpu().numpy())\n",
    "    y_true = np.vstack(y_true)\n",
    "    y_prob = np.vstack(y_prob)\n",
    "    y_pred = (y_prob >= threshold).astype(int)\n",
    "    return {\n",
    "        'loss': total_loss / len(loader),\n",
    "        'f1': f1_score(y_true, y_pred, average='samples'),\n",
    "        'acc': accuracy_score(y_true, y_pred),\n",
    "        'precision': precision_score(y_true, y_pred, average='samples'),\n",
    "        'recall': recall_score(y_true, y_pred, average='samples'),\n",
    "        'jaccard': jaccard_score(y_true, y_pred, average='samples'),\n",
    "        'hamming': hamming_loss(y_true, y_pred),\n",
    "        'exact_match': np.all(y_true == y_pred, axis=1).mean(),\n",
    "        'hit_rate': np.mean(np.any(y_true * y_pred, axis=1)),\n",
    "        'auc_roc': roc_auc_score(y_true, y_prob, average='macro')\n",
    "    }, y_prob, y_true\n",
    "\n",
    "for epoch in range(10):\n",
    "    model.train()\n",
    "    total_loss = 0\n",
    "    for x, y in tqdm(train_loader):\n",
    "        x, y = x.to(DEVICE), y.to(DEVICE)\n",
    "        optimizer.zero_grad()\n",
    "        loss = criterion(model(x), y)\n",
    "        loss.backward()\n",
    "        optimizer.step()\n",
    "        total_loss += loss.item()\n",
    "    train_losses.append(total_loss / len(train_loader))\n",
    "    val_metrics, val_probs, _ = evaluate(model, val_loader)\n",
    "    val_losses.append(val_metrics['loss'])\n",
    "    print(f\"Epoch {epoch+1}: Train Loss {train_losses[-1]:.4f}, Val Loss {val_losses[-1]:.4f}\")\n",
    "    if val_metrics['loss'] < best_val_loss:\n",
    "        best_val_loss = val_metrics['loss']\n",
    "        best_model_state = model.state_dict()\n",
    "        torch.save(best_model_state, 'best_model.pt')\n",
    "\n",
    "# 6. OPTIMAL THRESHOLD\n",
    "\n",
    "def find_optimal_threshold(y_true, y_probs):\n",
    "    best_thresholds = []\n",
    "    for i in range(len(y_true)):\n",
    "        c = set(np.where(y_true[i] == 1)[0])\n",
    "        y_all = set(range(len(y_true[i])))\n",
    "        thresholds = np.linspace(0.01, 0.99, 100)\n",
    "        best_t, best_err = 0.5, float('inf')\n",
    "        for t in thresholds:\n",
    "            missed_true = sum(y_probs[i][j] <= t for j in c)\n",
    "            false_pos = sum(y_probs[i][j] >= t for j in (y_all - c))\n",
    "            err = missed_true + false_pos\n",
    "            if err < best_err:\n",
    "                best_err = err\n",
    "                best_t = t\n",
    "        best_thresholds.append(best_t)\n",
    "    return np.mean(best_thresholds)\n",
    "\n",
    "optimal_threshold = find_optimal_threshold(y_val, val_probs)\n",
    "model.load_state_dict(torch.load('best_model.pt'))\n",
    "test_metrics, _, _ = evaluate(model, test_loader, threshold=optimal_threshold)\n",
    "print(\"\\nTest Metrics with Optimized Threshold\")\n",
    "for k, v in test_metrics.items():\n",
    "    print(f\"{k.capitalize()}: {v:.4f}\")\n",
    "\n",
    "# 7. PLOT LOSSES\n",
    "plt.plot(train_losses, label='Train')\n",
    "plt.plot(val_losses, label='Val')\n",
    "plt.legend()\n",
    "plt.title(\"Loss Curve\")\n",
    "plt.xlabel(\"Epoch\")\n",
    "plt.ylabel(\"Loss\")\n",
    "plt.grid()\n",
    "plt.show()\n",
    "\n",
    "# 8. INFERENCE\n",
    "\n",
    "def predict(text):\n",
    "    tokens = word_tokenize(text.lower())\n",
    "    ids = encode(tokens)\n",
    "    input_tensor = torch.tensor([ids]).to(DEVICE)\n",
    "    with torch.no_grad():\n",
    "        probs = model(input_tensor).cpu().numpy()[0]\n",
    "    pred = (probs >= optimal_threshold).astype(int)\n",
    "    return [mlb.classes_[i] for i, val in enumerate(pred) if val == 1]\n",
    "\n",
    "# 9. GRADIO APP\n",
    "demo = gr.Interface(fn=predict, inputs=gr.Textbox(label=\"Enter Anime Synopsis\"), outputs=gr.Label(num_top_classes=10), title=\"Anime Genre Predictor\")\n",
    "# To launch: demo.launch()\n"
   ]
  },
  {
   "cell_type": "code",
   "execution_count": 3,
   "id": "bf7de8dc",
   "metadata": {},
   "outputs": [
    {
     "name": "stdout",
     "output_type": "stream",
     "text": [
      "['Comedy']\n"
     ]
    }
   ],
   "source": [
    "def predict_genres(text):\n",
    "    tokens = word_tokenize(text.lower())\n",
    "    ids = encode(tokens)\n",
    "    input_tensor = torch.tensor([ids]).to(DEVICE)\n",
    "    with torch.no_grad():\n",
    "        probs = model(input_tensor).cpu().numpy()[0]\n",
    "    pred = (probs >= optimal_threshold).astype(int)\n",
    "    return [genre for i, genre in enumerate(mlb.classes_) if pred[i]]\n",
    "\n",
    "# Example\n",
    "print(predict_genres(\"The story centers on Otarou, a creature themed around dirt known as a yogoremon. It and other yogoremon ask the meaning of words and explain negative terms in positive ways.  (Source: ANN)\"))\n"
   ]
  },
  {
   "cell_type": "code",
   "execution_count": 4,
   "id": "5b16611b",
   "metadata": {},
   "outputs": [
    {
     "name": "stderr",
     "output_type": "stream",
     "text": [
      "Predicting: 100%|██████████| 196/196 [00:01<00:00, 120.84it/s]\n",
      "Predicting: 100%|██████████| 23/23 [00:00<00:00, 146.92it/s]\n",
      "Predicting: 100%|██████████| 24/24 [00:00<00:00, 145.70it/s]\n"
     ]
    },
    {
     "data": {
      "application/vnd.microsoft.datawrangler.viewer.v0+json": {
       "columns": [
        {
         "name": "index",
         "rawType": "int64",
         "type": "integer"
        },
        {
         "name": "Synopsis",
         "rawType": "object",
         "type": "string"
        },
        {
         "name": "True Genres",
         "rawType": "object",
         "type": "unknown"
        },
        {
         "name": "Predicted Genres",
         "rawType": "object",
         "type": "unknown"
        }
       ],
       "conversionMethod": "pd.DataFrame",
       "ref": "da062a5c-0192-4452-9d10-5441c6f2a532",
       "rows": [
        [
         "0",
         "The daily life of the Motsumoto family. The three sisters, Fuu, Suu, and Chii, follow what happens on a daily basis. Mother and Father have to deal with them sometimes, but they're used to it.",
         "['Comedy', 'Slice of Life']",
         "['Action', 'Adventure', 'Sci-Fi']"
        ],
        [
         "1",
         "The Soul Tree, the great source of our race.  But for its ultimate power and by those whose minds were blinded by it, it also became the catastrophic cause that had brought never-ending wars between the tribes. Tortured by the agonies of the wars, the leaders of the tribes finally came to a peace agreement that they would instead open a competition. Players, equipped with special watches and shields, compete against each other as winner’s tribe would be awarded with Materion, the sacred fruit of the Soul Tree.  These brave players, who throw themselves in this fierce fight, we call them the Runningman.",
         "['Action', 'Adventure', 'Kids']",
         "['Comedy', 'Romance', 'Supernatural']"
        ],
        [
         "2",
         "Fairies living in a fluffy forest, where both flowers and trees are fluffy. Follow a witch's trouble-maker apprentices Pui Pui and Muu Muu.",
         "['Fantasy', 'Kids']",
         "['Action', 'Adventure', 'Fantasy']"
        ],
        [
         "3",
         "This story is about Mick, a sleeping chironomid. Insects are taken up into space for use in experiments by humans. An epic space adventure of Mick and his friends of their journey back home to Earth. The development plans and experiments are aborted by humans for no known reason, the organisms are left behind in the space station with limited resources. Going over hurdles and fighting through challenges, together, they travel across planets and gain new comrades, heading for Earth. As their journey progresses, the mystery behind the human’s abandonment unravels…",
         "['Adventure']",
         "['Comedy']"
        ],
        [
         "4",
         "Himeno Mimika is a daughter of historical cook family. She goes to a cooking school, Miracle Academy which train cooks all over the world. Vying with rivals, she brings out her gift, and she grows up as a cook.",
         "['Kids', 'Slice of Life']",
         "['Comedy', 'Romance']"
        ],
        [
         "5",
         "The story begins 15 years after the demon king was defeated and the world has become peaceful. Kotone, who graduated from school and became a magician, inquired about the kingdom-affiliated RPG Real Estate in order to find a new home. In reality, RPG Real Estate was Kotone's place of employment, and together with Fa, a demi-human, the priest Rufuria, and the soldier Rakira, they help support the searches of new homes for the customers with various circumstances.",
         "['Comedy', 'Fantasy', 'Slice of Life']",
         "[]"
        ],
        [
         "6",
         "The third generation of J SOUL BROTHERS from EXILE TRIBE is reimagined as 7 unique and diverse characters in \"KICK & SLIDE\". This is a slapstick story where the characters solve difficult cases!? and rare cases!? that occur in the colorful and pop vibrant city \"Nakame Town\" with dance and music.",
         "['Kids', 'Music']",
         "['Action', 'Adventure', 'Mecha', 'Sci-Fi']"
        ],
        [
         "7",
         "A cyborg warrior from an ancient Antarctic kingdom awakes 30000 years later from an accidental hibernation to find the Earth changed and an old alien enemy on the verge of invasion. It's up to Guyslugger to use his ancient technology to defeat the aliens.",
         "['Action', 'Mecha', 'Sci-Fi']",
         "['Comedy', 'Slice of Life']"
        ],
        [
         "8",
         "The story centers on Otarou, a creature themed around dirt known as a yogoremon. It and other yogoremon ask the meaning of words and explain negative terms in positive ways.",
         "['Comedy']",
         "['Comedy', 'Romance', 'School', 'Slice of Life']"
        ],
        [
         "9",
         "An elite soldier, whose nickname is God of Death, is transferred to another unit known as the PaPaRa Army. The PaPaRa Army is infamous for its elite but hilariously crazy members. There is no plot to speak of other than humour, hilarious brutality, and general nonsense. This is also Matsuzawa-sensei's debut work.",
         "['Action', 'Adventure', 'Comedy', 'Romance', 'Sci-Fi']",
         "['Action', 'Adventure', 'Fantasy', 'Supernatural']"
        ],
        [
         "10",
         "The third show in the Virtual Trilogy, a mix of anime and live action shots.  In the beginning of the 22nd century society advanced rapidly. Now even children are able to become real doctors, a task before that took two and a half decades to achieve. And nanomachines became prevalent to fight disease. Keita is a Nanosaver, a child doctor who uses the virtual world to apply life saving techniques by entering the body and treating the patients in a virtual medical station (VMS). As more and more patients are taken in, various mysterious are uncovered about them.  In the second half of the anime, a small Ethanarian alien and galactic federation is introduced.",
         "['Adventure', 'Shounen']",
         "['Comedy', 'Romance', 'School']"
        ],
        [
         "11",
         "The gag anime takes place at a school for youkai and other supernatural beings. A vampire named Rakuru transfers to the school from the West, and she tries to change the school as the class representative.",
         "['Comedy', 'Supernatural']",
         "['Comedy']"
        ],
        [
         "12",
         "A prequel TV series setting up for the feature film.  G.G. Bond's father while exploring ruins gets sucked into a dimension of evil through the Dark Gate. He is bestowed power and knowledge and becomes corrupted as the King of Darkness. Ancient monsters are sent through the cracks of the gate to attack G.G. Bond and his team as the 5 elemental powers are stronger than the King of Darkness. By weakening the team, only then can the King of Darkness forcibly open the gate to unless a reign of terror on the Fairy Tale world.",
         "['Kids', 'Sci-Fi', 'Super Power']",
         "['Comedy', 'Slice of Life']"
        ],
        [
         "13",
         "TV adaptation of Cocone Corporation's mobile puzzle game app.  Discover the adventures of the cat painter, Vincent van Meowogh who lives in a mansion in Paris surrounded by his quirky friends. Let's give him a spark of inspiration for his painting by completing puzzle stages, buy back the furniture and restore his home to its former glory!",
         "['Kids']",
         "['Adventure', 'Comedy', 'Fantasy']"
        ],
        [
         "14",
         "General of the Three Kingdoms, Kongming had struggled his whole life, facing countless battles that made him into the accomplished strategist he was. So on his deathbed, he wished only to be reborn into a peaceful world... and was sent straight to modern-day party-central, Tokyo! Can even a brilliant strategist like Kongming adapt to the wild beats and even wilder party people?!",
         "['Comedy']",
         "['Comedy', 'School', 'Slice of Life']"
        ],
        [
         "15",
         "Kou Yamori seems like a typical middle school student on the surface. Relatively good at studies and amiable with his classmates, he puts a lot of effort into maintaining this facade. One day, however, he decides to stop pretending and quits school, developing insomnia as a result of having no daytime outlet for his energy. When taking walks alone at night, he feels marginally better, though he is aware that his inability to sleep should be considered a serious problem.  On one such walk, Kou meets a weird girl, Nazuna Nanakusa, who diagnoses the cause of his sleeplessness: despite making changes in his life, he is still holding himself back from experiencing true freedom. She says that he won't be able to sleep unless he is satisfied with how he spends his waking hours. When it appears that she has resolved his current worries, Nazuna invites him back to her apartment to share her futon. After a while, unaware that he is only feigning unconsciousness, she leans over him—and bites his neck!",
         "['Romance', 'Shounen', 'Supernatural']",
         "['Action', 'Adventure', 'Sci-Fi']"
        ],
        [
         "16",
         "Ryou Mizushima enrolls in junior high and joins the badminton club with great vigor. Although the club didn't have a proper coach, Mizushima improved his skills with his own physical strength by the time he participated in the prefectural tournament. Afterwards, he is approached by the Yokohama Minato High School's badminton coach, Ebihara.  Indecisive and timid, Mizushima hesitates to attend such a prestigious school. However, with his elder sister Rika giving him a strong push, he decides to go to Yokohama Minato. Now blessed with a coach and idiosyncratic teammates, Mizushima will gain experience he's lacked till now, and aims to win the inter-high tournament.",
         "['Sports']",
         "['Comedy', 'Romance', 'Slice of Life']"
        ],
        [
         "17",
         "The series revolves around life in Gifu Prefecture in central Japan — as seen through the eyes of Tatekayoko, a female inhabitant who speaks in the dialect of Gifu's Tounou region. The anime will air within the program on Tokyo MX.",
         "['Comedy', 'Kids']",
         "['Action', 'Adventure', 'Fantasy', 'Supernatural']"
        ],
        [
         "18",
         "The hero of Tensei shitara Ken deshita differs from your standard otherworldly protagonist in that he is reincarnated as a sword! Beginning his quest by spawning in the middle of a beast-ridden forest, he encounters an injured girl frantically fleeing for her life. Saving her from her assailants, the pair acquaint themselves, and the girl introduces herself as Fran. She bears a heavy past, having endured the enslavement and maltreatment of her tribe, the Black Cats.  As the hero is unable to remember the name from his past life, the young and tenacious Fran bestows him the name \"Shishou\" and becomes his wielder. Thereafter, Shishou and Fran become a formidable team, embarking on quests to liberate the oppressed and exact justice!",
         "['Action', 'Fantasy']",
         "['Romance']"
        ],
        [
         "19",
         "If a girl teases you, that means she likes you!  Unfortunately, Akiteru knows from experience that isn't the case. Because every girl he interacts with shows him nothing but scorn, and he's not scored a single date from it! Luckily, he's more concerned with securing a spot for him and his game-development buddies at his uncle's business.  But when his uncle throws him a condition that involves playing the part of his daughter's boyfriend, Akiteru has no choice but to take it. What will his best friend's sister Iroha, who bullies him relentlessly, think of the news?",
         "['Comedy', 'Romance', 'School']",
         "['Comedy', 'Slice of Life']"
        ],
        [
         "20",
         "There is a mysterious power of the Holy Spirit hidden in the legendary continent of Labelle, and the way to get power is recorded in the book of flower, guard by numerous flower Fairy Kings,only the legendary magic ambassador is recognized to wake up the power, and use them to defeat evil. For this.The evil force,led by Jakarta,the Queen of Dark had start a war to the continent of Labelle.With the help of the Flower Goddess,Pupula and the tribe of gouring flower fairys, the fate of the continent of Labelle is linked with an Earth girl... Who is the legendary envoy XiaAnAn.",
         "['Kids']",
         "['Comedy']"
        ],
        [
         "21",
         "Denji has a simple dream—to live a happy and peaceful life, spending time with a girl he likes. This is a far cry from reality, however, as Denji is forced by the yakuza into killing devils in order to pay off his crushing debts. Using his pet devil Pochita as a weapon, he is ready to do anything for a bit of cash.  Unfortunately, he has outlived his usefulness and is murdered by a devil in contract with the yakuza. However, in an unexpected turn of events, Pochita merges with Denji's dead body and grants him the powers of a chainsaw devil. Now able to transform parts of his body into chainsaws, a revived Denji uses his new abilities to quickly and brutally dispatch his enemies. Catching the eye of the official devil hunters who arrive at the scene, he is offered work at the Public Safety Bureau as one of them. Now with the means to face even the toughest of enemies, Denji will stop at nothing to achieve his simple teenage dreams.",
         "['Action', 'Adventure', 'Shounen']",
         "['Comedy', 'Slice of Life']"
        ],
        [
         "22",
         "The anime is set on the titular Musical Note Island, where the god of music is said to reside. The island is home to \"instrument animals,\" who are born from music energy, and have parts of their body composed of a musical instrument. One day, a witch arrives at the island. The warrior girl Cara must go on a journey to defeat the witch and win back the peace on the island.",
         "['Adventure', 'Fantasy', 'Kids']",
         "['Adventure', 'Fantasy']"
        ],
        [
         "23",
         "revolves around mischievous creatures called Teenieping that like to enter people's minds, but their playful nature and magical powers can wreak havoc in their hosts' lives. When the Teenieping are set loose on Earth, Princess Romi of the Emotion Kingdom becomes an ordinary girl that has to turn into a magical girl to stop them, all while balancing her new civilian life as a worker for the Bakery Heartrose with her coworkers Ian, Kyle, and Jun.",
         "['Fantasy', 'Kids', 'School']",
         "[]"
        ],
        [
         "24",
         "The second season of . SBS took over broadcasting the show. The art style has been changed for a more modern anime-esque appearance and some voice actors did not reprise their character's roles.",
         "['Kids', 'Sci-Fi']",
         "['Action', 'Adventure', 'Drama', 'Fantasy']"
        ],
        [
         "25",
         "Hitori Gotou is a high school girl who's starting to learn to play the guitar because she dreams of being in a band, but she's so shy that she hasn't made a single friend. However, her dream might come true after she meets Nijika Ijichi, a girl who plays drums and is looking for a new guitarist for her band.",
         "['Comedy', 'Music', 'Slice of Life']",
         "['Fantasy']"
        ],
        [
         "26",
         "The anime's story centers on a cat named Maru, adopted by a girl named Anna from a shelter in Matsuyama city. Loved and well fed by the family, Maru gets rounder and fatter every day, spending most of his day sitting by the window and looking at the garden outside. When the family gets a new cat named Cerisier and begins doting on it, Maru gets jealous. In a fight with Cerisier, Maru is hurt by the family's words to him, and follows the advice of another cat to leave and see the world.",
         "['Slice of Life']",
         "['Action']"
        ],
        [
         "27",
         "Within the nature \"Darwin Kita! Kikimono Shin Densetsu\" program on NHK1.5 airs the short , based on a web manga/comic of the same name. It following animal characters who visit the bar . The bar is run by the Mama who is a Pallas's cat ( ) and serviced by the hostess Tsunomin who is a Brazilian treehopper ( ).",
         "['Slice of Life']",
         "['Action', 'Adventure', 'Mecha', 'Sci-Fi']"
        ],
        [
         "28",
         "Yuuya, one half of the boy pop duo ZINGS, may be the laziest performer in the Japanese music industry. His partner is out there giving 110% every night (and, thankfully, he's quite popular), but Yuuya's half-assed, sloppy dancing, and his frankly hostile attitude toward the audience, has the fans hating him and his agent looking for any excuse to cut him loose. The career of a pop idol just isn't the path of easy leisure and adulation Yuuya expected...  After a particularly lifeless concert appearance, Yuuya meets a girl backstage. She's dressed to the nines in a colorful outfit, she's full of vim and vigor, and all she wants from life is to perform. There's just one problem: She's been dead for a year. This is the ghost of Asahi Mogami, the beloved singer whose time on the stage was tragically cut short, unless... If ghosts are real, is spirit possession really that much of a stretch?",
         "['Comedy', 'Music', 'Supernatural']",
         "['Action', 'Sci-Fi']"
        ],
        [
         "29",
         "In \"a certain era\" on \"a certain continent,\" banal things are happening. The construction of \"Large-Scale Leisure Facilities\" has demanded that all the villages are to be evicted. When these demands are denied, the village and its residents are obliterated. A boy named Chap once lived in tranquility, but that happiness soon came crumbling down. He decides to embark on a journey of revenge, but soon falls madly in love with the king's daughter, Princess Melora. In order to fulfill her selfish wishes, he gathers his friends in order to overcome the impossible.",
         "['Adventure', 'Comedy', 'Fantasy', 'Kids']",
         "['Comedy']"
        ],
        [
         "30",
         "The story centers on the Seven Gods of Fortune in Japanese mythology as they reside on Awaji Island in Hyogo. In the shorts' story, the Seven Gods of Fortune slack in their duties in heaven, and Susanoo-no-Mikoto banishes them to Awaji Island. In order to return to the heavenly realm, they must help bring happiness to humans and rebuild their virtue. The outcast gods reluctantly grant human wishes and accumulate points in their \"god phones\" to be able to return to heaven. They aim to perform good deeds on particularly auspicious days to maximize point accumulation. Despite their best efforts at accumulating virtue, sometimes the Seven Gods of Fortune end up bringing misfortune to humans. When they fail, they lose points, further prolonging their stay on Awaji Island.",
         "['Comedy', 'Kids', 'Supernatural']",
         "['Comedy', 'Slice of Life']"
        ],
        [
         "31",
         "The series follows a young girl named Shina who hopes to become the world's best DJ, and is interested in new sounds. Shina explores a mysterious world filled with Otoppe, strange creatures capable of unique sounds.",
         "['Fantasy', 'Kids', 'Music']",
         "['Action', 'Adventure', 'Fantasy', 'Supernatural']"
        ],
        [
         "32",
         "Shorts that feature music note cats. The series premiered on February 22, 2014 on television; the first episode was published on an official YouTube channel that same day.  The whole world is in love with character illustrations of cats, dogs, and bears. A brand-new show, and the first of its kind in Japan, featuring nothing but cat characters for cat lovers started airing in February 2014. A variety of cat characters designed by Japan's topnotch creators and illustrators are animated and they are voiced by popular KAWAII (cute) anime voice actors. This show is a must-see not just for the fans of cat characters but for all anime lovers!",
         "['Comedy', 'Music']",
         "['Comedy', 'Slice of Life']"
        ],
        [
         "33",
         "Shorts that aired within \"Fight Tension☆Depart,\" a variety program that originally aired the anime as one of its segments. Celeb-chan is a narcissistic school girl who believes that she is a celebrity because her family is incredibly wealthy. She tries to do typical rich people things such as starting her own heavy makeup line, becoming a singer, saving an endangered species, buying a teacup poodle, etc. The results are never how she expects it.",
         "['Comedy']",
         "[]"
        ],
        [
         "34",
         "Yuuichi Katagiri has battled financial hardships his whole life but has learned to stay content and positive thanks to his close circle of friends. To keep a promise he made to them, Yuuichi saves up enough money to join them on the school trip. But when the gathered money mysteriously goes missing, suspicion falls on two of Yuuichi's friends: Shiho Sawaragi and Makoto Shibe, who were in charge of collecting the payments. Although innocent, Shiho and Makoto take responsibility for the failure to protect the money when no one else comes forward.  A few days later, Yuuichi and his friends receive mysterious letters which trick each of them into meeting up. Upon arrival, they are ambushed and knocked unconscious. They wake up in a mysterious room in the presence of \"Manabu-kun,\" a character from a controversial children's show that stopped airing due to its malicious content. He informs the group that one of them indirectly gathered them together in order to settle a large debt. They are to play a \"friendship game\": a series of games that will test the strength of their bond and trust in each other. As the group's faith wavers due to the growing number of secrets and betrayals, Yuuichi must figure out who of his \"friends\" he can actually trust and ultimately discover the identity of the traitor.",
         "['Shounen']",
         "['Comedy', 'Slice of Life']"
        ],
        [
         "35",
         "Excellent student Iwakura Mitsumi has always dreamt about leaving her small town, going to a prestigious university, and making positive change in the world. But she's so focused on reaching her goals that she's not prepared for the very different (and overwhelming) city life that awaits her in a Tokyo high school. Luckily, she makes fast friends with Shima Sousuke, a handsome classmate who's as laid-back as she is over-prepared. Can this naive country girl make it big in Tokyo with Sousuke by her side?",
         "['School', 'Seinen', 'Slice of Life']",
         "['Adventure', 'Fantasy']"
        ],
        [
         "36",
         "The story will follow four girls who seek to use their songs to heal and soothe the people of their world. The tagline reads, \"Kindhearted, powerful songs heal the world. These are beautiful miracles sung by humanity.\"",
         "['Music']",
         "['Comedy', 'School', 'Slice of Life']"
        ],
        [
         "37",
         "The \"heart-warming comedy\" anime centers on Chimimo, who is a messenger of hell and a shape-shifting evil demon. Chimimo is one of 12 evil demons whose mission is to turn the human world into hell. The 12 demons along with \"Hell-san\" go to the human world, but Hell-san and Chimimo become freeloaders to a family of three sisters named Mutsumi, Hazuki, and Mei.",
         "['Comedy']",
         "['Comedy', 'School']"
        ],
        [
         "38",
         "Set in the future on the Yellow River Planet, the realm of car racing has advanced beyond Formula One-into the domain of the Galaxy Racers. Riders steer their simulator-racers which remotely control the actual customized speedsters hurtling around a track.  The hero, a teenager named Roy, was born to race and aspires to be the King of Galaxy Racers. But his guardian, his grandfather, sees a threat from and great danger in the evil and greedy Taz, the CEO of the Titan Space Navigation Auto Group which seeks to swallow or destroy all competitors, and whose Mosha Racing Team would just as ruthlessly run over and crush Roy under its thundering wheels. He arranges for him to join the good guys in the Matela Racing Team to race for the highest honors.  Many years ago, Ray’s father, Dr Renault, worked for the Titan Group and he invented the Galaxy Racers but he was against CEO Taz’s destructive greed. He tries to escape-and disappears! Monopolizing the technology and construction of the Racers, Taz, the Titan Group and Mosha Racing Team swallowed, crushed and beat all rival companies, racers and teams.  Desperately, Ray’s grandfather uses a secret design hidden by Dr Renault from Taz and builds for him a superior racer, The Lion King. But he has first to learn the skills and garner experience from racing at the highest levels. To acquire these qualities plus humility and resilience, he relies on his Matela friends who have their own cool cars, to help him. But arrayed against them are the Mosha baddies and their menacing machines.  In a series of hair-raising and nail-biting races with thrills & spills, growling engines, screeching wheels, burning rubber, smashing metal against metal, intense bitter rivalry, persevering friendships & loyalties forged in grueling teamwork and battle, Ray and Team Matela must conquer their fears and overcome the arrogant and powerful Team Mosha which uses cheating as a winning strategy.  Will justice prevail or evil triumph? Find out on The Galaxy Racers on a track near you!",
         "['Action', 'Adventure']",
         "['Comedy']"
        ],
        [
         "39",
         "The Geisha Tokyo Entertainment company has announced on Wednesday it is producing and airing Sakuran Boy DT, \"Japan's first\" Flash-animated television series about a local costumed hero character. The name of the character is a wordplay on the Japanese translation for \"cherry boy\" — the Japanese slang for a male virgin — and the Sakuranbo television station in the northeastern Japanese city of Yamagata. The story revolves around Satou-kun, an ordinary high school boy who transforms into Sakuran Boy DT to rescue the mayor's daughter from the nefarious secret society Zaou. Sakuranbo has posted a trailer online, and the 11 five-minute weekly episodes will premiere on this station on January 14.",
         "['Comedy', 'Super Power']",
         "['Action', 'Mecha', 'Sci-Fi']"
        ],
        [
         "40",
         "The story is set in a world where every event has been turned into programs, and mysterious monsters known as \"Promin\" maintain the world. However, many Promin who have turned into bugs known as \"Bugmin\" are responsible for many of the world's real-life bugs. Left alone, they may eventually turn into a big problem. The boy Yuuto encounters the space dog Wanda, and the pair use a camera-like device and key items to capture Bugmin. Promin themselves are able to do things like \"accelerate objects,\" \"spew fire,\" or \"create objects,\" through an ability known as \"Kamiwaza\" (miracle), and are able to fend off Bugmin with it. At first, the Bugmin only cause small, bothersome things, but it will soon elevate into a global scale threat. Can one boy and one dog save the world?",
         "['Kids', 'Sci-Fi']",
         "['Action', 'Adventure', 'Fantasy']"
        ],
        [
         "41",
         "The series centers around two cats: a younger sister named Neko, and an older brother named Mata. Neko is a nekomata (a mythical two-tailed cat), innocently selfish, and spoiled by her brother. Mata is a neighborhood cat with an eartipped mark as a sign of being neutered. They meet under a streetlight in the city at night to talk.",
         "['Supernatural']",
         "['Action', 'Adventure', 'Comedy', 'Fantasy']"
        ],
        [
         "42",
         "One day, a gamer played video games until he fell asleep...and when he woke up, he found himself in the game world—as a skeleton! Equipped with the powerful weapons and armor of his avatar but stuck with its frightening skeletal appearance, Arc has to find a place for himself in this new, fantastical land. All his hopes for a quiet life are dashed when he crosses paths with a beautiful elven warrior, setting him on a journey full of conflict and adventure.",
         "['Action', 'Fantasy']",
         "['Drama', 'Romance']"
        ],
        [
         "43",
         "On a whim, first-year Ayumu Tanaka quits the Kendo Club to join the illegitimate Shogi Club. Urushi Yaotome, the president of the club and a master of shogi, is thrilled to finally have a playing partner. As Ayumu's upperclassman, Urushi endeavors to be his shogi mentor and student role model. Too often, however, she finds herself blushing with embarrassment! Stone-faced and honest, Ayumu sees no issue with calling Urushi \"cute.\" Although Ayumu likes her, he refrains from confessing and promises himself to first beat her in a game of shogi.  Through school life and shogi games, the two students have many hilarious and heart-warming adventures. Ayumu enjoys every second with Urushi, but he is still a long way from beating her in shogi. With the commitment he made to himself, will Ayumu ever get the chance to confess his feelings to Urushi?",
         "['Comedy', 'Romance', 'School', 'Shounen', 'Slice of Life']",
         "[]"
        ],
        [
         "44",
         "The story centers on the everyday life of the cats Suna and Manu, who live in a desert — a desert made of sugar instead of sand.",
         "['Comedy']",
         "['Action', 'Adventure', 'Fantasy', 'Sci-Fi']"
        ],
        [
         "45",
         "Kurumi Mirai is in the first year of high school.  She has enrolled in junior high section of the Redrun Magic School, the world's only facility for mages that approved by International Mage League and able to work under royal families when graduates, and she was always top of the class. However, when she applies for the high school section and took the examination to get into a mage training class \"Ma-gumi (Mage Class)\", she wasn't able to get in in spite having full scores and was top of the class for the whole three years.  There are some students in the class next to her that takes that class. Among that there's someone she admires. How will Kurumi Mirai who has extraordinary brain but didn't get in to be a mage candidate try to overcome and grow up? What is the aim for Minami Suzuki, a loyal mage who suddenly appears to be the homeroom teacher? This is a relaxing story of her growth.",
         "['Drama', 'Fantasy', 'School', 'Slice of Life']",
         "['Adventure', 'Comedy', 'Fantasy']"
        ],
        [
         "46",
         "Fourth season of .  Now that spring is in the air, the forest animals are back to frolicking amongst the freshly blooming flowers and busy at work planting new trees to add even more color to their luscious home. The bear brothers—Briar and Bramble, and all their friends are having a jolly great time basking in this colorful season; however, from time to time, they stumble across Logger Vick who will not give up. The bears, along with their little friends make it their mission to protect the forest. This always results in a lot of laughter, tears and of course, adventures aplenty!",
         "['Adventure', 'Comedy', 'Kids']",
         "['Action', 'Sci-Fi']"
        ],
        [
         "47",
         "On a distant southern island, a fish (sakana) opened its mouth for a cat (neko), thus \"nekozakana\" (cat-fish) is born.",
         "['Comedy', 'Kids']",
         "['Action', 'Adventure', 'Fantasy']"
        ],
        [
         "48",
         "On February 29, 2000, the Möbius meteorites fell on Earth. These meteorites brought a new form of matter known as Möbius Dust to Earth. The dust permeated Earth's atmosphere, leading to a miracle. The day the meteorites fell, nicknamed \"2.29,\" accelerated the economic disparity in Japan.  Before long, the Bloody War Alliance, discontent with this disparity, began committing acts of terrorism. Amidst all this, the police established the anti-RC special mobile unit and a joint anti-RC training school for the initial training of the unit members.",
         "['Action', 'Kids']",
         "['Comedy', 'Drama', 'Romance']"
        ],
        [
         "49",
         "The series of \"warm and soothing\" anime shorts will follow a cat who is suddenly resurrected from the grave and begins to wander around town. Despite being a zombie, the cat is able to get all the townsfolk to fall in love with it.",
         "['Comedy']",
         "['Action']"
        ]
       ],
       "shape": {
        "columns": 3,
        "rows": 6264
       }
      },
      "text/html": [
       "<div>\n",
       "<style scoped>\n",
       "    .dataframe tbody tr th:only-of-type {\n",
       "        vertical-align: middle;\n",
       "    }\n",
       "\n",
       "    .dataframe tbody tr th {\n",
       "        vertical-align: top;\n",
       "    }\n",
       "\n",
       "    .dataframe thead th {\n",
       "        text-align: right;\n",
       "    }\n",
       "</style>\n",
       "<table border=\"1\" class=\"dataframe\">\n",
       "  <thead>\n",
       "    <tr style=\"text-align: right;\">\n",
       "      <th></th>\n",
       "      <th>Synopsis</th>\n",
       "      <th>True Genres</th>\n",
       "      <th>Predicted Genres</th>\n",
       "    </tr>\n",
       "  </thead>\n",
       "  <tbody>\n",
       "    <tr>\n",
       "      <th>0</th>\n",
       "      <td>The daily life of the Motsumoto family. The th...</td>\n",
       "      <td>[Comedy, Slice of Life]</td>\n",
       "      <td>[Action, Adventure, Sci-Fi]</td>\n",
       "    </tr>\n",
       "    <tr>\n",
       "      <th>1</th>\n",
       "      <td>The Soul Tree, the great source of our race.  ...</td>\n",
       "      <td>[Action, Adventure, Kids]</td>\n",
       "      <td>[Comedy, Romance, Supernatural]</td>\n",
       "    </tr>\n",
       "    <tr>\n",
       "      <th>2</th>\n",
       "      <td>Fairies living in a fluffy forest, where both ...</td>\n",
       "      <td>[Fantasy, Kids]</td>\n",
       "      <td>[Action, Adventure, Fantasy]</td>\n",
       "    </tr>\n",
       "    <tr>\n",
       "      <th>3</th>\n",
       "      <td>This story is about Mick, a sleeping chironomi...</td>\n",
       "      <td>[Adventure]</td>\n",
       "      <td>[Comedy]</td>\n",
       "    </tr>\n",
       "    <tr>\n",
       "      <th>4</th>\n",
       "      <td>Himeno Mimika is a daughter of historical cook...</td>\n",
       "      <td>[Kids, Slice of Life]</td>\n",
       "      <td>[Comedy, Romance]</td>\n",
       "    </tr>\n",
       "    <tr>\n",
       "      <th>...</th>\n",
       "      <td>...</td>\n",
       "      <td>...</td>\n",
       "      <td>...</td>\n",
       "    </tr>\n",
       "    <tr>\n",
       "      <th>6259</th>\n",
       "      <td>Although Yuuta Togashi and Rikka Takanashi hav...</td>\n",
       "      <td>[Comedy, Drama, Romance, School, Slice of Life]</td>\n",
       "      <td>[Action, Mecha, Sci-Fi]</td>\n",
       "    </tr>\n",
       "    <tr>\n",
       "      <th>6260</th>\n",
       "      <td>On a hot summer day, Takashi Natsume and his f...</td>\n",
       "      <td>[Drama, Shoujo, Slice of Life, Supernatural]</td>\n",
       "      <td>[Comedy]</td>\n",
       "    </tr>\n",
       "    <tr>\n",
       "      <th>6261</th>\n",
       "      <td>Due to the arrival of aliens called the \"Amant...</td>\n",
       "      <td>[Action, Comedy, Historical, Mecha, Sci-Fi, Sh...</td>\n",
       "      <td>[Action, Mecha, Sci-Fi]</td>\n",
       "    </tr>\n",
       "    <tr>\n",
       "      <th>6262</th>\n",
       "      <td>The Konohagakure Grand Sports Festival has beg...</td>\n",
       "      <td>[Action, Comedy, Fantasy, Shounen, Sports]</td>\n",
       "      <td>[Comedy]</td>\n",
       "    </tr>\n",
       "    <tr>\n",
       "      <th>6263</th>\n",
       "      <td>Having reached his emotional breaking point, R...</td>\n",
       "      <td>[Sci-Fi]</td>\n",
       "      <td>[Comedy, Romance]</td>\n",
       "    </tr>\n",
       "  </tbody>\n",
       "</table>\n",
       "<p>6264 rows × 3 columns</p>\n",
       "</div>"
      ],
      "text/plain": [
       "                                               Synopsis  \\\n",
       "0     The daily life of the Motsumoto family. The th...   \n",
       "1     The Soul Tree, the great source of our race.  ...   \n",
       "2     Fairies living in a fluffy forest, where both ...   \n",
       "3     This story is about Mick, a sleeping chironomi...   \n",
       "4     Himeno Mimika is a daughter of historical cook...   \n",
       "...                                                 ...   \n",
       "6259  Although Yuuta Togashi and Rikka Takanashi hav...   \n",
       "6260  On a hot summer day, Takashi Natsume and his f...   \n",
       "6261  Due to the arrival of aliens called the \"Amant...   \n",
       "6262  The Konohagakure Grand Sports Festival has beg...   \n",
       "6263  Having reached his emotional breaking point, R...   \n",
       "\n",
       "                                            True Genres  \\\n",
       "0                               [Comedy, Slice of Life]   \n",
       "1                             [Action, Adventure, Kids]   \n",
       "2                                       [Fantasy, Kids]   \n",
       "3                                           [Adventure]   \n",
       "4                                 [Kids, Slice of Life]   \n",
       "...                                                 ...   \n",
       "6259    [Comedy, Drama, Romance, School, Slice of Life]   \n",
       "6260       [Drama, Shoujo, Slice of Life, Supernatural]   \n",
       "6261  [Action, Comedy, Historical, Mecha, Sci-Fi, Sh...   \n",
       "6262         [Action, Comedy, Fantasy, Shounen, Sports]   \n",
       "6263                                           [Sci-Fi]   \n",
       "\n",
       "                     Predicted Genres  \n",
       "0         [Action, Adventure, Sci-Fi]  \n",
       "1     [Comedy, Romance, Supernatural]  \n",
       "2        [Action, Adventure, Fantasy]  \n",
       "3                            [Comedy]  \n",
       "4                   [Comedy, Romance]  \n",
       "...                               ...  \n",
       "6259          [Action, Mecha, Sci-Fi]  \n",
       "6260                         [Comedy]  \n",
       "6261          [Action, Mecha, Sci-Fi]  \n",
       "6262                         [Comedy]  \n",
       "6263                [Comedy, Romance]  \n",
       "\n",
       "[6264 rows x 3 columns]"
      ]
     },
     "metadata": {},
     "output_type": "display_data"
    },
    {
     "data": {
      "application/vnd.microsoft.datawrangler.viewer.v0+json": {
       "columns": [
        {
         "name": "index",
         "rawType": "int64",
         "type": "integer"
        },
        {
         "name": "Synopsis",
         "rawType": "object",
         "type": "string"
        },
        {
         "name": "True Genres",
         "rawType": "object",
         "type": "unknown"
        },
        {
         "name": "Predicted Genres",
         "rawType": "object",
         "type": "unknown"
        }
       ],
       "conversionMethod": "pd.DataFrame",
       "ref": "bb24f26c-f6d0-4fcb-9e4a-8eb86ebeeeed",
       "rows": [
        [
         "0",
         "Shuramaru is hated and feared by the villagers for his unusual powers. He thinks he is human, but... is he?",
         "['Supernatural']",
         "['Action', 'Adventure', 'Fantasy']"
        ],
        [
         "1",
         "Sometime in the future, the world was completely dried up and became all desert. They had little rivers and lakes left, which villians and dangerous animals lived. Water has become the most valueable thing on the world. Whoever can control water will rule over the world.",
         "['Action', 'Adventure']",
         "[]"
        ],
        [
         "2",
         "Set in 2014, the anime follows the adventures of 23 years old Mafuneko, a newly minted assistant director who joins the TV production department at Tokyo Hajikko Television, only to discover that the glamorous and glitzy life of working behind-the-scenes making TV shows involves strange and inexplicable tasks such as \"gathering 300 acorns\" and \"making a mosaic out of the images reflected in the camera lens.\" Despite being surrounded by chaos, set-backs, and weirdos, Mafuneko struggles to become a fully-fledged TV producer.",
         "['Comedy']",
         "[]"
        ],
        [
         "3",
         "The anime is based on MegaHouse's line of Ziguru Hazeru (literally, \"Jiggle and Pop Out\") mecha toys that allow people to remove parts from the joints and add different parts in their place. In addition, if one combines together Hazeru Gokuu, Hazeru Sagojo, and Hazeru Hakkai, the resulting mecha will be Hazeru Seioh, allowing for users to combine their toys together.  The ZIGURUHAZERU animated series is based on the upcoming original toy line of the same name from MegaHouse, featuring cool robot toys modelled after characters from the famous Journey to the West tale.",
         "['Action', 'Mecha']",
         "['Action', 'Sci-Fi']"
        ],
        [
         "4",
         "Fuwa Beibei encounters the severely injured goddess, Athena. In order to help Athena regain strength, Beibei sets out to find a mysterious wooden box left by Coubertin in 1894, but the worrying thing is that Pixiu who injured his stomach from his glutinous eating habits heard this news too. He thought that this mysterious energy could not only cure his stomach, but also improve his magic, and such begins the journey through time and space of two spirits with different aims. After all the hardships, they found the sixth son of the dragon - Bixi, and after the two's efforts in passing his test, Bixi carries them along 100 years of Olympic history.",
         "['Historical']",
         "['Action', 'Adventure', 'Fantasy']"
        ],
        [
         "5",
         "The anime will depict various vehicles as characters in the \"Mobile Land\" island. The protagonist Car-kun arrives at the island as a delivery worker. Through his deliveries, he gets to know the residents of Mobile Land, all while following traffic rules and having his deliveries stopped by the meddling Sabibi.",
         "['Comedy', 'Kids', 'Slice of Life']",
         "[]"
        ],
        [
         "6",
         "There was once a man who was summoned to another world, and saved it. Of course, he became too popular there, and turned into an isekai-normie. However, that man fell into a \"trap\" and was forcibly returned to his original world. Moreover, he had to start over as a baby!  This is the story of the way-too-fantastic ex-hero who lived as a gloomy high-schooler, as he gets summoned once again to that same other world in a very unexpected development!",
         "['Action', 'Adventure', 'Comedy', 'Fantasy', 'Romance']",
         "[]"
        ],
        [
         "7",
         "The 2018 LINE sticker set Poccolies is inspiring a series of anime shorts. The story of the sticker set is that a positive and honest boy named Patsuhiko lives on Pokkori Island, along with the shrewd and mysterious Ham, and a reliable older brother figure named Kangaroo. The sticker set follows their daily lives.",
         "['Kids', 'Slice of Life']",
         "['Comedy']"
        ],
        [
         "8",
         "This show consists of shorts starring 7 characters created and voiced by the voice actors of the variety show \"Seiyuu Danshi desu ga...?\". The anime will be a slapstick comedy that follows seven spirits that come to the modern world.",
         "['Comedy', 'Supernatural']",
         "['Comedy']"
        ],
        [
         "9",
         "Hello Jadoo is a South-Korean TV show about a girl named Choi Jadoo who is a very free-spirited girl. In every episode, she would always get into drama, whether it was with her parents or school. At the same time, she meets new people and she tries to solve problems occurring.",
         "['Slice of Life']",
         "['Comedy', 'Romance']"
        ],
        [
         "10",
         "Tsukumogami—spirits or \"marebito\" can possess objects of considerable age and gain a physical form. Although he is part of the Saenome clan that is in charge of peacefully sending them back to their own world, Hyouma Kunato despises them because one took away what was very precious to him. In order to cure him of this loathing, Hyouma's grandfather sends him to live with Botan Nagatsuki, a girl who is the master of six \"friendly\" tsukumogami and lives with them as a family.",
         "['Action', 'Seinen', 'Supernatural']",
         "[]"
        ],
        [
         "11",
         "6.5-centimeter tall Degirdians fall to Earth in their spacecraft while chasing fugitives. Their spaceship transforms into a capsule toy stand near a toy store and a human boy accidentally takes home one of the aliens thinking it's a capsule toy. They befriend a human boy and try to figure out a way to get home all while fighting off the evil alien.",
         "['Kids', 'Sci-Fi']",
         "['Sci-Fi']"
        ],
        [
         "12",
         "Stop-motion animation using clay and puppets follows a musician and hit cat traveling the world and learning about music in different cultures while spreading their own songs.",
         "['Kids', 'Music']",
         "['Comedy', 'Kids']"
        ],
        [
         "13",
         "A Chinese prince meets a regular civilian during his travels and quickly falls in love. They marry and have a daughter, but the prince is soon separated from them during a rebellion. Many years later, the prince has become emperor and locates his lost daughter. She comes to live with him, but unfortunately has picked up several unrefined habits during her times as a civilian.",
         "['Comedy', 'Historical', 'Kids']",
         "[]"
        ],
        [
         "14",
         "The 3rd animated season. It follows an entirely new story and new characters unrelated to the previous seasons. The previous seasons metaphorical usage of magic/spirit/chi to visualize yoyo battles has now become literal. The yoyo toys have spirit animals within them and the cast tries to return them to their world before the villains use them for evil purposes.  Leon has an argument with his classmate Gurido for trifle. At the advice of Catherine, Leon and Gurido decide to judge the victory or defeat through yoyo competition. The Daemon Tiger appears when Leon and Gurido begin to fight in the woods. Leon follows Daemon Tiger and work with it. With Daemon Tiger’s help, Leon defeats Gurido.",
         "['Fantasy', 'Kids']",
         "['Comedy']"
        ],
        [
         "15",
         "is an animation series with some educational undertones targeting 5~7-year-old kids. The entire series is set against the backdrop of a supermarket. Viewing the animations, children will be able to imagine themselves in amidst all a supermarket has to offer. Children can join Kemy and his quest to figure out the answers to everyday questions. Buka and Chaka do not reprise their roles in this season.",
         "['Kids']",
         "['Comedy']"
        ],
        [
         "16",
         "The story centers around a cat who answers people's wishes and delivers happiness. (\"Tane\" and \"neko\" are the Japanese words for \"seed\" and \"cat,\" respectively.)",
         "['Comedy']",
         "['Comedy']"
        ],
        [
         "17",
         "is a spin-off-series of Mecard, based on the idea that dinosaurs didn't become extinct 65 million years ago, but transformed into mecanimals. Its characters don't have any relations to the cast from , and .",
         "['Adventure', 'Kids', 'Mecha']",
         "[]"
        ],
        [
         "18",
         "How did Asia's most prominent entrepreneurs know when to grasp opportunities? And how did they overcome difficulties and attain their positions of power? This series uses the unconventional technique of blending actual documentary footage with CG animation to get a close-up look into the front lines and what lies behind the scenes of Asian business.  Our cartoon host is Shima Kosaku, a character from a popular Japanese business manga. He delves into the heart of the Asian economic market representing 4 billion people, to visit entrepreneurs who have survived turbulent times. Thai business magnate, Dhanin Chearavanont (Chairman of CP Group), and innovative Taiwanese semiconductor entrepreneur, Morris Chang (Chairman of TSMC), are among the many movers and shakers to be featured. Don't miss this opportunity to glimpse the dramatic lives of these media-shy business titans.",
         "['Drama', 'Seinen']",
         "[]"
        ],
        [
         "19",
         "The story centers on Matthew, a daydreaming worrywart of a rabbit. Matthew also has two friends: Keron, a pessimistic frog who is fond of good-luck charms; and Ham, a hamster of few words and who moves through life at his own pace. The story follows the three animals' everyday lives within a mysterious forest.",
         "['Slice of Life']",
         "['Comedy', 'Kids']"
        ],
        [
         "20",
         "This was an anthology program containing several different anime each week along with some non-animated segments. Several of the animated films were short series including: Nazo no Rouba [謎の老婆] (tvss), Meibugyou Bun-san [名奉行・文さん], Jo Keibu Jinguuji Youko [女警部・神宮寺葉子], Remon Suzumori's Soudanjo [鈴森なんでも相談所].",
         "['Comedy', 'Drama', 'Seinen', 'Slice of Life']",
         "[]"
        ],
        [
         "21",
         "Rat, a member of the Zodiac, meets a normal cat at a park one day. Rat comes to love Cat so much that it becomes very eager to get Cat to become a member of the Zodiac. Cat goes with Rat to meet the rest of the 12 members of the Zodiac to ask them to become a member.",
         "['Comedy']",
         "['Comedy', 'Fantasy']"
        ],
        [
         "22",
         "G.G. Bond finally won the appreciation of Princess Crystal and moved to Crystal City. But conspiracy traps lurk in the darkness out to frame G.G. Bond an ruin his good name.",
         "['Kids', 'Sci-Fi', 'Super Power']",
         "['Comedy']"
        ],
        [
         "23",
         "Cute yet mighty! Mini animal rangers transform into super power Force-Bot to save endangered friends! In the ruthless world of animals, big strong animals dominate and feed on the small and weak. To buck this natural system, small animals form a secret organization \"MINIFORCE.\" Rigidly selected mutants with special powers: Volt, Sammy, Lucy and Max become top secret rangers to save their small village Bluebell from the hand of human villain Nein and his underling lizard Pascal. Animals in danger? No problem! When Force-Gem alerts, it's time to get suit on! With Mini Force and their transforming mechanics, it’s time to sweep!",
         "['Action', 'Adventure']",
         "['Comedy', 'Kids']"
        ],
        [
         "24",
         "As the most powerful entity of all time, the Demon Lord Varvatos thinks life is a big fat snore. When he takes matters into his own hands and decides to reincarnate, he calibrates his magical strength to be perfectly average. But there is no way he could have predicted that everyone in the modern world would be weak as hell, which means he is totally overpowered once again! Reborn under the name Ard, he has ladies fawning over him, the royal family begging him to become the next king, and an ex-minion insisting on killing him?! But Ard has a one-track mind, and he won't stop at anything to achieve his ultimate goal!",
         "['Action', 'Fantasy', 'School']",
         "['Action', 'Adventure', 'Fantasy']"
        ],
        [
         "25",
         "A dangerous shadow organization launches a campaign of fear and violence in the city of Shinjuku, pushing society to the brink of chaos. As a young police officer tasked with restoring order, Ichika Hoshino becomes the target of an attack, and has a poisonous collar attached to her neck. With the situation spiraling out of control and time running out, five mysterious strangers appear to aid her in her quest for the truth. Who can she trust? Will she be able to save herself and the soul of Shinjuku from the clutches of oblivion?",
         "['Mystery', 'Romance']",
         "['Action', 'Sci-Fi']"
        ],
        [
         "26",
         "Kotatsu Neko is based on a \"live-action science-fiction/fantasy romance\" film of the same name which was released in Japan in 2006. The story is set in a certain neighborhood of Tokyo where two cats live under a kotatsu. Shito is a girlish white cat, while Zero is a cool black cat. The cat's owner, Rei \"Junior\" Fujisaki, is a third-year middle-school hikikomori obsessed with games. He likes a girl in his class, but naturally, he cannot work up the nerve to tell her. Shito herself harbors a secret one-sided love also.",
         "['Comedy']",
         "['Comedy']"
        ],
        [
         "27",
         "Nalong, Ukkya, and Longman have teamed up to defend the Earth from alien invaders who are here to pollute the environment! Lulu forest is no longer the main threatened area as the trio travels the world and helps out other animals in need.",
         "['Adventure', 'Kids']",
         "['Action', 'Sci-Fi']"
        ],
        [
         "28",
         "Eiyuu Densetsu: Sen no Kiseki centers around Rean Schwarzer, a professor at Thors Military Academy in the Erebonian Empire. The anime's story will focus on the western part of the Zemurian continent featured in the games.",
         "['Action']",
         "[]"
        ],
        [
         "29",
         "Japan's TV Asahi network will premiere a television anime adaptation of Tetsu Adachi's Baka-Kyoudai (Idiotic Siblings) manga under the title Gokyoudai Monogatari (Sibling Stories) on October 10. The original manga has been running on an irregular schedule in Kodansha's Young Magazine since 1999. The story centers on a sister and her twin brother who live carefree lives in Tokyo's lower-class neighborhoods and have heartwarming encounters with the local people. It received an award of excellence at the 7th Cultural Media Arts Festival in 2003.  Yuki Matsuoka will voice the sister Onei Jinushi, and Yumiko Kobayashi will play her twin brother Junichirō Jinushi. Sayaka Ohara will play the local restaurant waitress Shizuka.",
         "['Comedy']",
         "['Comedy', 'Slice of Life']"
        ],
        [
         "30",
         "Wada transfers from the Kansai region to the Toukai region in middle school. The story follows his new set of friends as their fivesome enjoy their everyday lives. All the characters' are names are based on Chunichi Dragons baseball team which is located in the Toukai region.",
         "['Comedy', 'School']",
         "['Comedy', 'Slice of Life']"
        ],
        [
         "31",
         "The show centers around three hobos that live in a broken car on top of a junkyard: Punch, Touch, and Boom. Punch is a bear who is literally strong-headed: his head is as hard as a rock, and nothing can knock him down. Boom the weasel is an expert shot, using not a gun, but a slingshot. Touch the mouse takes advantage of her smallness in order to get into small holes and sneaking into things without the villains knowing.  Gari-Gari is a mad scientist wolf who wants to build a mansion over the junkyard, constantly thinking up evil plans to get the money needed to buy the property, whether it’s creating a machine that creates counterfeit 10 yen (about 10 cents in US money) or stealing priceless paintings and selling it to a high bidder. He is an inventor, creating things that can aid him into doing his deed. If Gari-Gari buys the junkyard, this of course means that the three heroes will have no place to stay, so they constantly thwart his schemes. Gari-Gari has two henchmen working for him: Black and Nyu. Black is a gangster cat who welds a gun, often shooting at Punch and the gang with it. Nyu is a simple-minded pig who has big strength.",
         "['Comedy', 'Fantasy', 'Kids']",
         "['Comedy']"
        ],
        [
         "32",
         "It is the time of civil war. Zipangu is a country where people live together with gimmick warriors, a kind of super human robot. There, people and gimmick warriors struggle to seize power. Musashi, a Samurai gimmick warrior, departs to on a quest to become the best Samurai warrior. Musashi thrives in the series of battles, encountering with many heroes and villains including his lifelong rival, Kojiro, an expert swordsman.Later, Mushashi and Kojiro are sent by their General to escort the Princess, a granddaughter of the general. The princess is spoiled and difficult, so their journey becomes series of misadventures. Soon, they are caught up in a battle to seize control of the Country.",
         "['Action', 'Adventure', 'Mecha']",
         "['Action', 'Adventure', 'Fantasy']"
        ],
        [
         "33",
         "Batsugoro was the owner of a grocery store, Yaobatsu. When he tried to take a balloon hanged caught on the branch for a little child, he fell on to the ground to die. His son, Ataro, succeeded to the store, but Batsugoro was worried about him, and he remained there being a ghost. Ataro managed the shop alone, but soon his follower, Dekoppachi, began to help him. Being surrounded by strange characters such as, Nyarome, Butamatsu, the heart-warming story develops.",
         "['Comedy', 'Kids', 'Slice of Life']",
         "['Comedy']"
        ],
        [
         "34",
         "Tonko House has partnered with Japanese stop-motion house \"dwarf\" and CG studio Megalis on the new project. Tsutsumi is the directing showrunner of a stop-motion/CGI animated TV series called “Oni,” about a human girl being raised by a mythical Japanese god.  Tonko House plans to show test footage of at its first-ever Tonko House Film Festival this spring in Tokyo.",
         "['Kids']",
         "['Comedy']"
        ],
        [
         "35",
         "The story tells the tale of Semi, a bright girl who goes in a magical time journey with the genius teacher Wai, in order to prevent the evil X from utilizing the powers of the magic cube for evil. Along the way, Semi and her math school friends run into history and math problems that they must solve with logic and wit.",
         "['Action', 'Comedy', 'Fantasy']",
         "['Comedy', 'Fantasy']"
        ],
        [
         "36",
         "The Lost Ones are wanderers who come here from a distant world known as \"Japan.\" No one knows how or why they leave their homes. The only thing that is certain is that they bring disaster and calamity. The duty of exterminating them without remorse falls to Menou, a young Executioner. When she meets Akari, it seems like just another job...until she discovers it's impossible to kill this girl! And when Menou begins to search for a way to defeat this immortality, Akari is more than happy to tag along! So begins a journey that will change Menou forever...",
         "['Action', 'Adventure', 'Fantasy']",
         "['Action', 'Fantasy']"
        ],
        [
         "37",
         "Norakuro is a black dog enlisted in the \"Mokenrentai\" (Fierce Dog Brigade), an Imperial army of dogs fighting in a war against the enemy Monkey Army.  Norakuro is a stray black-and-white dog in an army of white dogs who blundered his way while being a Private Second-Class.  This serieswas relatively faithful to the comics. One big change, however, was the addition of the army nurse Miko, whom Norakuro had a crush on. For this series, Norakuro was voiced by Nobuyo Ooyama, who would later become noted for voicing Doraemon.",
         "['Comedy']",
         "['Adventure', 'Comedy', 'Fantasy', 'Kids']"
        ],
        [
         "38",
         "Hamazaki Densuke (Hama-chan) is an unavaricious white-collar worker who does not have any interest in success and self-protection. Even though he incurs the wrath of his superior and stir ill feelings from his wife, Hama-chan prefers to take things at his own stride and goes fishing. He feels that there are more important things in life than work and enjoys the simple things in life such as fishing.",
         "['Comedy', 'Slice of Life']",
         "['Comedy', 'Slice of Life']"
        ],
        [
         "39",
         "Deeky is a wolf whose wild appearance belies his pure-hearted and slightly gossipy moe nature. Carina is a squirrel whose soft and cuddly appearance hides the black and beating heart of a hard rock monster. Together they form a band to compete in a rock music competition.",
         "['Comedy', 'Music']",
         "['Comedy']"
        ],
        [
         "40",
         "Japan has 47 prefectures and each one has a guardian spirit called a Dochamon. follows guardian spirits in training to one day take over the jobs of their elders. But these juniors have a lot of growing up to do before they graduate!",
         "['Comedy', 'Kids']",
         "['Comedy']"
        ],
        [
         "41",
         "Unicorn no Kyupi is a helpful sprite that lives in the kitchen and polishes dirty pots and pans clean with its fluffy white body. Harigorou, a rival sprite shaped like a hedgehog, tries to interfere.",
         "['Fantasy', 'Kids']",
         "['Comedy', 'Kids']"
        ],
        [
         "42",
         "16-year-old super-studier Nagi Umino, second-year student at the Meguro River Academy high school, was switched at birth. On his way to a dinner to meet his birth parents, he accidentally meets the brash, outspoken, Erika Amano, who is determined to make Nagi her fake boyfriend as she never wants to actually marry. But once Nagi makes it to dinner, he finds his parents have decided to resolve the hospital switch by conveniently having him marry the daughter his birth parents raised...who turns out to be none other than Erika herself!",
         "['Comedy', 'Romance', 'Shounen']",
         "['Comedy', 'Romance', 'School', 'Slice of Life']"
        ],
        [
         "43",
         "The anime centers on Katsuko Yoshida, the cousin of Eagle Talon's Yoshida-kun, and an employee in Kemonomichi Electronics' \"special general affairs\" section. She educates her poorly informed colleagues about their misunderstandings of Sustainable Development Goals, the United Nations-backed goals for member nations to attain a sustainable future.",
         "['Comedy']",
         "['Comedy', 'Slice of Life']"
        ],
        [
         "44",
         "The story centers around a mysterious tall tower built from an (unsteady) stack of building blocks. Every morning, noon, and evening, an old timekeeping man rings the bell in the tower to confirm the time for the local townspeople. However, one day at noon, the tower bell fails to ring — leaving the townspeople confused about when to eat lunch. The fantasy adventure begins when Karl, an inquisitive boy living in the town, decides to go to the tower's plaza to see what is the matter.",
         "['Adventure', 'Fantasy', 'Kids', 'Mystery']",
         "['Adventure', 'Fantasy']"
        ],
        [
         "45",
         "The story is set in the near future.  'Hyper Sports' became a hobby competitions that is popular with children and adults alike. Hiyori Hayama is an high school singer who has nothing to do with Hyper Sports. However, the story begins to be set in motion after a certain incident and encounter.  \"This is the story about how we met our best friends.\"",
         "['Music', 'Sports']",
         "['Comedy', 'School']"
        ],
        [
         "46",
         "Shikimori seems like the perfect girlfriend: cute, fun to be around, sweet when she wants to be... but she has a cool dark side that comes out under the right circumstances. And her boyfriend Izumi loves to be around when that happens!",
         "['Comedy', 'Romance', 'Slice of Life']",
         "['Comedy', 'Slice of Life']"
        ],
        [
         "47",
         "GG Bond is separated from his friends and lands in an unfamiliar part of the universe. He will have to rejoin his teammates and take part in speed races to find his way home. This season has 4 arcs, each arc is composed of 26 episodes.",
         "['Kids', 'Sci-Fi', 'Super Power']",
         "['Action', 'Adventure', 'Sci-Fi']"
        ],
        [
         "48",
         "This series of anime shorts, roughly five minutes in length, will focus on protagonist Shoutarou Kaneda's everyday life instead of focusing on battle scenes as previous Tetsujin 28 titles have done. The visuals of the title robot, its nemesis Black Ox, and other elements will have a pop-art style.",
         "['Mecha', 'Slice of Life']",
         "[]"
        ],
        [
         "49",
         "As a punishment for causing havoc in Heaven, Sonogong is locked in a huge iron mass for 500 years until Samjang Bupsa, an old priest embarking on a mission to rid the world of evil and spread peace throughout the land, rescues him. Sonogong becomes Samjang's disciple. He meets Saojung who enviously eyes Sonogong's amazing Superboard, and a brute swine oil seller Jopalgye. After several twists and turns, they join on Samjang's journey. Wherever they go, they meet overwhelming enemies and get into trouble. But they don't get frustrated and find ingenious way to defeat monsters.",
         "['Action', 'Adventure', 'Comedy']",
         "['Action', 'Adventure', 'Fantasy']"
        ]
       ],
       "shape": {
        "columns": 3,
        "rows": 736
       }
      },
      "text/html": [
       "<div>\n",
       "<style scoped>\n",
       "    .dataframe tbody tr th:only-of-type {\n",
       "        vertical-align: middle;\n",
       "    }\n",
       "\n",
       "    .dataframe tbody tr th {\n",
       "        vertical-align: top;\n",
       "    }\n",
       "\n",
       "    .dataframe thead th {\n",
       "        text-align: right;\n",
       "    }\n",
       "</style>\n",
       "<table border=\"1\" class=\"dataframe\">\n",
       "  <thead>\n",
       "    <tr style=\"text-align: right;\">\n",
       "      <th></th>\n",
       "      <th>Synopsis</th>\n",
       "      <th>True Genres</th>\n",
       "      <th>Predicted Genres</th>\n",
       "    </tr>\n",
       "  </thead>\n",
       "  <tbody>\n",
       "    <tr>\n",
       "      <th>0</th>\n",
       "      <td>Shuramaru is hated and feared by the villagers...</td>\n",
       "      <td>[Supernatural]</td>\n",
       "      <td>[Action, Adventure, Fantasy]</td>\n",
       "    </tr>\n",
       "    <tr>\n",
       "      <th>1</th>\n",
       "      <td>Sometime in the future, the world was complete...</td>\n",
       "      <td>[Action, Adventure]</td>\n",
       "      <td>[]</td>\n",
       "    </tr>\n",
       "    <tr>\n",
       "      <th>2</th>\n",
       "      <td>Set in 2014, the anime follows the adventures ...</td>\n",
       "      <td>[Comedy]</td>\n",
       "      <td>[]</td>\n",
       "    </tr>\n",
       "    <tr>\n",
       "      <th>3</th>\n",
       "      <td>The anime is based on MegaHouse's line of Zigu...</td>\n",
       "      <td>[Action, Mecha]</td>\n",
       "      <td>[Action, Sci-Fi]</td>\n",
       "    </tr>\n",
       "    <tr>\n",
       "      <th>4</th>\n",
       "      <td>Fuwa Beibei encounters the severely injured go...</td>\n",
       "      <td>[Historical]</td>\n",
       "      <td>[Action, Adventure, Fantasy]</td>\n",
       "    </tr>\n",
       "    <tr>\n",
       "      <th>...</th>\n",
       "      <td>...</td>\n",
       "      <td>...</td>\n",
       "      <td>...</td>\n",
       "    </tr>\n",
       "    <tr>\n",
       "      <th>731</th>\n",
       "      <td>Based on the children's book by Sunada Hiroshi...</td>\n",
       "      <td>[Kids, Sports]</td>\n",
       "      <td>[Comedy, School, Slice of Life]</td>\n",
       "    </tr>\n",
       "    <tr>\n",
       "      <th>732</th>\n",
       "      <td>A special of the franchise included only on th...</td>\n",
       "      <td>[Comedy, Mecha]</td>\n",
       "      <td>[Comedy]</td>\n",
       "    </tr>\n",
       "    <tr>\n",
       "      <th>733</th>\n",
       "      <td>Animation studio Production I.G announced on M...</td>\n",
       "      <td>[Sci-Fi, Seinen]</td>\n",
       "      <td>[Comedy]</td>\n",
       "    </tr>\n",
       "    <tr>\n",
       "      <th>734</th>\n",
       "      <td>Do zombies like curry? Do they even need to ea...</td>\n",
       "      <td>[Music, Supernatural]</td>\n",
       "      <td>[Comedy, Slice of Life]</td>\n",
       "    </tr>\n",
       "    <tr>\n",
       "      <th>735</th>\n",
       "      <td>The story revolves around a new team of \"Toei ...</td>\n",
       "      <td>[Comedy, Mecha]</td>\n",
       "      <td>[Action, Comedy, Sci-Fi]</td>\n",
       "    </tr>\n",
       "  </tbody>\n",
       "</table>\n",
       "<p>736 rows × 3 columns</p>\n",
       "</div>"
      ],
      "text/plain": [
       "                                              Synopsis            True Genres  \\\n",
       "0    Shuramaru is hated and feared by the villagers...         [Supernatural]   \n",
       "1    Sometime in the future, the world was complete...    [Action, Adventure]   \n",
       "2    Set in 2014, the anime follows the adventures ...               [Comedy]   \n",
       "3    The anime is based on MegaHouse's line of Zigu...        [Action, Mecha]   \n",
       "4    Fuwa Beibei encounters the severely injured go...           [Historical]   \n",
       "..                                                 ...                    ...   \n",
       "731  Based on the children's book by Sunada Hiroshi...         [Kids, Sports]   \n",
       "732  A special of the franchise included only on th...        [Comedy, Mecha]   \n",
       "733  Animation studio Production I.G announced on M...       [Sci-Fi, Seinen]   \n",
       "734  Do zombies like curry? Do they even need to ea...  [Music, Supernatural]   \n",
       "735  The story revolves around a new team of \"Toei ...        [Comedy, Mecha]   \n",
       "\n",
       "                    Predicted Genres  \n",
       "0       [Action, Adventure, Fantasy]  \n",
       "1                                 []  \n",
       "2                                 []  \n",
       "3                   [Action, Sci-Fi]  \n",
       "4       [Action, Adventure, Fantasy]  \n",
       "..                               ...  \n",
       "731  [Comedy, School, Slice of Life]  \n",
       "732                         [Comedy]  \n",
       "733                         [Comedy]  \n",
       "734          [Comedy, Slice of Life]  \n",
       "735         [Action, Comedy, Sci-Fi]  \n",
       "\n",
       "[736 rows x 3 columns]"
      ]
     },
     "metadata": {},
     "output_type": "display_data"
    },
    {
     "data": {
      "application/vnd.microsoft.datawrangler.viewer.v0+json": {
       "columns": [
        {
         "name": "index",
         "rawType": "int64",
         "type": "integer"
        },
        {
         "name": "Synopsis",
         "rawType": "object",
         "type": "string"
        },
        {
         "name": "True Genres",
         "rawType": "object",
         "type": "unknown"
        },
        {
         "name": "Predicted Genres",
         "rawType": "object",
         "type": "unknown"
        }
       ],
       "conversionMethod": "pd.DataFrame",
       "ref": "5decc043-f805-4447-87bb-e5e0a323df51",
       "rows": [
        [
         "0",
         "follows the adventures of an adorable jet plane named Jett who travels around the world delivering packages to children. On every delivery, Jett encounters new problems that he must solve with the help of his friends the \"Super Wings\": Dizzy, Jerome and Donnie. Together, the team explores different countries and learns the diversity of new cultures.",
         "['Adventure', 'Kids']",
         "['Comedy']"
        ],
        [
         "1",
         "This Korean and Chinese co-production series focuses on Tao, a young boy with magical powers, as he attends school to become a wizard. Each episode was composed of two stories.",
         "['Kids']",
         "['Action', 'Adventure', 'Fantasy']"
        ],
        [
         "2",
         "Struggling with life and society, high school student Michio Kaga wanders about the Internet and lands on an odd website. The website, featuring a number of questions and a point based system, allows one to create skills and abilities for a character. Upon completing his character, Kaga was transported to a game-like fantasy world and reborn as a strong man who can claim idol-level girls. Thus begins the cheat and harem legend of a reborn man!",
         "['Action', 'Adventure', 'Fantasy', 'Romance']",
         "['Comedy']"
        ],
        [
         "3",
         "Technoroid: Overmind is set in the Entertainment Tower Babel, a new hope found by those who have lost the joy of light as humanity's activities are restricted due to the large-scale climate change caused by the expanded sun. The anime depicts unique units and characters fighting for the top of Babel, pursuing emotions that move people and androids through performances.",
         "['Music']",
         "[]"
        ],
        [
         "4",
         "The 3rd continuation of NTV's ZIP! anime parody shorts. This one focuses on . Like with the previous season, occasionally the Gatchaman team and now the Mazinger Z team show up in some episodes.",
         "['Comedy']",
         "['Action', 'Comedy']"
        ],
        [
         "5",
         "Say hi to Tayo's new friend - Titipo! Train Center's new born little train Titipo has just passed the driving examination and is prepared to work at the Train Village. Although Titipo dreams of becoming the best train in the world, his curious yet random personality catches him in unforeseen events and troubles everyday. Titipo expands his experience in the greater world and befriends Genie, Diesel, and other little trains. Will Titipo achieve his dream of becoming the best train? Come join the railroad journey and meet Titipo and the little train friends.",
         "['Kids']",
         "[]"
        ],
        [
         "6",
         "At Ruby's house, a small event related to the main plot of each episode occurs, before a red jewellery on the chest of Choco, Ruby's Teddy bear, flashes with a melody. Ruby then takes Choco to her room, and the two 'transport' themselves to the Rainbow Village. There, Ruby hears an explanation from Ling Ling, the mayor of Rainbow Village, and transforms herself using her Rainbow Roller into an appropriate clothing to solve problems. Each episode concludes, back home, with another small event.",
         "['Fantasy', 'Kids']",
         "['Comedy']"
        ],
        [
         "7",
         "When Nian Chi was a young child, his elder sister was kidnapped in front of him, while he could do nothing but watch, a thing that has tormented him for all these years. Now 10 years later, he's dead set on going to rescue his sister, and sets out.",
         "['Action', 'Adventure', 'Drama', 'Fantasy', 'Historical', 'Supernatural']",
         "['Comedy']"
        ],
        [
         "8",
         "A more educational season of GG Bond. This season is composed of 2 arcs, each arc has 52 episodes.  GG Bond works on cleaning up some fossils at the lab as they'll be used in a museum exhibit. He uses a fossil to create a data coin that is compatible with his special jet. This allows for him to travel back in time to the original animal (a T-Rex) the fossil was made of. While GG Bond is ecstatic to learn about dinosaurs in-person (as well as mine more accurate data for the data coin), he didn't quite realize the danger he'd be in. He successfully gets out of this sticky situation but there's still a lot more dinosaurs he needs to get information on.",
         "['Historical', 'Kids', 'Sci-Fi', 'Super Power']",
         "['Sci-Fi']"
        ],
        [
         "9",
         "While it may seem like a mere depiction of everyday life, The Sound of Your Heart is a comedy filled to the brim with wit, sarcasm, and parody. It gives no regard for the probable or realistic- it is a series of absurd situations that is sure to get a laugh out of every reader willing to suspend their sense of reality.",
         "['Comedy', 'Slice of Life']",
         "['Comedy', 'Slice of Life']"
        ],
        [
         "10",
         "TV anime based on San-X's new series of mascot characters \"Chickip Dancers.\" The main characters in the anime will be the apprehensive but curious bone-in chicken Hone Chicken, and the dancing instructor frog Skip Gaeru, who travels by dancing.",
         "['Slice of Life']",
         "['Comedy']"
        ],
        [
         "11",
         "In the world of magic, there exist deadly irreversible techniques commonly known as spellblades. These sparse and elusive spells, along with their casters, are shrouded in mystery and only their absolute lethality is known to the masses.  Every year, the spring blossom signifies a new intake of students to the prestigious magic school Kimberly. With reactions of awe and bewilderment, a ceremonious parade complete with magical beasts welcomes the newcomers to the institution. Among them is the mysterious Oliver Horn, whose indifference changes to fascination as he notices a peculiar figure—a girl wearing strange attire equipped with a Japanese sword.  From the entrance ceremony onward, Oliver realizes that not all is as it seems at Kimberly, as the emergence of labyrinths, monsters, and other threats endanger the new student body. Nanatsu no Maken ga Shihai suru explores the intertwined fates of two warriors as they uncover the dark truths that lurk within the walls of the academy.",
         "['Action', 'Fantasy', 'School']",
         "['Action']"
        ],
        [
         "12",
         "It follows the fan favorite character Vandyne as his hidden secrets are revealed. Unlike the reboot, which exclusively uses 3DCG visuals, this series is like the earlier entries and is animated with 2D and 3D visuals.  The mini-series is part of a new promotional campaign from Sono Kong. The Korean toy manufacturer will launch four new mechanimals this month at retail.",
         "['Adventure', 'Kids', 'Mecha']",
         "['Action', 'Sci-Fi']"
        ],
        [
         "13",
         "After his parents died, Shinpei Ajiro lived with the Kofune sisters, Mio and Ushio, but he has since moved to live on his own in Tokyo. But after Ushio drowns while trying to save the young Shiori Kobayakawa, he returns home to mourn her departure. However, bruises around Ushio's neck bring her cause of death into question.  Taking a step back, Shinpei becomes convinced there must be another explanation. Dangerous entities roam among the islanders, and a vision of deceased Ushio asks him to \"save Mio\" as her final request. He is certain that something is afoot—and Ushio's death is only a piece of the puzzle.  With the help of Mio and various others, Shinpei struggles to forge a future in which he, his friends, and family can stay alive. But the more he investigates, the more impossible such a future seems. This darkness infiltrates his home island. Just how much more suffering will he go through before finding the right path to save it all?",
         "['Mystery', 'Shounen', 'Supernatural']",
         "['Action', 'Drama']"
        ],
        [
         "14",
         "The anime is based on Kazuo Hara's comedy manga in which mascot characters live and work among humans. Agencies have been set up to train mascots to babysit children and then to place the mascots within families. Noramimi is one such mascot at the Hello Kids branch office #59. Unfortunately, no family wants to adopt a mascot born from a demon (oni) family, so he is stuck living at the agency.  Source: ANN, Moon Phase",
         "['Comedy']",
         "['Comedy']"
        ],
        [
         "15",
         "Third season of .  Having had a taste of carnival life in town, the Bear Brothers return to the forest to start anew. But aside from the joy of meeting old friends, the bears must again cope with the dull-but-driven Logger Vick! That shiny-pated villain is determined to crush their renewed efforts to protect the forest they love. If he can dispatch the Bear Brothers, Vick will realize his evil dream of riches through total destruction of the forest. Fortunately the Brothers and their friends have a forest full of surprises in store for him! Boonie Bears: Forest Frenzy features Briar and Bramble Bear doing what they do best: creating non-stop laughs for kids around the world!",
         "['Comedy', 'Kids']",
         "['Comedy']"
        ],
        [
         "16",
         "The series follows a mysterious but gentle-hearted man named Yasashi Yasamura who spreads warmth and human kindness wherever he goes.",
         "['Comedy']",
         "['Comedy']"
        ],
        [
         "17",
         "For as long as she could read, Eliana Bernstein—more commonly known as the \"Bibliophile Princess\"—has preferred the company of books to that of people. However, as a noble, it is her duty to find a suitor. Fortunately for her, Crown Prince Christopher Selkirk Asherald proposes a deal: He will protect her free time, and, in exchange, Eliana will be his fiancée in name only.  The years they spend together are bliss, as Eliana learns to open herself to others. But all good things must come to an end. For Eliana, who loves books more than people, ending their fake relationship should be no big deal. But as Christopher grows close with another girl, Eliana begins to realize that she isn't as indifferent to him as she once thought.",
         "['Drama', 'Historical', 'Romance']",
         "['Comedy', 'Drama', 'Romance']"
        ],
        [
         "18",
         "Shoot for the stars! I'm going to be the country's number one alchemist!  When young girl Sarasa graduated from the Royal Alchemist Academy, her teacher gifted her a house for her to set up shop. Aiming to become a masterclass alchemist, she gathers materials herself, experiments and operates a business. In her very own atelier, Sarasa indulges in a slow and relaxed alchemist life!",
         "['Adventure', 'Fantasy', 'Slice of Life']",
         "['Comedy']"
        ],
        [
         "19",
         "Based on Otomate's puzzle role-playing game.  A medical student named Shiina and nine male partners are trapped in a certain dimensional realm with many ancient texts and an enormous mysterious clock. Together, they must find a way to escape by uncovering clues before the clock strikes \"13.\"",
         "['Mystery', 'Romance', 'Supernatural']",
         "['Action', 'Adventure', 'Comedy', 'Fantasy']"
        ],
        [
         "20",
         "An anime/documentary series about athletes present by NHK.  The first episode adapts material from Tomoyoshi Itou and Shingo Morita's Weekly Young Jump biographical manga (Geniuses Without Glory)—specifically the story about Hironoshin Furuhashi, the swimmer also known as \"the flying fish of Fujiyama.\" The episode also includes interviews with Olympic swimmer Kousuke Kitajima and other Japanese swimmers about the how Furuhashi changed the Japanese competitive swimming world, as well as what sort of training is required to be an Olympic swimmer.",
         "['Sports']",
         "['Comedy']"
        ],
        [
         "21",
         "Dame Oyaji is the story of Damesuke Amano, a hapless office worker who faces a tremendous amount of bullying on the job and especially at home, where he has (contrary to traditional Japanese notions of family) absolutely no power or say in the runnings of the household whatsoever.  Amano lives with his wife, Onibaba, his beautiful teenaged daughter Yukiko, and his grade-schooler son Takobo. Onibaba is an imposing, violent heifer of a woman who regularly berates and even physically assaults her husband and who enjoys nothing more than making his life miserable; Yukiko and Takobo frequently join in physically and psychologically abusing their father.  The original manga is said to have been quite shocking to early 1970s Japan, in which the father was often still traditionally regarded as the head of the household.",
         "['Comedy', 'Slice of Life']",
         "['Comedy', 'Romance', 'Slice of Life']"
        ],
        [
         "22",
         "The story follows as Tochi and Milo travel the world in search of new Kimchi Pong to save their homes and uncover the secrets behind these creatures.",
         "['Adventure', 'Fantasy', 'Kids']",
         "['Adventure', 'Fantasy']"
        ],
        [
         "23",
         "On planet Kirakira live two tribes: Senobi and Robot. Senobi, quiet and peacefully set, settle down in the forest. Robot comes from the desert and starts war to take control of afforested grounds. A young hero coming from Senobi tries to appease the whole situation.",
         "['Action', 'Adventure', 'Sci-Fi']",
         "['Sci-Fi']"
        ],
        [
         "24",
         "A prospective witch, a kindergartener who acts like a middle aged, an innocent and incompetent pretty devil, and a genius dog which understands man's words presents a slapstick comedy.",
         "['Comedy', 'Kids']",
         "['Comedy']"
        ],
        [
         "25",
         "Kewpie, the babylike doll that the late American artist Rose O'Neill created for Ladies' Home Journal magazine in 1909, will celebrate its 100th anniversary this December with its first animated project.",
         "['Comedy']",
         "[]"
        ],
        [
         "26",
         "Grandpa Danger is a world where the great protector is Grandpa Danger! He's an expert at falling off of cliffs, dealing with a principal who suffers from a severe inferiority complex, and escaping the hidden dangers of sleep! He's a nonsensical, utterly disgusting, relentless prankster. Grandpa Danger's excessive phlegm and farts frustrate Grandson to hilarious extremes, and make you laugh until your stomach splits!",
         "['Comedy', 'Kids']",
         "['Comedy']"
        ],
        [
         "27",
         "A gag comedy aimed at young children featuring Zombie-kun, a child zombie, and his interactions with the world. It's not intended to be scary in the slightest, but rather, it focuses on the comical and bizarre things Zombie-kun's body can do, and the common-sense-defying way Zombie-kun behaves. For example, he'll take out his stomach and inflate it with air to use as a pillow, or if he gets wet, he'll detach parts of his body and wring them out like towels, then reattach them with a glue stick. Everything is depicted in a cute, cartoony fashion so as not to be too graphic for kids.",
         "['Comedy', 'Kids']",
         "['Comedy', 'Slice of Life']"
        ],
        [
         "28",
         "During the ancient Western Han dynasty (206BC-9AD), a series of disasters caused by occult phenomena swept across the entire world. Huainanzi, the mysterious Chinese book bound in bamboo, was ripped apart and sent through time to different historical junctures. The book pieces were transformed into various objects, waiting to be rediscovered. A hundred years later, a young man, named Hong Lie, lifts up the burden to collect the missing pieces of the ancient bamboo book. With the help of Ba Gong and his friends going through the Gate of 24 Solar Terms, Hong Lie travels through dynasties to search for the lost pieces. In his adventure, Hong Lie and his loyal friends, Ji Ming and Gou Tiao, experienced the greatness of the ancient legends, appreciating the wisdom of the ancestors from Chun Qiu Period, and witnessed all the weird things happening among ordinary people. Warmth and coldness, sadness and happiness, separation and reunion, stories led him to the great world in the book Huainanzi. Through exciting adventures, he also made lifelong friends. In this special way, Hong Lie communicated with ancestors and started to see the principle of world, realizing that obeying the laws of nature and being in harmony with the environment was the right thing to do. A simple collecting journey slowly became a challenging trip for him to go on with his family mission, and inherit the ancestor’s spirit.",
         "['Adventure', 'Fantasy', 'Historical']",
         "['Action', 'Adventure', 'Fantasy']"
        ],
        [
         "29",
         "Three oni-kids who, through the power of the onipan (a portmanteau of \"oni\" and \"pantsu\") become human to help fix the relationship between humans and oni. The three girls transfer into a normal Tokyo high school to aid in their task and help fix their image by revitalizing the town, sometimes jumping headfirst into school events, and other times ... becoming idols!",
         "['Comedy', 'Fantasy']",
         "['Comedy']"
        ],
        [
         "30",
         "It follows the daily life of Kotetsu-kun, who aspires to be an astronaut, and friends at the Animal Space Academy as they all pursue their dreams.",
         "['Comedy']",
         "['Comedy']"
        ],
        [
         "31",
         "Three girls come from another planet to save the mistreated animals of planet Earth. Black cat Amiru, squirrel Rumi, and rabbit Rie all make their way to Earth but Rie crashes her UFO! Lucky Amiru and Rumi run into Earth girl Minami and together set out to conquer the world!",
         "['Comedy']",
         "['Comedy']"
        ],
        [
         "32",
         "The episodes will present topics from the list of 17 Sustainable Development Goals (SDG) such as global warming, food waste, and gender equality, in an easy-to-understand manner. Baby Hamitang will then solve the issues.",
         "['Kids']",
         "[]"
        ],
        [
         "33",
         "St. Muse Academy: the place for the \"sound of the spirits.\" In order for people to live pleasantly among the sound, there is an academy where people learn to balance and control sound. Now, the five failing students receive a special mission...",
         "['Comedy', 'Music']",
         "['Comedy']"
        ],
        [
         "34",
         "Bang! One day, the Universe exploded! The explosion produced a number of light crystals which scattered in the Earth and became energy coins. Some energy life entities also came to the Earth and existed as mini cars to chase light crystals. Once those mini cars grasped light crystals, they would return to their original forms. A group of evil attempted to plot against the Earth with the super power of light crystals. To protect the Earth, the righteous kids Hawley, Kinson and Yolan help the mini cars of the justice side to collect energy coins. Armed with Eagle Car and Dragon Car, the two brothers are ready to fight against the Commander-K leaded evil force. The war is on…",
         "['Action', 'Adventure']",
         "['Action', 'Adventure', 'Sci-Fi']"
        ],
        [
         "35",
         "The story features the Sabuibo Mask live-action film's main character, Sabuibo Mask, attempting to solve various problems in his rural town.",
         "['Comedy', 'Slice of Life']",
         "['Comedy']"
        ],
        [
         "36",
         "A gag anime about foods in a refrigerator. The anime airs within the children's morning TV program and will receive a simultaneous manga serialization by Kazumata Oguri.",
         "['Comedy', 'Kids']",
         "['Comedy', 'Slice of Life']"
        ],
        [
         "37",
         "An introduction to etiquette through the hapless antics of Mr. Dotanba, who manages to put his foot in it in innumerable social situations.",
         "['Comedy', 'Slice of Life']",
         "['Comedy', 'Slice of Life']"
        ],
        [
         "38",
         "Charo venture around Tono, Iwate, a city in Japan's Tohoku (Northeast) region, attempting to find the Eight-Starred Note in order to prevent the reappearance of the Tenaga-Ashinaga monster of local legend.",
         "['Kids']",
         "['Fantasy']"
        ],
        [
         "39",
         "Kyungyas, from vegetable kingdom, comes to the Kyungya Restaurant. They have a mission to make children eat more vegetable and protect them from greasy, instant dishes. However, far from completing their mission, Kyungyas have hard time keeping the restaurant from bankruptcy. It is because of Onion Kyungya’s experimental dishes. His curiosity makes trouble with Celery Kyungya, the manager of Kyungya restaurant. How can they solve the problems they have with the customers. Would it be possible for Kyungyas to accomplish the mission?",
         "['Fantasy', 'Kids']",
         "['Comedy']"
        ],
        [
         "40",
         "A surrealist comedy about a local neighborhood. The 4-koma it's based on is known for the number of characters added each week, which exceeded over 280 during its serialization. The anime focuses on the 16 most reoccurring of the bunch and each episode is composed of 3 skits/chapters.",
         "['Comedy', 'Seinen']",
         "['Comedy', 'Slice of Life']"
        ],
        [
         "41",
         "Gekkou Kamen is retired on the moon, so his trusty motorbike returns to Earth to find a new hero to take over the job of defending the Earth from alien invaders.",
         "['Comedy', 'Sci-Fi']",
         "['Action', 'Adventure', 'Sci-Fi']"
        ],
        [
         "42",
         "The anime will be a \"surreal comedy\" that emphasizes Gunma prefecture's self-sufficiency in ingredients for sukiyaki. The story centers around the titular Sukiyaki Force, created by Professor Warishita, who fight against the forces of Kiraida, who have come to Gunma and threaten to destroy the world.",
         "['Comedy', 'Super Power']",
         "['Comedy']"
        ],
        [
         "43",
         "In the year 2735, mankind has begun to venture into space to find a new home after Earth's environment succumbs to global warming and the bombardment of asteroids into the atmosphere. During their voyage, the Space Migration Fleet encounters an alien race from the planet Iccus. As raiders of natural resources, the aliens are bent on galactic domination. To combat the threat, six young fighters are recruited into the Sky Arrow Flight Team and are equipped with transformable Type Yi fighter planes.",
         "['Action', 'Kids', 'Mecha', 'Sci-Fi']",
         "['Action', 'Mecha', 'Sci-Fi']"
        ],
        [
         "44",
         "For the agent known as \"Twilight,\" no order is too tall if it is for the sake of peace. Operating as Westalis' master spy, Twilight works tirelessly to prevent extremists from sparking a war with neighboring country Ostania. For his latest mission, he must investigate Ostanian politician Donovan Desmond by infiltrating his son's school: the prestigious Eden Academy. Thus, the agent faces the most difficult task of his career: get married, have a child, and play family.  Twilight, or \"Loid Forger,\" quickly adopts the unassuming orphan Anya to play the role of a six-year-old daughter and prospective Eden Academy student. For a wife, he comes across Yor Briar, an absent-minded office worker who needs a pretend partner of her own to impress her friends. However, Loid is not the only one with a hidden nature. Yor moonlights as the lethal assassin \"Thorn Princess.\" For her, marrying Loid creates the perfect cover. Meanwhile, Anya is not the ordinary girl she appears to be; she is an esper, the product of secret experiments that allow her to read minds. Although she uncovers their true identities, Anya is thrilled that her new parents are cool secret agents! She would never tell them, of course. That would ruin the fun.  Under the guise of \"The Forgers,\" the spy, the assassin, and the esper must act as a family while carrying out their own agendas. Although these liars and misfits are only playing parts, they soon find that family is about far more than blood relations.",
         "['Action', 'Comedy', 'Shounen']",
         "['Action', 'Drama', 'Fantasy', 'Romance']"
        ],
        [
         "45",
         "Hector the Rat teams up with his fellow denizens of Pretty Wood, including the titular Coral (a young girl) and the unimaginatively named Crow (a crow), to head off to Holland. With many musical scenes, the voice actors were chosen for their singing ability above all considerations.",
         "['Adventure', 'Kids', 'Music']",
         "['Comedy']"
        ],
        [
         "46",
         "A long time ago, there existed a Demon Lord who terrorized throughout the world until a Hero stepped up to the stage and challenged the Demon Lord, ultimately defeating him and ending his reign. The Hero then created Rosewood Academy, an academy made to help heroes-in-training achieve supremacy and help defend the world when needed that enrolls only the best of the best.  Enter Arnest Flaming, a girl with a high sense of duty and the top student at the academy, hence receiving the alias \"Empress of Flames\" who one day encounters the lively, carefree new transfer student Blade, a boy who seems to equal her in power, something that she finds really irritating. Arnest was then personally requested by The King to supervise, and show Blade around the academy during his stay. The story follows the students' struggles in their quest to become heroes.",
         "['Action', 'Fantasy', 'School']",
         "['Comedy']"
        ],
        [
         "47",
         "The story centers on the cats Hopi, Toto, and Mao, who set out on the ocean in search of a place to establish a new town. The three friends plan to find the mysterious \"Island of Stars.\" When they happen to chance upon it, they immediately get to work developing the island, but encounter many difficulties in their task.",
         "['Adventure', 'Slice of Life']",
         "[]"
        ],
        [
         "48",
         "A unique program which adopts the toycom games which are loved by children all over the world into animation.  The story starts off by the kidnapping of Genjin Takahashi, a superstar in the world of toycom games. He is kidnapped by Kyura-the-Great, who plots evil in order to rule this game world and become the star himself. Honey Bee, living in this game world and also the girlfriend of Genjin, learns of this and sets out to save him. She goes to the actual world to seek the help of three game geniuses and brings these three toycom buddies to the game world. With their help and desperate struggles, they try to overthrow Kyura-the-Great and rescue Genjin. Can they overcome the numerous roadblocks of hidden tricks and riddles?",
         "['Adventure', 'Comedy']",
         "[]"
        ],
        [
         "49",
         "The anime is based on the 4-panel comic strip drawn by Morishita Hiromi and published in Young Jump. The story describes the daily life of Ashibe (an elementary school boy) and his family and friends, including a pet white sea lion.",
         "['Comedy', 'Slice of Life']",
         "['Comedy', 'Slice of Life']"
        ]
       ],
       "shape": {
        "columns": 3,
        "rows": 749
       }
      },
      "text/html": [
       "<div>\n",
       "<style scoped>\n",
       "    .dataframe tbody tr th:only-of-type {\n",
       "        vertical-align: middle;\n",
       "    }\n",
       "\n",
       "    .dataframe tbody tr th {\n",
       "        vertical-align: top;\n",
       "    }\n",
       "\n",
       "    .dataframe thead th {\n",
       "        text-align: right;\n",
       "    }\n",
       "</style>\n",
       "<table border=\"1\" class=\"dataframe\">\n",
       "  <thead>\n",
       "    <tr style=\"text-align: right;\">\n",
       "      <th></th>\n",
       "      <th>Synopsis</th>\n",
       "      <th>True Genres</th>\n",
       "      <th>Predicted Genres</th>\n",
       "    </tr>\n",
       "  </thead>\n",
       "  <tbody>\n",
       "    <tr>\n",
       "      <th>0</th>\n",
       "      <td>follows the adventures of an adorable jet plan...</td>\n",
       "      <td>[Adventure, Kids]</td>\n",
       "      <td>[Comedy]</td>\n",
       "    </tr>\n",
       "    <tr>\n",
       "      <th>1</th>\n",
       "      <td>This Korean and Chinese co-production series f...</td>\n",
       "      <td>[Kids]</td>\n",
       "      <td>[Action, Adventure, Fantasy]</td>\n",
       "    </tr>\n",
       "    <tr>\n",
       "      <th>2</th>\n",
       "      <td>Struggling with life and society, high school ...</td>\n",
       "      <td>[Action, Adventure, Fantasy, Romance]</td>\n",
       "      <td>[Comedy]</td>\n",
       "    </tr>\n",
       "    <tr>\n",
       "      <th>3</th>\n",
       "      <td>Technoroid: Overmind is set in the Entertainme...</td>\n",
       "      <td>[Music]</td>\n",
       "      <td>[]</td>\n",
       "    </tr>\n",
       "    <tr>\n",
       "      <th>4</th>\n",
       "      <td>The 3rd continuation of NTV's ZIP! anime parod...</td>\n",
       "      <td>[Comedy]</td>\n",
       "      <td>[Action, Comedy]</td>\n",
       "    </tr>\n",
       "    <tr>\n",
       "      <th>...</th>\n",
       "      <td>...</td>\n",
       "      <td>...</td>\n",
       "      <td>...</td>\n",
       "    </tr>\n",
       "    <tr>\n",
       "      <th>744</th>\n",
       "      <td>According to HMV, the DVD &amp; Blu-ray volume 7 o...</td>\n",
       "      <td>[Comedy, Seinen, Sports]</td>\n",
       "      <td>[Comedy]</td>\n",
       "    </tr>\n",
       "    <tr>\n",
       "      <th>745</th>\n",
       "      <td>A collaboration between Tentai Senshi Sunred a...</td>\n",
       "      <td>[Comedy, Seinen, Sports, Super Power]</td>\n",
       "      <td>[Comedy]</td>\n",
       "    </tr>\n",
       "    <tr>\n",
       "      <th>746</th>\n",
       "      <td>Hina Satou is a 13-year-old who loves figure s...</td>\n",
       "      <td>[Slice of Life, Sports]</td>\n",
       "      <td>[Comedy, Slice of Life]</td>\n",
       "    </tr>\n",
       "    <tr>\n",
       "      <th>747</th>\n",
       "      <td>Asou Renji comes back at the station with Chih...</td>\n",
       "      <td>[Drama, Mystery, Romance]</td>\n",
       "      <td>[Action]</td>\n",
       "    </tr>\n",
       "    <tr>\n",
       "      <th>748</th>\n",
       "      <td>A girl's classmate disappears during a game of...</td>\n",
       "      <td>[Shoujo, Supernatural]</td>\n",
       "      <td>[Comedy, Romance, School]</td>\n",
       "    </tr>\n",
       "  </tbody>\n",
       "</table>\n",
       "<p>749 rows × 3 columns</p>\n",
       "</div>"
      ],
      "text/plain": [
       "                                              Synopsis  \\\n",
       "0    follows the adventures of an adorable jet plan...   \n",
       "1    This Korean and Chinese co-production series f...   \n",
       "2    Struggling with life and society, high school ...   \n",
       "3    Technoroid: Overmind is set in the Entertainme...   \n",
       "4    The 3rd continuation of NTV's ZIP! anime parod...   \n",
       "..                                                 ...   \n",
       "744  According to HMV, the DVD & Blu-ray volume 7 o...   \n",
       "745  A collaboration between Tentai Senshi Sunred a...   \n",
       "746  Hina Satou is a 13-year-old who loves figure s...   \n",
       "747  Asou Renji comes back at the station with Chih...   \n",
       "748  A girl's classmate disappears during a game of...   \n",
       "\n",
       "                               True Genres              Predicted Genres  \n",
       "0                        [Adventure, Kids]                      [Comedy]  \n",
       "1                                   [Kids]  [Action, Adventure, Fantasy]  \n",
       "2    [Action, Adventure, Fantasy, Romance]                      [Comedy]  \n",
       "3                                  [Music]                            []  \n",
       "4                                 [Comedy]              [Action, Comedy]  \n",
       "..                                     ...                           ...  \n",
       "744               [Comedy, Seinen, Sports]                      [Comedy]  \n",
       "745  [Comedy, Seinen, Sports, Super Power]                      [Comedy]  \n",
       "746                [Slice of Life, Sports]       [Comedy, Slice of Life]  \n",
       "747              [Drama, Mystery, Romance]                      [Action]  \n",
       "748                 [Shoujo, Supernatural]     [Comedy, Romance, School]  \n",
       "\n",
       "[749 rows x 3 columns]"
      ]
     },
     "metadata": {},
     "output_type": "display_data"
    }
   ],
   "source": [
    "def get_predictions_dataframe(model, dataloader, df, threshold, mlb, device):\n",
    "    model.eval()\n",
    "    all_preds = []\n",
    "    all_probs = []\n",
    "\n",
    "    with torch.no_grad():\n",
    "        for x, _ in tqdm(dataloader, desc=\"Predicting\"):\n",
    "            x = x.to(device)\n",
    "            probs = model(x).cpu().numpy()\n",
    "            all_probs.extend(probs)\n",
    "            preds = (probs >= threshold).astype(int)\n",
    "            all_preds.extend(preds)\n",
    "\n",
    "    predicted_genres = [[mlb.classes_[i] for i, val in enumerate(pred) if val == 1] for pred in all_preds]\n",
    "    true_genres = df['genres'].tolist()\n",
    "    synopses = df['synopsis'].tolist()\n",
    "\n",
    "    result_df = pd.DataFrame({\n",
    "        \"Synopsis\": synopses,\n",
    "        \"True Genres\": true_genres,\n",
    "        \"Predicted Genres\": predicted_genres\n",
    "    })\n",
    "    return result_df\n",
    "\n",
    "# 👇 Call it like this in your notebook:\n",
    "train_pred_df = get_predictions_dataframe(model, train_loader, df_train, optimal_threshold, mlb, DEVICE)\n",
    "val_pred_df = get_predictions_dataframe(model, val_loader, df_val, optimal_threshold, mlb, DEVICE)\n",
    "test_pred_df = get_predictions_dataframe(model, test_loader, df_test, optimal_threshold, mlb, DEVICE)\n",
    "\n",
    "# ✅ View them\n",
    "display(train_pred_df)\n",
    "display(val_pred_df)\n",
    "display(test_pred_df)\n"
   ]
  }
 ],
 "metadata": {
  "kernelspec": {
   "display_name": "nlp_env",
   "language": "python",
   "name": "python3"
  },
  "language_info": {
   "codemirror_mode": {
    "name": "ipython",
    "version": 3
   },
   "file_extension": ".py",
   "mimetype": "text/x-python",
   "name": "python",
   "nbconvert_exporter": "python",
   "pygments_lexer": "ipython3",
   "version": "3.10.16"
  }
 },
 "nbformat": 4,
 "nbformat_minor": 5
}
