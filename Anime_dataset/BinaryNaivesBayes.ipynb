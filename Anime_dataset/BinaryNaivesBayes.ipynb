{
 "cells": [
  {
   "cell_type": "code",
   "execution_count": 2,
   "id": "46f194a1",
   "metadata": {},
   "outputs": [
    {
     "name": "stderr",
     "output_type": "stream",
     "text": [
      "c:\\Users\\User\\anaconda3\\envs\\NLP_CW\\Lib\\site-packages\\tqdm\\auto.py:21: TqdmWarning: IProgress not found. Please update jupyter and ipywidgets. See https://ipywidgets.readthedocs.io/en/stable/user_install.html\n",
      "  from .autonotebook import tqdm as notebook_tqdm\n"
     ]
    }
   ],
   "source": [
    "from my_import import *\n",
    "df_train = pd.read_csv('df_train.csv')\n",
    "df_val = pd.read_csv('df_val.csv')\n",
    "df_test = pd.read_csv('df_test.csv')\n",
    "\n",
    "#Make sure the genre collumns is in lists not strings\n",
    "#NEED TO DO THIS EVERYTIME EXPORT DATASET\n",
    "df_train['genres'] = df_train['genres'].apply(lambda x: list(ast.literal_eval(x)))\n",
    "df_val['genres'] = df_val['genres'].apply(lambda x: list(ast.literal_eval(x)))\n",
    "df_test['genres'] = df_test['genres'].apply(lambda x: list(ast.literal_eval(x)))"
   ]
  },
  {
   "cell_type": "code",
   "execution_count": 3,
   "id": "a9f040b2",
   "metadata": {},
   "outputs": [],
   "source": [
    "lemmatizer = WordNetLemmatizer()\n",
    "stop_words = set(stopwords.words('english'))\n",
    "\n",
    "def clean_text(text):\n",
    "    tokens = nltk.word_tokenize(text.lower())\n",
    "    tokens = [lemmatizer.lemmatize(word) for word in tokens if word.isalpha() and word not in stop_words]\n",
    "    return ' '.join(tokens)\n",
    "\n",
    "df_train['clean_synopsis'] = df_train['synopsis'].apply(clean_text)\n",
    "df_val['clean_synopsis'] = df_val['synopsis'].apply(clean_text)\n",
    "df_test['clean_synopsis'] = df_test['synopsis'].apply(clean_text)"
   ]
  },
  {
   "cell_type": "code",
   "execution_count": 7,
   "id": "16a32101",
   "metadata": {},
   "outputs": [
    {
     "name": "stdout",
     "output_type": "stream",
     "text": [
      "Report for Train dataset\n",
      "samples avg f1-score = 0.5259074834323281\n",
      "Jaccard Similarity: 0.4224375409784462\n",
      "Hit Rate: 0.8149880356754405\n",
      "----------------------\n",
      "Report for Val dataset\n",
      "samples avg f1-score = 0.4249845127260669\n",
      "Jaccard Similarity: 0.31515688353206733\n",
      "Hit Rate: 0.7884108867427568\n",
      "----------------------\n",
      "Report for Test dataset\n",
      "samples avg f1-score = 0.42682927709481416\n",
      "Jaccard Similarity: 0.31722646636164675\n",
      "Hit Rate: 0.7884108867427568\n"
     ]
    },
    {
     "name": "stderr",
     "output_type": "stream",
     "text": [
      "c:\\Users\\User\\anaconda3\\envs\\NLP_CW\\Lib\\site-packages\\sklearn\\metrics\\_classification.py:1565: UndefinedMetricWarning: Precision is ill-defined and being set to 0.0 in samples with no predicted labels. Use `zero_division` parameter to control this behavior.\n",
      "  _warn_prf(average, modifier, f\"{metric.capitalize()} is\", len(result))\n",
      "c:\\Users\\User\\anaconda3\\envs\\NLP_CW\\Lib\\site-packages\\sklearn\\metrics\\_classification.py:1565: UndefinedMetricWarning: Precision is ill-defined and being set to 0.0 in samples with no predicted labels. Use `zero_division` parameter to control this behavior.\n",
      "  _warn_prf(average, modifier, f\"{metric.capitalize()} is\", len(result))\n",
      "c:\\Users\\User\\anaconda3\\envs\\NLP_CW\\Lib\\site-packages\\sklearn\\metrics\\_classification.py:1565: UndefinedMetricWarning: Precision is ill-defined and being set to 0.0 in samples with no predicted labels. Use `zero_division` parameter to control this behavior.\n",
      "  _warn_prf(average, modifier, f\"{metric.capitalize()} is\", len(result))\n"
     ]
    },
    {
     "data": {
      "application/vnd.microsoft.datawrangler.viewer.v0+json": {
       "columns": [
        {
         "name": "index",
         "rawType": "int64",
         "type": "integer"
        },
        {
         "name": "Synopsis",
         "rawType": "object",
         "type": "string"
        },
        {
         "name": "Actual Genres",
         "rawType": "object",
         "type": "unknown"
        },
        {
         "name": "Predicted Genres",
         "rawType": "object",
         "type": "unknown"
        }
       ],
       "conversionMethod": "pd.DataFrame",
       "ref": "d10e5803-aed2-4944-9d86-3a72085c2dcb",
       "rows": [
        [
         "0",
         "Sometime in the future, the world was completely dried up and became all desert. They had little rivers and lakes left, which villians and dangerous animals lived. Water has become the most valueable thing on the world. Whoever can control water will rule over the world.  (Source: ANN)",
         "('Action', 'Adventure')",
         "('Adventure', 'Fantasy')"
        ],
        [
         "1",
         "Set in 2014, the anime follows the adventures of 23 years old Mafuneko, a newly minted assistant director who joins the TV production department at Tokyo Hajikko Television, only to discover that the glamorous and glitzy life of working behind-the-scenes making TV shows involves strange and inexplicable tasks such as \"gathering 300 acorns\" and \"making a mosaic out of the images reflected in the camera lens.\" Despite being surrounded by chaos, set-backs, and weirdos, Mafuneko struggles to become a fully-fledged TV producer.  (Source: Crunchyroll, edited)",
         "('Comedy',)",
         "('Comedy', 'Slice of Life')"
        ],
        [
         "2",
         "Follows a pig whose family's mission is to collect underpants.",
         "('Comedy', 'Kids')",
         "('Comedy',)"
        ],
        [
         "3",
         "In honor of the 2018 World Cup, this season of GG Bond focuses on sports team competition, team spirit, and personal growth as they compete in the Meteor League.  ",
         "('Kids', 'Sci-Fi', 'Sports', 'Super Power')",
         "('Kids', 'Sports')"
        ],
        [
         "4",
         "Fairies living in a fluffy forest, where both flowers and trees are fluffy. Follow a witch's trouble-maker apprentices Pui Pui and Muu Muu.",
         "('Fantasy', 'Kids')",
         "('Comedy', 'Kids')"
        ],
        [
         "5",
         "This story is about Mick, a sleeping chironomid. Insects are taken up into space for use in experiments by humans. An epic space adventure of Mick and his friends of their journey back home to Earth. The development plans and experiments are aborted by humans for no known reason, the organisms are left behind in the space station with limited resources. Going over hurdles and fighting through challenges, together, they travel across planets and gain new comrades, heading for Earth. As their journey progresses, the mystery behind the human’s abandonment unravels…  (Source: Crunchyroll)",
         "('Adventure', 'Other')",
         "('Action', 'Adventure', 'Fantasy', 'Other', 'Sci-Fi', 'Shounen')"
        ],
        [
         "6",
         "The anime is based on MegaHouse's line of Ziguru Hazeru (literally, \"Jiggle and Pop Out\") mecha toys that allow people to remove parts from the joints and add different parts in their place. In addition, if one combines together Hazeru Gokuu, Hazeru Sagojo, and Hazeru Hakkai, the resulting mecha will be Hazeru Seioh, allowing for users to combine their toys together.  The ZIGURUHAZERU animated series is based on the upcoming original toy line of the same name from MegaHouse, featuring cool robot toys modelled after characters from the famous Journey to the West tale.",
         "('Action', 'Mecha')",
         "('Action', 'Comedy', 'Kids', 'Mecha')"
        ],
        [
         "7",
         "Fuwa Beibei encounters the severely injured goddess, Athena. In order to help Athena regain strength, Beibei sets out to find a mysterious wooden box left by Coubertin in 1894, but the worrying thing is that Pixiu who injured his stomach from his glutinous eating habits heard this news too. He thought that this mysterious energy could not only cure his stomach, but also improve his magic, and such begins the journey through time and space of two spirits with different aims. After all the hardships, they found the sixth son of the dragon - Bixi, and after the two's efforts in passing his test, Bixi carries them along 100 years of Olympic history.",
         "('Historical',)",
         "('Action', 'Adventure', 'Drama', 'Fantasy', 'Historical')"
        ],
        [
         "8",
         "The anime will depict various vehicles as characters in the \"Mobile Land\" island. The protagonist Car-kun arrives at the island as a delivery worker. Through his deliveries, he gets to know the residents of Mobile Land, all while following traffic rules and having his deliveries stopped by the meddling Sabibi.  (Source: ANN)",
         "('Comedy', 'Kids', 'Other', 'Slice of Life')",
         "('Comedy', 'Kids')"
        ],
        [
         "9",
         "follows the adventures of an adorable jet plane named Jett who travels around the world delivering packages to children. On every delivery, Jett encounters new problems that he must solve with the help of his friends the \"Super Wings\": Dizzy, Jerome and Donnie. Together, the team explores different countries and learns the diversity of new cultures.  (Source: Official YouTube channel)",
         "('Adventure', 'Kids', 'Other')",
         "('Adventure', 'Kids')"
        ],
        [
         "10",
         "A collaboration shorts that aired as part of Yomiuri TV's morning program block.",
         "('Comedy',)",
         "('Comedy',)"
        ],
        [
         "11",
         "There was once a man who was summoned to another world, and saved it. Of course, he became too popular there, and turned into an isekai-normie. However, that man fell into a \"trap\" and was forcibly returned to his original world. Moreover, he had to start over as a baby!  This is the story of the way-too-fantastic ex-hero who lived as a gloomy high-schooler, as he gets summoned once again to that same other world in a very unexpected development!  (Source: Coolmic, edited)",
         "('Action', 'Adventure', 'Comedy', 'Fantasy', 'Harem', 'Romance')",
         "('Comedy', 'Fantasy')"
        ],
        [
         "12",
         "The 2018 LINE sticker set Poccolies is inspiring a series of anime shorts. The story of the sticker set is that a positive and honest boy named Patsuhiko lives on Pokkori Island, along with the shrewd and mysterious Ham, and a reliable older brother figure named Kangaroo. The sticker set follows their daily lives.  (Source: ANN)",
         "('Kids', 'Slice of Life')",
         "('Comedy', 'Kids', 'Slice of Life')"
        ],
        [
         "13",
         "Fourth season of Kamiusagi Rope, events occur after the feature film. Airs on Mezamashi TV instead of the theaters.",
         "('Comedy', 'Slice of Life')",
         "('Comedy', 'Slice of Life')"
        ],
        [
         "14",
         "Korean Animation about the monsters Eerie, Rock-G, Popo, and Yossi and the adventures they go on each day!",
         "('Adventure',)",
         "()"
        ],
        [
         "15",
         "TV adaptation of Cocone Corporation's mobile puzzle game app.  Discover the adventures of the cat painter, Vincent van Meowogh who lives in a mansion in Paris surrounded by his quirky friends. Let's give him a spark of inspiration for his painting by completing puzzle stages, buy back the furniture and restore his home to its former glory!  (Source: ANN)",
         "('Kids', 'Other')",
         "('Kids',)"
        ],
        [
         "16",
         "General of the Three Kingdoms, Kongming had struggled his whole life, facing countless battles that made him into the accomplished strategist he was. So on his deathbed, he wished only to be reborn into a peaceful world... and was sent straight to modern-day party-central, Tokyo! Can even a brilliant strategist like Kongming adapt to the wild beats and even wilder party people?!  (Source: Kodansha US, edited)",
         "('Comedy',)",
         "('Action', 'Comedy', 'Fantasy')"
        ],
        [
         "17",
         "Kou Yamori seems like a typical middle school student on the surface. Relatively good at studies and amiable with his classmates, he puts a lot of effort into maintaining this facade. One day, however, he decides to stop pretending and quits school, developing insomnia as a result of having no daytime outlet for his energy. When taking walks alone at night, he feels marginally better, though he is aware that his inability to sleep should be considered a serious problem.  On one such walk, Kou meets a weird girl, Nazuna Nanakusa, who diagnoses the cause of his sleeplessness: despite making changes in his life, he is still holding himself back from experiencing true freedom. She says that he won't be able to sleep unless he is satisfied with how he spends his waking hours. When it appears that she has resolved his current worries, Nazuna invites him back to her apartment to share her futon. After a while, unaware that he is only feigning unconsciousness, she leans over him—and bites his neck!  ",
         "('Other', 'Romance', 'Shounen', 'Supernatural')",
         "('Comedy', 'Drama', 'Ecchi', 'Harem', 'Hentai', 'Mystery', 'Other', 'Romance', 'School', 'Seinen', 'Shoujo', 'Shounen', 'Slice of Life', 'Supernatural')"
        ],
        [
         "18",
         "Ryou Mizushima enrolls in junior high and joins the badminton club with great vigor. Although the club didn't have a proper coach, Mizushima improved his skills with his own physical strength by the time he participated in the prefectural tournament. Afterwards, he is approached by the Yokohama Minato High School's badminton coach, Ebihara.  Indecisive and timid, Mizushima hesitates to attend such a prestigious school. However, with his elder sister Rika giving him a strong push, he decides to go to Yokohama Minato. Now blessed with a coach and idiosyncratic teammates, Mizushima will gain experience he's lacked till now, and aims to win the inter-high tournament.  (Source: MAL News)",
         "('Sports',)",
         "('Comedy', 'Ecchi', 'Romance', 'School', 'Shounen', 'Slice of Life', 'Sports')"
        ],
        [
         "19",
         "This show consists of shorts starring 7 characters created and voiced by the voice actors of the variety show \"Seiyuu Danshi desu ga...?\". The anime will be a slapstick comedy that follows seven spirits that come to the modern world.  (Source: ANN)",
         "('Comedy', 'Supernatural')",
         "('Comedy', 'Kids')"
        ],
        [
         "20",
         "Hello Jadoo is a South-Korean TV show about a girl named Choi Jadoo who is a very free-spirited girl. In every episode, she would always get into drama, whether it was with her parents or school. At the same time, she meets new people and she tries to solve problems occurring.",
         "('Slice of Life',)",
         "('Comedy',)"
        ],
        [
         "21",
         "The supreme Gods who had too much free time created the ultimate brain games \"Play of the Gods.\" Former Goddess Leche awoke from a long slumber and declared to the world, \"Bring forth the person who is the best in games in this era!\" Fay is nominated to represent humanity as the \"best rookie in recent years.\"  The \"Game of the Gods\" that is about to begin between the two may be a little too difficult, as there has yet to be a victor throughout human history, because Gods are capricious, very unreasonable, and sometimes completely incomprehensible. However, given the nature of the games, it would be a waste not to have a good time and play with all of one's heart! The ultimate brain battles of a genius gamer boy, a former Goddess, and friends begin!  (Source: MAL News)",
         "('Ecchi', 'Fantasy', 'Other')",
         "('Action', 'Adventure', 'Ecchi', 'Fantasy', 'Other', 'Romance', 'Shounen', 'Supernatural')"
        ],
        [
         "22",
         "Struggling with life and society, high school student Michio Kaga wanders about the Internet and lands on an odd website. The website, featuring a number of questions and a point based system, allows one to create skills and abilities for a character. Upon completing his character, Kaga was transported to a game-like fantasy world and reborn as a strong man who can claim idol-level girls. Thus begins the cheat and harem legend of a reborn man!  (Source: MAL News)",
         "('Action', 'Adventure', 'Fantasy', 'Harem', 'Romance')",
         "('Comedy', 'Fantasy', 'Romance', 'School')"
        ],
        [
         "23",
         "Technoroid: Overmind is set in the Entertainment Tower Babel, a new hope found by those who have lost the joy of light as humanity's activities are restricted due to the large-scale climate change caused by the expanded sun. The anime depicts unique units and characters fighting for the top of Babel, pursuing emotions that move people and androids through performances.  (Source: MAL News)",
         "('Music',)",
         "('Music',)"
        ],
        [
         "24",
         "Tsukumogami—spirits or \"marebito\" can possess objects of considerable age and gain a physical form. Although he is part of the Saenome clan that is in charge of peacefully sending them back to their own world, Hyouma Kunato despises them because one took away what was very precious to him. In order to cure him of this loathing, Hyouma's grandfather sends him to live with Botan Nagatsuki, a girl who is the master of six \"friendly\" tsukumogami and lives with them as a family.  (Source: MU, edited)",
         "('Action', 'Seinen', 'Supernatural')",
         "('Action', 'Fantasy')"
        ],
        [
         "25",
         "A young woman aims to become a famous fashion designer.  (Source: AniDB)",
         "('Romance', 'Shoujo')",
         "()"
        ],
        [
         "26",
         "The hero of Tensei shitara Ken deshita differs from your standard otherworldly protagonist in that he is reincarnated as a sword! Beginning his quest by spawning in the middle of a beast-ridden forest, he encounters an injured girl frantically fleeing for her life. Saving her from her assailants, the pair acquaint themselves, and the girl introduces herself as Fran. She bears a heavy past, having endured the enslavement and maltreatment of her tribe, the Black Cats.  As the hero is unable to remember the name from his past life, the young and tenacious Fran bestows him the name \"Shishou\" and becomes his wielder. Thereafter, Shishou and Fran become a formidable team, embarking on quests to liberate the oppressed and exact justice!  ",
         "('Action', 'Fantasy')",
         "('Action', 'Adventure', 'Fantasy', 'Supernatural')"
        ],
        [
         "27",
         "If a girl teases you, that means she likes you!  Unfortunately, Akiteru knows from experience that isn't the case. Because every girl he interacts with shows him nothing but scorn, and he's not scored a single date from it! Luckily, he's more concerned with securing a spot for him and his game-development buddies at his uncle's business.  But when his uncle throws him a condition that involves playing the part of his daughter's boyfriend, Akiteru has no choice but to take it. What will his best friend's sister Iroha, who bullies him relentlessly, think of the news?  (Source: J-Novel Club)",
         "('Comedy', 'Romance', 'School')",
         "('Comedy', 'Hentai', 'Romance', 'School', 'Slice of Life')"
        ],
        [
         "28",
         "There is a mysterious power of the Holy Spirit hidden in the legendary continent of Labelle, and the way to get power is recorded in the book of flower, guard by numerous flower Fairy Kings,only the legendary magic ambassador is recognized to wake up the power, and use them to defeat evil. For this.The evil force,led by Jakarta,the Queen of Dark had start a war to the continent of Labelle.With the help of the Flower Goddess,Pupula and the tribe of gouring flower fairys, the fate of the continent of Labelle is linked with an Earth girl... Who is the legendary envoy XiaAnAn.  (Source: Magical Girl Wiki)",
         "('Kids',)",
         "('Action', 'Adventure', 'Fantasy', 'Kids', 'Sci-Fi')"
        ],
        [
         "29",
         "Denji has a simple dream—to live a happy and peaceful life, spending time with a girl he likes. This is a far cry from reality, however, as Denji is forced by the yakuza into killing devils in order to pay off his crushing debts. Using his pet devil Pochita as a weapon, he is ready to do anything for a bit of cash.  Unfortunately, he has outlived his usefulness and is murdered by a devil in contract with the yakuza. However, in an unexpected turn of events, Pochita merges with Denji's dead body and grants him the powers of a chainsaw devil. Now able to transform parts of his body into chainsaws, a revived Denji uses his new abilities to quickly and brutally dispatch his enemies. Catching the eye of the official devil hunters who arrive at the scene, he is offered work at the Public Safety Bureau as one of them. Now with the means to face even the toughest of enemies, Denji will stop at nothing to achieve his simple teenage dreams.  ",
         "('Action', 'Adventure', 'Demons', 'Shounen')",
         "('Action', 'Adventure', 'Demons', 'Drama', 'Ecchi', 'Fantasy', 'Horror', 'Mystery', 'Other', 'Romance', 'Shounen', 'Super Power', 'Supernatural')"
        ],
        [
         "30",
         "6.5-centimeter tall Degirdians fall to Earth in their spacecraft while chasing fugitives. Their spaceship transforms into a capsule toy stand near a toy store and a human boy accidentally takes home one of the aliens thinking it's a capsule toy. They befriend a human boy and try to figure out a way to get home all while fighting off the evil alien.",
         "('Kids', 'Sci-Fi')",
         "('Kids', 'Sci-Fi')"
        ],
        [
         "31",
         "revolves around mischievous creatures called Teenieping that like to enter people's minds, but their playful nature and magical powers can wreak havoc in their hosts' lives. When the Teenieping are set loose on Earth, Princess Romi of the Emotion Kingdom becomes an ordinary girl that has to turn into a magical girl to stop them, all while balancing her new civilian life as a worker for the Bakery Heartrose with her coworkers Ian, Kyle, and Jun.  (Source: Wikipedia)",
         "('Fantasy', 'Kids', 'School')",
         "('Adventure', 'Comedy', 'Fantasy', 'Kids')"
        ],
        [
         "32",
         "A more educational season of GG Bond. This season is composed of 2 arcs, each arc has 52 episodes.  GG Bond works on cleaning up some fossils at the lab as they'll be used in a museum exhibit. He uses a fossil to create a data coin that is compatible with his special jet. This allows for him to travel back in time to the original animal (a T-Rex) the fossil was made of. While GG Bond is ecstatic to learn about dinosaurs in-person (as well as mine more accurate data for the data coin), he didn't quite realize the danger he'd be in. He successfully gets out of this sticky situation but there's still a lot more dinosaurs he needs to get information on.",
         "('Historical', 'Kids', 'Sci-Fi', 'Super Power')",
         "('Kids', 'Sci-Fi', 'Super Power')"
        ],
        [
         "33",
         "Hitori Gotou is a high school girl who's starting to learn to play the guitar because she dreams of being in a band, but she's so shy that she hasn't made a single friend. However, her dream might come true after she meets Nijika Ijichi, a girl who plays drums and is looking for a new guitarist for her band.  (Source: MU, edited)",
         "('Comedy', 'Music', 'Slice of Life')",
         "('Comedy', 'Music', 'Romance', 'School', 'Slice of Life')"
        ],
        [
         "34",
         "TV anime based on San-X's new series of mascot characters \"Chickip Dancers.\" The main characters in the anime will be the apprehensive but curious bone-in chicken Hone Chicken, and the dancing instructor frog Skip Gaeru, who travels by dancing.  (Source: ANN)",
         "('Slice of Life',)",
         "('Comedy', 'Kids', 'Slice of Life')"
        ],
        [
         "35",
         "Stop-motion animation using clay and puppets follows a musician and hit cat traveling the world and learning about music in different cultures while spreading their own songs.",
         "('Kids', 'Music')",
         "('Comedy', 'Kids', 'Music')"
        ],
        [
         "36",
         "A Chinese prince meets a regular civilian during his travels and quickly falls in love. They marry and have a daughter, but the prince is soon separated from them during a rebellion. Many years later, the prince has become emperor and locates his lost daughter. She comes to live with him, but unfortunately has picked up several unrefined habits during her times as a civilian.",
         "('Comedy', 'Historical', 'Kids')",
         "('Comedy',)"
        ],
        [
         "37",
         "is an animation series with some educational undertones targeting 5~7-year-old kids. The entire series is set against the backdrop of a supermarket. Viewing the animations, children will be able to imagine themselves in amidst all a supermarket has to offer. Children can join Kemy and his quest to figure out the answers to everyday questions. Buka and Chaka do not reprise their roles in this season.  (Source: korean-products.com)  ",
         "('Kids',)",
         "('Comedy', 'Kids')"
        ],
        [
         "38",
         "Centers on a penguin who works in an abusive company and gripes about the difficulties of workplace life. The title is a play on the \"koutei penguin,\" the Japanese name for the emperor penguin.  (Source: ANN)",
         "('Other',)",
         "('Comedy',)"
        ],
        [
         "39",
         "No synopsis has been added for this series yet.   to update this information.",
         "('Comedy', 'Fantasy')",
         "('Adventure', 'Comedy', 'Kids')"
        ],
        [
         "40",
         "In \"a certain era\" on \"a certain continent,\" banal things are happening. The construction of \"Large-Scale Leisure Facilities\" has demanded that all the villages are to be evicted. When these demands are denied, the village and its residents are obliterated. A boy named Chap once lived in tranquility, but that happiness soon came crumbling down. He decides to embark on a journey of revenge, but soon falls madly in love with the king's daughter, Princess Melora. In order to fulfill her selfish wishes, he gathers his friends in order to overcome the impossible.",
         "('Adventure', 'Comedy', 'Fantasy', 'Kids')",
         "('Adventure', 'Drama', 'Fantasy', 'Historical', 'Kids', 'Romance', 'Supernatural')"
        ],
        [
         "41",
         "The story centers around a cat who answers people's wishes and delivers happiness. (\"Tane\" and \"neko\" are the Japanese words for \"seed\" and \"cat,\" respectively.)  (Source: ANN)",
         "('Comedy',)",
         "('Comedy',)"
        ],
        [
         "42",
         "The series follows a young girl named Shina who hopes to become the world's best DJ, and is interested in new sounds. Shina explores a mysterious world filled with Otoppe, strange creatures capable of unique sounds.",
         "('Fantasy', 'Kids', 'Music')",
         "('Fantasy', 'Kids')"
        ],
        [
         "43",
         "The second season of the franchise. It aired within the \"Fight Tension☆School\" variety program.",
         "('Comedy', 'Mecha')",
         "('Comedy', 'Kids')"
        ],
        [
         "44",
         "Shorts that aired within \"Fight Tension☆Depart,\" a variety program that originally aired the anime as one of its segments. Celeb-chan is a narcissistic school girl who believes that she is a celebrity because her family is incredibly wealthy. She tries to do typical rich people things such as starting her own heavy makeup line, becoming a singer, saving an endangered species, buying a teacup poodle, etc. The results are never how she expects it.",
         "('Comedy', 'Parody')",
         "('Comedy', 'Parody', 'Slice of Life')"
        ],
        [
         "45",
         "How did Asia's most prominent entrepreneurs know when to grasp opportunities? And how did they overcome difficulties and attain their positions of power? This series uses the unconventional technique of blending actual documentary footage with CG animation to get a close-up look into the front lines and what lies behind the scenes of Asian business.  Our cartoon host is Shima Kosaku, a character from a popular Japanese business manga. He delves into the heart of the Asian economic market representing 4 billion people, to visit entrepreneurs who have survived turbulent times. Thai business magnate, Dhanin Chearavanont (Chairman of CP Group), and innovative Taiwanese semiconductor entrepreneur, Morris Chang (Chairman of TSMC), are among the many movers and shakers to be featured. Don't miss this opportunity to glimpse the dramatic lives of these media-shy business titans.  (Source: Official Site)",
         "('Drama', 'Seinen')",
         "('Drama', 'Historical', 'Music', 'Other', 'Parody', 'Seinen')"
        ],
        [
         "46",
         "The story centers on Matthew, a daydreaming worrywart of a rabbit. Matthew also has two friends: Keron, a pessimistic frog who is fond of good-luck charms; and Ham, a hamster of few words and who moves through life at his own pace. The story follows the three animals' everyday lives within a mysterious forest.  (Source: ANN)",
         "('Slice of Life',)",
         "('Comedy', 'Kids', 'Slice of Life')"
        ],
        [
         "47",
         "Excellent student Iwakura Mitsumi has always dreamt about leaving her small town, going to a prestigious university, and making positive change in the world. But she's so focused on reaching her goals that she's not prepared for the very different (and overwhelming) city life that awaits her in a Tokyo high school. Luckily, she makes fast friends with Shima Sousuke, a handsome classmate who's as laid-back as she is over-prepared. Can this naive country girl make it big in Tokyo with Sousuke by her side?  (Source: Seven Seas Entertainment)",
         "('School', 'Seinen', 'Slice of Life')",
         "('Drama', 'Romance', 'School', 'Seinen', 'Slice of Life')"
        ],
        [
         "48",
         "The story will follow four girls who seek to use their songs to heal and soothe the people of their world. The tagline reads, \"Kindhearted, powerful songs heal the world. These are beautiful miracles sung by humanity.\"  (Source: MAL Source)",
         "('Music',)",
         "()"
        ],
        [
         "49",
         "It follows the fan favorite character Vandyne as his hidden secrets are revealed. Unlike the reboot, which exclusively uses 3DCG visuals, this series is like the earlier entries and is animated with 2D and 3D visuals.  The mini-series is part of a new promotional campaign from Sono Kong. The Korean toy manufacturer will launch four new mechanimals this month at retail.  (Source: toonbarn.com)",
         "('Adventure', 'Kids', 'Mecha', 'Other')",
         "('Comedy', 'Kids', 'Other')"
        ]
       ],
       "shape": {
        "columns": 3,
        "rows": 9194
       }
      },
      "text/html": [
       "<div>\n",
       "<style scoped>\n",
       "    .dataframe tbody tr th:only-of-type {\n",
       "        vertical-align: middle;\n",
       "    }\n",
       "\n",
       "    .dataframe tbody tr th {\n",
       "        vertical-align: top;\n",
       "    }\n",
       "\n",
       "    .dataframe thead th {\n",
       "        text-align: right;\n",
       "    }\n",
       "</style>\n",
       "<table border=\"1\" class=\"dataframe\">\n",
       "  <thead>\n",
       "    <tr style=\"text-align: right;\">\n",
       "      <th></th>\n",
       "      <th>Synopsis</th>\n",
       "      <th>Actual Genres</th>\n",
       "      <th>Predicted Genres</th>\n",
       "    </tr>\n",
       "  </thead>\n",
       "  <tbody>\n",
       "    <tr>\n",
       "      <th>0</th>\n",
       "      <td>Sometime in the future, the world was complete...</td>\n",
       "      <td>(Action, Adventure)</td>\n",
       "      <td>(Adventure, Fantasy)</td>\n",
       "    </tr>\n",
       "    <tr>\n",
       "      <th>1</th>\n",
       "      <td>Set in 2014, the anime follows the adventures ...</td>\n",
       "      <td>(Comedy,)</td>\n",
       "      <td>(Comedy, Slice of Life)</td>\n",
       "    </tr>\n",
       "    <tr>\n",
       "      <th>2</th>\n",
       "      <td>Follows a pig whose family's mission is to col...</td>\n",
       "      <td>(Comedy, Kids)</td>\n",
       "      <td>(Comedy,)</td>\n",
       "    </tr>\n",
       "    <tr>\n",
       "      <th>3</th>\n",
       "      <td>In honor of the 2018 World Cup, this season of...</td>\n",
       "      <td>(Kids, Sci-Fi, Sports, Super Power)</td>\n",
       "      <td>(Kids, Sports)</td>\n",
       "    </tr>\n",
       "    <tr>\n",
       "      <th>4</th>\n",
       "      <td>Fairies living in a fluffy forest, where both ...</td>\n",
       "      <td>(Fantasy, Kids)</td>\n",
       "      <td>(Comedy, Kids)</td>\n",
       "    </tr>\n",
       "    <tr>\n",
       "      <th>...</th>\n",
       "      <td>...</td>\n",
       "      <td>...</td>\n",
       "      <td>...</td>\n",
       "    </tr>\n",
       "    <tr>\n",
       "      <th>9189</th>\n",
       "      <td>The Konohagakure Grand Sports Festival has beg...</td>\n",
       "      <td>(Action, Comedy, Fantasy, Other, Shounen, Sports)</td>\n",
       "      <td>(Action, Adventure, Comedy, Other, Shounen, Sp...</td>\n",
       "    </tr>\n",
       "    <tr>\n",
       "      <th>9190</th>\n",
       "      <td>Special bundled with the Blu-ray/DVD volume of .</td>\n",
       "      <td>(Ecchi,)</td>\n",
       "      <td>(Comedy,)</td>\n",
       "    </tr>\n",
       "    <tr>\n",
       "      <th>9191</th>\n",
       "      <td>According to the official Hobby Japan website,...</td>\n",
       "      <td>(Comedy, Ecchi, Fantasy, Parody)</td>\n",
       "      <td>(Comedy,)</td>\n",
       "    </tr>\n",
       "    <tr>\n",
       "      <th>9192</th>\n",
       "      <td>A series of comedic shorts featuring chibi ver...</td>\n",
       "      <td>(Adventure, Comedy, Fantasy, Parody)</td>\n",
       "      <td>(Comedy,)</td>\n",
       "    </tr>\n",
       "    <tr>\n",
       "      <th>9193</th>\n",
       "      <td>These shorts, included in the Blu-ray and DVD ...</td>\n",
       "      <td>(Comedy, Seinen, Slice of Life)</td>\n",
       "      <td>(Comedy,)</td>\n",
       "    </tr>\n",
       "  </tbody>\n",
       "</table>\n",
       "<p>9194 rows × 3 columns</p>\n",
       "</div>"
      ],
      "text/plain": [
       "                                               Synopsis  \\\n",
       "0     Sometime in the future, the world was complete...   \n",
       "1     Set in 2014, the anime follows the adventures ...   \n",
       "2     Follows a pig whose family's mission is to col...   \n",
       "3     In honor of the 2018 World Cup, this season of...   \n",
       "4     Fairies living in a fluffy forest, where both ...   \n",
       "...                                                 ...   \n",
       "9189  The Konohagakure Grand Sports Festival has beg...   \n",
       "9190   Special bundled with the Blu-ray/DVD volume of .   \n",
       "9191  According to the official Hobby Japan website,...   \n",
       "9192  A series of comedic shorts featuring chibi ver...   \n",
       "9193  These shorts, included in the Blu-ray and DVD ...   \n",
       "\n",
       "                                          Actual Genres  \\\n",
       "0                                   (Action, Adventure)   \n",
       "1                                             (Comedy,)   \n",
       "2                                        (Comedy, Kids)   \n",
       "3                   (Kids, Sci-Fi, Sports, Super Power)   \n",
       "4                                       (Fantasy, Kids)   \n",
       "...                                                 ...   \n",
       "9189  (Action, Comedy, Fantasy, Other, Shounen, Sports)   \n",
       "9190                                           (Ecchi,)   \n",
       "9191                   (Comedy, Ecchi, Fantasy, Parody)   \n",
       "9192               (Adventure, Comedy, Fantasy, Parody)   \n",
       "9193                    (Comedy, Seinen, Slice of Life)   \n",
       "\n",
       "                                       Predicted Genres  \n",
       "0                                  (Adventure, Fantasy)  \n",
       "1                               (Comedy, Slice of Life)  \n",
       "2                                             (Comedy,)  \n",
       "3                                        (Kids, Sports)  \n",
       "4                                        (Comedy, Kids)  \n",
       "...                                                 ...  \n",
       "9189  (Action, Adventure, Comedy, Other, Shounen, Sp...  \n",
       "9190                                          (Comedy,)  \n",
       "9191                                          (Comedy,)  \n",
       "9192                                          (Comedy,)  \n",
       "9193                                          (Comedy,)  \n",
       "\n",
       "[9194 rows x 3 columns]"
      ]
     },
     "metadata": {},
     "output_type": "display_data"
    },
    {
     "data": {
      "application/vnd.microsoft.datawrangler.viewer.v0+json": {
       "columns": [
        {
         "name": "index",
         "rawType": "int64",
         "type": "integer"
        },
        {
         "name": "Synopsis",
         "rawType": "object",
         "type": "string"
        },
        {
         "name": "Actual Genres",
         "rawType": "object",
         "type": "unknown"
        },
        {
         "name": "Predicted Genres",
         "rawType": "object",
         "type": "unknown"
        }
       ],
       "conversionMethod": "pd.DataFrame",
       "ref": "a8c33cab-2ac5-4b90-b3b8-01da2021de2e",
       "rows": [
        [
         "0",
         "Shuramaru is hated and feared by the villagers for his unusual powers. He thinks he is human, but... is he?  (Source: AniDB)",
         "('Supernatural',)",
         "()"
        ],
        [
         "1",
         "The daily life of the Motsumoto family. The three sisters, Fuu, Suu, and Chii, follow what happens on a daily basis. Mother and Father have to deal with them sometimes, but they're used to it.",
         "('Comedy', 'Slice of Life')",
         "('Comedy',)"
        ],
        [
         "2",
         "The Soul Tree, the great source of our race.  But for its ultimate power and by those whose minds were blinded by it, it also became the catastrophic cause that had brought never-ending wars between the tribes. Tortured by the agonies of the wars, the leaders of the tribes finally came to a peace agreement that they would instead open a competition. Players, equipped with special watches and shields, compete against each other as winner’s tribe would be awarded with Materion, the sacred fruit of the Soul Tree.  These brave players, who throw themselves in this fierce fight, we call them the Runningman.  (Source: Official YouTube Channel)",
         "('Action', 'Adventure', 'Kids')",
         "('Action', 'Adventure', 'Fantasy', 'Kids', 'Other')"
        ],
        [
         "3",
         "Himeno Mimika is a daughter of historical cook family. She goes to a cooking school, Miracle Academy which train cooks all over the world. Vying with rivals, she brings out her gift, and she grows up as a cook.  (Source: AnimeNfo)",
         "('Kids', 'Other', 'Slice of Life')",
         "('Comedy',)"
        ],
        [
         "4",
         "The third generation of J SOUL BROTHERS from EXILE TRIBE is reimagined as 7 unique and diverse characters in \"KICK & SLIDE\". This is a slapstick story where the characters solve difficult cases!? and rare cases!? that occur in the colorful and pop vibrant city \"Nakame Town\" with dance and music.  (Source: Official website)",
         "('Kids', 'Music')",
         "('Comedy', 'Kids', 'Music')"
        ],
        [
         "5",
         "A prequel TV series setting up for the feature film.  G.G. Bond's father while exploring ruins gets sucked into a dimension of evil through the Dark Gate. He is bestowed power and knowledge and becomes corrupted as the King of Darkness. Ancient monsters are sent through the cracks of the gate to attack G.G. Bond and his team as the 5 elemental powers are stronger than the King of Darkness. By weakening the team, only then can the King of Darkness forcibly open the gate to unless a reign of terror on the Fairy Tale world.",
         "('Kids', 'Sci-Fi', 'Super Power')",
         "('Action', 'Adventure', 'Fantasy', 'Kids')"
        ],
        [
         "6",
         "The offensive and defensive battles between Nobuo, an office worker, and Chi-Sui Maru, a mosquito.",
         "('Comedy',)",
         "('Comedy',)"
        ],
        [
         "7",
         "This Korean and Chinese co-production series focuses on Tao, a young boy with magical powers, as he attends school to become a wizard. Each episode was composed of two stories.  (Source: Wiki)",
         "('Kids',)",
         "('Fantasy', 'Kids')"
        ],
        [
         "8",
         "Matsuri Kazamaki and Suzu Kanade are childhood friends, bonded by their shared ability to see ayakashi—youkai in search of a life force to devour. However, in high school, their relationship deteriorates. As Suzu's one-sided feelings are growing, so is the difference in their ayakashi views: Matsuri considers all ayakashi a threat to his friend, while Suzu is an ayakashi medium—someone who exudes a significant amount of life force compared to the average human—and loves them all despite the risk.  When the two stumble upon a talking white cat named Shirogane, they are unaware that it is a four-hundred-year-old ayakashi known as the \"King of Ayakashi.\" He is hell-bent on gaining even more power by devouring Suzu, but as Matsuri swoops in to try and save her by sealing Shirogane's powers, the ayakashi uses a jutsu to turn him into a girl instead!  Matsuri vows to protect Suzu from further harm as her best friend, but he must learn how to act like a girl until his grandfather—a famous wind jutsu exorcist ninja—can undo the jutsu. Meanwhile, Suzu must work out her romantic feelings for Matsuri now that he is no longer a boy. But when Matsuri takes the king as his pet, the future of the two friends seems uncertain.  ",
         "('Action', 'Comedy', 'Ecchi', 'Romance', 'Shounen')",
         "('Comedy', 'Drama', 'Ecchi', 'Fantasy', 'Harem', 'Romance', 'School', 'Shoujo', 'Supernatural')"
        ],
        [
         "9",
         "The 3rd continuation of NTV's ZIP! anime parody shorts. This one focuses on . Like with the previous season, occasionally the Gatchaman team and now the Mazinger Z team show up in some episodes.",
         "('Comedy', 'Parody')",
         "('Comedy',)"
        ],
        [
         "10",
         "Say hi to Tayo's new friend - Titipo! Train Center's new born little train Titipo has just passed the driving examination and is prepared to work at the Train Village. Although Titipo dreams of becoming the best train in the world, his curious yet random personality catches him in unforeseen events and troubles everyday. Titipo expands his experience in the greater world and befriends Genie, Diesel, and other little trains. Will Titipo achieve his dream of becoming the best train? Come join the railroad journey and meet Titipo and the little train friends.  (Source: Official YouTube channel)",
         "('Kids', 'Other')",
         "('Kids', 'Slice of Life')"
        ],
        [
         "11",
         "At Ruby's house, a small event related to the main plot of each episode occurs, before a red jewellery on the chest of Choco, Ruby's Teddy bear, flashes with a melody. Ruby then takes Choco to her room, and the two 'transport' themselves to the Rainbow Village. There, Ruby hears an explanation from Ling Ling, the mayor of Rainbow Village, and transforms herself using her Rainbow Roller into an appropriate clothing to solve problems. Each episode concludes, back home, with another small event.  (Source: AniDB) ",
         "('Fantasy', 'Kids')",
         "('Comedy', 'Kids')"
        ],
        [
         "12",
         "The series follows Officer Black Cat's adventures around the forest neighbourhood, apprehending criminals, dealing justice, and solving crimes.",
         "('Action', 'Adventure', 'Comedy', 'Kids', 'Other')",
         "('Comedy',)"
        ],
        [
         "13",
         "The anime is set on the titular Musical Note Island, where the god of music is said to reside. The island is home to \"instrument animals,\" who are born from music energy, and have parts of their body composed of a musical instrument. One day, a witch arrives at the island. The warrior girl Cara must go on a journey to defeat the witch and win back the peace on the island.  (Source: ANN)",
         "('Adventure', 'Fantasy', 'Kids')",
         "('Adventure', 'Fantasy')"
        ],
        [
         "14",
         "While it may seem like a mere depiction of everyday life, The Sound of Your Heart is a comedy filled to the brim with wit, sarcasm, and parody. It gives no regard for the probable or realistic- it is a series of absurd situations that is sure to get a laugh out of every reader willing to suspend their sense of reality.  (Source: LINE Webtoon)",
         "('Comedy', 'Slice of Life')",
         "('Comedy', 'Slice of Life')"
        ],
        [
         "15",
         "The anime will follow two units from the Vazzrock series—Vazzy and Rock Down.",
         "('Music',)",
         "('Comedy',)"
        ],
        [
         "16",
         "The anime's story centers on a cat named Maru, adopted by a girl named Anna from a shelter in Matsuyama city. Loved and well fed by the family, Maru gets rounder and fatter every day, spending most of his day sitting by the window and looking at the garden outside. When the family gets a new cat named Cerisier and begins doting on it, Maru gets jealous. In a fight with Cerisier, Maru is hurt by the family's words to him, and follows the advice of another cat to leave and see the world.  (Source: ANN)",
         "('Slice of Life',)",
         "('Comedy',)"
        ],
        [
         "17",
         "The story centers on the Seven Gods of Fortune in Japanese mythology as they reside on Awaji Island in Hyogo. In the shorts' story, the Seven Gods of Fortune slack in their duties in heaven, and Susanoo-no-Mikoto banishes them to Awaji Island. In order to return to the heavenly realm, they must help bring happiness to humans and rebuild their virtue. The outcast gods reluctantly grant human wishes and accumulate points in their \"god phones\" to be able to return to heaven. They aim to perform good deeds on particularly auspicious days to maximize point accumulation. Despite their best efforts at accumulating virtue, sometimes the Seven Gods of Fortune end up bringing misfortune to humans. When they fail, they lose points, further prolonging their stay on Awaji Island.  (Source: ANN)",
         "('Comedy', 'Kids', 'Supernatural')",
         "('Action', 'Adventure', 'Fantasy', 'Supernatural')"
        ],
        [
         "18",
         "is a spin-off-series of Mecard, based on the idea that dinosaurs didn't become extinct 65 million years ago, but transformed into mecanimals. Its characters don't have any relations to the cast from , and .  (Source: Gonglyong Mecard Wikia)",
         "('Adventure', 'Kids', 'Mecha', 'Other')",
         "('Comedy', 'Kids')"
        ],
        [
         "19",
         "Yuuichi Katagiri has battled financial hardships his whole life but has learned to stay content and positive thanks to his close circle of friends. To keep a promise he made to them, Yuuichi saves up enough money to join them on the school trip. But when the gathered money mysteriously goes missing, suspicion falls on two of Yuuichi's friends: Shiho Sawaragi and Makoto Shibe, who were in charge of collecting the payments. Although innocent, Shiho and Makoto take responsibility for the failure to protect the money when no one else comes forward.  A few days later, Yuuichi and his friends receive mysterious letters which trick each of them into meeting up. Upon arrival, they are ambushed and knocked unconscious. They wake up in a mysterious room in the presence of \"Manabu-kun,\" a character from a controversial children's show that stopped airing due to its malicious content. He informs the group that one of them indirectly gathered them together in order to settle a large debt. They are to play a \"friendship game\": a series of games that will test the strength of their bond and trust in each other. As the group's faith wavers due to the growing number of secrets and betrayals, Yuuichi must figure out who of his \"friends\" he can actually trust and ultimately discover the identity of the traitor.  ",
         "('Other', 'Shounen')",
         "('Action', 'Adventure', 'Drama', 'Fantasy', 'Harem', 'Historical', 'Horror', 'Mystery', 'Other', 'Romance', 'School', 'Sci-Fi', 'Seinen', 'Shoujo', 'Shounen', 'Super Power', 'Supernatural')"
        ],
        [
         "20",
         "Shorts about root vegetables from the refrigerator who try to act like superheroes.",
         "('Comedy',)",
         "('Comedy',)"
        ],
        [
         "21",
         "The Geisha Tokyo Entertainment company has announced on Wednesday it is producing and airing Sakuran Boy DT, \"Japan's first\" Flash-animated television series about a local costumed hero character. The name of the character is a wordplay on the Japanese translation for \"cherry boy\" — the Japanese slang for a male virgin — and the Sakuranbo television station in the northeastern Japanese city of Yamagata. The story revolves around Satou-kun, an ordinary high school boy who transforms into Sakuran Boy DT to rescue the mayor's daughter from the nefarious secret society Zaou. Sakuranbo has posted a trailer online, and the 11 five-minute weekly episodes will premiere on this station on January 14.",
         "('Comedy', 'Super Power')",
         "('Comedy',)"
        ],
        [
         "22",
         "On a whim, first-year Ayumu Tanaka quits the Kendo Club to join the illegitimate Shogi Club. Urushi Yaotome, the president of the club and a master of shogi, is thrilled to finally have a playing partner. As Ayumu's upperclassman, Urushi endeavors to be his shogi mentor and student role model. Too often, however, she finds herself blushing with embarrassment! Stone-faced and honest, Ayumu sees no issue with calling Urushi \"cute.\" Although Ayumu likes her, he refrains from confessing and promises himself to first beat her in a game of shogi.  Through school life and shogi games, the two students have many hilarious and heart-warming adventures. Ayumu enjoys every second with Urushi, but he is still a long way from beating her in shogi. With the commitment he made to himself, will Ayumu ever get the chance to confess his feelings to Urushi?  ",
         "('Comedy', 'Romance', 'School', 'Shounen', 'Slice of Life')",
         "('Comedy', 'Drama', 'Ecchi', 'Hentai', 'Music', 'Romance', 'School', 'Shounen', 'Slice of Life')"
        ],
        [
         "23",
         "On a distant southern island, a fish (sakana) opened its mouth for a cat (neko), thus \"nekozakana\" (cat-fish) is born.  (Source: ANN)",
         "('Comedy', 'Kids')",
         "('Comedy',)"
        ],
        [
         "24",
         "On February 29, 2000, the Möbius meteorites fell on Earth. These meteorites brought a new form of matter known as Möbius Dust to Earth. The dust permeated Earth's atmosphere, leading to a miracle. The day the meteorites fell, nicknamed \"2.29,\" accelerated the economic disparity in Japan.  Before long, the Bloody War Alliance, discontent with this disparity, began committing acts of terrorism. Amidst all this, the police established the anti-RC special mobile unit and a joint anti-RC training school for the initial training of the unit members.  (Source: ANN)",
         "('Action', 'Kids', 'Other')",
         "('Action', 'Drama', 'Mecha', 'Other', 'Sci-Fi')"
        ],
        [
         "25",
         "Cute yet mighty! Mini animal rangers transform into super power Force-Bot to save endangered friends! In the ruthless world of animals, big strong animals dominate and feed on the small and weak. To buck this natural system, small animals form a secret organization \"MINIFORCE.\" Rigidly selected mutants with special powers: Volt, Sammy, Lucy and Max become top secret rangers to save their small village Bluebell from the hand of human villain Nein and his underling lizard Pascal. Animals in danger? No problem! When Force-Gem alerts, it's time to get suit on! With Mini Force and their transforming mechanics, it’s time to sweep! (Source: Samg Animation)",
         "('Action', 'Adventure')",
         "('Action', 'Adventure', 'Fantasy', 'Kids', 'Mecha', 'Sci-Fi')"
        ],
        [
         "26",
         "Coburoux is a prince of Curry Kingdom. Although he is a prince, he goes to the school for common people, and he is treated like other students. In fact, he is scolded by the teacher, is made to stand during class as a punishment, go some errands for a chef, and is teased by a girl whom he loves. He is always worried, and wonders whether the prince should be better. Being surrounded by weird friends and strange people in Curry Kingdom, he spends worrying days.  (Source: AnimeNfo)",
         "('Comedy',)",
         "('Comedy', 'Hentai', 'Romance', 'School')"
        ],
        [
         "27",
         "A short anime about Taeko Shinbou who is an office worker that is patient with everything and greets everything that comes her way with cheer. An announcement was made that a \"regular person\" from Kantou will voice Taeko rather than an industry professional.  (Source: ANN)",
         "('Slice of Life',)",
         "('Comedy',)"
        ],
        [
         "28",
         "No synopsis information has been added to this title. Help improve our database by adding a synopsis .",
         "('Demons', 'Horror', 'Parody')",
         "('Comedy',)"
        ],
        [
         "29",
         "Urobe was a son of the great chief of Pyrimi, Africa. One day he hung on an airplane and came to Japan. Because of the cold and hunger, he fell on to the yard of Shishio’s house, and Shishio nursed him. Kurobe was very thankful for him and began to repay for his kindness. Kurobe dug a big hole in the yard.Every time he returns the favor, he threw a stone into the hole until stones would fill the hole.  (Source: ANN)",
         "('Comedy',)",
         "()"
        ],
        [
         "30",
         "These are witches who defend everyone's smiles and fight enemies through the healing power of music. These witches, opposite of those in the defense fleet, are idols known as the Music Squadron.  (Source: MAL News)",
         "('Ecchi', 'Military', 'Music', 'Sci-Fi')",
         "('Action',)"
        ],
        [
         "31",
         "It is the time of civil war. Zipangu is a country where people live together with gimmick warriors, a kind of super human robot. There, people and gimmick warriors struggle to seize power. Musashi, a Samurai gimmick warrior, departs to on a quest to become the best Samurai warrior. Musashi thrives in the series of battles, encountering with many heroes and villains including his lifelong rival, Kojiro, an expert swordsman.Later, Mushashi and Kojiro are sent by their General to escort the Princess, a granddaughter of the general. The princess is spoiled and difficult, so their journey becomes series of misadventures. Soon, they are caught up in a battle to seize control of the Country.",
         "('Action', 'Adventure', 'Mecha')",
         "('Action', 'Adventure', 'Fantasy', 'Historical', 'Mecha', 'Other', 'Sci-Fi', 'Shounen')"
        ],
        [
         "32",
         "A stop-motion anime using beaded characters. Here a magician rabbits solve problems by using magic.",
         "('Kids',)",
         "('Comedy',)"
        ],
        [
         "33",
         "Jim Button and his best friend Luke live on an island. When Luke has to leave the island Jim decides to go with him. when they leave they don't have a clue about the hidden dangers in the world. while traveling they learn that a young princess name Lisi was captured by pirates whom brought her to Sorrowland. The evil and dangerous dragon miss. Grindtooth rules in that land. Jim and Luke decide to go to Sorrowland to save princess Lisi.",
         "('Adventure', 'Fantasy', 'Kids')",
         "('Action', 'Adventure', 'Comedy', 'Fantasy')"
        ],
        [
         "34",
         "In a Tokyo suburb small town, there lives a girl named Nekota Kaoru. Being born into a normal family, being raised in a normal way, this spring she'll become a normal happy middle-schooler.  However, since young age, Nekota had an abnormal ability to see Imadoki youkai (Modern Monster). And she has kept it a secret from others...",
         "('Fantasy', 'Kids', 'School', 'Slice of Life')",
         "()"
        ],
        [
         "35",
         "Grandpa Danger is a world where the great protector is Grandpa Danger! He's an expert at falling off of cliffs, dealing with a principal who suffers from a severe inferiority complex, and escaping the hidden dangers of sleep! He's a nonsensical, utterly disgusting, relentless prankster. Grandpa Danger's excessive phlegm and farts frustrate Grandson to hilarious extremes, and make you laugh until your stomach splits!  (Source: AniDB)",
         "('Comedy', 'Kids')",
         "('Comedy',)"
        ],
        [
         "36",
         "The new Nukko. anime is an adolescent school story revolving around Nukko and Nukko's slightly(?) oddball friends.  (Source: ANN)",
         "('Comedy',)",
         "('Comedy',)"
        ],
        [
         "37",
         "In the city of Fuuto, criminals make use of USB-like devices called \"Gaia Memories\" to turn themselves into superpowered monsters known as \"Dopants,\" wreaking havoc in the otherwise peaceful city. However, there are also heroes who utilize the Gaia Memories to fight these criminals, one of whom is the self-proclaimed, hard-boiled detective Shoutarou Hidari. With the help of his witty partner Philip, the two transform into Kamen Rider W—the legendary hero of Fuuto city.  After the fall of Museum—the evil organisation responsible for many crimes in Fuuto—the production and distribution of Gaia Memories has halted. However, remnants of Gaia Memories still remain within society and are sold in the black market at high prices. Thus, the two heroes from Narumi Detective Agency are yet to have time to relax. Sights of Dopants still occur and the agency receives more and more clients who claim to experience supernatural phenomena.  Regardless of the arduous nature of the task, Kamen Rider W promises that those who hurt Fuuto will inevitably count up their sins.  ",
         "('Action', 'Drama', 'Mystery', 'Other', 'Seinen', 'Supernatural')",
         "('Action', 'Adventure', 'Comedy', 'Drama', 'Mystery', 'Other', 'Sci-Fi', 'Seinen', 'Shounen', 'Super Power', 'Supernatural')"
        ],
        [
         "38",
         "A young boy has adventures with his transforming car.",
         "('Kids', 'Other')",
         "('Comedy',)"
        ],
        [
         "39",
         "Kikuru Madan, is a monster hunter with excellent performance, because of his particular job in the forest, but he decided to quit it because of fear wasting his own youth...  (Source: LHTranslation)",
         "('Comedy', 'Ecchi', 'Fantasy', 'Harem', 'Shounen')",
         "('Comedy',)"
        ],
        [
         "40",
         "Norakuro is a black dog enlisted in the \"Mokenrentai\" (Fierce Dog Brigade), an Imperial army of dogs fighting in a war against the enemy Monkey Army.  Norakuro is a stray black-and-white dog in an army of white dogs who blundered his way while being a Private Second-Class.  This serieswas relatively faithful to the comics. One big change, however, was the addition of the army nurse Miko, whom Norakuro had a crush on. For this series, Norakuro was voiced by Nobuyo Ooyama, who would later become noted for voicing Doraemon.  (Source: Cartoon Research)",
         "('Comedy',)",
         "('Comedy',)"
        ],
        [
         "41",
         "Corporate secretary Shirotani suffers from obsessive-compulsive disorder. One day he meets Kurose, a therapist who offers to take him through a ten-step program to cure him of his compulsion. As the two go through each of the ten steps, Shirotani 's attraction to his counselor grows.  (Source: SuBLime)",
         "('Drama', 'Other', 'Romance')",
         "()"
        ],
        [
         "42",
         "The anime follows a boy named Gen, who time travels from the year 2020 to a distant future where humanity has gone extinct. He begins staying at the Ganko family home in the Rustling Forest, where he has none of the amenities he is used to: no electricity, gas, or running water, as well as no television, smartphones, convenience stores, snacks, or games.  (Source: ANN)",
         "('Comedy', 'Kids', 'Sci-Fi')",
         "('Adventure', 'Kids', 'Sci-Fi')"
        ],
        [
         "43",
         "The series follows the black cat Monroe and the human Yoppy and their \"normal and special everyday lives.\"  (Source: ANN)",
         "('Comedy',)",
         "('Comedy',)"
        ],
        [
         "44",
         "G.G. Bonds enters the realm of dreams to stop evil's power from growing. They must get the citizens of Crystal City to remember their dreams so that the 5 element powers can recharge.",
         "('Kids', 'Sci-Fi', 'Super Power')",
         "()"
        ],
        [
         "45",
         "It follows the daily life of Kotetsu-kun, who aspires to be an astronaut, and friends at the Animal Space Academy as they all pursue their dreams.  (Source: ANN)",
         "('Comedy', 'Other')",
         "('Comedy', 'Slice of Life')"
        ],
        [
         "46",
         "The story centers around a mysterious tall tower built from an (unsteady) stack of building blocks. Every morning, noon, and evening, an old timekeeping man rings the bell in the tower to confirm the time for the local townspeople. However, one day at noon, the tower bell fails to ring — leaving the townspeople confused about when to eat lunch. The fantasy adventure begins when Karl, an inquisitive boy living in the town, decides to go to the tower's plaza to see what is the matter.  (Source: ANN)",
         "('Adventure', 'Fantasy', 'Kids', 'Mystery')",
         "()"
        ],
        [
         "47",
         "WHO'S YOUR NANNY?  Tooru Kirishima is the right-hand man of the Sakuragi crime family. For him, the job is a perfect excuse to let his violent instincts run wild, earning him the nickname \"The Demon of Sakuragi.\" It seems like nothing will stand in the way of his vicious nature. But then one day, he receives an assignment like never before from the boss—babysitting his daughter!  This is the heartwarming (or is it bloodcurdling?) story of a little girl and her yakuza caretaker!  (Source: Kaiten Books, edited)",
         "('Comedy', 'Slice of Life')",
         "('Comedy', 'Hentai', 'Slice of Life')"
        ],
        [
         "48",
         "The story is set in the near future.  'Hyper Sports' became a hobby competitions that is popular with children and adults alike. Hiyori Hayama is an high school singer who has nothing to do with Hyper Sports. However, the story begins to be set in motion after a certain incident and encounter.  \"This is the story about how we met our best friends.\"  (Source: MAL News)",
         "('Music', 'Sports')",
         "()"
        ],
        [
         "49",
         "Three girls come from another planet to save the mistreated animals of planet Earth. Black cat Amiru, squirrel Rumi, and rabbit Rie all make their way to Earth but Rie crashes her UFO! Lucky Amiru and Rumi run into Earth girl Minami and together set out to conquer the world!  (Source: Tokyo Otaku Mode)",
         "('Comedy',)",
         "('Adventure', 'Comedy', 'Sci-Fi')"
        ]
       ],
       "shape": {
        "columns": 3,
        "rows": 1139
       }
      },
      "text/html": [
       "<div>\n",
       "<style scoped>\n",
       "    .dataframe tbody tr th:only-of-type {\n",
       "        vertical-align: middle;\n",
       "    }\n",
       "\n",
       "    .dataframe tbody tr th {\n",
       "        vertical-align: top;\n",
       "    }\n",
       "\n",
       "    .dataframe thead th {\n",
       "        text-align: right;\n",
       "    }\n",
       "</style>\n",
       "<table border=\"1\" class=\"dataframe\">\n",
       "  <thead>\n",
       "    <tr style=\"text-align: right;\">\n",
       "      <th></th>\n",
       "      <th>Synopsis</th>\n",
       "      <th>Actual Genres</th>\n",
       "      <th>Predicted Genres</th>\n",
       "    </tr>\n",
       "  </thead>\n",
       "  <tbody>\n",
       "    <tr>\n",
       "      <th>0</th>\n",
       "      <td>Shuramaru is hated and feared by the villagers...</td>\n",
       "      <td>(Supernatural,)</td>\n",
       "      <td>()</td>\n",
       "    </tr>\n",
       "    <tr>\n",
       "      <th>1</th>\n",
       "      <td>The daily life of the Motsumoto family. The th...</td>\n",
       "      <td>(Comedy, Slice of Life)</td>\n",
       "      <td>(Comedy,)</td>\n",
       "    </tr>\n",
       "    <tr>\n",
       "      <th>2</th>\n",
       "      <td>The Soul Tree, the great source of our race.  ...</td>\n",
       "      <td>(Action, Adventure, Kids)</td>\n",
       "      <td>(Action, Adventure, Fantasy, Kids, Other)</td>\n",
       "    </tr>\n",
       "    <tr>\n",
       "      <th>3</th>\n",
       "      <td>Himeno Mimika is a daughter of historical cook...</td>\n",
       "      <td>(Kids, Other, Slice of Life)</td>\n",
       "      <td>(Comedy,)</td>\n",
       "    </tr>\n",
       "    <tr>\n",
       "      <th>4</th>\n",
       "      <td>The third generation of J SOUL BROTHERS from E...</td>\n",
       "      <td>(Kids, Music)</td>\n",
       "      <td>(Comedy, Kids, Music)</td>\n",
       "    </tr>\n",
       "    <tr>\n",
       "      <th>...</th>\n",
       "      <td>...</td>\n",
       "      <td>...</td>\n",
       "      <td>...</td>\n",
       "    </tr>\n",
       "    <tr>\n",
       "      <th>1134</th>\n",
       "      <td>Specials included in the OVA of Hyakujitsu no ...</td>\n",
       "      <td>(Other, Parody)</td>\n",
       "      <td>(Comedy,)</td>\n",
       "    </tr>\n",
       "    <tr>\n",
       "      <th>1135</th>\n",
       "      <td>DVD/BD specials featuring two female cast memb...</td>\n",
       "      <td>(Ecchi, Seinen)</td>\n",
       "      <td>(Comedy,)</td>\n",
       "    </tr>\n",
       "    <tr>\n",
       "      <th>1136</th>\n",
       "      <td>As college entrance examinations draw near, tw...</td>\n",
       "      <td>(School, Slice of Life)</td>\n",
       "      <td>(Comedy, Romance, School, Slice of Life)</td>\n",
       "    </tr>\n",
       "    <tr>\n",
       "      <th>1137</th>\n",
       "      <td>Two special episodes of included on Blu-ray. 1...</td>\n",
       "      <td>(Ecchi, Slice of Life)</td>\n",
       "      <td>(Comedy,)</td>\n",
       "    </tr>\n",
       "    <tr>\n",
       "      <th>1138</th>\n",
       "      <td>The Future Foundation is in shambles after the...</td>\n",
       "      <td>(Action, Horror, Mystery, Other)</td>\n",
       "      <td>(Action, Adventure, Drama, Fantasy, Other, Sci...</td>\n",
       "    </tr>\n",
       "  </tbody>\n",
       "</table>\n",
       "<p>1139 rows × 3 columns</p>\n",
       "</div>"
      ],
      "text/plain": [
       "                                               Synopsis  \\\n",
       "0     Shuramaru is hated and feared by the villagers...   \n",
       "1     The daily life of the Motsumoto family. The th...   \n",
       "2     The Soul Tree, the great source of our race.  ...   \n",
       "3     Himeno Mimika is a daughter of historical cook...   \n",
       "4     The third generation of J SOUL BROTHERS from E...   \n",
       "...                                                 ...   \n",
       "1134  Specials included in the OVA of Hyakujitsu no ...   \n",
       "1135  DVD/BD specials featuring two female cast memb...   \n",
       "1136  As college entrance examinations draw near, tw...   \n",
       "1137  Two special episodes of included on Blu-ray. 1...   \n",
       "1138  The Future Foundation is in shambles after the...   \n",
       "\n",
       "                         Actual Genres  \\\n",
       "0                      (Supernatural,)   \n",
       "1              (Comedy, Slice of Life)   \n",
       "2            (Action, Adventure, Kids)   \n",
       "3         (Kids, Other, Slice of Life)   \n",
       "4                        (Kids, Music)   \n",
       "...                                ...   \n",
       "1134                   (Other, Parody)   \n",
       "1135                   (Ecchi, Seinen)   \n",
       "1136           (School, Slice of Life)   \n",
       "1137            (Ecchi, Slice of Life)   \n",
       "1138  (Action, Horror, Mystery, Other)   \n",
       "\n",
       "                                       Predicted Genres  \n",
       "0                                                    ()  \n",
       "1                                             (Comedy,)  \n",
       "2             (Action, Adventure, Fantasy, Kids, Other)  \n",
       "3                                             (Comedy,)  \n",
       "4                                 (Comedy, Kids, Music)  \n",
       "...                                                 ...  \n",
       "1134                                          (Comedy,)  \n",
       "1135                                          (Comedy,)  \n",
       "1136           (Comedy, Romance, School, Slice of Life)  \n",
       "1137                                          (Comedy,)  \n",
       "1138  (Action, Adventure, Drama, Fantasy, Other, Sci...  \n",
       "\n",
       "[1139 rows x 3 columns]"
      ]
     },
     "metadata": {},
     "output_type": "display_data"
    },
    {
     "data": {
      "application/vnd.microsoft.datawrangler.viewer.v0+json": {
       "columns": [
        {
         "name": "index",
         "rawType": "int64",
         "type": "integer"
        },
        {
         "name": "Synopsis",
         "rawType": "object",
         "type": "string"
        },
        {
         "name": "Actual Genres",
         "rawType": "object",
         "type": "unknown"
        },
        {
         "name": "Predicted Genres",
         "rawType": "object",
         "type": "unknown"
        }
       ],
       "conversionMethod": "pd.DataFrame",
       "ref": "dcccd001-2e0c-4d5b-af1a-8550b638fc0f",
       "rows": [
        [
         "0",
         "The story begins 15 years after the demon king was defeated and the world has become peaceful. Kotone, who graduated from school and became a magician, inquired about the kingdom-affiliated RPG Real Estate in order to find a new home. In reality, RPG Real Estate was Kotone's place of employment, and together with Fa, a demi-human, the priest Rufuria, and the soldier Rakira, they help support the searches of new homes for the customers with various circumstances.  (Source: MU, edited)",
         "('Comedy', 'Fantasy', 'Slice of Life')",
         "('Adventure', 'Fantasy')"
        ],
        [
         "1",
         "A cyborg warrior from an ancient Antarctic kingdom awakes 30000 years later from an accidental hibernation to find the Earth changed and an old alien enemy on the verge of invasion. It's up to Guyslugger to use his ancient technology to defeat the aliens.  (Source: AniDB)",
         "('Action', 'Mecha', 'Sci-Fi')",
         "('Action', 'Adventure', 'Sci-Fi')"
        ],
        [
         "2",
         "The story centers on Otarou, a creature themed around dirt known as a yogoremon. It and other yogoremon ask the meaning of words and explain negative terms in positive ways.  (Source: ANN)",
         "('Comedy',)",
         "('Comedy', 'Slice of Life')"
        ],
        [
         "3",
         "An elite soldier, whose nickname is God of Death, is transferred to another unit known as the PaPaRa Army. The PaPaRa Army is infamous for its elite but hilariously crazy members. There is no plot to speak of other than humour, hilarious brutality, and general nonsense. This is also Matsuzawa-sensei's debut work.",
         "('Action', 'Adventure', 'Comedy', 'Romance', 'Sci-Fi')",
         "('Action', 'Comedy')"
        ],
        [
         "4",
         "Based on the real life-story of Pink Lady, a female pop duo that rose to superstardom in the mid-1970's.  (Source: ANN)",
         "('Drama', 'Music', 'Slice of Life')",
         "('Comedy',)"
        ],
        [
         "5",
         "The third show in the Virtual Trilogy, a mix of anime and live action shots.  In the beginning of the 22nd century society advanced rapidly. Now even children are able to become real doctors, a task before that took two and a half decades to achieve. And nanomachines became prevalent to fight disease. Keita is a Nanosaver, a child doctor who uses the virtual world to apply life saving techniques by entering the body and treating the patients in a virtual medical station (VMS). As more and more patients are taken in, various mysterious are uncovered about them.  In the second half of the anime, a small Ethanarian alien and galactic federation is introduced.",
         "('Adventure', 'Shounen')",
         "('Action', 'Adventure', 'Drama', 'Other', 'Sci-Fi')"
        ],
        [
         "6",
         "The gag anime takes place at a school for youkai and other supernatural beings. A vampire named Rakuru transfers to the school from the West, and she tries to change the school as the class representative.",
         "('Comedy', 'Supernatural')",
         "('Comedy', 'School')"
        ],
        [
         "7",
         "An anime series based on the Gunma Prefecture mascot character, Gunma-chan.  (Source: Anilist)",
         "('Slice of Life',)",
         "('Comedy', 'Kids')"
        ],
        [
         "8",
         "The series revolves around life in Gifu Prefecture in central Japan — as seen through the eyes of Tatekayoko, a female inhabitant who speaks in the dialect of Gifu's Tounou region. The anime will air within the program on Tokyo MX.  (Source: ANN)",
         "('Comedy', 'Kids')",
         "('Comedy',)"
        ],
        [
         "9",
         "Depiction of Japan's economy, based on Shoutarou Ishinomori's epynomous manga.",
         "('Drama', 'Historical', 'Seinen', 'Slice of Life')",
         "('Comedy',)"
        ],
        [
         "10",
         "The second season of . SBS took over broadcasting the show. The art style has been changed for a more modern anime-esque appearance and some voice actors did not reprise their character's roles.",
         "('Kids', 'Sci-Fi')",
         "('Comedy',)"
        ],
        [
         "11",
         "When Nian Chi was a young child, his elder sister was kidnapped in front of him, while he could do nothing but watch, a thing that has tormented him for all these years. Now 10 years later, he's dead set on going to rescue his sister, and sets out.",
         "('Action', 'Adventure', 'Drama', 'Fantasy', 'Historical', 'Other', 'Supernatural')",
         "()"
        ],
        [
         "12",
         "An NHK toddler's anime following cowardly creatures representing typical Halloween monsters like Dracula and a witch.",
         "('Kids',)",
         "('Comedy',)"
        ],
        [
         "13",
         "The anime follows the frogs Kekkero and Ke who try to find their 998 other siblings.  (Source: ANN)",
         "('Comedy',)",
         "('Comedy',)"
        ],
        [
         "14",
         "The 3rd animated season. It follows an entirely new story and new characters unrelated to the previous seasons. The previous seasons metaphorical usage of magic/spirit/chi to visualize yoyo battles has now become literal. The yoyo toys have spirit animals within them and the cast tries to return them to their world before the villains use them for evil purposes.  Leon has an argument with his classmate Gurido for trifle. At the advice of Catherine, Leon and Gurido decide to judge the victory or defeat through yoyo competition. The Daemon Tiger appears when Leon and Gurido begin to fight in the woods. Leon follows Daemon Tiger and work with it. With Daemon Tiger’s help, Leon defeats Gurido.  (Source: Official YouTube channel) ",
         "('Fantasy', 'Kids', 'Other')",
         "('Comedy', 'Fantasy', 'Kids')"
        ],
        [
         "15",
         "Within the nature \"Darwin Kita! Kikimono Shin Densetsu\" program on NHK1.5 airs the short , based on a web manga/comic of the same name. It following animal characters who visit the bar . The bar is run by the Mama who is a Pallas's cat ( ) and serviced by the hostess Tsunomin who is a Brazilian treehopper ( ).",
         "('Slice of Life',)",
         "('Comedy',)"
        ],
        [
         "16",
         "Yuuya, one half of the boy pop duo ZINGS, may be the laziest performer in the Japanese music industry. His partner is out there giving 110% every night (and, thankfully, he's quite popular), but Yuuya's half-assed, sloppy dancing, and his frankly hostile attitude toward the audience, has the fans hating him and his agent looking for any excuse to cut him loose. The career of a pop idol just isn't the path of easy leisure and adulation Yuuya expected...  After a particularly lifeless concert appearance, Yuuya meets a girl backstage. She's dressed to the nines in a colorful outfit, she's full of vim and vigor, and all she wants from life is to perform. There's just one problem: She's been dead for a year. This is the ghost of Asahi Mogami, the beloved singer whose time on the stage was tragically cut short, unless... If ghosts are real, is spirit possession really that much of a stretch?  (Source: Kodansha US) ",
         "('Comedy', 'Music', 'Other', 'Supernatural')",
         "('Comedy', 'Drama', 'Music', 'Other', 'Romance', 'School', 'Shoujo')"
        ],
        [
         "17",
         "Based on the gag manga by Fujio A Fujiko.",
         "('Comedy', 'Slice of Life')",
         "('Comedy',)"
        ],
        [
         "18",
         "Shorts that feature music note cats. The series premiered on February 22, 2014 on television; the first episode was published on an official YouTube channel that same day.  The whole world is in love with character illustrations of cats, dogs, and bears. A brand-new show, and the first of its kind in Japan, featuring nothing but cat characters for cat lovers started airing in February 2014. A variety of cat characters designed by Japan's topnotch creators and illustrators are animated and they are voiced by popular KAWAII (cute) anime voice actors. This show is a must-see not just for the fans of cat characters but for all anime lovers!  (Source:YouTube)",
         "('Comedy', 'Music')",
         "('Comedy', 'Kids', 'Music', 'Parody', 'Slice of Life')"
        ],
        [
         "19",
         "In the world of magic, there exist deadly irreversible techniques commonly known as spellblades. These sparse and elusive spells, along with their casters, are shrouded in mystery and only their absolute lethality is known to the masses.  Every year, the spring blossom signifies a new intake of students to the prestigious magic school Kimberly. With reactions of awe and bewilderment, a ceremonious parade complete with magical beasts welcomes the newcomers to the institution. Among them is the mysterious Oliver Horn, whose indifference changes to fascination as he notices a peculiar figure—a girl wearing strange attire equipped with a Japanese sword.  From the entrance ceremony onward, Oliver realizes that not all is as it seems at Kimberly, as the emergence of labyrinths, monsters, and other threats endanger the new student body. Nanatsu no Maken ga Shihai suru explores the intertwined fates of two warriors as they uncover the dark truths that lurk within the walls of the academy.  ",
         "('Action', 'Fantasy', 'School')",
         "('Action', 'Demons', 'Drama', 'Ecchi', 'Fantasy', 'Harem', 'Horror', 'Mystery', 'Other', 'Romance', 'School', 'Sci-Fi', 'Seinen', 'Shoujo', 'Shounen', 'Super Power', 'Supernatural')"
        ],
        [
         "20",
         "A short anime that airs within \"Enkame: That's Enka Tainment\" (and enka variety show) program on Asahi TV. It follows a cast of ice cream characters.",
         "('Kids',)",
         "('Comedy',)"
        ],
        [
         "21",
         "The story is set in a world where every event has been turned into programs, and mysterious monsters known as \"Promin\" maintain the world. However, many Promin who have turned into bugs known as \"Bugmin\" are responsible for many of the world's real-life bugs. Left alone, they may eventually turn into a big problem. The boy Yuuto encounters the space dog Wanda, and the pair use a camera-like device and key items to capture Bugmin. Promin themselves are able to do things like \"accelerate objects,\" \"spew fire,\" or \"create objects,\" through an ability known as \"Kamiwaza\" (miracle), and are able to fend off Bugmin with it. At first, the Bugmin only cause small, bothersome things, but it will soon elevate into a global scale threat. Can one boy and one dog save the world?  (Source: ANN)",
         "('Kids', 'Sci-Fi')",
         "('Action', 'Adventure', 'Fantasy', 'Sci-Fi')"
        ],
        [
         "22",
         "The story centers on the everyday life of the cats Suna and Manu, who live in a desert — a desert made of sugar instead of sand.  (Source: ANN)",
         "('Comedy',)",
         "('Comedy',)"
        ],
        [
         "23",
         "Kurumi Mirai is in the first year of high school.  She has enrolled in junior high section of the Redrun Magic School, the world's only facility for mages that approved by International Mage League and able to work under royal families when graduates, and she was always top of the class. However, when she applies for the high school section and took the examination to get into a mage training class \"Ma-gumi (Mage Class)\", she wasn't able to get in in spite having full scores and was top of the class for the whole three years.  There are some students in the class next to her that takes that class. Among that there's someone she admires. How will Kurumi Mirai who has extraordinary brain but didn't get in to be a mage candidate try to overcome and grow up? What is the aim for Minami Suzuki, a loyal mage who suddenly appears to be the homeroom teacher? This is a relaxing story of her growth.  (Source: MAL News)",
         "('Drama', 'Fantasy', 'School', 'Slice of Life')",
         "('Drama', 'Harem', 'Romance', 'School', 'Shoujo', 'Shounen', 'Slice of Life', 'Sports')"
        ],
        [
         "24",
         "Fourth season of .  Now that spring is in the air, the forest animals are back to frolicking amongst the freshly blooming flowers and busy at work planting new trees to add even more color to their luscious home. The bear brothers—Briar and Bramble, and all their friends are having a jolly great time basking in this colorful season; however, from time to time, they stumble across Logger Vick who will not give up. The bears, along with their little friends make it their mission to protect the forest. This always results in a lot of laughter, tears and of course, adventures aplenty!  (Source: Official website)",
         "('Adventure', 'Comedy', 'Kids')",
         "('Adventure', 'Comedy', 'Kids')"
        ],
        [
         "25",
         "The series follows a mysterious but gentle-hearted man named Yasashi Yasamura who spreads warmth and human kindness wherever he goes.  (Source: Crunchyroll)",
         "('Comedy',)",
         "()"
        ],
        [
         "26",
         "A stop-motion comedy drama about sugar cube people from the Meiji era. Specifically it focuses on the father Kakuza who easily succumbs to emotion usually about his 37 year old daughter Touko's newest fiancé who tries to ask for his blessing. He's scared of losing his daughter even though it was his late wife's dying wish to see her as a happy bride.  The show had a very irregular release schedule and by the end of its serialization its title had changed to .",
         "('Comedy', 'Drama', 'Historical', 'Parody')",
         "('Comedy', 'Historical', 'Romance', 'Slice of Life')"
        ],
        [
         "27",
         "As the most powerful entity of all time, the Demon Lord Varvatos thinks life is a big fat snore. When he takes matters into his own hands and decides to reincarnate, he calibrates his magical strength to be perfectly average. But there is no way he could have predicted that everyone in the modern world would be weak as hell, which means he is totally overpowered once again! Reborn under the name Ard, he has ladies fawning over him, the royal family begging him to become the next king, and an ex-minion insisting on killing him?! But Ard has a one-track mind, and he won't stop at anything to achieve his ultimate goal!  (Source: Yen Press)",
         "('Action', 'Fantasy', 'School')",
         "('Action', 'Adventure', 'Comedy', 'Demons', 'Fantasy', 'Hentai', 'Shounen', 'Supernatural')"
        ],
        [
         "28",
         "A dangerous shadow organization launches a campaign of fear and violence in the city of Shinjuku, pushing society to the brink of chaos. As a young police officer tasked with restoring order, Ichika Hoshino becomes the target of an attack, and has a poisonous collar attached to her neck. With the situation spiraling out of control and time running out, five mysterious strangers appear to aid her in her quest for the truth. Who can she trust? Will she be able to save herself and the soul of Shinjuku from the clutches of oblivion?  (Source: Aksys Games)",
         "('Mystery', 'Other', 'Romance')",
         "('Action', 'Adventure', 'Drama', 'Mecha', 'Mystery', 'Other', 'Sci-Fi', 'Shounen', 'Supernatural')"
        ],
        [
         "29",
         "An anime/documentary series about athletes present by NHK.  The first episode adapts material from Tomoyoshi Itou and Shingo Morita's Weekly Young Jump biographical manga (Geniuses Without Glory)—specifically the story about Hironoshin Furuhashi, the swimmer also known as \"the flying fish of Fujiyama.\" The episode also includes interviews with Olympic swimmer Kousuke Kitajima and other Japanese swimmers about the how Furuhashi changed the Japanese competitive swimming world, as well as what sort of training is required to be an Olympic swimmer.  (Source: ANN, edited)",
         "('Sports',)",
         "('Comedy', 'Shounen')"
        ],
        [
         "30",
         "Part of TV Tokyo's Kinder TV (きんだーてれび) program.",
         "('Comedy',)",
         "('Comedy',)"
        ],
        [
         "31",
         "This anime is a fusion of 3D CGI and live-action. Majority of the episodes are Kemy, Buka, and Chaka in their animated club house but other parts of the episodes are the characters imposed on live footage of nature. The program solves various questions by looking at the world with the vision of infants who are still immature in the world.",
         "('Adventure', 'Kids')",
         "('Comedy',)"
        ],
        [
         "32",
         "A foolish clumsy angel came to the human world to help a very unlucky boy. But more accidents are then created...",
         "('Comedy', 'Fantasy')",
         "('Comedy',)"
        ],
        [
         "33",
         "A little ghost girl gets worries when Ms. Fushihara, a corporate slave, is working till midnight, and tries to make her go home. While saying \"Leave now~,\" the ghost girl helps and brings her refreshments, healing Ms. Fushihara's heart with her preciousness. Be healed by the heartwarming daily life of the cute little ghost and the corporate slave Ms. Fushihara.  (Source: MAL News)",
         "('Comedy', 'Shounen', 'Slice of Life', 'Supernatural')",
         "('Comedy', 'Slice of Life')"
        ],
        [
         "34",
         "On planet Kirakira live two tribes: Senobi and Robot. Senobi, quiet and peacefully set, settle down in the forest. Robot comes from the desert and starts war to take control of afforested grounds. A young hero coming from Senobi tries to appease the whole situation.",
         "('Action', 'Adventure', 'Sci-Fi')",
         "()"
        ],
        [
         "35",
         "A prospective witch, a kindergartener who acts like a middle aged, an innocent and incompetent pretty devil, and a genius dog which understands man's words presents a slapstick comedy.  (Source: Toei Animation)",
         "('Comedy', 'Kids')",
         "('Comedy', 'Kids')"
        ],
        [
         "36",
         "musicる TV signed up Norasco for their channel. Some of the ONA's episodes were shown and then the episodes became mostly musicる TV exclusive. ",
         "('Comedy', 'Slice of Life')",
         "('Comedy',)"
        ],
        [
         "37",
         "Second cour of the third season of .",
         "('Music',)",
         "('Comedy',)"
        ],
        [
         "38",
         "The story is told by the cat-eyed boy, hated by humans and demons, who engages in tales of terror, including monsters and children.",
         "('Adventure', 'Horror', 'Other', 'Seinen', 'Supernatural')",
         "()"
        ],
        [
         "39",
         "The series follows a variety of employed shellfish who exhibit selfish or odd personality traits.  (Source: LiveChart)",
         "('Comedy',)",
         "('Comedy',)"
        ],
        [
         "40",
         "A gag comedy aimed at young children featuring Zombie-kun, a child zombie, and his interactions with the world. It's not intended to be scary in the slightest, but rather, it focuses on the comical and bizarre things Zombie-kun's body can do, and the common-sense-defying way Zombie-kun behaves. For example, he'll take out his stomach and inflate it with air to use as a pillow, or if he gets wet, he'll detach parts of his body and wring them out like towels, then reattach them with a glue stick. Everything is depicted in a cute, cartoony fashion so as not to be too graphic for kids.  (Source: Baka-Updates)",
         "('Comedy', 'Kids')",
         "('Comedy', 'Kids')"
        ],
        [
         "41",
         "During the ancient Western Han dynasty (206BC-9AD), a series of disasters caused by occult phenomena swept across the entire world. Huainanzi, the mysterious Chinese book bound in bamboo, was ripped apart and sent through time to different historical junctures. The book pieces were transformed into various objects, waiting to be rediscovered. A hundred years later, a young man, named Hong Lie, lifts up the burden to collect the missing pieces of the ancient bamboo book. With the help of Ba Gong and his friends going through the Gate of 24 Solar Terms, Hong Lie travels through dynasties to search for the lost pieces. In his adventure, Hong Lie and his loyal friends, Ji Ming and Gou Tiao, experienced the greatness of the ancient legends, appreciating the wisdom of the ancestors from Chun Qiu Period, and witnessed all the weird things happening among ordinary people. Warmth and coldness, sadness and happiness, separation and reunion, stories led him to the great world in the book Huainanzi. Through exciting adventures, he also made lifelong friends. In this special way, Hong Lie communicated with ancestors and started to see the principle of world, realizing that obeying the laws of nature and being in harmony with the environment was the right thing to do. A simple collecting journey slowly became a challenging trip for him to go on with his family mission, and inherit the ancestor’s spirit. (Source: Wikipedia)",
         "('Adventure', 'Fantasy', 'Historical')",
         "('Action', 'Adventure', 'Demons', 'Drama', 'Fantasy', 'Harem', 'Historical', 'Horror', 'Kids', 'Mecha', 'Military', 'Mystery', 'Other', 'Romance', 'Sci-Fi', 'Seinen', 'Shoujo', 'Shounen', 'Super Power', 'Supernatural')"
        ],
        [
         "42",
         "An NHK toddler's anime following a Spoon Princess and other kitchen themed characters.",
         "('Adventure', 'Kids')",
         "('Comedy',)"
        ],
        [
         "43",
         "The Lost Ones are wanderers who come here from a distant world known as \"Japan.\" No one knows how or why they leave their homes. The only thing that is certain is that they bring disaster and calamity. The duty of exterminating them without remorse falls to Menou, a young Executioner. When she meets Akari, it seems like just another job...until she discovers it's impossible to kill this girl! And when Menou begins to search for a way to defeat this immortality, Akari is more than happy to tag along! So begins a journey that will change Menou forever...  (Source: Yen Press)",
         "('Action', 'Adventure', 'Fantasy')",
         "('Action', 'Adventure', 'Drama', 'Fantasy', 'Other', 'Romance', 'Sci-Fi', 'Supernatural')"
        ],
        [
         "44",
         "CGI shorts about famous Japanese comedian George Tokoro.",
         "('Comedy',)",
         "('Comedy',)"
        ],
        [
         "45",
         "The \"Waruchin Ceremony\" has been stolen from All Star, a planet that exists in the outskirts of space. The computer that is built into it is programmed to make anything possible. The thief is actually the villain, Doctor Bell. Doctor Bell schemes to invade the other planets through the use of Waruchin. The prince of All Star, Prince Chikkun, together with his trusty advisor, the intellectual Takkun, decides to head towards Earth in pursuit of Doctor Bell.  (Source: ANN)",
         "('Comedy', 'Sci-Fi')",
         "('Action', 'Adventure', 'Sci-Fi')"
        ],
        [
         "46",
         "A daily educational TV anime broadcasted on NTV focusing on teaching children traffic safety. It was rebroadcasted on other networks till 1978. The anime ran in a 5-minute time slot but shared some of the air time with some live-action shorts/series also meant for children.  ",
         "('Kids',)",
         "('Comedy', 'Kids')"
        ],
        [
         "47",
         "The second season of . Its broadcast will be in the same timeslot as the re-airing of the original 2001 anime on Fuji TV.",
         "('Comedy',)",
         "('Comedy',)"
        ],
        [
         "48",
         "Based on a manga by Fujiko (A) Fujio and Fujiko (F) Fujio.",
         "('Adventure',)",
         "('Comedy',)"
        ],
        [
         "49",
         "Based on Nasu Masamoto's Zukkoke Sannin-gumi juvenile novels series.  The main characters are 6 grade boys, Hachibei, Hakase, and Mo-chan. This anime shows their adventures.  (Source: AnimeNfo)",
         "('Comedy', 'Kids', 'School')",
         "('Comedy',)"
        ]
       ],
       "shape": {
        "columns": 3,
        "rows": 1127
       }
      },
      "text/html": [
       "<div>\n",
       "<style scoped>\n",
       "    .dataframe tbody tr th:only-of-type {\n",
       "        vertical-align: middle;\n",
       "    }\n",
       "\n",
       "    .dataframe tbody tr th {\n",
       "        vertical-align: top;\n",
       "    }\n",
       "\n",
       "    .dataframe thead th {\n",
       "        text-align: right;\n",
       "    }\n",
       "</style>\n",
       "<table border=\"1\" class=\"dataframe\">\n",
       "  <thead>\n",
       "    <tr style=\"text-align: right;\">\n",
       "      <th></th>\n",
       "      <th>Synopsis</th>\n",
       "      <th>Actual Genres</th>\n",
       "      <th>Predicted Genres</th>\n",
       "    </tr>\n",
       "  </thead>\n",
       "  <tbody>\n",
       "    <tr>\n",
       "      <th>0</th>\n",
       "      <td>The story begins 15 years after the demon king...</td>\n",
       "      <td>(Comedy, Fantasy, Slice of Life)</td>\n",
       "      <td>(Adventure, Fantasy)</td>\n",
       "    </tr>\n",
       "    <tr>\n",
       "      <th>1</th>\n",
       "      <td>A cyborg warrior from an ancient Antarctic kin...</td>\n",
       "      <td>(Action, Mecha, Sci-Fi)</td>\n",
       "      <td>(Action, Adventure, Sci-Fi)</td>\n",
       "    </tr>\n",
       "    <tr>\n",
       "      <th>2</th>\n",
       "      <td>The story centers on Otarou, a creature themed...</td>\n",
       "      <td>(Comedy,)</td>\n",
       "      <td>(Comedy, Slice of Life)</td>\n",
       "    </tr>\n",
       "    <tr>\n",
       "      <th>3</th>\n",
       "      <td>An elite soldier, whose nickname is God of Dea...</td>\n",
       "      <td>(Action, Adventure, Comedy, Romance, Sci-Fi)</td>\n",
       "      <td>(Action, Comedy)</td>\n",
       "    </tr>\n",
       "    <tr>\n",
       "      <th>4</th>\n",
       "      <td>Based on the real life-story of Pink Lady, a f...</td>\n",
       "      <td>(Drama, Music, Slice of Life)</td>\n",
       "      <td>(Comedy,)</td>\n",
       "    </tr>\n",
       "    <tr>\n",
       "      <th>...</th>\n",
       "      <td>...</td>\n",
       "      <td>...</td>\n",
       "      <td>...</td>\n",
       "    </tr>\n",
       "    <tr>\n",
       "      <th>1122</th>\n",
       "      <td>An unaired episode released with the sixth BD ...</td>\n",
       "      <td>(Sci-Fi, Seinen)</td>\n",
       "      <td>(Comedy,)</td>\n",
       "    </tr>\n",
       "    <tr>\n",
       "      <th>1123</th>\n",
       "      <td>Short extras of the anime included in each of ...</td>\n",
       "      <td>(Romance,)</td>\n",
       "      <td>(Comedy,)</td>\n",
       "    </tr>\n",
       "    <tr>\n",
       "      <th>1124</th>\n",
       "      <td>Short specials included in the Blu-ray release...</td>\n",
       "      <td>(Sci-Fi, Seinen)</td>\n",
       "      <td>(Comedy,)</td>\n",
       "    </tr>\n",
       "    <tr>\n",
       "      <th>1125</th>\n",
       "      <td>Three episodes aired on TV as part of the Ribo...</td>\n",
       "      <td>(Shoujo,)</td>\n",
       "      <td>(Comedy, School, Slice of Life)</td>\n",
       "    </tr>\n",
       "    <tr>\n",
       "      <th>1126</th>\n",
       "      <td>Having reached his emotional breaking point, R...</td>\n",
       "      <td>(Other, Sci-Fi)</td>\n",
       "      <td>(Action, Adventure, Drama, Fantasy, Mecha, Mys...</td>\n",
       "    </tr>\n",
       "  </tbody>\n",
       "</table>\n",
       "<p>1127 rows × 3 columns</p>\n",
       "</div>"
      ],
      "text/plain": [
       "                                               Synopsis  \\\n",
       "0     The story begins 15 years after the demon king...   \n",
       "1     A cyborg warrior from an ancient Antarctic kin...   \n",
       "2     The story centers on Otarou, a creature themed...   \n",
       "3     An elite soldier, whose nickname is God of Dea...   \n",
       "4     Based on the real life-story of Pink Lady, a f...   \n",
       "...                                                 ...   \n",
       "1122  An unaired episode released with the sixth BD ...   \n",
       "1123  Short extras of the anime included in each of ...   \n",
       "1124  Short specials included in the Blu-ray release...   \n",
       "1125  Three episodes aired on TV as part of the Ribo...   \n",
       "1126  Having reached his emotional breaking point, R...   \n",
       "\n",
       "                                     Actual Genres  \\\n",
       "0                 (Comedy, Fantasy, Slice of Life)   \n",
       "1                          (Action, Mecha, Sci-Fi)   \n",
       "2                                        (Comedy,)   \n",
       "3     (Action, Adventure, Comedy, Romance, Sci-Fi)   \n",
       "4                    (Drama, Music, Slice of Life)   \n",
       "...                                            ...   \n",
       "1122                              (Sci-Fi, Seinen)   \n",
       "1123                                    (Romance,)   \n",
       "1124                              (Sci-Fi, Seinen)   \n",
       "1125                                     (Shoujo,)   \n",
       "1126                               (Other, Sci-Fi)   \n",
       "\n",
       "                                       Predicted Genres  \n",
       "0                                  (Adventure, Fantasy)  \n",
       "1                           (Action, Adventure, Sci-Fi)  \n",
       "2                               (Comedy, Slice of Life)  \n",
       "3                                      (Action, Comedy)  \n",
       "4                                             (Comedy,)  \n",
       "...                                                 ...  \n",
       "1122                                          (Comedy,)  \n",
       "1123                                          (Comedy,)  \n",
       "1124                                          (Comedy,)  \n",
       "1125                    (Comedy, School, Slice of Life)  \n",
       "1126  (Action, Adventure, Drama, Fantasy, Mecha, Mys...  \n",
       "\n",
       "[1127 rows x 3 columns]"
      ]
     },
     "metadata": {},
     "output_type": "display_data"
    }
   ],
   "source": [
    "#Parameters that can be changed:\n",
    "#Number of wordds in vocublary\n",
    "#Class weighting\n",
    "\n",
    "\n",
    "# from sklearn.feature_extraction.text import CountVectorizer\n",
    "mlb=MultiLabelBinarizer()\n",
    "y_train = mlb.fit_transform(df_train['genres'])\n",
    "#display(y)\n",
    "vectorizer = TfidfVectorizer(stop_words=\"english\",max_features=10000,ngram_range=(1,4),binary=True)\n",
    "X_train = vectorizer.fit_transform(df_train['clean_synopsis'])\n",
    "#display(X_train)\n",
    "#print(vectorizer.get_feature_names_out(),len(vectorizer.get_feature_names_out()))\n",
    "#print(X_train.toarray())\n",
    "\n",
    "y_val= mlb.transform(df_val['genres'])\n",
    "X_val = vectorizer.transform(df_val['clean_synopsis'])\n",
    "y_test= mlb.transform(df_test['genres'])\n",
    "X_test = vectorizer.transform(df_test['clean_synopsis'])\n",
    "\n",
    "from sklearn.naive_bayes import BernoulliNB\n",
    "\n",
    "classifier = OneVsRestClassifier(BernoulliNB())#Already tried with balanced class but it is worse\n",
    "classifier.fit(X_train, y_train)                                    #At least when it is not balanced it can overfit the train class\n",
    "\n",
    "# from sklearn.metrics import classification_report\n",
    "#samples\tHow well did we predict each movie's genres?\t✅ Best for your task\n",
    "#micro\t    Overall genre prediction accuracy\t            ✅ Good for global view\n",
    "#macro\t    Equal focus on rare and frequent genres\t        ⚠️ Careful with imbalance\n",
    "#weighted\tGenre performance balanced by frequency\t        ✅ Fair but skew-sensitive\n",
    "#USE SAMPLES\n",
    "\n",
    "\n",
    "print(\"Report for Train dataset\")\n",
    "threshold=0.2\n",
    "y_pred_train=LR_OVA_prob(X_train,threshold,classifier)\n",
    "print_report(y_train,y_pred_train,\"samples avg\",\"f1-score\",mlb)\n",
    "jaccard = jaccard_score(y_train, y_pred_train, average='samples')\n",
    "print(\"Jaccard Similarity:\", jaccard)\n",
    "hr = hit_rate(y_train, y_pred_train)\n",
    "print(\"Hit Rate:\", hr)\n",
    "\n",
    "print(\"----------------------\")\n",
    "print(\"Report for Val dataset\")\n",
    "y_pred_val=LR_OVA_prob(X_val,threshold,classifier)\n",
    "print_report(y_val,y_pred_val,\"samples avg\",\"f1-score\",mlb)\n",
    "jaccard = jaccard_score(y_val, y_pred_val, average='samples')\n",
    "print(\"Jaccard Similarity:\", jaccard)\n",
    "hr = hit_rate(y_val, y_pred_val)\n",
    "print(\"Hit Rate:\", hr)\n",
    "\n",
    "print(\"----------------------\")\n",
    "print(\"Report for Test dataset\")\n",
    "y_pred_test=LR_OVA_prob(X_test,threshold,classifier)\n",
    "print_report(y_test,y_pred_test,\"samples avg\",\"f1-score\",mlb)\n",
    "jaccard = jaccard_score(y_test, y_pred_test, average='samples')\n",
    "print(\"Jaccard Similarity:\", jaccard)\n",
    "hr = hit_rate(y_val, y_pred_val)\n",
    "print(\"Hit Rate:\", hr)\n",
    "\n",
    "\n",
    "\n",
    "display(result_table(y_train,y_pred_train,df_train,mlb))\n",
    "display(result_table(y_val,y_pred_val,df_val,mlb))\n",
    "display(result_table(y_test,y_pred_test,df_test,mlb))"
   ]
  }
 ],
 "metadata": {
  "kernelspec": {
   "display_name": "NLP_CW",
   "language": "python",
   "name": "python3"
  },
  "language_info": {
   "codemirror_mode": {
    "name": "ipython",
    "version": 3
   },
   "file_extension": ".py",
   "mimetype": "text/x-python",
   "name": "python",
   "nbconvert_exporter": "python",
   "pygments_lexer": "ipython3",
   "version": "3.12.7"
  }
 },
 "nbformat": 4,
 "nbformat_minor": 5
}
