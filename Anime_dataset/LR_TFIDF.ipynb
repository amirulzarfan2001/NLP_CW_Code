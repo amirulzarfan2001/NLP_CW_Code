{
 "cells": [
  {
   "cell_type": "code",
   "execution_count": 1,
   "id": "39ff4da9",
   "metadata": {},
   "outputs": [
    {
     "name": "stderr",
     "output_type": "stream",
     "text": [
      "c:\\Users\\User\\anaconda3\\envs\\NLP_CW\\Lib\\site-packages\\tqdm\\auto.py:21: TqdmWarning: IProgress not found. Please update jupyter and ipywidgets. See https://ipywidgets.readthedocs.io/en/stable/user_install.html\n",
      "  from .autonotebook import tqdm as notebook_tqdm\n"
     ]
    },
    {
     "data": {
      "application/vnd.microsoft.datawrangler.viewer.v0+json": {
       "columns": [
        {
         "name": "index",
         "rawType": "int64",
         "type": "integer"
        },
        {
         "name": "title",
         "rawType": "object",
         "type": "string"
        },
        {
         "name": "synopsis",
         "rawType": "object",
         "type": "string"
        },
        {
         "name": "genres",
         "rawType": "object",
         "type": "unknown"
        },
        {
         "name": "index",
         "rawType": "int64",
         "type": "integer"
        }
       ],
       "conversionMethod": "pd.DataFrame",
       "ref": "f17a3469-7c0b-4920-b17d-b959117ef584",
       "rows": [
        [
         "0",
         "Sabaku no Kaizoku! Captain Kuppa",
         "Sometime in the future, the world was completely dried up and became all desert. They had little rivers and lakes left, which villians and dangerous animals lived. Water has become the most valueable thing on the world. Whoever can control water will rule over the world.  (Source: ANN)",
         "['Action', 'Adventure']",
         "1"
        ],
        [
         "1",
         "On Air Dekinai!",
         "Set in 2014, the anime follows the adventures of 23 years old Mafuneko, a newly minted assistant director who joins the TV production department at Tokyo Hajikko Television, only to discover that the glamorous and glitzy life of working behind-the-scenes making TV shows involves strange and inexplicable tasks such as \"gathering 300 acorns\" and \"making a mosaic out of the images reflected in the camera lens.\" Despite being surrounded by chaos, set-backs, and weirdos, Mafuneko struggles to become a fully-fledged TV producer.  (Source: Crunchyroll, edited)",
         "['Comedy']",
         "2"
        ],
        [
         "2",
         "Panpaka Pants O-New!",
         "Follows a pig whose family's mission is to collect underpants.",
         "['Comedy', 'Kids']",
         "8"
        ],
        [
         "3",
         "Zhu Zhu Xia: Jing Qiu Xiao Yingxiong",
         "In honor of the 2018 World Cup, this season of GG Bond focuses on sports team competition, team spirit, and personal growth as they compete in the Meteor League.  ",
         "['Kids', 'Sci-Fi', 'Sports', 'Super Power']",
         "9"
        ],
        [
         "4",
         "Fuwafuwa Hour: Pui Pui & Muu Muu",
         "Fairies living in a fluffy forest, where both flowers and trees are fluffy. Follow a witch's trouble-maker apprentices Pui Pui and Muu Muu.",
         "['Fantasy', 'Kids']",
         "10"
        ],
        [
         "5",
         "Space Bug",
         "This story is about Mick, a sleeping chironomid. Insects are taken up into space for use in experiments by humans. An epic space adventure of Mick and his friends of their journey back home to Earth. The development plans and experiments are aborted by humans for no known reason, the organisms are left behind in the space station with limited resources. Going over hurdles and fighting through challenges, together, they travel across planets and gain new comrades, heading for Earth. As their journey progresses, the mystery behind the human’s abandonment unravels…  (Source: Crunchyroll)",
         "['Adventure', 'Other']",
         "11"
        ],
        [
         "6",
         "Bakujuu Gasshin Ziguru Hazeru",
         "The anime is based on MegaHouse's line of Ziguru Hazeru (literally, \"Jiggle and Pop Out\") mecha toys that allow people to remove parts from the joints and add different parts in their place. In addition, if one combines together Hazeru Gokuu, Hazeru Sagojo, and Hazeru Hakkai, the resulting mecha will be Hazeru Seioh, allowing for users to combine their toys together.  The ZIGURUHAZERU animated series is based on the upcoming original toy line of the same name from MegaHouse, featuring cool robot toys modelled after characters from the famous Journey to the West tale.",
         "['Action', 'Mecha']",
         "13"
        ],
        [
         "7",
         "Fuwa no go renkan",
         "Fuwa Beibei encounters the severely injured goddess, Athena. In order to help Athena regain strength, Beibei sets out to find a mysterious wooden box left by Coubertin in 1894, but the worrying thing is that Pixiu who injured his stomach from his glutinous eating habits heard this news too. He thought that this mysterious energy could not only cure his stomach, but also improve his magic, and such begins the journey through time and space of two spirits with different aims. After all the hardships, they found the sixth son of the dragon - Bixi, and after the two's efforts in passing his test, Bixi carries them along 100 years of Olympic history.",
         "['Historical']",
         "15"
        ],
        [
         "8",
         "Norimono Man: Mobile Land no Car-kun",
         "The anime will depict various vehicles as characters in the \"Mobile Land\" island. The protagonist Car-kun arrives at the island as a delivery worker. Through his deliveries, he gets to know the residents of Mobile Land, all while following traffic rules and having his deliveries stopped by the meddling Sabibi.  (Source: ANN)",
         "['Comedy', 'Kids', 'Other', 'Slice of Life']",
         "16"
        ],
        [
         "9",
         "Chuldong! Super Wings",
         "follows the adventures of an adorable jet plane named Jett who travels around the world delivering packages to children. On every delivery, Jett encounters new problems that he must solve with the help of his friends the \"Super Wings\": Dizzy, Jerome and Donnie. Together, the team explores different countries and learns the diversity of new cultures.  (Source: Official YouTube channel)",
         "['Adventure', 'Kids', 'Other']",
         "25"
        ],
        [
         "10",
         "Uwabaki Cook no Tekitou Uranai!",
         "A collaboration shorts that aired as part of Yomiuri TV's morning program block.",
         "['Comedy']",
         "27"
        ],
        [
         "11",
         "Isekai Shoukan wa Nidome desu",
         "There was once a man who was summoned to another world, and saved it. Of course, he became too popular there, and turned into an isekai-normie. However, that man fell into a \"trap\" and was forcibly returned to his original world. Moreover, he had to start over as a baby!  This is the story of the way-too-fantastic ex-hero who lived as a gloomy high-schooler, as he gets summoned once again to that same other world in a very unexpected development!  (Source: Coolmic, edited)",
         "['Action', 'Adventure', 'Comedy', 'Fantasy', 'Harem', 'Romance']",
         "29"
        ],
        [
         "12",
         "Poccolies",
         "The 2018 LINE sticker set Poccolies is inspiring a series of anime shorts. The story of the sticker set is that a positive and honest boy named Patsuhiko lives on Pokkori Island, along with the shrewd and mysterious Ham, and a reliable older brother figure named Kangaroo. The sticker set follows their daily lives.  (Source: ANN)",
         "['Kids', 'Slice of Life']",
         "34"
        ],
        [
         "13",
         "Kamiusagi Rope: Warau Asa ni wa Fukuraitaru tte Maji ssuka!?",
         "Fourth season of Kamiusagi Rope, events occur after the feature film. Airs on Mezamashi TV instead of the theaters.",
         "['Comedy', 'Slice of Life']",
         "41"
        ],
        [
         "14",
         "Telemonster",
         "Korean Animation about the monsters Eerie, Rock-G, Popo, and Yossi and the adventures they go on each day!",
         "['Adventure']",
         "44"
        ],
        [
         "15",
         "Neko no Nyagh: Nya Misérables",
         "TV adaptation of Cocone Corporation's mobile puzzle game app.  Discover the adventures of the cat painter, Vincent van Meowogh who lives in a mansion in Paris surrounded by his quirky friends. Let's give him a spark of inspiration for his painting by completing puzzle stages, buy back the furniture and restore his home to its former glory!  (Source: ANN)",
         "['Kids', 'Other']",
         "47"
        ],
        [
         "16",
         "Paripi Koumei",
         "General of the Three Kingdoms, Kongming had struggled his whole life, facing countless battles that made him into the accomplished strategist he was. So on his deathbed, he wished only to be reborn into a peaceful world... and was sent straight to modern-day party-central, Tokyo! Can even a brilliant strategist like Kongming adapt to the wild beats and even wilder party people?!  (Source: Kodansha US, edited)",
         "['Comedy']",
         "48"
        ],
        [
         "17",
         "Yofukashi no Uta",
         "Kou Yamori seems like a typical middle school student on the surface. Relatively good at studies and amiable with his classmates, he puts a lot of effort into maintaining this facade. One day, however, he decides to stop pretending and quits school, developing insomnia as a result of having no daytime outlet for his energy. When taking walks alone at night, he feels marginally better, though he is aware that his inability to sleep should be considered a serious problem.  On one such walk, Kou meets a weird girl, Nazuna Nanakusa, who diagnoses the cause of his sleeplessness: despite making changes in his life, he is still holding himself back from experiencing true freedom. She says that he won't be able to sleep unless he is satisfied with how he spends his waking hours. When it appears that she has resolved his current worries, Nazuna invites him back to her apartment to share her futon. After a while, unaware that he is only feigning unconsciousness, she leans over him—and bites his neck!  ",
         "['Other', 'Romance', 'Shounen', 'Supernatural']",
         "49"
        ],
        [
         "18",
         "Love All Play",
         "Ryou Mizushima enrolls in junior high and joins the badminton club with great vigor. Although the club didn't have a proper coach, Mizushima improved his skills with his own physical strength by the time he participated in the prefectural tournament. Afterwards, he is approached by the Yokohama Minato High School's badminton coach, Ebihara.  Indecisive and timid, Mizushima hesitates to attend such a prestigious school. However, with his elder sister Rika giving him a strong push, he decides to go to Yokohama Minato. Now blessed with a coach and idiosyncratic teammates, Mizushima will gain experience he's lacked till now, and aims to win the inter-high tournament.  (Source: MAL News)",
         "['Sports']",
         "51"
        ],
        [
         "19",
         "Nananin no Ayakashi: Chimi Chimi Mouryou!! Gendai Monogatari",
         "This show consists of shorts starring 7 characters created and voiced by the voice actors of the variety show \"Seiyuu Danshi desu ga...?\". The anime will be a slapstick comedy that follows seven spirits that come to the modern world.  (Source: ANN)",
         "['Comedy', 'Supernatural']",
         "53"
        ],
        [
         "20",
         "Hello Jadoo",
         "Hello Jadoo is a South-Korean TV show about a girl named Choi Jadoo who is a very free-spirited girl. In every episode, she would always get into drama, whether it was with her parents or school. At the same time, she meets new people and she tries to solve problems occurring.",
         "['Slice of Life']",
         "55"
        ],
        [
         "21",
         "Kami wa Game ni Ueteiru.",
         "The supreme Gods who had too much free time created the ultimate brain games \"Play of the Gods.\" Former Goddess Leche awoke from a long slumber and declared to the world, \"Bring forth the person who is the best in games in this era!\" Fay is nominated to represent humanity as the \"best rookie in recent years.\"  The \"Game of the Gods\" that is about to begin between the two may be a little too difficult, as there has yet to be a victor throughout human history, because Gods are capricious, very unreasonable, and sometimes completely incomprehensible. However, given the nature of the games, it would be a waste not to have a good time and play with all of one's heart! The ultimate brain battles of a genius gamer boy, a former Goddess, and friends begin!  (Source: MAL News)",
         "['Ecchi', 'Fantasy', 'Other']",
         "56"
        ],
        [
         "22",
         "Isekai Meikyuu de Harem wo",
         "Struggling with life and society, high school student Michio Kaga wanders about the Internet and lands on an odd website. The website, featuring a number of questions and a point based system, allows one to create skills and abilities for a character. Upon completing his character, Kaga was transported to a game-like fantasy world and reborn as a strong man who can claim idol-level girls. Thus begins the cheat and harem legend of a reborn man!  (Source: MAL News)",
         "['Action', 'Adventure', 'Fantasy', 'Harem', 'Romance']",
         "57"
        ],
        [
         "23",
         "Technoroid: Overmind",
         "Technoroid: Overmind is set in the Entertainment Tower Babel, a new hope found by those who have lost the joy of light as humanity's activities are restricted due to the large-scale climate change caused by the expanded sun. The anime depicts unique units and characters fighting for the top of Babel, pursuing emotions that move people and androids through performances.  (Source: MAL News)",
         "['Music']",
         "58"
        ],
        [
         "24",
         "Mononogatari",
         "Tsukumogami—spirits or \"marebito\" can possess objects of considerable age and gain a physical form. Although he is part of the Saenome clan that is in charge of peacefully sending them back to their own world, Hyouma Kunato despises them because one took away what was very precious to him. In order to cure him of this loathing, Hyouma's grandfather sends him to live with Botan Nagatsuki, a girl who is the master of six \"friendly\" tsukumogami and lives with them as a family.  (Source: MU, edited)",
         "['Action', 'Seinen', 'Supernatural']",
         "62"
        ],
        [
         "25",
         "Mon Cheri CoCo",
         "A young woman aims to become a famous fashion designer.  (Source: AniDB)",
         "['Romance', 'Shoujo']",
         "63"
        ],
        [
         "26",
         "Tensei shitara Ken Deshita",
         "The hero of Tensei shitara Ken deshita differs from your standard otherworldly protagonist in that he is reincarnated as a sword! Beginning his quest by spawning in the middle of a beast-ridden forest, he encounters an injured girl frantically fleeing for her life. Saving her from her assailants, the pair acquaint themselves, and the girl introduces herself as Fran. She bears a heavy past, having endured the enslavement and maltreatment of her tribe, the Black Cats.  As the hero is unable to remember the name from his past life, the young and tenacious Fran bestows him the name \"Shishou\" and becomes his wielder. Thereafter, Shishou and Fran become a formidable team, embarking on quests to liberate the oppressed and exact justice!  ",
         "['Action', 'Fantasy']",
         "74"
        ],
        [
         "27",
         "Tomodachi no Imouto ga Ore ni dake Uzai",
         "If a girl teases you, that means she likes you!  Unfortunately, Akiteru knows from experience that isn't the case. Because every girl he interacts with shows him nothing but scorn, and he's not scored a single date from it! Luckily, he's more concerned with securing a spot for him and his game-development buddies at his uncle's business.  But when his uncle throws him a condition that involves playing the part of his daughter's boyfriend, Akiteru has no choice but to take it. What will his best friend's sister Iroha, who bullies him relentlessly, think of the news?  (Source: J-Novel Club)",
         "['Comedy', 'Romance', 'School']",
         "75"
        ],
        [
         "28",
         "Xiao Hua Xian",
         "There is a mysterious power of the Holy Spirit hidden in the legendary continent of Labelle, and the way to get power is recorded in the book of flower, guard by numerous flower Fairy Kings,only the legendary magic ambassador is recognized to wake up the power, and use them to defeat evil. For this.The evil force,led by Jakarta,the Queen of Dark had start a war to the continent of Labelle.With the help of the Flower Goddess,Pupula and the tribe of gouring flower fairys, the fate of the continent of Labelle is linked with an Earth girl... Who is the legendary envoy XiaAnAn.  (Source: Magical Girl Wiki)",
         "['Kids']",
         "76"
        ],
        [
         "29",
         "Chainsaw Man",
         "Denji has a simple dream—to live a happy and peaceful life, spending time with a girl he likes. This is a far cry from reality, however, as Denji is forced by the yakuza into killing devils in order to pay off his crushing debts. Using his pet devil Pochita as a weapon, he is ready to do anything for a bit of cash.  Unfortunately, he has outlived his usefulness and is murdered by a devil in contract with the yakuza. However, in an unexpected turn of events, Pochita merges with Denji's dead body and grants him the powers of a chainsaw devil. Now able to transform parts of his body into chainsaws, a revived Denji uses his new abilities to quickly and brutally dispatch his enemies. Catching the eye of the official devil hunters who arrive at the scene, he is offered work at the Public Safety Bureau as one of them. Now with the means to face even the toughest of enemies, Denji will stop at nothing to achieve his simple teenage dreams.  ",
         "['Action', 'Adventure', 'Demons', 'Shounen']",
         "79"
        ],
        [
         "30",
         "Capsule Boy",
         "6.5-centimeter tall Degirdians fall to Earth in their spacecraft while chasing fugitives. Their spaceship transforms into a capsule toy stand near a toy store and a human boy accidentally takes home one of the aliens thinking it's a capsule toy. They befriend a human boy and try to figure out a way to get home all while fighting off the evil alien.",
         "['Kids', 'Sci-Fi']",
         "81"
        ],
        [
         "31",
         "Catch! Tiniping",
         "revolves around mischievous creatures called Teenieping that like to enter people's minds, but their playful nature and magical powers can wreak havoc in their hosts' lives. When the Teenieping are set loose on Earth, Princess Romi of the Emotion Kingdom becomes an ordinary girl that has to turn into a magical girl to stop them, all while balancing her new civilian life as a worker for the Bakery Heartrose with her coworkers Ian, Kyle, and Jun.  (Source: Wikipedia)",
         "['Fantasy', 'Kids', 'School']",
         "84"
        ],
        [
         "32",
         "Zhu Zhu Xia: Konglong Riji",
         "A more educational season of GG Bond. This season is composed of 2 arcs, each arc has 52 episodes.  GG Bond works on cleaning up some fossils at the lab as they'll be used in a museum exhibit. He uses a fossil to create a data coin that is compatible with his special jet. This allows for him to travel back in time to the original animal (a T-Rex) the fossil was made of. While GG Bond is ecstatic to learn about dinosaurs in-person (as well as mine more accurate data for the data coin), he didn't quite realize the danger he'd be in. He successfully gets out of this sticky situation but there's still a lot more dinosaurs he needs to get information on.",
         "['Historical', 'Kids', 'Sci-Fi', 'Super Power']",
         "89"
        ],
        [
         "33",
         "Bocchi the Rock!",
         "Hitori Gotou is a high school girl who's starting to learn to play the guitar because she dreams of being in a band, but she's so shy that she hasn't made a single friend. However, her dream might come true after she meets Nijika Ijichi, a girl who plays drums and is looking for a new guitarist for her band.  (Source: MU, edited)",
         "['Comedy', 'Music', 'Slice of Life']",
         "93"
        ],
        [
         "34",
         "Chickip Dancers",
         "TV anime based on San-X's new series of mascot characters \"Chickip Dancers.\" The main characters in the anime will be the apprehensive but curious bone-in chicken Hone Chicken, and the dancing instructor frog Skip Gaeru, who travels by dancing.  (Source: ANN)",
         "['Slice of Life']",
         "98"
        ],
        [
         "35",
         "Ongaku Sekai Ryokou",
         "Stop-motion animation using clay and puppets follows a musician and hit cat traveling the world and learning about music in different cultures while spreading their own songs.",
         "['Kids', 'Music']",
         "99"
        ],
        [
         "36",
         "Tian Xin Ge Ge",
         "A Chinese prince meets a regular civilian during his travels and quickly falls in love. They marry and have a daughter, but the prince is soon separated from them during a rebellion. Many years later, the prince has become emperor and locates his lost daughter. She comes to live with him, but unfortunately has picked up several unrefined habits during her times as a civilian.",
         "['Comedy', 'Historical', 'Kids']",
         "101"
        ],
        [
         "37",
         "Kemy",
         "is an animation series with some educational undertones targeting 5~7-year-old kids. The entire series is set against the backdrop of a supermarket. Viewing the animations, children will be able to imagine themselves in amidst all a supermarket has to offer. Children can join Kemy and his quest to figure out the answers to everyday questions. Buka and Chaka do not reprise their roles in this season.  (Source: korean-products.com)  ",
         "['Kids']",
         "105"
        ],
        [
         "38",
         "Teikou Penguin",
         "Centers on a penguin who works in an abusive company and gripes about the difficulties of workplace life. The title is a play on the \"koutei penguin,\" the Japanese name for the emperor penguin.  (Source: ANN)",
         "['Other']",
         "109"
        ],
        [
         "39",
         "Shin Bikkuriman",
         "No synopsis has been added for this series yet.   to update this information.",
         "['Comedy', 'Fantasy']",
         "111"
        ],
        [
         "40",
         "The Snack World (TV)",
         "In \"a certain era\" on \"a certain continent,\" banal things are happening. The construction of \"Large-Scale Leisure Facilities\" has demanded that all the villages are to be evicted. When these demands are denied, the village and its residents are obliterated. A boy named Chap once lived in tranquility, but that happiness soon came crumbling down. He decides to embark on a journey of revenge, but soon falls madly in love with the king's daughter, Princess Melora. In order to fulfill her selfish wishes, he gathers his friends in order to overcome the impossible.",
         "['Adventure', 'Comedy', 'Fantasy', 'Kids']",
         "115"
        ],
        [
         "41",
         "Shiawase Haitatsu Taneko",
         "The story centers around a cat who answers people's wishes and delivers happiness. (\"Tane\" and \"neko\" are the Japanese words for \"seed\" and \"cat,\" respectively.)  (Source: ANN)",
         "['Comedy']",
         "118"
        ],
        [
         "42",
         "Otoppe",
         "The series follows a young girl named Shina who hopes to become the world's best DJ, and is interested in new sounds. Shina explores a mysterious world filled with Otoppe, strange creatures capable of unique sounds.",
         "['Fantasy', 'Kids', 'Music']",
         "119"
        ],
        [
         "43",
         "Susume! Dokan-kun",
         "The second season of the franchise. It aired within the \"Fight Tension☆School\" variety program.",
         "['Comedy', 'Mecha']",
         "126"
        ],
        [
         "44",
         "Kirakira Shougakusei Celeb-chan",
         "Shorts that aired within \"Fight Tension☆Depart,\" a variety program that originally aired the anime as one of its segments. Celeb-chan is a narcissistic school girl who believes that she is a celebrity because her family is incredibly wealthy. She tries to do typical rich people things such as starting her own heavy makeup line, becoming a singer, saving an endangered species, buying a teacup poodle, etc. The results are never how she expects it.",
         "['Comedy', 'Parody']",
         "128"
        ],
        [
         "45",
         "Shima Kousaku no Asia Risshi-den",
         "How did Asia's most prominent entrepreneurs know when to grasp opportunities? And how did they overcome difficulties and attain their positions of power? This series uses the unconventional technique of blending actual documentary footage with CG animation to get a close-up look into the front lines and what lies behind the scenes of Asian business.  Our cartoon host is Shima Kosaku, a character from a popular Japanese business manga. He delves into the heart of the Asian economic market representing 4 billion people, to visit entrepreneurs who have survived turbulent times. Thai business magnate, Dhanin Chearavanont (Chairman of CP Group), and innovative Taiwanese semiconductor entrepreneur, Morris Chang (Chairman of TSMC), are among the many movers and shakers to be featured. Don't miss this opportunity to glimpse the dramatic lives of these media-shy business titans.  (Source: Official Site)",
         "['Drama', 'Seinen']",
         "132"
        ],
        [
         "46",
         "Usagi no Matthew",
         "The story centers on Matthew, a daydreaming worrywart of a rabbit. Matthew also has two friends: Keron, a pessimistic frog who is fond of good-luck charms; and Ham, a hamster of few words and who moves through life at his own pace. The story follows the three animals' everyday lives within a mysterious forest.  (Source: ANN)",
         "['Slice of Life']",
         "133"
        ],
        [
         "47",
         "Skip to Loafer",
         "Excellent student Iwakura Mitsumi has always dreamt about leaving her small town, going to a prestigious university, and making positive change in the world. But she's so focused on reaching her goals that she's not prepared for the very different (and overwhelming) city life that awaits her in a Tokyo high school. Luckily, she makes fast friends with Shima Sousuke, a handsome classmate who's as laid-back as she is over-prepared. Can this naive country girl make it big in Tokyo with Sousuke by her side?  (Source: Seven Seas Entertainment)",
         "['School', 'Seinen', 'Slice of Life']",
         "137"
        ],
        [
         "48",
         "Healer Girl",
         "The story will follow four girls who seek to use their songs to heal and soothe the people of their world. The tagline reads, \"Kindhearted, powerful songs heal the world. These are beautiful miracles sung by humanity.\"  (Source: MAL Source)",
         "['Music']",
         "139"
        ],
        [
         "49",
         "Turning Mecard W: Vandyne-ui Bimil",
         "It follows the fan favorite character Vandyne as his hidden secrets are revealed. Unlike the reboot, which exclusively uses 3DCG visuals, this series is like the earlier entries and is animated with 2D and 3D visuals.  The mini-series is part of a new promotional campaign from Sono Kong. The Korean toy manufacturer will launch four new mechanimals this month at retail.  (Source: toonbarn.com)",
         "['Adventure', 'Kids', 'Mecha', 'Other']",
         "140"
        ]
       ],
       "shape": {
        "columns": 4,
        "rows": 9194
       }
      },
      "text/html": [
       "<div>\n",
       "<style scoped>\n",
       "    .dataframe tbody tr th:only-of-type {\n",
       "        vertical-align: middle;\n",
       "    }\n",
       "\n",
       "    .dataframe tbody tr th {\n",
       "        vertical-align: top;\n",
       "    }\n",
       "\n",
       "    .dataframe thead th {\n",
       "        text-align: right;\n",
       "    }\n",
       "</style>\n",
       "<table border=\"1\" class=\"dataframe\">\n",
       "  <thead>\n",
       "    <tr style=\"text-align: right;\">\n",
       "      <th></th>\n",
       "      <th>title</th>\n",
       "      <th>synopsis</th>\n",
       "      <th>genres</th>\n",
       "      <th>index</th>\n",
       "    </tr>\n",
       "  </thead>\n",
       "  <tbody>\n",
       "    <tr>\n",
       "      <th>0</th>\n",
       "      <td>Sabaku no Kaizoku! Captain Kuppa</td>\n",
       "      <td>Sometime in the future, the world was complete...</td>\n",
       "      <td>[Action, Adventure]</td>\n",
       "      <td>1</td>\n",
       "    </tr>\n",
       "    <tr>\n",
       "      <th>1</th>\n",
       "      <td>On Air Dekinai!</td>\n",
       "      <td>Set in 2014, the anime follows the adventures ...</td>\n",
       "      <td>[Comedy]</td>\n",
       "      <td>2</td>\n",
       "    </tr>\n",
       "    <tr>\n",
       "      <th>2</th>\n",
       "      <td>Panpaka Pants O-New!</td>\n",
       "      <td>Follows a pig whose family's mission is to col...</td>\n",
       "      <td>[Comedy, Kids]</td>\n",
       "      <td>8</td>\n",
       "    </tr>\n",
       "    <tr>\n",
       "      <th>3</th>\n",
       "      <td>Zhu Zhu Xia: Jing Qiu Xiao Yingxiong</td>\n",
       "      <td>In honor of the 2018 World Cup, this season of...</td>\n",
       "      <td>[Kids, Sci-Fi, Sports, Super Power]</td>\n",
       "      <td>9</td>\n",
       "    </tr>\n",
       "    <tr>\n",
       "      <th>4</th>\n",
       "      <td>Fuwafuwa Hour: Pui Pui &amp; Muu Muu</td>\n",
       "      <td>Fairies living in a fluffy forest, where both ...</td>\n",
       "      <td>[Fantasy, Kids]</td>\n",
       "      <td>10</td>\n",
       "    </tr>\n",
       "    <tr>\n",
       "      <th>...</th>\n",
       "      <td>...</td>\n",
       "      <td>...</td>\n",
       "      <td>...</td>\n",
       "      <td>...</td>\n",
       "    </tr>\n",
       "    <tr>\n",
       "      <th>9189</th>\n",
       "      <td>Naruto: Dai Katsugeki!! Yuki Hime Shinobu Houj...</td>\n",
       "      <td>The Konohagakure Grand Sports Festival has beg...</td>\n",
       "      <td>[Action, Comedy, Fantasy, Other, Shounen, Sports]</td>\n",
       "      <td>13373</td>\n",
       "    </tr>\n",
       "    <tr>\n",
       "      <th>9190</th>\n",
       "      <td>Grisaia no Meikyuu: Caprice no Mayu 0 - Takizo...</td>\n",
       "      <td>Special bundled with the Blu-ray/DVD volume of .</td>\n",
       "      <td>[Ecchi]</td>\n",
       "      <td>13375</td>\n",
       "    </tr>\n",
       "    <tr>\n",
       "      <th>9191</th>\n",
       "      <td>Bikini Warriors Special</td>\n",
       "      <td>According to the official Hobby Japan website,...</td>\n",
       "      <td>[Comedy, Ecchi, Fantasy, Parody]</td>\n",
       "      <td>13376</td>\n",
       "    </tr>\n",
       "    <tr>\n",
       "      <th>9192</th>\n",
       "      <td>Re:Zero kara Hajimeru Break Time</td>\n",
       "      <td>A series of comedic shorts featuring chibi ver...</td>\n",
       "      <td>[Adventure, Comedy, Fantasy, Parody]</td>\n",
       "      <td>13377</td>\n",
       "    </tr>\n",
       "    <tr>\n",
       "      <th>9193</th>\n",
       "      <td>Himouto! Umaru-chanS</td>\n",
       "      <td>These shorts, included in the Blu-ray and DVD ...</td>\n",
       "      <td>[Comedy, Seinen, Slice of Life]</td>\n",
       "      <td>13378</td>\n",
       "    </tr>\n",
       "  </tbody>\n",
       "</table>\n",
       "<p>9194 rows × 4 columns</p>\n",
       "</div>"
      ],
      "text/plain": [
       "                                                  title  \\\n",
       "0                      Sabaku no Kaizoku! Captain Kuppa   \n",
       "1                                       On Air Dekinai!   \n",
       "2                                  Panpaka Pants O-New!   \n",
       "3                  Zhu Zhu Xia: Jing Qiu Xiao Yingxiong   \n",
       "4                      Fuwafuwa Hour: Pui Pui & Muu Muu   \n",
       "...                                                 ...   \n",
       "9189  Naruto: Dai Katsugeki!! Yuki Hime Shinobu Houj...   \n",
       "9190  Grisaia no Meikyuu: Caprice no Mayu 0 - Takizo...   \n",
       "9191                            Bikini Warriors Special   \n",
       "9192                   Re:Zero kara Hajimeru Break Time   \n",
       "9193                               Himouto! Umaru-chanS   \n",
       "\n",
       "                                               synopsis  \\\n",
       "0     Sometime in the future, the world was complete...   \n",
       "1     Set in 2014, the anime follows the adventures ...   \n",
       "2     Follows a pig whose family's mission is to col...   \n",
       "3     In honor of the 2018 World Cup, this season of...   \n",
       "4     Fairies living in a fluffy forest, where both ...   \n",
       "...                                                 ...   \n",
       "9189  The Konohagakure Grand Sports Festival has beg...   \n",
       "9190   Special bundled with the Blu-ray/DVD volume of .   \n",
       "9191  According to the official Hobby Japan website,...   \n",
       "9192  A series of comedic shorts featuring chibi ver...   \n",
       "9193  These shorts, included in the Blu-ray and DVD ...   \n",
       "\n",
       "                                                 genres  index  \n",
       "0                                   [Action, Adventure]      1  \n",
       "1                                              [Comedy]      2  \n",
       "2                                        [Comedy, Kids]      8  \n",
       "3                   [Kids, Sci-Fi, Sports, Super Power]      9  \n",
       "4                                       [Fantasy, Kids]     10  \n",
       "...                                                 ...    ...  \n",
       "9189  [Action, Comedy, Fantasy, Other, Shounen, Sports]  13373  \n",
       "9190                                            [Ecchi]  13375  \n",
       "9191                   [Comedy, Ecchi, Fantasy, Parody]  13376  \n",
       "9192               [Adventure, Comedy, Fantasy, Parody]  13377  \n",
       "9193                    [Comedy, Seinen, Slice of Life]  13378  \n",
       "\n",
       "[9194 rows x 4 columns]"
      ]
     },
     "metadata": {},
     "output_type": "display_data"
    },
    {
     "data": {
      "application/vnd.microsoft.datawrangler.viewer.v0+json": {
       "columns": [
        {
         "name": "index",
         "rawType": "int64",
         "type": "integer"
        },
        {
         "name": "title",
         "rawType": "object",
         "type": "string"
        },
        {
         "name": "synopsis",
         "rawType": "object",
         "type": "string"
        },
        {
         "name": "genres",
         "rawType": "object",
         "type": "unknown"
        },
        {
         "name": "index",
         "rawType": "int64",
         "type": "integer"
        }
       ],
       "conversionMethod": "pd.DataFrame",
       "ref": "c7c7c213-7254-4437-a7dd-a7e0d0f8d3ec",
       "rows": [
        [
         "0",
         "Touma Kishinden Oni",
         "Shuramaru is hated and feared by the villagers for his unusual powers. He thinks he is human, but... is he?  (Source: AniDB)",
         "['Supernatural']",
         "0"
        ],
        [
         "1",
         "Uchi no 3 Shimai",
         "The daily life of the Motsumoto family. The three sisters, Fuu, Suu, and Chii, follow what happens on a daily basis. Mother and Father have to deal with them sometimes, but they're used to it.",
         "['Comedy', 'Slice of Life']",
         "3"
        ],
        [
         "2",
         "Running Man",
         "The Soul Tree, the great source of our race.  But for its ultimate power and by those whose minds were blinded by it, it also became the catastrophic cause that had brought never-ending wars between the tribes. Tortured by the agonies of the wars, the leaders of the tribes finally came to a peace agreement that they would instead open a competition. Players, equipped with special watches and shields, compete against each other as winner’s tribe would be awarded with Materion, the sacred fruit of the Soul Tree.  These brave players, who throw themselves in this fierce fight, we call them the Runningman.  (Source: Official YouTube Channel)",
         "['Action', 'Adventure', 'Kids']",
         "4"
        ],
        [
         "3",
         "Miracle! Mimika",
         "Himeno Mimika is a daughter of historical cook family. She goes to a cooking school, Miracle Academy which train cooks all over the world. Vying with rivals, she brings out her gift, and she grows up as a cook.  (Source: AnimeNfo)",
         "['Kids', 'Other', 'Slice of Life']",
         "14"
        ],
        [
         "4",
         "Kick & Slide",
         "The third generation of J SOUL BROTHERS from EXILE TRIBE is reimagined as 7 unique and diverse characters in \"KICK & SLIDE\". This is a slapstick story where the characters solve difficult cases!? and rare cases!? that occur in the colorful and pop vibrant city \"Nakame Town\" with dance and music.  (Source: Official website)",
         "['Kids', 'Music']",
         "22"
        ],
        [
         "5",
         "Zhu Zhu Xia: Zhong Ji Jue Zhan - Qian Ye Pian",
         "A prequel TV series setting up for the feature film.  G.G. Bond's father while exploring ruins gets sucked into a dimension of evil through the Dark Gate. He is bestowed power and knowledge and becomes corrupted as the King of Darkness. Ancient monsters are sent through the cracks of the gate to attack G.G. Bond and his team as the 5 elemental powers are stronger than the King of Darkness. By weakening the team, only then can the King of Darkness forcibly open the gate to unless a reign of terror on the Fairy Tale world.",
         "['Kids', 'Sci-Fi', 'Super Power']",
         "42"
        ],
        [
         "6",
         "Chi-Sui Maru",
         "The offensive and defensive battles between Nobuo, an office worker, and Chi-Sui Maru, a mosquito.",
         "['Comedy']",
         "43"
        ],
        [
         "7",
         "Kkoma Sinseon Tao",
         "This Korean and Chinese co-production series focuses on Tao, a young boy with magical powers, as he attends school to become a wizard. Each episode was composed of two stories.  (Source: Wiki)",
         "['Kids']",
         "45"
        ],
        [
         "8",
         "Ayakashi Triangle",
         "Matsuri Kazamaki and Suzu Kanade are childhood friends, bonded by their shared ability to see ayakashi—youkai in search of a life force to devour. However, in high school, their relationship deteriorates. As Suzu's one-sided feelings are growing, so is the difference in their ayakashi views: Matsuri considers all ayakashi a threat to his friend, while Suzu is an ayakashi medium—someone who exudes a significant amount of life force compared to the average human—and loves them all despite the risk.  When the two stumble upon a talking white cat named Shirogane, they are unaware that it is a four-hundred-year-old ayakashi known as the \"King of Ayakashi.\" He is hell-bent on gaining even more power by devouring Suzu, but as Matsuri swoops in to try and save her by sealing Shirogane's powers, the ayakashi uses a jutsu to turn him into a girl instead!  Matsuri vows to protect Suzu from further harm as her best friend, but he must learn how to act like a girl until his grandfather—a famous wind jutsu exorcist ninja—can undo the jutsu. Meanwhile, Suzu must work out her romantic feelings for Matsuri now that he is no longer a boy. But when Matsuri takes the king as his pet, the future of the two friends seems uncertain.  ",
         "['Action', 'Comedy', 'Ecchi', 'Romance', 'Shounen']",
         "61"
        ],
        [
         "9",
         "Ohayou Hakushon Daimaou",
         "The 3rd continuation of NTV's ZIP! anime parody shorts. This one focuses on . Like with the previous season, occasionally the Gatchaman team and now the Mazinger Z team show up in some episodes.",
         "['Comedy', 'Parody']",
         "64"
        ],
        [
         "10",
         "Titipo Titipo",
         "Say hi to Tayo's new friend - Titipo! Train Center's new born little train Titipo has just passed the driving examination and is prepared to work at the Train Village. Although Titipo dreams of becoming the best train in the world, his curious yet random personality catches him in unforeseen events and troubles everyday. Titipo expands his experience in the greater world and befriends Genie, Diesel, and other little trains. Will Titipo achieve his dream of becoming the best train? Come join the railroad journey and meet Titipo and the little train friends.  (Source: Official YouTube channel)",
         "['Kids', 'Other']",
         "65"
        ],
        [
         "11",
         "Rainbow Ruby",
         "At Ruby's house, a small event related to the main plot of each episode occurs, before a red jewellery on the chest of Choco, Ruby's Teddy bear, flashes with a melody. Ruby then takes Choco to her room, and the two 'transport' themselves to the Rainbow Village. There, Ruby hears an explanation from Ling Ling, the mayor of Rainbow Village, and transforms herself using her Rainbow Roller into an appropriate clothing to solve problems. Each episode concludes, back home, with another small event.  (Source: AniDB) ",
         "['Fantasy', 'Kids']",
         "67"
        ],
        [
         "12",
         "Hei Mao Jing Zhang (1992)",
         "The series follows Officer Black Cat's adventures around the forest neighbourhood, apprehending criminals, dealing justice, and solving crimes.",
         "['Action', 'Adventure', 'Comedy', 'Kids', 'Other']",
         "69"
        ],
        [
         "13",
         "Chara to Otamajakushi Shima",
         "The anime is set on the titular Musical Note Island, where the god of music is said to reside. The island is home to \"instrument animals,\" who are born from music energy, and have parts of their body composed of a musical instrument. One day, a witch arrives at the island. The warrior girl Cara must go on a journey to defeat the witch and win back the peace on the island.  (Source: ANN)",
         "['Adventure', 'Fantasy', 'Kids']",
         "83"
        ],
        [
         "14",
         "Ma-eum-uisoli",
         "While it may seem like a mere depiction of everyday life, The Sound of Your Heart is a comedy filled to the brim with wit, sarcasm, and parody. It gives no regard for the probable or realistic- it is a series of absurd situations that is sure to get a laugh out of every reader willing to suspend their sense of reality.  (Source: LINE Webtoon)",
         "['Comedy', 'Slice of Life']",
         "90"
        ],
        [
         "15",
         "Vazzrock The Animation",
         "The anime will follow two units from the Vazzrock series—Vazzy and Rock Down.",
         "['Music']",
         "96"
        ],
        [
         "16",
         "Kanashiki Debu Neko-chan",
         "The anime's story centers on a cat named Maru, adopted by a girl named Anna from a shelter in Matsuyama city. Loved and well fed by the family, Maru gets rounder and fatter every day, spending most of his day sitting by the window and looking at the garden outside. When the family gets a new cat named Cerisier and begins doting on it, Maru gets jealous. In a fight with Cerisier, Maru is hurt by the family's words to him, and follows the advice of another cat to leave and see the world.  (Source: ANN)",
         "['Slice of Life']",
         "97"
        ],
        [
         "17",
         "Awajishima no Shichifukujin",
         "The story centers on the Seven Gods of Fortune in Japanese mythology as they reside on Awaji Island in Hyogo. In the shorts' story, the Seven Gods of Fortune slack in their duties in heaven, and Susanoo-no-Mikoto banishes them to Awaji Island. In order to return to the heavenly realm, they must help bring happiness to humans and rebuild their virtue. The outcast gods reluctantly grant human wishes and accumulate points in their \"god phones\" to be able to return to heaven. They aim to perform good deeds on particularly auspicious days to maximize point accumulation. Despite their best efforts at accumulating virtue, sometimes the Seven Gods of Fortune end up bringing misfortune to humans. When they fail, they lose points, further prolonging their stay on Awaji Island.  (Source: ANN)",
         "['Comedy', 'Kids', 'Supernatural']",
         "116"
        ],
        [
         "18",
         "Gonglyong Mecard",
         "is a spin-off-series of Mecard, based on the idea that dinosaurs didn't become extinct 65 million years ago, but transformed into mecanimals. Its characters don't have any relations to the cast from , and .  (Source: Gonglyong Mecard Wikia)",
         "['Adventure', 'Kids', 'Mecha', 'Other']",
         "125"
        ],
        [
         "19",
         "Tomodachi Game",
         "Yuuichi Katagiri has battled financial hardships his whole life but has learned to stay content and positive thanks to his close circle of friends. To keep a promise he made to them, Yuuichi saves up enough money to join them on the school trip. But when the gathered money mysteriously goes missing, suspicion falls on two of Yuuichi's friends: Shiho Sawaragi and Makoto Shibe, who were in charge of collecting the payments. Although innocent, Shiho and Makoto take responsibility for the failure to protect the money when no one else comes forward.  A few days later, Yuuichi and his friends receive mysterious letters which trick each of them into meeting up. Upon arrival, they are ambushed and knocked unconscious. They wake up in a mysterious room in the presence of \"Manabu-kun,\" a character from a controversial children's show that stopped airing due to its malicious content. He informs the group that one of them indirectly gathered them together in order to settle a large debt. They are to play a \"friendship game\": a series of games that will test the strength of their bond and trust in each other. As the group's faith wavers due to the growing number of secrets and betrayals, Yuuichi must figure out who of his \"friends\" he can actually trust and ultimately discover the identity of the traitor.  ",
         "['Other', 'Shounen']",
         "134"
        ],
        [
         "20",
         "Koto Nakare Hero Gingerman",
         "Shorts about root vegetables from the refrigerator who try to act like superheroes.",
         "['Comedy']",
         "142"
        ],
        [
         "21",
         "Sakuran Boy DT",
         "The Geisha Tokyo Entertainment company has announced on Wednesday it is producing and airing Sakuran Boy DT, \"Japan's first\" Flash-animated television series about a local costumed hero character. The name of the character is a wordplay on the Japanese translation for \"cherry boy\" — the Japanese slang for a male virgin — and the Sakuranbo television station in the northeastern Japanese city of Yamagata. The story revolves around Satou-kun, an ordinary high school boy who transforms into Sakuran Boy DT to rescue the mayor's daughter from the nefarious secret society Zaou. Sakuranbo has posted a trailer online, and the 11 five-minute weekly episodes will premiere on this station on January 14.",
         "['Comedy', 'Super Power']",
         "151"
        ],
        [
         "22",
         "Soredemo Ayumu wa Yosetekuru",
         "On a whim, first-year Ayumu Tanaka quits the Kendo Club to join the illegitimate Shogi Club. Urushi Yaotome, the president of the club and a master of shogi, is thrilled to finally have a playing partner. As Ayumu's upperclassman, Urushi endeavors to be his shogi mentor and student role model. Too often, however, she finds herself blushing with embarrassment! Stone-faced and honest, Ayumu sees no issue with calling Urushi \"cute.\" Although Ayumu likes her, he refrains from confessing and promises himself to first beat her in a game of shogi.  Through school life and shogi games, the two students have many hilarious and heart-warming adventures. Ayumu enjoys every second with Urushi, but he is still a long way from beating her in shogi. With the commitment he made to himself, will Ayumu ever get the chance to confess his feelings to Urushi?  ",
         "['Comedy', 'Romance', 'School', 'Shounen', 'Slice of Life']",
         "164"
        ],
        [
         "23",
         "Pittanko! Nekozakana",
         "On a distant southern island, a fish (sakana) opened its mouth for a cat (neko), thus \"nekozakana\" (cat-fish) is born.  (Source: ANN)",
         "['Comedy', 'Kids']",
         "175"
        ],
        [
         "24",
         "Möbius Dust",
         "On February 29, 2000, the Möbius meteorites fell on Earth. These meteorites brought a new form of matter known as Möbius Dust to Earth. The dust permeated Earth's atmosphere, leading to a miracle. The day the meteorites fell, nicknamed \"2.29,\" accelerated the economic disparity in Japan.  Before long, the Bloody War Alliance, discontent with this disparity, began committing acts of terrorism. Amidst all this, the police established the anti-RC special mobile unit and a joint anti-RC training school for the initial training of the unit members.  (Source: ANN)",
         "['Action', 'Kids', 'Other']",
         "176"
        ],
        [
         "25",
         "Miniforce",
         "Cute yet mighty! Mini animal rangers transform into super power Force-Bot to save endangered friends! In the ruthless world of animals, big strong animals dominate and feed on the small and weak. To buck this natural system, small animals form a secret organization \"MINIFORCE.\" Rigidly selected mutants with special powers: Volt, Sammy, Lucy and Max become top secret rangers to save their small village Bluebell from the hand of human villain Nein and his underling lizard Pascal. Animals in danger? No problem! When Force-Gem alerts, it's time to get suit on! With Mini Force and their transforming mechanics, it’s time to sweep! (Source: Samg Animation)",
         "['Action', 'Adventure']",
         "181"
        ],
        [
         "26",
         "Curry no Kuni no Coburoux",
         "Coburoux is a prince of Curry Kingdom. Although he is a prince, he goes to the school for common people, and he is treated like other students. In fact, he is scolded by the teacher, is made to stand during class as a punishment, go some errands for a chef, and is teased by a girl whom he loves. He is always worried, and wonders whether the prince should be better. Being surrounded by weird friends and strange people in Curry Kingdom, he spends worrying days.  (Source: AnimeNfo)",
         "['Comedy']",
         "187"
        ],
        [
         "27",
         "Taeko no Nichijou",
         "A short anime about Taeko Shinbou who is an office worker that is patient with everything and greets everything that comes her way with cheer. An announcement was made that a \"regular person\" from Kantou will voice Taeko rather than an industry professional.  (Source: ANN)",
         "['Slice of Life']",
         "197"
        ],
        [
         "28",
         "Oretacha Youkai Ningen",
         "No synopsis information has been added to this title. Help improve our database by adding a synopsis .",
         "['Demons', 'Horror', 'Parody']",
         "225"
        ],
        [
         "29",
         "Jungle Kurobee",
         "Urobe was a son of the great chief of Pyrimi, Africa. One day he hung on an airplane and came to Japan. Because of the cold and hunger, he fell on to the yard of Shishio’s house, and Shishio nursed him. Kurobe was very thankful for him and began to repay for his kindness. Kurobe dug a big hole in the yard.Every time he returns the favor, he threw a stone into the hole until stones would fill the hole.  (Source: ANN)",
         "['Comedy']",
         "230"
        ],
        [
         "30",
         "Renmei Kuugun Koukuu Mahou Ongakutai Luminous Witches",
         "These are witches who defend everyone's smiles and fight enemies through the healing power of music. These witches, opposite of those in the defense fleet, are idols known as the Music Squadron.  (Source: MAL News)",
         "['Ecchi', 'Military', 'Music', 'Sci-Fi']",
         "232"
        ],
        [
         "31",
         "Karakuri Kengou Den Musashi Lord",
         "It is the time of civil war. Zipangu is a country where people live together with gimmick warriors, a kind of super human robot. There, people and gimmick warriors struggle to seize power. Musashi, a Samurai gimmick warrior, departs to on a quest to become the best Samurai warrior. Musashi thrives in the series of battles, encountering with many heroes and villains including his lifelong rival, Kojiro, an expert swordsman.Later, Mushashi and Kojiro are sent by their General to escort the Princess, a granddaughter of the general. The princess is spoiled and difficult, so their journey becomes series of misadventures. Soon, they are caught up in a battle to seize control of the Country.",
         "['Action', 'Adventure', 'Mecha']",
         "237"
        ],
        [
         "32",
         "Beads no Mori no Rabi",
         "A stop-motion anime using beaded characters. Here a magician rabbits solve problems by using magic.",
         "['Kids']",
         "239"
        ],
        [
         "33",
         "Jim Button",
         "Jim Button and his best friend Luke live on an island. When Luke has to leave the island Jim decides to go with him. when they leave they don't have a clue about the hidden dangers in the world. while traveling they learn that a young princess name Lisi was captured by pirates whom brought her to Sorrowland. The evil and dangerous dragon miss. Grindtooth rules in that land. Jim and Luke decide to go to Sorrowland to save princess Lisi.",
         "['Adventure', 'Fantasy', 'Kids']",
         "241"
        ],
        [
         "34",
         "KutsuDaru.",
         "In a Tokyo suburb small town, there lives a girl named Nekota Kaoru. Being born into a normal family, being raised in a normal way, this spring she'll become a normal happy middle-schooler.  However, since young age, Nekota had an abnormal ability to see Imadoki youkai (Modern Monster). And she has kept it a secret from others...",
         "['Fantasy', 'Kids', 'School', 'Slice of Life']",
         "244"
        ],
        [
         "35",
         "Zettai Zetsumei Dangerous Jiisan (2004)",
         "Grandpa Danger is a world where the great protector is Grandpa Danger! He's an expert at falling off of cliffs, dealing with a principal who suffers from a severe inferiority complex, and escaping the hidden dangers of sleep! He's a nonsensical, utterly disgusting, relentless prankster. Grandpa Danger's excessive phlegm and farts frustrate Grandson to hilarious extremes, and make you laugh until your stomach splits!  (Source: AniDB)",
         "['Comedy', 'Kids']",
         "245"
        ],
        [
         "36",
         "Nukko.",
         "The new Nukko. anime is an adolescent school story revolving around Nukko and Nukko's slightly(?) oddball friends.  (Source: ANN)",
         "['Comedy']",
         "253"
        ],
        [
         "37",
         "Fuuto Tantei",
         "In the city of Fuuto, criminals make use of USB-like devices called \"Gaia Memories\" to turn themselves into superpowered monsters known as \"Dopants,\" wreaking havoc in the otherwise peaceful city. However, there are also heroes who utilize the Gaia Memories to fight these criminals, one of whom is the self-proclaimed, hard-boiled detective Shoutarou Hidari. With the help of his witty partner Philip, the two transform into Kamen Rider W—the legendary hero of Fuuto city.  After the fall of Museum—the evil organisation responsible for many crimes in Fuuto—the production and distribution of Gaia Memories has halted. However, remnants of Gaia Memories still remain within society and are sold in the black market at high prices. Thus, the two heroes from Narumi Detective Agency are yet to have time to relax. Sights of Dopants still occur and the agency receives more and more clients who claim to experience supernatural phenomena.  Regardless of the arduous nature of the task, Kamen Rider W promises that those who hurt Fuuto will inevitably count up their sins.  ",
         "['Action', 'Drama', 'Mystery', 'Other', 'Seinen', 'Supernatural']",
         "261"
        ],
        [
         "38",
         "Boo Boo Boy",
         "A young boy has adventures with his transforming car.",
         "['Kids', 'Other']",
         "276"
        ],
        [
         "39",
         "Futoku no Guild",
         "Kikuru Madan, is a monster hunter with excellent performance, because of his particular job in the forest, but he decided to quit it because of fear wasting his own youth...  (Source: LHTranslation)",
         "['Comedy', 'Ecchi', 'Fantasy', 'Harem', 'Shounen']",
         "281"
        ],
        [
         "40",
         "Norakuro",
         "Norakuro is a black dog enlisted in the \"Mokenrentai\" (Fierce Dog Brigade), an Imperial army of dogs fighting in a war against the enemy Monkey Army.  Norakuro is a stray black-and-white dog in an army of white dogs who blundered his way while being a Private Second-Class.  This serieswas relatively faithful to the comics. One big change, however, was the addition of the army nurse Miko, whom Norakuro had a crush on. For this series, Norakuro was voiced by Nobuyo Ooyama, who would later become noted for voicing Doraemon.  (Source: Cartoon Research)",
         "['Comedy']",
         "282"
        ],
        [
         "41",
         "Ten Count",
         "Corporate secretary Shirotani suffers from obsessive-compulsive disorder. One day he meets Kurose, a therapist who offers to take him through a ten-step program to cure him of his compulsion. As the two go through each of the ten steps, Shirotani 's attraction to his counselor grows.  (Source: SuBLime)",
         "['Drama', 'Other', 'Romance']",
         "292"
        ],
        [
         "42",
         "Gan Gan Ganko-chan",
         "The anime follows a boy named Gen, who time travels from the year 2020 to a distant future where humanity has gone extinct. He begins staying at the Ganko family home in the Rustling Forest, where he has none of the amenities he is used to: no electricity, gas, or running water, as well as no television, smartphones, convenience stores, snacks, or games.  (Source: ANN)",
         "['Comedy', 'Kids', 'Sci-Fi']",
         "307"
        ],
        [
         "43",
         "Kuroneko Monroe",
         "The series follows the black cat Monroe and the human Yoppy and their \"normal and special everyday lives.\"  (Source: ANN)",
         "['Comedy']",
         "316"
        ],
        [
         "44",
         "Zhu Zhu Xia: Meng Xiang Shou Wei Zhe",
         "G.G. Bonds enters the realm of dreams to stop evil's power from growing. They must get the citizens of Crystal City to remember their dreams so that the 5 element powers can recharge.",
         "['Kids', 'Sci-Fi', 'Super Power']",
         "319"
        ],
        [
         "45",
         "Uchuu Nanchara Kotetsu-kun",
         "It follows the daily life of Kotetsu-kun, who aspires to be an astronaut, and friends at the Animal Space Academy as they all pursue their dreams.  (Source: ANN)",
         "['Comedy', 'Other']",
         "324"
        ],
        [
         "46",
         "Karl to Fushigi na Tou",
         "The story centers around a mysterious tall tower built from an (unsteady) stack of building blocks. Every morning, noon, and evening, an old timekeeping man rings the bell in the tower to confirm the time for the local townspeople. However, one day at noon, the tower bell fails to ring — leaving the townspeople confused about when to eat lunch. The fantasy adventure begins when Karl, an inquisitive boy living in the town, decides to go to the tower's plaza to see what is the matter.  (Source: ANN)",
         "['Adventure', 'Fantasy', 'Kids', 'Mystery']",
         "333"
        ],
        [
         "47",
         "Kumichou Musume to Sewagakari",
         "WHO'S YOUR NANNY?  Tooru Kirishima is the right-hand man of the Sakuragi crime family. For him, the job is a perfect excuse to let his violent instincts run wild, earning him the nickname \"The Demon of Sakuragi.\" It seems like nothing will stand in the way of his vicious nature. But then one day, he receives an assignment like never before from the boss—babysitting his daughter!  This is the heartwarming (or is it bloodcurdling?) story of a little girl and her yakuza caretaker!  (Source: Kaiten Books, edited)",
         "['Comedy', 'Slice of Life']",
         "337"
        ],
        [
         "48",
         "Extreme Hearts",
         "The story is set in the near future.  'Hyper Sports' became a hobby competitions that is popular with children and adults alike. Hiyori Hayama is an high school singer who has nothing to do with Hyper Sports. However, the story begins to be set in motion after a certain incident and encounter.  \"This is the story about how we met our best friends.\"  (Source: MAL News)",
         "['Music', 'Sports']",
         "343"
        ],
        [
         "49",
         "Waresho! Warera! Shodobutsu Aigo Iinkai",
         "Three girls come from another planet to save the mistreated animals of planet Earth. Black cat Amiru, squirrel Rumi, and rabbit Rie all make their way to Earth but Rie crashes her UFO! Lucky Amiru and Rumi run into Earth girl Minami and together set out to conquer the world!  (Source: Tokyo Otaku Mode)",
         "['Comedy']",
         "348"
        ]
       ],
       "shape": {
        "columns": 4,
        "rows": 1139
       }
      },
      "text/html": [
       "<div>\n",
       "<style scoped>\n",
       "    .dataframe tbody tr th:only-of-type {\n",
       "        vertical-align: middle;\n",
       "    }\n",
       "\n",
       "    .dataframe tbody tr th {\n",
       "        vertical-align: top;\n",
       "    }\n",
       "\n",
       "    .dataframe thead th {\n",
       "        text-align: right;\n",
       "    }\n",
       "</style>\n",
       "<table border=\"1\" class=\"dataframe\">\n",
       "  <thead>\n",
       "    <tr style=\"text-align: right;\">\n",
       "      <th></th>\n",
       "      <th>title</th>\n",
       "      <th>synopsis</th>\n",
       "      <th>genres</th>\n",
       "      <th>index</th>\n",
       "    </tr>\n",
       "  </thead>\n",
       "  <tbody>\n",
       "    <tr>\n",
       "      <th>0</th>\n",
       "      <td>Touma Kishinden Oni</td>\n",
       "      <td>Shuramaru is hated and feared by the villagers...</td>\n",
       "      <td>[Supernatural]</td>\n",
       "      <td>0</td>\n",
       "    </tr>\n",
       "    <tr>\n",
       "      <th>1</th>\n",
       "      <td>Uchi no 3 Shimai</td>\n",
       "      <td>The daily life of the Motsumoto family. The th...</td>\n",
       "      <td>[Comedy, Slice of Life]</td>\n",
       "      <td>3</td>\n",
       "    </tr>\n",
       "    <tr>\n",
       "      <th>2</th>\n",
       "      <td>Running Man</td>\n",
       "      <td>The Soul Tree, the great source of our race.  ...</td>\n",
       "      <td>[Action, Adventure, Kids]</td>\n",
       "      <td>4</td>\n",
       "    </tr>\n",
       "    <tr>\n",
       "      <th>3</th>\n",
       "      <td>Miracle! Mimika</td>\n",
       "      <td>Himeno Mimika is a daughter of historical cook...</td>\n",
       "      <td>[Kids, Other, Slice of Life]</td>\n",
       "      <td>14</td>\n",
       "    </tr>\n",
       "    <tr>\n",
       "      <th>4</th>\n",
       "      <td>Kick &amp; Slide</td>\n",
       "      <td>The third generation of J SOUL BROTHERS from E...</td>\n",
       "      <td>[Kids, Music]</td>\n",
       "      <td>22</td>\n",
       "    </tr>\n",
       "    <tr>\n",
       "      <th>...</th>\n",
       "      <td>...</td>\n",
       "      <td>...</td>\n",
       "      <td>...</td>\n",
       "      <td>...</td>\n",
       "    </tr>\n",
       "    <tr>\n",
       "      <th>1134</th>\n",
       "      <td>Hyakujitsu no Bara: Jinginaki Nikukyuu-hen</td>\n",
       "      <td>Specials included in the OVA of Hyakujitsu no ...</td>\n",
       "      <td>[Other, Parody]</td>\n",
       "      <td>13166</td>\n",
       "    </tr>\n",
       "    <tr>\n",
       "      <th>1135</th>\n",
       "      <td>Ladies versus Butlers! Specials</td>\n",
       "      <td>DVD/BD specials featuring two female cast memb...</td>\n",
       "      <td>[Ecchi, Seinen]</td>\n",
       "      <td>13214</td>\n",
       "    </tr>\n",
       "    <tr>\n",
       "      <th>1136</th>\n",
       "      <td>Cross Road</td>\n",
       "      <td>As college entrance examinations draw near, tw...</td>\n",
       "      <td>[School, Slice of Life]</td>\n",
       "      <td>13276</td>\n",
       "    </tr>\n",
       "    <tr>\n",
       "      <th>1137</th>\n",
       "      <td>Getsuyoubi no Tawawa Specials</td>\n",
       "      <td>Two special episodes of included on Blu-ray. 1...</td>\n",
       "      <td>[Ecchi, Slice of Life]</td>\n",
       "      <td>13313</td>\n",
       "    </tr>\n",
       "    <tr>\n",
       "      <th>1138</th>\n",
       "      <td>Danganronpa 3: The End of Kibougamine Gakuen -...</td>\n",
       "      <td>The Future Foundation is in shambles after the...</td>\n",
       "      <td>[Action, Horror, Mystery, Other]</td>\n",
       "      <td>13331</td>\n",
       "    </tr>\n",
       "  </tbody>\n",
       "</table>\n",
       "<p>1139 rows × 4 columns</p>\n",
       "</div>"
      ],
      "text/plain": [
       "                                                  title  \\\n",
       "0                                   Touma Kishinden Oni   \n",
       "1                                      Uchi no 3 Shimai   \n",
       "2                                           Running Man   \n",
       "3                                       Miracle! Mimika   \n",
       "4                                          Kick & Slide   \n",
       "...                                                 ...   \n",
       "1134         Hyakujitsu no Bara: Jinginaki Nikukyuu-hen   \n",
       "1135                    Ladies versus Butlers! Specials   \n",
       "1136                                         Cross Road   \n",
       "1137                      Getsuyoubi no Tawawa Specials   \n",
       "1138  Danganronpa 3: The End of Kibougamine Gakuen -...   \n",
       "\n",
       "                                               synopsis  \\\n",
       "0     Shuramaru is hated and feared by the villagers...   \n",
       "1     The daily life of the Motsumoto family. The th...   \n",
       "2     The Soul Tree, the great source of our race.  ...   \n",
       "3     Himeno Mimika is a daughter of historical cook...   \n",
       "4     The third generation of J SOUL BROTHERS from E...   \n",
       "...                                                 ...   \n",
       "1134  Specials included in the OVA of Hyakujitsu no ...   \n",
       "1135  DVD/BD specials featuring two female cast memb...   \n",
       "1136  As college entrance examinations draw near, tw...   \n",
       "1137  Two special episodes of included on Blu-ray. 1...   \n",
       "1138  The Future Foundation is in shambles after the...   \n",
       "\n",
       "                                genres  index  \n",
       "0                       [Supernatural]      0  \n",
       "1              [Comedy, Slice of Life]      3  \n",
       "2            [Action, Adventure, Kids]      4  \n",
       "3         [Kids, Other, Slice of Life]     14  \n",
       "4                        [Kids, Music]     22  \n",
       "...                                ...    ...  \n",
       "1134                   [Other, Parody]  13166  \n",
       "1135                   [Ecchi, Seinen]  13214  \n",
       "1136           [School, Slice of Life]  13276  \n",
       "1137            [Ecchi, Slice of Life]  13313  \n",
       "1138  [Action, Horror, Mystery, Other]  13331  \n",
       "\n",
       "[1139 rows x 4 columns]"
      ]
     },
     "metadata": {},
     "output_type": "display_data"
    },
    {
     "data": {
      "application/vnd.microsoft.datawrangler.viewer.v0+json": {
       "columns": [
        {
         "name": "index",
         "rawType": "int64",
         "type": "integer"
        },
        {
         "name": "title",
         "rawType": "object",
         "type": "string"
        },
        {
         "name": "synopsis",
         "rawType": "object",
         "type": "string"
        },
        {
         "name": "genres",
         "rawType": "object",
         "type": "unknown"
        },
        {
         "name": "index",
         "rawType": "int64",
         "type": "integer"
        }
       ],
       "conversionMethod": "pd.DataFrame",
       "ref": "094a0ede-e7b9-4222-a33d-f089d474605f",
       "rows": [
        [
         "0",
         "RPG Fudousan",
         "The story begins 15 years after the demon king was defeated and the world has become peaceful. Kotone, who graduated from school and became a magician, inquired about the kingdom-affiliated RPG Real Estate in order to find a new home. In reality, RPG Real Estate was Kotone's place of employment, and together with Fa, a demi-human, the priest Rufuria, and the soldier Rakira, they help support the searches of new homes for the customers with various circumstances.  (Source: MU, edited)",
         "['Comedy', 'Fantasy', 'Slice of Life']",
         "20"
        ],
        [
         "1",
         "Hyouga Senshi Gaislugger",
         "A cyborg warrior from an ancient Antarctic kingdom awakes 30000 years later from an accidental hibernation to find the Earth changed and an old alien enemy on the verge of invasion. It's up to Guyslugger to use his ancient technology to defeat the aliens.  (Source: AniDB)",
         "['Action', 'Mecha', 'Sci-Fi']",
         "23"
        ],
        [
         "2",
         "Hyper Positive Yogoremon",
         "The story centers on Otarou, a creature themed around dirt known as a yogoremon. It and other yogoremon ask the meaning of words and explain negative terms in positive ways.  (Source: ANN)",
         "['Comedy']",
         "24"
        ],
        [
         "3",
         "Totsugeki! Pappara-tai",
         "An elite soldier, whose nickname is God of Death, is transferred to another unit known as the PaPaRa Army. The PaPaRa Army is infamous for its elite but hilariously crazy members. There is no plot to speak of other than humour, hilarious brutality, and general nonsense. This is also Matsuzawa-sensei's debut work.",
         "['Action', 'Adventure', 'Comedy', 'Romance', 'Sci-Fi']",
         "31"
        ],
        [
         "4",
         "Pink Lady Monogatari: Eikou no Tenshi-tachi",
         "Based on the real life-story of Pink Lady, a female pop duo that rose to superstardom in the mid-1970's.  (Source: ANN)",
         "['Drama', 'Music', 'Slice of Life']",
         "36"
        ],
        [
         "5",
         "Kyuumei Senshi Nanosaver",
         "The third show in the Virtual Trilogy, a mix of anime and live action shots.  In the beginning of the 22nd century society advanced rapidly. Now even children are able to become real doctors, a task before that took two and a half decades to achieve. And nanomachines became prevalent to fight disease. Keita is a Nanosaver, a child doctor who uses the virtual world to apply life saving techniques by entering the body and treating the patients in a virtual medical station (VMS). As more and more patients are taken in, various mysterious are uncovered about them.  In the second half of the anime, a small Ethanarian alien and galactic federation is introduced.",
         "['Adventure', 'Shounen']",
         "38"
        ],
        [
         "6",
         "Anoyo no Subete wa, Obake-gumi!",
         "The gag anime takes place at a school for youkai and other supernatural beings. A vampire named Rakuru transfers to the school from the West, and she tries to change the school as the class representative.",
         "['Comedy', 'Supernatural']",
         "40"
        ],
        [
         "7",
         "Gunma-chan",
         "An anime series based on the Gunma Prefecture mascot character, Gunma-chan.  (Source: Anilist)",
         "['Slice of Life']",
         "52"
        ],
        [
         "8",
         "Gifu no Tatekayoko",
         "The series revolves around life in Gifu Prefecture in central Japan — as seen through the eyes of Tatekayoko, a female inhabitant who speaks in the dialect of Gifu's Tounou region. The anime will air within the program on Tokyo MX.  (Source: ANN)",
         "['Comedy', 'Kids']",
         "59"
        ],
        [
         "9",
         "Manga Nihon Keizai Nyuumon",
         "Depiction of Japan's economy, based on Shoutarou Ishinomori's epynomous manga.",
         "['Drama', 'Historical', 'Seinen', 'Slice of Life']",
         "78"
        ],
        [
         "10",
         "Capsule Boy 2: Ujuleul Jikyeola",
         "The second season of . SBS took over broadcasting the show. The art style has been changed for a more modern anime-esque appearance and some voice actors did not reprise their character's roles.",
         "['Kids', 'Sci-Fi']",
         "86"
        ],
        [
         "11",
         "Xia Lan",
         "When Nian Chi was a young child, his elder sister was kidnapped in front of him, while he could do nothing but watch, a thing that has tormented him for all these years. Now 10 years later, he's dead set on going to rescue his sister, and sets out.",
         "['Action', 'Adventure', 'Drama', 'Fantasy', 'Historical', 'Other', 'Supernatural']",
         "88"
        ],
        [
         "12",
         "Yowamushi Monsters",
         "An NHK toddler's anime following cowardly creatures representing typical Halloween monsters like Dracula and a witch.",
         "['Kids']",
         "100"
        ],
        [
         "13",
         "Kekkero Ke",
         "The anime follows the frogs Kekkero and Ke who try to find their 998 other siblings.  (Source: ANN)",
         "['Comedy']",
         "102"
        ],
        [
         "14",
         "Huoli Shaonian Wang zhi Chuanqi Zaixian",
         "The 3rd animated season. It follows an entirely new story and new characters unrelated to the previous seasons. The previous seasons metaphorical usage of magic/spirit/chi to visualize yoyo battles has now become literal. The yoyo toys have spirit animals within them and the cast tries to return them to their world before the villains use them for evil purposes.  Leon has an argument with his classmate Gurido for trifle. At the advice of Catherine, Leon and Gurido decide to judge the victory or defeat through yoyo competition. The Daemon Tiger appears when Leon and Gurido begin to fight in the woods. Leon follows Daemon Tiger and work with it. With Daemon Tiger’s help, Leon defeats Gurido.  (Source: Official YouTube channel) ",
         "['Fantasy', 'Kids', 'Other']",
         "104"
        ],
        [
         "15",
         "Manul no Yuube",
         "Within the nature \"Darwin Kita! Kikimono Shin Densetsu\" program on NHK1.5 airs the short , based on a web manga/comic of the same name. It following animal characters who visit the bar . The bar is run by the Mama who is a Pallas's cat ( ) and serviced by the hostess Tsunomin who is a Brazilian treehopper ( ).",
         "['Slice of Life']",
         "106"
        ],
        [
         "16",
         "Kami Kuzu☆Idol",
         "Yuuya, one half of the boy pop duo ZINGS, may be the laziest performer in the Japanese music industry. His partner is out there giving 110% every night (and, thankfully, he's quite popular), but Yuuya's half-assed, sloppy dancing, and his frankly hostile attitude toward the audience, has the fans hating him and his agent looking for any excuse to cut him loose. The career of a pop idol just isn't the path of easy leisure and adulation Yuuya expected...  After a particularly lifeless concert appearance, Yuuya meets a girl backstage. She's dressed to the nines in a colorful outfit, she's full of vim and vigor, and all she wants from life is to perform. There's just one problem: She's been dead for a year. This is the ghost of Asahi Mogami, the beloved singer whose time on the stage was tragically cut short, unless... If ghosts are real, is spirit possession really that much of a stretch?  (Source: Kodansha US) ",
         "['Comedy', 'Music', 'Other', 'Supernatural']",
         "107"
        ],
        [
         "17",
         "Sasurai-kun",
         "Based on the gag manga by Fujio A Fujiko.",
         "['Comedy', 'Slice of Life']",
         "108"
        ],
        [
         "18",
         "Nyanfuru",
         "Shorts that feature music note cats. The series premiered on February 22, 2014 on television; the first episode was published on an official YouTube channel that same day.  The whole world is in love with character illustrations of cats, dogs, and bears. A brand-new show, and the first of its kind in Japan, featuring nothing but cat characters for cat lovers started airing in February 2014. A variety of cat characters designed by Japan's topnotch creators and illustrators are animated and they are voiced by popular KAWAII (cute) anime voice actors. This show is a must-see not just for the fans of cat characters but for all anime lovers!  (Source:YouTube)",
         "['Comedy', 'Music']",
         "121"
        ],
        [
         "19",
         "Nanatsu no Maken ga Shihai suru",
         "In the world of magic, there exist deadly irreversible techniques commonly known as spellblades. These sparse and elusive spells, along with their casters, are shrouded in mystery and only their absolute lethality is known to the masses.  Every year, the spring blossom signifies a new intake of students to the prestigious magic school Kimberly. With reactions of awe and bewilderment, a ceremonious parade complete with magical beasts welcomes the newcomers to the institution. Among them is the mysterious Oliver Horn, whose indifference changes to fascination as he notices a peculiar figure—a girl wearing strange attire equipped with a Japanese sword.  From the entrance ceremony onward, Oliver realizes that not all is as it seems at Kimberly, as the emergence of labyrinths, monsters, and other threats endanger the new student body. Nanatsu no Maken ga Shihai suru explores the intertwined fates of two warriors as they uncover the dark truths that lurk within the walls of the academy.  ",
         "['Action', 'Fantasy', 'School']",
         "122"
        ],
        [
         "20",
         "Ice Kuritarou",
         "A short anime that airs within \"Enkame: That's Enka Tainment\" (and enka variety show) program on Asahi TV. It follows a cast of ice cream characters.",
         "['Kids']",
         "138"
        ],
        [
         "21",
         "Kamiwaza Wanda",
         "The story is set in a world where every event has been turned into programs, and mysterious monsters known as \"Promin\" maintain the world. However, many Promin who have turned into bugs known as \"Bugmin\" are responsible for many of the world's real-life bugs. Left alone, they may eventually turn into a big problem. The boy Yuuto encounters the space dog Wanda, and the pair use a camera-like device and key items to capture Bugmin. Promin themselves are able to do things like \"accelerate objects,\" \"spew fire,\" or \"create objects,\" through an ability known as \"Kamiwaza\" (miracle), and are able to fend off Bugmin with it. At first, the Bugmin only cause small, bothersome things, but it will soon elevate into a global scale threat. Can one boy and one dog save the world?  (Source: ANN)",
         "['Kids', 'Sci-Fi']",
         "155"
        ],
        [
         "22",
         "Okashi na Sabaku no Suna to Manu",
         "The story centers on the everyday life of the cats Suna and Manu, who live in a desert — a desert made of sugar instead of sand.  (Source: ANN)",
         "['Comedy']",
         "167"
        ],
        [
         "23",
         "Mahoutsukai ni Narenakatta Onnanoko no Hanashi.",
         "Kurumi Mirai is in the first year of high school.  She has enrolled in junior high section of the Redrun Magic School, the world's only facility for mages that approved by International Mage League and able to work under royal families when graduates, and she was always top of the class. However, when she applies for the high school section and took the examination to get into a mage training class \"Ma-gumi (Mage Class)\", she wasn't able to get in in spite having full scores and was top of the class for the whole three years.  There are some students in the class next to her that takes that class. Among that there's someone she admires. How will Kurumi Mirai who has extraordinary brain but didn't get in to be a mage candidate try to overcome and grow up? What is the aim for Minami Suzuki, a loyal mage who suddenly appears to be the homeroom teacher? This is a relaxing story of her growth.  (Source: MAL News)",
         "['Drama', 'Fantasy', 'School', 'Slice of Life']",
         "169"
        ],
        [
         "24",
         "Xiong Chumo: Chunri Dui Dui Peng",
         "Fourth season of .  Now that spring is in the air, the forest animals are back to frolicking amongst the freshly blooming flowers and busy at work planting new trees to add even more color to their luscious home. The bear brothers—Briar and Bramble, and all their friends are having a jolly great time basking in this colorful season; however, from time to time, they stumble across Logger Vick who will not give up. The bears, along with their little friends make it their mission to protect the forest. This always results in a lot of laughter, tears and of course, adventures aplenty!  (Source: Official website)",
         "['Adventure', 'Comedy', 'Kids']",
         "174"
        ],
        [
         "25",
         "Yasamura Yasashi no Yasashii Sekai",
         "The series follows a mysterious but gentle-hearted man named Yasashi Yasamura who spreads warmth and human kindness wherever he goes.  (Source: Crunchyroll)",
         "['Comedy']",
         "182"
        ],
        [
         "26",
         "Kakuza Tousan",
         "A stop-motion comedy drama about sugar cube people from the Meiji era. Specifically it focuses on the father Kakuza who easily succumbs to emotion usually about his 37 year old daughter Touko's newest fiancé who tries to ask for his blessing. He's scared of losing his daughter even though it was his late wife's dying wish to see her as a happy bride.  The show had a very irregular release schedule and by the end of its serialization its title had changed to .",
         "['Comedy', 'Drama', 'Historical', 'Parody']",
         "185"
        ],
        [
         "27",
         "Shijou Saikyou no Daimaou, Murabito A ni Tensei suru",
         "As the most powerful entity of all time, the Demon Lord Varvatos thinks life is a big fat snore. When he takes matters into his own hands and decides to reincarnate, he calibrates his magical strength to be perfectly average. But there is no way he could have predicted that everyone in the modern world would be weak as hell, which means he is totally overpowered once again! Reborn under the name Ard, he has ladies fawning over him, the royal family begging him to become the next king, and an ex-minion insisting on killing him?! But Ard has a one-track mind, and he won't stop at anything to achieve his ultimate goal!  (Source: Yen Press)",
         "['Action', 'Fantasy', 'School']",
         "192"
        ],
        [
         "28",
         "Collar x Malice",
         "A dangerous shadow organization launches a campaign of fear and violence in the city of Shinjuku, pushing society to the brink of chaos. As a young police officer tasked with restoring order, Ichika Hoshino becomes the target of an attack, and has a poisonous collar attached to her neck. With the situation spiraling out of control and time running out, five mysterious strangers appear to aid her in her quest for the truth. Who can she trust? Will she be able to save herself and the soul of Shinjuku from the clutches of oblivion?  (Source: Aksys Games)",
         "['Mystery', 'Other', 'Romance']",
         "194"
        ],
        [
         "29",
         "\"Eikou Naki Tensai-tachi\" Kara no Monogatari",
         "An anime/documentary series about athletes present by NHK.  The first episode adapts material from Tomoyoshi Itou and Shingo Morita's Weekly Young Jump biographical manga (Geniuses Without Glory)—specifically the story about Hironoshin Furuhashi, the swimmer also known as \"the flying fish of Fujiyama.\" The episode also includes interviews with Olympic swimmer Kousuke Kitajima and other Japanese swimmers about the how Furuhashi changed the Japanese competitive swimming world, as well as what sort of training is required to be an Olympic swimmer.  (Source: ANN, edited)",
         "['Sports']",
         "199"
        ],
        [
         "30",
         "Daifuku-kun@Kin Tele",
         "Part of TV Tokyo's Kinder TV (きんだーてれび) program.",
         "['Comedy']",
         "202"
        ],
        [
         "31",
         "Kemy Lang Buka Chaka",
         "This anime is a fusion of 3D CGI and live-action. Majority of the episodes are Kemy, Buka, and Chaka in their animated club house but other parts of the episodes are the characters imposed on live footage of nature. The program solves various questions by looking at the world with the vision of infants who are still immature in the world.",
         "['Adventure', 'Kids']",
         "210"
        ],
        [
         "32",
         "Hanasaka Tenshi Tenten-kun",
         "A foolish clumsy angel came to the human world to help a very unlucky boy. But more accidents are then created...",
         "['Comedy', 'Fantasy']",
         "216"
        ],
        [
         "33",
         "Shachiku-san wa Youjo Yuurei ni Iyasaretai.",
         "A little ghost girl gets worries when Ms. Fushihara, a corporate slave, is working till midnight, and tries to make her go home. While saying \"Leave now~,\" the ghost girl helps and brings her refreshments, healing Ms. Fushihara's heart with her preciousness. Be healed by the heartwarming daily life of the cute little ghost and the corporate slave Ms. Fushihara.  (Source: MAL News)",
         "['Comedy', 'Shounen', 'Slice of Life', 'Supernatural']",
         "218"
        ],
        [
         "34",
         "Okawari-Boy Starzan-S",
         "On planet Kirakira live two tribes: Senobi and Robot. Senobi, quiet and peacefully set, settle down in the forest. Robot comes from the desert and starts war to take control of afforested grounds. A young hero coming from Senobi tries to appease the whole situation.",
         "['Action', 'Adventure', 'Sci-Fi']",
         "223"
        ],
        [
         "35",
         "Azumi Mamma★Mia",
         "A prospective witch, a kindergartener who acts like a middle aged, an innocent and incompetent pretty devil, and a genius dog which understands man's words presents a slapstick comedy.  (Source: Toei Animation)",
         "['Comedy', 'Kids']",
         "229"
        ],
        [
         "36",
         "Norasco (TV)",
         "musicる TV signed up Norasco for their channel. Some of the ONA's episodes were shown and then the episodes became mostly musicる TV exclusive. ",
         "['Comedy', 'Slice of Life']",
         "250"
        ],
        [
         "37",
         "IDOLiSH7 3rd Season Part 2",
         "Second cour of the third season of .",
         "['Music']",
         "258"
        ],
        [
         "38",
         "Youkaiden Nekome Kozou",
         "The story is told by the cat-eyed boy, hated by humans and demons, who engages in tales of terror, including monsters and children.",
         "['Adventure', 'Horror', 'Other', 'Seinen', 'Supernatural']",
         "259"
        ],
        [
         "39",
         "Asa Da yo! Kaishain",
         "The series follows a variety of employed shellfish who exhibit selfish or odd personality traits.  (Source: LiveChart)",
         "['Comedy']",
         "265"
        ],
        [
         "40",
         "Zo Zo Zo Zombie-kun (TV)",
         "A gag comedy aimed at young children featuring Zombie-kun, a child zombie, and his interactions with the world. It's not intended to be scary in the slightest, but rather, it focuses on the comical and bizarre things Zombie-kun's body can do, and the common-sense-defying way Zombie-kun behaves. For example, he'll take out his stomach and inflate it with air to use as a pillow, or if he gets wet, he'll detach parts of his body and wring them out like towels, then reattach them with a glue stick. Everything is depicted in a cute, cartoony fashion so as not to be too graphic for kids.  (Source: Baka-Updates)",
         "['Comedy', 'Kids']",
         "271"
        ],
        [
         "41",
         "The Legend of Huainanzi",
         "During the ancient Western Han dynasty (206BC-9AD), a series of disasters caused by occult phenomena swept across the entire world. Huainanzi, the mysterious Chinese book bound in bamboo, was ripped apart and sent through time to different historical junctures. The book pieces were transformed into various objects, waiting to be rediscovered. A hundred years later, a young man, named Hong Lie, lifts up the burden to collect the missing pieces of the ancient bamboo book. With the help of Ba Gong and his friends going through the Gate of 24 Solar Terms, Hong Lie travels through dynasties to search for the lost pieces. In his adventure, Hong Lie and his loyal friends, Ji Ming and Gou Tiao, experienced the greatness of the ancient legends, appreciating the wisdom of the ancestors from Chun Qiu Period, and witnessed all the weird things happening among ordinary people. Warmth and coldness, sadness and happiness, separation and reunion, stories led him to the great world in the book Huainanzi. Through exciting adventures, he also made lifelong friends. In this special way, Hong Lie communicated with ancestors and started to see the principle of world, realizing that obeying the laws of nature and being in harmony with the environment was the right thing to do. A simple collecting journey slowly became a challenging trip for him to go on with his family mission, and inherit the ancestor’s spirit. (Source: Wikipedia)",
         "['Adventure', 'Fantasy', 'Historical']",
         "272"
        ],
        [
         "42",
         "Spoon-hime no Swing Kitchen",
         "An NHK toddler's anime following a Spoon Princess and other kitchen themed characters.",
         "['Adventure', 'Kids']",
         "275"
        ],
        [
         "43",
         "Shokei Shoujo no Virgin Road",
         "The Lost Ones are wanderers who come here from a distant world known as \"Japan.\" No one knows how or why they leave their homes. The only thing that is certain is that they bring disaster and calamity. The duty of exterminating them without remorse falls to Menou, a young Executioner. When she meets Akari, it seems like just another job...until she discovers it's impossible to kill this girl! And when Menou begins to search for a way to defeat this immortality, Akari is more than happy to tag along! So begins a journey that will change Menou forever...  (Source: Yen Press)",
         "['Action', 'Adventure', 'Fantasy']",
         "279"
        ],
        [
         "44",
         "Digital Tokoro-san",
         "CGI shorts about famous Japanese comedian George Tokoro.",
         "['Comedy']",
         "288"
        ],
        [
         "45",
         "Chikkun Takkun",
         "The \"Waruchin Ceremony\" has been stolen from All Star, a planet that exists in the outskirts of space. The computer that is built into it is programmed to make anything possible. The thief is actually the villain, Doctor Bell. Doctor Bell schemes to invade the other planets through the use of Waruchin. The prince of All Star, Prince Chikkun, together with his trusty advisor, the intellectual Takkun, decides to head towards Earth in pursuit of Doctor Bell.  (Source: ANN)",
         "['Comedy', 'Sci-Fi']",
         "293"
        ],
        [
         "46",
         "Zen-chan Two-chan",
         "A daily educational TV anime broadcasted on NTV focusing on teaching children traffic safety. It was rebroadcasted on other networks till 1978. The anime ran in a 5-minute time slot but shared some of the air time with some live-action shorts/series also meant for children.  ",
         "['Kids']",
         "298"
        ],
        [
         "47",
         "PJ Berri no Mogumogu Munyamunya Season 2",
         "The second season of . Its broadcast will be in the same timeslot as the re-airing of the original 2001 anime on Fuji TV.",
         "['Comedy']",
         "304"
        ],
        [
         "48",
         "Shisukon Ouji",
         "Based on a manga by Fujiko (A) Fujio and Fujiko (F) Fujio.",
         "['Adventure']",
         "326"
        ],
        [
         "49",
         "Sore Ike! Zukkoke Sannin-gumi",
         "Based on Nasu Masamoto's Zukkoke Sannin-gumi juvenile novels series.  The main characters are 6 grade boys, Hachibei, Hakase, and Mo-chan. This anime shows their adventures.  (Source: AnimeNfo)",
         "['Comedy', 'Kids', 'School']",
         "328"
        ]
       ],
       "shape": {
        "columns": 4,
        "rows": 1127
       }
      },
      "text/html": [
       "<div>\n",
       "<style scoped>\n",
       "    .dataframe tbody tr th:only-of-type {\n",
       "        vertical-align: middle;\n",
       "    }\n",
       "\n",
       "    .dataframe tbody tr th {\n",
       "        vertical-align: top;\n",
       "    }\n",
       "\n",
       "    .dataframe thead th {\n",
       "        text-align: right;\n",
       "    }\n",
       "</style>\n",
       "<table border=\"1\" class=\"dataframe\">\n",
       "  <thead>\n",
       "    <tr style=\"text-align: right;\">\n",
       "      <th></th>\n",
       "      <th>title</th>\n",
       "      <th>synopsis</th>\n",
       "      <th>genres</th>\n",
       "      <th>index</th>\n",
       "    </tr>\n",
       "  </thead>\n",
       "  <tbody>\n",
       "    <tr>\n",
       "      <th>0</th>\n",
       "      <td>RPG Fudousan</td>\n",
       "      <td>The story begins 15 years after the demon king...</td>\n",
       "      <td>[Comedy, Fantasy, Slice of Life]</td>\n",
       "      <td>20</td>\n",
       "    </tr>\n",
       "    <tr>\n",
       "      <th>1</th>\n",
       "      <td>Hyouga Senshi Gaislugger</td>\n",
       "      <td>A cyborg warrior from an ancient Antarctic kin...</td>\n",
       "      <td>[Action, Mecha, Sci-Fi]</td>\n",
       "      <td>23</td>\n",
       "    </tr>\n",
       "    <tr>\n",
       "      <th>2</th>\n",
       "      <td>Hyper Positive Yogoremon</td>\n",
       "      <td>The story centers on Otarou, a creature themed...</td>\n",
       "      <td>[Comedy]</td>\n",
       "      <td>24</td>\n",
       "    </tr>\n",
       "    <tr>\n",
       "      <th>3</th>\n",
       "      <td>Totsugeki! Pappara-tai</td>\n",
       "      <td>An elite soldier, whose nickname is God of Dea...</td>\n",
       "      <td>[Action, Adventure, Comedy, Romance, Sci-Fi]</td>\n",
       "      <td>31</td>\n",
       "    </tr>\n",
       "    <tr>\n",
       "      <th>4</th>\n",
       "      <td>Pink Lady Monogatari: Eikou no Tenshi-tachi</td>\n",
       "      <td>Based on the real life-story of Pink Lady, a f...</td>\n",
       "      <td>[Drama, Music, Slice of Life]</td>\n",
       "      <td>36</td>\n",
       "    </tr>\n",
       "    <tr>\n",
       "      <th>...</th>\n",
       "      <td>...</td>\n",
       "      <td>...</td>\n",
       "      <td>...</td>\n",
       "      <td>...</td>\n",
       "    </tr>\n",
       "    <tr>\n",
       "      <th>1122</th>\n",
       "      <td>Dimension W: Short Track/Robot wa Sentou no Yu...</td>\n",
       "      <td>An unaired episode released with the sixth BD ...</td>\n",
       "      <td>[Sci-Fi, Seinen]</td>\n",
       "      <td>12769</td>\n",
       "    </tr>\n",
       "    <tr>\n",
       "      <th>1123</th>\n",
       "      <td>Amagami SS+ Plus: Extra Episode+ Plus</td>\n",
       "      <td>Short extras of the anime included in each of ...</td>\n",
       "      <td>[Romance]</td>\n",
       "      <td>12909</td>\n",
       "    </tr>\n",
       "    <tr>\n",
       "      <th>1124</th>\n",
       "      <td>Dimension W: W no Tobira Online - Rose no Onay...</td>\n",
       "      <td>Short specials included in the Blu-ray release...</td>\n",
       "      <td>[Sci-Fi, Seinen]</td>\n",
       "      <td>12959</td>\n",
       "    </tr>\n",
       "    <tr>\n",
       "      <th>1125</th>\n",
       "      <td>Sugar*Soldier</td>\n",
       "      <td>Three episodes aired on TV as part of the Ribo...</td>\n",
       "      <td>[Shoujo]</td>\n",
       "      <td>13264</td>\n",
       "    </tr>\n",
       "    <tr>\n",
       "      <th>1126</th>\n",
       "      <td>Steins;Gate: Kyoukaimenjou no Missing Link - D...</td>\n",
       "      <td>Having reached his emotional breaking point, R...</td>\n",
       "      <td>[Other, Sci-Fi]</td>\n",
       "      <td>13374</td>\n",
       "    </tr>\n",
       "  </tbody>\n",
       "</table>\n",
       "<p>1127 rows × 4 columns</p>\n",
       "</div>"
      ],
      "text/plain": [
       "                                                  title  \\\n",
       "0                                          RPG Fudousan   \n",
       "1                              Hyouga Senshi Gaislugger   \n",
       "2                              Hyper Positive Yogoremon   \n",
       "3                                Totsugeki! Pappara-tai   \n",
       "4           Pink Lady Monogatari: Eikou no Tenshi-tachi   \n",
       "...                                                 ...   \n",
       "1122  Dimension W: Short Track/Robot wa Sentou no Yu...   \n",
       "1123              Amagami SS+ Plus: Extra Episode+ Plus   \n",
       "1124  Dimension W: W no Tobira Online - Rose no Onay...   \n",
       "1125                                      Sugar*Soldier   \n",
       "1126  Steins;Gate: Kyoukaimenjou no Missing Link - D...   \n",
       "\n",
       "                                               synopsis  \\\n",
       "0     The story begins 15 years after the demon king...   \n",
       "1     A cyborg warrior from an ancient Antarctic kin...   \n",
       "2     The story centers on Otarou, a creature themed...   \n",
       "3     An elite soldier, whose nickname is God of Dea...   \n",
       "4     Based on the real life-story of Pink Lady, a f...   \n",
       "...                                                 ...   \n",
       "1122  An unaired episode released with the sixth BD ...   \n",
       "1123  Short extras of the anime included in each of ...   \n",
       "1124  Short specials included in the Blu-ray release...   \n",
       "1125  Three episodes aired on TV as part of the Ribo...   \n",
       "1126  Having reached his emotional breaking point, R...   \n",
       "\n",
       "                                            genres  index  \n",
       "0                 [Comedy, Fantasy, Slice of Life]     20  \n",
       "1                          [Action, Mecha, Sci-Fi]     23  \n",
       "2                                         [Comedy]     24  \n",
       "3     [Action, Adventure, Comedy, Romance, Sci-Fi]     31  \n",
       "4                    [Drama, Music, Slice of Life]     36  \n",
       "...                                            ...    ...  \n",
       "1122                              [Sci-Fi, Seinen]  12769  \n",
       "1123                                     [Romance]  12909  \n",
       "1124                              [Sci-Fi, Seinen]  12959  \n",
       "1125                                      [Shoujo]  13264  \n",
       "1126                               [Other, Sci-Fi]  13374  \n",
       "\n",
       "[1127 rows x 4 columns]"
      ]
     },
     "metadata": {},
     "output_type": "display_data"
    }
   ],
   "source": [
    "from my_import import *\n",
    "df_train = pd.read_csv('df_train.csv')\n",
    "df_val = pd.read_csv('df_val.csv')\n",
    "df_test = pd.read_csv('df_test.csv')\n",
    "\n",
    "#Make sure the genre collumns is in lists not strings\n",
    "#NEED TO DO THIS EVERYTIME EXPORT DATASET\n",
    "df_train['genres'] = df_train['genres'].apply(lambda x: list(ast.literal_eval(x)))\n",
    "df_val['genres'] = df_val['genres'].apply(lambda x: list(ast.literal_eval(x)))\n",
    "df_test['genres'] = df_test['genres'].apply(lambda x: list(ast.literal_eval(x)))\n",
    "\n",
    "display(df_train)\n",
    "display(df_val)\n",
    "display(df_test)"
   ]
  },
  {
   "cell_type": "code",
   "execution_count": 2,
   "id": "62b675ed",
   "metadata": {},
   "outputs": [],
   "source": [
    "# import nltk\n",
    "# from nltk.stem import WordNetLemmatizer\n",
    "# from nltk.corpus import stopwords\n",
    "# import re\n",
    "\n",
    "# Download essential resources\n",
    "# nltk.download('punkt_tab')         # tokenizer\n",
    "# nltk.download('stopwords')     # stopword list\n",
    "# nltk.download('wordnet')       # lemmatizer\n",
    "# nltk.download('omw-1.4')       # lemmatizer support data\n",
    "lemmatizer = WordNetLemmatizer()\n",
    "stop_words = set(stopwords.words('english'))\n",
    "\n",
    "def clean_text(text):\n",
    "    tokens = nltk.word_tokenize(text.lower())\n",
    "    tokens = [lemmatizer.lemmatize(word) for word in tokens if word.isalpha() and word not in stop_words]\n",
    "    return ' '.join(tokens)\n",
    "\n",
    "df_train['clean_synopsis'] = df_train['synopsis'].apply(clean_text)\n",
    "df_val['clean_synopsis'] = df_val['synopsis'].apply(clean_text)\n",
    "df_test['clean_synopsis'] = df_test['synopsis'].apply(clean_text)\n",
    "\n",
    "\n"
   ]
  },
  {
   "cell_type": "code",
   "execution_count": 45,
   "id": "80c5dc9f",
   "metadata": {},
   "outputs": [
    {
     "name": "stdout",
     "output_type": "stream",
     "text": [
      "['000' '000 years' '009' ... 'zone' 'zoo' 'zoro'] 10000\n",
      "['abandon' 'abandoned' 'abducted' ... 'zoo' 'zoro' 'éclair'] 10000\n"
     ]
    }
   ],
   "source": [
    "X_train = vectorizer.fit_transform(df_train['synopsis'])\n",
    "print(vectorizer.get_feature_names_out(),len(vectorizer.get_feature_names_out()))\n",
    "\n",
    "\n",
    "X_train = vectorizer.fit_transform(df_train['clean_synopsis'])\n",
    "print(vectorizer.get_feature_names_out(),len(vectorizer.get_feature_names_out()))\n",
    "\n"
   ]
  },
  {
   "cell_type": "code",
   "execution_count": 48,
   "id": "ac3b0b1d",
   "metadata": {},
   "outputs": [
    {
     "name": "stdout",
     "output_type": "stream",
     "text": [
      "['abandon', 'abandoned', 'abducted', 'abduction', 'ability', 'ability make', 'ability transform', 'able', 'able defeat', 'able make', 'able overcome', 'able protect', 'able return', 'able save', 'able stop', 'able survive', 'able use', 'abnormal', 'aboard', 'abound', 'abroad', 'abrupt', 'abruptly', 'absence', 'absent', 'absolute', 'absolutely', 'absorb', 'absorbed', 'abstract', 'abstract animation', 'absurd', 'abuse', 'abyss', 'academic', 'academy', 'academy boy', 'academy boy tennis', 'academy boy tennis team', 'academy city', 'academy girl', 'academy prestigious', 'academy school', 'academy student', 'academy student council', 'accept', 'acceptance', 'accepted', 'accepting', 'accepts', 'access', 'accident', 'accidentally', 'acclaimed', 'accompanied', 'accompanies', 'accompany', 'accompanying', 'accomplish', 'accomplished', 'according', 'account', 'accused', 'accustomed', 'ace', 'ace pilot', 'achieve', 'achieve dream', 'achieve goal', 'achieve victory', 'achieved', 'achievement', 'achieving', 'acknowledge', 'acorn', 'acquaintance', 'acquainted', 'acquire', 'acquired', 'acquires', 'act', 'act like', 'acting', 'action', 'action comedy', 'activated', 'activates', 'active', 'activity', 'actor', 'actress', 'actual', 'actually', 'ad', 'adachi', 'adamant', 'adapt', 'adapt new', 'adaptation', 'adaptation manga', 'adapted', 'adapting', 'adaption', 'adapts', 'add', 'added', 'added series', 'added series update', 'added series update information', 'addicted', 'addition', 'additional', 'additionally', 'address', 'adjust', 'administration', 'admiral', 'admiration', 'admired', 'admirer', 'admires', 'adolescent', 'adopted', 'adoptive', 'adopts', 'adorable', 'adult', 'adult game', 'adult manga', 'adult video', 'adulthood', 'advance', 'advanced', 'advanced technology', 'advancement', 'advantage', 'adventure', 'adventure begin', 'adventure source', 'adventure source ann', 'adventure world', 'adventure young', 'adventurer', 'adventurous', 'adversary', 'adversity', 'advertise', 'advertisement', 'advertising', 'advice', 'advisor', 'aeka', 'aeon', 'affair', 'affect', 'affected', 'affecting', 'affection', 'affectionate', 'afford', 'afraid', 'africa', 'afro', 'afterlife', 'aftermath', 'afternoon', 'afterward', 'age', 'aged', 'agency', 'agenda', 'agent', 'aggressive', 'ago', 'agree', 'agreed', 'agreeing', 'agreement', 'agrees', 'agrees help', 'agricultural', 'agumon', 'ah', 'ahead', 'ai', 'ai car', 'aichi', 'aid', 'aida', 'aide', 'aided', 'aihara', 'aika', 'aikatsu', 'aikawa', 'aiko', 'aim', 'aimed', 'aiming', 'aimlessly', 'ainu', 'ainz', 'air', 'aircraft', 'aired', 'aired episode', 'aired tv', 'aired week', 'airi', 'airing', 'airplane', 'airport', 'airship', 'aizawa', 'ajin', 'aka', 'akagi', 'akai', 'akane', 'akari', 'akashi', 'akatsuki', 'akechi', 'akemi', 'aki', 'akihabara', 'akihiko', 'akihito', 'akiko', 'akimi', 'akin', 'akina', 'akira', 'akita', 'akito', 'akiyama', 'akizuki', 'akko', 'ako', 'akuma', 'akuto', 'al', 'aladdin', 'alarm', 'alarming', 'alba', 'albeit', 'albion', 'album', 'alchemist', 'alchemy', 'alcohol', 'alcoholic', 'alexis', 'alfred', 'alias', 'alice', 'alien', 'alien creature', 'alien invader', 'alien named', 'alien race', 'alien threat', 'alike', 'alive', 'allegiance', 'allen', 'alley', 'alliance', 'allied', 'allow', 'allowed', 'allowing', 'allows', 'alluring', 'ally', 'alma', 'alongside', 'alongside friend', 'aloof', 'alp', 'alpha', 'alphonse', 'altar', 'alter', 'alter ego', 'altered', 'alternate', 'alternate universe', 'alternate world', 'alternative', 'alto', 'altogether', 'alucard', 'alumnus', 'amakusa', 'amami', 'amamiya', 'amanda', 'amano', 'amateur', 'amazing', 'amazon', 'ambition', 'ambitious', 'ambushed', 'america', 'american', 'ami', 'amid', 'amidst', 'amnesia', 'amnesiac', 'amon', 'amu', 'amuro', 'amuro ray', 'amusement', 'amusement club', 'amusement park', 'ancestor', 'ancestral', 'ancient', 'ancient legend', 'ancient time', 'android', 'ane', 'anew', 'ange', 'angel', 'angel demon', 'angela', 'angelic', 'anger', 'angered', 'angry', 'anidb', 'anilist', 'animal', 'animal live', 'animal source', 'animated', 'animated commercial', 'animated feature', 'animated film', 'animated promotional', 'animated promotional video', 'animated series', 'animated short', 'animated short film', 'animated studio', 'animated tv', 'animated version', 'animated video', 'animation', 'animation film', 'animation released', 'animation series', 'animation source', 'animation studio', 'animator', 'anime', 'anime adaptation', 'anime adaptation manga', 'anime based', 'anime bundled', 'anime center', 'anime character', 'anime encyclopedia', 'anime episode', 'anime feature', 'anime featuring', 'anime film', 'anime follows', 'anime movie', 'anime released', 'anime series', 'anime short', 'anime source', 'anime source ann', 'anime special', 'anime starring', 'anime story', 'anime tour', 'animenfo', 'anise', 'ann', 'ann edited', 'anna', 'anne', 'annie', 'anniversary', 'announce', 'announced', 'announcement', 'announces', 'annoying', 'annual', 'anomaly', 'anonymous', 'answer', 'answered', 'antagonist', 'anthology', 'anthropomorphic', 'antic', 'anticipated', 'antique', 'anxiety', 'anxious', 'anya', 'anymore', 'anytime', 'anzu', 'ao', 'ao guang', 'aoba', 'aoi', 'aoyama', 'aozaki', 'apart', 'apartment', 'apartment complex', 'apathetic', 'ape', 'aphrodisiac', 'aphrodite', 'apocalypse', 'apologize', 'app', 'apparent', 'apparently', 'apparition', 'appeal', 'appear', 'appearance', 'appeared', 'appearing', 'appears', 'appease', 'appetite', 'apple', 'application', 'apply', 'appointed', 'appreciation', 'apprentice', 'approach', 'approached', 'approaching', 'approaching earth', 'appropriate', 'apricot', 'april', 'april fool', 'aptitude', 'aqua', 'aquarium', 'araki', 'arale', 'araragi', 'arashi', 'arata', 'arc', 'arcade', 'arcade game', 'arcadia', 'arceus', 'archer', 'architect', 'archive', 'area', 'arena', 'arguing', 'argument', 'aria', 'arika', 'arima', 'arion', 'arisa', 'arise', 'arisen', 'arises', 'aristocrat', 'ark', 'arm', 'armed', 'armor', 'armored', 'army', 'arranged', 'arrangement', 'array', 'arrest', 'arrested', 'arrival', 'arrive', 'arrived', 'arrives', 'arriving', 'arrogance', 'arrogant', 'arrow', 'arsenal', 'arslan', 'art', 'art online', 'art school', 'art tournament', 'arthur', 'artifact', 'artificial', 'artificial human', 'artificial intelligence', 'artisan', 'artist', 'asagi', 'asahi', 'asahina', 'asakura', 'asami', 'ash', 'asia', 'asian', 'aside', 'ask', 'asked', 'asking', 'asks', 'asks help', 'asleep', 'asou', 'aspect', 'aspiration', 'aspire', 'aspires', 'aspiring', 'assailant', 'assassin', 'assassinate', 'assassinated', 'assassination', 'assault', 'assaulted', 'assemble', 'assembled', 'asset', 'assigned', 'assignment', 'assist', 'assistance', 'assistant', 'assisted', 'associate', 'associated', 'association', 'assortment', 'assume', 'assumes', 'asteroid', 'astro', 'astro boy', 'astronaut', 'astronomy', 'asuka', 'asumi', 'asuna', 'ataru', 'ate', 'atelier', 'athena', 'athlete', 'athletic', 'atlantis', 'atmosphere', 'atobe', 'atom', 'atone', 'atop', 'atsuko', 'atsushi', 'attached', 'attack', 'attacked', 'attacker', 'attacking', 'attain', 'attaining', 'attempt', 'attempt escape', 'attempt make', 'attempt save', 'attempted', 'attempting', 'attend', 'attend school', 'attendant', 'attended', 'attending', 'attending school', 'attends', 'attention', 'attitude', 'attract', 'attracted', 'attraction', 'attractive', 'attracts', 'auction', 'audience', 'audio', 'audition', 'augmented', 'august', 'aunt', 'aura', 'aurora', 'author', 'authority', 'automaton', 'automobile', 'autumn', 'available', 'avan', 'avatar', 'avenge', 'avenger', 'average', 'average high', 'average high school', 'average high school student', 'avert', 'avoid', 'avoided', 'avoiding', 'avoids', 'await', 'awaited', 'awaiting', 'awaits', 'awaken', 'awakened', 'awakening', 'awakens', 'award', 'aware', 'awareness', 'away', 'away day', 'away home', 'away source', 'away year', 'awe', 'awesome', 'awkward', 'awry', 'axis', 'aya', 'ayaka', 'ayakashi', 'ayako', 'ayanagi', 'ayane', 'ayano', 'ayase', 'ayato', 'ayumi', 'ayumu', 'azaka', 'aznable', 'azuma', 'azusa', 'babel', 'baby', 'backed', 'background', 'backkom', 'bacteria', 'bad', 'bad guy', 'bad luck', 'badly', 'bag', 'bahamut', 'bai', 'baja', 'baka', 'bakabt', 'bakery', 'baki', 'baking', 'bakugan', 'balance', 'balance world', 'balancing', 'ball', 'balloon', 'balot', 'bamboo', 'ban', 'banagher', 'banba', 'band', 'band hawk', 'band member', 'bandai', 'bandai namco', 'bandit', 'bang', 'banish', 'banished', 'bank', 'banned', 'banquet', 'bao', 'bar', 'bare', 'barely', 'bargained', 'baron', 'barren', 'barrier', 'basara', 'base', 'baseball', 'baseball game', 'baseball player', 'baseball team', 'based', 'based adult', 'based adult game', 'based adult manga', 'based adult pc', 'based adult pc game', 'based child', 'based erotic', 'based erotic game', 'based game', 'based japanese', 'based manga', 'based novel', 'based original', 'based popular', 'based story', 'basement', 'basic', 'basically', 'basis', 'basket', 'basketball', 'basketball team', 'bat', 'bath', 'bathhouse', 'bathing', 'bathroom', 'batou', 'battle', 'battle begin', 'battle evil', 'battle source', 'battlefield', 'battler', 'battleship', 'battling', 'battousai', 'bay', 'bd', 'bd box', 'bd box set', 'bd dvd', 'bd release', 'beach', 'beam', 'bean', 'bear', 'bearing', 'beast', 'beat', 'beaten', 'beating', 'beatrice', 'beautiful', 'beautiful girl', 'beautiful princess', 'beautiful woman', 'beautiful young', 'beauty', 'bed', 'bedroom', 'bee', 'beet', 'beetle', 'befall', 'befalls', 'befriend', 'befriended', 'befriending', 'befriends', 'began', 'begging', 'begin', 'begin adventure', 'begin change', 'begin journey', 'begin learn', 'begin new', 'begin notice', 'begin question', 'begin realize', 'begin source', 'begin source anidb', 'begin source ann', 'begin source mal', 'begin source mal news', 'begin story', 'begin training', 'begin uncover', 'begin working', 'beginning', 'beginning new', 'begs', 'begun', 'behalf', 'behave', 'behavior', 'behest', 'bei', 'belief', 'believe', 'believed', 'believing', 'bell', 'belldandy', 'belong', 'belonging', 'belongs', 'beloved', 'belt', 'beneath', 'benefit', 'bent', 'berserk', 'beset', 'best', 'best friend', 'best known', 'best player', 'bestows', 'bet', 'beta', 'betrayal', 'betrayed', 'better', 'beverage', 'bewildered', 'beyblade', 'bible', 'bicycle', 'bid', 'big', 'big city', 'big sister', 'big trouble', 'bigger', 'biggest', 'bike', 'biker', 'bilibili', 'bilibili translated', 'billion', 'bind', 'bing', 'biological', 'bird', 'birth', 'birthday', 'birthplace', 'biscotti', 'biscuit', 'bit', 'bite', 'biting', 'bitter', 'bittersweet', 'bizarre', 'bl', 'black', 'black cat', 'black dragon', 'black jack', 'black knight', 'black white', 'blackmail', 'blackmailed', 'blacksmith', 'blade', 'bladers', 'blame', 'blast', 'blaster', 'blazing', 'bleak', 'blend', 'blending', 'blessed', 'blessing', 'blind', 'blissful', 'block', 'blond', 'blonde', 'blood', 'bloodline', 'bloodshed', 'bloodthirsty', 'bloody', 'bloom', 'blossom', 'blow', 'blown', 'blue', 'blunt', 'board', 'board game', 'boarding', 'boarding school', 'boat', 'bocchan', 'body', 'body soul', 'body source', 'bodyguard', 'boisterous', 'boku', 'bold', 'boldly', 'bolt', 'bomb', 'bomber', 'bomberman', 'bombing', 'bond', 'bond friendship', 'bone', 'bonus', 'bonus dvd', 'bonus episode', 'book', 'book friend', 'bookstore', 'bookworm', 'boomer', 'boost', 'boot', 'border', 'bored', 'borgman', 'boring', 'born', 'born raised', 'boruto', 'bos', 'botan', 'bother', 'bottle', 'bought', 'bound', 'boundary', 'bounty', 'bounty hunter', 'bout', 'bow', 'bowl', 'box', 'box set', 'boxer', 'boxing', 'boy', 'boy class', 'boy girl', 'boy life', 'boy living', 'boy love', 'boy named', 'boy tennis', 'boy tennis team', 'boyfriend', 'brain', 'bramble', 'branch', 'brand', 'brand new', 'brave', 'bravery', 'brawl', 'bread', 'break', 'break curse', 'break free', 'breaking', 'breast', 'breath', 'breed', 'brewing', 'briar', 'bride', 'bridge', 'brief', 'briefly', 'brigade', 'bright', 'brilliance', 'brilliant', 'brimming', 'bring', 'bring home', 'bring justice', 'bring peace', 'bring world', 'bringing', 'brings', 'brink', 'britain', 'britannia', 'britannian', 'british', 'broadcast', 'broadcasted', 'broadcasting', 'broke', 'broken', 'broly', 'bronze', 'brooch', 'brother', 'brother sister', 'brother source', 'brought', 'brought life', 'brush', 'brutal', 'brutality', 'brutally', 'brutally murdered', 'brute', 'bubble', 'bubbly', 'buddha', 'buddhism', 'buddhist', 'budding', 'buddy', 'budget', 'buff', 'bug', 'build', 'building', 'built', 'bulbapedia', 'bullet', 'bullied', 'bully', 'bullying', 'bulma', 'bump', 'bunch', 'bundled', 'bundled dvd', 'bundled dvd volume', 'bundled limited', 'bundled limited edition', 'bundled limited edition manga', 'bundled limited edition volume', 'bundled manga', 'bundled manga volume', 'bundled ninth', 'bundled release', 'bundled seventh', 'bundled special', 'bundled special edition', 'bundled volume', 'bundled volume manga', 'bunny', 'bunta', 'burden', 'burdened', 'bureau', 'buried', 'burn', 'burned', 'burning', 'burst', 'bus', 'business', 'businessman', 'bust', 'buster', 'bustling', 'bustling city', 'busty', 'busy', 'butei', 'butler', 'butt', 'butterfly', 'button', 'buy', 'buying', 'ca', 'ca help', 'ca stand', 'cacao', 'cadet', 'caelum', 'cafe', 'café', 'cage', 'cagliostro', 'cain', 'cake', 'calamity', 'called', 'called black', 'calling', 'calm', 'came', 'came earth', 'cameo', 'camera', 'camp', 'campaign', 'camping', 'campus', 'canada', 'canceled', 'cancelled', 'cancer', 'candidate', 'candy', 'cannon', 'cao', 'capability', 'capable', 'capacity', 'capcom', 'capeta', 'capital', 'capital city', 'capsule', 'captain', 'captivated', 'captivating', 'captive', 'captor', 'capture', 'captured', 'captured taken', 'capturing', 'car', 'car accident', 'card', 'card game', 'cardfight', 'cardinal', 'care', 'care little', 'career', 'carefree', 'carefree life', 'careful', 'carefully', 'caretaker', 'cargo', 'caring', 'carnal', 'carnea', 'carnival', 'carol', 'carp', 'carried', 'carrier', 'carrot', 'carry', 'carrying', 'cartoon', 'carve', 'case', 'case involving', 'case source', 'cash', 'casino', 'cast', 'castle', 'casual', 'casualty', 'cat', 'cat mouse', 'cat named', 'cataclysm', 'cataclysmic', 'cataloging', 'cataloging japan', 'catalyst', 'catastrophe', 'catastrophic', 'catch', 'catch eye', 'catcher', 'catching', 'catgirls', 'catty', 'caught', 'cause', 'caused', 'causing', 'cave', 'cd', 'cease', 'celebi', 'celebrate', 'celebrated', 'celebrates', 'celebrating', 'celebration', 'celebrity', 'celestial', 'cell', 'cell phone', 'cellphone', 'center', 'center attention', 'centered', 'central', 'century', 'century ago', 'ceo', 'ceremony', 'certain', 'certain death', 'certainly', 'cg', 'cg animation', 'chain', 'chain event', 'chairman', 'chaldea', 'challenge', 'challenged', 'challenger', 'challenging', 'chamber', 'champion', 'championship', 'chance', 'chance encounter', 'chance life', 'change', 'change fate', 'change life', 'change life forever', 'change meet', 'change source', 'change world', 'changed', 'changed life', 'changing', 'channel', 'chaos', 'chaotic', 'chapter', 'chapter manga', 'char', 'char aznable', 'character', 'character created', 'character design', 'character designer', 'character game', 'character posted', 'character posted official', 'character posted official twitter', 'character series', 'character source', 'characteristic', 'charat', 'charge', 'charged', 'chariot', 'charismatic', 'charlotte', 'charm', 'charming', 'chase', 'chased', 'chasing', 'cheating', 'check', 'cheer', 'cheerful', 'cheerleading', 'cheese', 'chef', 'chemical', 'chen', 'cheng', 'cherry', 'cherry blossom', 'cherry tree', 'chest', 'chi', 'chiaki', 'chiba', 'chibi', 'chibi form', 'chibi parody', 'chicken', 'chidori', 'chie', 'chief', 'chihaya', 'chihiro', 'chika', 'child', 'child book', 'child story', 'childhood', 'childhood friend', 'childish', 'childlike', 'china', 'chinatsu', 'chinese', 'chino', 'chip', 'chirico', 'chisato', 'chise', 'chitose', 'chiyo', 'chizuru', 'chocola', 'chocolate', 'choice', 'choose', 'chooses', 'choosing', 'chore', 'chose', 'chosen', 'chosen child', 'choujin', 'chris', 'christmas', 'christmas eve', 'chronicle', 'chronologically', 'chu', 'chuck', 'chun', 'church', 'ciao', 'cicada', 'ciel', 'cinderella', 'cinema', 'cinque', 'circle', 'circumstance', 'circus', 'citizen', 'city', 'city hunter', 'city known', 'city life', 'city source', 'city source ann', 'city tokyo', 'civil', 'civil war', 'civilian', 'civilization', 'clad', 'claim', 'claimed', 'claiming', 'claire', 'clan', 'clan source', 'clash', 'class', 'class day', 'class representative', 'classic', 'classical', 'classified', 'classmate', 'classroom', 'claude', 'claus', 'claw', 'clay', 'claymation', 'clean', 'cleaning', 'clear', 'clearly', 'clerk', 'clever', 'client', 'cliff', 'climax', 'climb', 'climbing', 'cling', 'clip', 'clock', 'clone', 'cloning', 'close', 'close friend', 'closed', 'closely', 'closer', 'closest', 'closest friend', 'closing', 'closure', 'cloth', 'clothes', 'clothing', 'cloud', 'clow', 'clown', 'club', 'club activity', 'club club', 'club member', 'club room', 'club school', 'clue', 'clueless', 'clumsy', 'cluster', 'clutch', 'cm', 'coach', 'coast', 'coastal', 'cobra', 'cockroach', 'coco', 'cocoa', 'cocotama', 'code', 'codename', 'coexist', 'coexistence', 'coffee', 'coffee shop', 'coffin', 'coin', 'coincidence', 'coincidentally', 'cold', 'collaboration', 'collaboration anime', 'collaboration commercial', 'collaboration episode', 'collaboration japan', 'collaborative', 'collaborative cataloging', 'collaborative cataloging japan', 'collapse', 'collapsed', 'colleague', 'collect', 'collected', 'collecting', 'collection', 'collection short', 'collector', 'college', 'college entrance', 'college student', 'collide', 'collision', 'colonel', 'colonized', 'colony', 'color', 'colored', 'colorful', 'colorido', 'colossal', 'coma', 'combat', 'combination', 'combine', 'combined', 'combining', 'come', 'come attack', 'come close', 'come contact', 'come end', 'come form', 'come home', 'come learn', 'come life', 'come light', 'come love', 'come new', 'come price', 'come realize', 'come rescue', 'come school', 'come source', 'come term', 'come true', 'come visit', 'comedian', 'comedic', 'comedy', 'comedy anime', 'comedy film', 'comedy follows', 'comedy manga', 'comedy series', 'comet', 'comfort', 'comfortable', 'comic', 'comical', 'coming', 'coming end', 'command', 'commanded', 'commander', 'commanding', 'commandment', 'commemorate', 'commemorating', 'commemoration', 'commence', 'commences', 'comment', 'commentary', 'commercial', 'commission', 'commissioned', 'commissioned commercial', 'commit', 'commitment', 'commits', 'committed', 'committed suicide', 'committee', 'committing', 'commodore', 'common', 'common people', 'commoner', 'commonly', 'commonly known', 'commonplace', 'commonwealth', 'commotion', 'communicate', 'communication', 'community', 'companion', 'company', 'compared', 'compassionate', 'compelled', 'compete', 'competent', 'competing', 'competition', 'competitive', 'competitor', 'compilation', 'compilation film', 'compilation movie', 'compiled', 'complains', 'complete', 'complete mission', 'complete opposite', 'completed', 'completely', 'completely different', 'completing', 'completion', 'complex', 'complicate', 'complicated', 'complication', 'composed', 'composer', 'composure', 'comprised', 'computer', 'comrade', 'conan', 'conan edogawa', 'concealed', 'concept', 'concern', 'concerned', 'concerning', 'concert', 'concert band', 'conclusion', 'concubine', 'condition', 'conduct', 'conductor', 'conference', 'confess', 'confess feeling', 'confess love', 'confessed', 'confesses', 'confesses love', 'confessing', 'confession', 'confidence', 'confident', 'confined', 'confinement', 'confines', 'conflict', 'conflicting', 'confront', 'confrontation', 'confronted', 'confronting', 'confronts', 'confused', 'confusing', 'confusion', 'conglomerate', 'connect', 'connected', 'connecting', 'connection', 'connects', 'conquer', 'conquer world', 'conquered', 'conquering', 'conquest', 'consciousness', 'consecutive', 'consequence', 'consequence action', 'consequently', 'consider', 'considerable', 'consideration', 'considered', 'considering', 'considers', 'consist', 'consisting', 'consists', 'conspiracy', 'conspiracy source', 'constant', 'constantly', 'constantly trying', 'constellation', 'constructed', 'construction', 'consumed', 'consumes', 'contact', 'contain', 'contained', 'container', 'containing', 'contains', 'contaminated', 'contemporary', 'contend', 'content', 'contest', 'continent', 'continually', 'continuation', 'continue', 'continued', 'continues', 'continues story', 'continuing', 'continuously', 'contract', 'contracted', 'contractor', 'contrary', 'contrast', 'control', 'controlled', 'controlling', 'convenience', 'convenience store', 'convenient', 'convention', 'conversation', 'convey', 'convict', 'convince', 'convinced', 'convinces', 'convincing', 'cook', 'cooking', 'cool', 'cooperate', 'cooperation', 'coordinator', 'cop', 'cope', 'copy', 'core', 'corner', 'corocoro', 'corocoro comic', 'corp', 'corporate', 'corporation', 'corps', 'corpse', 'correct', 'corrupt', 'corrupted', 'corruption', 'cosmetic', 'cosmic', 'cosmo', 'cosmos', 'cosplay', 'cost', 'costume', 'council', 'council member', 'council president', 'counseling', 'count', 'counter', 'counterattack', 'counterpart', 'countless', 'country', 'countryside', 'coup', 'couple', 'courage', 'courage confess', 'courageous', 'courier', 'course', 'court', 'cousin', 'cover', 'covered', 'covering', 'covert', 'coveted', 'cow', 'cowardly', 'coworkers', 'crab', 'crack', 'craft', 'crash', 'crashed', 'crashing', 'craving', 'crazy', 'crazy adventure', 'cream', 'create', 'create new', 'created', 'creates', 'creating', 'creation', 'creative', 'creativity', 'creator', 'creature', 'creature called', 'creature known', 'creature named', 'credit', 'creepy', 'crew', 'crew member', 'crime', 'crime syndicate', 'criminal', 'crimson', 'crippled', 'crippling', 'crisis', 'critical', 'crop', 'cross', 'cross path', 'crossing', 'crossover', 'crow', 'crowd', 'crowded', 'crown', 'crowned', 'crucial', 'cruel', 'cruel fate', 'cruise', 'crumbling', 'crunchyroll', 'crunchyroll edited', 'crusade', 'crush', 'crushed', 'crusher', 'crushing', 'cryptic', 'crystal', 'cub', 'cube', 'cuisine', 'culinary', 'culprit', 'cult', 'cultivation', 'cultural', 'culture', 'cunning', 'cup', 'cup noodle', 'cure', 'curiosity', 'curious', 'current', 'currently', 'curse', 'cursed', 'curtain', 'custody', 'custom', 'customer', 'cut', 'cut short', 'cute', 'cute girl', 'cute little', 'cuteness', 'cutthroat', 'cutting', 'cyber', 'cyber formula', 'cybernetic', 'cyborg', 'cycle', 'cycling', 'da', 'dad', 'daemon', 'dai', 'daichi', 'daigo', 'daikichi', 'daily', 'daily life', 'daisuke', 'dam', 'damage', 'damaged', 'damon', 'damsel', 'dan', 'dance', 'dancer', 'dancing', 'danger', 'dangerous', 'dangerously', 'dare', 'daring', 'dark', 'dark force', 'dark hour', 'dark secret', 'darker', 'darkest', 'darkness', 'daru', 'dash', 'data', 'date', 'dating', 'daughter', 'daunting', 'dawn', 'day', 'day come', 'day day', 'day encounter', 'day friend', 'day girl', 'day high', 'day high school', 'day later', 'day life', 'day like', 'day meet', 'day met', 'day mysterious', 'day new', 'day night', 'day pas', 'day receives', 'day school', 'day source', 'day summer', 'day work', 'day year', 'daydream', 'dazai', 'dazzling', 'dc', 'dead', 'dead father', 'deadline', 'deadly', 'deadly sin', 'deadly virus', 'deaf', 'deal', 'dealer', 'dealing', 'dealt', 'dear', 'dear friend', 'dearest', 'death', 'death father', 'death god', 'death life', 'death metal', 'death mother', 'death parent', 'death source', 'debate', 'debt', 'debut', 'debuted', 'decade', 'decade ago', 'decade later', 'deceased', 'deceit', 'december', 'deception', 'decide', 'decide help', 'decided', 'decides', 'decides help', 'decides join', 'decides make', 'deciding', 'decimated', 'decipher', 'decision', 'decisive', 'deck', 'declaration', 'declare', 'declared', 'declares', 'decline', 'declining', 'decoration', 'decreased', 'dedicate', 'dedicated', 'dedicates', 'dedication', 'deed', 'deemed', 'deep', 'deep forest', 'deep mountain', 'deepens', 'deeper', 'deepest', 'deeply', 'deer', 'defeat', 'defeat demon', 'defeat evil', 'defeated', 'defeating', 'defend', 'defend world', 'defender', 'defending', 'defends', 'defense', 'defense force', 'definitely', 'deformed', 'defy', 'degree', 'deity', 'deku', 'delf', 'delicacy', 'delicate', 'delicious', 'delight', 'delightful', 'delinquent', 'deliver', 'delivered', 'delivering', 'delivery', 'deltora', 'delusion', 'delve', 'delving', 'demand', 'demanding', 'demeanor', 'demise', 'demolished', 'demon', 'demon clan', 'demon human', 'demon king', 'demon lord', 'demon slayer', 'demon world', 'demonic', 'demonstrate', 'demonstrates', 'demonstrating', 'denied', 'denies', 'denizen', 'densetsu', 'densuke', 'deny', 'denzel', 'department', 'department store', 'departs', 'departure', 'depends', 'depict', 'depicted', 'depicting', 'depiction', 'depicts', 'deployed', 'depraved', 'depressed', 'depression', 'deprived', 'depth', 'descend', 'descendant', 'descended', 'descends', 'descent', 'described', 'describes', 'description', 'desert', 'deserted', 'deserve', 'deserves', 'design', 'design team', 'designated', 'designed', 'designer', 'designing', 'desire', 'desire source', 'desired', 'desiring', 'desk', 'desolate', 'despair', 'desperate', 'desperate attempt', 'desperately', 'desperately want', 'desperation', 'despises', 'despite', 'despite fact', 'destination', 'destined', 'destiny', 'destroy', 'destroy humanity', 'destroy world', 'destroyed', 'destroyer', 'destroying', 'destroys', 'destruction', 'destruction source', 'destructive', 'destructive power', 'detailed', 'detective', 'detective agency', 'detective boy', 'determination', 'determine', 'determined', 'determined make', 'determined save', 'determined win', 'devastated', 'devastating', 'devastation', 'develop', 'developed', 'developer', 'developing', 'development', 'develops', 'device', 'devil', 'devious', 'devise', 'devoid', 'devote', 'devoted', 'devotes', 'devour', 'di', 'diabolical', 'dialogue', 'diamond', 'diana', 'diary', 'die', 'died', 'difference', 'different', 'different people', 'different way', 'different world', 'difficult', 'difficulty', 'digimon', 'digital', 'digital world', 'dilemma', 'diligent', 'dimension', 'dimensional', 'dinner', 'dinosaur', 'dio', 'dire', 'direct', 'directed', 'directing', 'direction', 'directly', 'director', 'director cut', 'dirty', 'dirty pair', 'disappear', 'disappearance', 'disappeared', 'disappearing', 'disappears', 'disappointed', 'disappointment', 'disarray', 'disaster', 'disastrous', 'disbanded', 'disbandment', 'disc', 'disciple', 'discipline', 'discover', 'discover secret', 'discover true', 'discover truth', 'discovered', 'discovering', 'discovers', 'discovery', 'discus', 'discussion', 'disease', 'disguise', 'disguised', 'disgusted', 'dish', 'disk', 'dislike', 'dismay', 'disorder', 'dispatch', 'dispatched', 'display', 'disposal', 'dispute', 'disrupt', 'disrupted', 'distance', 'distant', 'distant future', 'distinct', 'distinguished', 'distracted', 'distraught', 'distress', 'district', 'disturbance', 'disturbed', 'disturbing', 'dive', 'diver', 'diverse', 'divided', 'divine', 'diving', 'division', 'divorce', 'dj', 'dle', 'dlsite', 'dna', 'doctor', 'document', 'documentary', 'dog', 'dog named', 'dojo', 'doll', 'domain', 'dome', 'domestic', 'dominate', 'dominate world', 'domination', 'don', 'donghua', 'doom', 'doomed', 'door', 'doraemon', 'doremi', 'dorm', 'dormant', 'dormitory', 'dororo', 'dorothy', 'double', 'doubt', 'doujin', 'doujinshi', 'doumeki', 'downfall', 'downhill', 'downtown', 'dozen', 'dracula', 'drag', 'dragged', 'dragon', 'dragon ball', 'dragon force', 'dragon king', 'drained', 'drama', 'drama club', 'drama episode', 'drama episode included', 'drama included', 'drama special', 'dramatic', 'drastic', 'drastically', 'draw', 'draw closer', 'draw near', 'drawing', 'drawn', 'dreadful', 'dream', 'dream come', 'dream come true', 'dream day', 'dream life', 'dream professional', 'dream source', 'dream world', 'dreamed', 'dreaming', 'dreamt', 'dress', 'dressed', 'dressing', 'drift', 'drifting', 'drink', 'drinking', 'drive', 'driven', 'driver', 'driving', 'drone', 'drop', 'dropout', 'dropped', 'dropping', 'drowning', 'drug', 'drum', 'drunk', 'dry', 'dual', 'dubbed', 'duckling', 'duel', 'duel master', 'duelist', 'duke', 'dull', 'dumb', 'dump', 'dumped', 'dungeon', 'duo', 'duration', 'dusk', 'dust', 'duty', 'dvd', 'dvd box', 'dvd bundled', 'dvd episode', 'dvd release', 'dvd special', 'dvd volume', 'dwarf', 'dy', 'dying', 'dynamic', 'dynasty', 'dystopian', 'eager', 'eagerly', 'eagle', 'eagle talon', 'ear', 'ear tail', 'earl', 'earlier', 'early', 'early century', 'early day', 'earn', 'earn money', 'earned', 'earnest', 'earning', 'earns', 'earth', 'earth alien', 'earth defense', 'earth federation', 'earth source', 'earth source ann', 'earth space', 'earth sphere', 'earth surface', 'earth year', 'earthquake', 'earthquake tsunami', 'ease', 'easier', 'easier said', 'easily', 'east', 'easter', 'eastern', 'easy', 'easy task', 'easygoing', 'eat', 'eaten', 'eater', 'eating', 'eats', 'eccentric', 'eccentricity', 'ecchi', 'echizen', 'echo', 'eclipse', 'economic', 'economy', 'ecosystem', 'ecstasy', 'ed', 'eden', 'edge', 'edited', 'edition', 'edition manga', 'edition manga volume', 'edition volume', 'edition volume manga', 'editor', 'edo', 'edo period', 'edogawa', 'educate', 'education', 'educational', 'educational anime', 'educational film', 'edward', 'eerie', 'eerily', 'effect', 'effective', 'effectively', 'efficient', 'effort', 'egg', 'ego', 'egypt', 'eighth', 'eiichirou', 'eiji', 'eijun', 'eiko', 'ein', 'eita', 'el', 'elaborate', 'elder', 'elder brother', 'elder sister', 'elderly', 'eldest', 'elected', 'election', 'electric', 'electrical', 'electricity', 'electronic', 'electronics', 'elegant', 'element', 'elemental', 'elementary', 'elementary school', 'elementary school student', 'elena', 'elephant', 'elevator', 'elf', 'eliminate', 'eliminating', 'elite', 'elle', 'elli', 'elsie', 'elusive', 'elven', 'ema', 'email', 'embark', 'embark journey', 'embark quest', 'embarking', 'embarks', 'embarks journey', 'embarrassed', 'embarrassing', 'embarrassment', 'emblem', 'embrace', 'embroiled', 'embryo', 'emerald', 'emerge', 'emerged', 'emergence', 'emergency', 'emerges', 'emerging', 'emi', 'emilia', 'emiya', 'emma', 'emotion', 'emotional', 'emotionally', 'emperor', 'empire', 'employ', 'employed', 'employee', 'employer', 'employment', 'empress', 'en', 'en route', 'enables', 'enamored', 'enchanted', 'encounter', 'encounter mysterious', 'encounter strange', 'encounter various', 'encounter young', 'encountered', 'encountering', 'encourage', 'encouraged', 'encouragement', 'encourages', 'encyclopedia', 'end', 'end century', 'end episode', 'end falling', 'end fighting', 'end getting', 'end life', 'end meet', 'end source', 'end war', 'end world', 'end year', 'endeavor', 'ended', 'ending', 'endless', 'endou', 'endowed', 'endure', 'enduring', 'enemy', 'enemy source', 'energetic', 'energy', 'energy source', 'enforcement', 'enforcer', 'engage', 'engaged', 'engages', 'engaging', 'engine', 'engineer', 'engineering', 'england', 'english', 'enhanced', 'enigmatic', 'enix', 'enjoy', 'enjoyable', 'enjoyed', 'enjoying', 'enjoys', 'enlist', 'enlisting', 'enlists', 'enlists help', 'enma', 'enormous', 'enraged', 'enroll', 'enrolled', 'enrolls', 'enslaved', 'ensue', 'ensues', 'ensuing', 'ensure', 'ensuring', 'entail', 'entangled', 'enter', 'enter world', 'entered', 'entering', 'enterprise', 'enters', 'entertain', 'entertaining', 'entertainment', 'enthusiasm', 'enthusiast', 'enthusiastic', 'entire', 'entire city', 'entire life', 'entire world', 'entirely', 'entitled', 'entity', 'entity known', 'entrance', 'entrance exam', 'entrusted', 'entry', 'environment', 'environmental', 'envy', 'ep', 'epic', 'epidemic', 'epilogue', 'episode', 'episode aired', 'episode aired episode', 'episode aired tv', 'episode airing', 'episode anime', 'episode based', 'episode bundled', 'episode bundled limited', 'episode bundled limited edition', 'episode bundled volume', 'episode character', 'episode character posted', 'episode character posted official', 'episode contains', 'episode count', 'episode cover', 'episode dvd', 'episode episode', 'episode feature', 'episode featuring', 'episode focus', 'episode included', 'episode included dvd', 'episode included dvd release', 'episode included release', 'episode included volume', 'episode main', 'episode original', 'episode ovum', 'episode place', 'episode released', 'episode released dvd', 'episode season', 'episode second', 'episode series', 'episode source', 'episode special', 'episode story', 'episode streamed', 'episode tv', 'episode tv series', 'eps', 'equal', 'equally', 'equipment', 'equipped', 'era', 'eradicate', 'erased', 'eren', 'eri', 'erika', 'erin', 'erina', 'eroge', 'erogeshop', 'erotic', 'erotic game', 'errand', 'erupts', 'escalate', 'escalates', 'escapade', 'escape', 'escaped', 'escaping', 'escort', 'especially', 'esper', 'espers', 'essay', 'essence', 'essential', 'essentially', 'establish', 'established', 'establishment', 'estate', 'eternal', 'eternal life', 'etiquette', 'eureka', 'eureka seven', 'europe', 'european', 'evacuate', 'evangelion', 'eve', 'evening', 'event', 'event occurred', 'event original', 'event series', 'eventual', 'eventually', 'everybody', 'everyday', 'everyday life', 'evidence', 'evil', 'evil force', 'evil monster', 'evil organization', 'evil plan', 'evil source', 'evil spirit', 'evil witch', 'evolution', 'evolve', 'evolved', 'evolves', 'evolving', 'ex', 'exact', 'exact revenge', 'exactly', 'exactly like', 'exam', 'examination', 'example', 'excalibur', 'exceed', 'excel', 'excellence', 'excellent', 'exception', 'exceptional', 'exchange', 'excited', 'excitement', 'exciting', 'exciting adventure', 'exclusive', 'exclusively', 'excursion', 'executed', 'execution', 'exercise', 'exhibit', 'exhibition', 'exile', 'exiled', 'exist', 'existed', 'existence', 'existing', 'exists', 'exorcist', 'exotic', 'expand', 'expanded', 'expanding', 'expect', 'expectation', 'expected', 'expecting', 'expects', 'expedition', 'expelled', 'expense', 'expensive', 'experience', 'experienced', 'experiencing', 'experiment', 'experimental', 'experimental film', 'expert', 'expertise', 'explain', 'explained', 'explaining', 'explains', 'explanation', 'explode', 'explodes', 'exploit', 'exploration', 'explore', 'explores', 'exploring', 'explosion', 'explosive', 'expo', 'expose', 'exposed', 'express', 'expression', 'extended', 'extent', 'exterior', 'exterminate', 'extinct', 'extinction', 'extra', 'extra episode', 'extra episode included', 'extract', 'extracurricular', 'extraordinarily', 'extraordinary', 'extraordinary power', 'extraterrestrial', 'extravagant', 'extreme', 'extremely', 'eye', 'eye source', 'fable', 'fabled', 'fabric', 'facade', 'face', 'face challenge', 'faced', 'facility', 'facing', 'fact', 'faction', 'factory', 'fade', 'fail', 'failed', 'failing', 'fails', 'failure', 'faint', 'fair', 'fairly', 'fairy', 'fairy tail', 'fairy tale', 'faith', 'faithful', 'fake', 'fall', 'fall apart', 'fall asleep', 'fall love', 'fall sky', 'fall victim', 'fallen', 'fallen love', 'falling', 'false', 'fame', 'famed', 'familia', 'familiar', 'familiar face', 'family', 'family friend', 'family life', 'family member', 'family restaurant', 'family source', 'family source ann', 'famous', 'fan', 'fan disc', 'fang', 'fansubs', 'fantastic', 'fantastical', 'fantasy', 'fantasy world', 'far', 'far away', 'farewell', 'farm', 'farmer', 'fascinated', 'fascinating', 'fashion', 'fashion designer', 'fashionable', 'fast', 'faster', 'fat', 'fatal', 'fatally', 'fate', 'fate world', 'fated', 'fateful', 'fateful day', 'fateful encounter', 'father', 'father daughter', 'father death', 'father died', 'father mother', 'favor', 'favorite', 'fear', 'feared', 'fearful', 'fearing', 'fearsome', 'feast', 'feat', 'feather', 'feature', 'feature character', 'feature film', 'feature new', 'feature original', 'featured', 'featuring', 'featuring cast', 'featuring character', 'featuring new', 'february', 'fed', 'federal', 'federation', 'feed', 'feel', 'feel like', 'feeling', 'feeling source', 'fei', 'feline', 'fell', 'fell love', 'fellow', 'fellow classmate', 'fellow student', 'felt', 'female', 'female student', 'female teacher', 'female warrior', 'feminine', 'fend', 'fending', 'feng', 'ferocious', 'festa', 'festival', 'festival source', 'festivity', 'fetish', 'feudal', 'feudal japan', 'fiancé', 'fiancée', 'fiction', 'fictional', 'field', 'field trip', 'fierce', 'fierce battle', 'fiery', 'fifth', 'fifth grader', 'fifth holy', 'fifth holy grail', 'fifth holy grail war', 'fight', 'fight alongside', 'fight crime', 'fight enemy', 'fight evil', 'fight life', 'fight protect', 'fight survival', 'fight variety', 'fight variety program', 'fight way', 'fighter', 'fighter pilot', 'fighting', 'figure', 'figure way', 'file', 'filled', 'film', 'film based', 'film depicts', 'film directed', 'film feature', 'film festival', 'film released', 'film series', 'film set', 'film source', 'film starring', 'film story', 'filmworks', 'final', 'final battle', 'final episode', 'final year', 'finale', 'finally', 'financial', 'finding', 'fine', 'finest', 'finger', 'finish', 'finished', 'finishing', 'fiore', 'firearm', 'fired', 'firework', 'firm', 'firmly', 'firsthand', 'fish', 'fisherman', 'fishing', 'fist', 'fit', 'fitting', 'fix', 'fixed', 'flag', 'flame', 'flame haze', 'flash', 'flash anime', 'flash drive', 'flashback', 'flavor', 'flaw', 'fled', 'flee', 'fleeing', 'flees', 'fleet', 'flesh', 'flight', 'float', 'floating', 'floating island', 'flooded', 'floor', 'flora', 'flourish', 'flourishing', 'flow', 'flower', 'flowing', 'fluffy', 'fluid', 'flurry', 'flustered', 'fly', 'flyer', 'flying', 'focus', 'focused', 'focusing', 'foe', 'fog', 'foil', 'foiled', 'folk', 'folk tale', 'folklore', 'folktale', 'follow', 'followed', 'follower', 'following', 'following event', 'following year', 'follows', 'follows adventure', 'follows boy', 'follows boy named', 'follows boy named quon', 'follows daily', 'follows everyday', 'follows girl', 'follows life', 'follows story', 'follows young', 'fond', 'food', 'fool', 'foot', 'footage', 'football', 'football frontier', 'footstep', 'forbidden', 'force', 'force earth', 'force evil', 'force known', 'force source', 'forced', 'forced fight', 'forced live', 'forcibly', 'forcing', 'forefront', 'forehead', 'foreign', 'foreigner', 'forest', 'forever', 'forge', 'forged', 'forget', 'forgets', 'forging', 'forgot', 'forgotten', 'form', 'form band', 'form bond', 'form team', 'format', 'formation', 'formed', 'formidable', 'formidable opponent', 'forming', 'formula', 'formula world', 'formula world grand', 'formula world grand prix', 'forth', 'fortress', 'fortunate', 'fortunately', 'fortune', 'forum', 'forward', 'fossil', 'foster', 'fought', 'foundation', 'founded', 'founder', 'founding', 'fourth', 'fourth volume', 'fox', 'fox spirit', 'fragile', 'fragment', 'frame', 'framed', 'france', 'franchise', 'frank', 'frankenstein', 'frantically', 'franz', 'fray', 'freak', 'free', 'free planet', 'free planet alliance', 'free time', 'freed', 'freedom', 'freeing', 'freely', 'freeze', 'french', 'frenzy', 'frequent', 'frequently', 'fresh', 'freshman', 'friction', 'friday', 'friend', 'friend acquaintance', 'friend ally', 'friend decide', 'friend enemy', 'friend family', 'friend fellow', 'friend fight', 'friend foe', 'friend help', 'friend like', 'friend live', 'friend make', 'friend new', 'friend rin', 'friend rival', 'friend set', 'friend source', 'friend source ann', 'friend spend', 'friend stop', 'friend time', 'friend try', 'friendless', 'friendly', 'friendship', 'frieza', 'frightened', 'frightening', 'frog', 'frontier', 'frozen', 'fruit', 'fruition', 'fruitless', 'frustrated', 'frustrating', 'frustration', 'fu', 'fubuki', 'fudou', 'fuel', 'fueled', 'fugitive', 'fuji', 'fujiko', 'fujino', 'fujiwara', 'fukui', 'fukuoka', 'fukushima', 'fukushima prefecture', 'fulfill', 'fulfill dream', 'fulfill promise', 'fulfill wish', 'fulfilled', 'fulfilling', 'fullest', 'fully', 'fuma', 'fumi', 'fumihiko', 'fun', 'fun game', 'function', 'fund', 'funded', 'funeral', 'funimation', 'funny', 'furious', 'furry', 'furthermore', 'furukawa', 'fury', 'fuse', 'fusion', 'futaba', 'futile', 'future', 'future earth', 'future human', 'future humanity', 'future mankind', 'future self', 'future source', 'future source ann', 'future world', 'futuristic', 'fuu', 'fuuka', 'fuwa', 'fuyuki', 'fuyuki city', 'fuyumi', 'ga', 'gabriel', 'gadget', 'gaea', 'gag', 'gag comedy', 'gag manga', 'gai', 'gaia', 'gaiking', 'gain', 'gain attention', 'gain new', 'gainax', 'gained', 'gaining', 'gaist', 'gakuen', 'gakuin', 'gal', 'galactic', 'galactic empire', 'galaxy', 'gale', 'gale online', 'galette', 'gallia', 'gamble', 'gambling', 'game', 'game called', 'game game', 'game like', 'game played', 'game player', 'game series', 'game source', 'game source ann', 'game story', 'game world', 'gamer', 'gaming', 'gang', 'gangster', 'ganmo', 'gap', 'garbage', 'garden', 'gardener', 'gardening', 'gas', 'gatchaman', 'gate', 'gateway', 'gather', 'gathered', 'gathering', 'gauna', 'gave', 'gay', 'gaze', 'gbn', 'ge', 'gear', 'geass', 'gekijou', 'gem', 'gen', 'gender', 'gendou', 'gene', 'general', 'general public', 'generally', 'generation', 'genesis', 'genetic', 'genetically', 'genie', 'genius', 'genji', 'genre', 'gentle', 'gentleman', 'genuine', 'genzou', 'george', 'german', 'germany', 'getter', 'getter robo', 'getting', 'getting caught', 'getting trouble', 'gg', 'gg bond', 'ghibli', 'ghost', 'ghost shell', 'ghostly', 'ghoul', 'gi', 'giant', 'giant robot', 'gift', 'gifted', 'gigantic', 'gin', 'ginga', 'ginko', 'gintama', 'gintoki', 'giovanni', 'giraffe', 'girl', 'girl academy', 'girl age', 'girl appears', 'girl begin', 'girl called', 'girl class', 'girl come', 'girl day', 'girl dream', 'girl fight', 'girl friend', 'girl high', 'girl high school', 'girl learn', 'girl life', 'girl like', 'girl living', 'girl love', 'girl make', 'girl named', 'girl new', 'girl school', 'girl source', 'girl student', 'girl suddenly', 'girl use', 'girl want', 'girl working', 'girlfriend', 'given', 'given chance', 'giving', 'glamorous', 'glance', 'glass', 'glimpse', 'global', 'global warming', 'globe', 'gloomy', 'glorious', 'glory', 'glowing', 'goal', 'goat', 'goblin', 'god', 'god source', 'goddess', 'godzilla', 'goemon', 'gohan', 'going', 'going school', 'gojou', 'goku', 'gokudou', 'gokuu', 'gokuu son', 'gold', 'gold saint', 'golden', 'golem', 'gon', 'gone', 'gone missing', 'gonzo', 'good', 'good bad', 'good evil', 'good friend', 'good thing', 'good time', 'goose', 'gorgeous', 'gorilla', 'goro', 'gorou', 'got', 'gotou', 'gotten', 'gou', 'gourmet', 'government', 'governor', 'grab', 'grace', 'graceful', 'grade', 'grade school', 'grader', 'gradually', 'gradually begin', 'graduate', 'graduated', 'graduating', 'graduation', 'grail', 'grail war', 'gran', 'grand', 'grand prix', 'granddaughter', 'grandfather', 'grandmother', 'grandpa', 'grandparent', 'grandson', 'grant', 'grant wish', 'granted', 'granting', 'graphic', 'grasp', 'gratitude', 'grave', 'gravity', 'gray', 'great', 'great power', 'great war', 'greater', 'greatest', 'greatly', 'greece', 'greed', 'greedy', 'green', 'greeted', 'greeting', 'grew', 'grey', 'grief', 'griffith', 'grim', 'grimoire', 'grip', 'groom', 'ground', 'group', 'group called', 'group child', 'group friend', 'group known', 'group people', 'group set', 'group thug', 'group young', 'grow', 'grow closer', 'growing', 'grown', 'grows', 'growth', 'grudge', 'gruesome', 'gu', 'guang', 'guarantee', 'guard', 'guardian', 'guardian spirit', 'guarding', 'guest', 'guidance', 'guide', 'guided', 'guild', 'guilt', 'guilty', 'guise', 'guitar', 'guitarist', 'gun', 'gundam', 'gundams', 'gunma', 'gunman', 'gunpla', 'gunpla battle', 'guri', 'gut', 'guy', 'gym', 'gymnast', 'gymnastics', 'gyoza', 'ha', 'habit', 'hachiken', 'hachiman', 'hacker', 'hades', 'hadlar', 'haijima', 'hailing', 'hair', 'hajime', 'hal', 'half', 'half year', 'hall', 'halloween', 'halo', 'halt', 'hamster', 'hamtarou', 'han', 'hana', 'hanabi', 'hanabishi', 'hanako', 'hanazono', 'hand', 'handed', 'handful', 'handle', 'handsome', 'hanekawa', 'hang', 'hanging', 'hanime', 'hao', 'hapless', 'happen', 'happened', 'happening', 'happens', 'happily', 'happiness', 'happy', 'happy life', 'harassed', 'harbor', 'harboring', 'hard', 'hard time', 'hard work', 'hardcore', 'hardened', 'harder', 'hardest', 'hardly', 'hardship', 'harem', 'harima', 'harm', 'harmless', 'harmony', 'harness', 'harsh', 'harsh reality', 'haru', 'haruhi', 'haruhiko', 'haruka', 'haruki', 'haruko', 'haruma', 'haruna', 'haruno', 'haruo', 'haruto', 'harvest', 'hasegawa', 'haseo', 'hashiba', 'hashimoto', 'hat', 'hat crew', 'hat pirate', 'hatake', 'hatch', 'hate', 'hated', 'hatred', 'hatsune', 'hattori', 'haughty', 'haunt', 'haunted', 'haunting', 'havoc', 'hawaii', 'hawk', 'hayakawa', 'hayama', 'hayami', 'hayate', 'hayato', 'hazama', 'haze', 'hazuki', 'head', 'head heel', 'headed', 'headfirst', 'heading', 'headmaster', 'headphone', 'headquarters', 'headstrong', 'heal', 'healing', 'health', 'healthy', 'hear', 'heard', 'hearing', 'hears', 'hears voice', 'heart', 'heart source', 'heartbroken', 'heartfelt', 'heartwarming', 'heat', 'heated', 'heaven', 'heaven earth', 'heavenly', 'heavily', 'heavy', 'hectic', 'hedgehog', 'heel', 'hei', 'heian', 'heian period', 'height', 'heiji', 'heine', 'heir', 'heiress', 'heist', 'heizou', 'held', 'held captive', 'helen', 'hell', 'hellsing', 'help', 'help friend', 'help new', 'help source', 'helped', 'helpful', 'helping', 'helping hand', 'helpless', 'henchman', 'hentai', 'heritage', 'hermes', 'hero', 'hero source', 'heroic', 'heroine', 'hesitant', 'hetalia', 'hey', 'hibari', 'hibiki', 'hidaka', 'hidamari', 'hidamari sketch', 'hidden', 'hidden away', 'hide', 'hideaki', 'hideous', 'hideyoshi', 'hiding', 'hiding true', 'hierarchy', 'hige', 'high', 'high school', 'high school baseball', 'high school boy', 'high school class', 'high school day', 'high school freshman', 'high school friend', 'high school girl', 'high school life', 'high school love', 'high school student', 'high school student named', 'high school teacher', 'high school volleyball', 'high schooler', 'high schoolers', 'higher', 'highest', 'highlight', 'highly', 'highly skilled', 'highschool', 'highway', 'hiiragi', 'hiizumi', 'hijikata', 'hijinks', 'hikari', 'hikaru', 'hikikomori', 'hikozaru', 'hilarious', 'hilariously', 'hilarity', 'hill', 'himawari', 'hime', 'himeko', 'himeno', 'himuro', 'hina', 'hinako', 'hinamizawa', 'hinata', 'hino', 'hint', 'hiraga', 'hiragana', 'hire', 'hired', 'hiro', 'hiroki', 'hiromi', 'hirono', 'hiroshi', 'hiroshima', 'hiroto', 'hiroyuki', 'historic', 'historical', 'historical figure', 'history', 'hit', 'hitman', 'hitomi', 'hitotose', 'hitsugaya', 'hitting', 'hive', 'hiyori', 'hiyoshi', 'hobby', 'hokage', 'hokkaido', 'hokuto', 'hold', 'hold dear', 'hold key', 'holder', 'holding', 'hole', 'holiday', 'hollow', 'holmes', 'holo', 'holy', 'holy grail', 'holy grail war', 'homare', 'home', 'home day', 'home girl', 'home life', 'home planet', 'home school', 'home source', 'home town', 'home world', 'homeland', 'homeless', 'homeroom', 'homeroom teacher', 'hometown', 'homework', 'homura', 'honda', 'hone', 'hone skill', 'honest', 'honey', 'hong', 'hong kong', 'honneamise', 'honoka', 'honor', 'honor student', 'hope', 'hope day', 'hope dream', 'hope lost', 'hope survival', 'hoped', 'hopeful', 'hopefully', 'hopeless', 'hoping', 'horde', 'hori', 'horie', 'horizon', 'horn', 'horny', 'horrible', 'horribly', 'horrific', 'horrified', 'horrifying', 'horror', 'horse', 'horse girl', 'hoshino', 'hoshitani', 'hospital', 'hospitalized', 'host', 'hostage', 'hosted', 'hostile', 'hostility', 'hosting', 'hot', 'hot spring', 'hot summer', 'hot summer day', 'hotaru', 'hotel', 'hotori', 'hottest', 'houjou', 'hour', 'house', 'household', 'housekeeping', 'housewife', 'housework', 'housing', 'housing complex', 'hua', 'huey', 'huge', 'human', 'human body', 'human boy', 'human civilization', 'human demon', 'human emotion', 'human form', 'human friend', 'human girl', 'human life', 'human live', 'human monster', 'human named', 'human nature', 'human population', 'human race', 'human realm', 'human robot', 'human society', 'human source', 'human world', 'humanity', 'humanity source', 'humankind', 'humanoid', 'humanoid robot', 'humble', 'humiliated', 'humiliating', 'humiliation', 'humor', 'humorous', 'hunger', 'hungry', 'hunt', 'hunted', 'hunter', 'hunting', 'hurdle', 'hurricane', 'hurry', 'hurt', 'husband', 'hybrid', 'hydra', 'hyoudou', 'hyoutei', 'hyoutei academy', 'hyper', 'hyperactive', 'hyuga', 'hyuuga', 'ibuki', 'ice', 'ice cream', 'ichigo', 'ichijou', 'ichika', 'ichiko', 'ichinose', 'ichiro', 'ichirou', 'ichiya', 'icy', 'id', 'id directed', 'idaten', 'idea', 'ideal', 'identical', 'identify', 'identity', 'ideology', 'idiosyncratic', 'idiot', 'idly', 'idol', 'idol group', 'idol singer', 'idol source', 'idol unit', 'idolizes', 'idolm', 'idolm ster', 'idyllic', 'iga', 'ignores', 'ignoring', 'ii', 'iii', 'ika', 'ika musume', 'ikari', 'ikebukuro', 'ikki', 'iku', 'ikumi', 'ill', 'illegal', 'illness', 'illusion', 'illustrated', 'illustrates', 'illustration', 'illustrator', 'illustrious', 'image', 'imaginary', 'imagination', 'imagine', 'imagined', 'imdb', 'immature', 'immediate', 'immediately', 'immense', 'immense power', 'immensely', 'imminent', 'immortal', 'immortality', 'impact', 'impending', 'imperial', 'imperial army', 'implemented', 'importance', 'important', 'important thing', 'importantly', 'imposing', 'impossible', 'impoverished', 'impress', 'impressed', 'impression', 'impressive', 'imprisoned', 'improve', 'improving', 'inaba', 'inability', 'inadvertently', 'inaho', 'inari', 'inazuma', 'incapable', 'inch', 'incident', 'include', 'included', 'included bd', 'included bonus', 'included box', 'included dvd', 'included dvd release', 'included dvd volume', 'included limited', 'included limited edition', 'included release', 'included second', 'included volume', 'included volume release', 'includes', 'including', 'incompetent', 'incorporated', 'increase', 'increased', 'increasing', 'increasingly', 'incredible', 'incredibly', 'independence', 'independent', 'india', 'indian', 'individual', 'indulging', 'industry', 'inept', 'inevitable', 'inevitably', 'inexperienced', 'inexplicable', 'inexplicably', 'infamous', 'infant', 'infatuated', 'infatuation', 'infected', 'inferno', 'infiltrate', 'infiltrates', 'infinite', 'influence', 'influenced', 'influential', 'information', 'informed', 'informs', 'ingredient', 'inhabit', 'inhabitant', 'inhabited', 'inherit', 'inherit family', 'inheritance', 'inherited', 'initial', 'initially', 'initiate', 'injured', 'injury', 'inn', 'inner', 'inner world', 'innocence', 'innocent', 'inoue', 'insanity', 'insatiable', 'insect', 'insectors', 'inside', 'insight', 'insists', 'insomnia', 'inspector', 'inspiration', 'inspired', 'inspiring', 'installment', 'instant', 'instantly', 'instead', 'instinct', 'institute', 'institution', 'instructed', 'instruction', 'instructor', 'instrument', 'insurance', 'insurmountable', 'intellect', 'intelligence', 'intelligent', 'intend', 'intended', 'intends', 'intense', 'intent', 'intention', 'interact', 'interacting', 'interaction', 'interacts', 'intercourse', 'interested', 'interesting', 'intergalactic', 'interhigh', 'internal', 'international', 'internet', 'interrupt', 'interrupted', 'interstellar', 'intertwined', 'intervene', 'intervention', 'interview', 'intimate', 'intimidating', 'intricate', 'intrigue', 'intrigued', 'intriguing', 'introduce', 'introduced', 'introduces', 'introducing', 'introduction', 'introverted', 'inugami', 'inui', 'inukami', 'invade', 'invaded', 'invader', 'invades', 'invading', 'invasion', 'invention', 'inventor', 'inverse', 'investigate', 'investigate mysterious', 'investigates', 'investigating', 'investigation', 'investigator', 'invincible', 'invisible', 'invitation', 'invite', 'invited', 'inviting', 'involve', 'involved', 'involvement', 'involves', 'involving', 'io', 'iori', 'ippei', 'iria', 'iris', 'iroha', 'iron', 'iron fist', 'irregular', 'irresistible', 'isaac', 'isabella', 'isamu', 'ishida', 'island', 'island source', 'isolated', 'isolated island', 'isolation', 'issei', 'isshu', 'issue', 'itako', 'italian', 'italy', 'item', 'itou', 'itsuka', 'itsuki', 'iv', 'iwaki', 'izuku', 'izumi', 'izumiko', 'izumo', 'izuru', 'jack', 'jackie', 'jail', 'jam', 'james', 'jane', 'january', 'japan', 'japan new', 'japan source', 'japanese', 'japanese fairy', 'japanese fairy tale', 'japanese girl', 'japanese government', 'japanese high', 'japanese high school', 'jar', 'jay', 'jealous', 'jealousy', 'jean', 'jeanne', 'jellyfish', 'jet', 'jewel', 'jewel land', 'jewelpet', 'jewelpets', 'jiang', 'jiang xiaobai', 'jigen', 'jim', 'jin', 'jing', 'jinnai', 'jiro', 'jirou', 'jo', 'job', 'joe', 'joestar', 'john', 'johnny', 'johnson', 'join', 'join club', 'join force', 'join group', 'join school', 'joined', 'joining', 'joint', 'joke', 'joker', 'jonathan', 'joseph', 'jotaro', 'journalist', 'journey', 'journey discover', 'journey save', 'journey search', 'journey west', 'joutarou', 'joy', 'joyful', 'jubei', 'judge', 'judged', 'judgment', 'judo', 'juice', 'jujutsu', 'july', 'jump', 'jumping', 'jun', 'june', 'jungle', 'junichi', 'junior', 'junior high', 'junior high school', 'junior high school student', 'junk', 'junko', 'junod', 'junpei', 'junta', 'jupiter', 'juri', 'justice', 'justice source', 'kabuki', 'kabuto', 'kadokawa', 'kaede', 'kaga', 'kagami', 'kageyama', 'kagura', 'kaguya', 'kaho', 'kahoko', 'kai', 'kaiji', 'kaiju', 'kaijuu', 'kaiser', 'kaito', 'kaitou', 'kaitou kid', 'kakashi', 'kakashi hatake', 'kakeru', 'kalos', 'kamen', 'kamina', 'kamishiro', 'kamiya', 'kamui', 'kana', 'kanade', 'kanae', 'kanagawa', 'kanako', 'kaname', 'kanata', 'kaneki', 'kanji', 'kanna', 'kannagi', 'kanon', 'kansai', 'kanto', 'kanzaki', 'kao', 'kao council', 'kaori', 'kaoru', 'kappa', 'karaoke', 'karasuno', 'karate', 'karen', 'karma', 'karuta', 'kashima', 'kasuga', 'kasukabe', 'kasukabe defense', 'kasukabe defense force', 'kasumi', 'katagiri', 'kato', 'katou', 'katsumi', 'katsuragi', 'kawamoto', 'kawasaki', 'kawashimo', 'kayoko', 'kazama', 'kazami', 'kazehaya', 'kazuhiro', 'kazuki', 'kazuma', 'kazumi', 'kazuomi', 'kazuto', 'kazuya', 'keeping', 'kei', 'kei yuri', 'keiichi', 'keiichiro', 'keiko', 'keima', 'keisuke', 'keita', 'keitaro', 'keith', 'ken', 'kendo', 'kenichi', 'kenji', 'kenji miyazawa', 'kenshin', 'kensuke', 'kenta', 'kentarou', 'kento', 'kept', 'key', 'kezuru', 'kiba', 'kick', 'kicked', 'kid', 'kidnap', 'kidnapped', 'kidnapping', 'kidnaps', 'kido', 'kiki', 'kikou', 'kill', 'killed', 'killer', 'killing', 'kim', 'kimba', 'kimi', 'kimihito', 'kimito', 'kimura', 'kind', 'kind girl', 'kindaichi', 'kindergarten', 'kindhearted', 'kindly', 'kindness', 'king', 'king source', 'kingdom', 'kingdom source', 'kingdom source ann', 'kinji', 'kinnikuman', 'kino', 'kinoshita', 'kira', 'kirari', 'kircheis', 'kiri', 'kirie', 'kirifuda', 'kiriha', 'kirihara', 'kirika', 'kirin', 'kirishima', 'kirito', 'kiritsugu', 'kiriya', 'kiriyama', 'kiryuu', 'kisaku', 'kisaragi', 'kiss', 'kissing', 'kit', 'kitaro', 'kitarou', 'kitchen', 'kite', 'kitsune', 'kitten', 'kitty', 'kizuna', 'knack', 'knew', 'knife', 'knight', 'knocking', 'know', 'knowing', 'knowledge', 'known', 'known episode', 'ko', 'koala', 'kobayakawa', 'kobayashi', 'kobe', 'kodaka', 'kodansha', 'kogorou', 'kogorou mouri', 'kohane', 'koharu', 'koizumi', 'koji', 'kojiro', 'kojirou', 'koko', 'kokoa', 'kokone', 'kokoro', 'kokutou', 'komiya', 'komugi', 'kon', 'konatsu', 'kondou', 'kong', 'kongo', 'konohagakure', 'korea', 'korean', 'koro', 'koshien', 'kota', 'kotaro', 'kotarou', 'kotatsu', 'koto', 'kotobuki', 'kotoko', 'kotori', 'kou', 'kouga', 'kougami', 'kouhei', 'kouichi', 'kouji', 'kouka', 'kouki', 'kousei', 'koushi', 'kousuke', 'kouta', 'koutarou', 'kouzou', 'koyomi', 'koyomi araragi', 'koyori', 'koyuki', 'kozue', 'kudou', 'kufa', 'kuga', 'kuiba', 'kukuri', 'kumi', 'kumiko', 'kung', 'kung fu', 'kunoichi', 'kuonji', 'kurama', 'kuranosuke', 'kurapika', 'kuri', 'kurisu', 'kuro', 'kuroba', 'kuroda', 'kurogane', 'kuroko', 'kurono', 'kurosaki', 'kurosawa', 'kurou', 'kuruma', 'kurumi', 'kururugi', 'kurusu', 'kusakabe', 'kusanagi', 'kusuo', 'kuujou', 'kyoichi', 'kyoko', 'kyon', 'kyoro', 'kyoshiro', 'kyosuke', 'kyoto', 'kyoto animation', 'kyou', 'kyouko', 'kyousuke', 'kyoutarou', 'kyouya', 'kyoya', 'kyushu', 'kyuubey', 'la', 'laala', 'lab', 'label', 'labeled', 'labor', 'laboratory', 'labyrinth', 'lack', 'lack experience', 'lacking', 'ladder', 'lady', 'lafiel', 'lagoon', 'laid', 'lair', 'lake', 'lala', 'lamp', 'lamperouge', 'lan', 'land', 'land live', 'landed', 'landing', 'landlady', 'landlord', 'landmark', 'landscape', 'lang', 'language', 'lantern', 'laplace', 'large', 'largely', 'larger', 'largest', 'laser', 'lasting', 'late', 'late father', 'late night', 'lately', 'latent', 'later', 'later included', 'later night', 'latest', 'latina', 'laugh', 'laughing', 'laughter', 'launch', 'launch attack', 'launched', 'launching', 'laundry', 'lavish', 'law', 'lawless', 'lawrence', 'lay', 'layer', 'laying', 'lazy', 'lbx', 'lead', 'lead group', 'lead singer', 'lead team', 'leader', 'leadership', 'leading', 'leaf', 'leaf home', 'league', 'leap', 'learn', 'learn control', 'learn secret', 'learn work', 'learned', 'learning', 'learns', 'leave', 'leave home', 'leaving', 'lecture', 'led', 'lee', 'left', 'leg', 'legacy', 'legend', 'legendary', 'legendary dragon', 'legendary pokemon', 'legendary pokémon', 'legendary treasure', 'legion', 'leila', 'leisure', 'lelouch', 'lelouch lamperouge', 'lemon', 'lena', 'lend', 'length', 'lens', 'leo', 'leon', 'leona', 'leonardo', 'lesson', 'let', 'lethal', 'letter', 'letting', 'level', 'levi', 'leviathan', 'lewd', 'li', 'lia', 'lian', 'liberate', 'liberation', 'libido', 'libra', 'librarian', 'library', 'license', 'lie', 'lie ahead', 'lieutenant', 'life', 'life begin', 'life better', 'life boy', 'life change', 'life changed', 'life city', 'life come', 'life countryside', 'life day', 'life death', 'life earth', 'life energy', 'life far', 'life father', 'life filled', 'life forever', 'life form', 'life girl', 'life happy', 'life high', 'life high school', 'life high school student', 'life home', 'life human', 'life life', 'life line', 'life living', 'life mother', 'life mysterious', 'life new', 'life normal', 'life order', 'life ordinary', 'life outside', 'life parent', 'life peace', 'life peaceful', 'life real', 'life saved', 'life school', 'life small', 'life source', 'life source anidb', 'life source ann', 'life stake', 'life suddenly', 'life thrown', 'life time', 'life tokyo', 'life town', 'life turn', 'life turned', 'life turned upside', 'life work', 'life world', 'life young', 'lifeless', 'lifelong', 'lifestyle', 'lifetime', 'lift', 'light', 'light novel', 'light novel series', 'light novel volume', 'lightning', 'like', 'like dream', 'like father', 'like girl', 'like human', 'liked', 'likely', 'lily', 'limb', 'limit', 'limited', 'limited edition', 'limited edition manga', 'limited edition manga volume', 'limited edition volume', 'limited edition volume manga', 'limited time', 'lin', 'lina', 'lina inverse', 'line', 'line defense', 'lineage', 'liner', 'lineup', 'ling', 'lingering', 'link', 'linked', 'lion', 'lisa', 'list', 'listed', 'listen', 'lit', 'literal', 'literally', 'literary', 'literature', 'litter', 'little', 'little bit', 'little boy', 'little brother', 'little buster', 'little girl', 'little know', 'little sister', 'little time', 'liu', 'liuli', 'live', 'live action', 'live concert', 'live human', 'live life', 'live normal', 'live normal life', 'live peaceful', 'live peaceful life', 'lived', 'lively', 'living', 'living house', 'living life', 'living normal', 'living normal life', 'living peacefully', 'living world', 'lizard', 'loaded', 'loan', 'local', 'locate', 'located', 'locating', 'location', 'lock', 'locke', 'locked', 'locker', 'locker room', 'lodge', 'log', 'logic', 'lohengramm', 'loki', 'london', 'lone', 'lone wolf', 'loneliness', 'lonely', 'loner', 'long', 'long ago', 'long forgotten', 'long journey', 'long lost', 'long time', 'long time ago', 'longer', 'longing', 'longs', 'longtime', 'look', 'look forward', 'look like', 'looked', 'looking', 'looking forward', 'loom', 'looming', 'loop', 'loose', 'loosely', 'lord', 'lose', 'loser', 'loses', 'losing', 'loss', 'lost', 'lost memory', 'lost parent', 'lot', 'lotte', 'lotus', 'louis', 'louise', 'lovable', 'love', 'love girl', 'love letter', 'love life', 'love live', 'love love', 'love play', 'love sight', 'love source', 'love source ann', 'love story', 'love triangle', 'loved', 'lovely', 'lover', 'loving', 'low', 'lower', 'lowest', 'loyal', 'loyalty', 'lu', 'lucia', 'lucifer', 'lucis', 'lucius', 'luck', 'luckily', 'lucky', 'luffy', 'luffy crew', 'lugia', 'lum', 'luna', 'lunar', 'lunch', 'lune', 'luo', 'lupin', 'lupin iii', 'lure', 'lured', 'lurk', 'lurking', 'lurks', 'luscious', 'lust', 'lustful', 'luxury', 'lying', 'lynn', 'machine', 'macross', 'mad', 'mad scientist', 'madara', 'madly', 'madly love', 'madman', 'madness', 'madoka', 'maeda', 'mafia', 'mafuyu', 'magazine', 'mage', 'mages', 'magi', 'magic', 'magic academy', 'magic power', 'magic user', 'magical', 'magical ability', 'magical girl', 'magical kingdom', 'magical power', 'magical world', 'magically', 'magician', 'magma', 'magnificent', 'magus', 'mahiro', 'mahiru', 'mahjong', 'maho', 'mahoro', 'mai', 'maid', 'maiden', 'maiko', 'main', 'main character', 'main movie', 'main protagonist', 'main series', 'main story', 'mainland', 'mainly', 'maintain', 'maintain peace', 'maintaining', 'maintains', 'maintenance', 'majin', 'major', 'majority', 'makai', 'make', 'make appearance', 'make decision', 'make dream', 'make end', 'make end meet', 'make friend', 'make happy', 'make living', 'make love', 'make matter', 'make matter worse', 'make mind', 'make money', 'make new', 'make new friend', 'make sure', 'make thing', 'make thing worse', 'make time', 'make use', 'make way', 'make wish', 'maker', 'maki', 'makimura', 'makina', 'making', 'making friend', 'making new', 'mako', 'makoto', 'mal', 'mal news', 'male', 'male student', 'malevolent', 'malfunction', 'malicious', 'mameshiba', 'mami', 'mamiya', 'mamoru', 'man', 'man love', 'man named', 'man woman', 'mana', 'manabu', 'manabu tsuribe', 'manage', 'managed', 'management', 'manager', 'manages', 'managing', 'manaka', 'manami', 'manga', 'manga anime', 'manga artist', 'manga series', 'manga source', 'manga story', 'manga volume', 'mangahelpers', 'mangaka', 'manifest', 'manifestation', 'manipulate', 'manipulating', 'manipulation', 'manji', 'mankind', 'manner', 'manner movie', 'manor', 'mansion', 'manta', 'mao', 'map', 'maple', 'mar', 'march', 'mari', 'maria', 'marie', 'marika', 'mariko', 'marin', 'marina', 'marine', 'mario', 'marionette', 'mariya', 'mark', 'mark beginning', 'marked', 'market', 'marking', 'maron', 'marriage', 'married', 'marry', 'marrying', 'martial', 'martial art', 'martial art tournament', 'martial artist', 'martian', 'maru', 'maruko', 'marvel', 'marvelous', 'mary', 'masaki', 'masami', 'masamune', 'masaru', 'masato', 'masaya', 'mascot', 'mascot character', 'mashiba', 'mashiro', 'mask', 'masked', 'mass', 'massacre', 'massage', 'massive', 'master', 'master source', 'mastermind', 'masterpiece', 'masturbate', 'masturbating', 'match', 'mate', 'material', 'materializes', 'math', 'mato', 'matou', 'matrix', 'matsuda', 'matsumoto', 'matsuno', 'matsuoka', 'matsuri', 'matter', 'matter worse', 'mature', 'max', 'maya', 'maybe', 'mayhem', 'mayor', 'mayu', 'mayumi', 'maze', 'mazica', 'mazinger', 'meal', 'mean', 'mean necessary', 'meaning', 'meant', 'meantime', 'measure', 'meat', 'mecha', 'mechanic', 'mechanical', 'mechanized', 'medaka', 'meddling', 'medical', 'medicine', 'medieval', 'medium', 'medusa', 'meet', 'meet beautiful', 'meet boy', 'meet eye', 'meet friend', 'meet girl', 'meet mysterious', 'meet mysterious girl', 'meet new', 'meet new friend', 'meet people', 'meet strange', 'meet young', 'meeting', 'meeting new', 'meg', 'mega', 'megumi', 'meguru', 'mei', 'meiji', 'meiko', 'meliodas', 'melody', 'melos', 'member', 'member club', 'member team', 'meme', 'memorable', 'memorial', 'memory', 'memory life', 'memory past', 'men', 'men woman', 'menace', 'menacing', 'mental', 'mentally', 'mention', 'mentor', 'meowth', 'mercenary', 'mercenary group', 'merchandise', 'merchant', 'merciless', 'mercilessly', 'mercy', 'mere', 'merely', 'merge', 'mermaid', 'merry', 'mess', 'message', 'messenger', 'met', 'metal', 'metallic', 'meteor', 'meteorite', 'method', 'metropolis', 'metropolitan', 'mew', 'mewtwo', 'mia', 'miaka', 'michael', 'michiru', 'middle', 'middle night', 'middle school', 'middle school girl', 'middle school student', 'middle school tennis', 'middle schooler', 'middle schoolers', 'midnight', 'midori', 'midoriya', 'midst', 'mie', 'mifune', 'mighty', 'migration', 'mihama', 'mihama academy', 'miho', 'mihoshi', 'mii', 'mika', 'mikado', 'mikage', 'mikako', 'mikami', 'mikan', 'miki', 'mikio', 'mikiya', 'mikiya kokutou', 'miko', 'mikoto', 'miku', 'militant', 'militaristic', 'military', 'military academy', 'military base', 'military force', 'milk', 'milky', 'millennium', 'million', 'million year', 'million yen', 'milo', 'mima', 'mimi', 'mimika', 'mina', 'minai', 'minami', 'minami alp', 'minamoto', 'minase', 'minato', 'minazuki', 'mind', 'mind body', 'mind source', 'ming', 'mini', 'mini anime', 'miniature', 'minimal', 'mining', 'minion', 'minister', 'ministry', 'mink', 'minor', 'minori', 'mint', 'minute', 'minute long', 'mio', 'miou', 'mira', 'miracle', 'miraculous', 'miraculously', 'mirage', 'mirai', 'miroku', 'mirror', 'misa', 'misadventure', 'misae', 'misaki', 'misako', 'misao', 'misato', 'mischief', 'mischievous', 'miserably', 'misery', 'misfit', 'misfortune', 'misha', 'mishap', 'mishima', 'miss', 'missile', 'missing', 'mission', 'mission source', 'mist', 'mistake', 'mistaken', 'mistress', 'misty', 'misunderstanding', 'misuzu', 'mito', 'mitsuha', 'mitsuki', 'mitsuru', 'miu', 'miura', 'mix', 'mixed', 'mixture', 'miya', 'miyagi', 'miyagi prefecture', 'miyako', 'miyamura', 'miyano', 'miyazawa', 'miyu', 'miyuki', 'mizue', 'mizuho', 'mizuki', 'mizushima', 'mmorpg', 'mo', 'mo fan', 'mob', 'mobile', 'mobile game', 'mobile phone', 'mobile rpg', 'mobile suit', 'mochizuki', 'mock', 'mode', 'model', 'modeled', 'modern', 'modern day', 'modest', 'modified', 'moe', 'moka', 'mold', 'mole', 'mom', 'moment', 'momentous', 'momiji', 'momo', 'momoka', 'momoko', 'momona', 'momone', 'momotarou', 'monday', 'money', 'moniker', 'monitor', 'monitoring', 'monk', 'monkey', 'monkey luffy', 'monochrome', 'monogatari', 'monotonous', 'monster', 'monster appeared', 'monster attack', 'monster called', 'monster source', 'monster strike', 'monstrosity', 'monstrous', 'month', 'month later', 'month passed', 'monthly', 'mood', 'moon', 'moonlight', 'moral', 'morality', 'mori', 'morikawa', 'moriko', 'morishita', 'morita', 'moritaka', 'morning', 'mortal', 'mother', 'mother daughter', 'mother died', 'mother dy', 'motif', 'motion', 'motion animation', 'motivated', 'motivation', 'motive', 'motley', 'motoko', 'motoko kusanagi', 'motor', 'motorcycle', 'mount', 'mountain', 'mouri', 'mouse', 'mouth', 'moved', 'movement', 'movie', 'movie based', 'movie later', 'movie series', 'movie short', 'movie shown', 'movie source', 'moving', 'moving new', 'moyako', 'mr', 'mt', 'mtb', 'mtv', 'mu', 'mu edited', 'mugen', 'multiple', 'multitude', 'mummy', 'munakata', 'mundane', 'munto', 'murakami', 'murasaki', 'murata', 'murder', 'murder case', 'murdered', 'murderer', 'musashi', 'musashino', 'muscle', 'muse', 'museum', 'mushi', 'mushiking', 'mushishi', 'mushishi ginko', 'mushroom', 'music', 'music club', 'music source', 'music video', 'musical', 'musician', 'musketeer', 'muster', 'muster courage', 'musume', 'mutant', 'muto', 'mutsumi', 'mutta', 'mutual', 'muzaka', 'myne', 'myriad', 'mysterious', 'mysterious alien', 'mysterious beautiful', 'mysterious boy', 'mysterious creature', 'mysterious disappearance', 'mysterious girl', 'mysterious girl named', 'mysterious group', 'mysterious island', 'mysterious man', 'mysterious new', 'mysterious object', 'mysterious organization', 'mysterious place', 'mysterious power', 'mysterious stranger', 'mysterious woman', 'mysterious world', 'mysterious young', 'mysteriously', 'mystery', 'mystery source', 'mystery surrounding', 'mystic', 'mystical', 'myth', 'mythical', 'mythology', 'na', 'nadeshiko', 'naga', 'nagai', 'nagano', 'nagasaki', 'nagi', 'nagisa', 'nagoya', 'nagumo', 'naho', 'nail', 'naive', 'nakagawa', 'nakajima', 'nakamura', 'nakano', 'naked', 'namco', 'named', 'nameless', 'nami', 'naming', 'nana', 'nanachi', 'nanako', 'nanami', 'nanase', 'nanocore', 'nanoha', 'nao', 'naoe', 'naofumi', 'naoki', 'naoko', 'naomi', 'naoto', 'naoya', 'nap', 'nara', 'narcissistic', 'narrated', 'narration', 'narrator', 'narrowly', 'naru', 'narumi', 'naruse', 'naruto', 'naruto uzumaki', 'nasty', 'nation', 'national', 'national tournament', 'native', 'natsu', 'natsuki', 'natsume', 'natsumi', 'natsuo', 'natural', 'natural disaster', 'naturally', 'nature', 'naughty', 'navigate', 'navigator', 'ne', 'near', 'near future', 'nearby', 'nearly', 'necessary', 'neck', 'need', 'need help', 'needed', 'needless', 'neet', 'nefarious', 'negative', 'negi', 'negotiation', 'neighbor', 'neighborhood', 'neighboring', 'neighboring country', 'neko', 'nemesis', 'neo', 'neo zeon', 'neon', 'nephew', 'nero', 'nerv', 'nervous', 'nest', 'net', 'netflix', 'netherworld', 'network', 'neuroi', 'neutral', 'new', 'new adventure', 'new ally', 'new animation', 'new anime', 'new battle', 'new challenge', 'new chapter', 'new character', 'new enemy', 'new environment', 'new episode', 'new era', 'new experience', 'new family', 'new foe', 'new footage', 'new form', 'new friend', 'new generation', 'new girl', 'new high', 'new home', 'new job', 'new life', 'new master', 'new member', 'new original', 'new ovum', 'new partner', 'new place', 'new power', 'new project', 'new recruit', 'new rival', 'new scene', 'new school', 'new school year', 'new series', 'new short', 'new story', 'new student', 'new team', 'new threat', 'new town', 'new transfer', 'new transfer student', 'new type', 'new way', 'new world', 'new year', 'new year special', 'new york', 'new york city', 'newcomer', 'newest', 'newfound', 'newfound friend', 'newfound power', 'newly', 'news', 'newspaper', 'newtype', 'nezha', 'nhk', 'ni', 'nian', 'nice', 'nickname', 'nicknamed', 'nico', 'night', 'nightmare', 'nightmarish', 'nike', 'nina', 'ninja', 'ninja clan', 'ninku', 'ninomiya', 'nintendo', 'ninth', 'nippon', 'nishi', 'nishikata', 'nissan', 'nissin', 'nitta', 'noa', 'noah', 'nobility', 'nobita', 'noble', 'noboru', 'nobuhiro', 'nobunaga', 'nodame', 'nodoka', 'noel', 'nohara', 'nohara family', 'noir', 'noise', 'nonetheless', 'nono', 'noodle', 'noriko', 'normal', 'normal day', 'normal girl', 'normal high', 'normal high school', 'normal high school student', 'normal human', 'normal life', 'normal school', 'normal student', 'normally', 'north', 'northern', 'nose', 'nostalgic', 'nostradamus', 'notable', 'note', 'notebook', 'notice', 'notice strange', 'noticed', 'noticing', 'notorious', 'nova', 'novel', 'novel series', 'novel volume', 'novelist', 'november', 'novice', 'nozaki', 'nozomi', 'nozomu', 'nuclear', 'nuku', 'number', 'numbered', 'numerous', 'nunnally', 'nura', 'nurse', 'nut', 'oath', 'oav', 'obey', 'object', 'objection', 'objective', 'oblivious', 'observation', 'observatory', 'observe', 'obsessed', 'obsession', 'obstacle', 'obtain', 'obtained', 'obtaining', 'obtains', 'obvious', 'occasion', 'occasional', 'occasionally', 'occult', 'occupation', 'occupied', 'occupying', 'occur', 'occurred', 'occurrence', 'occurring', 'occurs', 'ocean', 'october', 'octopus', 'oda', 'oda nobunaga', 'odd', 'oddly', 'odds', 'odin', 'offensive', 'offer', 'offer help', 'offered', 'offering', 'office', 'office worker', 'officer', 'official', 'official site', 'official twitter', 'official twitter account', 'official website', 'official youtube', 'official youtube channel', 'officially', 'ogata', 'ogawa', 'ogre', 'oh', 'ohana', 'ohashi', 'oikawa', 'okabe', 'okamoto', 'okazaki', 'okinawa', 'old', 'old enemy', 'old friend', 'old girl', 'old house', 'old man', 'old rival', 'old woman', 'older', 'older brother', 'older man', 'older sister', 'oldest', 'olga', 'olivia', 'olympic', 'olympic game', 'olympics', 'olympus', 'omake', 'ominous', 'omnibus', 'ona', 'onboard', 'ongoing', 'oni', 'online', 'online game', 'onodera', 'onsen', 'onslaught', 'ootori', 'open', 'opened', 'opening', 'opening animation', 'opera', 'operated', 'operates', 'operating', 'operation', 'operative', 'operator', 'opinion', 'opponent', 'opportunity', 'oppose', 'opposed', 'opposing', 'opposite', 'opposition', 'oppressed', 'oppressive', 'option', 'oracle', 'oraku', 'orange', 'orario', 'orb', 'orbit', 'orchestra', 'orcs', 'ordeal', 'order', 'order bring', 'order escape', 'order fight', 'order help', 'order make', 'order prevent', 'order protect', 'order rescue', 'order save', 'order survive', 'order win', 'order world', 'ordered', 'ordinary', 'ordinary boy', 'ordinary girl', 'ordinary high', 'ordinary high school', 'ordinary high school student', 'ordinary life', 'ordinary student', 'ore', 'organ', 'organization', 'organization called', 'organization known', 'organize', 'organized', 'orgy', 'origin', 'original', 'original animation', 'original anime', 'original manga', 'original series', 'original short', 'original story', 'original video', 'originally', 'originally released', 'orine', 'orochi', 'orphan', 'orphan fansubs', 'orphan girl', 'orphanage', 'orphaned', 'osaka', 'osamu', 'oscar', 'otaku', 'otherworldly', 'otome', 'otomo', 'ougi', 'outbreak', 'outcast', 'outcome', 'outdoor', 'outer', 'outer space', 'outfit', 'outgoing', 'outlaw', 'outlook', 'outrageous', 'outside', 'outside world', 'outsider', 'outskirt', 'ovas', 'overall', 'overbearing', 'overcome', 'overcome fear', 'overcoming', 'overhears', 'overlord', 'overly', 'overrun', 'overseas', 'overthrow', 'overwhelmed', 'overwhelming', 'ovum', 'ovum adaptation', 'ovum based', 'ovum bundled', 'ovum bundled volume', 'ovum episode', 'ovum episode bundled', 'ovum released', 'ovum series', 'owes', 'owned', 'owner', 'owning', 'owns', 'oz', 'pac', 'pace', 'pachinko', 'pacific', 'pack', 'package', 'packed', 'pact', 'page', 'paid', 'pain', 'painful', 'painful memory', 'paint', 'painter', 'painting', 'pair', 'pal', 'palace', 'paladin', 'pale', 'pan', 'pancake', 'panda', 'pandora', 'panic', 'panther', 'panty', 'papa', 'paper', 'par', 'parade', 'paradise', 'paradox', 'parallel', 'parallel universe', 'parallel world', 'paramilitary', 'paranoia', 'paranormal', 'parasite', 'parent', 'parent died', 'parent gone', 'parent home', 'paris', 'park', 'parlor', 'paro', 'parody', 'parody short', 'partake', 'partially', 'participant', 'participate', 'participated', 'participates', 'participating', 'participation', 'particular', 'particularly', 'partner', 'partnered', 'partnership', 'party', 'pas', 'pass', 'pass away', 'passage', 'passed', 'passed away', 'passed away year', 'passed end', 'passenger', 'passing', 'passion', 'passionate', 'past', 'past life', 'past present', 'past source', 'past year', 'pastel', 'pastime', 'patch', 'path', 'patient', 'patlabor', 'patrol', 'patron', 'paul', 'pawn', 'pay', 'pay debt', 'pay visit', 'paying', 'pc', 'pc game', 'pe', 'peace', 'peace earth', 'peace order', 'peace treaty', 'peaceful', 'peaceful day', 'peaceful existence', 'peaceful life', 'peacefully', 'peach', 'peak', 'pearl', 'peculiar', 'peek', 'peeping', 'peeping life', 'peer', 'pegasus', 'pen', 'penchant', 'pendant', 'penguin', 'people', 'people believe', 'people earth', 'people like', 'people live', 'people living', 'people mind', 'people source', 'people world', 'perception', 'perfect', 'perfect opportunity', 'perfectly', 'perform', 'performance', 'performed', 'performer', 'performing', 'performs', 'peril', 'perilous', 'perilous journey', 'period', 'period japan', 'period time', 'permanent', 'permanently', 'permission', 'pero', 'perpetrator', 'perrine', 'persevere', 'persistent', 'person', 'persona', 'personal', 'personal life', 'personality', 'personally', 'perspective', 'persuade', 'perverse', 'perversion', 'pervert', 'perverted', 'pet', 'pet dog', 'pet shop', 'peter', 'petit', 'petite', 'phantom', 'phantom thief', 'phantomhive', 'pharmaceutical', 'phase', 'phenomenon', 'philosophy', 'phoenix', 'phone', 'photo', 'photograph', 'photographer', 'photography', 'photon', 'physic', 'physical', 'physically', 'physique', 'pia', 'pia carrot', 'pianist', 'piano', 'piccolo', 'pichu', 'pick', 'picked', 'picking', 'picnic', 'pico', 'picture', 'picture book', 'picture drama', 'picture drama episode', 'picture drama episode included', 'picture drama included', 'picture drama special', 'piece', 'pierre', 'pig', 'pikachu', 'pikachu friend', 'pile', 'pill', 'pillar', 'pillow', 'pilot', 'pilot film', 'piloted', 'piloting', 'pine', 'pink', 'pinky', 'pinnacle', 'pioneer', 'pirate', 'pirate pirate', 'pistol', 'pit', 'pitch', 'pitcher', 'pitching', 'pitiful', 'pity', 'place', 'place called', 'place episode', 'place live', 'place new', 'place source', 'place stay', 'place time', 'place world', 'place year', 'placed', 'plague', 'plagued', 'plaguing', 'plain', 'plan', 'plan make', 'plan motion', 'plan source', 'plan use', 'plane', 'planet', 'planet alliance', 'planet earth', 'planet source', 'planetarium', 'planetary', 'planned', 'planning', 'plant', 'plastic', 'plate', 'platform', 'platonic', 'platoon', 'play', 'play baseball', 'play game', 'play role', 'playboy', 'played', 'player', 'player world', 'playful', 'playground', 'playing', 'playing baseball', 'playing game', 'playstation', 'plea', 'pleads', 'pleasant', 'pleased', 'pleasure', 'pledge', 'plenty', 'plethora', 'plight', 'plot', 'plotted', 'plotting', 'plunge', 'plunged', 'plunging', 'plus', 'pochama', 'pochi', 'pocket', 'pod', 'poem', 'point', 'point life', 'point view', 'poison', 'poisonous', 'pokemon', 'pokémon', 'polar', 'polar bear', 'polar opposite', 'pole', 'police', 'police department', 'police force', 'police officer', 'policeman', 'policewoman', 'policy', 'polite', 'political', 'politician', 'politics', 'pollution', 'ponders', 'pool', 'poor', 'pop', 'populace', 'popular', 'popular girl', 'popular idol', 'popularity', 'populated', 'population', 'porn', 'port', 'portal', 'portrait', 'portrays', 'pose', 'position', 'positive', 'possess', 'possessed', 'possesses', 'possessing', 'possession', 'possibility', 'possible', 'possibly', 'post', 'posted', 'posted official', 'posted official twitter', 'posted official twitter account', 'posted official youtube', 'posted official youtube channel', 'poster', 'pot', 'potential', 'potentially', 'potion', 'poverty', 'power', 'power come', 'power control', 'power defeat', 'power make', 'power source', 'power source ann', 'power stop', 'power struggle', 'power transform', 'powered', 'powerful', 'powerful demon', 'powerless', 'practice', 'practicing', 'practitioner', 'prank', 'prayer', 'precious', 'precure', 'predator', 'predicament', 'predict', 'prefectural', 'prefecture', 'prefers', 'pregnant', 'prehistoric', 'preliminary', 'premiere', 'premise', 'premium', 'preparation', 'prepare', 'prepared', 'prepares', 'preparing', 'prequel', 'presence', 'present', 'present day', 'presented', 'presenting', 'preserve', 'president', 'president student', 'press', 'pressure', 'prestigious', 'prestigious school', 'pretend', 'pretty', 'pretty cure', 'pretty girl', 'prevail', 'prevent', 'preventing', 'prevention', 'prevents', 'preview', 'previous', 'previous episode', 'previous life', 'previous season', 'previously', 'prey', 'price', 'pride', 'priest', 'priestess', 'prima', 'primarily', 'primary', 'prime', 'primitive', 'prince', 'princess', 'principal', 'principality', 'principality zeon', 'principle', 'prior', 'pripara', 'prism', 'prison', 'prisoner', 'private', 'private academy', 'private detective', 'privilege', 'prix', 'prize', 'pro', 'probably', 'problem', 'problem source', 'problematic', 'procedure', 'proceed', 'proceeds', 'process', 'proclaims', 'prodigy', 'produce', 'produced', 'producer', 'producing', 'product', 'production', 'prof', 'profession', 'professional', 'professor', 'profit', 'program', 'programmer', 'progress', 'project', 'prologue', 'prominent', 'promise', 'promised', 'promising', 'promote', 'promotes', 'promoting', 'promotion', 'promotion anime', 'promotional', 'promotional anime', 'promotional video', 'prompt', 'prompting', 'promptly', 'proof', 'propaganda', 'proper', 'properly', 'property', 'prophecy', 'proposal', 'proposed', 'proposes', 'prospect', 'prosperity', 'prosperous', 'prostitute', 'protagonist', 'protect', 'protect city', 'protect earth', 'protect people', 'protect world', 'protected', 'protecting', 'protection', 'protective', 'protector', 'protects', 'protest', 'prototype', 'proud', 'prove', 'provide', 'provided', 'provides', 'providing', 'province', 'proving', 'prowess', 'psyche', 'psychedelic', 'psychic', 'psychic power', 'psychological', 'public', 'public safety', 'public security', 'public security section', 'publicly', 'published', 'publisher', 'publishing', 'pull', 'pulled', 'pulling', 'punch', 'punish', 'punished', 'punishment', 'punk', 'pupil', 'puppet', 'puppet animation', 'puppeteer', 'puppy', 'purchase', 'purchased', 'purchasing', 'pure', 'purpose', 'pursue', 'pursued', 'pursuer', 'pursues', 'pursuing', 'pursuit', 'push', 'pushed', 'pushing', 'putting', 'puzzle', 'pv', 'qi', 'qiao', 'qin', 'qualified', 'qualify', 'quality', 'quarrel', 'queen', 'queen blade', 'quest', 'question', 'questionable', 'questioning', 'quick', 'quickly', 'quickly friend', 'quiet', 'quiet life', 'quietly', 'quirk', 'quirky', 'quit', 'quite', 'quo', 'quon', 'rabbit', 'raccoon', 'race', 'race alien', 'race called', 'race known', 'race source', 'race time', 'racer', 'racing', 'racing team', 'radio', 'rage', 'raging', 'ragtag', 'ragtag group', 'rai', 'raid', 'raided', 'railroad', 'railway', 'raimon', 'rain', 'rainbow', 'rainy', 'rainy day', 'raise', 'raised', 'raising', 'raku', 'rakugo', 'rally', 'ramen', 'rampage', 'rampaging', 'rampant', 'ran', 'ran away', 'ran mouri', 'randolph', 'random', 'randomly', 'randy', 'range', 'ranger', 'ranging', 'rank', 'ranked', 'ranking', 'ranma', 'ranmaru', 'rape', 'raped', 'rapid', 'rapidly', 'raping', 'rare', 'rarely', 'rat', 'rate', 'raul', 'ravage', 'ravaged', 'ravaging', 'raw', 'ray', 'rea', 'reach', 'reached', 'reaching', 'reaction', 'reactor', 'read', 'reader', 'reading', 'ready', 'real', 'real estate', 'real life', 'real world', 'realistic', 'reality', 'realization', 'realize', 'realized', 'realizes', 'realizing', 'really', 'realm', 'reaper', 'reappearance', 'reason', 'rebecca', 'rebel', 'rebellion', 'rebellious', 'rebirth', 'reborn', 'rebuild', 'rebuilt', 'recall', 'recall memory', 'recap', 'recap aired', 'recap episode', 'recap episode aired', 'recap special', 'receive', 'received', 'receives', 'receives strange', 'receiving', 'recent', 'recently', 'reckless', 'reclaim', 'reclusive', 'recognition', 'recognize', 'recognized', 'recognizes', 'recollection', 'record', 'recorded', 'recording', 'recount', 'recover', 'recovered', 'recovering', 'recovery', 'recreate', 'recruit', 'recruited', 'recruiting', 'recruitment', 'red', 'red light', 'redemption', 'reduced', 'reference', 'referred', 'refers', 'refined', 'reflect', 'reflection', 'refrain', 'refuge', 'refugee', 'refuse', 'refused', 'refusing', 'regain', 'regaining', 'regard', 'regarded', 'regarding', 'regardless', 'regime', 'region', 'regional', 'regret', 'regular', 'regularly', 'rei', 'reigen', 'reign', 'reign supreme', 'reigning', 'reiji', 'reika', 'reiko', 'rein', 'reina', 'reincarnated', 'reincarnation', 'reinhard', 'reinhard von', 'reinhard von lohengramm', 'reject', 'rejected', 'rekka', 'related', 'relation', 'relationship', 'relationship girl', 'relative', 'relatively', 'relax', 'relaxing', 'relay', 'release', 'release film', 'release main', 'release series', 'released', 'released bd', 'released day', 'released dvd', 'released dvd volume', 'released japan', 'released official', 'released public', 'released volume', 'releasing', 'relentless', 'relentlessly', 'reliable', 'relic', 'relief', 'relies', 'relieve', 'relieved', 'religion', 'religious', 'relive', 'reluctance', 'reluctant', 'reluctantly', 'reluctantly agrees', 'rely', 'relying', 'rem', 'remain', 'remained', 'remaining', 'remains', 'remake', 'remarkable', 'remarried', 'remember', 'remembered', 'remembering', 'remembers', 'reminded', 'reminds', 'reminisce', 'reminisces', 'reminiscing', 'remnant', 'remote', 'remote island', 'remove', 'removed', 'ren', 'rena', 'rendered', 'rendering', 'renegade', 'renewed', 'renowned', 'rent', 'rental', 'renton', 'reo', 'repair', 'repay', 'repeat', 'repeated', 'repeatedly', 'repel', 'repercussion', 'replace', 'replaced', 'replacement', 'replenish', 'report', 'reported', 'reporter', 'represent', 'representative', 'represented', 'representing', 'represents', 'republic', 'reputation', 'request', 'requested', 'require', 'required', 'requirement', 'requires', 'rescue', 'rescue mission', 'rescue princess', 'rescued', 'rescuing', 'research', 'research club', 'researcher', 'resemblance', 'resemble', 'resembles', 'resembling', 'reserved', 'reset', 'reside', 'residence', 'resident', 'resident evil', 'resides', 'residing', 'resist', 'resistance', 'resolution', 'resolve', 'resolved', 'resolving', 'resort', 'resource', 'respect', 'respected', 'respective', 'respectively', 'respond', 'responds', 'response', 'responsibility', 'responsible', 'rest', 'rest life', 'rest world', 'restaurant', 'resting', 'restoration', 'restore', 'restore peace', 'restored', 'restoring', 'result', 'resulted', 'resulting', 'resume', 'resurface', 'resurrect', 'resurrected', 'resurrection', 'retain', 'retainer', 'retake', 'retelling', 'retells', 'retire', 'retired', 'retirement', 'retreat', 'retribution', 'retrieve', 'retsuko', 'return', 'return earth', 'return home', 'return normal', 'return world', 'returned', 'returned home', 'returning', 'returning home', 'reunion', 'reunite', 'reunited', 'reunites', 'reuniting', 'reveal', 'revealed', 'revealing', 'reveals', 'revelation', 'revenge', 'revered', 'reverse', 'review', 'revival', 'revive', 'revived', 'revives', 'reviving', 'revolt', 'revolution', 'revolutionary', 'revolve', 'revolves', 'revolving', 'reward', 'rewrite', 'rhythm', 'rhythmic', 'rhythmic gymnastics', 'ribon', 'rice', 'rich', 'richard', 'rid', 'riddle', 'ride', 'rider', 'ridiculed', 'ridiculous', 'riding', 'rie', 'rieko', 'rift', 'right', 'right arm', 'right eye', 'right hand', 'right path', 'righteous', 'rightful', 'rightstuf', 'rigorous', 'rihoko', 'rika', 'rikako', 'riki', 'rikka', 'rikkai', 'rikkai middle', 'rikkai middle school', 'riko', 'riku', 'rikuo', 'rimuru', 'rin', 'rin toosaka', 'rina', 'ring', 'rinka', 'rinko', 'rinne', 'rintarou', 'rio', 'riot', 'ririchiyo', 'risa', 'rise', 'rising', 'risk', 'rita', 'rito', 'ritsu', 'ritsuka', 'ritual', 'rival', 'rival school', 'rivalry', 'river', 'rize', 'road', 'roam', 'rob', 'robber', 'robbery', 'robert', 'robin', 'robo', 'robot', 'robot called', 'robot fight', 'robot known', 'robot named', 'robot source', 'robotic', 'robotic cat', 'robotics', 'rock', 'rock band', 'rocket', 'rockman', 'rocky', 'rogue', 'rohan', 'role', 'roll', 'romance', 'romantic', 'romantic comedy', 'romantic feeling', 'romeo', 'ronin', 'roof', 'rooftop', 'rookie', 'room', 'roommate', 'rope', 'rose', 'ross', 'rough', 'roughly', 'round', 'route', 'routine', 'row', 'rowdy', 'roy', 'royal', 'royal family', 'royal palace', 'royale', 'rozen', 'rozen maiden', 'rpg', 'ruby', 'rude', 'rudeus', 'rugby', 'rui', 'ruin', 'ruined', 'ruining', 'ruka', 'rukia', 'rule', 'rule world', 'ruled', 'ruler', 'ruling', 'rumi', 'rumor', 'rumored', 'run', 'run away', 'run away home', 'runaway', 'running', 'rural', 'ruri', 'rush', 'russian', 'ruthless', 'ruthlessly', 'ryo', 'ryoji', 'ryoji yamada', 'ryoko', 'ryou', 'ryougi', 'ryouhei', 'ryouichi', 'ryouko', 'ryouma', 'ryouma echizen', 'ryousuke', 'ryouta', 'ryu', 'ryuji', 'ryuu', 'ryuuichi', 'ryuuji', 'saber', 'sachiko', 'sacred', 'sacred sword', 'sacrifice', 'sacrificed', 'sad', 'sadistic', 'sadly', 'sadness', 'sae', 'safe', 'safely', 'safety', 'safety anime', 'safety film', 'safety film starring', 'safety video', 'saga', 'sage', 'sai', 'said', 'saigo', 'saiki', 'sail', 'sailor', 'sailor guardian', 'sailor moon', 'saint', 'saionji', 'saitama', 'saito', 'saitou', 'saiyan', 'sakaguchi', 'sakamoto', 'sake', 'saki', 'sakura', 'sakura haruno', 'sakurada', 'sakuragi', 'sakurai', 'salaryman', 'sale', 'sally', 'salon', 'salvation', 'sammy', 'samurai', 'san', 'sana', 'sanada', 'sanae', 'sanctuary', 'sand', 'sandy', 'sanity', 'sanrio', 'santa', 'saori', 'saotome', 'sapphire', 'sara', 'sarah', 'sarasa', 'sasahara', 'sasaki', 'sasuke', 'sasuke uchiha', 'satan', 'satellite', 'satisfied', 'satisfy', 'satoko', 'satomi', 'satoru', 'satoshi', 'satoshi companion', 'satoshi friend', 'satoshi pikachu', 'satou', 'satsuki', 'sauce', 'saucer', 'savage', 'save', 'save day', 'save earth', 'save humanity', 'save life', 'save mother', 'save people', 'save sister', 'save world', 'saved', 'saving', 'saving world', 'savior', 'saw', 'sawa', 'sawako', 'sawamura', 'sawatari', 'say', 'saya', 'sayaka', 'saying', 'sayuki', 'sayuri', 'scale', 'scan', 'scandal', 'scar', 'scare', 'scared', 'scarlet', 'scary', 'scatter', 'scattered', 'scenario', 'scene', 'scenery', 'scent', 'schedule', 'scheduled', 'scheme', 'scheming', 'scholarship', 'school', 'school baseball', 'school baseball team', 'school boy', 'school building', 'school bully', 'school class', 'school club', 'school day', 'school festival', 'school freshman', 'school friend', 'school girl', 'school ground', 'school idol', 'school life', 'school life source', 'school love', 'school meet', 'school new', 'school nurse', 'school school', 'school soccer', 'school soon', 'school source', 'school student', 'school student named', 'school suddenly', 'school teacher', 'school tennis', 'school time', 'school trip', 'school volleyball', 'school work', 'school year', 'schooler', 'schoolers', 'schoolgirl', 'schoolmate', 'science', 'science fiction', 'scientific', 'scientist', 'scissors', 'score', 'scout', 'scramble', 'scream', 'screen', 'screened', 'screening', 'script', 'scroll', 'scythe', 'sd', 'sea', 'seal', 'sealed', 'sealed away', 'search', 'search missing', 'search new', 'searching', 'seaside', 'season', 'season episode', 'season source', 'seat', 'sebastian', 'sec', 'secluded', 'second', 'second chance', 'second episode', 'second half', 'second movie', 'second ovum', 'second season', 'second series', 'second volume', 'second year', 'second year high', 'second year high school', 'second year middle', 'secrecy', 'secret', 'secret agent', 'secret organization', 'secret revealed', 'secret source', 'secret weapon', 'secretary', 'secretly', 'secretly love', 'sect', 'section', 'sector', 'secure', 'security', 'security guard', 'security section', 'seduce', 'seduced', 'seductive', 'seed', 'seeing', 'seek', 'seek help', 'seek revenge', 'seeking', 'seeking revenge', 'seemingly', 'seemingly normal', 'seen', 'segment', 'sei', 'seibu', 'seigi', 'seiichi', 'seiji', 'seira', 'seirin', 'seishun', 'seishun academy', 'seishun academy boy', 'seishun academy boy tennis', 'seiya', 'seize', 'seizes', 'sekai', 'seki', 'select', 'selected', 'selection', 'self', 'selfish', 'sell', 'seller', 'selling', 'semester', 'sena', 'send', 'sending', 'sends', 'sengoku', 'sengoku era', 'senior', 'senkuu', 'senpai', 'sens', 'sense', 'sensei', 'senshi', 'sensing', 'sensitive', 'sent', 'sent earth', 'sentai', 'sentai filmworks', 'sentence', 'sentenced', 'sentient', 'seoul', 'separate', 'separate way', 'separated', 'separately', 'separation', 'sephiroth', 'september', 'sequel', 'sequence', 'serf', 'serial', 'serialised', 'serialization', 'serialized', 'series', 'series aired', 'series animated', 'series anime', 'series based', 'series center', 'series episode', 'series event', 'series featuring', 'series film', 'series focus', 'series follows', 'series included', 'series new', 'series place', 'series released', 'series set', 'series short', 'series source', 'series story', 'series update', 'series update information', 'seriously', 'serizawa', 'serpent', 'servant', 'serve', 'served', 'server', 'service', 'service club', 'serving', 'session', 'set', 'set adventure', 'set foot', 'set forth', 'set free', 'set future', 'set japan', 'set journey', 'set motion', 'set new', 'set sail', 'set school', 'set search', 'set sight', 'set world', 'set year', 'setback', 'seto', 'setsu', 'setsuna', 'setter', 'setting', 'settle', 'settled', 'settlement', 'settling', 'seven', 'seven deadly', 'seven deadly sin', 'seven sea', 'seven year', 'seventh', 'seventh volume', 'severe', 'severed', 'severely', 'severely injured', 'sex', 'sex slave', 'sextuplet', 'sexual', 'sexual desire', 'sexual encounter', 'sexual intercourse', 'sexual pleasure', 'sexuality', 'sexually', 'sexy', 'shackle', 'shadow', 'shadow lord', 'shadowy', 'shady', 'shaft', 'shake', 'shaker', 'shakugan', 'shall', 'shaman', 'shameless', 'shamisen', 'shana', 'shang', 'shanghai', 'shank', 'shape', 'shaped', 'shard', 'share', 'shared', 'sharing', 'shark', 'sharon', 'sharp', 'shatter', 'shattered', 'shed', 'sheer', 'sheet', 'shell', 'shelter', 'sheltered', 'shen', 'shenanigan', 'sheng', 'shepherd', 'sherlock', 'sherlock holmes', 'shi', 'shibuya', 'shidou', 'shield', 'shift', 'shigure', 'shiina', 'shikabane', 'shiki', 'shiki ryougi', 'shima', 'shimamura', 'shimizu', 'shin', 'shindou', 'shine', 'shingo', 'shinichi', 'shinigami', 'shining', 'shinji', 'shinji ikari', 'shinjuku', 'shinki', 'shinku', 'shinno', 'shinnosuke', 'shino', 'shinobi', 'shinobu', 'shinpachi', 'shinra', 'shinsengumi', 'shinta', 'shintaro', 'shintarou', 'shiny', 'shinya', 'shion', 'shiori', 'ship', 'ship source', 'shiraishi', 'shirakawa', 'shirase', 'shiratori', 'shirayuki', 'shiro', 'shirogane', 'shirou', 'shishido', 'shitenhouji', 'shitenhouji middle', 'shitenhouji middle school', 'shizuka', 'shizuku', 'shizuma', 'sho', 'shobu', 'shock', 'shocked', 'shocking', 'shoe', 'shogakukan', 'shogi', 'shogun', 'shogunate', 'shook', 'shoot', 'shooting', 'shooting star', 'shop', 'shop called', 'shop owner', 'shop run', 'shopping', 'shopping district', 'shore', 'short', 'short animated', 'short animation', 'short anime', 'short character', 'short created', 'short episode', 'short episode character', 'short episode character posted', 'short episode included', 'short experimental', 'short feature', 'short featuring', 'short film', 'short follows', 'short included', 'short movie', 'short picture', 'short series', 'short set', 'short special', 'short special included', 'short story', 'short video', 'shortage', 'shortly', 'shot', 'shou', 'shougo', 'shoujo', 'shoujo manga', 'shouko', 'shoulder', 'shouma', 'shounen', 'shout', 'shouta', 'shoutarou', 'shouyou', 'showa', 'showcase', 'showcasing', 'showdown', 'showed', 'shower', 'shower tv', 'shower tv station', 'shower tv station id', 'showing', 'shown', 'shown anime', 'shown jump', 'shown theater', 'shrine', 'shrine maiden', 'shrouded', 'shu', 'shuffle', 'shuichi', 'shuji', 'shun', 'shungo', 'shunned', 'shunsuke', 'shut', 'shutting', 'shuu', 'shuuhei', 'shuuichi', 'shuuji', 'shuusuke', 'shy', 'shy girl', 'sibling', 'sibyl', 'sick', 'sickness', 'sidekick', 'sidonia', 'siege', 'siegfried', 'siegfried kircheis', 'sight', 'sight set', 'sightseeing', 'sign', 'signal', 'signed', 'significant', 'significantly', 'signing', 'silence', 'silent', 'silhouette', 'silk', 'silly', 'silver', 'similar', 'similarity', 'similarly', 'simon', 'simple', 'simply', 'simulation', 'simultaneously', 'sin', 'sinbad', 'sing', 'singer', 'singing', 'single', 'single episode', 'singularity', 'sinister', 'sinister plot', 'sink', 'sir', 'sirius', 'sister', 'sister source', 'sister source ann', 'sit', 'sita', 'site', 'site cranston', 'sits', 'sitting', 'situation', 'situation source', 'sixteen', 'sixth', 'sixth volume', 'size', 'sketch', 'ski', 'skill', 'skilled', 'skin', 'skirmish', 'skirt', 'skit', 'sky', 'skytree', 'slacker', 'slapstick', 'slaughtered', 'slave', 'slavery', 'slay', 'slayer', 'slaying', 'sleep', 'sleeping', 'sleepy', 'sleeve', 'slice', 'slight', 'slightly', 'slime', 'slip', 'slipped', 'slow', 'slowly', 'slowly begin', 'slum', 'slumber', 'slump', 'small', 'small country', 'small group', 'small island', 'small town', 'small village', 'smaller', 'smart', 'smartphone', 'smartphone game', 'smash', 'smell', 'smile', 'smiling', 'smoke', 'smoking', 'smooth', 'smoothly', 'snack', 'snake', 'sneak', 'sneaking', 'sniper', 'snow', 'snowy', 'soba', 'soccer', 'soccer club', 'soccer player', 'soccer team', 'social', 'socially', 'socially awkward', 'society', 'soft', 'software', 'solace', 'solar', 'sold', 'soldier', 'sole', 'sole purpose', 'sole survivor', 'solely', 'solid', 'solitary', 'solitude', 'solo', 'solution', 'solve', 'solve case', 'solve mystery', 'solve problem', 'solved', 'solves', 'solving', 'someday', 'somewhat', 'son', 'song', 'sonic', 'sono', 'sonoko', 'sony', 'soon', 'soon begin', 'soon come', 'soon discover', 'soon discovers', 'soon fall', 'soon learns', 'soon realize', 'soon realizes', 'soon turn', 'sophie', 'sophisticated', 'sophomore', 'sora', 'sorata', 'sorcerer', 'sorceress', 'sorrow', 'sort', 'sought', 'souji', 'soul', 'souma', 'soumas', 'sound', 'sound like', 'soundtrack', 'source', 'source amazon', 'source anidb', 'source anilist', 'source anime', 'source anime encyclopedia', 'source animenfo', 'source ann', 'source ann edited', 'source bakabt', 'source bilibili', 'source bilibili translated', 'source bulbapedia', 'source collaborative', 'source collaborative cataloging', 'source collaborative cataloging japan', 'source crunchyroll', 'source crunchyroll edited', 'source dlsite', 'source dvd', 'source edited', 'source energy', 'source erogeshop', 'source funimation', 'source hanime', 'source imdb', 'source mal', 'source mal news', 'source manabu', 'source manabu tsuribe', 'source mangahelpers', 'source mu', 'source mu edited', 'source netflix', 'source novel', 'source official', 'source official site', 'source official website', 'source official youtube', 'source official youtube channel', 'source orphan', 'source orphan fansubs', 'source production', 'source rightstuf', 'source sentai', 'source sentai filmworks', 'source tb', 'source translated', 'source vndb', 'source wiki', 'source wikipedia', 'source yamamura', 'source yamamura animation', 'source youtube', 'sousuke', 'souta', 'south', 'southern', 'southern island', 'space', 'space colony', 'space force', 'space pirate', 'space shower', 'space shower tv', 'space station', 'spacecraft', 'spaceship', 'span', 'spare', 'spare time', 'spared', 'spark', 'sparkling', 'speak', 'speaking', 'speaks', 'spear', 'spearhead', 'special', 'special ability', 'special aired', 'special anime', 'special bundled', 'special bundled dvd', 'special edition', 'special episode', 'special episode aired', 'special episode bundled', 'special episode included', 'special feature', 'special force', 'special included', 'special included dvd', 'special included dvd release', 'special included volume', 'special power', 'special released', 'special short', 'special shown', 'specialist', 'specialized', 'specializes', 'specially', 'specialty', 'specie', 'specific', 'specifically', 'specimen', 'specter', 'speech', 'speed', 'spell', 'spend', 'spend day', 'spend time', 'spending', 'spending day', 'spending time', 'spends', 'spends day', 'spends time', 'spent', 'sphere', 'spice', 'spider', 'spin', 'spinoff', 'spiral', 'spirit', 'spirit world', 'spirited', 'spiritual', 'spite', 'split', 'spoiled', 'sponsor', 'sponsored', 'spontaneous', 'spooky', 'sport', 'spot', 'spotlight', 'spotted', 'spread', 'spreading', 'spree', 'spring', 'spunky', 'spur', 'spurred', 'spy', 'squad', 'squadron', 'square', 'square enix', 'squirrel', 'stabbed', 'stability', 'stacked', 'stadium', 'staff', 'stage', 'stage set', 'stake', 'stalk', 'stalker', 'stamp', 'stand', 'stand chance', 'stand way', 'standalone', 'standard', 'standing', 'star', 'star source', 'stare', 'staring', 'stark', 'starlight', 'starring', 'starring cast', 'starship', 'start', 'start new', 'start source', 'started', 'starting', 'startled', 'startling', 'stasis', 'state', 'station', 'station id', 'statue', 'stature', 'status', 'status quo', 'stay', 'stay alive', 'staying', 'steadily', 'steal', 'stealing', 'steam', 'steel', 'steel angel', 'step', 'stepfather', 'stepmother', 'stepped', 'stepping', 'stepsister', 'ster', 'stern', 'stick', 'stir', 'stirring', 'stitch', 'stock', 'stoic', 'stole', 'stolen', 'stomach', 'stone', 'stood', 'stop', 'stop motion', 'stop motion animation', 'stop source', 'stopped', 'stopping', 'store', 'storm', 'story', 'story based', 'story begin', 'story boy', 'story center', 'story depicts', 'story episode', 'story focus', 'story follows', 'story follows boy', 'story follows boy named', 'story friendship', 'story girl', 'story original', 'story place', 'story revolves', 'story set', 'story source', 'story source ann', 'story start', 'story tell', 'story told', 'story unfolds', 'story written', 'story young', 'story young man', 'storyline', 'storyteller', 'storytelling', 'straight', 'straightforward', 'stranded', 'strange', 'strange ability', 'strange creature', 'strange dream', 'strange event', 'strange girl', 'strange incident', 'strange man', 'strange new', 'strange phenomenon', 'strange power', 'strange thing', 'strangely', 'stranger', 'strangest', 'strategic', 'strategy', 'stratos', 'straw', 'straw hat', 'straw hat crew', 'straw hat pirate', 'stray', 'stray cat', 'streak', 'stream', 'streamed', 'streaming', 'street', 'street racer', 'street racing', 'street tokyo', 'strength', 'strengthen', 'strengthens', 'stress', 'strict', 'strictly', 'stride', 'strife', 'strike', 'striker', 'striking', 'string', 'strip', 'stripe', 'stripped', 'strive', 'strives', 'striving', 'stroke', 'strong', 'stronger', 'strongest', 'strongly', 'struck', 'structure', 'struggle', 'struggle adapt', 'struggle survive', 'struggling', 'stubborn', 'stuck', 'student', 'student aoi', 'student body', 'student class', 'student council', 'student council member', 'student council president', 'student life', 'student like', 'student living', 'student named', 'student school', 'student soon', 'student source', 'student teacher', 'studio', 'studio colorido', 'studious', 'study', 'studying', 'stuff', 'stuffed', 'stumble', 'stumbled', 'stumbling', 'stunning', 'stunt', 'stupid', 'style', 'stylish', 'su', 'sub', 'subaru', 'subject', 'subjugate', 'submarine', 'submit', 'subordinate', 'subsequent', 'subsequently', 'substitute', 'subtitle', 'subway', 'succeed', 'succeeded', 'succeeding', 'succeeds', 'success', 'successful', 'successfully', 'succession', 'successor', 'succubus', 'succumbing', 'suck', 'sucked', 'sudden', 'sudden appearance', 'sudden death', 'suddenly', 'suddenly appeared', 'suddenly appears', 'suddenly attacked', 'suddenly transported', 'suddenly wake', 'suffer', 'suffered', 'suffering', 'suffers', 'sugar', 'suggested', 'suggests', 'sugimoto', 'suguru', 'suicide', 'suit', 'suit called', 'suitable', 'suited', 'sum', 'sumeragi', 'sumire', 'summarizing', 'summary', 'summary episode', 'summer', 'summer break', 'summer day', 'summer festival', 'summer holiday', 'summer vacation', 'summon', 'summoned', 'summoned world', 'summoner', 'summoning', 'summons', 'sumo', 'sun', 'sunday', 'sung', 'sunny', 'sunred', 'sunrise', 'sunshine', 'suntory', 'super', 'super backkom', 'super deformed', 'super mario', 'super robot', 'super saiyan', 'supercomputer', 'superhero', 'superheroes', 'superhuman', 'superhuman ability', 'superhuman power', 'superhuman strength', 'superhumans', 'superior', 'superiority', 'supermarket', 'supernatural', 'supernatural ability', 'supernatural phenomenon', 'supernatural power', 'superpower', 'supervision', 'supervisor', 'supply', 'support', 'supported', 'supporter', 'supporting', 'supportive', 'supposed', 'supposedly', 'suppress', 'supremacy', 'supreme', 'sure', 'surely', 'surface', 'surfing', 'surge', 'surgeon', 'surgery', 'surpass', 'surprise', 'surprised', 'surprising', 'surprisingly', 'surreal', 'surrender', 'surround', 'surrounded', 'surrounding', 'surroundings', 'survey', 'survey corp', 'survival', 'survive', 'survived', 'survives', 'surviving', 'survivor', 'susanoo', 'sushi', 'suspect', 'suspected', 'suspecting', 'suspended', 'suspicion', 'suspicious', 'sustain', 'susumu', 'suzaku', 'suzaku kururugi', 'suzu', 'suzuka', 'suzuki', 'suzuko', 'suzumiya', 'swallow', 'swallowed', 'swears', 'sweat', 'sweep', 'sweet', 'sweetheart', 'swept', 'swift', 'swiftly', 'swim', 'swimmer', 'swimming', 'swimsuit', 'swing', 'switch', 'switch body', 'sword', 'sword art', 'sword art online', 'swordsman', 'swore', 'sworn', 'sworn enemy', 'symbol', 'syndicate', 'syndrome', 'synopsis', 'synopsis added', 'synopsis added series', 'synopsis added series update', 'table', 'tachibana', 'tackle', 'tactic', 'tactical', 'tadanari', 'tag', 'taichi', 'taiga', 'tail', 'taishou', 'taiwan', 'taka', 'takafumi', 'takagi', 'takahashi', 'takahiro', 'takanashi', 'takano', 'takao', 'takashi', 'takashi natsume', 'takasugi', 'takato', 'takatoshi', 'takaya', 'takayuki', 'taken', 'taken away', 'taken custody', 'takeo', 'takeru', 'takeshi', 'taki', 'taking', 'taking advantage', 'taking care', 'taking place', 'taking world', 'takizawa', 'taku', 'takuma', 'takumi', 'takumi fujiwara', 'takuto', 'takuya', 'tale', 'talent', 'talented', 'talk', 'talked', 'talking', 'tall', 'talon', 'tama', 'tamahome', 'tamaki', 'tamala', 'tamer', 'tanaami', 'tanaka', 'tang', 'taniguchi', 'tanjirou', 'tank', 'tankoubon', 'tanuki', 'tao', 'tape', 'target', 'targeted', 'targeting', 'taro', 'tarou', 'task', 'task force', 'tasked', 'taste', 'tasuke', 'tatara', 'tatsumi', 'tatsunoko', 'tatsuya', 'tattoo', 'taught', 'tax', 'tb', 'tea', 'teach', 'teacher', 'teacher student', 'teaching', 'team', 'team manager', 'team member', 'team rocket', 'team year', 'teamed', 'teaming', 'teammate', 'teamwork', 'tear', 'tearing', 'tease', 'teased', 'teasing', 'technical', 'technique', 'technological', 'technology', 'teen', 'teenage', 'teenage boy', 'teenage girl', 'teenager', 'teeth', 'tekkadan', 'tekken', 'teleported', 'televised', 'television', 'television anime', 'television anime series', 'television episode', 'television series', 'tell', 'tell story', 'tell tale', 'telling', 'telling story', 'temper', 'tempest', 'temple', 'temporal', 'temporarily', 'temporary', 'temptation', 'tenant', 'tenchi', 'tend', 'tendency', 'tender', 'tends', 'tenka', 'tenma', 'tennensui', 'tennis', 'tennis club', 'tennis player', 'tennis team', 'tense', 'tension', 'tentacle', 'teppei', 'term', 'terminal', 'terra', 'terrible', 'terribly', 'terrified', 'terrifying', 'territory', 'terror', 'terrorism', 'terrorist', 'terrorist attack', 'terrorist organization', 'terrorizing', 'terry', 'test', 'test pilot', 'tested', 'testing', 'tetsuo', 'tetsurou', 'tetsuya', 'text', 'tezuka', 'tezuka osamu', 'thank', 'thanks', 'theater', 'theater etiquette', 'theatre', 'theatrical', 'theft', 'theme', 'theme park', 'theme song', 'themed', 'theo', 'theory', 'thief', 'thing', 'thing awry', 'thing begin', 'thing certain', 'thing change', 'thing complicated', 'thing going', 'thing life', 'thing like', 'thing right', 'thing start', 'thing turn', 'thing worse', 'think', 'thinking', 'thirst', 'thirteen', 'thirty', 'thorn', 'thoroughly', 'thought', 'thought source', 'thousand', 'thousand year', 'thousand year ago', 'thread', 'threat', 'threaten', 'threatened', 'threatening', 'threatens', 'thrill', 'thrilled', 'thriller', 'thrilling', 'throne', 'throw', 'throwing', 'thrown', 'thrown away', 'thrust', 'thug', 'thunder', 'thwart', 'tian', 'tick', 'ticket', 'tide', 'tie', 'tied', 'tiger', 'tiger mask', 'tight', 'till', 'time', 'time ago', 'time come', 'time day', 'time girl', 'time human', 'time job', 'time later', 'time left', 'time life', 'time machine', 'time meet', 'time new', 'time pass', 'time passed', 'time place', 'time run', 'time running', 'time school', 'time slip', 'time source', 'time source anidb', 'time source ann', 'time space', 'time spend', 'time spent', 'time stop', 'time time', 'time travel', 'time world', 'time year', 'timeline', 'timid', 'tina', 'tiny', 'tip', 'tire', 'tired', 'tirelessly', 'tita', 'titan', 'title', 'titled', 'titular', 'tm', 'today', 'todoroki', 'toei', 'toei animation', 'togashi', 'togusa', 'toho', 'toho cinema', 'tohoku', 'tohru', 'toilet', 'toji', 'token', 'tokio', 'tokuchi', 'tokugawa', 'tokugawa shogunate', 'tokusatsu', 'tokyo', 'tokyo new', 'tokyo osaka', 'tokyo source', 'tokyo university', 'tokyo university art', 'told', 'toma', 'tomboy', 'tomboyish', 'tomo', 'tomoe', 'tomoki', 'tomomi', 'tomorrow', 'tomoya', 'tomoyo', 'tone', 'tong', 'tong li', 'tongue', 'took', 'took place', 'tool', 'toono', 'tooru', 'tootsuki', 'topic', 'toriko', 'torment', 'tormented', 'torn', 'torture', 'tortured', 'toshiaki', 'tossed', 'total', 'totally', 'touch', 'touched', 'touching', 'tough', 'touko', 'touma', 'tour', 'tourism', 'tourist', 'tournament', 'touya', 'tow', 'towa', 'tower', 'town', 'town source', 'townsfolk', 'townspeople', 'toy', 'toy line', 'toyama', 'toyota', 'trace', 'track', 'tracking', 'trade', 'trading', 'tradition', 'traditional', 'traditional japanese', 'traffic', 'traffic accident', 'traffic safety', 'traffic safety film', 'traffic safety film starring', 'tragedy', 'tragedy strike', 'tragic', 'trail', 'trailer', 'train', 'train station', 'trained', 'trainee', 'trainer', 'training', 'training camp', 'trait', 'traitor', 'tranquil', 'tranquility', 'transfer', 'transfer school', 'transfer student', 'transferred', 'transferring', 'transform', 'transformation', 'transformed', 'transforming', 'transforms', 'translated', 'translation', 'transport', 'transportation', 'transported', 'transported world', 'transporting', 'trap', 'trapped', 'trauma', 'traumatic', 'travel', 'travel time', 'travel world', 'traveled', 'traveler', 'traveling', 'travelling', 'traverse', 'traversing', 'treacherous', 'treasure', 'treasure source', 'treasured', 'treat', 'treated', 'treated like', 'treatment', 'treaty', 'tree', 'tremendous', 'trial', 'triangle', 'tribe', 'tribulation', 'tribute', 'trick', 'tricked', 'tried', 'trigger', 'triggered', 'trilogy', 'trinity', 'trio', 'trip', 'triumph', 'trivial', 'troop', 'trooper', 'trouble', 'troubled', 'troublesome', 'troubling', 'troupe', 'truck', 'true', 'true feeling', 'true identity', 'true love', 'true meaning', 'true nature', 'true purpose', 'true self', 'truly', 'truly mean', 'trump', 'trunk', 'trust', 'trusty', 'truth', 'try', 'try best', 'try figure', 'try help', 'try make', 'try save', 'try stop', 'trying', 'tsf', 'tsubaki', 'tsubasa', 'tsuji', 'tsukasa', 'tsukikage', 'tsukishima', 'tsumugi', 'tsunami', 'tsuribe', 'tsurugi', 'tsutomu', 'tsuyoshi', 'tsuzuki', 'tu', 'tumultuous', 'tunnel', 'turmoil', 'turn', 'turn event', 'turn human', 'turn worse', 'turned', 'turned upside', 'turning', 'turtle', 'tutor', 'tv', 'tv anime', 'tv asahi', 'tv commercial', 'tv program', 'tv series', 'tv series episode', 'tv special', 'tv station', 'tv station id', 'tv station id directed', 'twilight', 'twin', 'twin brother', 'twin sister', 'twinkle', 'twist', 'twist fate', 'twisted', 'twitter', 'twitter account', 'type', 'typhoon', 'typical', 'typical high', 'typical high school', 'tyrannical', 'tyranny', 'tyrant', 'ua', 'ub', 'uchiha', 'udon', 'uehara', 'ueno', 'uenoyama', 'uesugi', 'ufo', 'ugly', 'ui', 'ulterior', 'ultimate', 'ultimate goal', 'ultimate weapon', 'ultimately', 'ultra', 'ultraman', 'umaru', 'umbrella', 'umi', 'unable', 'unable control', 'unable remember', 'unable return', 'unaired', 'unaired episode', 'unaired episode bundled', 'unaired episode included', 'unaired episode included dvd', 'unaired episode included release', 'unaired episode included volume', 'unaired episode released', 'unaired special', 'unaired special included', 'unaired special included dvd', 'unassuming', 'unaware', 'unbeknownst', 'unbelievable', 'unbreakable', 'uncanny', 'uncertain', 'uncertain future', 'uncertainty', 'uncle', 'unclear', 'uncomfortable', 'unconscious', 'uncontrollable', 'unconventional', 'uncover', 'uncover identity', 'uncover mystery', 'uncover secret', 'uncover truth', 'uncovered', 'uncovering', 'uncovers', 'undead', 'underclassman', 'undercover', 'undergo', 'undergoes', 'underground', 'underneath', 'understand', 'understanding', 'understands', 'undertake', 'underwater', 'underway', 'underwear', 'underworld', 'uneasy', 'unemployed', 'uneventful', 'unexpected', 'unexpected trouble', 'unexpected turn', 'unexpected turn event', 'unexpectedly', 'unexplained', 'unfamiliar', 'unfold', 'unfolds', 'unforeseen', 'unforgettable', 'unforgiving', 'unfortunate', 'unfortunate accident', 'unfortunately', 'unhappy', 'unico', 'unicorn', 'unidentified', 'uniform', 'uninhabitable', 'unintentionally', 'union', 'unique', 'unique ability', 'unique character', 'unique personality', 'unique style', 'unit', 'unite', 'united', 'united nation', 'united state', 'unity', 'universal', 'universal century', 'universe', 'university', 'university art', 'university student', 'unknowingly', 'unknown', 'unleash', 'unleashed', 'unleashes', 'unleashing', 'unless', 'unlike', 'unlikely', 'unlock', 'unlucky', 'unmanned', 'unmatched', 'unnamed', 'unnoticed', 'unofficial', 'unorthodox', 'unparalleled', 'unpleasant', 'unprecedented', 'unpredictable', 'unravel', 'unravel mystery', 'unraveling', 'unravels', 'unrelated', 'unrequited', 'unrequited love', 'unrest', 'unseen', 'unsettling', 'unstable', 'unstoppable', 'unsuccessful', 'unsure', 'unsuspecting', 'untimely', 'untold', 'unusual', 'unusually', 'unveil', 'unveiled', 'unveiling', 'unwanted', 'unwavering', 'unwilling', 'unwillingly', 'unwind', 'unwittingly', 'upbeat', 'upbringing', 'upcoming', 'update', 'update information', 'uphold', 'uploaded', 'upper', 'upperclassman', 'ups', 'upset', 'upside', 'urara', 'urashima', 'urban', 'urban legend', 'urge', 'usa', 'usagi', 'use', 'use magic', 'use power', 'used', 'used live', 'useless', 'user', 'ushio', 'using', 'using power', 'usual', 'usually', 'usui', 'utena', 'utilize', 'utilizes', 'utilizing', 'utmost', 'utopia', 'utter', 'utterly', 'uzumaki', 'vacation', 'vain', 'vale', 'valentine', 'valentine day', 'valkyrie', 'valley', 'valuable', 'value', 'vampire', 'vampire hunter', 'van', 'vandread', 'vanguard', 'vanished', 'vanquish', 'variety', 'variety program', 'various', 'various people', 'varying', 'vase', 'vassal', 'vast', 'vega', 'vegeta', 'vegetable', 'vehicle', 'vein', 'venezia', 'vengeance', 'vengeful', 'venice', 'venture', 'venue', 'venus', 'verge', 'vers', 'version', 'version episode', 'vessel', 'veteran', 'vhs', 'vibrant', 'vibrator', 'vice', 'vice president', 'vice president student', 'vicious', 'vick', 'victim', 'victor', 'victorious', 'victory', 'video', 'video created', 'video game', 'video starring', 'view', 'viewed', 'viewer', 'viewing', 'vigilante', 'vignette', 'vile', 'village', 'villager', 'villain', 'villainous', 'vincent', 'violence', 'violent', 'violently', 'violet', 'violin', 'violinist', 'virgin', 'virginity', 'virtual', 'virtual reality', 'virtual world', 'virtually', 'virtue', 'virus', 'vision', 'visit', 'visited', 'visiting', 'visitor', 'visual', 'visual novel', 'visuals', 'vivid', 'vivio', 'vndb', 'voice', 'voice acting', 'voice actor', 'voice actress', 'voiced', 'void', 'vol', 'volcano', 'volleyball', 'volleyball team', 'volume', 'volume dvd', 'volume episode', 'volume manga', 'volume release', 'volunteer', 'voluptuous', 'von', 'von lohengramm', 'vote', 'vow', 'vowed', 'vowing', 'voyage', 'vr', 'vulnerable', 'vying', 'wa', 'wacky', 'wage', 'wait', 'waiting', 'waitress', 'wakaba', 'wake', 'wake girl', 'waking', 'walk', 'walked', 'walking', 'wall', 'wan', 'wand', 'wander', 'wandering', 'wanders', 'want', 'want know', 'wanted', 'wanting', 'war', 'war break', 'war earth', 'war earth federation', 'war fought', 'war hero', 'war human', 'war ii', 'war machine', 'war rage', 'ward', 'warfare', 'warlord', 'warm', 'warming', 'warmth', 'warn', 'warning', 'warns', 'warp', 'warring', 'warring state', 'warrior', 'warship', 'wary', 'wash', 'waste', 'waste time', 'wasteland', 'watanabe', 'watanuki', 'wataru', 'watase', 'watashi', 'watch', 'watch car', 'watched', 'watchful', 'watching', 'water', 'watson', 'wave', 'waver', 'way', 'way earth', 'way escape', 'way home', 'way life', 'way make', 'way meet', 'way return', 'way save', 'way school', 'way source', 'way source ann', 'way stop', 'way survive', 'weak', 'weakened', 'weakest', 'weakness', 'wealth', 'wealthy', 'wealthy family', 'weapon', 'weapon called', 'weapon known', 'weaponry', 'wear', 'wearing', 'weasel', 'weather', 'web', 'web anime', 'web commercial', 'web short', 'website', 'wedding', 'wedding ceremony', 'weed', 'week', 'weekend', 'weekly', 'wei', 'wei wuxian', 'weight', 'weird', 'welcome', 'welcomed', 'welcoming', 'welfare', 'went', 'werewolf', 'west', 'western', 'wet', 'whale', 'whatsoever', 'wheel', 'whereabouts', 'whilst', 'whim', 'whimsical', 'whisked', 'whisked away', 'whisper', 'white', 'white cat', 'white dragon', 'wicked', 'wide', 'widely', 'widespread', 'widow', 'widowed', 'wield', 'wielder', 'wielding', 'wields', 'wife', 'wiki', 'wikia', 'wikipedia', 'wikipedia edited', 'wild', 'wilderness', 'wildest', 'william', 'willing', 'willingly', 'win', 'win heart', 'wind', 'window', 'wing', 'winged', 'winner', 'winning', 'winter', 'wipe', 'wiped', 'wiping', 'wisdom', 'wise', 'wish', 'wish come', 'wish come true', 'wish granted', 'wish source', 'wished', 'wishing', 'wit', 'witch', 'witchcraft', 'witness', 'witnessed', 'witnessing', 'wixoss', 'wizard', 'wo', 'woe', 'woke', 'wolf', 'woman', 'woman named', 'woman source', 'wonder', 'wonderful', 'wondering', 'wonderland', 'wondrous', 'woo', 'wood', 'wooden', 'word', 'work', 'work hard', 'work source', 'worked', 'worked hard', 'worker', 'working', 'workplace', 'world', 'world begin', 'world best', 'world cup', 'world day', 'world domination', 'world dream', 'world fight', 'world filled', 'world god', 'world grand', 'world grand prix', 'world greatest', 'world help', 'world human', 'world know', 'world life', 'world magic', 'world monster', 'world mysterious', 'world new', 'world order', 'world peace', 'world people', 'world search', 'world source', 'world source anidb', 'world source ann', 'world source official', 'world time', 'world tournament', 'world tree', 'world using', 'world war', 'world war ii', 'world warrior', 'world world', 'worldwide', 'worn', 'worried', 'worry', 'worrying', 'worse', 'worst', 'worth', 'worthy', 'wound', 'wounded', 'wrapped', 'wrath', 'wreak', 'wreak havoc', 'wreaking', 'wreaks', 'wreckage', 'wrestler', 'wrestling', 'write', 'writer', 'writes', 'writing', 'written', 'wrong', 'wrong hand', 'wrong time', 'wronged', 'wu', 'wuxian', 'wwii', 'xi', 'xiao', 'xiaobai', 'xiaohei', 'xie', 'xie lian', 'xin', 'yagami', 'yagyu', 'yakumo', 'yakuza', 'yamabuki', 'yamada', 'yamaguchi', 'yamamoto', 'yamamura', 'yamamura animation', 'yamato', 'yamazaki', 'yan', 'yang', 'yano', 'yao', 'yard', 'yasaka', 'yashiro', 'yato', 'yayoi', 'ye', 'year', 'year age', 'year ago', 'year earlier', 'year end', 'year event', 'year future', 'year high', 'year high school', 'year human', 'year later', 'year middle', 'year middle school', 'year new', 'year old', 'year pas', 'year passed', 'year past', 'year prior', 'year source', 'year special', 'year student', 'year time', 'year universal', 'year universal century', 'year war', 'year world', 'year year', 'yearning', 'yearns', 'yellow', 'yen', 'yes', 'yggdrasil', 'yi', 'yin', 'ying', 'yo', 'yoji', 'yoji kuri', 'yokai', 'yoko', 'yokohama', 'yomi', 'yori', 'york', 'york city', 'yorozuya', 'yoshida', 'yoshiharu', 'yoshiki', 'yoshino', 'yoshio', 'yoshiyuki', 'yotarou', 'yotsuya', 'youichi', 'youji', 'youkai', 'youko', 'youma', 'youmu', 'young', 'young age', 'young beautiful', 'young boy', 'young boy named', 'young child', 'young girl', 'young girl named', 'young lady', 'young man', 'young man named', 'young master', 'young men', 'young people', 'young prince', 'young son', 'young student', 'young warrior', 'young woman', 'young woman named', 'younger', 'younger brother', 'younger sister', 'youngest', 'youta', 'youtarou', 'youth', 'youthful', 'youtube', 'youtube channel', 'yu', 'yuan', 'yue', 'yugo', 'yui', 'yuiga', 'yuji', 'yuka', 'yukari', 'yuki', 'yukie', 'yukihira', 'yukiko', 'yukimura', 'yukina', 'yukino', 'yukio', 'yukito', 'yuko', 'yuma', 'yume', 'yumemi', 'yumi', 'yumiko', 'yun', 'yuna', 'yuno', 'yura', 'yuri', 'yurie', 'yurine', 'yusha', 'yusuke', 'yuta', 'yutaka', 'yuto', 'yuu', 'yuugi', 'yuuhi', 'yuuichi', 'yuuichirou', 'yuuji', 'yuujirou', 'yuuki', 'yuuko', 'yuuma', 'yuuna', 'yuuri', 'yuusei', 'yuusuke', 'yuuta', 'yuuto', 'yuuya', 'yuzu', 'yuzuki', 'zack', 'zen', 'zenigata', 'zenon', 'zenon squad', 'zeon', 'zeon force', 'zeravire', 'zero', 'zeus', 'zhang', 'zheng', 'zhou', 'zodiac', 'zoids', 'zombie', 'zone', 'zoo', 'zoro', 'éclair']\n",
      "Maximum number of words in an element: 4\n",
      "Max words in an element: 4\n",
      "Element(s) with that many words:\n",
      "- academy boy tennis team\n",
      "- added series update information\n",
      "- average high school student\n",
      "- based adult pc game\n",
      "- begin source mal news\n",
      "- bundled limited edition manga\n",
      "- bundled limited edition volume\n",
      "- character posted official twitter\n",
      "- episode bundled limited edition\n",
      "- episode character posted official\n",
      "- episode included dvd release\n",
      "- fifth holy grail war\n",
      "- follows boy named quon\n",
      "- formula world grand prix\n",
      "- high school student named\n",
      "- junior high school student\n",
      "- life high school student\n",
      "- limited edition manga volume\n",
      "- limited edition volume manga\n",
      "- normal high school student\n",
      "- ordinary high school student\n",
      "- picture drama episode included\n",
      "- posted official twitter account\n",
      "- posted official youtube channel\n",
      "- second year high school\n",
      "- seishun academy boy tennis\n",
      "- short episode character posted\n",
      "- shower tv station id\n",
      "- source collaborative cataloging japan\n",
      "- source official youtube channel\n",
      "- special included dvd release\n",
      "- story follows boy named\n",
      "- synopsis added series update\n",
      "- traffic safety film starring\n",
      "- tv station id directed\n",
      "- unaired episode included dvd\n",
      "- unaired episode included release\n",
      "- unaired episode included volume\n",
      "- unaired special included dvd\n"
     ]
    }
   ],
   "source": [
    "x=list(vectorizer.get_feature_names_out())\n",
    "print(x)\n",
    "max_words = max(len(item.split()) for item in x)\n",
    "print(\"Maximum number of words in an element:\", max_words)\n",
    "max_len = max(len(item.split()) for item in x)\n",
    "longest_items = [item for item in x if len(item.split()) == max_len]\n",
    "\n",
    "print(f\"Max words in an element: {max_len}\")\n",
    "print(\"Element(s) with that many words:\")\n",
    "for item in longest_items:\n",
    "    print(\"-\", item)"
   ]
  },
  {
   "cell_type": "code",
   "execution_count": null,
   "id": "61feb4b8",
   "metadata": {},
   "outputs": [
    {
     "data": {
      "text/plain": [
       "array([[0.5663139 , 0.75790987, 0.39897645, ..., 0.11640801, 0.17674973,\n",
       "        0.2019782 ],\n",
       "       [0.3021434 , 0.36778077, 0.65230964, ..., 0.08695206, 0.10606865,\n",
       "        0.22531548],\n",
       "       [0.29488451, 0.2080167 , 0.65476189, ..., 0.06710592, 0.15206497,\n",
       "        0.11967547],\n",
       "       ...,\n",
       "       [0.54313892, 0.14463616, 0.73883095, ..., 0.29025437, 0.19647859,\n",
       "        0.255723  ],\n",
       "       [0.17249553, 0.57042637, 0.92437214, ..., 0.15029817, 0.08244418,\n",
       "        0.10204359],\n",
       "       [0.18281137, 0.13788928, 0.76689422, ..., 0.19888598, 0.11705233,\n",
       "        0.38603945]], shape=(9194, 28))"
      ]
     },
     "execution_count": 5,
     "metadata": {},
     "output_type": "execute_result"
    }
   ],
   "source": [
    "# List of arrays -> (n_samples, n_labels)\n",
    "probs_train = np.array([clf.predict_proba(X_train)[:, i] for i in range(len(genre_names))]).T\n",
    "probs_test = np.array([clf.predict_proba(X_test)[:, i] for i in range(len(genre_names))]).T\n"
   ]
  },
  {
   "cell_type": "code",
   "execution_count": 13,
   "id": "8aaa5eaf",
   "metadata": {},
   "outputs": [
    {
     "name": "stdout",
     "output_type": "stream",
     "text": [
      "Report for Train dataset\n",
      "samples avg f1-score = 0.7642789689747306\n",
      "Jaccard Similarity: 0.6629763354279983\n",
      "Hit Rate: 0.9841200783119426\n",
      "----------------------\n",
      "Report for Val dataset\n",
      "samples avg f1-score = 0.5170801523988012\n",
      "Jaccard Similarity: 0.39699091757915284\n",
      "Hit Rate: 0.8770851624231782\n",
      "----------------------\n",
      "Report for Test dataset\n",
      "samples avg f1-score = 0.5123073070604257\n",
      "Jaccard Similarity: 0.3910687015833422\n",
      "Hit Rate: 0.8770851624231782\n"
     ]
    },
    {
     "name": "stderr",
     "output_type": "stream",
     "text": [
      "c:\\Users\\User\\anaconda3\\envs\\NLP_CW\\Lib\\site-packages\\sklearn\\metrics\\_classification.py:1565: UndefinedMetricWarning: Precision is ill-defined and being set to 0.0 in samples with no predicted labels. Use `zero_division` parameter to control this behavior.\n",
      "  _warn_prf(average, modifier, f\"{metric.capitalize()} is\", len(result))\n",
      "c:\\Users\\User\\anaconda3\\envs\\NLP_CW\\Lib\\site-packages\\sklearn\\metrics\\_classification.py:1565: UndefinedMetricWarning: Precision is ill-defined and being set to 0.0 in samples with no predicted labels. Use `zero_division` parameter to control this behavior.\n",
      "  _warn_prf(average, modifier, f\"{metric.capitalize()} is\", len(result))\n",
      "c:\\Users\\User\\anaconda3\\envs\\NLP_CW\\Lib\\site-packages\\sklearn\\metrics\\_classification.py:1565: UndefinedMetricWarning: Precision is ill-defined and being set to 0.0 in samples with no predicted labels. Use `zero_division` parameter to control this behavior.\n",
      "  _warn_prf(average, modifier, f\"{metric.capitalize()} is\", len(result))\n"
     ]
    },
    {
     "data": {
      "application/vnd.microsoft.datawrangler.viewer.v0+json": {
       "columns": [
        {
         "name": "index",
         "rawType": "int64",
         "type": "integer"
        },
        {
         "name": "Synopsis",
         "rawType": "object",
         "type": "string"
        },
        {
         "name": "Actual Genres",
         "rawType": "object",
         "type": "unknown"
        },
        {
         "name": "Predicted Genres",
         "rawType": "object",
         "type": "unknown"
        }
       ],
       "conversionMethod": "pd.DataFrame",
       "ref": "90a2c050-262d-410d-92de-8a20ebdd4948",
       "rows": [
        [
         "0",
         "Sometime in the future, the world was completely dried up and became all desert. They had little rivers and lakes left, which villians and dangerous animals lived. Water has become the most valueable thing on the world. Whoever can control water will rule over the world.  (Source: ANN)",
         "('Action', 'Adventure')",
         "('Action', 'Adventure', 'Fantasy', 'Sci-Fi')"
        ],
        [
         "1",
         "Set in 2014, the anime follows the adventures of 23 years old Mafuneko, a newly minted assistant director who joins the TV production department at Tokyo Hajikko Television, only to discover that the glamorous and glitzy life of working behind-the-scenes making TV shows involves strange and inexplicable tasks such as \"gathering 300 acorns\" and \"making a mosaic out of the images reflected in the camera lens.\" Despite being surrounded by chaos, set-backs, and weirdos, Mafuneko struggles to become a fully-fledged TV producer.  (Source: Crunchyroll, edited)",
         "('Comedy',)",
         "('Comedy', 'Fantasy', 'Slice of Life')"
        ],
        [
         "2",
         "Follows a pig whose family's mission is to collect underpants.",
         "('Comedy', 'Kids')",
         "('Comedy', 'Kids', 'Slice of Life')"
        ],
        [
         "3",
         "In honor of the 2018 World Cup, this season of GG Bond focuses on sports team competition, team spirit, and personal growth as they compete in the Meteor League.  ",
         "('Kids', 'Sci-Fi', 'Sports', 'Super Power')",
         "('Action', 'Kids', 'Sci-Fi', 'Sports', 'Super Power')"
        ],
        [
         "4",
         "Fairies living in a fluffy forest, where both flowers and trees are fluffy. Follow a witch's trouble-maker apprentices Pui Pui and Muu Muu.",
         "('Fantasy', 'Kids')",
         "('Fantasy', 'Kids', 'Slice of Life')"
        ],
        [
         "5",
         "This story is about Mick, a sleeping chironomid. Insects are taken up into space for use in experiments by humans. An epic space adventure of Mick and his friends of their journey back home to Earth. The development plans and experiments are aborted by humans for no known reason, the organisms are left behind in the space station with limited resources. Going over hurdles and fighting through challenges, together, they travel across planets and gain new comrades, heading for Earth. As their journey progresses, the mystery behind the human’s abandonment unravels…  (Source: Crunchyroll)",
         "('Adventure', 'Other')",
         "('Action', 'Adventure', 'Mecha', 'Other', 'Sci-Fi', 'Shounen')"
        ],
        [
         "6",
         "The anime is based on MegaHouse's line of Ziguru Hazeru (literally, \"Jiggle and Pop Out\") mecha toys that allow people to remove parts from the joints and add different parts in their place. In addition, if one combines together Hazeru Gokuu, Hazeru Sagojo, and Hazeru Hakkai, the resulting mecha will be Hazeru Seioh, allowing for users to combine their toys together.  The ZIGURUHAZERU animated series is based on the upcoming original toy line of the same name from MegaHouse, featuring cool robot toys modelled after characters from the famous Journey to the West tale.",
         "('Action', 'Mecha')",
         "('Action', 'Kids', 'Mecha')"
        ],
        [
         "7",
         "Fuwa Beibei encounters the severely injured goddess, Athena. In order to help Athena regain strength, Beibei sets out to find a mysterious wooden box left by Coubertin in 1894, but the worrying thing is that Pixiu who injured his stomach from his glutinous eating habits heard this news too. He thought that this mysterious energy could not only cure his stomach, but also improve his magic, and such begins the journey through time and space of two spirits with different aims. After all the hardships, they found the sixth son of the dragon - Bixi, and after the two's efforts in passing his test, Bixi carries them along 100 years of Olympic history.",
         "('Historical',)",
         "('Drama', 'Fantasy', 'Historical')"
        ],
        [
         "8",
         "The anime will depict various vehicles as characters in the \"Mobile Land\" island. The protagonist Car-kun arrives at the island as a delivery worker. Through his deliveries, he gets to know the residents of Mobile Land, all while following traffic rules and having his deliveries stopped by the meddling Sabibi.  (Source: ANN)",
         "('Comedy', 'Kids', 'Other', 'Slice of Life')",
         "('Adventure', 'Comedy', 'Kids', 'Other', 'Slice of Life')"
        ],
        [
         "9",
         "follows the adventures of an adorable jet plane named Jett who travels around the world delivering packages to children. On every delivery, Jett encounters new problems that he must solve with the help of his friends the \"Super Wings\": Dizzy, Jerome and Donnie. Together, the team explores different countries and learns the diversity of new cultures.  (Source: Official YouTube channel)",
         "('Adventure', 'Kids', 'Other')",
         "('Adventure', 'Fantasy', 'Kids')"
        ],
        [
         "10",
         "A collaboration shorts that aired as part of Yomiuri TV's morning program block.",
         "('Comedy',)",
         "('Comedy', 'Parody', 'Slice of Life')"
        ],
        [
         "11",
         "There was once a man who was summoned to another world, and saved it. Of course, he became too popular there, and turned into an isekai-normie. However, that man fell into a \"trap\" and was forcibly returned to his original world. Moreover, he had to start over as a baby!  This is the story of the way-too-fantastic ex-hero who lived as a gloomy high-schooler, as he gets summoned once again to that same other world in a very unexpected development!  (Source: Coolmic, edited)",
         "('Action', 'Adventure', 'Comedy', 'Fantasy', 'Harem', 'Romance')",
         "('Action', 'Adventure', 'Fantasy', 'Harem', 'Romance')"
        ],
        [
         "12",
         "The 2018 LINE sticker set Poccolies is inspiring a series of anime shorts. The story of the sticker set is that a positive and honest boy named Patsuhiko lives on Pokkori Island, along with the shrewd and mysterious Ham, and a reliable older brother figure named Kangaroo. The sticker set follows their daily lives.  (Source: ANN)",
         "('Kids', 'Slice of Life')",
         "('Adventure', 'Comedy', 'Kids', 'Slice of Life')"
        ],
        [
         "13",
         "Fourth season of Kamiusagi Rope, events occur after the feature film. Airs on Mezamashi TV instead of the theaters.",
         "('Comedy', 'Slice of Life')",
         "('Comedy', 'Parody', 'Slice of Life')"
        ],
        [
         "14",
         "Korean Animation about the monsters Eerie, Rock-G, Popo, and Yossi and the adventures they go on each day!",
         "('Adventure',)",
         "('Adventure', 'Fantasy')"
        ],
        [
         "15",
         "TV adaptation of Cocone Corporation's mobile puzzle game app.  Discover the adventures of the cat painter, Vincent van Meowogh who lives in a mansion in Paris surrounded by his quirky friends. Let's give him a spark of inspiration for his painting by completing puzzle stages, buy back the furniture and restore his home to its former glory!  (Source: ANN)",
         "('Kids', 'Other')",
         "('Adventure', 'Kids', 'Other')"
        ],
        [
         "16",
         "General of the Three Kingdoms, Kongming had struggled his whole life, facing countless battles that made him into the accomplished strategist he was. So on his deathbed, he wished only to be reborn into a peaceful world... and was sent straight to modern-day party-central, Tokyo! Can even a brilliant strategist like Kongming adapt to the wild beats and even wilder party people?!  (Source: Kodansha US, edited)",
         "('Comedy',)",
         "('Action', 'Adventure', 'Comedy', 'Fantasy')"
        ],
        [
         "17",
         "Kou Yamori seems like a typical middle school student on the surface. Relatively good at studies and amiable with his classmates, he puts a lot of effort into maintaining this facade. One day, however, he decides to stop pretending and quits school, developing insomnia as a result of having no daytime outlet for his energy. When taking walks alone at night, he feels marginally better, though he is aware that his inability to sleep should be considered a serious problem.  On one such walk, Kou meets a weird girl, Nazuna Nanakusa, who diagnoses the cause of his sleeplessness: despite making changes in his life, he is still holding himself back from experiencing true freedom. She says that he won't be able to sleep unless he is satisfied with how he spends his waking hours. When it appears that she has resolved his current worries, Nazuna invites him back to her apartment to share her futon. After a while, unaware that he is only feigning unconsciousness, she leans over him—and bites his neck!  ",
         "('Other', 'Romance', 'Shounen', 'Supernatural')",
         "('Comedy', 'Romance', 'School', 'Shounen', 'Slice of Life', 'Supernatural')"
        ],
        [
         "18",
         "Ryou Mizushima enrolls in junior high and joins the badminton club with great vigor. Although the club didn't have a proper coach, Mizushima improved his skills with his own physical strength by the time he participated in the prefectural tournament. Afterwards, he is approached by the Yokohama Minato High School's badminton coach, Ebihara.  Indecisive and timid, Mizushima hesitates to attend such a prestigious school. However, with his elder sister Rika giving him a strong push, he decides to go to Yokohama Minato. Now blessed with a coach and idiosyncratic teammates, Mizushima will gain experience he's lacked till now, and aims to win the inter-high tournament.  (Source: MAL News)",
         "('Sports',)",
         "('School', 'Slice of Life', 'Sports')"
        ],
        [
         "19",
         "This show consists of shorts starring 7 characters created and voiced by the voice actors of the variety show \"Seiyuu Danshi desu ga...?\". The anime will be a slapstick comedy that follows seven spirits that come to the modern world.  (Source: ANN)",
         "('Comedy', 'Supernatural')",
         "('Comedy', 'Kids', 'Slice of Life', 'Supernatural')"
        ],
        [
         "20",
         "Hello Jadoo is a South-Korean TV show about a girl named Choi Jadoo who is a very free-spirited girl. In every episode, she would always get into drama, whether it was with her parents or school. At the same time, she meets new people and she tries to solve problems occurring.",
         "('Slice of Life',)",
         "('Comedy', 'Ecchi', 'Harem', 'Romance', 'School', 'Shoujo', 'Slice of Life')"
        ],
        [
         "21",
         "The supreme Gods who had too much free time created the ultimate brain games \"Play of the Gods.\" Former Goddess Leche awoke from a long slumber and declared to the world, \"Bring forth the person who is the best in games in this era!\" Fay is nominated to represent humanity as the \"best rookie in recent years.\"  The \"Game of the Gods\" that is about to begin between the two may be a little too difficult, as there has yet to be a victor throughout human history, because Gods are capricious, very unreasonable, and sometimes completely incomprehensible. However, given the nature of the games, it would be a waste not to have a good time and play with all of one's heart! The ultimate brain battles of a genius gamer boy, a former Goddess, and friends begin!  (Source: MAL News)",
         "('Ecchi', 'Fantasy', 'Other')",
         "('Action', 'Ecchi', 'Fantasy', 'Other', 'Supernatural')"
        ],
        [
         "22",
         "Struggling with life and society, high school student Michio Kaga wanders about the Internet and lands on an odd website. The website, featuring a number of questions and a point based system, allows one to create skills and abilities for a character. Upon completing his character, Kaga was transported to a game-like fantasy world and reborn as a strong man who can claim idol-level girls. Thus begins the cheat and harem legend of a reborn man!  (Source: MAL News)",
         "('Action', 'Adventure', 'Fantasy', 'Harem', 'Romance')",
         "('Action', 'Comedy', 'Fantasy', 'Harem', 'Romance', 'School')"
        ],
        [
         "23",
         "Technoroid: Overmind is set in the Entertainment Tower Babel, a new hope found by those who have lost the joy of light as humanity's activities are restricted due to the large-scale climate change caused by the expanded sun. The anime depicts unique units and characters fighting for the top of Babel, pursuing emotions that move people and androids through performances.  (Source: MAL News)",
         "('Music',)",
         "('Action', 'Mecha', 'Music', 'Sci-Fi')"
        ],
        [
         "24",
         "Tsukumogami—spirits or \"marebito\" can possess objects of considerable age and gain a physical form. Although he is part of the Saenome clan that is in charge of peacefully sending them back to their own world, Hyouma Kunato despises them because one took away what was very precious to him. In order to cure him of this loathing, Hyouma's grandfather sends him to live with Botan Nagatsuki, a girl who is the master of six \"friendly\" tsukumogami and lives with them as a family.  (Source: MU, edited)",
         "('Action', 'Seinen', 'Supernatural')",
         "('Action', 'Fantasy', 'Seinen', 'Supernatural')"
        ],
        [
         "25",
         "A young woman aims to become a famous fashion designer.  (Source: AniDB)",
         "('Romance', 'Shoujo')",
         "('Hentai', 'Romance', 'Shoujo')"
        ],
        [
         "26",
         "The hero of Tensei shitara Ken deshita differs from your standard otherworldly protagonist in that he is reincarnated as a sword! Beginning his quest by spawning in the middle of a beast-ridden forest, he encounters an injured girl frantically fleeing for her life. Saving her from her assailants, the pair acquaint themselves, and the girl introduces herself as Fran. She bears a heavy past, having endured the enslavement and maltreatment of her tribe, the Black Cats.  As the hero is unable to remember the name from his past life, the young and tenacious Fran bestows him the name \"Shishou\" and becomes his wielder. Thereafter, Shishou and Fran become a formidable team, embarking on quests to liberate the oppressed and exact justice!  ",
         "('Action', 'Fantasy')",
         "('Action', 'Adventure', 'Drama', 'Fantasy')"
        ],
        [
         "27",
         "If a girl teases you, that means she likes you!  Unfortunately, Akiteru knows from experience that isn't the case. Because every girl he interacts with shows him nothing but scorn, and he's not scored a single date from it! Luckily, he's more concerned with securing a spot for him and his game-development buddies at his uncle's business.  But when his uncle throws him a condition that involves playing the part of his daughter's boyfriend, Akiteru has no choice but to take it. What will his best friend's sister Iroha, who bullies him relentlessly, think of the news?  (Source: J-Novel Club)",
         "('Comedy', 'Romance', 'School')",
         "('Comedy', 'Hentai', 'Romance', 'School')"
        ],
        [
         "28",
         "There is a mysterious power of the Holy Spirit hidden in the legendary continent of Labelle, and the way to get power is recorded in the book of flower, guard by numerous flower Fairy Kings,only the legendary magic ambassador is recognized to wake up the power, and use them to defeat evil. For this.The evil force,led by Jakarta,the Queen of Dark had start a war to the continent of Labelle.With the help of the Flower Goddess,Pupula and the tribe of gouring flower fairys, the fate of the continent of Labelle is linked with an Earth girl... Who is the legendary envoy XiaAnAn.  (Source: Magical Girl Wiki)",
         "('Kids',)",
         "('Action', 'Adventure', 'Fantasy', 'Kids', 'Shoujo', 'Super Power')"
        ],
        [
         "29",
         "Denji has a simple dream—to live a happy and peaceful life, spending time with a girl he likes. This is a far cry from reality, however, as Denji is forced by the yakuza into killing devils in order to pay off his crushing debts. Using his pet devil Pochita as a weapon, he is ready to do anything for a bit of cash.  Unfortunately, he has outlived his usefulness and is murdered by a devil in contract with the yakuza. However, in an unexpected turn of events, Pochita merges with Denji's dead body and grants him the powers of a chainsaw devil. Now able to transform parts of his body into chainsaws, a revived Denji uses his new abilities to quickly and brutally dispatch his enemies. Catching the eye of the official devil hunters who arrive at the scene, he is offered work at the Public Safety Bureau as one of them. Now with the means to face even the toughest of enemies, Denji will stop at nothing to achieve his simple teenage dreams.  ",
         "('Action', 'Adventure', 'Demons', 'Shounen')",
         "('Action', 'Adventure', 'Demons', 'Other', 'Romance', 'Shounen', 'Supernatural')"
        ],
        [
         "30",
         "6.5-centimeter tall Degirdians fall to Earth in their spacecraft while chasing fugitives. Their spaceship transforms into a capsule toy stand near a toy store and a human boy accidentally takes home one of the aliens thinking it's a capsule toy. They befriend a human boy and try to figure out a way to get home all while fighting off the evil alien.",
         "('Kids', 'Sci-Fi')",
         "('Kids', 'Sci-Fi')"
        ],
        [
         "31",
         "revolves around mischievous creatures called Teenieping that like to enter people's minds, but their playful nature and magical powers can wreak havoc in their hosts' lives. When the Teenieping are set loose on Earth, Princess Romi of the Emotion Kingdom becomes an ordinary girl that has to turn into a magical girl to stop them, all while balancing her new civilian life as a worker for the Bakery Heartrose with her coworkers Ian, Kyle, and Jun.  (Source: Wikipedia)",
         "('Fantasy', 'Kids', 'School')",
         "('Comedy', 'Fantasy', 'Kids', 'School')"
        ],
        [
         "32",
         "A more educational season of GG Bond. This season is composed of 2 arcs, each arc has 52 episodes.  GG Bond works on cleaning up some fossils at the lab as they'll be used in a museum exhibit. He uses a fossil to create a data coin that is compatible with his special jet. This allows for him to travel back in time to the original animal (a T-Rex) the fossil was made of. While GG Bond is ecstatic to learn about dinosaurs in-person (as well as mine more accurate data for the data coin), he didn't quite realize the danger he'd be in. He successfully gets out of this sticky situation but there's still a lot more dinosaurs he needs to get information on.",
         "('Historical', 'Kids', 'Sci-Fi', 'Super Power')",
         "('Adventure', 'Historical', 'Kids', 'Sci-Fi', 'Super Power')"
        ],
        [
         "33",
         "Hitori Gotou is a high school girl who's starting to learn to play the guitar because she dreams of being in a band, but she's so shy that she hasn't made a single friend. However, her dream might come true after she meets Nijika Ijichi, a girl who plays drums and is looking for a new guitarist for her band.  (Source: MU, edited)",
         "('Comedy', 'Music', 'Slice of Life')",
         "('Comedy', 'Music', 'School', 'Shoujo', 'Slice of Life')"
        ],
        [
         "34",
         "TV anime based on San-X's new series of mascot characters \"Chickip Dancers.\" The main characters in the anime will be the apprehensive but curious bone-in chicken Hone Chicken, and the dancing instructor frog Skip Gaeru, who travels by dancing.  (Source: ANN)",
         "('Slice of Life',)",
         "('Comedy', 'Kids', 'Slice of Life')"
        ],
        [
         "35",
         "Stop-motion animation using clay and puppets follows a musician and hit cat traveling the world and learning about music in different cultures while spreading their own songs.",
         "('Kids', 'Music')",
         "('Kids', 'Music')"
        ],
        [
         "36",
         "A Chinese prince meets a regular civilian during his travels and quickly falls in love. They marry and have a daughter, but the prince is soon separated from them during a rebellion. Many years later, the prince has become emperor and locates his lost daughter. She comes to live with him, but unfortunately has picked up several unrefined habits during her times as a civilian.",
         "('Comedy', 'Historical', 'Kids')",
         "('Comedy', 'Drama', 'Fantasy', 'Historical', 'Kids', 'Romance')"
        ],
        [
         "37",
         "is an animation series with some educational undertones targeting 5~7-year-old kids. The entire series is set against the backdrop of a supermarket. Viewing the animations, children will be able to imagine themselves in amidst all a supermarket has to offer. Children can join Kemy and his quest to figure out the answers to everyday questions. Buka and Chaka do not reprise their roles in this season.  (Source: korean-products.com)  ",
         "('Kids',)",
         "('Kids',)"
        ],
        [
         "38",
         "Centers on a penguin who works in an abusive company and gripes about the difficulties of workplace life. The title is a play on the \"koutei penguin,\" the Japanese name for the emperor penguin.  (Source: ANN)",
         "('Other',)",
         "('Comedy', 'Kids')"
        ],
        [
         "39",
         "No synopsis has been added for this series yet.   to update this information.",
         "('Comedy', 'Fantasy')",
         "('Adventure', 'Comedy', 'Fantasy', 'Kids', 'Other', 'Sports')"
        ],
        [
         "40",
         "In \"a certain era\" on \"a certain continent,\" banal things are happening. The construction of \"Large-Scale Leisure Facilities\" has demanded that all the villages are to be evicted. When these demands are denied, the village and its residents are obliterated. A boy named Chap once lived in tranquility, but that happiness soon came crumbling down. He decides to embark on a journey of revenge, but soon falls madly in love with the king's daughter, Princess Melora. In order to fulfill her selfish wishes, he gathers his friends in order to overcome the impossible.",
         "('Adventure', 'Comedy', 'Fantasy', 'Kids')",
         "('Adventure', 'Fantasy', 'Kids', 'Romance')"
        ],
        [
         "41",
         "The story centers around a cat who answers people's wishes and delivers happiness. (\"Tane\" and \"neko\" are the Japanese words for \"seed\" and \"cat,\" respectively.)  (Source: ANN)",
         "('Comedy',)",
         "('Comedy', 'Kids')"
        ],
        [
         "42",
         "The series follows a young girl named Shina who hopes to become the world's best DJ, and is interested in new sounds. Shina explores a mysterious world filled with Otoppe, strange creatures capable of unique sounds.",
         "('Fantasy', 'Kids', 'Music')",
         "('Fantasy', 'Kids', 'Music')"
        ],
        [
         "43",
         "The second season of the franchise. It aired within the \"Fight Tension☆School\" variety program.",
         "('Comedy', 'Mecha')",
         "('Comedy', 'Mecha', 'Parody', 'Sports')"
        ],
        [
         "44",
         "Shorts that aired within \"Fight Tension☆Depart,\" a variety program that originally aired the anime as one of its segments. Celeb-chan is a narcissistic school girl who believes that she is a celebrity because her family is incredibly wealthy. She tries to do typical rich people things such as starting her own heavy makeup line, becoming a singer, saving an endangered species, buying a teacup poodle, etc. The results are never how she expects it.",
         "('Comedy', 'Parody')",
         "('Comedy', 'Parody', 'Slice of Life')"
        ],
        [
         "45",
         "How did Asia's most prominent entrepreneurs know when to grasp opportunities? And how did they overcome difficulties and attain their positions of power? This series uses the unconventional technique of blending actual documentary footage with CG animation to get a close-up look into the front lines and what lies behind the scenes of Asian business.  Our cartoon host is Shima Kosaku, a character from a popular Japanese business manga. He delves into the heart of the Asian economic market representing 4 billion people, to visit entrepreneurs who have survived turbulent times. Thai business magnate, Dhanin Chearavanont (Chairman of CP Group), and innovative Taiwanese semiconductor entrepreneur, Morris Chang (Chairman of TSMC), are among the many movers and shakers to be featured. Don't miss this opportunity to glimpse the dramatic lives of these media-shy business titans.  (Source: Official Site)",
         "('Drama', 'Seinen')",
         "('Drama', 'Other', 'Seinen')"
        ],
        [
         "46",
         "The story centers on Matthew, a daydreaming worrywart of a rabbit. Matthew also has two friends: Keron, a pessimistic frog who is fond of good-luck charms; and Ham, a hamster of few words and who moves through life at his own pace. The story follows the three animals' everyday lives within a mysterious forest.  (Source: ANN)",
         "('Slice of Life',)",
         "('Comedy', 'Kids', 'Slice of Life')"
        ],
        [
         "47",
         "Excellent student Iwakura Mitsumi has always dreamt about leaving her small town, going to a prestigious university, and making positive change in the world. But she's so focused on reaching her goals that she's not prepared for the very different (and overwhelming) city life that awaits her in a Tokyo high school. Luckily, she makes fast friends with Shima Sousuke, a handsome classmate who's as laid-back as she is over-prepared. Can this naive country girl make it big in Tokyo with Sousuke by her side?  (Source: Seven Seas Entertainment)",
         "('School', 'Seinen', 'Slice of Life')",
         "('Drama', 'School', 'Seinen', 'Slice of Life')"
        ],
        [
         "48",
         "The story will follow four girls who seek to use their songs to heal and soothe the people of their world. The tagline reads, \"Kindhearted, powerful songs heal the world. These are beautiful miracles sung by humanity.\"  (Source: MAL Source)",
         "('Music',)",
         "('Fantasy', 'Music')"
        ],
        [
         "49",
         "It follows the fan favorite character Vandyne as his hidden secrets are revealed. Unlike the reboot, which exclusively uses 3DCG visuals, this series is like the earlier entries and is animated with 2D and 3D visuals.  The mini-series is part of a new promotional campaign from Sono Kong. The Korean toy manufacturer will launch four new mechanimals this month at retail.  (Source: toonbarn.com)",
         "('Adventure', 'Kids', 'Mecha', 'Other')",
         "('Adventure', 'Kids', 'Mecha', 'Other')"
        ]
       ],
       "shape": {
        "columns": 3,
        "rows": 9194
       }
      },
      "text/html": [
       "<div>\n",
       "<style scoped>\n",
       "    .dataframe tbody tr th:only-of-type {\n",
       "        vertical-align: middle;\n",
       "    }\n",
       "\n",
       "    .dataframe tbody tr th {\n",
       "        vertical-align: top;\n",
       "    }\n",
       "\n",
       "    .dataframe thead th {\n",
       "        text-align: right;\n",
       "    }\n",
       "</style>\n",
       "<table border=\"1\" class=\"dataframe\">\n",
       "  <thead>\n",
       "    <tr style=\"text-align: right;\">\n",
       "      <th></th>\n",
       "      <th>Synopsis</th>\n",
       "      <th>Actual Genres</th>\n",
       "      <th>Predicted Genres</th>\n",
       "    </tr>\n",
       "  </thead>\n",
       "  <tbody>\n",
       "    <tr>\n",
       "      <th>0</th>\n",
       "      <td>Sometime in the future, the world was complete...</td>\n",
       "      <td>(Action, Adventure)</td>\n",
       "      <td>(Action, Adventure, Fantasy, Sci-Fi)</td>\n",
       "    </tr>\n",
       "    <tr>\n",
       "      <th>1</th>\n",
       "      <td>Set in 2014, the anime follows the adventures ...</td>\n",
       "      <td>(Comedy,)</td>\n",
       "      <td>(Comedy, Fantasy, Slice of Life)</td>\n",
       "    </tr>\n",
       "    <tr>\n",
       "      <th>2</th>\n",
       "      <td>Follows a pig whose family's mission is to col...</td>\n",
       "      <td>(Comedy, Kids)</td>\n",
       "      <td>(Comedy, Kids, Slice of Life)</td>\n",
       "    </tr>\n",
       "    <tr>\n",
       "      <th>3</th>\n",
       "      <td>In honor of the 2018 World Cup, this season of...</td>\n",
       "      <td>(Kids, Sci-Fi, Sports, Super Power)</td>\n",
       "      <td>(Action, Kids, Sci-Fi, Sports, Super Power)</td>\n",
       "    </tr>\n",
       "    <tr>\n",
       "      <th>4</th>\n",
       "      <td>Fairies living in a fluffy forest, where both ...</td>\n",
       "      <td>(Fantasy, Kids)</td>\n",
       "      <td>(Fantasy, Kids, Slice of Life)</td>\n",
       "    </tr>\n",
       "    <tr>\n",
       "      <th>...</th>\n",
       "      <td>...</td>\n",
       "      <td>...</td>\n",
       "      <td>...</td>\n",
       "    </tr>\n",
       "    <tr>\n",
       "      <th>9189</th>\n",
       "      <td>The Konohagakure Grand Sports Festival has beg...</td>\n",
       "      <td>(Action, Comedy, Fantasy, Other, Shounen, Sports)</td>\n",
       "      <td>(Action, Comedy, Other, Shounen, Sports, Super...</td>\n",
       "    </tr>\n",
       "    <tr>\n",
       "      <th>9190</th>\n",
       "      <td>Special bundled with the Blu-ray/DVD volume of .</td>\n",
       "      <td>(Ecchi,)</td>\n",
       "      <td>(Comedy, Ecchi, Harem, Parody)</td>\n",
       "    </tr>\n",
       "    <tr>\n",
       "      <th>9191</th>\n",
       "      <td>According to the official Hobby Japan website,...</td>\n",
       "      <td>(Comedy, Ecchi, Fantasy, Parody)</td>\n",
       "      <td>(Action, Comedy, Ecchi, Parody, Seinen)</td>\n",
       "    </tr>\n",
       "    <tr>\n",
       "      <th>9192</th>\n",
       "      <td>A series of comedic shorts featuring chibi ver...</td>\n",
       "      <td>(Adventure, Comedy, Fantasy, Parody)</td>\n",
       "      <td>(Adventure, Comedy, Fantasy, Parody)</td>\n",
       "    </tr>\n",
       "    <tr>\n",
       "      <th>9193</th>\n",
       "      <td>These shorts, included in the Blu-ray and DVD ...</td>\n",
       "      <td>(Comedy, Seinen, Slice of Life)</td>\n",
       "      <td>(Comedy, Parody, Seinen, Slice of Life)</td>\n",
       "    </tr>\n",
       "  </tbody>\n",
       "</table>\n",
       "<p>9194 rows × 3 columns</p>\n",
       "</div>"
      ],
      "text/plain": [
       "                                               Synopsis  \\\n",
       "0     Sometime in the future, the world was complete...   \n",
       "1     Set in 2014, the anime follows the adventures ...   \n",
       "2     Follows a pig whose family's mission is to col...   \n",
       "3     In honor of the 2018 World Cup, this season of...   \n",
       "4     Fairies living in a fluffy forest, where both ...   \n",
       "...                                                 ...   \n",
       "9189  The Konohagakure Grand Sports Festival has beg...   \n",
       "9190   Special bundled with the Blu-ray/DVD volume of .   \n",
       "9191  According to the official Hobby Japan website,...   \n",
       "9192  A series of comedic shorts featuring chibi ver...   \n",
       "9193  These shorts, included in the Blu-ray and DVD ...   \n",
       "\n",
       "                                          Actual Genres  \\\n",
       "0                                   (Action, Adventure)   \n",
       "1                                             (Comedy,)   \n",
       "2                                        (Comedy, Kids)   \n",
       "3                   (Kids, Sci-Fi, Sports, Super Power)   \n",
       "4                                       (Fantasy, Kids)   \n",
       "...                                                 ...   \n",
       "9189  (Action, Comedy, Fantasy, Other, Shounen, Sports)   \n",
       "9190                                           (Ecchi,)   \n",
       "9191                   (Comedy, Ecchi, Fantasy, Parody)   \n",
       "9192               (Adventure, Comedy, Fantasy, Parody)   \n",
       "9193                    (Comedy, Seinen, Slice of Life)   \n",
       "\n",
       "                                       Predicted Genres  \n",
       "0                  (Action, Adventure, Fantasy, Sci-Fi)  \n",
       "1                      (Comedy, Fantasy, Slice of Life)  \n",
       "2                         (Comedy, Kids, Slice of Life)  \n",
       "3           (Action, Kids, Sci-Fi, Sports, Super Power)  \n",
       "4                        (Fantasy, Kids, Slice of Life)  \n",
       "...                                                 ...  \n",
       "9189  (Action, Comedy, Other, Shounen, Sports, Super...  \n",
       "9190                     (Comedy, Ecchi, Harem, Parody)  \n",
       "9191            (Action, Comedy, Ecchi, Parody, Seinen)  \n",
       "9192               (Adventure, Comedy, Fantasy, Parody)  \n",
       "9193            (Comedy, Parody, Seinen, Slice of Life)  \n",
       "\n",
       "[9194 rows x 3 columns]"
      ]
     },
     "metadata": {},
     "output_type": "display_data"
    },
    {
     "data": {
      "application/vnd.microsoft.datawrangler.viewer.v0+json": {
       "columns": [
        {
         "name": "index",
         "rawType": "int64",
         "type": "integer"
        },
        {
         "name": "Synopsis",
         "rawType": "object",
         "type": "string"
        },
        {
         "name": "Actual Genres",
         "rawType": "object",
         "type": "unknown"
        },
        {
         "name": "Predicted Genres",
         "rawType": "object",
         "type": "unknown"
        }
       ],
       "conversionMethod": "pd.DataFrame",
       "ref": "f633cec2-bd6d-4642-91ab-53d2c76b9c3d",
       "rows": [
        [
         "0",
         "Shuramaru is hated and feared by the villagers for his unusual powers. He thinks he is human, but... is he?  (Source: AniDB)",
         "('Supernatural',)",
         "('Hentai', 'Sci-Fi')"
        ],
        [
         "1",
         "The daily life of the Motsumoto family. The three sisters, Fuu, Suu, and Chii, follow what happens on a daily basis. Mother and Father have to deal with them sometimes, but they're used to it.",
         "('Comedy', 'Slice of Life')",
         "('Comedy', 'Slice of Life')"
        ],
        [
         "2",
         "The Soul Tree, the great source of our race.  But for its ultimate power and by those whose minds were blinded by it, it also became the catastrophic cause that had brought never-ending wars between the tribes. Tortured by the agonies of the wars, the leaders of the tribes finally came to a peace agreement that they would instead open a competition. Players, equipped with special watches and shields, compete against each other as winner’s tribe would be awarded with Materion, the sacred fruit of the Soul Tree.  These brave players, who throw themselves in this fierce fight, we call them the Runningman.  (Source: Official YouTube Channel)",
         "('Action', 'Adventure', 'Kids')",
         "('Action', 'Adventure', 'Fantasy', 'Other')"
        ],
        [
         "3",
         "Himeno Mimika is a daughter of historical cook family. She goes to a cooking school, Miracle Academy which train cooks all over the world. Vying with rivals, she brings out her gift, and she grows up as a cook.  (Source: AnimeNfo)",
         "('Kids', 'Other', 'Slice of Life')",
         "('Comedy', 'Ecchi', 'Other')"
        ],
        [
         "4",
         "The third generation of J SOUL BROTHERS from EXILE TRIBE is reimagined as 7 unique and diverse characters in \"KICK & SLIDE\". This is a slapstick story where the characters solve difficult cases!? and rare cases!? that occur in the colorful and pop vibrant city \"Nakame Town\" with dance and music.  (Source: Official website)",
         "('Kids', 'Music')",
         "('Comedy', 'Music', 'Mystery', 'Other')"
        ],
        [
         "5",
         "A prequel TV series setting up for the feature film.  G.G. Bond's father while exploring ruins gets sucked into a dimension of evil through the Dark Gate. He is bestowed power and knowledge and becomes corrupted as the King of Darkness. Ancient monsters are sent through the cracks of the gate to attack G.G. Bond and his team as the 5 elemental powers are stronger than the King of Darkness. By weakening the team, only then can the King of Darkness forcibly open the gate to unless a reign of terror on the Fairy Tale world.",
         "('Kids', 'Sci-Fi', 'Super Power')",
         "('Action', 'Adventure', 'Fantasy', 'Kids', 'Shounen', 'Super Power', 'Supernatural')"
        ],
        [
         "6",
         "The offensive and defensive battles between Nobuo, an office worker, and Chi-Sui Maru, a mosquito.",
         "('Comedy',)",
         "('Other',)"
        ],
        [
         "7",
         "This Korean and Chinese co-production series focuses on Tao, a young boy with magical powers, as he attends school to become a wizard. Each episode was composed of two stories.  (Source: Wiki)",
         "('Kids',)",
         "('Adventure', 'Fantasy', 'Kids')"
        ],
        [
         "8",
         "Matsuri Kazamaki and Suzu Kanade are childhood friends, bonded by their shared ability to see ayakashi—youkai in search of a life force to devour. However, in high school, their relationship deteriorates. As Suzu's one-sided feelings are growing, so is the difference in their ayakashi views: Matsuri considers all ayakashi a threat to his friend, while Suzu is an ayakashi medium—someone who exudes a significant amount of life force compared to the average human—and loves them all despite the risk.  When the two stumble upon a talking white cat named Shirogane, they are unaware that it is a four-hundred-year-old ayakashi known as the \"King of Ayakashi.\" He is hell-bent on gaining even more power by devouring Suzu, but as Matsuri swoops in to try and save her by sealing Shirogane's powers, the ayakashi uses a jutsu to turn him into a girl instead!  Matsuri vows to protect Suzu from further harm as her best friend, but he must learn how to act like a girl until his grandfather—a famous wind jutsu exorcist ninja—can undo the jutsu. Meanwhile, Suzu must work out her romantic feelings for Matsuri now that he is no longer a boy. But when Matsuri takes the king as his pet, the future of the two friends seems uncertain.  ",
         "('Action', 'Comedy', 'Ecchi', 'Romance', 'Shounen')",
         "('Drama', 'Romance', 'School')"
        ],
        [
         "9",
         "The 3rd continuation of NTV's ZIP! anime parody shorts. This one focuses on . Like with the previous season, occasionally the Gatchaman team and now the Mazinger Z team show up in some episodes.",
         "('Comedy', 'Parody')",
         "('Comedy', 'Mecha', 'Parody', 'School', 'Shounen', 'Sports')"
        ],
        [
         "10",
         "Say hi to Tayo's new friend - Titipo! Train Center's new born little train Titipo has just passed the driving examination and is prepared to work at the Train Village. Although Titipo dreams of becoming the best train in the world, his curious yet random personality catches him in unforeseen events and troubles everyday. Titipo expands his experience in the greater world and befriends Genie, Diesel, and other little trains. Will Titipo achieve his dream of becoming the best train? Come join the railroad journey and meet Titipo and the little train friends.  (Source: Official YouTube channel)",
         "('Kids', 'Other')",
         "('Fantasy', 'Kids', 'Slice of Life')"
        ],
        [
         "11",
         "At Ruby's house, a small event related to the main plot of each episode occurs, before a red jewellery on the chest of Choco, Ruby's Teddy bear, flashes with a melody. Ruby then takes Choco to her room, and the two 'transport' themselves to the Rainbow Village. There, Ruby hears an explanation from Ling Ling, the mayor of Rainbow Village, and transforms herself using her Rainbow Roller into an appropriate clothing to solve problems. Each episode concludes, back home, with another small event.  (Source: AniDB) ",
         "('Fantasy', 'Kids')",
         "('Fantasy',)"
        ],
        [
         "12",
         "The series follows Officer Black Cat's adventures around the forest neighbourhood, apprehending criminals, dealing justice, and solving crimes.",
         "('Action', 'Adventure', 'Comedy', 'Kids', 'Other')",
         "('Action', 'Adventure', 'Comedy', 'Kids', 'Other')"
        ],
        [
         "13",
         "The anime is set on the titular Musical Note Island, where the god of music is said to reside. The island is home to \"instrument animals,\" who are born from music energy, and have parts of their body composed of a musical instrument. One day, a witch arrives at the island. The warrior girl Cara must go on a journey to defeat the witch and win back the peace on the island.  (Source: ANN)",
         "('Adventure', 'Fantasy', 'Kids')",
         "('Adventure', 'Fantasy', 'Kids', 'Music')"
        ],
        [
         "14",
         "While it may seem like a mere depiction of everyday life, The Sound of Your Heart is a comedy filled to the brim with wit, sarcasm, and parody. It gives no regard for the probable or realistic- it is a series of absurd situations that is sure to get a laugh out of every reader willing to suspend their sense of reality.  (Source: LINE Webtoon)",
         "('Comedy', 'Slice of Life')",
         "('Comedy', 'Parody', 'Slice of Life')"
        ],
        [
         "15",
         "The anime will follow two units from the Vazzrock series—Vazzy and Rock Down.",
         "('Music',)",
         "('Mecha', 'Music')"
        ],
        [
         "16",
         "The anime's story centers on a cat named Maru, adopted by a girl named Anna from a shelter in Matsuyama city. Loved and well fed by the family, Maru gets rounder and fatter every day, spending most of his day sitting by the window and looking at the garden outside. When the family gets a new cat named Cerisier and begins doting on it, Maru gets jealous. In a fight with Cerisier, Maru is hurt by the family's words to him, and follows the advice of another cat to leave and see the world.  (Source: ANN)",
         "('Slice of Life',)",
         "('Comedy', 'Kids')"
        ],
        [
         "17",
         "The story centers on the Seven Gods of Fortune in Japanese mythology as they reside on Awaji Island in Hyogo. In the shorts' story, the Seven Gods of Fortune slack in their duties in heaven, and Susanoo-no-Mikoto banishes them to Awaji Island. In order to return to the heavenly realm, they must help bring happiness to humans and rebuild their virtue. The outcast gods reluctantly grant human wishes and accumulate points in their \"god phones\" to be able to return to heaven. They aim to perform good deeds on particularly auspicious days to maximize point accumulation. Despite their best efforts at accumulating virtue, sometimes the Seven Gods of Fortune end up bringing misfortune to humans. When they fail, they lose points, further prolonging their stay on Awaji Island.  (Source: ANN)",
         "('Comedy', 'Kids', 'Supernatural')",
         "('Adventure', 'Comedy', 'Demons', 'Fantasy', 'Shoujo', 'Supernatural')"
        ],
        [
         "18",
         "is a spin-off-series of Mecard, based on the idea that dinosaurs didn't become extinct 65 million years ago, but transformed into mecanimals. Its characters don't have any relations to the cast from , and .  (Source: Gonglyong Mecard Wikia)",
         "('Adventure', 'Kids', 'Mecha', 'Other')",
         "('Kids',)"
        ],
        [
         "19",
         "Yuuichi Katagiri has battled financial hardships his whole life but has learned to stay content and positive thanks to his close circle of friends. To keep a promise he made to them, Yuuichi saves up enough money to join them on the school trip. But when the gathered money mysteriously goes missing, suspicion falls on two of Yuuichi's friends: Shiho Sawaragi and Makoto Shibe, who were in charge of collecting the payments. Although innocent, Shiho and Makoto take responsibility for the failure to protect the money when no one else comes forward.  A few days later, Yuuichi and his friends receive mysterious letters which trick each of them into meeting up. Upon arrival, they are ambushed and knocked unconscious. They wake up in a mysterious room in the presence of \"Manabu-kun,\" a character from a controversial children's show that stopped airing due to its malicious content. He informs the group that one of them indirectly gathered them together in order to settle a large debt. They are to play a \"friendship game\": a series of games that will test the strength of their bond and trust in each other. As the group's faith wavers due to the growing number of secrets and betrayals, Yuuichi must figure out who of his \"friends\" he can actually trust and ultimately discover the identity of the traitor.  ",
         "('Other', 'Shounen')",
         "('Drama', 'Romance', 'Supernatural')"
        ],
        [
         "20",
         "Shorts about root vegetables from the refrigerator who try to act like superheroes.",
         "('Comedy',)",
         "('Comedy', 'Kids')"
        ],
        [
         "21",
         "The Geisha Tokyo Entertainment company has announced on Wednesday it is producing and airing Sakuran Boy DT, \"Japan's first\" Flash-animated television series about a local costumed hero character. The name of the character is a wordplay on the Japanese translation for \"cherry boy\" — the Japanese slang for a male virgin — and the Sakuranbo television station in the northeastern Japanese city of Yamagata. The story revolves around Satou-kun, an ordinary high school boy who transforms into Sakuran Boy DT to rescue the mayor's daughter from the nefarious secret society Zaou. Sakuranbo has posted a trailer online, and the 11 five-minute weekly episodes will premiere on this station on January 14.",
         "('Comedy', 'Super Power')",
         "('Comedy', 'Parody')"
        ],
        [
         "22",
         "On a whim, first-year Ayumu Tanaka quits the Kendo Club to join the illegitimate Shogi Club. Urushi Yaotome, the president of the club and a master of shogi, is thrilled to finally have a playing partner. As Ayumu's upperclassman, Urushi endeavors to be his shogi mentor and student role model. Too often, however, she finds herself blushing with embarrassment! Stone-faced and honest, Ayumu sees no issue with calling Urushi \"cute.\" Although Ayumu likes her, he refrains from confessing and promises himself to first beat her in a game of shogi.  Through school life and shogi games, the two students have many hilarious and heart-warming adventures. Ayumu enjoys every second with Urushi, but he is still a long way from beating her in shogi. With the commitment he made to himself, will Ayumu ever get the chance to confess his feelings to Urushi?  ",
         "('Comedy', 'Romance', 'School', 'Shounen', 'Slice of Life')",
         "('Comedy', 'Other', 'School', 'Slice of Life')"
        ],
        [
         "23",
         "On a distant southern island, a fish (sakana) opened its mouth for a cat (neko), thus \"nekozakana\" (cat-fish) is born.  (Source: ANN)",
         "('Comedy', 'Kids')",
         "('Adventure', 'Comedy', 'Fantasy')"
        ],
        [
         "24",
         "On February 29, 2000, the Möbius meteorites fell on Earth. These meteorites brought a new form of matter known as Möbius Dust to Earth. The dust permeated Earth's atmosphere, leading to a miracle. The day the meteorites fell, nicknamed \"2.29,\" accelerated the economic disparity in Japan.  Before long, the Bloody War Alliance, discontent with this disparity, began committing acts of terrorism. Amidst all this, the police established the anti-RC special mobile unit and a joint anti-RC training school for the initial training of the unit members.  (Source: ANN)",
         "('Action', 'Kids', 'Other')",
         "('Action', 'Mecha', 'Military', 'Other', 'Sci-Fi')"
        ],
        [
         "25",
         "Cute yet mighty! Mini animal rangers transform into super power Force-Bot to save endangered friends! In the ruthless world of animals, big strong animals dominate and feed on the small and weak. To buck this natural system, small animals form a secret organization \"MINIFORCE.\" Rigidly selected mutants with special powers: Volt, Sammy, Lucy and Max become top secret rangers to save their small village Bluebell from the hand of human villain Nein and his underling lizard Pascal. Animals in danger? No problem! When Force-Gem alerts, it's time to get suit on! With Mini Force and their transforming mechanics, it’s time to sweep! (Source: Samg Animation)",
         "('Action', 'Adventure')",
         "('Adventure', 'Comedy', 'Kids')"
        ],
        [
         "26",
         "Coburoux is a prince of Curry Kingdom. Although he is a prince, he goes to the school for common people, and he is treated like other students. In fact, he is scolded by the teacher, is made to stand during class as a punishment, go some errands for a chef, and is teased by a girl whom he loves. He is always worried, and wonders whether the prince should be better. Being surrounded by weird friends and strange people in Curry Kingdom, he spends worrying days.  (Source: AnimeNfo)",
         "('Comedy',)",
         "('Comedy', 'Romance', 'School', 'Shoujo')"
        ],
        [
         "27",
         "A short anime about Taeko Shinbou who is an office worker that is patient with everything and greets everything that comes her way with cheer. An announcement was made that a \"regular person\" from Kantou will voice Taeko rather than an industry professional.  (Source: ANN)",
         "('Slice of Life',)",
         "('Comedy',)"
        ],
        [
         "28",
         "No synopsis information has been added to this title. Help improve our database by adding a synopsis .",
         "('Demons', 'Horror', 'Parody')",
         "('Comedy',)"
        ],
        [
         "29",
         "Urobe was a son of the great chief of Pyrimi, Africa. One day he hung on an airplane and came to Japan. Because of the cold and hunger, he fell on to the yard of Shishio’s house, and Shishio nursed him. Kurobe was very thankful for him and began to repay for his kindness. Kurobe dug a big hole in the yard.Every time he returns the favor, he threw a stone into the hole until stones would fill the hole.  (Source: ANN)",
         "('Comedy',)",
         "('Adventure',)"
        ],
        [
         "30",
         "These are witches who defend everyone's smiles and fight enemies through the healing power of music. These witches, opposite of those in the defense fleet, are idols known as the Music Squadron.  (Source: MAL News)",
         "('Ecchi', 'Military', 'Music', 'Sci-Fi')",
         "('Action', 'Military', 'Music')"
        ],
        [
         "31",
         "It is the time of civil war. Zipangu is a country where people live together with gimmick warriors, a kind of super human robot. There, people and gimmick warriors struggle to seize power. Musashi, a Samurai gimmick warrior, departs to on a quest to become the best Samurai warrior. Musashi thrives in the series of battles, encountering with many heroes and villains including his lifelong rival, Kojiro, an expert swordsman.Later, Mushashi and Kojiro are sent by their General to escort the Princess, a granddaughter of the general. The princess is spoiled and difficult, so their journey becomes series of misadventures. Soon, they are caught up in a battle to seize control of the Country.",
         "('Action', 'Adventure', 'Mecha')",
         "('Action', 'Adventure', 'Fantasy', 'Historical', 'Mecha', 'Other', 'Shounen')"
        ],
        [
         "32",
         "A stop-motion anime using beaded characters. Here a magician rabbits solve problems by using magic.",
         "('Kids',)",
         "('Comedy', 'Fantasy', 'Kids')"
        ],
        [
         "33",
         "Jim Button and his best friend Luke live on an island. When Luke has to leave the island Jim decides to go with him. when they leave they don't have a clue about the hidden dangers in the world. while traveling they learn that a young princess name Lisi was captured by pirates whom brought her to Sorrowland. The evil and dangerous dragon miss. Grindtooth rules in that land. Jim and Luke decide to go to Sorrowland to save princess Lisi.",
         "('Adventure', 'Fantasy', 'Kids')",
         "('Adventure', 'Comedy', 'Fantasy', 'Kids', 'Mystery')"
        ],
        [
         "34",
         "In a Tokyo suburb small town, there lives a girl named Nekota Kaoru. Being born into a normal family, being raised in a normal way, this spring she'll become a normal happy middle-schooler.  However, since young age, Nekota had an abnormal ability to see Imadoki youkai (Modern Monster). And she has kept it a secret from others...",
         "('Fantasy', 'Kids', 'School', 'Slice of Life')",
         "('Comedy', 'Drama', 'Fantasy', 'Harem', 'Romance', 'Slice of Life', 'Supernatural')"
        ],
        [
         "35",
         "Grandpa Danger is a world where the great protector is Grandpa Danger! He's an expert at falling off of cliffs, dealing with a principal who suffers from a severe inferiority complex, and escaping the hidden dangers of sleep! He's a nonsensical, utterly disgusting, relentless prankster. Grandpa Danger's excessive phlegm and farts frustrate Grandson to hilarious extremes, and make you laugh until your stomach splits!  (Source: AniDB)",
         "('Comedy', 'Kids')",
         "('Comedy', 'Drama')"
        ],
        [
         "36",
         "The new Nukko. anime is an adolescent school story revolving around Nukko and Nukko's slightly(?) oddball friends.  (Source: ANN)",
         "('Comedy',)",
         "('Comedy', 'Kids', 'School')"
        ],
        [
         "37",
         "In the city of Fuuto, criminals make use of USB-like devices called \"Gaia Memories\" to turn themselves into superpowered monsters known as \"Dopants,\" wreaking havoc in the otherwise peaceful city. However, there are also heroes who utilize the Gaia Memories to fight these criminals, one of whom is the self-proclaimed, hard-boiled detective Shoutarou Hidari. With the help of his witty partner Philip, the two transform into Kamen Rider W—the legendary hero of Fuuto city.  After the fall of Museum—the evil organisation responsible for many crimes in Fuuto—the production and distribution of Gaia Memories has halted. However, remnants of Gaia Memories still remain within society and are sold in the black market at high prices. Thus, the two heroes from Narumi Detective Agency are yet to have time to relax. Sights of Dopants still occur and the agency receives more and more clients who claim to experience supernatural phenomena.  Regardless of the arduous nature of the task, Kamen Rider W promises that those who hurt Fuuto will inevitably count up their sins.  ",
         "('Action', 'Drama', 'Mystery', 'Other', 'Seinen', 'Supernatural')",
         "('Action', 'Comedy', 'Mystery', 'Sci-Fi', 'Seinen', 'Super Power', 'Supernatural')"
        ],
        [
         "38",
         "A young boy has adventures with his transforming car.",
         "('Kids', 'Other')",
         "('Adventure', 'Historical', 'Kids', 'Other', 'Shounen')"
        ],
        [
         "39",
         "Kikuru Madan, is a monster hunter with excellent performance, because of his particular job in the forest, but he decided to quit it because of fear wasting his own youth...  (Source: LHTranslation)",
         "('Comedy', 'Ecchi', 'Fantasy', 'Harem', 'Shounen')",
         "('Fantasy', 'Horror')"
        ],
        [
         "40",
         "Norakuro is a black dog enlisted in the \"Mokenrentai\" (Fierce Dog Brigade), an Imperial army of dogs fighting in a war against the enemy Monkey Army.  Norakuro is a stray black-and-white dog in an army of white dogs who blundered his way while being a Private Second-Class.  This serieswas relatively faithful to the comics. One big change, however, was the addition of the army nurse Miko, whom Norakuro had a crush on. For this series, Norakuro was voiced by Nobuyo Ooyama, who would later become noted for voicing Doraemon.  (Source: Cartoon Research)",
         "('Comedy',)",
         "('Adventure', 'Kids', 'Military')"
        ],
        [
         "41",
         "Corporate secretary Shirotani suffers from obsessive-compulsive disorder. One day he meets Kurose, a therapist who offers to take him through a ten-step program to cure him of his compulsion. As the two go through each of the ten steps, Shirotani 's attraction to his counselor grows.  (Source: SuBLime)",
         "('Drama', 'Other', 'Romance')",
         "()"
        ],
        [
         "42",
         "The anime follows a boy named Gen, who time travels from the year 2020 to a distant future where humanity has gone extinct. He begins staying at the Ganko family home in the Rustling Forest, where he has none of the amenities he is used to: no electricity, gas, or running water, as well as no television, smartphones, convenience stores, snacks, or games.  (Source: ANN)",
         "('Comedy', 'Kids', 'Sci-Fi')",
         "('Adventure', 'Kids', 'Sci-Fi')"
        ],
        [
         "43",
         "The series follows the black cat Monroe and the human Yoppy and their \"normal and special everyday lives.\"  (Source: ANN)",
         "('Comedy',)",
         "('Comedy', 'Slice of Life')"
        ],
        [
         "44",
         "G.G. Bonds enters the realm of dreams to stop evil's power from growing. They must get the citizens of Crystal City to remember their dreams so that the 5 element powers can recharge.",
         "('Kids', 'Sci-Fi', 'Super Power')",
         "('Action', 'Adventure', 'Fantasy', 'Sci-Fi', 'Super Power')"
        ],
        [
         "45",
         "It follows the daily life of Kotetsu-kun, who aspires to be an astronaut, and friends at the Animal Space Academy as they all pursue their dreams.  (Source: ANN)",
         "('Comedy', 'Other')",
         "('Comedy', 'School', 'Slice of Life')"
        ],
        [
         "46",
         "The story centers around a mysterious tall tower built from an (unsteady) stack of building blocks. Every morning, noon, and evening, an old timekeeping man rings the bell in the tower to confirm the time for the local townspeople. However, one day at noon, the tower bell fails to ring — leaving the townspeople confused about when to eat lunch. The fantasy adventure begins when Karl, an inquisitive boy living in the town, decides to go to the tower's plaza to see what is the matter.  (Source: ANN)",
         "('Adventure', 'Fantasy', 'Kids', 'Mystery')",
         "('Adventure', 'Fantasy')"
        ],
        [
         "47",
         "WHO'S YOUR NANNY?  Tooru Kirishima is the right-hand man of the Sakuragi crime family. For him, the job is a perfect excuse to let his violent instincts run wild, earning him the nickname \"The Demon of Sakuragi.\" It seems like nothing will stand in the way of his vicious nature. But then one day, he receives an assignment like never before from the boss—babysitting his daughter!  This is the heartwarming (or is it bloodcurdling?) story of a little girl and her yakuza caretaker!  (Source: Kaiten Books, edited)",
         "('Comedy', 'Slice of Life')",
         "('Comedy', 'Slice of Life')"
        ],
        [
         "48",
         "The story is set in the near future.  'Hyper Sports' became a hobby competitions that is popular with children and adults alike. Hiyori Hayama is an high school singer who has nothing to do with Hyper Sports. However, the story begins to be set in motion after a certain incident and encounter.  \"This is the story about how we met our best friends.\"  (Source: MAL News)",
         "('Music', 'Sports')",
         "('Drama', 'School', 'Sports', 'Supernatural')"
        ],
        [
         "49",
         "Three girls come from another planet to save the mistreated animals of planet Earth. Black cat Amiru, squirrel Rumi, and rabbit Rie all make their way to Earth but Rie crashes her UFO! Lucky Amiru and Rumi run into Earth girl Minami and together set out to conquer the world!  (Source: Tokyo Otaku Mode)",
         "('Comedy',)",
         "('Adventure', 'Comedy', 'Mecha', 'Sci-Fi')"
        ]
       ],
       "shape": {
        "columns": 3,
        "rows": 1139
       }
      },
      "text/html": [
       "<div>\n",
       "<style scoped>\n",
       "    .dataframe tbody tr th:only-of-type {\n",
       "        vertical-align: middle;\n",
       "    }\n",
       "\n",
       "    .dataframe tbody tr th {\n",
       "        vertical-align: top;\n",
       "    }\n",
       "\n",
       "    .dataframe thead th {\n",
       "        text-align: right;\n",
       "    }\n",
       "</style>\n",
       "<table border=\"1\" class=\"dataframe\">\n",
       "  <thead>\n",
       "    <tr style=\"text-align: right;\">\n",
       "      <th></th>\n",
       "      <th>Synopsis</th>\n",
       "      <th>Actual Genres</th>\n",
       "      <th>Predicted Genres</th>\n",
       "    </tr>\n",
       "  </thead>\n",
       "  <tbody>\n",
       "    <tr>\n",
       "      <th>0</th>\n",
       "      <td>Shuramaru is hated and feared by the villagers...</td>\n",
       "      <td>(Supernatural,)</td>\n",
       "      <td>(Hentai, Sci-Fi)</td>\n",
       "    </tr>\n",
       "    <tr>\n",
       "      <th>1</th>\n",
       "      <td>The daily life of the Motsumoto family. The th...</td>\n",
       "      <td>(Comedy, Slice of Life)</td>\n",
       "      <td>(Comedy, Slice of Life)</td>\n",
       "    </tr>\n",
       "    <tr>\n",
       "      <th>2</th>\n",
       "      <td>The Soul Tree, the great source of our race.  ...</td>\n",
       "      <td>(Action, Adventure, Kids)</td>\n",
       "      <td>(Action, Adventure, Fantasy, Other)</td>\n",
       "    </tr>\n",
       "    <tr>\n",
       "      <th>3</th>\n",
       "      <td>Himeno Mimika is a daughter of historical cook...</td>\n",
       "      <td>(Kids, Other, Slice of Life)</td>\n",
       "      <td>(Comedy, Ecchi, Other)</td>\n",
       "    </tr>\n",
       "    <tr>\n",
       "      <th>4</th>\n",
       "      <td>The third generation of J SOUL BROTHERS from E...</td>\n",
       "      <td>(Kids, Music)</td>\n",
       "      <td>(Comedy, Music, Mystery, Other)</td>\n",
       "    </tr>\n",
       "    <tr>\n",
       "      <th>...</th>\n",
       "      <td>...</td>\n",
       "      <td>...</td>\n",
       "      <td>...</td>\n",
       "    </tr>\n",
       "    <tr>\n",
       "      <th>1134</th>\n",
       "      <td>Specials included in the OVA of Hyakujitsu no ...</td>\n",
       "      <td>(Other, Parody)</td>\n",
       "      <td>(Comedy, Demons, Ecchi, Harem, School, Shoujo,...</td>\n",
       "    </tr>\n",
       "    <tr>\n",
       "      <th>1135</th>\n",
       "      <td>DVD/BD specials featuring two female cast memb...</td>\n",
       "      <td>(Ecchi, Seinen)</td>\n",
       "      <td>(Comedy,)</td>\n",
       "    </tr>\n",
       "    <tr>\n",
       "      <th>1136</th>\n",
       "      <td>As college entrance examinations draw near, tw...</td>\n",
       "      <td>(School, Slice of Life)</td>\n",
       "      <td>(Drama, Romance, Slice of Life)</td>\n",
       "    </tr>\n",
       "    <tr>\n",
       "      <th>1137</th>\n",
       "      <td>Two special episodes of included on Blu-ray. 1...</td>\n",
       "      <td>(Ecchi, Slice of Life)</td>\n",
       "      <td>(Comedy, Horror, Slice of Life)</td>\n",
       "    </tr>\n",
       "    <tr>\n",
       "      <th>1138</th>\n",
       "      <td>The Future Foundation is in shambles after the...</td>\n",
       "      <td>(Action, Horror, Mystery, Other)</td>\n",
       "      <td>(Action, Adventure, Drama, Fantasy, Mystery, O...</td>\n",
       "    </tr>\n",
       "  </tbody>\n",
       "</table>\n",
       "<p>1139 rows × 3 columns</p>\n",
       "</div>"
      ],
      "text/plain": [
       "                                               Synopsis  \\\n",
       "0     Shuramaru is hated and feared by the villagers...   \n",
       "1     The daily life of the Motsumoto family. The th...   \n",
       "2     The Soul Tree, the great source of our race.  ...   \n",
       "3     Himeno Mimika is a daughter of historical cook...   \n",
       "4     The third generation of J SOUL BROTHERS from E...   \n",
       "...                                                 ...   \n",
       "1134  Specials included in the OVA of Hyakujitsu no ...   \n",
       "1135  DVD/BD specials featuring two female cast memb...   \n",
       "1136  As college entrance examinations draw near, tw...   \n",
       "1137  Two special episodes of included on Blu-ray. 1...   \n",
       "1138  The Future Foundation is in shambles after the...   \n",
       "\n",
       "                         Actual Genres  \\\n",
       "0                      (Supernatural,)   \n",
       "1              (Comedy, Slice of Life)   \n",
       "2            (Action, Adventure, Kids)   \n",
       "3         (Kids, Other, Slice of Life)   \n",
       "4                        (Kids, Music)   \n",
       "...                                ...   \n",
       "1134                   (Other, Parody)   \n",
       "1135                   (Ecchi, Seinen)   \n",
       "1136           (School, Slice of Life)   \n",
       "1137            (Ecchi, Slice of Life)   \n",
       "1138  (Action, Horror, Mystery, Other)   \n",
       "\n",
       "                                       Predicted Genres  \n",
       "0                                      (Hentai, Sci-Fi)  \n",
       "1                               (Comedy, Slice of Life)  \n",
       "2                   (Action, Adventure, Fantasy, Other)  \n",
       "3                                (Comedy, Ecchi, Other)  \n",
       "4                       (Comedy, Music, Mystery, Other)  \n",
       "...                                                 ...  \n",
       "1134  (Comedy, Demons, Ecchi, Harem, School, Shoujo,...  \n",
       "1135                                          (Comedy,)  \n",
       "1136                    (Drama, Romance, Slice of Life)  \n",
       "1137                    (Comedy, Horror, Slice of Life)  \n",
       "1138  (Action, Adventure, Drama, Fantasy, Mystery, O...  \n",
       "\n",
       "[1139 rows x 3 columns]"
      ]
     },
     "metadata": {},
     "output_type": "display_data"
    },
    {
     "data": {
      "application/vnd.microsoft.datawrangler.viewer.v0+json": {
       "columns": [
        {
         "name": "index",
         "rawType": "int64",
         "type": "integer"
        },
        {
         "name": "Synopsis",
         "rawType": "object",
         "type": "string"
        },
        {
         "name": "Actual Genres",
         "rawType": "object",
         "type": "unknown"
        },
        {
         "name": "Predicted Genres",
         "rawType": "object",
         "type": "unknown"
        }
       ],
       "conversionMethod": "pd.DataFrame",
       "ref": "681d95da-7c62-4f08-a4a3-dda9fb08a274",
       "rows": [
        [
         "0",
         "The story begins 15 years after the demon king was defeated and the world has become peaceful. Kotone, who graduated from school and became a magician, inquired about the kingdom-affiliated RPG Real Estate in order to find a new home. In reality, RPG Real Estate was Kotone's place of employment, and together with Fa, a demi-human, the priest Rufuria, and the soldier Rakira, they help support the searches of new homes for the customers with various circumstances.  (Source: MU, edited)",
         "('Comedy', 'Fantasy', 'Slice of Life')",
         "('Adventure', 'Comedy', 'Ecchi', 'Fantasy', 'Supernatural')"
        ],
        [
         "1",
         "A cyborg warrior from an ancient Antarctic kingdom awakes 30000 years later from an accidental hibernation to find the Earth changed and an old alien enemy on the verge of invasion. It's up to Guyslugger to use his ancient technology to defeat the aliens.  (Source: AniDB)",
         "('Action', 'Mecha', 'Sci-Fi')",
         "('Action', 'Adventure', 'Mecha', 'Military', 'Sci-Fi', 'Shounen')"
        ],
        [
         "2",
         "The story centers on Otarou, a creature themed around dirt known as a yogoremon. It and other yogoremon ask the meaning of words and explain negative terms in positive ways.  (Source: ANN)",
         "('Comedy',)",
         "()"
        ],
        [
         "3",
         "An elite soldier, whose nickname is God of Death, is transferred to another unit known as the PaPaRa Army. The PaPaRa Army is infamous for its elite but hilariously crazy members. There is no plot to speak of other than humour, hilarious brutality, and general nonsense. This is also Matsuzawa-sensei's debut work.",
         "('Action', 'Adventure', 'Comedy', 'Romance', 'Sci-Fi')",
         "('Action', 'Military', 'Other')"
        ],
        [
         "4",
         "Based on the real life-story of Pink Lady, a female pop duo that rose to superstardom in the mid-1970's.  (Source: ANN)",
         "('Drama', 'Music', 'Slice of Life')",
         "('Comedy', 'Hentai', 'Shoujo')"
        ],
        [
         "5",
         "The third show in the Virtual Trilogy, a mix of anime and live action shots.  In the beginning of the 22nd century society advanced rapidly. Now even children are able to become real doctors, a task before that took two and a half decades to achieve. And nanomachines became prevalent to fight disease. Keita is a Nanosaver, a child doctor who uses the virtual world to apply life saving techniques by entering the body and treating the patients in a virtual medical station (VMS). As more and more patients are taken in, various mysterious are uncovered about them.  In the second half of the anime, a small Ethanarian alien and galactic federation is introduced.",
         "('Adventure', 'Shounen')",
         "('Action', 'Adventure', 'Historical', 'Other', 'Sci-Fi')"
        ],
        [
         "6",
         "The gag anime takes place at a school for youkai and other supernatural beings. A vampire named Rakuru transfers to the school from the West, and she tries to change the school as the class representative.",
         "('Comedy', 'Supernatural')",
         "('Comedy', 'Other', 'Parody', 'School', 'Supernatural')"
        ],
        [
         "7",
         "An anime series based on the Gunma Prefecture mascot character, Gunma-chan.  (Source: Anilist)",
         "('Slice of Life',)",
         "('Comedy', 'Kids', 'Parody', 'Slice of Life')"
        ],
        [
         "8",
         "The series revolves around life in Gifu Prefecture in central Japan — as seen through the eyes of Tatekayoko, a female inhabitant who speaks in the dialect of Gifu's Tounou region. The anime will air within the program on Tokyo MX.  (Source: ANN)",
         "('Comedy', 'Kids')",
         "('Comedy',)"
        ],
        [
         "9",
         "Depiction of Japan's economy, based on Shoutarou Ishinomori's epynomous manga.",
         "('Drama', 'Historical', 'Seinen', 'Slice of Life')",
         "('Seinen',)"
        ],
        [
         "10",
         "The second season of . SBS took over broadcasting the show. The art style has been changed for a more modern anime-esque appearance and some voice actors did not reprise their character's roles.",
         "('Kids', 'Sci-Fi')",
         "('Comedy', 'Other', 'Slice of Life')"
        ],
        [
         "11",
         "When Nian Chi was a young child, his elder sister was kidnapped in front of him, while he could do nothing but watch, a thing that has tormented him for all these years. Now 10 years later, he's dead set on going to rescue his sister, and sets out.",
         "('Action', 'Adventure', 'Drama', 'Fantasy', 'Historical', 'Other', 'Supernatural')",
         "('Drama', 'Kids', 'Seinen')"
        ],
        [
         "12",
         "An NHK toddler's anime following cowardly creatures representing typical Halloween monsters like Dracula and a witch.",
         "('Kids',)",
         "('Comedy', 'Horror', 'Kids')"
        ],
        [
         "13",
         "The anime follows the frogs Kekkero and Ke who try to find their 998 other siblings.  (Source: ANN)",
         "('Comedy',)",
         "('Comedy', 'Kids', 'Slice of Life')"
        ],
        [
         "14",
         "The 3rd animated season. It follows an entirely new story and new characters unrelated to the previous seasons. The previous seasons metaphorical usage of magic/spirit/chi to visualize yoyo battles has now become literal. The yoyo toys have spirit animals within them and the cast tries to return them to their world before the villains use them for evil purposes.  Leon has an argument with his classmate Gurido for trifle. At the advice of Catherine, Leon and Gurido decide to judge the victory or defeat through yoyo competition. The Daemon Tiger appears when Leon and Gurido begin to fight in the woods. Leon follows Daemon Tiger and work with it. With Daemon Tiger’s help, Leon defeats Gurido.  (Source: Official YouTube channel) ",
         "('Fantasy', 'Kids', 'Other')",
         "('Action', 'Comedy', 'Fantasy', 'Harem', 'Kids')"
        ],
        [
         "15",
         "Within the nature \"Darwin Kita! Kikimono Shin Densetsu\" program on NHK1.5 airs the short , based on a web manga/comic of the same name. It following animal characters who visit the bar . The bar is run by the Mama who is a Pallas's cat ( ) and serviced by the hostess Tsunomin who is a Brazilian treehopper ( ).",
         "('Slice of Life',)",
         "('Comedy', 'Kids', 'Slice of Life')"
        ],
        [
         "16",
         "Yuuya, one half of the boy pop duo ZINGS, may be the laziest performer in the Japanese music industry. His partner is out there giving 110% every night (and, thankfully, he's quite popular), but Yuuya's half-assed, sloppy dancing, and his frankly hostile attitude toward the audience, has the fans hating him and his agent looking for any excuse to cut him loose. The career of a pop idol just isn't the path of easy leisure and adulation Yuuya expected...  After a particularly lifeless concert appearance, Yuuya meets a girl backstage. She's dressed to the nines in a colorful outfit, she's full of vim and vigor, and all she wants from life is to perform. There's just one problem: She's been dead for a year. This is the ghost of Asahi Mogami, the beloved singer whose time on the stage was tragically cut short, unless... If ghosts are real, is spirit possession really that much of a stretch?  (Source: Kodansha US) ",
         "('Comedy', 'Music', 'Other', 'Supernatural')",
         "('Comedy', 'Music')"
        ],
        [
         "17",
         "Based on the gag manga by Fujio A Fujiko.",
         "('Comedy', 'Slice of Life')",
         "('Comedy', 'Parody', 'Seinen', 'Shounen')"
        ],
        [
         "18",
         "Shorts that feature music note cats. The series premiered on February 22, 2014 on television; the first episode was published on an official YouTube channel that same day.  The whole world is in love with character illustrations of cats, dogs, and bears. A brand-new show, and the first of its kind in Japan, featuring nothing but cat characters for cat lovers started airing in February 2014. A variety of cat characters designed by Japan's topnotch creators and illustrators are animated and they are voiced by popular KAWAII (cute) anime voice actors. This show is a must-see not just for the fans of cat characters but for all anime lovers!  (Source:YouTube)",
         "('Comedy', 'Music')",
         "('Comedy', 'Kids', 'Music', 'Parody')"
        ],
        [
         "19",
         "In the world of magic, there exist deadly irreversible techniques commonly known as spellblades. These sparse and elusive spells, along with their casters, are shrouded in mystery and only their absolute lethality is known to the masses.  Every year, the spring blossom signifies a new intake of students to the prestigious magic school Kimberly. With reactions of awe and bewilderment, a ceremonious parade complete with magical beasts welcomes the newcomers to the institution. Among them is the mysterious Oliver Horn, whose indifference changes to fascination as he notices a peculiar figure—a girl wearing strange attire equipped with a Japanese sword.  From the entrance ceremony onward, Oliver realizes that not all is as it seems at Kimberly, as the emergence of labyrinths, monsters, and other threats endanger the new student body. Nanatsu no Maken ga Shihai suru explores the intertwined fates of two warriors as they uncover the dark truths that lurk within the walls of the academy.  ",
         "('Action', 'Fantasy', 'School')",
         "('Action', 'Ecchi', 'Fantasy', 'Harem', 'Mystery', 'School', 'Supernatural')"
        ],
        [
         "20",
         "A short anime that airs within \"Enkame: That's Enka Tainment\" (and enka variety show) program on Asahi TV. It follows a cast of ice cream characters.",
         "('Kids',)",
         "('Comedy', 'Parody', 'Slice of Life')"
        ],
        [
         "21",
         "The story is set in a world where every event has been turned into programs, and mysterious monsters known as \"Promin\" maintain the world. However, many Promin who have turned into bugs known as \"Bugmin\" are responsible for many of the world's real-life bugs. Left alone, they may eventually turn into a big problem. The boy Yuuto encounters the space dog Wanda, and the pair use a camera-like device and key items to capture Bugmin. Promin themselves are able to do things like \"accelerate objects,\" \"spew fire,\" or \"create objects,\" through an ability known as \"Kamiwaza\" (miracle), and are able to fend off Bugmin with it. At first, the Bugmin only cause small, bothersome things, but it will soon elevate into a global scale threat. Can one boy and one dog save the world?  (Source: ANN)",
         "('Kids', 'Sci-Fi')",
         "('Action', 'Adventure', 'Comedy', 'Fantasy', 'Mecha', 'Sci-Fi', 'Shounen')"
        ],
        [
         "22",
         "The story centers on the everyday life of the cats Suna and Manu, who live in a desert — a desert made of sugar instead of sand.  (Source: ANN)",
         "('Comedy',)",
         "('Comedy', 'Music', 'Slice of Life')"
        ],
        [
         "23",
         "Kurumi Mirai is in the first year of high school.  She has enrolled in junior high section of the Redrun Magic School, the world's only facility for mages that approved by International Mage League and able to work under royal families when graduates, and she was always top of the class. However, when she applies for the high school section and took the examination to get into a mage training class \"Ma-gumi (Mage Class)\", she wasn't able to get in in spite having full scores and was top of the class for the whole three years.  There are some students in the class next to her that takes that class. Among that there's someone she admires. How will Kurumi Mirai who has extraordinary brain but didn't get in to be a mage candidate try to overcome and grow up? What is the aim for Minami Suzuki, a loyal mage who suddenly appears to be the homeroom teacher? This is a relaxing story of her growth.  (Source: MAL News)",
         "('Drama', 'Fantasy', 'School', 'Slice of Life')",
         "('Romance', 'School', 'Shounen', 'Slice of Life')"
        ],
        [
         "24",
         "Fourth season of .  Now that spring is in the air, the forest animals are back to frolicking amongst the freshly blooming flowers and busy at work planting new trees to add even more color to their luscious home. The bear brothers—Briar and Bramble, and all their friends are having a jolly great time basking in this colorful season; however, from time to time, they stumble across Logger Vick who will not give up. The bears, along with their little friends make it their mission to protect the forest. This always results in a lot of laughter, tears and of course, adventures aplenty!  (Source: Official website)",
         "('Adventure', 'Comedy', 'Kids')",
         "('Adventure', 'Comedy', 'Kids')"
        ],
        [
         "25",
         "The series follows a mysterious but gentle-hearted man named Yasashi Yasamura who spreads warmth and human kindness wherever he goes.  (Source: Crunchyroll)",
         "('Comedy',)",
         "('Action', 'Demons', 'Kids', 'Other')"
        ],
        [
         "26",
         "A stop-motion comedy drama about sugar cube people from the Meiji era. Specifically it focuses on the father Kakuza who easily succumbs to emotion usually about his 37 year old daughter Touko's newest fiancé who tries to ask for his blessing. He's scared of losing his daughter even though it was his late wife's dying wish to see her as a happy bride.  The show had a very irregular release schedule and by the end of its serialization its title had changed to .",
         "('Comedy', 'Drama', 'Historical', 'Parody')",
         "('Comedy', 'Historical')"
        ],
        [
         "27",
         "As the most powerful entity of all time, the Demon Lord Varvatos thinks life is a big fat snore. When he takes matters into his own hands and decides to reincarnate, he calibrates his magical strength to be perfectly average. But there is no way he could have predicted that everyone in the modern world would be weak as hell, which means he is totally overpowered once again! Reborn under the name Ard, he has ladies fawning over him, the royal family begging him to become the next king, and an ex-minion insisting on killing him?! But Ard has a one-track mind, and he won't stop at anything to achieve his ultimate goal!  (Source: Yen Press)",
         "('Action', 'Fantasy', 'School')",
         "('Comedy', 'Demons', 'Fantasy', 'Hentai', 'Shounen')"
        ],
        [
         "28",
         "A dangerous shadow organization launches a campaign of fear and violence in the city of Shinjuku, pushing society to the brink of chaos. As a young police officer tasked with restoring order, Ichika Hoshino becomes the target of an attack, and has a poisonous collar attached to her neck. With the situation spiraling out of control and time running out, five mysterious strangers appear to aid her in her quest for the truth. Who can she trust? Will she be able to save herself and the soul of Shinjuku from the clutches of oblivion?  (Source: Aksys Games)",
         "('Mystery', 'Other', 'Romance')",
         "('Action', 'Drama', 'Mystery', 'Other', 'Sci-Fi', 'Supernatural')"
        ],
        [
         "29",
         "An anime/documentary series about athletes present by NHK.  The first episode adapts material from Tomoyoshi Itou and Shingo Morita's Weekly Young Jump biographical manga (Geniuses Without Glory)—specifically the story about Hironoshin Furuhashi, the swimmer also known as \"the flying fish of Fujiyama.\" The episode also includes interviews with Olympic swimmer Kousuke Kitajima and other Japanese swimmers about the how Furuhashi changed the Japanese competitive swimming world, as well as what sort of training is required to be an Olympic swimmer.  (Source: ANN, edited)",
         "('Sports',)",
         "('Comedy', 'Drama', 'Shounen', 'Sports')"
        ],
        [
         "30",
         "Part of TV Tokyo's Kinder TV (きんだーてれび) program.",
         "('Comedy',)",
         "('Comedy',)"
        ],
        [
         "31",
         "This anime is a fusion of 3D CGI and live-action. Majority of the episodes are Kemy, Buka, and Chaka in their animated club house but other parts of the episodes are the characters imposed on live footage of nature. The program solves various questions by looking at the world with the vision of infants who are still immature in the world.",
         "('Adventure', 'Kids')",
         "('Comedy', 'Parody')"
        ],
        [
         "32",
         "A foolish clumsy angel came to the human world to help a very unlucky boy. But more accidents are then created...",
         "('Comedy', 'Fantasy')",
         "('Adventure', 'Fantasy', 'Shoujo')"
        ],
        [
         "33",
         "A little ghost girl gets worries when Ms. Fushihara, a corporate slave, is working till midnight, and tries to make her go home. While saying \"Leave now~,\" the ghost girl helps and brings her refreshments, healing Ms. Fushihara's heart with her preciousness. Be healed by the heartwarming daily life of the cute little ghost and the corporate slave Ms. Fushihara.  (Source: MAL News)",
         "('Comedy', 'Shounen', 'Slice of Life', 'Supernatural')",
         "('Comedy', 'Romance', 'Seinen', 'Slice of Life', 'Supernatural')"
        ],
        [
         "34",
         "On planet Kirakira live two tribes: Senobi and Robot. Senobi, quiet and peacefully set, settle down in the forest. Robot comes from the desert and starts war to take control of afforested grounds. A young hero coming from Senobi tries to appease the whole situation.",
         "('Action', 'Adventure', 'Sci-Fi')",
         "('Action', 'Adventure', 'Mecha', 'Sci-Fi')"
        ],
        [
         "35",
         "A prospective witch, a kindergartener who acts like a middle aged, an innocent and incompetent pretty devil, and a genius dog which understands man's words presents a slapstick comedy.  (Source: Toei Animation)",
         "('Comedy', 'Kids')",
         "('Comedy', 'Kids')"
        ],
        [
         "36",
         "musicる TV signed up Norasco for their channel. Some of the ONA's episodes were shown and then the episodes became mostly musicる TV exclusive. ",
         "('Comedy', 'Slice of Life')",
         "('Action', 'Comedy', 'Parody', 'Slice of Life')"
        ],
        [
         "37",
         "Second cour of the third season of .",
         "('Music',)",
         "('Action', 'Comedy', 'Fantasy', 'Harem', 'Historical', 'Kids', 'Supernatural')"
        ],
        [
         "38",
         "The story is told by the cat-eyed boy, hated by humans and demons, who engages in tales of terror, including monsters and children.",
         "('Adventure', 'Horror', 'Other', 'Seinen', 'Supernatural')",
         "('Demons', 'Fantasy', 'Horror', 'Kids', 'Supernatural')"
        ],
        [
         "39",
         "The series follows a variety of employed shellfish who exhibit selfish or odd personality traits.  (Source: LiveChart)",
         "('Comedy',)",
         "('Comedy', 'Slice of Life')"
        ],
        [
         "40",
         "A gag comedy aimed at young children featuring Zombie-kun, a child zombie, and his interactions with the world. It's not intended to be scary in the slightest, but rather, it focuses on the comical and bizarre things Zombie-kun's body can do, and the common-sense-defying way Zombie-kun behaves. For example, he'll take out his stomach and inflate it with air to use as a pillow, or if he gets wet, he'll detach parts of his body and wring them out like towels, then reattach them with a glue stick. Everything is depicted in a cute, cartoony fashion so as not to be too graphic for kids.  (Source: Baka-Updates)",
         "('Comedy', 'Kids')",
         "('Comedy', 'Kids')"
        ],
        [
         "41",
         "During the ancient Western Han dynasty (206BC-9AD), a series of disasters caused by occult phenomena swept across the entire world. Huainanzi, the mysterious Chinese book bound in bamboo, was ripped apart and sent through time to different historical junctures. The book pieces were transformed into various objects, waiting to be rediscovered. A hundred years later, a young man, named Hong Lie, lifts up the burden to collect the missing pieces of the ancient bamboo book. With the help of Ba Gong and his friends going through the Gate of 24 Solar Terms, Hong Lie travels through dynasties to search for the lost pieces. In his adventure, Hong Lie and his loyal friends, Ji Ming and Gou Tiao, experienced the greatness of the ancient legends, appreciating the wisdom of the ancestors from Chun Qiu Period, and witnessed all the weird things happening among ordinary people. Warmth and coldness, sadness and happiness, separation and reunion, stories led him to the great world in the book Huainanzi. Through exciting adventures, he also made lifelong friends. In this special way, Hong Lie communicated with ancestors and started to see the principle of world, realizing that obeying the laws of nature and being in harmony with the environment was the right thing to do. A simple collecting journey slowly became a challenging trip for him to go on with his family mission, and inherit the ancestor’s spirit. (Source: Wikipedia)",
         "('Adventure', 'Fantasy', 'Historical')",
         "('Action', 'Adventure', 'Drama', 'Fantasy', 'Historical', 'Kids', 'Mystery', 'Supernatural')"
        ],
        [
         "42",
         "An NHK toddler's anime following a Spoon Princess and other kitchen themed characters.",
         "('Adventure', 'Kids')",
         "('Comedy', 'Kids', 'Slice of Life')"
        ],
        [
         "43",
         "The Lost Ones are wanderers who come here from a distant world known as \"Japan.\" No one knows how or why they leave their homes. The only thing that is certain is that they bring disaster and calamity. The duty of exterminating them without remorse falls to Menou, a young Executioner. When she meets Akari, it seems like just another job...until she discovers it's impossible to kill this girl! And when Menou begins to search for a way to defeat this immortality, Akari is more than happy to tag along! So begins a journey that will change Menou forever...  (Source: Yen Press)",
         "('Action', 'Adventure', 'Fantasy')",
         "('Action', 'Drama', 'Fantasy', 'Other', 'Romance')"
        ],
        [
         "44",
         "CGI shorts about famous Japanese comedian George Tokoro.",
         "('Comedy',)",
         "('Comedy', 'Historical')"
        ],
        [
         "45",
         "The \"Waruchin Ceremony\" has been stolen from All Star, a planet that exists in the outskirts of space. The computer that is built into it is programmed to make anything possible. The thief is actually the villain, Doctor Bell. Doctor Bell schemes to invade the other planets through the use of Waruchin. The prince of All Star, Prince Chikkun, together with his trusty advisor, the intellectual Takkun, decides to head towards Earth in pursuit of Doctor Bell.  (Source: ANN)",
         "('Comedy', 'Sci-Fi')",
         "('Adventure', 'Comedy', 'Sci-Fi')"
        ],
        [
         "46",
         "A daily educational TV anime broadcasted on NTV focusing on teaching children traffic safety. It was rebroadcasted on other networks till 1978. The anime ran in a 5-minute time slot but shared some of the air time with some live-action shorts/series also meant for children.  ",
         "('Kids',)",
         "('Historical', 'Kids')"
        ],
        [
         "47",
         "The second season of . Its broadcast will be in the same timeslot as the re-airing of the original 2001 anime on Fuji TV.",
         "('Comedy',)",
         "('Action', 'Comedy', 'Historical', 'Mecha', 'Super Power')"
        ],
        [
         "48",
         "Based on a manga by Fujiko (A) Fujio and Fujiko (F) Fujio.",
         "('Adventure',)",
         "('Comedy', 'Hentai', 'Seinen')"
        ],
        [
         "49",
         "Based on Nasu Masamoto's Zukkoke Sannin-gumi juvenile novels series.  The main characters are 6 grade boys, Hachibei, Hakase, and Mo-chan. This anime shows their adventures.  (Source: AnimeNfo)",
         "('Comedy', 'Kids', 'School')",
         "('Adventure', 'Comedy', 'Fantasy', 'Kids')"
        ]
       ],
       "shape": {
        "columns": 3,
        "rows": 1127
       }
      },
      "text/html": [
       "<div>\n",
       "<style scoped>\n",
       "    .dataframe tbody tr th:only-of-type {\n",
       "        vertical-align: middle;\n",
       "    }\n",
       "\n",
       "    .dataframe tbody tr th {\n",
       "        vertical-align: top;\n",
       "    }\n",
       "\n",
       "    .dataframe thead th {\n",
       "        text-align: right;\n",
       "    }\n",
       "</style>\n",
       "<table border=\"1\" class=\"dataframe\">\n",
       "  <thead>\n",
       "    <tr style=\"text-align: right;\">\n",
       "      <th></th>\n",
       "      <th>Synopsis</th>\n",
       "      <th>Actual Genres</th>\n",
       "      <th>Predicted Genres</th>\n",
       "    </tr>\n",
       "  </thead>\n",
       "  <tbody>\n",
       "    <tr>\n",
       "      <th>0</th>\n",
       "      <td>The story begins 15 years after the demon king...</td>\n",
       "      <td>(Comedy, Fantasy, Slice of Life)</td>\n",
       "      <td>(Adventure, Comedy, Ecchi, Fantasy, Supernatural)</td>\n",
       "    </tr>\n",
       "    <tr>\n",
       "      <th>1</th>\n",
       "      <td>A cyborg warrior from an ancient Antarctic kin...</td>\n",
       "      <td>(Action, Mecha, Sci-Fi)</td>\n",
       "      <td>(Action, Adventure, Mecha, Military, Sci-Fi, S...</td>\n",
       "    </tr>\n",
       "    <tr>\n",
       "      <th>2</th>\n",
       "      <td>The story centers on Otarou, a creature themed...</td>\n",
       "      <td>(Comedy,)</td>\n",
       "      <td>()</td>\n",
       "    </tr>\n",
       "    <tr>\n",
       "      <th>3</th>\n",
       "      <td>An elite soldier, whose nickname is God of Dea...</td>\n",
       "      <td>(Action, Adventure, Comedy, Romance, Sci-Fi)</td>\n",
       "      <td>(Action, Military, Other)</td>\n",
       "    </tr>\n",
       "    <tr>\n",
       "      <th>4</th>\n",
       "      <td>Based on the real life-story of Pink Lady, a f...</td>\n",
       "      <td>(Drama, Music, Slice of Life)</td>\n",
       "      <td>(Comedy, Hentai, Shoujo)</td>\n",
       "    </tr>\n",
       "    <tr>\n",
       "      <th>...</th>\n",
       "      <td>...</td>\n",
       "      <td>...</td>\n",
       "      <td>...</td>\n",
       "    </tr>\n",
       "    <tr>\n",
       "      <th>1122</th>\n",
       "      <td>An unaired episode released with the sixth BD ...</td>\n",
       "      <td>(Sci-Fi, Seinen)</td>\n",
       "      <td>(Action, Comedy, Ecchi, Parody, Romance, School)</td>\n",
       "    </tr>\n",
       "    <tr>\n",
       "      <th>1123</th>\n",
       "      <td>Short extras of the anime included in each of ...</td>\n",
       "      <td>(Romance,)</td>\n",
       "      <td>(Comedy, Ecchi, School, Slice of Life)</td>\n",
       "    </tr>\n",
       "    <tr>\n",
       "      <th>1124</th>\n",
       "      <td>Short specials included in the Blu-ray release...</td>\n",
       "      <td>(Sci-Fi, Seinen)</td>\n",
       "      <td>(Comedy, Ecchi, Hentai, Parody, Slice of Life,...</td>\n",
       "    </tr>\n",
       "    <tr>\n",
       "      <th>1125</th>\n",
       "      <td>Three episodes aired on TV as part of the Ribo...</td>\n",
       "      <td>(Shoujo,)</td>\n",
       "      <td>(Comedy, Romance, School, Seinen, Shoujo, Slic...</td>\n",
       "    </tr>\n",
       "    <tr>\n",
       "      <th>1126</th>\n",
       "      <td>Having reached his emotional breaking point, R...</td>\n",
       "      <td>(Other, Sci-Fi)</td>\n",
       "      <td>(Drama, Other, Sci-Fi)</td>\n",
       "    </tr>\n",
       "  </tbody>\n",
       "</table>\n",
       "<p>1127 rows × 3 columns</p>\n",
       "</div>"
      ],
      "text/plain": [
       "                                               Synopsis  \\\n",
       "0     The story begins 15 years after the demon king...   \n",
       "1     A cyborg warrior from an ancient Antarctic kin...   \n",
       "2     The story centers on Otarou, a creature themed...   \n",
       "3     An elite soldier, whose nickname is God of Dea...   \n",
       "4     Based on the real life-story of Pink Lady, a f...   \n",
       "...                                                 ...   \n",
       "1122  An unaired episode released with the sixth BD ...   \n",
       "1123  Short extras of the anime included in each of ...   \n",
       "1124  Short specials included in the Blu-ray release...   \n",
       "1125  Three episodes aired on TV as part of the Ribo...   \n",
       "1126  Having reached his emotional breaking point, R...   \n",
       "\n",
       "                                     Actual Genres  \\\n",
       "0                 (Comedy, Fantasy, Slice of Life)   \n",
       "1                          (Action, Mecha, Sci-Fi)   \n",
       "2                                        (Comedy,)   \n",
       "3     (Action, Adventure, Comedy, Romance, Sci-Fi)   \n",
       "4                    (Drama, Music, Slice of Life)   \n",
       "...                                            ...   \n",
       "1122                              (Sci-Fi, Seinen)   \n",
       "1123                                    (Romance,)   \n",
       "1124                              (Sci-Fi, Seinen)   \n",
       "1125                                     (Shoujo,)   \n",
       "1126                               (Other, Sci-Fi)   \n",
       "\n",
       "                                       Predicted Genres  \n",
       "0     (Adventure, Comedy, Ecchi, Fantasy, Supernatural)  \n",
       "1     (Action, Adventure, Mecha, Military, Sci-Fi, S...  \n",
       "2                                                    ()  \n",
       "3                             (Action, Military, Other)  \n",
       "4                              (Comedy, Hentai, Shoujo)  \n",
       "...                                                 ...  \n",
       "1122   (Action, Comedy, Ecchi, Parody, Romance, School)  \n",
       "1123             (Comedy, Ecchi, School, Slice of Life)  \n",
       "1124  (Comedy, Ecchi, Hentai, Parody, Slice of Life,...  \n",
       "1125  (Comedy, Romance, School, Seinen, Shoujo, Slic...  \n",
       "1126                             (Drama, Other, Sci-Fi)  \n",
       "\n",
       "[1127 rows x 3 columns]"
      ]
     },
     "metadata": {},
     "output_type": "display_data"
    }
   ],
   "source": [
    "#Parameters that can be changed:\n",
    "#Number of wordds in vocublary\n",
    "#Class weighting\n",
    "\n",
    "# from sklearn.feature_extraction.text import CountVectorizer\n",
    "mlb=MultiLabelBinarizer()\n",
    "y_train = mlb.fit_transform(df_train['genres'])\n",
    "#display(y)\n",
    "vectorizer = TfidfVectorizer(stop_words=\"english\",max_features=10000,ngram_range=(1,4))\n",
    "X_train = vectorizer.fit_transform(df_train['clean_synopsis'])\n",
    "#display(X_train)\n",
    "#print(vectorizer.get_feature_names_out(),len(vectorizer.get_feature_names_out()))\n",
    "#print(X_train.toarray())\n",
    "\n",
    "y_val= mlb.transform(df_val['genres'])\n",
    "X_val = vectorizer.transform(df_val['clean_synopsis'])\n",
    "y_test= mlb.transform(df_test['genres'])\n",
    "X_test = vectorizer.transform(df_test['clean_synopsis'])\n",
    "\n",
    "classifier = OneVsRestClassifier(LogisticRegression(class_weight=\"balanced\",max_iter=1000)) #Already tried with balanced class but it is worse\n",
    "classifier.fit(X_train, y_train)                                    #At least when it is not balanced it can overfit the train class\n",
    "\n",
    "# from sklearn.metrics import classification_report\n",
    "#samples\tHow well did we predict each movie's genres?\t✅ Best for your task\n",
    "#micro\t    Overall genre prediction accuracy\t            ✅ Good for global view\n",
    "#macro\t    Equal focus on rare and frequent genres\t        ⚠️ Careful with imbalance\n",
    "#weighted\tGenre performance balanced by frequency\t        ✅ Fair but skew-sensitive\n",
    "#USE SAMPLES\n",
    "\n",
    "\n",
    "print(\"Report for Train dataset\")\n",
    "threshold=0.5\n",
    "y_pred_train=LR_OVA_prob(X_train,threshold,classifier)\n",
    "print_report(y_train,y_pred_train,\"samples avg\",\"f1-score\",mlb)\n",
    "jaccard = jaccard_score(y_train, y_pred_train, average='samples')\n",
    "print(\"Jaccard Similarity:\", jaccard)\n",
    "hr = hit_rate(y_train, y_pred_train)\n",
    "print(\"Hit Rate:\", hr)\n",
    "\n",
    "print(\"----------------------\")\n",
    "print(\"Report for Val dataset\")\n",
    "y_pred_val=LR_OVA_prob(X_val,threshold,classifier)\n",
    "print_report(y_val,y_pred_val,\"samples avg\",\"f1-score\",mlb)\n",
    "jaccard = jaccard_score(y_val, y_pred_val, average='samples')\n",
    "print(\"Jaccard Similarity:\", jaccard)\n",
    "hr = hit_rate(y_val, y_pred_val)\n",
    "print(\"Hit Rate:\", hr)\n",
    "\n",
    "print(\"----------------------\")\n",
    "print(\"Report for Test dataset\")\n",
    "y_pred_test=LR_OVA_prob(X_test,threshold,classifier)\n",
    "print_report(y_test,y_pred_test,\"samples avg\",\"f1-score\",mlb)\n",
    "jaccard = jaccard_score(y_test, y_pred_test, average='samples')\n",
    "print(\"Jaccard Similarity:\", jaccard)\n",
    "hr = hit_rate(y_val, y_pred_val)\n",
    "print(\"Hit Rate:\", hr)\n",
    "\n",
    "\n",
    "\n",
    "display(result_table(y_train,y_pred_train,df_train,mlb))\n",
    "display(result_table(y_val,y_pred_val,df_val,mlb))\n",
    "display(result_table(y_test,y_pred_test,df_test,mlb))"
   ]
  }
 ],
 "metadata": {
  "kernelspec": {
   "display_name": "NLP_CW",
   "language": "python",
   "name": "python3"
  },
  "language_info": {
   "codemirror_mode": {
    "name": "ipython",
    "version": 3
   },
   "file_extension": ".py",
   "mimetype": "text/x-python",
   "name": "python",
   "nbconvert_exporter": "python",
   "pygments_lexer": "ipython3",
   "version": "3.12.7"
  }
 },
 "nbformat": 4,
 "nbformat_minor": 5
}
