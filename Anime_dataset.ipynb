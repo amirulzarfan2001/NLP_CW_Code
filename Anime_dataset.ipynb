{
 "cells": [
  {
   "cell_type": "markdown",
   "metadata": {},
   "source": [
    "# Imports"
   ]
  },
  {
   "cell_type": "code",
   "execution_count": 31,
   "metadata": {},
   "outputs": [
    {
     "name": "stdout",
     "output_type": "stream",
     "text": [
      "Path to dataset files: C:\\Users\\User\\.cache\\kagglehub\\datasets\\svanoo\\myanimelist-dataset\\versions\\2\n"
     ]
    }
   ],
   "source": [
    "import kaggle\n",
    "import kagglehub\n",
    "import numpy as np\n",
    "import pandas as pd\n",
    "from IPython.display import display\n",
    "\n",
    "path = kagglehub.dataset_download(\"svanoo/myanimelist-dataset\")\n",
    "print(\"Path to dataset files:\", path)"
   ]
  },
  {
   "cell_type": "markdown",
   "metadata": {},
   "source": [
    "# Dataset analysis and cleaning"
   ]
  },
  {
   "cell_type": "code",
   "execution_count": 61,
   "metadata": {},
   "outputs": [
    {
     "name": "stdout",
     "output_type": "stream",
     "text": [
      "Original Dataset\n",
      "Shape of the Dataset: (13379, 5)\n"
     ]
    },
    {
     "data": {
      "application/vnd.microsoft.datawrangler.viewer.v0+json": {
       "columns": [
        {
         "name": "index",
         "rawType": "int64",
         "type": "integer"
        },
        {
         "name": "anime_id",
         "rawType": "int64",
         "type": "integer"
        },
        {
         "name": "title",
         "rawType": "object",
         "type": "string"
        },
        {
         "name": "synopsis",
         "rawType": "object",
         "type": "unknown"
        },
        {
         "name": "genres",
         "rawType": "object",
         "type": "string"
        },
        {
         "name": "score",
         "rawType": "float64",
         "type": "float"
        }
       ],
       "conversionMethod": "pd.DataFrame",
       "ref": "6a6d3002-f477-4636-aaf1-e762beafa7c6",
       "rows": [
        [
         "0",
         "2366",
         "Touma Kishinden Oni",
         "Shuramaru is hated and feared by the villagers for his unusual powers. He thinks he is human, but... is he?  (Source: AniDB)",
         "Supernatural",
         null
        ],
        [
         "1",
         "4940",
         "Sabaku no Kaizoku! Captain Kuppa",
         "Sometime in the future, the world was completely dried up and became all desert. They had little rivers and lakes left, which villians and dangerous animals lived. Water has become the most valueable thing on the world. Whoever can control water will rule over the world.  (Source: ANN)",
         "Action|Adventure",
         null
        ],
        [
         "2",
         "50285",
         "On Air Dekinai!",
         "Set in 2014, the anime follows the adventures of 23 years old Mafuneko, a newly minted assistant director who joins the TV production department at Tokyo Hajikko Television, only to discover that the glamorous and glitzy life of working behind-the-scenes making TV shows involves strange and inexplicable tasks such as \"gathering 300 acorns\" and \"making a mosaic out of the images reflected in the camera lens.\" Despite being surrounded by chaos, set-backs, and weirdos, Mafuneko struggles to become a fully-fledged TV producer.  (Source: Crunchyroll, edited)",
         "Comedy",
         null
        ],
        [
         "3",
         "3975",
         "Uchi no 3 Shimai",
         "The daily life of the Motsumoto family. The three sisters, Fuu, Suu, and Chii, follow what happens on a daily basis. Mother and Father have to deal with them sometimes, but they're used to it.",
         "Comedy|Slice of Life",
         null
        ],
        [
         "4",
         "36036",
         "Running Man",
         "The Soul Tree, the great source of our race.  But for its ultimate power and by those whose minds were blinded by it, it also became the catastrophic cause that had brought never-ending wars between the tribes. Tortured by the agonies of the wars, the leaders of the tribes finally came to a peace agreement that they would instead open a competition. Players, equipped with special watches and shields, compete against each other as winner’s tribe would be awarded with Materion, the sacred fruit of the Soul Tree.  These brave players, who throw themselves in this fierce fight, we call them the Runningman.  (Source: Official YouTube Channel)",
         "Action|Adventure|Kids",
         null
        ],
        [
         "5",
         "41426",
         "Watanuki-san Chi to",
         "Second season of .",
         "Slice of Life",
         null
        ],
        [
         "6",
         "49065",
         "Shuimu Xuetang 2nd Season",
         ".",
         "Comedy|Kids",
         null
        ],
        [
         "7",
         "48335",
         "Canimals",
         ".",
         "Comedy|Kids",
         null
        ],
        [
         "8",
         "30417",
         "Panpaka Pants O-New!",
         "Follows a pig whose family's mission is to collect underpants.",
         "Comedy|Kids",
         null
        ],
        [
         "9",
         "38138",
         "Zhu Zhu Xia: Jing Qiu Xiao Yingxiong",
         "In honor of the 2018 World Cup, this season of GG Bond focuses on sports team competition, team spirit, and personal growth as they compete in the Meteor League.  ",
         "Sci-Fi|Sports|Super Power|Kids",
         null
        ],
        [
         "10",
         "36506",
         "Fuwafuwa Hour: Pui Pui & Muu Muu",
         "Fairies living in a fluffy forest, where both flowers and trees are fluffy. Follow a witch's trouble-maker apprentices Pui Pui and Muu Muu.",
         "Fantasy|Kids",
         null
        ],
        [
         "11",
         "37787",
         "Space Bug",
         "This story is about Mick, a sleeping chironomid. Insects are taken up into space for use in experiments by humans. An epic space adventure of Mick and his friends of their journey back home to Earth. The development plans and experiments are aborted by humans for no known reason, the organisms are left behind in the space station with limited resources. Going over hurdles and fighting through challenges, together, they travel across planets and gain new comrades, heading for Earth. As their journey progresses, the mystery behind the human’s abandonment unravels…  (Source: Crunchyroll)",
         "Adventure|Space",
         null
        ],
        [
         "12",
         "47164",
         "Dungeon ni Deai wo Motomeru no wa Machigatteiru Darou ka IV",
         "Fourth season of .",
         "Action|Adventure|Comedy|Fantasy|Romance",
         null
        ],
        [
         "13",
         "18227",
         "Bakujuu Gasshin Ziguru Hazeru",
         "The anime is based on MegaHouse's line of Ziguru Hazeru (literally, \"Jiggle and Pop Out\") mecha toys that allow people to remove parts from the joints and add different parts in their place. In addition, if one combines together Hazeru Gokuu, Hazeru Sagojo, and Hazeru Hakkai, the resulting mecha will be Hazeru Seioh, allowing for users to combine their toys together.  The ZIGURUHAZERU animated series is based on the upcoming original toy line of the same name from MegaHouse, featuring cool robot toys modelled after characters from the famous Journey to the West tale.",
         "Action|Mecha",
         null
        ],
        [
         "14",
         "5374",
         "Miracle! Mimika",
         "Himeno Mimika is a daughter of historical cook family. She goes to a cooking school, Miracle Academy which train cooks all over the world. Vying with rivals, she brings out her gift, and she grows up as a cook.  (Source: AnimeNfo)",
         "Gourmet|Slice of Life|Kids",
         null
        ],
        [
         "15",
         "40273",
         "Fuwa no go renkan",
         "Fuwa Beibei encounters the severely injured goddess, Athena. In order to help Athena regain strength, Beibei sets out to find a mysterious wooden box left by Coubertin in 1894, but the worrying thing is that Pixiu who injured his stomach from his glutinous eating habits heard this news too. He thought that this mysterious energy could not only cure his stomach, but also improve his magic, and such begins the journey through time and space of two spirits with different aims. After all the hardships, they found the sixth son of the dragon - Bixi, and after the two's efforts in passing his test, Bixi carries them along 100 years of Olympic history.",
         "Historical",
         null
        ],
        [
         "16",
         "41384",
         "Norimono Man: Mobile Land no Car-kun",
         "The anime will depict various vehicles as characters in the \"Mobile Land\" island. The protagonist Car-kun arrives at the island as a delivery worker. Through his deliveries, he gets to know the residents of Mobile Land, all while following traffic rules and having his deliveries stopped by the meddling Sabibi.  (Source: ANN)",
         "Comedy|Slice of Life|Cars|Kids",
         null
        ],
        [
         "17",
         "48418",
         "Maou Gakuin no Futekigousha: Shijou Saikyou no Maou no Shiso, Tensei shite Shison-tachi no Gakkou e Kayou 2nd Season Part 2",
         "Second half of .",
         "Action|Fantasy|Demons|School",
         null
        ],
        [
         "18",
         "51119",
         "Grisaia: Phantom Trigger the Animation (TV)",
         ".",
         "Action|School",
         null
        ],
        [
         "19",
         "34928",
         "Akindo Sei no Little Peso",
         ".",
         "Comedy|Sci-Fi",
         null
        ],
        [
         "20",
         "48363",
         "RPG Fudousan",
         "The story begins 15 years after the demon king was defeated and the world has become peaceful. Kotone, who graduated from school and became a magician, inquired about the kingdom-affiliated RPG Real Estate in order to find a new home. In reality, RPG Real Estate was Kotone's place of employment, and together with Fa, a demi-human, the priest Rufuria, and the soldier Rakira, they help support the searches of new homes for the customers with various circumstances.  (Source: MU, edited)",
         "Comedy|Fantasy|Slice of Life",
         null
        ],
        [
         "21",
         "45596",
         "Kindan Joshi",
         ".",
         "Comedy|Romance",
         null
        ],
        [
         "22",
         "49221",
         "Kick & Slide",
         "The third generation of J SOUL BROTHERS from EXILE TRIBE is reimagined as 7 unique and diverse characters in \"KICK & SLIDE\". This is a slapstick story where the characters solve difficult cases!? and rare cases!? that occur in the colorful and pop vibrant city \"Nakame Town\" with dance and music.  (Source: Official website)",
         "Music|Kids",
         null
        ],
        [
         "23",
         "9781",
         "Hyouga Senshi Gaislugger",
         "A cyborg warrior from an ancient Antarctic kingdom awakes 30000 years later from an accidental hibernation to find the Earth changed and an old alien enemy on the verge of invasion. It's up to Guyslugger to use his ancient technology to defeat the aliens.  (Source: AniDB)",
         "Action|Sci-Fi|Mecha",
         null
        ],
        [
         "24",
         "48770",
         "Hyper Positive Yogoremon",
         "The story centers on Otarou, a creature themed around dirt known as a yogoremon. It and other yogoremon ask the meaning of words and explain negative terms in positive ways.  (Source: ANN)",
         "Comedy",
         null
        ],
        [
         "25",
         "38525",
         "Chuldong! Super Wings",
         "follows the adventures of an adorable jet plane named Jett who travels around the world delivering packages to children. On every delivery, Jett encounters new problems that he must solve with the help of his friends the \"Super Wings\": Dizzy, Jerome and Donnie. Together, the team explores different countries and learns the diversity of new cultures.  (Source: Official YouTube channel)",
         "Adventure|Cars|Kids",
         null
        ],
        [
         "26",
         "37653",
         "Caribadix 2nd Season",
         ".",
         "Comedy|Music",
         null
        ],
        [
         "27",
         "30605",
         "Uwabaki Cook no Tekitou Uranai!",
         "A collaboration shorts that aired as part of Yomiuri TV's morning program block.",
         "Comedy",
         null
        ],
        [
         "28",
         "42994",
         "Jashin-chan Dropkick X",
         "Third season of .",
         "Comedy|Supernatural",
         null
        ],
        [
         "29",
         "50220",
         "Isekai Shoukan wa Nidome desu",
         "There was once a man who was summoned to another world, and saved it. Of course, he became too popular there, and turned into an isekai-normie. However, that man fell into a \"trap\" and was forcibly returned to his original world. Moreover, he had to start over as a baby!  This is the story of the way-too-fantastic ex-hero who lived as a gloomy high-schooler, as he gets summoned once again to that same other world in a very unexpected development!  (Source: Coolmic, edited)",
         "Action|Adventure|Comedy|Fantasy|Romance|Harem",
         null
        ],
        [
         "30",
         "49920",
         "Sai Er Hao Season 11: Liekong Canghai",
         ".",
         "Kids",
         null
        ],
        [
         "31",
         "5278",
         "Totsugeki! Pappara-tai",
         "An elite soldier, whose nickname is God of Death, is transferred to another unit known as the PaPaRa Army. The PaPaRa Army is infamous for its elite but hilariously crazy members. There is no plot to speak of other than humour, hilarious brutality, and general nonsense. This is also Matsuzawa-sensei's debut work.",
         "Action|Adventure|Comedy|Romance|Sci-Fi",
         null
        ],
        [
         "32",
         "50631",
         "Komi-san wa, Comyushou desu. 2nd Season",
         "Second season of .",
         "Comedy|Drama|Slice of Life|School|Shounen",
         null
        ],
        [
         "33",
         "39007",
         "Kawauso Labo",
         ".",
         "Comedy",
         null
        ],
        [
         "34",
         "41101",
         "Poccolies",
         "The 2018 LINE sticker set Poccolies is inspiring a series of anime shorts. The story of the sticker set is that a positive and honest boy named Patsuhiko lives on Pokkori Island, along with the shrewd and mysterious Ham, and a reliable older brother figure named Kangaroo. The sticker set follows their daily lives.  (Source: ANN)",
         "Slice of Life|Kids",
         null
        ],
        [
         "35",
         "36002",
         "Otona no Ikkyuu-san 2nd Season",
         "The second season of .",
         "Comedy|Historical",
         null
        ],
        [
         "36",
         "17423",
         "Pink Lady Monogatari: Eikou no Tenshi-tachi",
         "Based on the real life-story of Pink Lady, a female pop duo that rose to superstardom in the mid-1970's.  (Source: ANN)",
         "Drama|Slice of Life|Music",
         null
        ],
        [
         "37",
         "35108",
         "Ninja Tamamaru: Toukaidou Gojuusan-ji",
         "The third season of .",
         "Martial Arts|Kids",
         null
        ],
        [
         "38",
         "27393",
         "Kyuumei Senshi Nanosaver",
         "The third show in the Virtual Trilogy, a mix of anime and live action shots.  In the beginning of the 22nd century society advanced rapidly. Now even children are able to become real doctors, a task before that took two and a half decades to achieve. And nanomachines became prevalent to fight disease. Keita is a Nanosaver, a child doctor who uses the virtual world to apply life saving techniques by entering the body and treating the patients in a virtual medical station (VMS). As more and more patients are taken in, various mysterious are uncovered about them.  In the second half of the anime, a small Ethanarian alien and galactic federation is introduced.",
         "Adventure|Shounen",
         null
        ],
        [
         "39",
         "2708",
         "Wankorobee",
         ".",
         "Comedy|Fantasy|Kids",
         null
        ],
        [
         "40",
         "41440",
         "Anoyo no Subete wa, Obake-gumi!",
         "The gag anime takes place at a school for youkai and other supernatural beings. A vampire named Rakuru transfers to the school from the West, and she tries to change the school as the class representative.",
         "Comedy|Supernatural",
         null
        ],
        [
         "41",
         "30151",
         "Kamiusagi Rope: Warau Asa ni wa Fukuraitaru tte Maji ssuka!?",
         "Fourth season of Kamiusagi Rope, events occur after the feature film. Airs on Mezamashi TV instead of the theaters.",
         "Comedy|Slice of Life",
         null
        ],
        [
         "42",
         "38136",
         "Zhu Zhu Xia: Zhong Ji Jue Zhan - Qian Ye Pian",
         "A prequel TV series setting up for the feature film.  G.G. Bond's father while exploring ruins gets sucked into a dimension of evil through the Dark Gate. He is bestowed power and knowledge and becomes corrupted as the King of Darkness. Ancient monsters are sent through the cracks of the gate to attack G.G. Bond and his team as the 5 elemental powers are stronger than the King of Darkness. By weakening the team, only then can the King of Darkness forcibly open the gate to unless a reign of terror on the Fairy Tale world.",
         "Sci-Fi|Super Power|Kids",
         null
        ],
        [
         "43",
         "8025",
         "Chi-Sui Maru",
         "The offensive and defensive battles between Nobuo, an office worker, and Chi-Sui Maru, a mosquito.",
         "Comedy",
         null
        ],
        [
         "44",
         "32585",
         "Telemonster",
         "Korean Animation about the monsters Eerie, Rock-G, Popo, and Yossi and the adventures they go on each day!",
         "Adventure",
         null
        ],
        [
         "45",
         "35364",
         "Kkoma Sinseon Tao",
         "This Korean and Chinese co-production series focuses on Tao, a young boy with magical powers, as he attends school to become a wizard. Each episode was composed of two stories.  (Source: Wiki)",
         "Kids",
         null
        ],
        [
         "46",
         "48413",
         "Hataraku Maou-sama! 2nd Season",
         "Second season of",
         "Comedy|Fantasy|Romance|Supernatural|Demons",
         null
        ],
        [
         "47",
         "38857",
         "Neko no Nyagh: Nya Misérables",
         "TV adaptation of Cocone Corporation's mobile puzzle game app.  Discover the adventures of the cat painter, Vincent van Meowogh who lives in a mansion in Paris surrounded by his quirky friends. Let's give him a spark of inspiration for his painting by completing puzzle stages, buy back the furniture and restore his home to its former glory!  (Source: ANN)",
         "Game|Kids",
         null
        ],
        [
         "48",
         "50380",
         "Paripi Koumei",
         "General of the Three Kingdoms, Kongming had struggled his whole life, facing countless battles that made him into the accomplished strategist he was. So on his deathbed, he wished only to be reborn into a peaceful world... and was sent straight to modern-day party-central, Tokyo! Can even a brilliant strategist like Kongming adapt to the wild beats and even wilder party people?!  (Source: Kodansha US, edited)",
         "Comedy",
         null
        ],
        [
         "49",
         "50346",
         "Yofukashi no Uta",
         "Kou Yamori seems like a typical middle school student on the surface. Relatively good at studies and amiable with his classmates, he puts a lot of effort into maintaining this facade. One day, however, he decides to stop pretending and quits school, developing insomnia as a result of having no daytime outlet for his energy. When taking walks alone at night, he feels marginally better, though he is aware that his inability to sleep should be considered a serious problem.  On one such walk, Kou meets a weird girl, Nazuna Nanakusa, who diagnoses the cause of his sleeplessness: despite making changes in his life, he is still holding himself back from experiencing true freedom. She says that he won't be able to sleep unless he is satisfied with how he spends his waking hours. When it appears that she has resolved his current worries, Nazuna invites him back to her apartment to share her futon. After a while, unaware that he is only feigning unconsciousness, she leans over him—and bites his neck!  ",
         "Romance|Supernatural|Vampire|Shounen",
         null
        ]
       ],
       "shape": {
        "columns": 5,
        "rows": 13379
       }
      },
      "text/html": [
       "<div>\n",
       "<style scoped>\n",
       "    .dataframe tbody tr th:only-of-type {\n",
       "        vertical-align: middle;\n",
       "    }\n",
       "\n",
       "    .dataframe tbody tr th {\n",
       "        vertical-align: top;\n",
       "    }\n",
       "\n",
       "    .dataframe thead th {\n",
       "        text-align: right;\n",
       "    }\n",
       "</style>\n",
       "<table border=\"1\" class=\"dataframe\">\n",
       "  <thead>\n",
       "    <tr style=\"text-align: right;\">\n",
       "      <th></th>\n",
       "      <th>anime_id</th>\n",
       "      <th>title</th>\n",
       "      <th>synopsis</th>\n",
       "      <th>genres</th>\n",
       "      <th>score</th>\n",
       "    </tr>\n",
       "  </thead>\n",
       "  <tbody>\n",
       "    <tr>\n",
       "      <th>0</th>\n",
       "      <td>2366</td>\n",
       "      <td>Touma Kishinden Oni</td>\n",
       "      <td>Shuramaru is hated and feared by the villagers...</td>\n",
       "      <td>Supernatural</td>\n",
       "      <td>NaN</td>\n",
       "    </tr>\n",
       "    <tr>\n",
       "      <th>1</th>\n",
       "      <td>4940</td>\n",
       "      <td>Sabaku no Kaizoku! Captain Kuppa</td>\n",
       "      <td>Sometime in the future, the world was complete...</td>\n",
       "      <td>Action|Adventure</td>\n",
       "      <td>NaN</td>\n",
       "    </tr>\n",
       "    <tr>\n",
       "      <th>2</th>\n",
       "      <td>50285</td>\n",
       "      <td>On Air Dekinai!</td>\n",
       "      <td>Set in 2014, the anime follows the adventures ...</td>\n",
       "      <td>Comedy</td>\n",
       "      <td>NaN</td>\n",
       "    </tr>\n",
       "    <tr>\n",
       "      <th>3</th>\n",
       "      <td>3975</td>\n",
       "      <td>Uchi no 3 Shimai</td>\n",
       "      <td>The daily life of the Motsumoto family. The th...</td>\n",
       "      <td>Comedy|Slice of Life</td>\n",
       "      <td>NaN</td>\n",
       "    </tr>\n",
       "    <tr>\n",
       "      <th>4</th>\n",
       "      <td>36036</td>\n",
       "      <td>Running Man</td>\n",
       "      <td>The Soul Tree, the great source of our race.  ...</td>\n",
       "      <td>Action|Adventure|Kids</td>\n",
       "      <td>NaN</td>\n",
       "    </tr>\n",
       "    <tr>\n",
       "      <th>...</th>\n",
       "      <td>...</td>\n",
       "      <td>...</td>\n",
       "      <td>...</td>\n",
       "      <td>...</td>\n",
       "      <td>...</td>\n",
       "    </tr>\n",
       "    <tr>\n",
       "      <th>13374</th>\n",
       "      <td>32188</td>\n",
       "      <td>Steins;Gate: Kyoukaimenjou no Missing Link - D...</td>\n",
       "      <td>Having reached his emotional breaking point, R...</td>\n",
       "      <td>Sci-Fi|Suspense</td>\n",
       "      <td>8.24</td>\n",
       "    </tr>\n",
       "    <tr>\n",
       "      <th>13375</th>\n",
       "      <td>31324</td>\n",
       "      <td>Grisaia no Meikyuu: Caprice no Mayu 0 - Takizo...</td>\n",
       "      <td>Special bundled with the Blu-ray/DVD volume of .</td>\n",
       "      <td>Ecchi</td>\n",
       "      <td>7.27</td>\n",
       "    </tr>\n",
       "    <tr>\n",
       "      <th>13376</th>\n",
       "      <td>31283</td>\n",
       "      <td>Bikini Warriors Special</td>\n",
       "      <td>According to the official Hobby Japan website,...</td>\n",
       "      <td>Comedy|Fantasy|Ecchi|Parody</td>\n",
       "      <td>5.36</td>\n",
       "    </tr>\n",
       "    <tr>\n",
       "      <th>13377</th>\n",
       "      <td>33142</td>\n",
       "      <td>Re:Zero kara Hajimeru Break Time</td>\n",
       "      <td>A series of comedic shorts featuring chibi ver...</td>\n",
       "      <td>Adventure|Comedy|Fantasy|Parody</td>\n",
       "      <td>6.66</td>\n",
       "    </tr>\n",
       "    <tr>\n",
       "      <th>13378</th>\n",
       "      <td>31234</td>\n",
       "      <td>Himouto! Umaru-chanS</td>\n",
       "      <td>These shorts, included in the Blu-ray and DVD ...</td>\n",
       "      <td>Comedy|Slice of Life|Seinen</td>\n",
       "      <td>7.02</td>\n",
       "    </tr>\n",
       "  </tbody>\n",
       "</table>\n",
       "<p>13379 rows × 5 columns</p>\n",
       "</div>"
      ],
      "text/plain": [
       "       anime_id                                              title  \\\n",
       "0          2366                                Touma Kishinden Oni   \n",
       "1          4940                   Sabaku no Kaizoku! Captain Kuppa   \n",
       "2         50285                                    On Air Dekinai!   \n",
       "3          3975                                   Uchi no 3 Shimai   \n",
       "4         36036                                        Running Man   \n",
       "...         ...                                                ...   \n",
       "13374     32188  Steins;Gate: Kyoukaimenjou no Missing Link - D...   \n",
       "13375     31324  Grisaia no Meikyuu: Caprice no Mayu 0 - Takizo...   \n",
       "13376     31283                            Bikini Warriors Special   \n",
       "13377     33142                   Re:Zero kara Hajimeru Break Time   \n",
       "13378     31234                               Himouto! Umaru-chanS   \n",
       "\n",
       "                                                synopsis  \\\n",
       "0      Shuramaru is hated and feared by the villagers...   \n",
       "1      Sometime in the future, the world was complete...   \n",
       "2      Set in 2014, the anime follows the adventures ...   \n",
       "3      The daily life of the Motsumoto family. The th...   \n",
       "4      The Soul Tree, the great source of our race.  ...   \n",
       "...                                                  ...   \n",
       "13374  Having reached his emotional breaking point, R...   \n",
       "13375   Special bundled with the Blu-ray/DVD volume of .   \n",
       "13376  According to the official Hobby Japan website,...   \n",
       "13377  A series of comedic shorts featuring chibi ver...   \n",
       "13378  These shorts, included in the Blu-ray and DVD ...   \n",
       "\n",
       "                                genres  score  \n",
       "0                         Supernatural    NaN  \n",
       "1                     Action|Adventure    NaN  \n",
       "2                               Comedy    NaN  \n",
       "3                 Comedy|Slice of Life    NaN  \n",
       "4                Action|Adventure|Kids    NaN  \n",
       "...                                ...    ...  \n",
       "13374                  Sci-Fi|Suspense   8.24  \n",
       "13375                            Ecchi   7.27  \n",
       "13376      Comedy|Fantasy|Ecchi|Parody   5.36  \n",
       "13377  Adventure|Comedy|Fantasy|Parody   6.66  \n",
       "13378      Comedy|Slice of Life|Seinen   7.02  \n",
       "\n",
       "[13379 rows x 5 columns]"
      ]
     },
     "metadata": {},
     "output_type": "display_data"
    }
   ],
   "source": [
    "#Collumns that we are interested in\n",
    "cols_to_use = ['anime_id', 'title', 'synopsis', 'genres' , 'score']\n",
    "#Read the file while only taking certain collumns\n",
    "full_df=pd.read_csv(r\"C:\\Users\\User\\.cache\\kagglehub\\datasets\\svanoo\\myanimelist-dataset\\versions\\2\\anime.csv\",\n",
    "               sep='\\t',\n",
    "               usecols=cols_to_use)\n",
    "print(\"Original Dataset\")\n",
    "print(\"Shape of the Dataset:\",full_df.shape)\n",
    "#Display fiest five columns of the dataset\n",
    "display(full_df)\n"
   ]
  },
  {
   "cell_type": "code",
   "execution_count": 62,
   "metadata": {},
   "outputs": [
    {
     "name": "stdout",
     "output_type": "stream",
     "text": [
      "Finding rows with missing synopsis\n"
     ]
    },
    {
     "data": {
      "application/vnd.microsoft.datawrangler.viewer.v0+json": {
       "columns": [
        {
         "name": "index",
         "rawType": "int64",
         "type": "integer"
        },
        {
         "name": "anime_id",
         "rawType": "int64",
         "type": "integer"
        },
        {
         "name": "title",
         "rawType": "object",
         "type": "string"
        },
        {
         "name": "synopsis",
         "rawType": "object",
         "type": "unknown"
        },
        {
         "name": "genres",
         "rawType": "object",
         "type": "string"
        },
        {
         "name": "score",
         "rawType": "float64",
         "type": "float"
        }
       ],
       "conversionMethod": "pd.DataFrame",
       "ref": "eae94637-1a45-4a18-8eff-732ca99af9f4",
       "rows": [
        [
         "6",
         "49065",
         "Shuimu Xuetang 2nd Season",
         ".",
         "Comedy|Kids",
         null
        ],
        [
         "7",
         "48335",
         "Canimals",
         ".",
         "Comedy|Kids",
         null
        ],
        [
         "18",
         "51119",
         "Grisaia: Phantom Trigger the Animation (TV)",
         ".",
         "Action|School",
         null
        ],
        [
         "19",
         "34928",
         "Akindo Sei no Little Peso",
         ".",
         "Comedy|Sci-Fi",
         null
        ],
        [
         "21",
         "45596",
         "Kindan Joshi",
         ".",
         "Comedy|Romance",
         null
        ],
        [
         "26",
         "37653",
         "Caribadix 2nd Season",
         ".",
         "Comedy|Music",
         null
        ],
        [
         "30",
         "49920",
         "Sai Er Hao Season 11: Liekong Canghai",
         ".",
         "Kids",
         null
        ],
        [
         "33",
         "39007",
         "Kawauso Labo",
         ".",
         "Comedy",
         null
        ],
        [
         "39",
         "2708",
         "Wankorobee",
         ".",
         "Comedy|Fantasy|Kids",
         null
        ],
        [
         "50",
         "37117",
         "Bakutsuri Bar Hunter",
         ".",
         "Adventure|Kids",
         null
        ],
        [
         "66",
         "42979",
         "Zhandou Wang Zhi Jufeng Zhan Hun 5: Heti Fanwai Pian",
         ".",
         "Action|Kids",
         null
        ],
        [
         "68",
         "39039",
         "Duel Masters!!",
         ".",
         "Action|Adventure|Comedy|Fantasy|Kids",
         null
        ],
        [
         "70",
         "47998",
         "Budai Xiao Heshang",
         ".",
         "Kids",
         null
        ],
        [
         "71",
         "48262",
         "Sigan Yeohaengja Luke",
         ".",
         "Action|Adventure|Sci-Fi|Kids",
         null
        ],
        [
         "73",
         "49828",
         "Mobile Suit Gundam: The Witch from Mercury",
         ".",
         "Mecha",
         null
        ],
        [
         "82",
         "48789",
         "ColoColo Animal Otogibanashi",
         ".",
         "Comedy|Kids",
         null
        ],
        [
         "85",
         "33479",
         "Muzumuzu Eighteen",
         ".",
         "Slice of Life",
         null
        ],
        [
         "87",
         "48288",
         "Apple Candy Girl",
         ".",
         "Kids",
         null
        ],
        [
         "94",
         "44146",
         "Sai Er Hao Season 4: Zhanshen Fengyun Jue",
         ".",
         "Kids",
         null
        ],
        [
         "110",
         "49831",
         "Black★★Rock Shooter:Dawn Fall",
         ".",
         "Action|Drama|Super Power",
         null
        ],
        [
         "113",
         "31237",
         "Ganbare-bu Next!",
         ".",
         "Comedy|Sports",
         null
        ],
        [
         "117",
         "37927",
         "Nu Sheng Su She Ri Chang",
         ".",
         "Comedy|Slice of Life",
         null
        ],
        [
         "120",
         "37559",
         "Oretacha Youkai Ningen G",
         ".",
         "Horror|Demons|Parody",
         null
        ],
        [
         "129",
         "40589",
         "ColoColo Animal ABC@Kin Tele",
         ".",
         "Comedy|Kids",
         null
        ],
        [
         "130",
         "35957",
         "Yura Yura Suizokukan",
         ".",
         "Comedy|Slice of Life",
         null
        ],
        [
         "131",
         "36231",
         "Hinomaru!",
         ".",
         "Adventure|Comedy|Fantasy",
         null
        ],
        [
         "136",
         "41467",
         "Bleach: Sennen Kessen-hen",
         ".",
         "Action|Adventure|Comedy|Supernatural|Super Power|Shounen",
         null
        ],
        [
         "152",
         "45704",
         "Er Dan Toutai Ji",
         ".",
         "Slice of Life",
         null
        ],
        [
         "156",
         "45729",
         "Xiangpi Ni Xiao Zhen",
         ".",
         "Kids",
         null
        ],
        [
         "163",
         "42385",
         "The iDOLM@STER Million Live!",
         ".",
         "Music",
         null
        ],
        [
         "173",
         "48263",
         "Synostone",
         ".",
         "Action|Adventure|Fantasy|Sci-Fi|Kids",
         null
        ],
        [
         "180",
         "43729",
         "Semi wa Magic Cube 2nd Season",
         ".",
         "Action|Fantasy",
         null
        ],
        [
         "196",
         "44151",
         "Sai Er Hao Season 8: Huanmeng Zhan Ji",
         ".",
         "Kids",
         null
        ],
        [
         "204",
         "48318",
         "Iljimae",
         ".",
         "Action|Drama|Romance|Historical",
         null
        ],
        [
         "211",
         "41404",
         "Neko Neko Nihonshi 5th Season",
         ".",
         "Historical|Parody|Samurai|Kids",
         null
        ],
        [
         "219",
         "48517",
         "Dosukoi Sushi Zumou",
         ".",
         "Comedy|Gourmet|Sports|Martial Arts|Kids",
         null
        ],
        [
         "220",
         "38560",
         "Sylvanian Families: Mini Story 2nd Season",
         ".",
         "Slice of Life|Kids",
         null
        ],
        [
         "233",
         "44702",
         "Kintamani Dog",
         ".",
         "Slice of Life",
         null
        ],
        [
         "235",
         "48340",
         "Crystal-yojeong Z-Squad",
         ".",
         "Adventure|Fantasy|Kids",
         null
        ],
        [
         "238",
         "48076",
         "Hua Huli Yu Daodan Ya",
         ".",
         "Kids",
         null
        ],
        [
         "249",
         "47960",
         "Tiantian Jiayuan",
         ".",
         "Kids",
         null
        ],
        [
         "252",
         "48332",
         "Chuldong! Animal Rescue",
         ".",
         "Fantasy|Sci-Fi|Kids",
         null
        ],
        [
         "257",
         "44147",
         "Sai Er Hao Season 5: Lie Tian Kun Shou",
         ".",
         "Kids",
         null
        ],
        [
         "263",
         "46381",
         "Shinkansen Henkei Robo Shinkalion Z the Animation",
         ".",
         "Action|Sci-Fi|Mecha|Kids",
         null
        ],
        [
         "287",
         "48307",
         "Eungkka Sonata",
         ".",
         "Comedy|Fantasy|Kids",
         null
        ],
        [
         "289",
         "48790",
         "Neko Jockey",
         ".",
         "Comedy|Kids",
         null
        ],
        [
         "291",
         "50871",
         "Alice Gear Aegis",
         ".",
         "Action|Sci-Fi",
         null
        ],
        [
         "296",
         "34794",
         "Yukai na Animal Bus",
         null,
         "Comedy|Kids",
         null
        ],
        [
         "300",
         "51305",
         "FLCL: Shoegaze",
         ".",
         "Action|Avant Garde|Comedy|Sci-Fi|Mecha|Parody",
         null
        ],
        [
         "309",
         "48304",
         "Yuhuwa Chingudeul 2",
         ".",
         "Kids",
         null
        ]
       ],
       "shape": {
        "columns": 5,
        "rows": 864
       }
      },
      "text/html": [
       "<div>\n",
       "<style scoped>\n",
       "    .dataframe tbody tr th:only-of-type {\n",
       "        vertical-align: middle;\n",
       "    }\n",
       "\n",
       "    .dataframe tbody tr th {\n",
       "        vertical-align: top;\n",
       "    }\n",
       "\n",
       "    .dataframe thead th {\n",
       "        text-align: right;\n",
       "    }\n",
       "</style>\n",
       "<table border=\"1\" class=\"dataframe\">\n",
       "  <thead>\n",
       "    <tr style=\"text-align: right;\">\n",
       "      <th></th>\n",
       "      <th>anime_id</th>\n",
       "      <th>title</th>\n",
       "      <th>synopsis</th>\n",
       "      <th>genres</th>\n",
       "      <th>score</th>\n",
       "    </tr>\n",
       "  </thead>\n",
       "  <tbody>\n",
       "    <tr>\n",
       "      <th>6</th>\n",
       "      <td>49065</td>\n",
       "      <td>Shuimu Xuetang 2nd Season</td>\n",
       "      <td>.</td>\n",
       "      <td>Comedy|Kids</td>\n",
       "      <td>NaN</td>\n",
       "    </tr>\n",
       "    <tr>\n",
       "      <th>7</th>\n",
       "      <td>48335</td>\n",
       "      <td>Canimals</td>\n",
       "      <td>.</td>\n",
       "      <td>Comedy|Kids</td>\n",
       "      <td>NaN</td>\n",
       "    </tr>\n",
       "    <tr>\n",
       "      <th>18</th>\n",
       "      <td>51119</td>\n",
       "      <td>Grisaia: Phantom Trigger the Animation (TV)</td>\n",
       "      <td>.</td>\n",
       "      <td>Action|School</td>\n",
       "      <td>NaN</td>\n",
       "    </tr>\n",
       "    <tr>\n",
       "      <th>19</th>\n",
       "      <td>34928</td>\n",
       "      <td>Akindo Sei no Little Peso</td>\n",
       "      <td>.</td>\n",
       "      <td>Comedy|Sci-Fi</td>\n",
       "      <td>NaN</td>\n",
       "    </tr>\n",
       "    <tr>\n",
       "      <th>21</th>\n",
       "      <td>45596</td>\n",
       "      <td>Kindan Joshi</td>\n",
       "      <td>.</td>\n",
       "      <td>Comedy|Romance</td>\n",
       "      <td>NaN</td>\n",
       "    </tr>\n",
       "    <tr>\n",
       "      <th>...</th>\n",
       "      <td>...</td>\n",
       "      <td>...</td>\n",
       "      <td>...</td>\n",
       "      <td>...</td>\n",
       "      <td>...</td>\n",
       "    </tr>\n",
       "    <tr>\n",
       "      <th>12681</th>\n",
       "      <td>9563</td>\n",
       "      <td>Hidamari Sketch x ☆☆☆ Specials</td>\n",
       "      <td>.</td>\n",
       "      <td>Comedy|Slice of Life|School|Seinen</td>\n",
       "      <td>7.82</td>\n",
       "    </tr>\n",
       "    <tr>\n",
       "      <th>12694</th>\n",
       "      <td>38154</td>\n",
       "      <td>3-gatsu no Lion: Ugoku! Nya Shogi</td>\n",
       "      <td>.</td>\n",
       "      <td>Game</td>\n",
       "      <td>6.06</td>\n",
       "    </tr>\n",
       "    <tr>\n",
       "      <th>12802</th>\n",
       "      <td>30533</td>\n",
       "      <td>Gundam Build Fighters Try: Island Wars</td>\n",
       "      <td>.</td>\n",
       "      <td>Action|Sci-Fi|Mecha</td>\n",
       "      <td>6.77</td>\n",
       "    </tr>\n",
       "    <tr>\n",
       "      <th>12889</th>\n",
       "      <td>38810</td>\n",
       "      <td>Bleach: Gotei 13 Omake</td>\n",
       "      <td>.</td>\n",
       "      <td>Action|Adventure</td>\n",
       "      <td>6.56</td>\n",
       "    </tr>\n",
       "    <tr>\n",
       "      <th>13348</th>\n",
       "      <td>36439</td>\n",
       "      <td>Sword Art Online Movie: Ordinal Scale - Sword ...</td>\n",
       "      <td>.</td>\n",
       "      <td>Comedy</td>\n",
       "      <td>6.87</td>\n",
       "    </tr>\n",
       "  </tbody>\n",
       "</table>\n",
       "<p>864 rows × 5 columns</p>\n",
       "</div>"
      ],
      "text/plain": [
       "       anime_id                                              title synopsis  \\\n",
       "6         49065                          Shuimu Xuetang 2nd Season        .   \n",
       "7         48335                                           Canimals        .   \n",
       "18        51119        Grisaia: Phantom Trigger the Animation (TV)        .   \n",
       "19        34928                          Akindo Sei no Little Peso        .   \n",
       "21        45596                                       Kindan Joshi        .   \n",
       "...         ...                                                ...      ...   \n",
       "12681      9563                     Hidamari Sketch x ☆☆☆ Specials        .   \n",
       "12694     38154                  3-gatsu no Lion: Ugoku! Nya Shogi        .   \n",
       "12802     30533             Gundam Build Fighters Try: Island Wars        .   \n",
       "12889     38810                             Bleach: Gotei 13 Omake        .   \n",
       "13348     36439  Sword Art Online Movie: Ordinal Scale - Sword ...        .   \n",
       "\n",
       "                                   genres  score  \n",
       "6                             Comedy|Kids    NaN  \n",
       "7                             Comedy|Kids    NaN  \n",
       "18                          Action|School    NaN  \n",
       "19                          Comedy|Sci-Fi    NaN  \n",
       "21                         Comedy|Romance    NaN  \n",
       "...                                   ...    ...  \n",
       "12681  Comedy|Slice of Life|School|Seinen   7.82  \n",
       "12694                                Game   6.06  \n",
       "12802                 Action|Sci-Fi|Mecha   6.77  \n",
       "12889                    Action|Adventure   6.56  \n",
       "13348                              Comedy   6.87  \n",
       "\n",
       "[864 rows x 5 columns]"
      ]
     },
     "metadata": {},
     "output_type": "display_data"
    },
    {
     "name": "stdout",
     "output_type": "stream",
     "text": [
      "Number of missing synopsis: 864\n",
      "Cleaned df\n"
     ]
    },
    {
     "data": {
      "application/vnd.microsoft.datawrangler.viewer.v0+json": {
       "columns": [
        {
         "name": "index",
         "rawType": "int64",
         "type": "integer"
        },
        {
         "name": "anime_id",
         "rawType": "int64",
         "type": "integer"
        },
        {
         "name": "title",
         "rawType": "object",
         "type": "string"
        },
        {
         "name": "synopsis",
         "rawType": "object",
         "type": "string"
        },
        {
         "name": "genres",
         "rawType": "object",
         "type": "string"
        },
        {
         "name": "score",
         "rawType": "float64",
         "type": "float"
        }
       ],
       "conversionMethod": "pd.DataFrame",
       "ref": "d87b669c-26e1-432d-860b-67ed5743fdad",
       "rows": [
        [
         "0",
         "2366",
         "Touma Kishinden Oni",
         "Shuramaru is hated and feared by the villagers for his unusual powers. He thinks he is human, but... is he?  (Source: AniDB)",
         "Supernatural",
         null
        ],
        [
         "1",
         "4940",
         "Sabaku no Kaizoku! Captain Kuppa",
         "Sometime in the future, the world was completely dried up and became all desert. They had little rivers and lakes left, which villians and dangerous animals lived. Water has become the most valueable thing on the world. Whoever can control water will rule over the world.  (Source: ANN)",
         "Action|Adventure",
         null
        ],
        [
         "2",
         "50285",
         "On Air Dekinai!",
         "Set in 2014, the anime follows the adventures of 23 years old Mafuneko, a newly minted assistant director who joins the TV production department at Tokyo Hajikko Television, only to discover that the glamorous and glitzy life of working behind-the-scenes making TV shows involves strange and inexplicable tasks such as \"gathering 300 acorns\" and \"making a mosaic out of the images reflected in the camera lens.\" Despite being surrounded by chaos, set-backs, and weirdos, Mafuneko struggles to become a fully-fledged TV producer.  (Source: Crunchyroll, edited)",
         "Comedy",
         null
        ],
        [
         "3",
         "3975",
         "Uchi no 3 Shimai",
         "The daily life of the Motsumoto family. The three sisters, Fuu, Suu, and Chii, follow what happens on a daily basis. Mother and Father have to deal with them sometimes, but they're used to it.",
         "Comedy|Slice of Life",
         null
        ],
        [
         "4",
         "36036",
         "Running Man",
         "The Soul Tree, the great source of our race.  But for its ultimate power and by those whose minds were blinded by it, it also became the catastrophic cause that had brought never-ending wars between the tribes. Tortured by the agonies of the wars, the leaders of the tribes finally came to a peace agreement that they would instead open a competition. Players, equipped with special watches and shields, compete against each other as winner’s tribe would be awarded with Materion, the sacred fruit of the Soul Tree.  These brave players, who throw themselves in this fierce fight, we call them the Runningman.  (Source: Official YouTube Channel)",
         "Action|Adventure|Kids",
         null
        ],
        [
         "5",
         "41426",
         "Watanuki-san Chi to",
         "Second season of .",
         "Slice of Life",
         null
        ],
        [
         "8",
         "30417",
         "Panpaka Pants O-New!",
         "Follows a pig whose family's mission is to collect underpants.",
         "Comedy|Kids",
         null
        ],
        [
         "9",
         "38138",
         "Zhu Zhu Xia: Jing Qiu Xiao Yingxiong",
         "In honor of the 2018 World Cup, this season of GG Bond focuses on sports team competition, team spirit, and personal growth as they compete in the Meteor League.  ",
         "Sci-Fi|Sports|Super Power|Kids",
         null
        ],
        [
         "10",
         "36506",
         "Fuwafuwa Hour: Pui Pui & Muu Muu",
         "Fairies living in a fluffy forest, where both flowers and trees are fluffy. Follow a witch's trouble-maker apprentices Pui Pui and Muu Muu.",
         "Fantasy|Kids",
         null
        ],
        [
         "11",
         "37787",
         "Space Bug",
         "This story is about Mick, a sleeping chironomid. Insects are taken up into space for use in experiments by humans. An epic space adventure of Mick and his friends of their journey back home to Earth. The development plans and experiments are aborted by humans for no known reason, the organisms are left behind in the space station with limited resources. Going over hurdles and fighting through challenges, together, they travel across planets and gain new comrades, heading for Earth. As their journey progresses, the mystery behind the human’s abandonment unravels…  (Source: Crunchyroll)",
         "Adventure|Space",
         null
        ],
        [
         "12",
         "47164",
         "Dungeon ni Deai wo Motomeru no wa Machigatteiru Darou ka IV",
         "Fourth season of .",
         "Action|Adventure|Comedy|Fantasy|Romance",
         null
        ],
        [
         "13",
         "18227",
         "Bakujuu Gasshin Ziguru Hazeru",
         "The anime is based on MegaHouse's line of Ziguru Hazeru (literally, \"Jiggle and Pop Out\") mecha toys that allow people to remove parts from the joints and add different parts in their place. In addition, if one combines together Hazeru Gokuu, Hazeru Sagojo, and Hazeru Hakkai, the resulting mecha will be Hazeru Seioh, allowing for users to combine their toys together.  The ZIGURUHAZERU animated series is based on the upcoming original toy line of the same name from MegaHouse, featuring cool robot toys modelled after characters from the famous Journey to the West tale.",
         "Action|Mecha",
         null
        ],
        [
         "14",
         "5374",
         "Miracle! Mimika",
         "Himeno Mimika is a daughter of historical cook family. She goes to a cooking school, Miracle Academy which train cooks all over the world. Vying with rivals, she brings out her gift, and she grows up as a cook.  (Source: AnimeNfo)",
         "Gourmet|Slice of Life|Kids",
         null
        ],
        [
         "15",
         "40273",
         "Fuwa no go renkan",
         "Fuwa Beibei encounters the severely injured goddess, Athena. In order to help Athena regain strength, Beibei sets out to find a mysterious wooden box left by Coubertin in 1894, but the worrying thing is that Pixiu who injured his stomach from his glutinous eating habits heard this news too. He thought that this mysterious energy could not only cure his stomach, but also improve his magic, and such begins the journey through time and space of two spirits with different aims. After all the hardships, they found the sixth son of the dragon - Bixi, and after the two's efforts in passing his test, Bixi carries them along 100 years of Olympic history.",
         "Historical",
         null
        ],
        [
         "16",
         "41384",
         "Norimono Man: Mobile Land no Car-kun",
         "The anime will depict various vehicles as characters in the \"Mobile Land\" island. The protagonist Car-kun arrives at the island as a delivery worker. Through his deliveries, he gets to know the residents of Mobile Land, all while following traffic rules and having his deliveries stopped by the meddling Sabibi.  (Source: ANN)",
         "Comedy|Slice of Life|Cars|Kids",
         null
        ],
        [
         "17",
         "48418",
         "Maou Gakuin no Futekigousha: Shijou Saikyou no Maou no Shiso, Tensei shite Shison-tachi no Gakkou e Kayou 2nd Season Part 2",
         "Second half of .",
         "Action|Fantasy|Demons|School",
         null
        ],
        [
         "20",
         "48363",
         "RPG Fudousan",
         "The story begins 15 years after the demon king was defeated and the world has become peaceful. Kotone, who graduated from school and became a magician, inquired about the kingdom-affiliated RPG Real Estate in order to find a new home. In reality, RPG Real Estate was Kotone's place of employment, and together with Fa, a demi-human, the priest Rufuria, and the soldier Rakira, they help support the searches of new homes for the customers with various circumstances.  (Source: MU, edited)",
         "Comedy|Fantasy|Slice of Life",
         null
        ],
        [
         "22",
         "49221",
         "Kick & Slide",
         "The third generation of J SOUL BROTHERS from EXILE TRIBE is reimagined as 7 unique and diverse characters in \"KICK & SLIDE\". This is a slapstick story where the characters solve difficult cases!? and rare cases!? that occur in the colorful and pop vibrant city \"Nakame Town\" with dance and music.  (Source: Official website)",
         "Music|Kids",
         null
        ],
        [
         "23",
         "9781",
         "Hyouga Senshi Gaislugger",
         "A cyborg warrior from an ancient Antarctic kingdom awakes 30000 years later from an accidental hibernation to find the Earth changed and an old alien enemy on the verge of invasion. It's up to Guyslugger to use his ancient technology to defeat the aliens.  (Source: AniDB)",
         "Action|Sci-Fi|Mecha",
         null
        ],
        [
         "24",
         "48770",
         "Hyper Positive Yogoremon",
         "The story centers on Otarou, a creature themed around dirt known as a yogoremon. It and other yogoremon ask the meaning of words and explain negative terms in positive ways.  (Source: ANN)",
         "Comedy",
         null
        ],
        [
         "25",
         "38525",
         "Chuldong! Super Wings",
         "follows the adventures of an adorable jet plane named Jett who travels around the world delivering packages to children. On every delivery, Jett encounters new problems that he must solve with the help of his friends the \"Super Wings\": Dizzy, Jerome and Donnie. Together, the team explores different countries and learns the diversity of new cultures.  (Source: Official YouTube channel)",
         "Adventure|Cars|Kids",
         null
        ],
        [
         "27",
         "30605",
         "Uwabaki Cook no Tekitou Uranai!",
         "A collaboration shorts that aired as part of Yomiuri TV's morning program block.",
         "Comedy",
         null
        ],
        [
         "28",
         "42994",
         "Jashin-chan Dropkick X",
         "Third season of .",
         "Comedy|Supernatural",
         null
        ],
        [
         "29",
         "50220",
         "Isekai Shoukan wa Nidome desu",
         "There was once a man who was summoned to another world, and saved it. Of course, he became too popular there, and turned into an isekai-normie. However, that man fell into a \"trap\" and was forcibly returned to his original world. Moreover, he had to start over as a baby!  This is the story of the way-too-fantastic ex-hero who lived as a gloomy high-schooler, as he gets summoned once again to that same other world in a very unexpected development!  (Source: Coolmic, edited)",
         "Action|Adventure|Comedy|Fantasy|Romance|Harem",
         null
        ],
        [
         "31",
         "5278",
         "Totsugeki! Pappara-tai",
         "An elite soldier, whose nickname is God of Death, is transferred to another unit known as the PaPaRa Army. The PaPaRa Army is infamous for its elite but hilariously crazy members. There is no plot to speak of other than humour, hilarious brutality, and general nonsense. This is also Matsuzawa-sensei's debut work.",
         "Action|Adventure|Comedy|Romance|Sci-Fi",
         null
        ],
        [
         "32",
         "50631",
         "Komi-san wa, Comyushou desu. 2nd Season",
         "Second season of .",
         "Comedy|Drama|Slice of Life|School|Shounen",
         null
        ],
        [
         "34",
         "41101",
         "Poccolies",
         "The 2018 LINE sticker set Poccolies is inspiring a series of anime shorts. The story of the sticker set is that a positive and honest boy named Patsuhiko lives on Pokkori Island, along with the shrewd and mysterious Ham, and a reliable older brother figure named Kangaroo. The sticker set follows their daily lives.  (Source: ANN)",
         "Slice of Life|Kids",
         null
        ],
        [
         "35",
         "36002",
         "Otona no Ikkyuu-san 2nd Season",
         "The second season of .",
         "Comedy|Historical",
         null
        ],
        [
         "36",
         "17423",
         "Pink Lady Monogatari: Eikou no Tenshi-tachi",
         "Based on the real life-story of Pink Lady, a female pop duo that rose to superstardom in the mid-1970's.  (Source: ANN)",
         "Drama|Slice of Life|Music",
         null
        ],
        [
         "37",
         "35108",
         "Ninja Tamamaru: Toukaidou Gojuusan-ji",
         "The third season of .",
         "Martial Arts|Kids",
         null
        ],
        [
         "38",
         "27393",
         "Kyuumei Senshi Nanosaver",
         "The third show in the Virtual Trilogy, a mix of anime and live action shots.  In the beginning of the 22nd century society advanced rapidly. Now even children are able to become real doctors, a task before that took two and a half decades to achieve. And nanomachines became prevalent to fight disease. Keita is a Nanosaver, a child doctor who uses the virtual world to apply life saving techniques by entering the body and treating the patients in a virtual medical station (VMS). As more and more patients are taken in, various mysterious are uncovered about them.  In the second half of the anime, a small Ethanarian alien and galactic federation is introduced.",
         "Adventure|Shounen",
         null
        ],
        [
         "40",
         "41440",
         "Anoyo no Subete wa, Obake-gumi!",
         "The gag anime takes place at a school for youkai and other supernatural beings. A vampire named Rakuru transfers to the school from the West, and she tries to change the school as the class representative.",
         "Comedy|Supernatural",
         null
        ],
        [
         "41",
         "30151",
         "Kamiusagi Rope: Warau Asa ni wa Fukuraitaru tte Maji ssuka!?",
         "Fourth season of Kamiusagi Rope, events occur after the feature film. Airs on Mezamashi TV instead of the theaters.",
         "Comedy|Slice of Life",
         null
        ],
        [
         "42",
         "38136",
         "Zhu Zhu Xia: Zhong Ji Jue Zhan - Qian Ye Pian",
         "A prequel TV series setting up for the feature film.  G.G. Bond's father while exploring ruins gets sucked into a dimension of evil through the Dark Gate. He is bestowed power and knowledge and becomes corrupted as the King of Darkness. Ancient monsters are sent through the cracks of the gate to attack G.G. Bond and his team as the 5 elemental powers are stronger than the King of Darkness. By weakening the team, only then can the King of Darkness forcibly open the gate to unless a reign of terror on the Fairy Tale world.",
         "Sci-Fi|Super Power|Kids",
         null
        ],
        [
         "43",
         "8025",
         "Chi-Sui Maru",
         "The offensive and defensive battles between Nobuo, an office worker, and Chi-Sui Maru, a mosquito.",
         "Comedy",
         null
        ],
        [
         "44",
         "32585",
         "Telemonster",
         "Korean Animation about the monsters Eerie, Rock-G, Popo, and Yossi and the adventures they go on each day!",
         "Adventure",
         null
        ],
        [
         "45",
         "35364",
         "Kkoma Sinseon Tao",
         "This Korean and Chinese co-production series focuses on Tao, a young boy with magical powers, as he attends school to become a wizard. Each episode was composed of two stories.  (Source: Wiki)",
         "Kids",
         null
        ],
        [
         "46",
         "48413",
         "Hataraku Maou-sama! 2nd Season",
         "Second season of",
         "Comedy|Fantasy|Romance|Supernatural|Demons",
         null
        ],
        [
         "47",
         "38857",
         "Neko no Nyagh: Nya Misérables",
         "TV adaptation of Cocone Corporation's mobile puzzle game app.  Discover the adventures of the cat painter, Vincent van Meowogh who lives in a mansion in Paris surrounded by his quirky friends. Let's give him a spark of inspiration for his painting by completing puzzle stages, buy back the furniture and restore his home to its former glory!  (Source: ANN)",
         "Game|Kids",
         null
        ],
        [
         "48",
         "50380",
         "Paripi Koumei",
         "General of the Three Kingdoms, Kongming had struggled his whole life, facing countless battles that made him into the accomplished strategist he was. So on his deathbed, he wished only to be reborn into a peaceful world... and was sent straight to modern-day party-central, Tokyo! Can even a brilliant strategist like Kongming adapt to the wild beats and even wilder party people?!  (Source: Kodansha US, edited)",
         "Comedy",
         null
        ],
        [
         "49",
         "50346",
         "Yofukashi no Uta",
         "Kou Yamori seems like a typical middle school student on the surface. Relatively good at studies and amiable with his classmates, he puts a lot of effort into maintaining this facade. One day, however, he decides to stop pretending and quits school, developing insomnia as a result of having no daytime outlet for his energy. When taking walks alone at night, he feels marginally better, though he is aware that his inability to sleep should be considered a serious problem.  On one such walk, Kou meets a weird girl, Nazuna Nanakusa, who diagnoses the cause of his sleeplessness: despite making changes in his life, he is still holding himself back from experiencing true freedom. She says that he won't be able to sleep unless he is satisfied with how he spends his waking hours. When it appears that she has resolved his current worries, Nazuna invites him back to her apartment to share her futon. After a while, unaware that he is only feigning unconsciousness, she leans over him—and bites his neck!  ",
         "Romance|Supernatural|Vampire|Shounen",
         null
        ],
        [
         "51",
         "49556",
         "Love All Play",
         "Ryou Mizushima enrolls in junior high and joins the badminton club with great vigor. Although the club didn't have a proper coach, Mizushima improved his skills with his own physical strength by the time he participated in the prefectural tournament. Afterwards, he is approached by the Yokohama Minato High School's badminton coach, Ebihara.  Indecisive and timid, Mizushima hesitates to attend such a prestigious school. However, with his elder sister Rika giving him a strong push, he decides to go to Yokohama Minato. Now blessed with a coach and idiosyncratic teammates, Mizushima will gain experience he's lacked till now, and aims to win the inter-high tournament.  (Source: MAL News)",
         "Sports",
         null
        ],
        [
         "52",
         "49184",
         "Gunma-chan",
         "An anime series based on the Gunma Prefecture mascot character, Gunma-chan.  (Source: Anilist)",
         "Slice of Life",
         null
        ],
        [
         "53",
         "34309",
         "Nananin no Ayakashi: Chimi Chimi Mouryou!! Gendai Monogatari",
         "This show consists of shorts starring 7 characters created and voiced by the voice actors of the variety show \"Seiyuu Danshi desu ga...?\". The anime will be a slapstick comedy that follows seven spirits that come to the modern world.  (Source: ANN)",
         "Comedy|Supernatural",
         null
        ],
        [
         "54",
         "42144",
         "Jingju Mao Zhi Xinnian de Maoxian",
         "Second season of .",
         "Action|Adventure|Comedy|Fantasy|Kids",
         null
        ],
        [
         "55",
         "35920",
         "Hello Jadoo",
         "Hello Jadoo is a South-Korean TV show about a girl named Choi Jadoo who is a very free-spirited girl. In every episode, she would always get into drama, whether it was with her parents or school. At the same time, she meets new people and she tries to solve problems occurring.",
         "Slice of Life",
         null
        ],
        [
         "56",
         "50869",
         "Kami wa Game ni Ueteiru.",
         "The supreme Gods who had too much free time created the ultimate brain games \"Play of the Gods.\" Former Goddess Leche awoke from a long slumber and declared to the world, \"Bring forth the person who is the best in games in this era!\" Fay is nominated to represent humanity as the \"best rookie in recent years.\"  The \"Game of the Gods\" that is about to begin between the two may be a little too difficult, as there has yet to be a victor throughout human history, because Gods are capricious, very unreasonable, and sometimes completely incomprehensible. However, given the nature of the games, it would be a waste not to have a good time and play with all of one's heart! The ultimate brain battles of a genius gamer boy, a former Goddess, and friends begin!  (Source: MAL News)",
         "Fantasy|Ecchi|Game",
         null
        ],
        [
         "57",
         "44524",
         "Isekai Meikyuu de Harem wo",
         "Struggling with life and society, high school student Michio Kaga wanders about the Internet and lands on an odd website. The website, featuring a number of questions and a point based system, allows one to create skills and abilities for a character. Upon completing his character, Kaga was transported to a game-like fantasy world and reborn as a strong man who can claim idol-level girls. Thus begins the cheat and harem legend of a reborn man!  (Source: MAL News)",
         "Action|Adventure|Fantasy|Romance|Harem",
         null
        ],
        [
         "58",
         "50284",
         "Technoroid: Overmind",
         "Technoroid: Overmind is set in the Entertainment Tower Babel, a new hope found by those who have lost the joy of light as humanity's activities are restricted due to the large-scale climate change caused by the expanded sun. The anime depicts unique units and characters fighting for the top of Babel, pursuing emotions that move people and androids through performances.  (Source: MAL News)",
         "Music",
         null
        ],
        [
         "59",
         "39664",
         "Gifu no Tatekayoko",
         "The series revolves around life in Gifu Prefecture in central Japan — as seen through the eyes of Tatekayoko, a female inhabitant who speaks in the dialect of Gifu's Tounou region. The anime will air within the program on Tokyo MX.  (Source: ANN)",
         "Comedy|Kids",
         null
        ]
       ],
       "shape": {
        "columns": 5,
        "rows": 12515
       }
      },
      "text/html": [
       "<div>\n",
       "<style scoped>\n",
       "    .dataframe tbody tr th:only-of-type {\n",
       "        vertical-align: middle;\n",
       "    }\n",
       "\n",
       "    .dataframe tbody tr th {\n",
       "        vertical-align: top;\n",
       "    }\n",
       "\n",
       "    .dataframe thead th {\n",
       "        text-align: right;\n",
       "    }\n",
       "</style>\n",
       "<table border=\"1\" class=\"dataframe\">\n",
       "  <thead>\n",
       "    <tr style=\"text-align: right;\">\n",
       "      <th></th>\n",
       "      <th>anime_id</th>\n",
       "      <th>title</th>\n",
       "      <th>synopsis</th>\n",
       "      <th>genres</th>\n",
       "      <th>score</th>\n",
       "    </tr>\n",
       "  </thead>\n",
       "  <tbody>\n",
       "    <tr>\n",
       "      <th>0</th>\n",
       "      <td>2366</td>\n",
       "      <td>Touma Kishinden Oni</td>\n",
       "      <td>Shuramaru is hated and feared by the villagers...</td>\n",
       "      <td>Supernatural</td>\n",
       "      <td>NaN</td>\n",
       "    </tr>\n",
       "    <tr>\n",
       "      <th>1</th>\n",
       "      <td>4940</td>\n",
       "      <td>Sabaku no Kaizoku! Captain Kuppa</td>\n",
       "      <td>Sometime in the future, the world was complete...</td>\n",
       "      <td>Action|Adventure</td>\n",
       "      <td>NaN</td>\n",
       "    </tr>\n",
       "    <tr>\n",
       "      <th>2</th>\n",
       "      <td>50285</td>\n",
       "      <td>On Air Dekinai!</td>\n",
       "      <td>Set in 2014, the anime follows the adventures ...</td>\n",
       "      <td>Comedy</td>\n",
       "      <td>NaN</td>\n",
       "    </tr>\n",
       "    <tr>\n",
       "      <th>3</th>\n",
       "      <td>3975</td>\n",
       "      <td>Uchi no 3 Shimai</td>\n",
       "      <td>The daily life of the Motsumoto family. The th...</td>\n",
       "      <td>Comedy|Slice of Life</td>\n",
       "      <td>NaN</td>\n",
       "    </tr>\n",
       "    <tr>\n",
       "      <th>4</th>\n",
       "      <td>36036</td>\n",
       "      <td>Running Man</td>\n",
       "      <td>The Soul Tree, the great source of our race.  ...</td>\n",
       "      <td>Action|Adventure|Kids</td>\n",
       "      <td>NaN</td>\n",
       "    </tr>\n",
       "    <tr>\n",
       "      <th>...</th>\n",
       "      <td>...</td>\n",
       "      <td>...</td>\n",
       "      <td>...</td>\n",
       "      <td>...</td>\n",
       "      <td>...</td>\n",
       "    </tr>\n",
       "    <tr>\n",
       "      <th>13374</th>\n",
       "      <td>32188</td>\n",
       "      <td>Steins;Gate: Kyoukaimenjou no Missing Link - D...</td>\n",
       "      <td>Having reached his emotional breaking point, R...</td>\n",
       "      <td>Sci-Fi|Suspense</td>\n",
       "      <td>8.24</td>\n",
       "    </tr>\n",
       "    <tr>\n",
       "      <th>13375</th>\n",
       "      <td>31324</td>\n",
       "      <td>Grisaia no Meikyuu: Caprice no Mayu 0 - Takizo...</td>\n",
       "      <td>Special bundled with the Blu-ray/DVD volume of .</td>\n",
       "      <td>Ecchi</td>\n",
       "      <td>7.27</td>\n",
       "    </tr>\n",
       "    <tr>\n",
       "      <th>13376</th>\n",
       "      <td>31283</td>\n",
       "      <td>Bikini Warriors Special</td>\n",
       "      <td>According to the official Hobby Japan website,...</td>\n",
       "      <td>Comedy|Fantasy|Ecchi|Parody</td>\n",
       "      <td>5.36</td>\n",
       "    </tr>\n",
       "    <tr>\n",
       "      <th>13377</th>\n",
       "      <td>33142</td>\n",
       "      <td>Re:Zero kara Hajimeru Break Time</td>\n",
       "      <td>A series of comedic shorts featuring chibi ver...</td>\n",
       "      <td>Adventure|Comedy|Fantasy|Parody</td>\n",
       "      <td>6.66</td>\n",
       "    </tr>\n",
       "    <tr>\n",
       "      <th>13378</th>\n",
       "      <td>31234</td>\n",
       "      <td>Himouto! Umaru-chanS</td>\n",
       "      <td>These shorts, included in the Blu-ray and DVD ...</td>\n",
       "      <td>Comedy|Slice of Life|Seinen</td>\n",
       "      <td>7.02</td>\n",
       "    </tr>\n",
       "  </tbody>\n",
       "</table>\n",
       "<p>12515 rows × 5 columns</p>\n",
       "</div>"
      ],
      "text/plain": [
       "       anime_id                                              title  \\\n",
       "0          2366                                Touma Kishinden Oni   \n",
       "1          4940                   Sabaku no Kaizoku! Captain Kuppa   \n",
       "2         50285                                    On Air Dekinai!   \n",
       "3          3975                                   Uchi no 3 Shimai   \n",
       "4         36036                                        Running Man   \n",
       "...         ...                                                ...   \n",
       "13374     32188  Steins;Gate: Kyoukaimenjou no Missing Link - D...   \n",
       "13375     31324  Grisaia no Meikyuu: Caprice no Mayu 0 - Takizo...   \n",
       "13376     31283                            Bikini Warriors Special   \n",
       "13377     33142                   Re:Zero kara Hajimeru Break Time   \n",
       "13378     31234                               Himouto! Umaru-chanS   \n",
       "\n",
       "                                                synopsis  \\\n",
       "0      Shuramaru is hated and feared by the villagers...   \n",
       "1      Sometime in the future, the world was complete...   \n",
       "2      Set in 2014, the anime follows the adventures ...   \n",
       "3      The daily life of the Motsumoto family. The th...   \n",
       "4      The Soul Tree, the great source of our race.  ...   \n",
       "...                                                  ...   \n",
       "13374  Having reached his emotional breaking point, R...   \n",
       "13375   Special bundled with the Blu-ray/DVD volume of .   \n",
       "13376  According to the official Hobby Japan website,...   \n",
       "13377  A series of comedic shorts featuring chibi ver...   \n",
       "13378  These shorts, included in the Blu-ray and DVD ...   \n",
       "\n",
       "                                genres  score  \n",
       "0                         Supernatural    NaN  \n",
       "1                     Action|Adventure    NaN  \n",
       "2                               Comedy    NaN  \n",
       "3                 Comedy|Slice of Life    NaN  \n",
       "4                Action|Adventure|Kids    NaN  \n",
       "...                                ...    ...  \n",
       "13374                  Sci-Fi|Suspense   8.24  \n",
       "13375                            Ecchi   7.27  \n",
       "13376      Comedy|Fantasy|Ecchi|Parody   5.36  \n",
       "13377  Adventure|Comedy|Fantasy|Parody   6.66  \n",
       "13378      Comedy|Slice of Life|Seinen   7.02  \n",
       "\n",
       "[12515 rows x 5 columns]"
      ]
     },
     "metadata": {},
     "output_type": "display_data"
    }
   ],
   "source": [
    "#Finds rows with missing synopsis\n",
    "missing_synopsis = full_df[full_df['synopsis'].isnull() | (full_df['synopsis'] == \".\")]\n",
    "print(\"Finding rows with missing synopsis\")\n",
    "display(missing_synopsis)\n",
    "print(\"Number of missing synopsis:\",len(missing_synopsis))\n",
    "\n",
    "#Removes the rows with missing synopsis\n",
    "df_cleaned = full_df[~(full_df['synopsis'].isnull() | (full_df['synopsis'] == \".\"))]\n",
    "print(\"Cleaned df\")\n",
    "display(df_cleaned)\n"
   ]
  },
  {
   "cell_type": "code",
   "execution_count": 63,
   "metadata": {},
   "outputs": [
    {
     "name": "stderr",
     "output_type": "stream",
     "text": [
      "C:\\Users\\User\\AppData\\Local\\Temp\\ipykernel_17340\\531548178.py:5: SettingWithCopyWarning: \n",
      "A value is trying to be set on a copy of a slice from a DataFrame.\n",
      "Try using .loc[row_indexer,col_indexer] = value instead\n",
      "\n",
      "See the caveats in the documentation: https://pandas.pydata.org/pandas-docs/stable/user_guide/indexing.html#returning-a-view-versus-a-copy\n",
      "  df_cleaned.loc[:,'synopsis_word_count'] = df_cleaned['synopsis'].apply(lambda x: len(x.split()))\n"
     ]
    },
    {
     "data": {
      "application/vnd.microsoft.datawrangler.viewer.v0+json": {
       "columns": [
        {
         "name": "index",
         "rawType": "int64",
         "type": "integer"
        },
        {
         "name": "anime_id",
         "rawType": "int64",
         "type": "integer"
        },
        {
         "name": "title",
         "rawType": "object",
         "type": "string"
        },
        {
         "name": "synopsis",
         "rawType": "object",
         "type": "string"
        },
        {
         "name": "genres",
         "rawType": "object",
         "type": "string"
        },
        {
         "name": "score",
         "rawType": "float64",
         "type": "float"
        },
        {
         "name": "synopsis_word_count",
         "rawType": "int64",
         "type": "integer"
        }
       ],
       "conversionMethod": "pd.DataFrame",
       "ref": "d183c0a8-f3c5-4993-8a92-f70962ad8387",
       "rows": [
        [
         "0",
         "2366",
         "Touma Kishinden Oni",
         "Shuramaru is hated and feared by the villagers for his unusual powers. He thinks he is human, but... is he?  (Source: AniDB)",
         "Supernatural",
         null,
         "22"
        ],
        [
         "1",
         "4940",
         "Sabaku no Kaizoku! Captain Kuppa",
         "Sometime in the future, the world was completely dried up and became all desert. They had little rivers and lakes left, which villians and dangerous animals lived. Water has become the most valueable thing on the world. Whoever can control water will rule over the world.  (Source: ANN)",
         "Action|Adventure",
         null,
         "48"
        ],
        [
         "2",
         "50285",
         "On Air Dekinai!",
         "Set in 2014, the anime follows the adventures of 23 years old Mafuneko, a newly minted assistant director who joins the TV production department at Tokyo Hajikko Television, only to discover that the glamorous and glitzy life of working behind-the-scenes making TV shows involves strange and inexplicable tasks such as \"gathering 300 acorns\" and \"making a mosaic out of the images reflected in the camera lens.\" Despite being surrounded by chaos, set-backs, and weirdos, Mafuneko struggles to become a fully-fledged TV producer.  (Source: Crunchyroll, edited)",
         "Comedy",
         null,
         "85"
        ],
        [
         "3",
         "3975",
         "Uchi no 3 Shimai",
         "The daily life of the Motsumoto family. The three sisters, Fuu, Suu, and Chii, follow what happens on a daily basis. Mother and Father have to deal with them sometimes, but they're used to it.",
         "Comedy|Slice of Life",
         null,
         "35"
        ],
        [
         "4",
         "36036",
         "Running Man",
         "The Soul Tree, the great source of our race.  But for its ultimate power and by those whose minds were blinded by it, it also became the catastrophic cause that had brought never-ending wars between the tribes. Tortured by the agonies of the wars, the leaders of the tribes finally came to a peace agreement that they would instead open a competition. Players, equipped with special watches and shields, compete against each other as winner’s tribe would be awarded with Materion, the sacred fruit of the Soul Tree.  These brave players, who throw themselves in this fierce fight, we call them the Runningman.  (Source: Official YouTube Channel)",
         "Action|Adventure|Kids",
         null,
         "107"
        ],
        [
         "5",
         "41426",
         "Watanuki-san Chi to",
         "Second season of .",
         "Slice of Life",
         null,
         "4"
        ],
        [
         "8",
         "30417",
         "Panpaka Pants O-New!",
         "Follows a pig whose family's mission is to collect underpants.",
         "Comedy|Kids",
         null,
         "10"
        ],
        [
         "9",
         "38138",
         "Zhu Zhu Xia: Jing Qiu Xiao Yingxiong",
         "In honor of the 2018 World Cup, this season of GG Bond focuses on sports team competition, team spirit, and personal growth as they compete in the Meteor League.  ",
         "Sci-Fi|Sports|Super Power|Kids",
         null,
         "29"
        ],
        [
         "10",
         "36506",
         "Fuwafuwa Hour: Pui Pui & Muu Muu",
         "Fairies living in a fluffy forest, where both flowers and trees are fluffy. Follow a witch's trouble-maker apprentices Pui Pui and Muu Muu.",
         "Fantasy|Kids",
         null,
         "23"
        ],
        [
         "11",
         "37787",
         "Space Bug",
         "This story is about Mick, a sleeping chironomid. Insects are taken up into space for use in experiments by humans. An epic space adventure of Mick and his friends of their journey back home to Earth. The development plans and experiments are aborted by humans for no known reason, the organisms are left behind in the space station with limited resources. Going over hurdles and fighting through challenges, together, they travel across planets and gain new comrades, heading for Earth. As their journey progresses, the mystery behind the human’s abandonment unravels…  (Source: Crunchyroll)",
         "Adventure|Space",
         null,
         "93"
        ],
        [
         "12",
         "47164",
         "Dungeon ni Deai wo Motomeru no wa Machigatteiru Darou ka IV",
         "Fourth season of .",
         "Action|Adventure|Comedy|Fantasy|Romance",
         null,
         "4"
        ],
        [
         "13",
         "18227",
         "Bakujuu Gasshin Ziguru Hazeru",
         "The anime is based on MegaHouse's line of Ziguru Hazeru (literally, \"Jiggle and Pop Out\") mecha toys that allow people to remove parts from the joints and add different parts in their place. In addition, if one combines together Hazeru Gokuu, Hazeru Sagojo, and Hazeru Hakkai, the resulting mecha will be Hazeru Seioh, allowing for users to combine their toys together.  The ZIGURUHAZERU animated series is based on the upcoming original toy line of the same name from MegaHouse, featuring cool robot toys modelled after characters from the famous Journey to the West tale.",
         "Action|Mecha",
         null,
         "94"
        ],
        [
         "14",
         "5374",
         "Miracle! Mimika",
         "Himeno Mimika is a daughter of historical cook family. She goes to a cooking school, Miracle Academy which train cooks all over the world. Vying with rivals, she brings out her gift, and she grows up as a cook.  (Source: AnimeNfo)",
         "Gourmet|Slice of Life|Kids",
         null,
         "41"
        ],
        [
         "15",
         "40273",
         "Fuwa no go renkan",
         "Fuwa Beibei encounters the severely injured goddess, Athena. In order to help Athena regain strength, Beibei sets out to find a mysterious wooden box left by Coubertin in 1894, but the worrying thing is that Pixiu who injured his stomach from his glutinous eating habits heard this news too. He thought that this mysterious energy could not only cure his stomach, but also improve his magic, and such begins the journey through time and space of two spirits with different aims. After all the hardships, they found the sixth son of the dragon - Bixi, and after the two's efforts in passing his test, Bixi carries them along 100 years of Olympic history.",
         "Historical",
         null,
         "113"
        ],
        [
         "16",
         "41384",
         "Norimono Man: Mobile Land no Car-kun",
         "The anime will depict various vehicles as characters in the \"Mobile Land\" island. The protagonist Car-kun arrives at the island as a delivery worker. Through his deliveries, he gets to know the residents of Mobile Land, all while following traffic rules and having his deliveries stopped by the meddling Sabibi.  (Source: ANN)",
         "Comedy|Slice of Life|Cars|Kids",
         null,
         "52"
        ],
        [
         "17",
         "48418",
         "Maou Gakuin no Futekigousha: Shijou Saikyou no Maou no Shiso, Tensei shite Shison-tachi no Gakkou e Kayou 2nd Season Part 2",
         "Second half of .",
         "Action|Fantasy|Demons|School",
         null,
         "4"
        ],
        [
         "20",
         "48363",
         "RPG Fudousan",
         "The story begins 15 years after the demon king was defeated and the world has become peaceful. Kotone, who graduated from school and became a magician, inquired about the kingdom-affiliated RPG Real Estate in order to find a new home. In reality, RPG Real Estate was Kotone's place of employment, and together with Fa, a demi-human, the priest Rufuria, and the soldier Rakira, they help support the searches of new homes for the customers with various circumstances.  (Source: MU, edited)",
         "Comedy|Fantasy|Slice of Life",
         null,
         "80"
        ],
        [
         "22",
         "49221",
         "Kick & Slide",
         "The third generation of J SOUL BROTHERS from EXILE TRIBE is reimagined as 7 unique and diverse characters in \"KICK & SLIDE\". This is a slapstick story where the characters solve difficult cases!? and rare cases!? that occur in the colorful and pop vibrant city \"Nakame Town\" with dance and music.  (Source: Official website)",
         "Music|Kids",
         null,
         "54"
        ],
        [
         "23",
         "9781",
         "Hyouga Senshi Gaislugger",
         "A cyborg warrior from an ancient Antarctic kingdom awakes 30000 years later from an accidental hibernation to find the Earth changed and an old alien enemy on the verge of invasion. It's up to Guyslugger to use his ancient technology to defeat the aliens.  (Source: AniDB)",
         "Action|Sci-Fi|Mecha",
         null,
         "46"
        ],
        [
         "24",
         "48770",
         "Hyper Positive Yogoremon",
         "The story centers on Otarou, a creature themed around dirt known as a yogoremon. It and other yogoremon ask the meaning of words and explain negative terms in positive ways.  (Source: ANN)",
         "Comedy",
         null,
         "32"
        ],
        [
         "25",
         "38525",
         "Chuldong! Super Wings",
         "follows the adventures of an adorable jet plane named Jett who travels around the world delivering packages to children. On every delivery, Jett encounters new problems that he must solve with the help of his friends the \"Super Wings\": Dizzy, Jerome and Donnie. Together, the team explores different countries and learns the diversity of new cultures.  (Source: Official YouTube channel)",
         "Adventure|Cars|Kids",
         null,
         "60"
        ],
        [
         "27",
         "30605",
         "Uwabaki Cook no Tekitou Uranai!",
         "A collaboration shorts that aired as part of Yomiuri TV's morning program block.",
         "Comedy",
         null,
         "13"
        ],
        [
         "28",
         "42994",
         "Jashin-chan Dropkick X",
         "Third season of .",
         "Comedy|Supernatural",
         null,
         "4"
        ],
        [
         "29",
         "50220",
         "Isekai Shoukan wa Nidome desu",
         "There was once a man who was summoned to another world, and saved it. Of course, he became too popular there, and turned into an isekai-normie. However, that man fell into a \"trap\" and was forcibly returned to his original world. Moreover, he had to start over as a baby!  This is the story of the way-too-fantastic ex-hero who lived as a gloomy high-schooler, as he gets summoned once again to that same other world in a very unexpected development!  (Source: Coolmic, edited)",
         "Action|Adventure|Comedy|Fantasy|Romance|Harem",
         null,
         "83"
        ],
        [
         "31",
         "5278",
         "Totsugeki! Pappara-tai",
         "An elite soldier, whose nickname is God of Death, is transferred to another unit known as the PaPaRa Army. The PaPaRa Army is infamous for its elite but hilariously crazy members. There is no plot to speak of other than humour, hilarious brutality, and general nonsense. This is also Matsuzawa-sensei's debut work.",
         "Action|Adventure|Comedy|Romance|Sci-Fi",
         null,
         "52"
        ],
        [
         "32",
         "50631",
         "Komi-san wa, Comyushou desu. 2nd Season",
         "Second season of .",
         "Comedy|Drama|Slice of Life|School|Shounen",
         null,
         "4"
        ],
        [
         "34",
         "41101",
         "Poccolies",
         "The 2018 LINE sticker set Poccolies is inspiring a series of anime shorts. The story of the sticker set is that a positive and honest boy named Patsuhiko lives on Pokkori Island, along with the shrewd and mysterious Ham, and a reliable older brother figure named Kangaroo. The sticker set follows their daily lives.  (Source: ANN)",
         "Slice of Life|Kids",
         null,
         "56"
        ],
        [
         "35",
         "36002",
         "Otona no Ikkyuu-san 2nd Season",
         "The second season of .",
         "Comedy|Historical",
         null,
         "5"
        ],
        [
         "36",
         "17423",
         "Pink Lady Monogatari: Eikou no Tenshi-tachi",
         "Based on the real life-story of Pink Lady, a female pop duo that rose to superstardom in the mid-1970's.  (Source: ANN)",
         "Drama|Slice of Life|Music",
         null,
         "21"
        ],
        [
         "37",
         "35108",
         "Ninja Tamamaru: Toukaidou Gojuusan-ji",
         "The third season of .",
         "Martial Arts|Kids",
         null,
         "5"
        ],
        [
         "38",
         "27393",
         "Kyuumei Senshi Nanosaver",
         "The third show in the Virtual Trilogy, a mix of anime and live action shots.  In the beginning of the 22nd century society advanced rapidly. Now even children are able to become real doctors, a task before that took two and a half decades to achieve. And nanomachines became prevalent to fight disease. Keita is a Nanosaver, a child doctor who uses the virtual world to apply life saving techniques by entering the body and treating the patients in a virtual medical station (VMS). As more and more patients are taken in, various mysterious are uncovered about them.  In the second half of the anime, a small Ethanarian alien and galactic federation is introduced.",
         "Adventure|Shounen",
         null,
         "114"
        ],
        [
         "40",
         "41440",
         "Anoyo no Subete wa, Obake-gumi!",
         "The gag anime takes place at a school for youkai and other supernatural beings. A vampire named Rakuru transfers to the school from the West, and she tries to change the school as the class representative.",
         "Comedy|Supernatural",
         null,
         "36"
        ],
        [
         "41",
         "30151",
         "Kamiusagi Rope: Warau Asa ni wa Fukuraitaru tte Maji ssuka!?",
         "Fourth season of Kamiusagi Rope, events occur after the feature film. Airs on Mezamashi TV instead of the theaters.",
         "Comedy|Slice of Life",
         null,
         "19"
        ],
        [
         "42",
         "38136",
         "Zhu Zhu Xia: Zhong Ji Jue Zhan - Qian Ye Pian",
         "A prequel TV series setting up for the feature film.  G.G. Bond's father while exploring ruins gets sucked into a dimension of evil through the Dark Gate. He is bestowed power and knowledge and becomes corrupted as the King of Darkness. Ancient monsters are sent through the cracks of the gate to attack G.G. Bond and his team as the 5 elemental powers are stronger than the King of Darkness. By weakening the team, only then can the King of Darkness forcibly open the gate to unless a reign of terror on the Fairy Tale world.",
         "Sci-Fi|Super Power|Kids",
         null,
         "96"
        ],
        [
         "43",
         "8025",
         "Chi-Sui Maru",
         "The offensive and defensive battles between Nobuo, an office worker, and Chi-Sui Maru, a mosquito.",
         "Comedy",
         null,
         "15"
        ],
        [
         "44",
         "32585",
         "Telemonster",
         "Korean Animation about the monsters Eerie, Rock-G, Popo, and Yossi and the adventures they go on each day!",
         "Adventure",
         null,
         "18"
        ],
        [
         "45",
         "35364",
         "Kkoma Sinseon Tao",
         "This Korean and Chinese co-production series focuses on Tao, a young boy with magical powers, as he attends school to become a wizard. Each episode was composed of two stories.  (Source: Wiki)",
         "Kids",
         null,
         "32"
        ],
        [
         "46",
         "48413",
         "Hataraku Maou-sama! 2nd Season",
         "Second season of",
         "Comedy|Fantasy|Romance|Supernatural|Demons",
         null,
         "3"
        ],
        [
         "47",
         "38857",
         "Neko no Nyagh: Nya Misérables",
         "TV adaptation of Cocone Corporation's mobile puzzle game app.  Discover the adventures of the cat painter, Vincent van Meowogh who lives in a mansion in Paris surrounded by his quirky friends. Let's give him a spark of inspiration for his painting by completing puzzle stages, buy back the furniture and restore his home to its former glory!  (Source: ANN)",
         "Game|Kids",
         null,
         "59"
        ],
        [
         "48",
         "50380",
         "Paripi Koumei",
         "General of the Three Kingdoms, Kongming had struggled his whole life, facing countless battles that made him into the accomplished strategist he was. So on his deathbed, he wished only to be reborn into a peaceful world... and was sent straight to modern-day party-central, Tokyo! Can even a brilliant strategist like Kongming adapt to the wild beats and even wilder party people?!  (Source: Kodansha US, edited)",
         "Comedy",
         null,
         "66"
        ],
        [
         "49",
         "50346",
         "Yofukashi no Uta",
         "Kou Yamori seems like a typical middle school student on the surface. Relatively good at studies and amiable with his classmates, he puts a lot of effort into maintaining this facade. One day, however, he decides to stop pretending and quits school, developing insomnia as a result of having no daytime outlet for his energy. When taking walks alone at night, he feels marginally better, though he is aware that his inability to sleep should be considered a serious problem.  On one such walk, Kou meets a weird girl, Nazuna Nanakusa, who diagnoses the cause of his sleeplessness: despite making changes in his life, he is still holding himself back from experiencing true freedom. She says that he won't be able to sleep unless he is satisfied with how he spends his waking hours. When it appears that she has resolved his current worries, Nazuna invites him back to her apartment to share her futon. After a while, unaware that he is only feigning unconsciousness, she leans over him—and bites his neck!  ",
         "Romance|Supernatural|Vampire|Shounen",
         null,
         "172"
        ],
        [
         "51",
         "49556",
         "Love All Play",
         "Ryou Mizushima enrolls in junior high and joins the badminton club with great vigor. Although the club didn't have a proper coach, Mizushima improved his skills with his own physical strength by the time he participated in the prefectural tournament. Afterwards, he is approached by the Yokohama Minato High School's badminton coach, Ebihara.  Indecisive and timid, Mizushima hesitates to attend such a prestigious school. However, with his elder sister Rika giving him a strong push, he decides to go to Yokohama Minato. Now blessed with a coach and idiosyncratic teammates, Mizushima will gain experience he's lacked till now, and aims to win the inter-high tournament.  (Source: MAL News)",
         "Sports",
         null,
         "108"
        ],
        [
         "52",
         "49184",
         "Gunma-chan",
         "An anime series based on the Gunma Prefecture mascot character, Gunma-chan.  (Source: Anilist)",
         "Slice of Life",
         null,
         "13"
        ],
        [
         "53",
         "34309",
         "Nananin no Ayakashi: Chimi Chimi Mouryou!! Gendai Monogatari",
         "This show consists of shorts starring 7 characters created and voiced by the voice actors of the variety show \"Seiyuu Danshi desu ga...?\". The anime will be a slapstick comedy that follows seven spirits that come to the modern world.  (Source: ANN)",
         "Comedy|Supernatural",
         null,
         "42"
        ],
        [
         "54",
         "42144",
         "Jingju Mao Zhi Xinnian de Maoxian",
         "Second season of .",
         "Action|Adventure|Comedy|Fantasy|Kids",
         null,
         "4"
        ],
        [
         "55",
         "35920",
         "Hello Jadoo",
         "Hello Jadoo is a South-Korean TV show about a girl named Choi Jadoo who is a very free-spirited girl. In every episode, she would always get into drama, whether it was with her parents or school. At the same time, she meets new people and she tries to solve problems occurring.",
         "Slice of Life",
         null,
         "51"
        ],
        [
         "56",
         "50869",
         "Kami wa Game ni Ueteiru.",
         "The supreme Gods who had too much free time created the ultimate brain games \"Play of the Gods.\" Former Goddess Leche awoke from a long slumber and declared to the world, \"Bring forth the person who is the best in games in this era!\" Fay is nominated to represent humanity as the \"best rookie in recent years.\"  The \"Game of the Gods\" that is about to begin between the two may be a little too difficult, as there has yet to be a victor throughout human history, because Gods are capricious, very unreasonable, and sometimes completely incomprehensible. However, given the nature of the games, it would be a waste not to have a good time and play with all of one's heart! The ultimate brain battles of a genius gamer boy, a former Goddess, and friends begin!  (Source: MAL News)",
         "Fantasy|Ecchi|Game",
         null,
         "140"
        ],
        [
         "57",
         "44524",
         "Isekai Meikyuu de Harem wo",
         "Struggling with life and society, high school student Michio Kaga wanders about the Internet and lands on an odd website. The website, featuring a number of questions and a point based system, allows one to create skills and abilities for a character. Upon completing his character, Kaga was transported to a game-like fantasy world and reborn as a strong man who can claim idol-level girls. Thus begins the cheat and harem legend of a reborn man!  (Source: MAL News)",
         "Action|Adventure|Fantasy|Romance|Harem",
         null,
         "79"
        ],
        [
         "58",
         "50284",
         "Technoroid: Overmind",
         "Technoroid: Overmind is set in the Entertainment Tower Babel, a new hope found by those who have lost the joy of light as humanity's activities are restricted due to the large-scale climate change caused by the expanded sun. The anime depicts unique units and characters fighting for the top of Babel, pursuing emotions that move people and androids through performances.  (Source: MAL News)",
         "Music",
         null,
         "63"
        ],
        [
         "59",
         "39664",
         "Gifu no Tatekayoko",
         "The series revolves around life in Gifu Prefecture in central Japan — as seen through the eyes of Tatekayoko, a female inhabitant who speaks in the dialect of Gifu's Tounou region. The anime will air within the program on Tokyo MX.  (Source: ANN)",
         "Comedy|Kids",
         null,
         "43"
        ]
       ],
       "shape": {
        "columns": 6,
        "rows": 12515
       }
      },
      "text/html": [
       "<div>\n",
       "<style scoped>\n",
       "    .dataframe tbody tr th:only-of-type {\n",
       "        vertical-align: middle;\n",
       "    }\n",
       "\n",
       "    .dataframe tbody tr th {\n",
       "        vertical-align: top;\n",
       "    }\n",
       "\n",
       "    .dataframe thead th {\n",
       "        text-align: right;\n",
       "    }\n",
       "</style>\n",
       "<table border=\"1\" class=\"dataframe\">\n",
       "  <thead>\n",
       "    <tr style=\"text-align: right;\">\n",
       "      <th></th>\n",
       "      <th>anime_id</th>\n",
       "      <th>title</th>\n",
       "      <th>synopsis</th>\n",
       "      <th>genres</th>\n",
       "      <th>score</th>\n",
       "      <th>synopsis_word_count</th>\n",
       "    </tr>\n",
       "  </thead>\n",
       "  <tbody>\n",
       "    <tr>\n",
       "      <th>0</th>\n",
       "      <td>2366</td>\n",
       "      <td>Touma Kishinden Oni</td>\n",
       "      <td>Shuramaru is hated and feared by the villagers...</td>\n",
       "      <td>Supernatural</td>\n",
       "      <td>NaN</td>\n",
       "      <td>22</td>\n",
       "    </tr>\n",
       "    <tr>\n",
       "      <th>1</th>\n",
       "      <td>4940</td>\n",
       "      <td>Sabaku no Kaizoku! Captain Kuppa</td>\n",
       "      <td>Sometime in the future, the world was complete...</td>\n",
       "      <td>Action|Adventure</td>\n",
       "      <td>NaN</td>\n",
       "      <td>48</td>\n",
       "    </tr>\n",
       "    <tr>\n",
       "      <th>2</th>\n",
       "      <td>50285</td>\n",
       "      <td>On Air Dekinai!</td>\n",
       "      <td>Set in 2014, the anime follows the adventures ...</td>\n",
       "      <td>Comedy</td>\n",
       "      <td>NaN</td>\n",
       "      <td>85</td>\n",
       "    </tr>\n",
       "    <tr>\n",
       "      <th>3</th>\n",
       "      <td>3975</td>\n",
       "      <td>Uchi no 3 Shimai</td>\n",
       "      <td>The daily life of the Motsumoto family. The th...</td>\n",
       "      <td>Comedy|Slice of Life</td>\n",
       "      <td>NaN</td>\n",
       "      <td>35</td>\n",
       "    </tr>\n",
       "    <tr>\n",
       "      <th>4</th>\n",
       "      <td>36036</td>\n",
       "      <td>Running Man</td>\n",
       "      <td>The Soul Tree, the great source of our race.  ...</td>\n",
       "      <td>Action|Adventure|Kids</td>\n",
       "      <td>NaN</td>\n",
       "      <td>107</td>\n",
       "    </tr>\n",
       "    <tr>\n",
       "      <th>...</th>\n",
       "      <td>...</td>\n",
       "      <td>...</td>\n",
       "      <td>...</td>\n",
       "      <td>...</td>\n",
       "      <td>...</td>\n",
       "      <td>...</td>\n",
       "    </tr>\n",
       "    <tr>\n",
       "      <th>13374</th>\n",
       "      <td>32188</td>\n",
       "      <td>Steins;Gate: Kyoukaimenjou no Missing Link - D...</td>\n",
       "      <td>Having reached his emotional breaking point, R...</td>\n",
       "      <td>Sci-Fi|Suspense</td>\n",
       "      <td>8.24</td>\n",
       "      <td>94</td>\n",
       "    </tr>\n",
       "    <tr>\n",
       "      <th>13375</th>\n",
       "      <td>31324</td>\n",
       "      <td>Grisaia no Meikyuu: Caprice no Mayu 0 - Takizo...</td>\n",
       "      <td>Special bundled with the Blu-ray/DVD volume of .</td>\n",
       "      <td>Ecchi</td>\n",
       "      <td>7.27</td>\n",
       "      <td>8</td>\n",
       "    </tr>\n",
       "    <tr>\n",
       "      <th>13376</th>\n",
       "      <td>31283</td>\n",
       "      <td>Bikini Warriors Special</td>\n",
       "      <td>According to the official Hobby Japan website,...</td>\n",
       "      <td>Comedy|Fantasy|Ecchi|Parody</td>\n",
       "      <td>5.36</td>\n",
       "      <td>28</td>\n",
       "    </tr>\n",
       "    <tr>\n",
       "      <th>13377</th>\n",
       "      <td>33142</td>\n",
       "      <td>Re:Zero kara Hajimeru Break Time</td>\n",
       "      <td>A series of comedic shorts featuring chibi ver...</td>\n",
       "      <td>Adventure|Comedy|Fantasy|Parody</td>\n",
       "      <td>6.66</td>\n",
       "      <td>15</td>\n",
       "    </tr>\n",
       "    <tr>\n",
       "      <th>13378</th>\n",
       "      <td>31234</td>\n",
       "      <td>Himouto! Umaru-chanS</td>\n",
       "      <td>These shorts, included in the Blu-ray and DVD ...</td>\n",
       "      <td>Comedy|Slice of Life|Seinen</td>\n",
       "      <td>7.02</td>\n",
       "      <td>17</td>\n",
       "    </tr>\n",
       "  </tbody>\n",
       "</table>\n",
       "<p>12515 rows × 6 columns</p>\n",
       "</div>"
      ],
      "text/plain": [
       "       anime_id                                              title  \\\n",
       "0          2366                                Touma Kishinden Oni   \n",
       "1          4940                   Sabaku no Kaizoku! Captain Kuppa   \n",
       "2         50285                                    On Air Dekinai!   \n",
       "3          3975                                   Uchi no 3 Shimai   \n",
       "4         36036                                        Running Man   \n",
       "...         ...                                                ...   \n",
       "13374     32188  Steins;Gate: Kyoukaimenjou no Missing Link - D...   \n",
       "13375     31324  Grisaia no Meikyuu: Caprice no Mayu 0 - Takizo...   \n",
       "13376     31283                            Bikini Warriors Special   \n",
       "13377     33142                   Re:Zero kara Hajimeru Break Time   \n",
       "13378     31234                               Himouto! Umaru-chanS   \n",
       "\n",
       "                                                synopsis  \\\n",
       "0      Shuramaru is hated and feared by the villagers...   \n",
       "1      Sometime in the future, the world was complete...   \n",
       "2      Set in 2014, the anime follows the adventures ...   \n",
       "3      The daily life of the Motsumoto family. The th...   \n",
       "4      The Soul Tree, the great source of our race.  ...   \n",
       "...                                                  ...   \n",
       "13374  Having reached his emotional breaking point, R...   \n",
       "13375   Special bundled with the Blu-ray/DVD volume of .   \n",
       "13376  According to the official Hobby Japan website,...   \n",
       "13377  A series of comedic shorts featuring chibi ver...   \n",
       "13378  These shorts, included in the Blu-ray and DVD ...   \n",
       "\n",
       "                                genres  score  synopsis_word_count  \n",
       "0                         Supernatural    NaN                   22  \n",
       "1                     Action|Adventure    NaN                   48  \n",
       "2                               Comedy    NaN                   85  \n",
       "3                 Comedy|Slice of Life    NaN                   35  \n",
       "4                Action|Adventure|Kids    NaN                  107  \n",
       "...                                ...    ...                  ...  \n",
       "13374                  Sci-Fi|Suspense   8.24                   94  \n",
       "13375                            Ecchi   7.27                    8  \n",
       "13376      Comedy|Fantasy|Ecchi|Parody   5.36                   28  \n",
       "13377  Adventure|Comedy|Fantasy|Parody   6.66                   15  \n",
       "13378      Comedy|Slice of Life|Seinen   7.02                   17  \n",
       "\n",
       "[12515 rows x 6 columns]"
      ]
     },
     "metadata": {},
     "output_type": "display_data"
    },
    {
     "name": "stdout",
     "output_type": "stream",
     "text": [
      "Minimum number of words in a synopsis: 8\n"
     ]
    },
    {
     "data": {
      "application/vnd.microsoft.datawrangler.viewer.v0+json": {
       "columns": [
        {
         "name": "index",
         "rawType": "int64",
         "type": "integer"
        },
        {
         "name": "title",
         "rawType": "object",
         "type": "string"
        },
        {
         "name": "synopsis",
         "rawType": "object",
         "type": "string"
        },
        {
         "name": "synopsis_word_count",
         "rawType": "int64",
         "type": "integer"
        }
       ],
       "conversionMethod": "pd.DataFrame",
       "ref": "6fb63e0a-f7df-40b9-add0-40214eaed550",
       "rows": [
        [
         "5",
         "Watanuki-san Chi to",
         "Second season of .",
         "4"
        ],
        [
         "12",
         "Dungeon ni Deai wo Motomeru no wa Machigatteiru Darou ka IV",
         "Fourth season of .",
         "4"
        ],
        [
         "17",
         "Maou Gakuin no Futekigousha: Shijou Saikyou no Maou no Shiso, Tensei shite Shison-tachi no Gakkou e Kayou 2nd Season Part 2",
         "Second half of .",
         "4"
        ],
        [
         "28",
         "Jashin-chan Dropkick X",
         "Third season of .",
         "4"
        ],
        [
         "32",
         "Komi-san wa, Comyushou desu. 2nd Season",
         "Second season of .",
         "4"
        ],
        [
         "35",
         "Otona no Ikkyuu-san 2nd Season",
         "The second season of .",
         "5"
        ],
        [
         "37",
         "Ninja Tamamaru: Toukaidou Gojuusan-ji",
         "The third season of .",
         "5"
        ],
        [
         "46",
         "Hataraku Maou-sama! 2nd Season",
         "Second season of",
         "3"
        ],
        [
         "54",
         "Jingju Mao Zhi Xinnian de Maoxian",
         "Second season of .",
         "4"
        ],
        [
         "60",
         "Mairimashita! Iruma-kun 3rd Season",
         "Third season of .",
         "4"
        ],
        [
         "72",
         "UFO Senshi Dai Apolon 2",
         "Second season of UFO Senshi Dai Apolon.",
         "7"
        ],
        [
         "77",
         "Karaoke Senshi Mike-tarou",
         "A story about kids fighting with Karaoke.",
         "7"
        ],
        [
         "80",
         "Love Live! Superstar!! 2nd Season",
         "Second season of .",
         "4"
        ],
        [
         "91",
         "Ma-eum-uisoli Season 3",
         "Third Season of .",
         "4"
        ],
        [
         "92",
         "Machikado Mazoku: 2-choume",
         "Second season of .",
         "4"
        ],
        [
         "95",
         "Ijiranaide, Nagatoro-san 2nd Season",
         "Second season of . ",
         "4"
        ],
        [
         "103",
         "Jingju Mao Zhi Cheng Feng Polang",
         "Third season of .",
         "4"
        ],
        [
         "112",
         "Gan Gan Ganko-chan 2nd Season",
         "Second season of the anime series.",
         "6"
        ],
        [
         "114",
         "Kkoma Bus Tayo 3",
         "The third season of .",
         "5"
        ],
        [
         "123",
         "Tamagotchi! Tamatomo Daishuu GO",
         "New anime series.",
         "3"
        ],
        [
         "124",
         "Kaguya-sama wa Kokurasetai: Ultra Romantic",
         "Third season of .",
         "4"
        ],
        [
         "127",
         "Kaoru no Taisetsu na Mono",
         "Spin-off of with super deformed characters.",
         "6"
        ],
        [
         "135",
         "Noramimi 2",
         "Sequel to Noramimi.",
         "3"
        ],
        [
         "145",
         "Kuma Kuma Kuma Bear 2nd Season",
         "Second season of .",
         "4"
        ],
        [
         "146",
         "Youkoso Jitsuryoku Shijou Shugi no Kyoushitsu e (TV) 3rd Season",
         "3rd season of .",
         "4"
        ],
        [
         "147",
         "Itai no wa Iya nano de Bougyoryoku ni Kyokufuri Shitai to Omoimasu. II",
         "Second season of",
         "3"
        ],
        [
         "148",
         "Saihate no Paladin 2nd Season",
         "Second season of .",
         "4"
        ],
        [
         "154",
         "Kyoukai Senki Part 2",
         "Second part of .",
         "4"
        ],
        [
         "160",
         "Kami-tachi ni Hirowareta Otoko 2nd Season",
         "Second season of .",
         "4"
        ],
        [
         "161",
         "Tate no Yuusha no Nariagari Season 3",
         "Third season of .",
         "4"
        ],
        [
         "162",
         "Rail Romanesque 2nd Season",
         "Second season of .",
         "4"
        ],
        [
         "166",
         "Jujutsu Kaisen (TV) 2nd Season",
         "Second season of .",
         "4"
        ],
        [
         "171",
         "Gozonji! Kakuza Tousan",
         "The second season of the franchise.",
         "6"
        ],
        [
         "178",
         "Shin Dokonjou Gaeru",
         "Continuation of series.",
         "3"
        ],
        [
         "183",
         "Yukai na Animal Bus 2nd Season",
         "Second season of .",
         "4"
        ],
        [
         "186",
         "Komatsu Sakyo Anime Gekijou",
         "The collection of short SF stories.",
         "6"
        ],
        [
         "188",
         "Cardfight!! Vanguard: overDress Season 4",
         "Fourth season of .",
         "4"
        ],
        [
         "193",
         "Poputepipikku 2nd Season",
         "Second season of .",
         "4"
        ],
        [
         "198",
         "Tonikaku Kawaii 2nd Season",
         "Second season of .",
         "4"
        ],
        [
         "207",
         "Kakugen! Kakuza Tousan",
         "The third season of of the franchise.",
         "7"
        ],
        [
         "213",
         "Picchipichi Shizuku-chan",
         "Third season of .",
         "4"
        ],
        [
         "217",
         "Neko Konogoro",
         "Based on the characters created by Study.",
         "7"
        ],
        [
         "227",
         "Kkoma Bus Tayo 4",
         "The fourth season of .",
         "5"
        ],
        [
         "228",
         "Kkoma Sinseon Tao 2",
         "A direct continuation of .",
         "5"
        ],
        [
         "234",
         "Cocomong 3",
         "The third season of .",
         "5"
        ],
        [
         "240",
         "Ma-eum-uisoli Season 2",
         "Second season of .",
         "4"
        ],
        [
         "246",
         "Kyokou Suiri 2nd Season",
         "Second season of .",
         "4"
        ],
        [
         "247",
         "Bungou Stray Dogs 4th Season",
         "Latest season of .",
         "4"
        ],
        [
         "255",
         "Tate no Yuusha no Nariagari Season 2",
         "Second season of .",
         "4"
        ],
        [
         "260",
         "Showtime!: Uta no Oneesan datte Shitai 2nd Season",
         "Second season of .",
         "4"
        ]
       ],
       "shape": {
        "columns": 3,
        "rows": 1055
       }
      },
      "text/html": [
       "<div>\n",
       "<style scoped>\n",
       "    .dataframe tbody tr th:only-of-type {\n",
       "        vertical-align: middle;\n",
       "    }\n",
       "\n",
       "    .dataframe tbody tr th {\n",
       "        vertical-align: top;\n",
       "    }\n",
       "\n",
       "    .dataframe thead th {\n",
       "        text-align: right;\n",
       "    }\n",
       "</style>\n",
       "<table border=\"1\" class=\"dataframe\">\n",
       "  <thead>\n",
       "    <tr style=\"text-align: right;\">\n",
       "      <th></th>\n",
       "      <th>title</th>\n",
       "      <th>synopsis</th>\n",
       "      <th>synopsis_word_count</th>\n",
       "    </tr>\n",
       "  </thead>\n",
       "  <tbody>\n",
       "    <tr>\n",
       "      <th>5</th>\n",
       "      <td>Watanuki-san Chi to</td>\n",
       "      <td>Second season of .</td>\n",
       "      <td>4</td>\n",
       "    </tr>\n",
       "    <tr>\n",
       "      <th>12</th>\n",
       "      <td>Dungeon ni Deai wo Motomeru no wa Machigatteir...</td>\n",
       "      <td>Fourth season of .</td>\n",
       "      <td>4</td>\n",
       "    </tr>\n",
       "    <tr>\n",
       "      <th>17</th>\n",
       "      <td>Maou Gakuin no Futekigousha: Shijou Saikyou no...</td>\n",
       "      <td>Second half of .</td>\n",
       "      <td>4</td>\n",
       "    </tr>\n",
       "    <tr>\n",
       "      <th>28</th>\n",
       "      <td>Jashin-chan Dropkick X</td>\n",
       "      <td>Third season of .</td>\n",
       "      <td>4</td>\n",
       "    </tr>\n",
       "    <tr>\n",
       "      <th>32</th>\n",
       "      <td>Komi-san wa, Comyushou desu. 2nd Season</td>\n",
       "      <td>Second season of .</td>\n",
       "      <td>4</td>\n",
       "    </tr>\n",
       "    <tr>\n",
       "      <th>...</th>\n",
       "      <td>...</td>\n",
       "      <td>...</td>\n",
       "      <td>...</td>\n",
       "    </tr>\n",
       "    <tr>\n",
       "      <th>13327</th>\n",
       "      <td>Ladies versus Butlers! Tokuten Disc Music Clip</td>\n",
       "      <td>Special music clip released on DVD.</td>\n",
       "      <td>6</td>\n",
       "    </tr>\n",
       "    <tr>\n",
       "      <th>13328</th>\n",
       "      <td>JoJo no Kimyou na Bouken Part 5: Ougon no Kaze...</td>\n",
       "      <td>Recaps of the series.</td>\n",
       "      <td>4</td>\n",
       "    </tr>\n",
       "    <tr>\n",
       "      <th>13338</th>\n",
       "      <td>Sukitte Ii na yo.: Mei and Marshmallow</td>\n",
       "      <td>Specials released with the anime BD/DVD.</td>\n",
       "      <td>6</td>\n",
       "    </tr>\n",
       "    <tr>\n",
       "      <th>13353</th>\n",
       "      <td>IS: Infinite Stratos 2 - Infinite Wedding</td>\n",
       "      <td>Picture drama included on the Blu-ray BOX.</td>\n",
       "      <td>7</td>\n",
       "    </tr>\n",
       "    <tr>\n",
       "      <th>13369</th>\n",
       "      <td>Beatless Intermission</td>\n",
       "      <td>Recap episodes of .</td>\n",
       "      <td>4</td>\n",
       "    </tr>\n",
       "  </tbody>\n",
       "</table>\n",
       "<p>1055 rows × 3 columns</p>\n",
       "</div>"
      ],
      "text/plain": [
       "                                                   title  \\\n",
       "5                                    Watanuki-san Chi to   \n",
       "12     Dungeon ni Deai wo Motomeru no wa Machigatteir...   \n",
       "17     Maou Gakuin no Futekigousha: Shijou Saikyou no...   \n",
       "28                                Jashin-chan Dropkick X   \n",
       "32               Komi-san wa, Comyushou desu. 2nd Season   \n",
       "...                                                  ...   \n",
       "13327     Ladies versus Butlers! Tokuten Disc Music Clip   \n",
       "13328  JoJo no Kimyou na Bouken Part 5: Ougon no Kaze...   \n",
       "13338             Sukitte Ii na yo.: Mei and Marshmallow   \n",
       "13353          IS: Infinite Stratos 2 - Infinite Wedding   \n",
       "13369                              Beatless Intermission   \n",
       "\n",
       "                                         synopsis  synopsis_word_count  \n",
       "5                              Second season of .                    4  \n",
       "12                             Fourth season of .                    4  \n",
       "17                               Second half of .                    4  \n",
       "28                              Third season of .                    4  \n",
       "32                             Second season of .                    4  \n",
       "...                                           ...                  ...  \n",
       "13327         Special music clip released on DVD.                    6  \n",
       "13328                     Recaps of the series.                      4  \n",
       "13338    Specials released with the anime BD/DVD.                    6  \n",
       "13353  Picture drama included on the Blu-ray BOX.                    7  \n",
       "13369                         Recap episodes of .                    4  \n",
       "\n",
       "[1055 rows x 3 columns]"
      ]
     },
     "metadata": {},
     "output_type": "display_data"
    },
    {
     "name": "stdout",
     "output_type": "stream",
     "text": [
      "Cleaned df\n"
     ]
    },
    {
     "data": {
      "application/vnd.microsoft.datawrangler.viewer.v0+json": {
       "columns": [
        {
         "name": "index",
         "rawType": "int64",
         "type": "integer"
        },
        {
         "name": "anime_id",
         "rawType": "int64",
         "type": "integer"
        },
        {
         "name": "title",
         "rawType": "object",
         "type": "string"
        },
        {
         "name": "synopsis",
         "rawType": "object",
         "type": "string"
        },
        {
         "name": "genres",
         "rawType": "object",
         "type": "string"
        },
        {
         "name": "score",
         "rawType": "float64",
         "type": "float"
        },
        {
         "name": "synopsis_word_count",
         "rawType": "int64",
         "type": "integer"
        }
       ],
       "conversionMethod": "pd.DataFrame",
       "ref": "10346e38-3864-4d94-914c-fc9a5969f31f",
       "rows": [
        [
         "0",
         "2366",
         "Touma Kishinden Oni",
         "Shuramaru is hated and feared by the villagers for his unusual powers. He thinks he is human, but... is he?  (Source: AniDB)",
         "Supernatural",
         null,
         "22"
        ],
        [
         "1",
         "4940",
         "Sabaku no Kaizoku! Captain Kuppa",
         "Sometime in the future, the world was completely dried up and became all desert. They had little rivers and lakes left, which villians and dangerous animals lived. Water has become the most valueable thing on the world. Whoever can control water will rule over the world.  (Source: ANN)",
         "Action|Adventure",
         null,
         "48"
        ],
        [
         "2",
         "50285",
         "On Air Dekinai!",
         "Set in 2014, the anime follows the adventures of 23 years old Mafuneko, a newly minted assistant director who joins the TV production department at Tokyo Hajikko Television, only to discover that the glamorous and glitzy life of working behind-the-scenes making TV shows involves strange and inexplicable tasks such as \"gathering 300 acorns\" and \"making a mosaic out of the images reflected in the camera lens.\" Despite being surrounded by chaos, set-backs, and weirdos, Mafuneko struggles to become a fully-fledged TV producer.  (Source: Crunchyroll, edited)",
         "Comedy",
         null,
         "85"
        ],
        [
         "3",
         "3975",
         "Uchi no 3 Shimai",
         "The daily life of the Motsumoto family. The three sisters, Fuu, Suu, and Chii, follow what happens on a daily basis. Mother and Father have to deal with them sometimes, but they're used to it.",
         "Comedy|Slice of Life",
         null,
         "35"
        ],
        [
         "4",
         "36036",
         "Running Man",
         "The Soul Tree, the great source of our race.  But for its ultimate power and by those whose minds were blinded by it, it also became the catastrophic cause that had brought never-ending wars between the tribes. Tortured by the agonies of the wars, the leaders of the tribes finally came to a peace agreement that they would instead open a competition. Players, equipped with special watches and shields, compete against each other as winner’s tribe would be awarded with Materion, the sacred fruit of the Soul Tree.  These brave players, who throw themselves in this fierce fight, we call them the Runningman.  (Source: Official YouTube Channel)",
         "Action|Adventure|Kids",
         null,
         "107"
        ],
        [
         "8",
         "30417",
         "Panpaka Pants O-New!",
         "Follows a pig whose family's mission is to collect underpants.",
         "Comedy|Kids",
         null,
         "10"
        ],
        [
         "9",
         "38138",
         "Zhu Zhu Xia: Jing Qiu Xiao Yingxiong",
         "In honor of the 2018 World Cup, this season of GG Bond focuses on sports team competition, team spirit, and personal growth as they compete in the Meteor League.  ",
         "Sci-Fi|Sports|Super Power|Kids",
         null,
         "29"
        ],
        [
         "10",
         "36506",
         "Fuwafuwa Hour: Pui Pui & Muu Muu",
         "Fairies living in a fluffy forest, where both flowers and trees are fluffy. Follow a witch's trouble-maker apprentices Pui Pui and Muu Muu.",
         "Fantasy|Kids",
         null,
         "23"
        ],
        [
         "11",
         "37787",
         "Space Bug",
         "This story is about Mick, a sleeping chironomid. Insects are taken up into space for use in experiments by humans. An epic space adventure of Mick and his friends of their journey back home to Earth. The development plans and experiments are aborted by humans for no known reason, the organisms are left behind in the space station with limited resources. Going over hurdles and fighting through challenges, together, they travel across planets and gain new comrades, heading for Earth. As their journey progresses, the mystery behind the human’s abandonment unravels…  (Source: Crunchyroll)",
         "Adventure|Space",
         null,
         "93"
        ],
        [
         "13",
         "18227",
         "Bakujuu Gasshin Ziguru Hazeru",
         "The anime is based on MegaHouse's line of Ziguru Hazeru (literally, \"Jiggle and Pop Out\") mecha toys that allow people to remove parts from the joints and add different parts in their place. In addition, if one combines together Hazeru Gokuu, Hazeru Sagojo, and Hazeru Hakkai, the resulting mecha will be Hazeru Seioh, allowing for users to combine their toys together.  The ZIGURUHAZERU animated series is based on the upcoming original toy line of the same name from MegaHouse, featuring cool robot toys modelled after characters from the famous Journey to the West tale.",
         "Action|Mecha",
         null,
         "94"
        ],
        [
         "14",
         "5374",
         "Miracle! Mimika",
         "Himeno Mimika is a daughter of historical cook family. She goes to a cooking school, Miracle Academy which train cooks all over the world. Vying with rivals, she brings out her gift, and she grows up as a cook.  (Source: AnimeNfo)",
         "Gourmet|Slice of Life|Kids",
         null,
         "41"
        ],
        [
         "15",
         "40273",
         "Fuwa no go renkan",
         "Fuwa Beibei encounters the severely injured goddess, Athena. In order to help Athena regain strength, Beibei sets out to find a mysterious wooden box left by Coubertin in 1894, but the worrying thing is that Pixiu who injured his stomach from his glutinous eating habits heard this news too. He thought that this mysterious energy could not only cure his stomach, but also improve his magic, and such begins the journey through time and space of two spirits with different aims. After all the hardships, they found the sixth son of the dragon - Bixi, and after the two's efforts in passing his test, Bixi carries them along 100 years of Olympic history.",
         "Historical",
         null,
         "113"
        ],
        [
         "16",
         "41384",
         "Norimono Man: Mobile Land no Car-kun",
         "The anime will depict various vehicles as characters in the \"Mobile Land\" island. The protagonist Car-kun arrives at the island as a delivery worker. Through his deliveries, he gets to know the residents of Mobile Land, all while following traffic rules and having his deliveries stopped by the meddling Sabibi.  (Source: ANN)",
         "Comedy|Slice of Life|Cars|Kids",
         null,
         "52"
        ],
        [
         "20",
         "48363",
         "RPG Fudousan",
         "The story begins 15 years after the demon king was defeated and the world has become peaceful. Kotone, who graduated from school and became a magician, inquired about the kingdom-affiliated RPG Real Estate in order to find a new home. In reality, RPG Real Estate was Kotone's place of employment, and together with Fa, a demi-human, the priest Rufuria, and the soldier Rakira, they help support the searches of new homes for the customers with various circumstances.  (Source: MU, edited)",
         "Comedy|Fantasy|Slice of Life",
         null,
         "80"
        ],
        [
         "22",
         "49221",
         "Kick & Slide",
         "The third generation of J SOUL BROTHERS from EXILE TRIBE is reimagined as 7 unique and diverse characters in \"KICK & SLIDE\". This is a slapstick story where the characters solve difficult cases!? and rare cases!? that occur in the colorful and pop vibrant city \"Nakame Town\" with dance and music.  (Source: Official website)",
         "Music|Kids",
         null,
         "54"
        ],
        [
         "23",
         "9781",
         "Hyouga Senshi Gaislugger",
         "A cyborg warrior from an ancient Antarctic kingdom awakes 30000 years later from an accidental hibernation to find the Earth changed and an old alien enemy on the verge of invasion. It's up to Guyslugger to use his ancient technology to defeat the aliens.  (Source: AniDB)",
         "Action|Sci-Fi|Mecha",
         null,
         "46"
        ],
        [
         "24",
         "48770",
         "Hyper Positive Yogoremon",
         "The story centers on Otarou, a creature themed around dirt known as a yogoremon. It and other yogoremon ask the meaning of words and explain negative terms in positive ways.  (Source: ANN)",
         "Comedy",
         null,
         "32"
        ],
        [
         "25",
         "38525",
         "Chuldong! Super Wings",
         "follows the adventures of an adorable jet plane named Jett who travels around the world delivering packages to children. On every delivery, Jett encounters new problems that he must solve with the help of his friends the \"Super Wings\": Dizzy, Jerome and Donnie. Together, the team explores different countries and learns the diversity of new cultures.  (Source: Official YouTube channel)",
         "Adventure|Cars|Kids",
         null,
         "60"
        ],
        [
         "27",
         "30605",
         "Uwabaki Cook no Tekitou Uranai!",
         "A collaboration shorts that aired as part of Yomiuri TV's morning program block.",
         "Comedy",
         null,
         "13"
        ],
        [
         "29",
         "50220",
         "Isekai Shoukan wa Nidome desu",
         "There was once a man who was summoned to another world, and saved it. Of course, he became too popular there, and turned into an isekai-normie. However, that man fell into a \"trap\" and was forcibly returned to his original world. Moreover, he had to start over as a baby!  This is the story of the way-too-fantastic ex-hero who lived as a gloomy high-schooler, as he gets summoned once again to that same other world in a very unexpected development!  (Source: Coolmic, edited)",
         "Action|Adventure|Comedy|Fantasy|Romance|Harem",
         null,
         "83"
        ],
        [
         "31",
         "5278",
         "Totsugeki! Pappara-tai",
         "An elite soldier, whose nickname is God of Death, is transferred to another unit known as the PaPaRa Army. The PaPaRa Army is infamous for its elite but hilariously crazy members. There is no plot to speak of other than humour, hilarious brutality, and general nonsense. This is also Matsuzawa-sensei's debut work.",
         "Action|Adventure|Comedy|Romance|Sci-Fi",
         null,
         "52"
        ],
        [
         "34",
         "41101",
         "Poccolies",
         "The 2018 LINE sticker set Poccolies is inspiring a series of anime shorts. The story of the sticker set is that a positive and honest boy named Patsuhiko lives on Pokkori Island, along with the shrewd and mysterious Ham, and a reliable older brother figure named Kangaroo. The sticker set follows their daily lives.  (Source: ANN)",
         "Slice of Life|Kids",
         null,
         "56"
        ],
        [
         "36",
         "17423",
         "Pink Lady Monogatari: Eikou no Tenshi-tachi",
         "Based on the real life-story of Pink Lady, a female pop duo that rose to superstardom in the mid-1970's.  (Source: ANN)",
         "Drama|Slice of Life|Music",
         null,
         "21"
        ],
        [
         "38",
         "27393",
         "Kyuumei Senshi Nanosaver",
         "The third show in the Virtual Trilogy, a mix of anime and live action shots.  In the beginning of the 22nd century society advanced rapidly. Now even children are able to become real doctors, a task before that took two and a half decades to achieve. And nanomachines became prevalent to fight disease. Keita is a Nanosaver, a child doctor who uses the virtual world to apply life saving techniques by entering the body and treating the patients in a virtual medical station (VMS). As more and more patients are taken in, various mysterious are uncovered about them.  In the second half of the anime, a small Ethanarian alien and galactic federation is introduced.",
         "Adventure|Shounen",
         null,
         "114"
        ],
        [
         "40",
         "41440",
         "Anoyo no Subete wa, Obake-gumi!",
         "The gag anime takes place at a school for youkai and other supernatural beings. A vampire named Rakuru transfers to the school from the West, and she tries to change the school as the class representative.",
         "Comedy|Supernatural",
         null,
         "36"
        ],
        [
         "41",
         "30151",
         "Kamiusagi Rope: Warau Asa ni wa Fukuraitaru tte Maji ssuka!?",
         "Fourth season of Kamiusagi Rope, events occur after the feature film. Airs on Mezamashi TV instead of the theaters.",
         "Comedy|Slice of Life",
         null,
         "19"
        ],
        [
         "42",
         "38136",
         "Zhu Zhu Xia: Zhong Ji Jue Zhan - Qian Ye Pian",
         "A prequel TV series setting up for the feature film.  G.G. Bond's father while exploring ruins gets sucked into a dimension of evil through the Dark Gate. He is bestowed power and knowledge and becomes corrupted as the King of Darkness. Ancient monsters are sent through the cracks of the gate to attack G.G. Bond and his team as the 5 elemental powers are stronger than the King of Darkness. By weakening the team, only then can the King of Darkness forcibly open the gate to unless a reign of terror on the Fairy Tale world.",
         "Sci-Fi|Super Power|Kids",
         null,
         "96"
        ],
        [
         "43",
         "8025",
         "Chi-Sui Maru",
         "The offensive and defensive battles between Nobuo, an office worker, and Chi-Sui Maru, a mosquito.",
         "Comedy",
         null,
         "15"
        ],
        [
         "44",
         "32585",
         "Telemonster",
         "Korean Animation about the monsters Eerie, Rock-G, Popo, and Yossi and the adventures they go on each day!",
         "Adventure",
         null,
         "18"
        ],
        [
         "45",
         "35364",
         "Kkoma Sinseon Tao",
         "This Korean and Chinese co-production series focuses on Tao, a young boy with magical powers, as he attends school to become a wizard. Each episode was composed of two stories.  (Source: Wiki)",
         "Kids",
         null,
         "32"
        ],
        [
         "47",
         "38857",
         "Neko no Nyagh: Nya Misérables",
         "TV adaptation of Cocone Corporation's mobile puzzle game app.  Discover the adventures of the cat painter, Vincent van Meowogh who lives in a mansion in Paris surrounded by his quirky friends. Let's give him a spark of inspiration for his painting by completing puzzle stages, buy back the furniture and restore his home to its former glory!  (Source: ANN)",
         "Game|Kids",
         null,
         "59"
        ],
        [
         "48",
         "50380",
         "Paripi Koumei",
         "General of the Three Kingdoms, Kongming had struggled his whole life, facing countless battles that made him into the accomplished strategist he was. So on his deathbed, he wished only to be reborn into a peaceful world... and was sent straight to modern-day party-central, Tokyo! Can even a brilliant strategist like Kongming adapt to the wild beats and even wilder party people?!  (Source: Kodansha US, edited)",
         "Comedy",
         null,
         "66"
        ],
        [
         "49",
         "50346",
         "Yofukashi no Uta",
         "Kou Yamori seems like a typical middle school student on the surface. Relatively good at studies and amiable with his classmates, he puts a lot of effort into maintaining this facade. One day, however, he decides to stop pretending and quits school, developing insomnia as a result of having no daytime outlet for his energy. When taking walks alone at night, he feels marginally better, though he is aware that his inability to sleep should be considered a serious problem.  On one such walk, Kou meets a weird girl, Nazuna Nanakusa, who diagnoses the cause of his sleeplessness: despite making changes in his life, he is still holding himself back from experiencing true freedom. She says that he won't be able to sleep unless he is satisfied with how he spends his waking hours. When it appears that she has resolved his current worries, Nazuna invites him back to her apartment to share her futon. After a while, unaware that he is only feigning unconsciousness, she leans over him—and bites his neck!  ",
         "Romance|Supernatural|Vampire|Shounen",
         null,
         "172"
        ],
        [
         "51",
         "49556",
         "Love All Play",
         "Ryou Mizushima enrolls in junior high and joins the badminton club with great vigor. Although the club didn't have a proper coach, Mizushima improved his skills with his own physical strength by the time he participated in the prefectural tournament. Afterwards, he is approached by the Yokohama Minato High School's badminton coach, Ebihara.  Indecisive and timid, Mizushima hesitates to attend such a prestigious school. However, with his elder sister Rika giving him a strong push, he decides to go to Yokohama Minato. Now blessed with a coach and idiosyncratic teammates, Mizushima will gain experience he's lacked till now, and aims to win the inter-high tournament.  (Source: MAL News)",
         "Sports",
         null,
         "108"
        ],
        [
         "52",
         "49184",
         "Gunma-chan",
         "An anime series based on the Gunma Prefecture mascot character, Gunma-chan.  (Source: Anilist)",
         "Slice of Life",
         null,
         "13"
        ],
        [
         "53",
         "34309",
         "Nananin no Ayakashi: Chimi Chimi Mouryou!! Gendai Monogatari",
         "This show consists of shorts starring 7 characters created and voiced by the voice actors of the variety show \"Seiyuu Danshi desu ga...?\". The anime will be a slapstick comedy that follows seven spirits that come to the modern world.  (Source: ANN)",
         "Comedy|Supernatural",
         null,
         "42"
        ],
        [
         "55",
         "35920",
         "Hello Jadoo",
         "Hello Jadoo is a South-Korean TV show about a girl named Choi Jadoo who is a very free-spirited girl. In every episode, she would always get into drama, whether it was with her parents or school. At the same time, she meets new people and she tries to solve problems occurring.",
         "Slice of Life",
         null,
         "51"
        ],
        [
         "56",
         "50869",
         "Kami wa Game ni Ueteiru.",
         "The supreme Gods who had too much free time created the ultimate brain games \"Play of the Gods.\" Former Goddess Leche awoke from a long slumber and declared to the world, \"Bring forth the person who is the best in games in this era!\" Fay is nominated to represent humanity as the \"best rookie in recent years.\"  The \"Game of the Gods\" that is about to begin between the two may be a little too difficult, as there has yet to be a victor throughout human history, because Gods are capricious, very unreasonable, and sometimes completely incomprehensible. However, given the nature of the games, it would be a waste not to have a good time and play with all of one's heart! The ultimate brain battles of a genius gamer boy, a former Goddess, and friends begin!  (Source: MAL News)",
         "Fantasy|Ecchi|Game",
         null,
         "140"
        ],
        [
         "57",
         "44524",
         "Isekai Meikyuu de Harem wo",
         "Struggling with life and society, high school student Michio Kaga wanders about the Internet and lands on an odd website. The website, featuring a number of questions and a point based system, allows one to create skills and abilities for a character. Upon completing his character, Kaga was transported to a game-like fantasy world and reborn as a strong man who can claim idol-level girls. Thus begins the cheat and harem legend of a reborn man!  (Source: MAL News)",
         "Action|Adventure|Fantasy|Romance|Harem",
         null,
         "79"
        ],
        [
         "58",
         "50284",
         "Technoroid: Overmind",
         "Technoroid: Overmind is set in the Entertainment Tower Babel, a new hope found by those who have lost the joy of light as humanity's activities are restricted due to the large-scale climate change caused by the expanded sun. The anime depicts unique units and characters fighting for the top of Babel, pursuing emotions that move people and androids through performances.  (Source: MAL News)",
         "Music",
         null,
         "63"
        ],
        [
         "59",
         "39664",
         "Gifu no Tatekayoko",
         "The series revolves around life in Gifu Prefecture in central Japan — as seen through the eyes of Tatekayoko, a female inhabitant who speaks in the dialect of Gifu's Tounou region. The anime will air within the program on Tokyo MX.  (Source: ANN)",
         "Comedy|Kids",
         null,
         "43"
        ],
        [
         "61",
         "50606",
         "Ayakashi Triangle",
         "Matsuri Kazamaki and Suzu Kanade are childhood friends, bonded by their shared ability to see ayakashi—youkai in search of a life force to devour. However, in high school, their relationship deteriorates. As Suzu's one-sided feelings are growing, so is the difference in their ayakashi views: Matsuri considers all ayakashi a threat to his friend, while Suzu is an ayakashi medium—someone who exudes a significant amount of life force compared to the average human—and loves them all despite the risk.  When the two stumble upon a talking white cat named Shirogane, they are unaware that it is a four-hundred-year-old ayakashi known as the \"King of Ayakashi.\" He is hell-bent on gaining even more power by devouring Suzu, but as Matsuri swoops in to try and save her by sealing Shirogane's powers, the ayakashi uses a jutsu to turn him into a girl instead!  Matsuri vows to protect Suzu from further harm as her best friend, but he must learn how to act like a girl until his grandfather—a famous wind jutsu exorcist ninja—can undo the jutsu. Meanwhile, Suzu must work out her romantic feelings for Matsuri now that he is no longer a boy. But when Matsuri takes the king as his pet, the future of the two friends seems uncertain.  ",
         "Action|Comedy|Romance|Ecchi|Shounen",
         null,
         "210"
        ],
        [
         "62",
         "50384",
         "Mononogatari",
         "Tsukumogami—spirits or \"marebito\" can possess objects of considerable age and gain a physical form. Although he is part of the Saenome clan that is in charge of peacefully sending them back to their own world, Hyouma Kunato despises them because one took away what was very precious to him. In order to cure him of this loathing, Hyouma's grandfather sends him to live with Botan Nagatsuki, a girl who is the master of six \"friendly\" tsukumogami and lives with them as a family.  (Source: MU, edited)",
         "Action|Supernatural|Seinen",
         null,
         "86"
        ],
        [
         "63",
         "22893",
         "Mon Cheri CoCo",
         "A young woman aims to become a famous fashion designer.  (Source: AniDB)",
         "Romance|Shoujo",
         null,
         "12"
        ],
        [
         "64",
         "38363",
         "Ohayou Hakushon Daimaou",
         "The 3rd continuation of NTV's ZIP! anime parody shorts. This one focuses on . Like with the previous season, occasionally the Gatchaman team and now the Mazinger Z team show up in some episodes.",
         "Comedy|Parody",
         null,
         "34"
        ],
        [
         "65",
         "38075",
         "Titipo Titipo",
         "Say hi to Tayo's new friend - Titipo! Train Center's new born little train Titipo has just passed the driving examination and is prepared to work at the Train Village. Although Titipo dreams of becoming the best train in the world, his curious yet random personality catches him in unforeseen events and troubles everyday. Titipo expands his experience in the greater world and befriends Genie, Diesel, and other little trains. Will Titipo achieve his dream of becoming the best train? Come join the railroad journey and meet Titipo and the little train friends.  (Source: Official YouTube channel)",
         "Cars|Kids",
         null,
         "97"
        ],
        [
         "67",
         "41277",
         "Rainbow Ruby",
         "At Ruby's house, a small event related to the main plot of each episode occurs, before a red jewellery on the chest of Choco, Ruby's Teddy bear, flashes with a melody. Ruby then takes Choco to her room, and the two 'transport' themselves to the Rainbow Village. There, Ruby hears an explanation from Ling Ling, the mayor of Rainbow Village, and transforms herself using her Rainbow Roller into an appropriate clothing to solve problems. Each episode concludes, back home, with another small event.  (Source: AniDB) ",
         "Fantasy|Kids",
         null,
         "85"
        ],
        [
         "69",
         "34511",
         "Hei Mao Jing Zhang (1992)",
         "The series follows Officer Black Cat's adventures around the forest neighbourhood, apprehending criminals, dealing justice, and solving crimes.",
         "Action|Adventure|Comedy|Cars|Police|Kids",
         null,
         "18"
        ],
        [
         "74",
         "49891",
         "Tensei shitara Ken Deshita",
         "The hero of Tensei shitara Ken deshita differs from your standard otherworldly protagonist in that he is reincarnated as a sword! Beginning his quest by spawning in the middle of a beast-ridden forest, he encounters an injured girl frantically fleeing for her life. Saving her from her assailants, the pair acquaint themselves, and the girl introduces herself as Fran. She bears a heavy past, having endured the enslavement and maltreatment of her tribe, the Black Cats.  As the hero is unable to remember the name from his past life, the young and tenacious Fran bestows him the name \"Shishou\" and becomes his wielder. Thereafter, Shishou and Fran become a formidable team, embarking on quests to liberate the oppressed and exact justice!  ",
         "Action|Fantasy",
         null,
         "121"
        ],
        [
         "75",
         "47158",
         "Tomodachi no Imouto ga Ore ni dake Uzai",
         "If a girl teases you, that means she likes you!  Unfortunately, Akiteru knows from experience that isn't the case. Because every girl he interacts with shows him nothing but scorn, and he's not scored a single date from it! Luckily, he's more concerned with securing a spot for him and his game-development buddies at his uncle's business.  But when his uncle throws him a condition that involves playing the part of his daughter's boyfriend, Akiteru has no choice but to take it. What will his best friend's sister Iroha, who bullies him relentlessly, think of the news?  (Source: J-Novel Club)",
         "Comedy|Romance|School",
         null,
         "100"
        ]
       ],
       "shape": {
        "columns": 6,
        "rows": 11460
       }
      },
      "text/html": [
       "<div>\n",
       "<style scoped>\n",
       "    .dataframe tbody tr th:only-of-type {\n",
       "        vertical-align: middle;\n",
       "    }\n",
       "\n",
       "    .dataframe tbody tr th {\n",
       "        vertical-align: top;\n",
       "    }\n",
       "\n",
       "    .dataframe thead th {\n",
       "        text-align: right;\n",
       "    }\n",
       "</style>\n",
       "<table border=\"1\" class=\"dataframe\">\n",
       "  <thead>\n",
       "    <tr style=\"text-align: right;\">\n",
       "      <th></th>\n",
       "      <th>anime_id</th>\n",
       "      <th>title</th>\n",
       "      <th>synopsis</th>\n",
       "      <th>genres</th>\n",
       "      <th>score</th>\n",
       "      <th>synopsis_word_count</th>\n",
       "    </tr>\n",
       "  </thead>\n",
       "  <tbody>\n",
       "    <tr>\n",
       "      <th>0</th>\n",
       "      <td>2366</td>\n",
       "      <td>Touma Kishinden Oni</td>\n",
       "      <td>Shuramaru is hated and feared by the villagers...</td>\n",
       "      <td>Supernatural</td>\n",
       "      <td>NaN</td>\n",
       "      <td>22</td>\n",
       "    </tr>\n",
       "    <tr>\n",
       "      <th>1</th>\n",
       "      <td>4940</td>\n",
       "      <td>Sabaku no Kaizoku! Captain Kuppa</td>\n",
       "      <td>Sometime in the future, the world was complete...</td>\n",
       "      <td>Action|Adventure</td>\n",
       "      <td>NaN</td>\n",
       "      <td>48</td>\n",
       "    </tr>\n",
       "    <tr>\n",
       "      <th>2</th>\n",
       "      <td>50285</td>\n",
       "      <td>On Air Dekinai!</td>\n",
       "      <td>Set in 2014, the anime follows the adventures ...</td>\n",
       "      <td>Comedy</td>\n",
       "      <td>NaN</td>\n",
       "      <td>85</td>\n",
       "    </tr>\n",
       "    <tr>\n",
       "      <th>3</th>\n",
       "      <td>3975</td>\n",
       "      <td>Uchi no 3 Shimai</td>\n",
       "      <td>The daily life of the Motsumoto family. The th...</td>\n",
       "      <td>Comedy|Slice of Life</td>\n",
       "      <td>NaN</td>\n",
       "      <td>35</td>\n",
       "    </tr>\n",
       "    <tr>\n",
       "      <th>4</th>\n",
       "      <td>36036</td>\n",
       "      <td>Running Man</td>\n",
       "      <td>The Soul Tree, the great source of our race.  ...</td>\n",
       "      <td>Action|Adventure|Kids</td>\n",
       "      <td>NaN</td>\n",
       "      <td>107</td>\n",
       "    </tr>\n",
       "    <tr>\n",
       "      <th>...</th>\n",
       "      <td>...</td>\n",
       "      <td>...</td>\n",
       "      <td>...</td>\n",
       "      <td>...</td>\n",
       "      <td>...</td>\n",
       "      <td>...</td>\n",
       "    </tr>\n",
       "    <tr>\n",
       "      <th>13374</th>\n",
       "      <td>32188</td>\n",
       "      <td>Steins;Gate: Kyoukaimenjou no Missing Link - D...</td>\n",
       "      <td>Having reached his emotional breaking point, R...</td>\n",
       "      <td>Sci-Fi|Suspense</td>\n",
       "      <td>8.24</td>\n",
       "      <td>94</td>\n",
       "    </tr>\n",
       "    <tr>\n",
       "      <th>13375</th>\n",
       "      <td>31324</td>\n",
       "      <td>Grisaia no Meikyuu: Caprice no Mayu 0 - Takizo...</td>\n",
       "      <td>Special bundled with the Blu-ray/DVD volume of .</td>\n",
       "      <td>Ecchi</td>\n",
       "      <td>7.27</td>\n",
       "      <td>8</td>\n",
       "    </tr>\n",
       "    <tr>\n",
       "      <th>13376</th>\n",
       "      <td>31283</td>\n",
       "      <td>Bikini Warriors Special</td>\n",
       "      <td>According to the official Hobby Japan website,...</td>\n",
       "      <td>Comedy|Fantasy|Ecchi|Parody</td>\n",
       "      <td>5.36</td>\n",
       "      <td>28</td>\n",
       "    </tr>\n",
       "    <tr>\n",
       "      <th>13377</th>\n",
       "      <td>33142</td>\n",
       "      <td>Re:Zero kara Hajimeru Break Time</td>\n",
       "      <td>A series of comedic shorts featuring chibi ver...</td>\n",
       "      <td>Adventure|Comedy|Fantasy|Parody</td>\n",
       "      <td>6.66</td>\n",
       "      <td>15</td>\n",
       "    </tr>\n",
       "    <tr>\n",
       "      <th>13378</th>\n",
       "      <td>31234</td>\n",
       "      <td>Himouto! Umaru-chanS</td>\n",
       "      <td>These shorts, included in the Blu-ray and DVD ...</td>\n",
       "      <td>Comedy|Slice of Life|Seinen</td>\n",
       "      <td>7.02</td>\n",
       "      <td>17</td>\n",
       "    </tr>\n",
       "  </tbody>\n",
       "</table>\n",
       "<p>11460 rows × 6 columns</p>\n",
       "</div>"
      ],
      "text/plain": [
       "       anime_id                                              title  \\\n",
       "0          2366                                Touma Kishinden Oni   \n",
       "1          4940                   Sabaku no Kaizoku! Captain Kuppa   \n",
       "2         50285                                    On Air Dekinai!   \n",
       "3          3975                                   Uchi no 3 Shimai   \n",
       "4         36036                                        Running Man   \n",
       "...         ...                                                ...   \n",
       "13374     32188  Steins;Gate: Kyoukaimenjou no Missing Link - D...   \n",
       "13375     31324  Grisaia no Meikyuu: Caprice no Mayu 0 - Takizo...   \n",
       "13376     31283                            Bikini Warriors Special   \n",
       "13377     33142                   Re:Zero kara Hajimeru Break Time   \n",
       "13378     31234                               Himouto! Umaru-chanS   \n",
       "\n",
       "                                                synopsis  \\\n",
       "0      Shuramaru is hated and feared by the villagers...   \n",
       "1      Sometime in the future, the world was complete...   \n",
       "2      Set in 2014, the anime follows the adventures ...   \n",
       "3      The daily life of the Motsumoto family. The th...   \n",
       "4      The Soul Tree, the great source of our race.  ...   \n",
       "...                                                  ...   \n",
       "13374  Having reached his emotional breaking point, R...   \n",
       "13375   Special bundled with the Blu-ray/DVD volume of .   \n",
       "13376  According to the official Hobby Japan website,...   \n",
       "13377  A series of comedic shorts featuring chibi ver...   \n",
       "13378  These shorts, included in the Blu-ray and DVD ...   \n",
       "\n",
       "                                genres  score  synopsis_word_count  \n",
       "0                         Supernatural    NaN                   22  \n",
       "1                     Action|Adventure    NaN                   48  \n",
       "2                               Comedy    NaN                   85  \n",
       "3                 Comedy|Slice of Life    NaN                   35  \n",
       "4                Action|Adventure|Kids    NaN                  107  \n",
       "...                                ...    ...                  ...  \n",
       "13374                  Sci-Fi|Suspense   8.24                   94  \n",
       "13375                            Ecchi   7.27                    8  \n",
       "13376      Comedy|Fantasy|Ecchi|Parody   5.36                   28  \n",
       "13377  Adventure|Comedy|Fantasy|Parody   6.66                   15  \n",
       "13378      Comedy|Slice of Life|Seinen   7.02                   17  \n",
       "\n",
       "[11460 rows x 6 columns]"
      ]
     },
     "metadata": {},
     "output_type": "display_data"
    }
   ],
   "source": [
    "#Find incomplete synopsis \n",
    "\n",
    "\n",
    "# Compute number of words for each synopsis and add in another collumn\n",
    "df_cleaned.loc[:,'synopsis_word_count'] = df_cleaned['synopsis'].apply(lambda x: len(x.split()))\n",
    "display(df_cleaned)\n",
    "min_words=8\n",
    "print(\"Minimum number of words in a synopsis:\",min_words)\n",
    "\n",
    "short_synopsis = df_cleaned[df_cleaned['synopsis_word_count'] < min_words]\n",
    "display(short_synopsis[['title', 'synopsis', 'synopsis_word_count']])\n",
    "\n",
    "#IMPORTANT NOTE: Removing rows based on word count may remove some meaningful synopsis.\n",
    "#This problem can be solved if the model takes the anime title as the input and classifies the prompt from user based on synopsis and also anime titles\n",
    "#This removes the need of data cleaning due to incomplete synopsis\n",
    "#But for now, we remove every synopsis below 8 words\n",
    "\n",
    "print(\"Cleaned df\")\n",
    "df_cleaned = df_cleaned[df_cleaned['synopsis_word_count'] >= min_words]\n",
    "display(df_cleaned)\n"
   ]
  },
  {
   "cell_type": "code",
   "execution_count": 69,
   "metadata": {},
   "outputs": [
    {
     "data": {
      "application/vnd.microsoft.datawrangler.viewer.v0+json": {
       "columns": [
        {
         "name": "index",
         "rawType": "int64",
         "type": "integer"
        },
        {
         "name": "Genre",
         "rawType": "object",
         "type": "string"
        },
        {
         "name": "Count",
         "rawType": "int64",
         "type": "integer"
        }
       ],
       "conversionMethod": "pd.DataFrame",
       "ref": "5db2a92b-952a-45ca-8a5e-37dbf6985a4e",
       "rows": [
        [
         "3",
         "Comedy",
         "4426"
        ],
        [
         "1",
         "Action",
         "3075"
        ],
        [
         "9",
         "Fantasy",
         "2382"
        ],
        [
         "2",
         "Adventure",
         "2097"
        ],
        [
         "18",
         "Drama",
         "1982"
        ],
        [
         "6",
         "Sci-Fi",
         "1909"
        ],
        [
         "16",
         "Romance",
         "1625"
        ],
        [
         "19",
         "Shounen",
         "1570"
        ],
        [
         "4",
         "Slice of Life",
         "1499"
        ],
        [
         "27",
         "School",
         "1391"
        ],
        [
         "0",
         "Supernatural",
         "1265"
        ],
        [
         "42",
         "Hentai",
         "999"
        ],
        [
         "5",
         "Kids",
         "889"
        ],
        [
         "13",
         "Historical",
         "746"
        ],
        [
         "11",
         "Mecha",
         "741"
        ],
        [
         "23",
         "Seinen",
         "725"
        ],
        [
         "33",
         "Mystery",
         "630"
        ],
        [
         "22",
         "Ecchi",
         "629"
        ],
        [
         "15",
         "Music",
         "592"
        ],
        [
         "24",
         "Shoujo",
         "563"
        ],
        [
         "7",
         "Sports",
         "525"
        ],
        [
         "8",
         "Super Power",
         "506"
        ],
        [
         "25",
         "Parody",
         "456"
        ],
        [
         "36",
         "Military",
         "454"
        ],
        [
         "28",
         "Demons",
         "409"
        ],
        [
         "17",
         "Harem",
         "370"
        ],
        [
         "35",
         "Horror",
         "366"
        ],
        [
         "10",
         "Space",
         "338"
        ],
        [
         "20",
         "Game",
         "331"
        ],
        [
         "29",
         "Martial Arts",
         "323"
        ],
        [
         "32",
         "Psychological",
         "319"
        ],
        [
         "39",
         "Avant Garde",
         "265"
        ],
        [
         "26",
         "Police",
         "214"
        ],
        [
         "38",
         "Samurai",
         "146"
        ],
        [
         "37",
         "Boys Love",
         "137"
        ],
        [
         "34",
         "Suspense",
         "133"
        ],
        [
         "21",
         "Vampire",
         "127"
        ],
        [
         "40",
         "Girls Love",
         "101"
        ],
        [
         "14",
         "Cars",
         "100"
        ],
        [
         "30",
         "Josei",
         "89"
        ],
        [
         "12",
         "Gourmet",
         "82"
        ],
        [
         "41",
         "Erotica",
         "75"
        ],
        [
         "31",
         "Work Life",
         "7"
        ],
        [
         "43",
         "Award Winning",
         "7"
        ]
       ],
       "shape": {
        "columns": 2,
        "rows": 44
       }
      },
      "text/html": [
       "<div>\n",
       "<style scoped>\n",
       "    .dataframe tbody tr th:only-of-type {\n",
       "        vertical-align: middle;\n",
       "    }\n",
       "\n",
       "    .dataframe tbody tr th {\n",
       "        vertical-align: top;\n",
       "    }\n",
       "\n",
       "    .dataframe thead th {\n",
       "        text-align: right;\n",
       "    }\n",
       "</style>\n",
       "<table border=\"1\" class=\"dataframe\">\n",
       "  <thead>\n",
       "    <tr style=\"text-align: right;\">\n",
       "      <th></th>\n",
       "      <th>Genre</th>\n",
       "      <th>Count</th>\n",
       "    </tr>\n",
       "  </thead>\n",
       "  <tbody>\n",
       "    <tr>\n",
       "      <th>3</th>\n",
       "      <td>Comedy</td>\n",
       "      <td>4426</td>\n",
       "    </tr>\n",
       "    <tr>\n",
       "      <th>1</th>\n",
       "      <td>Action</td>\n",
       "      <td>3075</td>\n",
       "    </tr>\n",
       "    <tr>\n",
       "      <th>9</th>\n",
       "      <td>Fantasy</td>\n",
       "      <td>2382</td>\n",
       "    </tr>\n",
       "    <tr>\n",
       "      <th>2</th>\n",
       "      <td>Adventure</td>\n",
       "      <td>2097</td>\n",
       "    </tr>\n",
       "    <tr>\n",
       "      <th>18</th>\n",
       "      <td>Drama</td>\n",
       "      <td>1982</td>\n",
       "    </tr>\n",
       "    <tr>\n",
       "      <th>6</th>\n",
       "      <td>Sci-Fi</td>\n",
       "      <td>1909</td>\n",
       "    </tr>\n",
       "    <tr>\n",
       "      <th>16</th>\n",
       "      <td>Romance</td>\n",
       "      <td>1625</td>\n",
       "    </tr>\n",
       "    <tr>\n",
       "      <th>19</th>\n",
       "      <td>Shounen</td>\n",
       "      <td>1570</td>\n",
       "    </tr>\n",
       "    <tr>\n",
       "      <th>4</th>\n",
       "      <td>Slice of Life</td>\n",
       "      <td>1499</td>\n",
       "    </tr>\n",
       "    <tr>\n",
       "      <th>27</th>\n",
       "      <td>School</td>\n",
       "      <td>1391</td>\n",
       "    </tr>\n",
       "    <tr>\n",
       "      <th>0</th>\n",
       "      <td>Supernatural</td>\n",
       "      <td>1265</td>\n",
       "    </tr>\n",
       "    <tr>\n",
       "      <th>42</th>\n",
       "      <td>Hentai</td>\n",
       "      <td>999</td>\n",
       "    </tr>\n",
       "    <tr>\n",
       "      <th>5</th>\n",
       "      <td>Kids</td>\n",
       "      <td>889</td>\n",
       "    </tr>\n",
       "    <tr>\n",
       "      <th>13</th>\n",
       "      <td>Historical</td>\n",
       "      <td>746</td>\n",
       "    </tr>\n",
       "    <tr>\n",
       "      <th>11</th>\n",
       "      <td>Mecha</td>\n",
       "      <td>741</td>\n",
       "    </tr>\n",
       "    <tr>\n",
       "      <th>23</th>\n",
       "      <td>Seinen</td>\n",
       "      <td>725</td>\n",
       "    </tr>\n",
       "    <tr>\n",
       "      <th>33</th>\n",
       "      <td>Mystery</td>\n",
       "      <td>630</td>\n",
       "    </tr>\n",
       "    <tr>\n",
       "      <th>22</th>\n",
       "      <td>Ecchi</td>\n",
       "      <td>629</td>\n",
       "    </tr>\n",
       "    <tr>\n",
       "      <th>15</th>\n",
       "      <td>Music</td>\n",
       "      <td>592</td>\n",
       "    </tr>\n",
       "    <tr>\n",
       "      <th>24</th>\n",
       "      <td>Shoujo</td>\n",
       "      <td>563</td>\n",
       "    </tr>\n",
       "    <tr>\n",
       "      <th>7</th>\n",
       "      <td>Sports</td>\n",
       "      <td>525</td>\n",
       "    </tr>\n",
       "    <tr>\n",
       "      <th>8</th>\n",
       "      <td>Super Power</td>\n",
       "      <td>506</td>\n",
       "    </tr>\n",
       "    <tr>\n",
       "      <th>25</th>\n",
       "      <td>Parody</td>\n",
       "      <td>456</td>\n",
       "    </tr>\n",
       "    <tr>\n",
       "      <th>36</th>\n",
       "      <td>Military</td>\n",
       "      <td>454</td>\n",
       "    </tr>\n",
       "    <tr>\n",
       "      <th>28</th>\n",
       "      <td>Demons</td>\n",
       "      <td>409</td>\n",
       "    </tr>\n",
       "    <tr>\n",
       "      <th>17</th>\n",
       "      <td>Harem</td>\n",
       "      <td>370</td>\n",
       "    </tr>\n",
       "    <tr>\n",
       "      <th>35</th>\n",
       "      <td>Horror</td>\n",
       "      <td>366</td>\n",
       "    </tr>\n",
       "    <tr>\n",
       "      <th>10</th>\n",
       "      <td>Space</td>\n",
       "      <td>338</td>\n",
       "    </tr>\n",
       "    <tr>\n",
       "      <th>20</th>\n",
       "      <td>Game</td>\n",
       "      <td>331</td>\n",
       "    </tr>\n",
       "    <tr>\n",
       "      <th>29</th>\n",
       "      <td>Martial Arts</td>\n",
       "      <td>323</td>\n",
       "    </tr>\n",
       "    <tr>\n",
       "      <th>32</th>\n",
       "      <td>Psychological</td>\n",
       "      <td>319</td>\n",
       "    </tr>\n",
       "    <tr>\n",
       "      <th>39</th>\n",
       "      <td>Avant Garde</td>\n",
       "      <td>265</td>\n",
       "    </tr>\n",
       "    <tr>\n",
       "      <th>26</th>\n",
       "      <td>Police</td>\n",
       "      <td>214</td>\n",
       "    </tr>\n",
       "    <tr>\n",
       "      <th>38</th>\n",
       "      <td>Samurai</td>\n",
       "      <td>146</td>\n",
       "    </tr>\n",
       "    <tr>\n",
       "      <th>37</th>\n",
       "      <td>Boys Love</td>\n",
       "      <td>137</td>\n",
       "    </tr>\n",
       "    <tr>\n",
       "      <th>34</th>\n",
       "      <td>Suspense</td>\n",
       "      <td>133</td>\n",
       "    </tr>\n",
       "    <tr>\n",
       "      <th>21</th>\n",
       "      <td>Vampire</td>\n",
       "      <td>127</td>\n",
       "    </tr>\n",
       "    <tr>\n",
       "      <th>40</th>\n",
       "      <td>Girls Love</td>\n",
       "      <td>101</td>\n",
       "    </tr>\n",
       "    <tr>\n",
       "      <th>14</th>\n",
       "      <td>Cars</td>\n",
       "      <td>100</td>\n",
       "    </tr>\n",
       "    <tr>\n",
       "      <th>30</th>\n",
       "      <td>Josei</td>\n",
       "      <td>89</td>\n",
       "    </tr>\n",
       "    <tr>\n",
       "      <th>12</th>\n",
       "      <td>Gourmet</td>\n",
       "      <td>82</td>\n",
       "    </tr>\n",
       "    <tr>\n",
       "      <th>41</th>\n",
       "      <td>Erotica</td>\n",
       "      <td>75</td>\n",
       "    </tr>\n",
       "    <tr>\n",
       "      <th>31</th>\n",
       "      <td>Work Life</td>\n",
       "      <td>7</td>\n",
       "    </tr>\n",
       "    <tr>\n",
       "      <th>43</th>\n",
       "      <td>Award Winning</td>\n",
       "      <td>7</td>\n",
       "    </tr>\n",
       "  </tbody>\n",
       "</table>\n",
       "</div>"
      ],
      "text/plain": [
       "            Genre  Count\n",
       "3          Comedy   4426\n",
       "1          Action   3075\n",
       "9         Fantasy   2382\n",
       "2       Adventure   2097\n",
       "18          Drama   1982\n",
       "6          Sci-Fi   1909\n",
       "16        Romance   1625\n",
       "19        Shounen   1570\n",
       "4   Slice of Life   1499\n",
       "27         School   1391\n",
       "0    Supernatural   1265\n",
       "42         Hentai    999\n",
       "5            Kids    889\n",
       "13     Historical    746\n",
       "11          Mecha    741\n",
       "23         Seinen    725\n",
       "33        Mystery    630\n",
       "22          Ecchi    629\n",
       "15          Music    592\n",
       "24         Shoujo    563\n",
       "7          Sports    525\n",
       "8     Super Power    506\n",
       "25         Parody    456\n",
       "36       Military    454\n",
       "28         Demons    409\n",
       "17          Harem    370\n",
       "35         Horror    366\n",
       "10          Space    338\n",
       "20           Game    331\n",
       "29   Martial Arts    323\n",
       "32  Psychological    319\n",
       "39    Avant Garde    265\n",
       "26         Police    214\n",
       "38        Samurai    146\n",
       "37      Boys Love    137\n",
       "34       Suspense    133\n",
       "21        Vampire    127\n",
       "40     Girls Love    101\n",
       "14           Cars    100\n",
       "30          Josei     89\n",
       "12        Gourmet     82\n",
       "41        Erotica     75\n",
       "31      Work Life      7\n",
       "43  Award Winning      7"
      ]
     },
     "metadata": {},
     "output_type": "display_data"
    },
    {
     "name": "stdout",
     "output_type": "stream",
     "text": [
      "['Comedy', 'Action', 'Fantasy', 'Adventure', 'Drama', 'Sci-Fi', 'Romance', 'Shounen', 'Slice of Life', 'School', 'Supernatural', 'Hentai', 'Kids', 'Historical', 'Mecha', 'Seinen', 'Mystery', 'Ecchi', 'Music', 'Shoujo', 'Sports', 'Super Power', 'Parody', 'Military', 'Demons', 'Harem', 'Horror', 'Space', 'Game', 'Martial Arts', 'Psychological', 'Avant Garde', 'Police', 'Samurai', 'Boys Love', 'Suspense', 'Vampire', 'Girls Love', 'Cars', 'Josei', 'Gourmet', 'Erotica', 'Work Life', 'Award Winning']\n"
     ]
    }
   ],
   "source": [
    "#get the number of unique genres\n",
    "df_genres=df_cleaned\n",
    "# Split the genres and count occurrences\n",
    "from collections import Counter\n",
    "\n",
    "# Flatten the list of genres after splitting each row by '|'\n",
    "genre_counter = Counter(\n",
    "    genre.strip() \n",
    "    for genre_list in df_genres['genres'] \n",
    "    for genre in genre_list.split('|')\n",
    ")\n",
    "\n",
    "# Display the genre counts as a DataFrame for clarity\n",
    "genre_counts_df = pd.DataFrame(genre_counter.items(), columns=['Genre', 'Count']).sort_values(by='Count', ascending=False)\n",
    "display(genre_counts_df)\n",
    "genre_list = genre_counts_df['Genre'].tolist()\n",
    "print(genre_list)  # prints first 5 elements\n"
   ]
  }
 ],
 "metadata": {
  "kernelspec": {
   "display_name": "NLP_CW",
   "language": "python",
   "name": "python3"
  },
  "language_info": {
   "codemirror_mode": {
    "name": "ipython",
    "version": 3
   },
   "file_extension": ".py",
   "mimetype": "text/x-python",
   "name": "python",
   "nbconvert_exporter": "python",
   "pygments_lexer": "ipython3",
   "version": "3.12.7"
  }
 },
 "nbformat": 4,
 "nbformat_minor": 2
}
