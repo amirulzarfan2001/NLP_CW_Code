{
 "cells": [
  {
   "cell_type": "code",
   "execution_count": 1,
   "id": "aa069986",
   "metadata": {},
   "outputs": [
    {
     "name": "stderr",
     "output_type": "stream",
     "text": [
      "c:\\Users\\User\\anaconda3\\envs\\nlp_env\\lib\\site-packages\\tqdm\\auto.py:21: TqdmWarning: IProgress not found. Please update jupyter and ipywidgets. See https://ipywidgets.readthedocs.io/en/stable/user_install.html\n",
      "  from .autonotebook import tqdm as notebook_tqdm\n"
     ]
    },
    {
     "data": {
      "application/vnd.microsoft.datawrangler.viewer.v0+json": {
       "columns": [
        {
         "name": "index",
         "rawType": "int64",
         "type": "integer"
        },
        {
         "name": "title",
         "rawType": "object",
         "type": "string"
        },
        {
         "name": "synopsis",
         "rawType": "object",
         "type": "string"
        },
        {
         "name": "genres",
         "rawType": "object",
         "type": "unknown"
        },
        {
         "name": "index",
         "rawType": "int64",
         "type": "integer"
        }
       ],
       "conversionMethod": "pd.DataFrame",
       "ref": "c28175c8-49d0-48f9-8cc9-ae0366ae5ed2",
       "rows": [
        [
         "0",
         "Touma Kishinden Oni",
         "Shuramaru is hated and feared by the villagers for his unusual powers. He thinks he is human, but... is he?",
         "['Supernatural']",
         "0"
        ],
        [
         "1",
         "Sabaku no Kaizoku! Captain Kuppa",
         "Sometime in the future, the world was completely dried up and became all desert. They had little rivers and lakes left, which villians and dangerous animals lived. Water has become the most valueable thing on the world. Whoever can control water will rule over the world.",
         "['Action', 'Adventure']",
         "1"
        ],
        [
         "2",
         "On Air Dekinai!",
         "Set in 2014, the anime follows the adventures of 23 years old Mafuneko, a newly minted assistant director who joins the TV production department at Tokyo Hajikko Television, only to discover that the glamorous and glitzy life of working behind-the-scenes making TV shows involves strange and inexplicable tasks such as \"gathering 300 acorns\" and \"making a mosaic out of the images reflected in the camera lens.\" Despite being surrounded by chaos, set-backs, and weirdos, Mafuneko struggles to become a fully-fledged TV producer.",
         "['Comedy']",
         "2"
        ],
        [
         "3",
         "Space Bug",
         "This story is about Mick, a sleeping chironomid. Insects are taken up into space for use in experiments by humans. An epic space adventure of Mick and his friends of their journey back home to Earth. The development plans and experiments are aborted by humans for no known reason, the organisms are left behind in the space station with limited resources. Going over hurdles and fighting through challenges, together, they travel across planets and gain new comrades, heading for Earth. As their journey progresses, the mystery behind the human’s abandonment unravels…",
         "['Adventure']",
         "11"
        ],
        [
         "4",
         "Bakujuu Gasshin Ziguru Hazeru",
         "The anime is based on MegaHouse's line of Ziguru Hazeru (literally, \"Jiggle and Pop Out\") mecha toys that allow people to remove parts from the joints and add different parts in their place. In addition, if one combines together Hazeru Gokuu, Hazeru Sagojo, and Hazeru Hakkai, the resulting mecha will be Hazeru Seioh, allowing for users to combine their toys together.  The ZIGURUHAZERU animated series is based on the upcoming original toy line of the same name from MegaHouse, featuring cool robot toys modelled after characters from the famous Journey to the West tale.",
         "['Action', 'Mecha']",
         "13"
        ],
        [
         "5",
         "Miracle! Mimika",
         "Himeno Mimika is a daughter of historical cook family. She goes to a cooking school, Miracle Academy which train cooks all over the world. Vying with rivals, she brings out her gift, and she grows up as a cook.",
         "['Kids', 'Slice of Life']",
         "14"
        ],
        [
         "6",
         "Fuwa no go renkan",
         "Fuwa Beibei encounters the severely injured goddess, Athena. In order to help Athena regain strength, Beibei sets out to find a mysterious wooden box left by Coubertin in 1894, but the worrying thing is that Pixiu who injured his stomach from his glutinous eating habits heard this news too. He thought that this mysterious energy could not only cure his stomach, but also improve his magic, and such begins the journey through time and space of two spirits with different aims. After all the hardships, they found the sixth son of the dragon - Bixi, and after the two's efforts in passing his test, Bixi carries them along 100 years of Olympic history.",
         "['Historical']",
         "15"
        ],
        [
         "7",
         "Norimono Man: Mobile Land no Car-kun",
         "The anime will depict various vehicles as characters in the \"Mobile Land\" island. The protagonist Car-kun arrives at the island as a delivery worker. Through his deliveries, he gets to know the residents of Mobile Land, all while following traffic rules and having his deliveries stopped by the meddling Sabibi.",
         "['Comedy', 'Kids', 'Slice of Life']",
         "16"
        ],
        [
         "8",
         "Kick & Slide",
         "The third generation of J SOUL BROTHERS from EXILE TRIBE is reimagined as 7 unique and diverse characters in \"KICK & SLIDE\". This is a slapstick story where the characters solve difficult cases!? and rare cases!? that occur in the colorful and pop vibrant city \"Nakame Town\" with dance and music.",
         "['Kids', 'Music']",
         "22"
        ],
        [
         "9",
         "Isekai Shoukan wa Nidome desu",
         "There was once a man who was summoned to another world, and saved it. Of course, he became too popular there, and turned into an isekai-normie. However, that man fell into a \"trap\" and was forcibly returned to his original world. Moreover, he had to start over as a baby!  This is the story of the way-too-fantastic ex-hero who lived as a gloomy high-schooler, as he gets summoned once again to that same other world in a very unexpected development!",
         "['Action', 'Adventure', 'Comedy', 'Fantasy', 'Romance']",
         "29"
        ],
        [
         "10",
         "Anoyo no Subete wa, Obake-gumi!",
         "The gag anime takes place at a school for youkai and other supernatural beings. A vampire named Rakuru transfers to the school from the West, and she tries to change the school as the class representative.",
         "['Comedy', 'Supernatural']",
         "40"
        ],
        [
         "11",
         "Chi-Sui Maru",
         "The offensive and defensive battles between Nobuo, an office worker, and Chi-Sui Maru, a mosquito.",
         "['Comedy']",
         "43"
        ],
        [
         "12",
         "Neko no Nyagh: Nya Misérables",
         "TV adaptation of Cocone Corporation's mobile puzzle game app.  Discover the adventures of the cat painter, Vincent van Meowogh who lives in a mansion in Paris surrounded by his quirky friends. Let's give him a spark of inspiration for his painting by completing puzzle stages, buy back the furniture and restore his home to its former glory!",
         "['Kids']",
         "47"
        ],
        [
         "13",
         "Yofukashi no Uta",
         "Kou Yamori seems like a typical middle school student on the surface. Relatively good at studies and amiable with his classmates, he puts a lot of effort into maintaining this facade. One day, however, he decides to stop pretending and quits school, developing insomnia as a result of having no daytime outlet for his energy. When taking walks alone at night, he feels marginally better, though he is aware that his inability to sleep should be considered a serious problem.  On one such walk, Kou meets a weird girl, Nazuna Nanakusa, who diagnoses the cause of his sleeplessness: despite making changes in his life, he is still holding himself back from experiencing true freedom. She says that he won't be able to sleep unless he is satisfied with how he spends his waking hours. When it appears that she has resolved his current worries, Nazuna invites him back to her apartment to share her futon. After a while, unaware that he is only feigning unconsciousness, she leans over him—and bites his neck!",
         "['Romance', 'Shounen', 'Supernatural']",
         "49"
        ],
        [
         "14",
         "Love All Play",
         "Ryou Mizushima enrolls in junior high and joins the badminton club with great vigor. Although the club didn't have a proper coach, Mizushima improved his skills with his own physical strength by the time he participated in the prefectural tournament. Afterwards, he is approached by the Yokohama Minato High School's badminton coach, Ebihara.  Indecisive and timid, Mizushima hesitates to attend such a prestigious school. However, with his elder sister Rika giving him a strong push, he decides to go to Yokohama Minato. Now blessed with a coach and idiosyncratic teammates, Mizushima will gain experience he's lacked till now, and aims to win the inter-high tournament.",
         "['Sports']",
         "51"
        ],
        [
         "15",
         "Hello Jadoo",
         "Hello Jadoo is a South-Korean TV show about a girl named Choi Jadoo who is a very free-spirited girl. In every episode, she would always get into drama, whether it was with her parents or school. At the same time, she meets new people and she tries to solve problems occurring.",
         "['Slice of Life']",
         "55"
        ],
        [
         "16",
         "Isekai Meikyuu de Harem wo",
         "Struggling with life and society, high school student Michio Kaga wanders about the Internet and lands on an odd website. The website, featuring a number of questions and a point based system, allows one to create skills and abilities for a character. Upon completing his character, Kaga was transported to a game-like fantasy world and reborn as a strong man who can claim idol-level girls. Thus begins the cheat and harem legend of a reborn man!",
         "['Action', 'Adventure', 'Fantasy', 'Romance']",
         "57"
        ],
        [
         "17",
         "Gifu no Tatekayoko",
         "The series revolves around life in Gifu Prefecture in central Japan — as seen through the eyes of Tatekayoko, a female inhabitant who speaks in the dialect of Gifu's Tounou region. The anime will air within the program on Tokyo MX.",
         "['Comedy', 'Kids']",
         "59"
        ],
        [
         "18",
         "Ayakashi Triangle",
         "Matsuri Kazamaki and Suzu Kanade are childhood friends, bonded by their shared ability to see ayakashi—youkai in search of a life force to devour. However, in high school, their relationship deteriorates. As Suzu's one-sided feelings are growing, so is the difference in their ayakashi views: Matsuri considers all ayakashi a threat to his friend, while Suzu is an ayakashi medium—someone who exudes a significant amount of life force compared to the average human—and loves them all despite the risk.  When the two stumble upon a talking white cat named Shirogane, they are unaware that it is a four-hundred-year-old ayakashi known as the \"King of Ayakashi.\" He is hell-bent on gaining even more power by devouring Suzu, but as Matsuri swoops in to try and save her by sealing Shirogane's powers, the ayakashi uses a jutsu to turn him into a girl instead!  Matsuri vows to protect Suzu from further harm as her best friend, but he must learn how to act like a girl until his grandfather—a famous wind jutsu exorcist ninja—can undo the jutsu. Meanwhile, Suzu must work out her romantic feelings for Matsuri now that he is no longer a boy. But when Matsuri takes the king as his pet, the future of the two friends seems uncertain.",
         "['Action', 'Comedy', 'Romance', 'Shounen']",
         "61"
        ],
        [
         "19",
         "Mononogatari",
         "Tsukumogami—spirits or \"marebito\" can possess objects of considerable age and gain a physical form. Although he is part of the Saenome clan that is in charge of peacefully sending them back to their own world, Hyouma Kunato despises them because one took away what was very precious to him. In order to cure him of this loathing, Hyouma's grandfather sends him to live with Botan Nagatsuki, a girl who is the master of six \"friendly\" tsukumogami and lives with them as a family.",
         "['Action', 'Seinen', 'Supernatural']",
         "62"
        ],
        [
         "20",
         "Ohayou Hakushon Daimaou",
         "The 3rd continuation of NTV's ZIP! anime parody shorts. This one focuses on . Like with the previous season, occasionally the Gatchaman team and now the Mazinger Z team show up in some episodes.",
         "['Comedy']",
         "64"
        ],
        [
         "21",
         "Rainbow Ruby",
         "At Ruby's house, a small event related to the main plot of each episode occurs, before a red jewellery on the chest of Choco, Ruby's Teddy bear, flashes with a melody. Ruby then takes Choco to her room, and the two 'transport' themselves to the Rainbow Village. There, Ruby hears an explanation from Ling Ling, the mayor of Rainbow Village, and transforms herself using her Rainbow Roller into an appropriate clothing to solve problems. Each episode concludes, back home, with another small event.",
         "['Fantasy', 'Kids']",
         "67"
        ],
        [
         "22",
         "Xiao Hua Xian",
         "There is a mysterious power of the Holy Spirit hidden in the legendary continent of Labelle, and the way to get power is recorded in the book of flower, guard by numerous flower Fairy Kings,only the legendary magic ambassador is recognized to wake up the power, and use them to defeat evil. For this.The evil force,led by Jakarta,the Queen of Dark had start a war to the continent of Labelle.With the help of the Flower Goddess,Pupula and the tribe of gouring flower fairys, the fate of the continent of Labelle is linked with an Earth girl... Who is the legendary envoy XiaAnAn.",
         "['Kids']",
         "76"
        ],
        [
         "23",
         "Chainsaw Man",
         "Denji has a simple dream—to live a happy and peaceful life, spending time with a girl he likes. This is a far cry from reality, however, as Denji is forced by the yakuza into killing devils in order to pay off his crushing debts. Using his pet devil Pochita as a weapon, he is ready to do anything for a bit of cash.  Unfortunately, he has outlived his usefulness and is murdered by a devil in contract with the yakuza. However, in an unexpected turn of events, Pochita merges with Denji's dead body and grants him the powers of a chainsaw devil. Now able to transform parts of his body into chainsaws, a revived Denji uses his new abilities to quickly and brutally dispatch his enemies. Catching the eye of the official devil hunters who arrive at the scene, he is offered work at the Public Safety Bureau as one of them. Now with the means to face even the toughest of enemies, Denji will stop at nothing to achieve his simple teenage dreams.",
         "['Action', 'Adventure', 'Shounen']",
         "79"
        ],
        [
         "24",
         "Capsule Boy",
         "6.5-centimeter tall Degirdians fall to Earth in their spacecraft while chasing fugitives. Their spaceship transforms into a capsule toy stand near a toy store and a human boy accidentally takes home one of the aliens thinking it's a capsule toy. They befriend a human boy and try to figure out a way to get home all while fighting off the evil alien.",
         "['Kids', 'Sci-Fi']",
         "81"
        ],
        [
         "25",
         "Chara to Otamajakushi Shima",
         "The anime is set on the titular Musical Note Island, where the god of music is said to reside. The island is home to \"instrument animals,\" who are born from music energy, and have parts of their body composed of a musical instrument. One day, a witch arrives at the island. The warrior girl Cara must go on a journey to defeat the witch and win back the peace on the island.",
         "['Adventure', 'Fantasy', 'Kids']",
         "83"
        ],
        [
         "26",
         "Zhu Zhu Xia: Konglong Riji",
         "A more educational season of GG Bond. This season is composed of 2 arcs, each arc has 52 episodes.  GG Bond works on cleaning up some fossils at the lab as they'll be used in a museum exhibit. He uses a fossil to create a data coin that is compatible with his special jet. This allows for him to travel back in time to the original animal (a T-Rex) the fossil was made of. While GG Bond is ecstatic to learn about dinosaurs in-person (as well as mine more accurate data for the data coin), he didn't quite realize the danger he'd be in. He successfully gets out of this sticky situation but there's still a lot more dinosaurs he needs to get information on.",
         "['Historical', 'Kids', 'Sci-Fi', 'Super Power']",
         "89"
        ],
        [
         "27",
         "Ma-eum-uisoli",
         "While it may seem like a mere depiction of everyday life, The Sound of Your Heart is a comedy filled to the brim with wit, sarcasm, and parody. It gives no regard for the probable or realistic- it is a series of absurd situations that is sure to get a laugh out of every reader willing to suspend their sense of reality.",
         "['Comedy', 'Slice of Life']",
         "90"
        ],
        [
         "28",
         "Vazzrock The Animation",
         "The anime will follow two units from the Vazzrock series—Vazzy and Rock Down.",
         "['Music']",
         "96"
        ],
        [
         "29",
         "Huoli Shaonian Wang zhi Chuanqi Zaixian",
         "The 3rd animated season. It follows an entirely new story and new characters unrelated to the previous seasons. The previous seasons metaphorical usage of magic/spirit/chi to visualize yoyo battles has now become literal. The yoyo toys have spirit animals within them and the cast tries to return them to their world before the villains use them for evil purposes.  Leon has an argument with his classmate Gurido for trifle. At the advice of Catherine, Leon and Gurido decide to judge the victory or defeat through yoyo competition. The Daemon Tiger appears when Leon and Gurido begin to fight in the woods. Leon follows Daemon Tiger and work with it. With Daemon Tiger’s help, Leon defeats Gurido.",
         "['Fantasy', 'Kids']",
         "104"
        ],
        [
         "30",
         "Kemy",
         "is an animation series with some educational undertones targeting 5~7-year-old kids. The entire series is set against the backdrop of a supermarket. Viewing the animations, children will be able to imagine themselves in amidst all a supermarket has to offer. Children can join Kemy and his quest to figure out the answers to everyday questions. Buka and Chaka do not reprise their roles in this season.",
         "['Kids']",
         "105"
        ],
        [
         "31",
         "Manul no Yuube",
         "Within the nature \"Darwin Kita! Kikimono Shin Densetsu\" program on NHK1.5 airs the short , based on a web manga/comic of the same name. It following animal characters who visit the bar . The bar is run by the Mama who is a Pallas's cat ( ) and serviced by the hostess Tsunomin who is a Brazilian treehopper ( ).",
         "['Slice of Life']",
         "106"
        ],
        [
         "32",
         "Kami Kuzu☆Idol",
         "Yuuya, one half of the boy pop duo ZINGS, may be the laziest performer in the Japanese music industry. His partner is out there giving 110% every night (and, thankfully, he's quite popular), but Yuuya's half-assed, sloppy dancing, and his frankly hostile attitude toward the audience, has the fans hating him and his agent looking for any excuse to cut him loose. The career of a pop idol just isn't the path of easy leisure and adulation Yuuya expected...  After a particularly lifeless concert appearance, Yuuya meets a girl backstage. She's dressed to the nines in a colorful outfit, she's full of vim and vigor, and all she wants from life is to perform. There's just one problem: She's been dead for a year. This is the ghost of Asahi Mogami, the beloved singer whose time on the stage was tragically cut short, unless... If ghosts are real, is spirit possession really that much of a stretch?",
         "['Comedy', 'Music', 'Supernatural']",
         "107"
        ],
        [
         "33",
         "Awajishima no Shichifukujin",
         "The story centers on the Seven Gods of Fortune in Japanese mythology as they reside on Awaji Island in Hyogo. In the shorts' story, the Seven Gods of Fortune slack in their duties in heaven, and Susanoo-no-Mikoto banishes them to Awaji Island. In order to return to the heavenly realm, they must help bring happiness to humans and rebuild their virtue. The outcast gods reluctantly grant human wishes and accumulate points in their \"god phones\" to be able to return to heaven. They aim to perform good deeds on particularly auspicious days to maximize point accumulation. Despite their best efforts at accumulating virtue, sometimes the Seven Gods of Fortune end up bringing misfortune to humans. When they fail, they lose points, further prolonging their stay on Awaji Island.",
         "['Comedy', 'Kids', 'Supernatural']",
         "116"
        ],
        [
         "34",
         "Shiawase Haitatsu Taneko",
         "The story centers around a cat who answers people's wishes and delivers happiness. (\"Tane\" and \"neko\" are the Japanese words for \"seed\" and \"cat,\" respectively.)",
         "['Comedy']",
         "118"
        ],
        [
         "35",
         "Nanatsu no Maken ga Shihai suru",
         "In the world of magic, there exist deadly irreversible techniques commonly known as spellblades. These sparse and elusive spells, along with their casters, are shrouded in mystery and only their absolute lethality is known to the masses.  Every year, the spring blossom signifies a new intake of students to the prestigious magic school Kimberly. With reactions of awe and bewilderment, a ceremonious parade complete with magical beasts welcomes the newcomers to the institution. Among them is the mysterious Oliver Horn, whose indifference changes to fascination as he notices a peculiar figure—a girl wearing strange attire equipped with a Japanese sword.  From the entrance ceremony onward, Oliver realizes that not all is as it seems at Kimberly, as the emergence of labyrinths, monsters, and other threats endanger the new student body. Nanatsu no Maken ga Shihai suru explores the intertwined fates of two warriors as they uncover the dark truths that lurk within the walls of the academy.",
         "['Action', 'Fantasy', 'School']",
         "122"
        ],
        [
         "36",
         "Gonglyong Mecard",
         "is a spin-off-series of Mecard, based on the idea that dinosaurs didn't become extinct 65 million years ago, but transformed into mecanimals. Its characters don't have any relations to the cast from , and .",
         "['Adventure', 'Kids', 'Mecha']",
         "125"
        ],
        [
         "37",
         "Shima Kousaku no Asia Risshi-den",
         "How did Asia's most prominent entrepreneurs know when to grasp opportunities? And how did they overcome difficulties and attain their positions of power? This series uses the unconventional technique of blending actual documentary footage with CG animation to get a close-up look into the front lines and what lies behind the scenes of Asian business.  Our cartoon host is Shima Kosaku, a character from a popular Japanese business manga. He delves into the heart of the Asian economic market representing 4 billion people, to visit entrepreneurs who have survived turbulent times. Thai business magnate, Dhanin Chearavanont (Chairman of CP Group), and innovative Taiwanese semiconductor entrepreneur, Morris Chang (Chairman of TSMC), are among the many movers and shakers to be featured. Don't miss this opportunity to glimpse the dramatic lives of these media-shy business titans.",
         "['Drama', 'Seinen']",
         "132"
        ],
        [
         "38",
         "Tomodachi Game",
         "Yuuichi Katagiri has battled financial hardships his whole life but has learned to stay content and positive thanks to his close circle of friends. To keep a promise he made to them, Yuuichi saves up enough money to join them on the school trip. But when the gathered money mysteriously goes missing, suspicion falls on two of Yuuichi's friends: Shiho Sawaragi and Makoto Shibe, who were in charge of collecting the payments. Although innocent, Shiho and Makoto take responsibility for the failure to protect the money when no one else comes forward.  A few days later, Yuuichi and his friends receive mysterious letters which trick each of them into meeting up. Upon arrival, they are ambushed and knocked unconscious. They wake up in a mysterious room in the presence of \"Manabu-kun,\" a character from a controversial children's show that stopped airing due to its malicious content. He informs the group that one of them indirectly gathered them together in order to settle a large debt. They are to play a \"friendship game\": a series of games that will test the strength of their bond and trust in each other. As the group's faith wavers due to the growing number of secrets and betrayals, Yuuichi must figure out who of his \"friends\" he can actually trust and ultimately discover the identity of the traitor.",
         "['Shounen']",
         "134"
        ],
        [
         "39",
         "Shuukan Storyland",
         "This was an anthology program containing several different anime each week along with some non-animated segments. Several of the animated films were short series including: Nazo no Rouba [謎の老婆] (tvss), Meibugyou Bun-san [名奉行・文さん], Jo Keibu Jinguuji Youko [女警部・神宮寺葉子], Remon Suzumori's Soudanjo [鈴森なんでも相談所].",
         "['Comedy', 'Drama', 'Seinen', 'Slice of Life']",
         "141"
        ],
        [
         "40",
         "Chimimo",
         "The \"heart-warming comedy\" anime centers on Chimimo, who is a messenger of hell and a shape-shifting evil demon. Chimimo is one of 12 evil demons whose mission is to turn the human world into hell. The 12 demons along with \"Hell-san\" go to the human world, but Hell-san and Chimimo become freeloaders to a family of three sisters named Mutsumi, Hazuki, and Mei.",
         "['Comedy']",
         "144"
        ],
        [
         "41",
         "Ocha-ken: Hotto Monogatari",
         "The second series features the Tea Dogs interacting with humans.",
         "['Kids', 'Slice of Life']",
         "149"
        ],
        [
         "42",
         "Xingji Biaoche Wang",
         "Set in the future on the Yellow River Planet, the realm of car racing has advanced beyond Formula One-into the domain of the Galaxy Racers. Riders steer their simulator-racers which remotely control the actual customized speedsters hurtling around a track.  The hero, a teenager named Roy, was born to race and aspires to be the King of Galaxy Racers. But his guardian, his grandfather, sees a threat from and great danger in the evil and greedy Taz, the CEO of the Titan Space Navigation Auto Group which seeks to swallow or destroy all competitors, and whose Mosha Racing Team would just as ruthlessly run over and crush Roy under its thundering wheels. He arranges for him to join the good guys in the Matela Racing Team to race for the highest honors.  Many years ago, Ray’s father, Dr Renault, worked for the Titan Group and he invented the Galaxy Racers but he was against CEO Taz’s destructive greed. He tries to escape-and disappears! Monopolizing the technology and construction of the Racers, Taz, the Titan Group and Mosha Racing Team swallowed, crushed and beat all rival companies, racers and teams.  Desperately, Ray’s grandfather uses a secret design hidden by Dr Renault from Taz and builds for him a superior racer, The Lion King. But he has first to learn the skills and garner experience from racing at the highest levels. To acquire these qualities plus humility and resilience, he relies on his Matela friends who have their own cool cars, to help him. But arrayed against them are the Mosha baddies and their menacing machines.  In a series of hair-raising and nail-biting races with thrills & spills, growling engines, screeching wheels, burning rubber, smashing metal against metal, intense bitter rivalry, persevering friendships & loyalties forged in grueling teamwork and battle, Ray and Team Matela must conquer their fears and overcome the arrogant and powerful Team Mosha which uses cheating as a winning strategy.  Will justice prevail or evil triumph? Find out on The Galaxy Racers on a track near you!",
         "['Action', 'Adventure']",
         "150"
        ],
        [
         "43",
         "Sakuran Boy DT",
         "The Geisha Tokyo Entertainment company has announced on Wednesday it is producing and airing Sakuran Boy DT, \"Japan's first\" Flash-animated television series about a local costumed hero character. The name of the character is a wordplay on the Japanese translation for \"cherry boy\" — the Japanese slang for a male virgin — and the Sakuranbo television station in the northeastern Japanese city of Yamagata. The story revolves around Satou-kun, an ordinary high school boy who transforms into Sakuran Boy DT to rescue the mayor's daughter from the nefarious secret society Zaou. Sakuranbo has posted a trailer online, and the 11 five-minute weekly episodes will premiere on this station on January 14.",
         "['Comedy', 'Super Power']",
         "151"
        ],
        [
         "44",
         "Neko to Mata",
         "The series centers around two cats: a younger sister named Neko, and an older brother named Mata. Neko is a nekomata (a mythical two-tailed cat), innocently selfish, and spoiled by her brother. Mata is a neighborhood cat with an eartipped mark as a sign of being neutered. They meet under a streetlight in the city at night to talk.",
         "['Supernatural']",
         "157"
        ],
        [
         "45",
         "Okashi na Sabaku no Suna to Manu",
         "The story centers on the everyday life of the cats Suna and Manu, who live in a desert — a desert made of sugar instead of sand.",
         "['Comedy']",
         "167"
        ],
        [
         "46",
         "Mahoutsukai ni Narenakatta Onnanoko no Hanashi.",
         "Kurumi Mirai is in the first year of high school.  She has enrolled in junior high section of the Redrun Magic School, the world's only facility for mages that approved by International Mage League and able to work under royal families when graduates, and she was always top of the class. However, when she applies for the high school section and took the examination to get into a mage training class \"Ma-gumi (Mage Class)\", she wasn't able to get in in spite having full scores and was top of the class for the whole three years.  There are some students in the class next to her that takes that class. Among that there's someone she admires. How will Kurumi Mirai who has extraordinary brain but didn't get in to be a mage candidate try to overcome and grow up? What is the aim for Minami Suzuki, a loyal mage who suddenly appears to be the homeroom teacher? This is a relaxing story of her growth.",
         "['Drama', 'Fantasy', 'School', 'Slice of Life']",
         "169"
        ],
        [
         "47",
         "Zhu Zhu Xia: Wu Ling Shou Wei Zhe",
         "G.G. Bond finally won the appreciation of Princess Crystal and moved to Crystal City. But conspiracy traps lurk in the darkness out to frame G.G. Bond an ruin his good name.",
         "['Kids', 'Sci-Fi', 'Super Power']",
         "170"
        ],
        [
         "48",
         "Xiong Chumo: Chunri Dui Dui Peng",
         "Fourth season of .  Now that spring is in the air, the forest animals are back to frolicking amongst the freshly blooming flowers and busy at work planting new trees to add even more color to their luscious home. The bear brothers—Briar and Bramble, and all their friends are having a jolly great time basking in this colorful season; however, from time to time, they stumble across Logger Vick who will not give up. The bears, along with their little friends make it their mission to protect the forest. This always results in a lot of laughter, tears and of course, adventures aplenty!",
         "['Adventure', 'Comedy', 'Kids']",
         "174"
        ],
        [
         "49",
         "Pittanko! Nekozakana",
         "On a distant southern island, a fish (sakana) opened its mouth for a cat (neko), thus \"nekozakana\" (cat-fish) is born.",
         "['Comedy', 'Kids']",
         "175"
        ]
       ],
       "shape": {
        "columns": 4,
        "rows": 7120
       }
      },
      "text/html": [
       "<div>\n",
       "<style scoped>\n",
       "    .dataframe tbody tr th:only-of-type {\n",
       "        vertical-align: middle;\n",
       "    }\n",
       "\n",
       "    .dataframe tbody tr th {\n",
       "        vertical-align: top;\n",
       "    }\n",
       "\n",
       "    .dataframe thead th {\n",
       "        text-align: right;\n",
       "    }\n",
       "</style>\n",
       "<table border=\"1\" class=\"dataframe\">\n",
       "  <thead>\n",
       "    <tr style=\"text-align: right;\">\n",
       "      <th></th>\n",
       "      <th>title</th>\n",
       "      <th>synopsis</th>\n",
       "      <th>genres</th>\n",
       "      <th>index</th>\n",
       "    </tr>\n",
       "  </thead>\n",
       "  <tbody>\n",
       "    <tr>\n",
       "      <th>0</th>\n",
       "      <td>Touma Kishinden Oni</td>\n",
       "      <td>Shuramaru is hated and feared by the villagers...</td>\n",
       "      <td>[Supernatural]</td>\n",
       "      <td>0</td>\n",
       "    </tr>\n",
       "    <tr>\n",
       "      <th>1</th>\n",
       "      <td>Sabaku no Kaizoku! Captain Kuppa</td>\n",
       "      <td>Sometime in the future, the world was complete...</td>\n",
       "      <td>[Action, Adventure]</td>\n",
       "      <td>1</td>\n",
       "    </tr>\n",
       "    <tr>\n",
       "      <th>2</th>\n",
       "      <td>On Air Dekinai!</td>\n",
       "      <td>Set in 2014, the anime follows the adventures ...</td>\n",
       "      <td>[Comedy]</td>\n",
       "      <td>2</td>\n",
       "    </tr>\n",
       "    <tr>\n",
       "      <th>3</th>\n",
       "      <td>Space Bug</td>\n",
       "      <td>This story is about Mick, a sleeping chironomi...</td>\n",
       "      <td>[Adventure]</td>\n",
       "      <td>11</td>\n",
       "    </tr>\n",
       "    <tr>\n",
       "      <th>4</th>\n",
       "      <td>Bakujuu Gasshin Ziguru Hazeru</td>\n",
       "      <td>The anime is based on MegaHouse's line of Zigu...</td>\n",
       "      <td>[Action, Mecha]</td>\n",
       "      <td>13</td>\n",
       "    </tr>\n",
       "    <tr>\n",
       "      <th>...</th>\n",
       "      <td>...</td>\n",
       "      <td>...</td>\n",
       "      <td>...</td>\n",
       "      <td>...</td>\n",
       "    </tr>\n",
       "    <tr>\n",
       "      <th>7115</th>\n",
       "      <td>Zero no Tsukaima: Princesses no Rondo Picture ...</td>\n",
       "      <td>Picture Drama episodes included in each DVD vo...</td>\n",
       "      <td>[Action, Adventure, Comedy, Drama, Fantasy, Ro...</td>\n",
       "      <td>13363</td>\n",
       "    </tr>\n",
       "    <tr>\n",
       "      <th>7116</th>\n",
       "      <td>Natsume Yuujinchou Roku Specials</td>\n",
       "      <td>On a hot summer day, Takashi Natsume and his f...</td>\n",
       "      <td>[Drama, Shoujo, Slice of Life, Supernatural]</td>\n",
       "      <td>13368</td>\n",
       "    </tr>\n",
       "    <tr>\n",
       "      <th>7117</th>\n",
       "      <td>Gintama: Nanigoto mo Saiyo ga Kanjin nano de T...</td>\n",
       "      <td>Due to the arrival of aliens called the \"Amant...</td>\n",
       "      <td>[Action, Comedy, Historical, Mecha, Sci-Fi, Sh...</td>\n",
       "      <td>13372</td>\n",
       "    </tr>\n",
       "    <tr>\n",
       "      <th>7118</th>\n",
       "      <td>Naruto: Dai Katsugeki!! Yuki Hime Shinobu Houj...</td>\n",
       "      <td>The Konohagakure Grand Sports Festival has beg...</td>\n",
       "      <td>[Action, Comedy, Fantasy, Shounen, Sports]</td>\n",
       "      <td>13373</td>\n",
       "    </tr>\n",
       "    <tr>\n",
       "      <th>7119</th>\n",
       "      <td>Steins;Gate: Kyoukaimenjou no Missing Link - D...</td>\n",
       "      <td>Having reached his emotional breaking point, R...</td>\n",
       "      <td>[Sci-Fi]</td>\n",
       "      <td>13374</td>\n",
       "    </tr>\n",
       "  </tbody>\n",
       "</table>\n",
       "<p>7120 rows × 4 columns</p>\n",
       "</div>"
      ],
      "text/plain": [
       "                                                  title  \\\n",
       "0                                   Touma Kishinden Oni   \n",
       "1                      Sabaku no Kaizoku! Captain Kuppa   \n",
       "2                                       On Air Dekinai!   \n",
       "3                                             Space Bug   \n",
       "4                         Bakujuu Gasshin Ziguru Hazeru   \n",
       "...                                                 ...   \n",
       "7115  Zero no Tsukaima: Princesses no Rondo Picture ...   \n",
       "7116                   Natsume Yuujinchou Roku Specials   \n",
       "7117  Gintama: Nanigoto mo Saiyo ga Kanjin nano de T...   \n",
       "7118  Naruto: Dai Katsugeki!! Yuki Hime Shinobu Houj...   \n",
       "7119  Steins;Gate: Kyoukaimenjou no Missing Link - D...   \n",
       "\n",
       "                                               synopsis  \\\n",
       "0     Shuramaru is hated and feared by the villagers...   \n",
       "1     Sometime in the future, the world was complete...   \n",
       "2     Set in 2014, the anime follows the adventures ...   \n",
       "3     This story is about Mick, a sleeping chironomi...   \n",
       "4     The anime is based on MegaHouse's line of Zigu...   \n",
       "...                                                 ...   \n",
       "7115  Picture Drama episodes included in each DVD vo...   \n",
       "7116  On a hot summer day, Takashi Natsume and his f...   \n",
       "7117  Due to the arrival of aliens called the \"Amant...   \n",
       "7118  The Konohagakure Grand Sports Festival has beg...   \n",
       "7119  Having reached his emotional breaking point, R...   \n",
       "\n",
       "                                                 genres  index  \n",
       "0                                        [Supernatural]      0  \n",
       "1                                   [Action, Adventure]      1  \n",
       "2                                              [Comedy]      2  \n",
       "3                                           [Adventure]     11  \n",
       "4                                       [Action, Mecha]     13  \n",
       "...                                                 ...    ...  \n",
       "7115  [Action, Adventure, Comedy, Drama, Fantasy, Ro...  13363  \n",
       "7116       [Drama, Shoujo, Slice of Life, Supernatural]  13368  \n",
       "7117  [Action, Comedy, Historical, Mecha, Sci-Fi, Sh...  13372  \n",
       "7118         [Action, Comedy, Fantasy, Shounen, Sports]  13373  \n",
       "7119                                           [Sci-Fi]  13374  \n",
       "\n",
       "[7120 rows x 4 columns]"
      ]
     },
     "execution_count": 1,
     "metadata": {},
     "output_type": "execute_result"
    }
   ],
   "source": [
    "from my_import import *\n",
    "df_train = pd.read_csv('df_train.csv')\n",
    "df_val = pd.read_csv('df_val.csv')\n",
    "df_test = pd.read_csv('df_test.csv')\n",
    "final_cleaned_dataset_df=pd.read_csv('final_cleaned_dataset_df.csv')\n",
    "\n",
    "#Make sure the genre collumns is in lists not strings\n",
    "#NEED TO DO THIS EVERYTIME EXPORT DATASET\n",
    "df_train['genres'] = df_train['genres'].apply(lambda x: list(ast.literal_eval(x)))\n",
    "df_val['genres'] = df_val['genres'].apply(lambda x: list(ast.literal_eval(x)))\n",
    "df_test['genres'] = df_test['genres'].apply(lambda x: list(ast.literal_eval(x)))\n",
    "final_cleaned_dataset_df['genres'] = final_cleaned_dataset_df['genres'].apply(lambda x: list(ast.literal_eval(x)))\n",
    "df_train"
   ]
  },
  {
   "cell_type": "code",
   "execution_count": 2,
   "id": "9a2b181a",
   "metadata": {},
   "outputs": [
    {
     "name": "stdout",
     "output_type": "stream",
     "text": [
      "samples avg f1-score = 0.21680404597960476\n",
      "Jaccard Similarity: 0.16077615178760857\n",
      "Hit Rate: 0.4089632708075929\n"
     ]
    },
    {
     "name": "stderr",
     "output_type": "stream",
     "text": [
      "c:\\Users\\User\\anaconda3\\envs\\nlp_env\\lib\\site-packages\\sklearn\\metrics\\_classification.py:1565: UndefinedMetricWarning: Precision is ill-defined and being set to 0.0 in labels with no predicted samples. Use `zero_division` parameter to control this behavior.\n",
      "  _warn_prf(average, modifier, f\"{metric.capitalize()} is\", len(result))\n"
     ]
    }
   ],
   "source": [
    "#Top 5 genres in the dataset is Comedy, Action, Other Fantasy and Adventure\n",
    "\n",
    "#display(final_cleaned_dataset_df)\n",
    "mlb=MultiLabelBinarizer()\n",
    "y_true=mlb.fit_transform(final_cleaned_dataset_df['genres'])\n",
    "\n",
    "#print(\"Genre Labels:\", mlb.classes_)\n",
    "\n",
    "# Step 1: Find index of 'Comedy'\n",
    "comedy_index = list(mlb.classes_).index('Comedy')\n",
    "\n",
    "# Step 2: Create y_pred with all samples tagged as 'Comedy'\n",
    "# Same shape as y_true, but only 'Comedy' column is 1\n",
    "y_pred = np.zeros_like(y_true)\n",
    "y_pred[:, comedy_index] = 1\n",
    "\n",
    "print_report(y_true,y_pred,\"samples avg\",\"f1-score\",mlb)\n",
    "jaccard = jaccard_score(y_true, y_pred, average='samples')\n",
    "print(\"Jaccard Similarity:\", jaccard)\n",
    "hr = hit_rate(y_true, y_pred)\n",
    "print(\"Hit Rate:\", hr)\n"
   ]
  },
  {
   "cell_type": "code",
   "execution_count": 3,
   "id": "210c0957",
   "metadata": {},
   "outputs": [
    {
     "name": "stdout",
     "output_type": "stream",
     "text": [
      "\n",
      "Top-1 Genres: ['Comedy']\n",
      "F1 Score:       0.0290\n",
      "Jaccard Index:  0.0204\n",
      "Precision:      0.0204\n",
      "Recall:         0.0500\n",
      "Hamming Loss:   0.1540\n",
      "Hit Rate:       40.90%\n",
      "\n",
      "Top-2 Genres: ['Comedy', 'Action']\n",
      "F1 Score:       0.0528\n",
      "Jaccard Index:  0.0361\n",
      "Precision:      0.0361\n",
      "Recall:         0.1000\n",
      "Hamming Loss:   0.1728\n",
      "Hit Rate:       62.68%\n",
      "\n",
      "Top-3 Genres: ['Comedy', 'Action', 'Fantasy']\n",
      "F1 Score:       0.0720\n",
      "Jaccard Index:  0.0479\n",
      "Precision:      0.0479\n",
      "Recall:         0.1500\n",
      "Hamming Loss:   0.1991\n",
      "Hit Rate:       71.43%\n",
      "\n",
      "Top-4 Genres: ['Comedy', 'Action', 'Fantasy', 'Adventure']\n",
      "F1 Score:       0.0899\n",
      "Jaccard Index:  0.0588\n",
      "Precision:      0.0588\n",
      "Recall:         0.2000\n",
      "Hamming Loss:   0.2273\n",
      "Hit Rate:       75.11%\n",
      "\n",
      "Top-5 Genres: ['Comedy', 'Action', 'Fantasy', 'Adventure', 'Drama']\n",
      "F1 Score:       0.1070\n",
      "Jaccard Index:  0.0692\n",
      "Precision:      0.0692\n",
      "Recall:         0.2500\n",
      "Hamming Loss:   0.2566\n",
      "Hit Rate:       83.25%\n"
     ]
    }
   ],
   "source": [
    "from sklearn.metrics import f1_score, jaccard_score, precision_score, recall_score, hamming_loss\n",
    "import numpy as np\n",
    "\n",
    "# Define top N genres\n",
    "top_genres = ['Comedy', 'Action', 'Fantasy', 'Adventure', 'Drama']\n",
    "\n",
    "# Helper: create y_pred from selected top genres\n",
    "def create_y_pred(genre_list, mlb, y_true):\n",
    "    indices = [list(mlb.classes_).index(genre) for genre in genre_list]\n",
    "    y_pred = np.zeros_like(y_true)\n",
    "    y_pred[:, indices] = 1\n",
    "    return y_pred\n",
    "\n",
    "# Helper: calculate metrics\n",
    "def evaluate(y_true, y_pred):\n",
    "    f1 = f1_score(y_true, y_pred, average='macro')\n",
    "    jaccard = jaccard_score(y_true, y_pred, average='macro')\n",
    "    precision = precision_score(y_true, y_pred, average='macro', zero_division=0)\n",
    "    recall = recall_score(y_true, y_pred, average='macro', zero_division=0)\n",
    "    hamming = hamming_loss(y_true, y_pred)\n",
    "    hit_rate = (np.logical_and(y_true, y_pred).sum(axis=1) > 0).mean()\n",
    "    return f1, jaccard, precision, recall, hamming, hit_rate\n",
    "\n",
    "# Loop through Top-1 to Top-5\n",
    "for n in range(1, 6):\n",
    "    selected_genres = top_genres[:n]\n",
    "    y_pred = create_y_pred(selected_genres, mlb, y_true)\n",
    "    f1, jaccard, precision, recall, hamming, hit_rate = evaluate(y_true, y_pred)\n",
    "    \n",
    "    print(f\"\\nTop-{n} Genres: {selected_genres}\")\n",
    "    print(f\"F1 Score:       {f1:.4f}\")\n",
    "    print(f\"Jaccard Index:  {jaccard:.4f}\")\n",
    "    print(f\"Precision:      {precision:.4f}\")\n",
    "    print(f\"Recall:         {recall:.4f}\")\n",
    "    print(f\"Hamming Loss:   {hamming:.4f}\")\n",
    "    print(f\"Hit Rate:       {hit_rate * 100:.2f}%\")\n"
   ]
  },
  {
   "cell_type": "code",
   "execution_count": 3,
   "id": "fd066e6b",
   "metadata": {},
   "outputs": [
    {
     "name": "stdout",
     "output_type": "stream",
     "text": [
      "\n",
      "Top-1 Genres: ['Comedy']\n",
      "F1 Score:      0.1942\n",
      "Jaccard Index: 0.1417\n",
      "Hit Rate:      38.62%\n",
      "\n",
      "Top-2 Genres: ['Comedy', 'Action']\n",
      "F1 Score:      0.2416\n",
      "Jaccard Index: 0.1587\n",
      "Hit Rate:      57.40%\n",
      "\n",
      "Top-3 Genres: ['Comedy', 'Action', 'Other']\n",
      "F1 Score:      0.2680\n",
      "Jaccard Index: 0.1744\n",
      "Hit Rate:      66.47%\n"
     ]
    }
   ],
   "source": [
    "# Define top genres\n",
    "top1 = ['Comedy']\n",
    "top2 = ['Comedy', 'Action']\n",
    "top3 = ['Comedy', 'Action', 'Other']\n",
    "\n",
    "# Helper to create y_pred based on selected genres\n",
    "def create_y_pred(genre_list, mlb, y_true):\n",
    "    indices = [list(mlb.classes_).index(genre) for genre in genre_list]\n",
    "    y_pred = np.zeros_like(y_true)\n",
    "    y_pred[:, indices] = 1\n",
    "    return y_pred\n",
    "\n",
    "# Helper to compute metrics\n",
    "def evaluate(y_true, y_pred):\n",
    "    f1 = f1_score(y_true, y_pred, average='samples')\n",
    "    jaccard = jaccard_score(y_true, y_pred, average='samples')\n",
    "    hit_rate = (np.logical_and(y_true, y_pred).sum(axis=1) > 0).mean()\n",
    "    return f1, jaccard, hit_rate\n",
    "\n",
    "# Run evaluations\n",
    "for label_set, name in zip([top1, top2, top3], [\"Top-1\", \"Top-2\", \"Top-3\"]):\n",
    "    y_pred = create_y_pred(label_set, mlb, y_true)\n",
    "    f1, jaccard, hit_rate = evaluate(y_true, y_pred)\n",
    "    print(f\"\\n{name} Genres: {label_set}\")\n",
    "    print(f\"F1 Score:      {f1:.4f}\")\n",
    "    print(f\"Jaccard Index: {jaccard:.4f}\")\n",
    "    print(f\"Hit Rate:      {hit_rate*100:.2f}%\")"
   ]
  },
  {
   "cell_type": "code",
   "execution_count": 6,
   "id": "64d78e77",
   "metadata": {},
   "outputs": [
    {
     "name": "stdout",
     "output_type": "stream",
     "text": [
      "\n",
      "Top-1 Genres: ['Comedy']\n",
      "F1 Score:      0.0290\n",
      "Jaccard Index: 0.0204\n",
      "Hit Rate:      40.90%\n",
      "\n",
      "Top-2 Genres: ['Comedy', 'Action']\n",
      "F1 Score:      0.0528\n",
      "Jaccard Index: 0.0361\n",
      "Hit Rate:      62.68%\n",
      "\n",
      "Top-3 Genres: ['Comedy', 'Action', 'Fantasy']\n",
      "F1 Score:      0.0720\n",
      "Jaccard Index: 0.0479\n",
      "Hit Rate:      71.43%\n",
      "\n",
      "Top-4 Genres: ['Comedy', 'Action', 'Fantasy', 'Adventure']\n",
      "F1 Score:      0.0899\n",
      "Jaccard Index: 0.0588\n",
      "Hit Rate:      75.11%\n",
      "\n",
      "Top-5 Genres: ['Comedy', 'Action', 'Fantasy', 'Adventure', 'Drama']\n",
      "F1 Score:      0.1070\n",
      "Jaccard Index: 0.0692\n",
      "Hit Rate:      83.25%\n"
     ]
    }
   ],
   "source": [
    "# Define top N genres\n",
    "top_genres = ['Comedy', 'Action' ,'Fantasy', 'Adventure', 'Drama']\n",
    "\n",
    "# Helper: create y_pred from selected top genres\n",
    "def create_y_pred(genre_list, mlb, y_true):\n",
    "    indices = [list(mlb.classes_).index(genre) for genre in genre_list]\n",
    "    y_pred = np.zeros_like(y_true)\n",
    "    y_pred[:, indices] = 1\n",
    "    return y_pred\n",
    "\n",
    "# Helper: calculate metrics\n",
    "def evaluate(y_true, y_pred):\n",
    "    f1 = f1_score(y_true, y_pred, average='macro')\n",
    "    jaccard = jaccard_score(y_true, y_pred, average='macro')\n",
    "    hit_rate = (np.logical_and(y_true, y_pred).sum(axis=1) > 0).mean()\n",
    "    return f1, jaccard, hit_rate\n",
    "\n",
    "# Loop through Top-1 to Top-5\n",
    "for n in range(1, 6):\n",
    "    selected_genres = top_genres[:n]\n",
    "    y_pred = create_y_pred(selected_genres, mlb, y_true)\n",
    "    f1, jaccard, hit_rate = evaluate(y_true, y_pred)\n",
    "    \n",
    "    print(f\"\\nTop-{n} Genres: {selected_genres}\")\n",
    "    print(f\"F1 Score:      {f1:.4f}\")\n",
    "    print(f\"Jaccard Index: {jaccard:.4f}\")\n",
    "    print(f\"Hit Rate:      {hit_rate*100:.2f}%\")"
   ]
  }
 ],
 "metadata": {
  "kernelspec": {
   "display_name": "nlp_env",
   "language": "python",
   "name": "python3"
  },
  "language_info": {
   "codemirror_mode": {
    "name": "ipython",
    "version": 3
   },
   "file_extension": ".py",
   "mimetype": "text/x-python",
   "name": "python",
   "nbconvert_exporter": "python",
   "pygments_lexer": "ipython3",
   "version": "3.10.16"
  }
 },
 "nbformat": 4,
 "nbformat_minor": 5
}
