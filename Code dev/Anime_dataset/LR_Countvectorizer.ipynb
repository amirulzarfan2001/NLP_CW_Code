{
 "cells": [
  {
   "cell_type": "code",
   "execution_count": 2,
   "id": "8fe290e0",
   "metadata": {},
   "outputs": [
    {
     "name": "stderr",
     "output_type": "stream",
     "text": [
      "c:\\Users\\User\\anaconda3\\envs\\nlp_env\\lib\\site-packages\\tqdm\\auto.py:21: TqdmWarning: IProgress not found. Please update jupyter and ipywidgets. See https://ipywidgets.readthedocs.io/en/stable/user_install.html\n",
      "  from .autonotebook import tqdm as notebook_tqdm\n"
     ]
    },
    {
     "data": {
      "application/vnd.microsoft.datawrangler.viewer.v0+json": {
       "columns": [
        {
         "name": "index",
         "rawType": "int64",
         "type": "integer"
        },
        {
         "name": "title",
         "rawType": "object",
         "type": "string"
        },
        {
         "name": "synopsis",
         "rawType": "object",
         "type": "string"
        },
        {
         "name": "genres",
         "rawType": "object",
         "type": "unknown"
        },
        {
         "name": "index",
         "rawType": "int64",
         "type": "integer"
        }
       ],
       "conversionMethod": "pd.DataFrame",
       "ref": "d1f77346-d761-42cf-b7ed-6d7a6b4a90ef",
       "rows": [
        [
         "0",
         "Touma Kishinden Oni",
         "Shuramaru is hated and feared by the villagers for his unusual powers. He thinks he is human, but... is he?",
         "['Supernatural']",
         "0"
        ],
        [
         "1",
         "Sabaku no Kaizoku! Captain Kuppa",
         "Sometime in the future, the world was completely dried up and became all desert. They had little rivers and lakes left, which villians and dangerous animals lived. Water has become the most valueable thing on the world. Whoever can control water will rule over the world.",
         "['Action', 'Adventure']",
         "1"
        ],
        [
         "2",
         "On Air Dekinai!",
         "Set in 2014, the anime follows the adventures of 23 years old Mafuneko, a newly minted assistant director who joins the TV production department at Tokyo Hajikko Television, only to discover that the glamorous and glitzy life of working behind-the-scenes making TV shows involves strange and inexplicable tasks such as \"gathering 300 acorns\" and \"making a mosaic out of the images reflected in the camera lens.\" Despite being surrounded by chaos, set-backs, and weirdos, Mafuneko struggles to become a fully-fledged TV producer.",
         "['Comedy']",
         "2"
        ],
        [
         "3",
         "Space Bug",
         "This story is about Mick, a sleeping chironomid. Insects are taken up into space for use in experiments by humans. An epic space adventure of Mick and his friends of their journey back home to Earth. The development plans and experiments are aborted by humans for no known reason, the organisms are left behind in the space station with limited resources. Going over hurdles and fighting through challenges, together, they travel across planets and gain new comrades, heading for Earth. As their journey progresses, the mystery behind the human’s abandonment unravels…",
         "['Adventure']",
         "11"
        ],
        [
         "4",
         "Bakujuu Gasshin Ziguru Hazeru",
         "The anime is based on MegaHouse's line of Ziguru Hazeru (literally, \"Jiggle and Pop Out\") mecha toys that allow people to remove parts from the joints and add different parts in their place. In addition, if one combines together Hazeru Gokuu, Hazeru Sagojo, and Hazeru Hakkai, the resulting mecha will be Hazeru Seioh, allowing for users to combine their toys together.  The ZIGURUHAZERU animated series is based on the upcoming original toy line of the same name from MegaHouse, featuring cool robot toys modelled after characters from the famous Journey to the West tale.",
         "['Action', 'Mecha']",
         "13"
        ],
        [
         "5",
         "Miracle! Mimika",
         "Himeno Mimika is a daughter of historical cook family. She goes to a cooking school, Miracle Academy which train cooks all over the world. Vying with rivals, she brings out her gift, and she grows up as a cook.",
         "['Kids', 'Slice of Life']",
         "14"
        ],
        [
         "6",
         "Fuwa no go renkan",
         "Fuwa Beibei encounters the severely injured goddess, Athena. In order to help Athena regain strength, Beibei sets out to find a mysterious wooden box left by Coubertin in 1894, but the worrying thing is that Pixiu who injured his stomach from his glutinous eating habits heard this news too. He thought that this mysterious energy could not only cure his stomach, but also improve his magic, and such begins the journey through time and space of two spirits with different aims. After all the hardships, they found the sixth son of the dragon - Bixi, and after the two's efforts in passing his test, Bixi carries them along 100 years of Olympic history.",
         "['Historical']",
         "15"
        ],
        [
         "7",
         "Norimono Man: Mobile Land no Car-kun",
         "The anime will depict various vehicles as characters in the \"Mobile Land\" island. The protagonist Car-kun arrives at the island as a delivery worker. Through his deliveries, he gets to know the residents of Mobile Land, all while following traffic rules and having his deliveries stopped by the meddling Sabibi.",
         "['Comedy', 'Kids', 'Slice of Life']",
         "16"
        ],
        [
         "8",
         "Kick & Slide",
         "The third generation of J SOUL BROTHERS from EXILE TRIBE is reimagined as 7 unique and diverse characters in \"KICK & SLIDE\". This is a slapstick story where the characters solve difficult cases!? and rare cases!? that occur in the colorful and pop vibrant city \"Nakame Town\" with dance and music.",
         "['Kids', 'Music']",
         "22"
        ],
        [
         "9",
         "Isekai Shoukan wa Nidome desu",
         "There was once a man who was summoned to another world, and saved it. Of course, he became too popular there, and turned into an isekai-normie. However, that man fell into a \"trap\" and was forcibly returned to his original world. Moreover, he had to start over as a baby!  This is the story of the way-too-fantastic ex-hero who lived as a gloomy high-schooler, as he gets summoned once again to that same other world in a very unexpected development!",
         "['Action', 'Adventure', 'Comedy', 'Fantasy', 'Romance']",
         "29"
        ],
        [
         "10",
         "Anoyo no Subete wa, Obake-gumi!",
         "The gag anime takes place at a school for youkai and other supernatural beings. A vampire named Rakuru transfers to the school from the West, and she tries to change the school as the class representative.",
         "['Comedy', 'Supernatural']",
         "40"
        ],
        [
         "11",
         "Chi-Sui Maru",
         "The offensive and defensive battles between Nobuo, an office worker, and Chi-Sui Maru, a mosquito.",
         "['Comedy']",
         "43"
        ],
        [
         "12",
         "Neko no Nyagh: Nya Misérables",
         "TV adaptation of Cocone Corporation's mobile puzzle game app.  Discover the adventures of the cat painter, Vincent van Meowogh who lives in a mansion in Paris surrounded by his quirky friends. Let's give him a spark of inspiration for his painting by completing puzzle stages, buy back the furniture and restore his home to its former glory!",
         "['Kids']",
         "47"
        ],
        [
         "13",
         "Yofukashi no Uta",
         "Kou Yamori seems like a typical middle school student on the surface. Relatively good at studies and amiable with his classmates, he puts a lot of effort into maintaining this facade. One day, however, he decides to stop pretending and quits school, developing insomnia as a result of having no daytime outlet for his energy. When taking walks alone at night, he feels marginally better, though he is aware that his inability to sleep should be considered a serious problem.  On one such walk, Kou meets a weird girl, Nazuna Nanakusa, who diagnoses the cause of his sleeplessness: despite making changes in his life, he is still holding himself back from experiencing true freedom. She says that he won't be able to sleep unless he is satisfied with how he spends his waking hours. When it appears that she has resolved his current worries, Nazuna invites him back to her apartment to share her futon. After a while, unaware that he is only feigning unconsciousness, she leans over him—and bites his neck!",
         "['Romance', 'Shounen', 'Supernatural']",
         "49"
        ],
        [
         "14",
         "Love All Play",
         "Ryou Mizushima enrolls in junior high and joins the badminton club with great vigor. Although the club didn't have a proper coach, Mizushima improved his skills with his own physical strength by the time he participated in the prefectural tournament. Afterwards, he is approached by the Yokohama Minato High School's badminton coach, Ebihara.  Indecisive and timid, Mizushima hesitates to attend such a prestigious school. However, with his elder sister Rika giving him a strong push, he decides to go to Yokohama Minato. Now blessed with a coach and idiosyncratic teammates, Mizushima will gain experience he's lacked till now, and aims to win the inter-high tournament.",
         "['Sports']",
         "51"
        ],
        [
         "15",
         "Hello Jadoo",
         "Hello Jadoo is a South-Korean TV show about a girl named Choi Jadoo who is a very free-spirited girl. In every episode, she would always get into drama, whether it was with her parents or school. At the same time, she meets new people and she tries to solve problems occurring.",
         "['Slice of Life']",
         "55"
        ],
        [
         "16",
         "Isekai Meikyuu de Harem wo",
         "Struggling with life and society, high school student Michio Kaga wanders about the Internet and lands on an odd website. The website, featuring a number of questions and a point based system, allows one to create skills and abilities for a character. Upon completing his character, Kaga was transported to a game-like fantasy world and reborn as a strong man who can claim idol-level girls. Thus begins the cheat and harem legend of a reborn man!",
         "['Action', 'Adventure', 'Fantasy', 'Romance']",
         "57"
        ],
        [
         "17",
         "Gifu no Tatekayoko",
         "The series revolves around life in Gifu Prefecture in central Japan — as seen through the eyes of Tatekayoko, a female inhabitant who speaks in the dialect of Gifu's Tounou region. The anime will air within the program on Tokyo MX.",
         "['Comedy', 'Kids']",
         "59"
        ],
        [
         "18",
         "Ayakashi Triangle",
         "Matsuri Kazamaki and Suzu Kanade are childhood friends, bonded by their shared ability to see ayakashi—youkai in search of a life force to devour. However, in high school, their relationship deteriorates. As Suzu's one-sided feelings are growing, so is the difference in their ayakashi views: Matsuri considers all ayakashi a threat to his friend, while Suzu is an ayakashi medium—someone who exudes a significant amount of life force compared to the average human—and loves them all despite the risk.  When the two stumble upon a talking white cat named Shirogane, they are unaware that it is a four-hundred-year-old ayakashi known as the \"King of Ayakashi.\" He is hell-bent on gaining even more power by devouring Suzu, but as Matsuri swoops in to try and save her by sealing Shirogane's powers, the ayakashi uses a jutsu to turn him into a girl instead!  Matsuri vows to protect Suzu from further harm as her best friend, but he must learn how to act like a girl until his grandfather—a famous wind jutsu exorcist ninja—can undo the jutsu. Meanwhile, Suzu must work out her romantic feelings for Matsuri now that he is no longer a boy. But when Matsuri takes the king as his pet, the future of the two friends seems uncertain.",
         "['Action', 'Comedy', 'Romance', 'Shounen']",
         "61"
        ],
        [
         "19",
         "Mononogatari",
         "Tsukumogami—spirits or \"marebito\" can possess objects of considerable age and gain a physical form. Although he is part of the Saenome clan that is in charge of peacefully sending them back to their own world, Hyouma Kunato despises them because one took away what was very precious to him. In order to cure him of this loathing, Hyouma's grandfather sends him to live with Botan Nagatsuki, a girl who is the master of six \"friendly\" tsukumogami and lives with them as a family.",
         "['Action', 'Seinen', 'Supernatural']",
         "62"
        ],
        [
         "20",
         "Ohayou Hakushon Daimaou",
         "The 3rd continuation of NTV's ZIP! anime parody shorts. This one focuses on . Like with the previous season, occasionally the Gatchaman team and now the Mazinger Z team show up in some episodes.",
         "['Comedy']",
         "64"
        ],
        [
         "21",
         "Rainbow Ruby",
         "At Ruby's house, a small event related to the main plot of each episode occurs, before a red jewellery on the chest of Choco, Ruby's Teddy bear, flashes with a melody. Ruby then takes Choco to her room, and the two 'transport' themselves to the Rainbow Village. There, Ruby hears an explanation from Ling Ling, the mayor of Rainbow Village, and transforms herself using her Rainbow Roller into an appropriate clothing to solve problems. Each episode concludes, back home, with another small event.",
         "['Fantasy', 'Kids']",
         "67"
        ],
        [
         "22",
         "Xiao Hua Xian",
         "There is a mysterious power of the Holy Spirit hidden in the legendary continent of Labelle, and the way to get power is recorded in the book of flower, guard by numerous flower Fairy Kings,only the legendary magic ambassador is recognized to wake up the power, and use them to defeat evil. For this.The evil force,led by Jakarta,the Queen of Dark had start a war to the continent of Labelle.With the help of the Flower Goddess,Pupula and the tribe of gouring flower fairys, the fate of the continent of Labelle is linked with an Earth girl... Who is the legendary envoy XiaAnAn.",
         "['Kids']",
         "76"
        ],
        [
         "23",
         "Chainsaw Man",
         "Denji has a simple dream—to live a happy and peaceful life, spending time with a girl he likes. This is a far cry from reality, however, as Denji is forced by the yakuza into killing devils in order to pay off his crushing debts. Using his pet devil Pochita as a weapon, he is ready to do anything for a bit of cash.  Unfortunately, he has outlived his usefulness and is murdered by a devil in contract with the yakuza. However, in an unexpected turn of events, Pochita merges with Denji's dead body and grants him the powers of a chainsaw devil. Now able to transform parts of his body into chainsaws, a revived Denji uses his new abilities to quickly and brutally dispatch his enemies. Catching the eye of the official devil hunters who arrive at the scene, he is offered work at the Public Safety Bureau as one of them. Now with the means to face even the toughest of enemies, Denji will stop at nothing to achieve his simple teenage dreams.",
         "['Action', 'Adventure', 'Shounen']",
         "79"
        ],
        [
         "24",
         "Capsule Boy",
         "6.5-centimeter tall Degirdians fall to Earth in their spacecraft while chasing fugitives. Their spaceship transforms into a capsule toy stand near a toy store and a human boy accidentally takes home one of the aliens thinking it's a capsule toy. They befriend a human boy and try to figure out a way to get home all while fighting off the evil alien.",
         "['Kids', 'Sci-Fi']",
         "81"
        ],
        [
         "25",
         "Chara to Otamajakushi Shima",
         "The anime is set on the titular Musical Note Island, where the god of music is said to reside. The island is home to \"instrument animals,\" who are born from music energy, and have parts of their body composed of a musical instrument. One day, a witch arrives at the island. The warrior girl Cara must go on a journey to defeat the witch and win back the peace on the island.",
         "['Adventure', 'Fantasy', 'Kids']",
         "83"
        ],
        [
         "26",
         "Zhu Zhu Xia: Konglong Riji",
         "A more educational season of GG Bond. This season is composed of 2 arcs, each arc has 52 episodes.  GG Bond works on cleaning up some fossils at the lab as they'll be used in a museum exhibit. He uses a fossil to create a data coin that is compatible with his special jet. This allows for him to travel back in time to the original animal (a T-Rex) the fossil was made of. While GG Bond is ecstatic to learn about dinosaurs in-person (as well as mine more accurate data for the data coin), he didn't quite realize the danger he'd be in. He successfully gets out of this sticky situation but there's still a lot more dinosaurs he needs to get information on.",
         "['Historical', 'Kids', 'Sci-Fi', 'Super Power']",
         "89"
        ],
        [
         "27",
         "Ma-eum-uisoli",
         "While it may seem like a mere depiction of everyday life, The Sound of Your Heart is a comedy filled to the brim with wit, sarcasm, and parody. It gives no regard for the probable or realistic- it is a series of absurd situations that is sure to get a laugh out of every reader willing to suspend their sense of reality.",
         "['Comedy', 'Slice of Life']",
         "90"
        ],
        [
         "28",
         "Vazzrock The Animation",
         "The anime will follow two units from the Vazzrock series—Vazzy and Rock Down.",
         "['Music']",
         "96"
        ],
        [
         "29",
         "Huoli Shaonian Wang zhi Chuanqi Zaixian",
         "The 3rd animated season. It follows an entirely new story and new characters unrelated to the previous seasons. The previous seasons metaphorical usage of magic/spirit/chi to visualize yoyo battles has now become literal. The yoyo toys have spirit animals within them and the cast tries to return them to their world before the villains use them for evil purposes.  Leon has an argument with his classmate Gurido for trifle. At the advice of Catherine, Leon and Gurido decide to judge the victory or defeat through yoyo competition. The Daemon Tiger appears when Leon and Gurido begin to fight in the woods. Leon follows Daemon Tiger and work with it. With Daemon Tiger’s help, Leon defeats Gurido.",
         "['Fantasy', 'Kids']",
         "104"
        ],
        [
         "30",
         "Kemy",
         "is an animation series with some educational undertones targeting 5~7-year-old kids. The entire series is set against the backdrop of a supermarket. Viewing the animations, children will be able to imagine themselves in amidst all a supermarket has to offer. Children can join Kemy and his quest to figure out the answers to everyday questions. Buka and Chaka do not reprise their roles in this season.",
         "['Kids']",
         "105"
        ],
        [
         "31",
         "Manul no Yuube",
         "Within the nature \"Darwin Kita! Kikimono Shin Densetsu\" program on NHK1.5 airs the short , based on a web manga/comic of the same name. It following animal characters who visit the bar . The bar is run by the Mama who is a Pallas's cat ( ) and serviced by the hostess Tsunomin who is a Brazilian treehopper ( ).",
         "['Slice of Life']",
         "106"
        ],
        [
         "32",
         "Kami Kuzu☆Idol",
         "Yuuya, one half of the boy pop duo ZINGS, may be the laziest performer in the Japanese music industry. His partner is out there giving 110% every night (and, thankfully, he's quite popular), but Yuuya's half-assed, sloppy dancing, and his frankly hostile attitude toward the audience, has the fans hating him and his agent looking for any excuse to cut him loose. The career of a pop idol just isn't the path of easy leisure and adulation Yuuya expected...  After a particularly lifeless concert appearance, Yuuya meets a girl backstage. She's dressed to the nines in a colorful outfit, she's full of vim and vigor, and all she wants from life is to perform. There's just one problem: She's been dead for a year. This is the ghost of Asahi Mogami, the beloved singer whose time on the stage was tragically cut short, unless... If ghosts are real, is spirit possession really that much of a stretch?",
         "['Comedy', 'Music', 'Supernatural']",
         "107"
        ],
        [
         "33",
         "Awajishima no Shichifukujin",
         "The story centers on the Seven Gods of Fortune in Japanese mythology as they reside on Awaji Island in Hyogo. In the shorts' story, the Seven Gods of Fortune slack in their duties in heaven, and Susanoo-no-Mikoto banishes them to Awaji Island. In order to return to the heavenly realm, they must help bring happiness to humans and rebuild their virtue. The outcast gods reluctantly grant human wishes and accumulate points in their \"god phones\" to be able to return to heaven. They aim to perform good deeds on particularly auspicious days to maximize point accumulation. Despite their best efforts at accumulating virtue, sometimes the Seven Gods of Fortune end up bringing misfortune to humans. When they fail, they lose points, further prolonging their stay on Awaji Island.",
         "['Comedy', 'Kids', 'Supernatural']",
         "116"
        ],
        [
         "34",
         "Shiawase Haitatsu Taneko",
         "The story centers around a cat who answers people's wishes and delivers happiness. (\"Tane\" and \"neko\" are the Japanese words for \"seed\" and \"cat,\" respectively.)",
         "['Comedy']",
         "118"
        ],
        [
         "35",
         "Nanatsu no Maken ga Shihai suru",
         "In the world of magic, there exist deadly irreversible techniques commonly known as spellblades. These sparse and elusive spells, along with their casters, are shrouded in mystery and only their absolute lethality is known to the masses.  Every year, the spring blossom signifies a new intake of students to the prestigious magic school Kimberly. With reactions of awe and bewilderment, a ceremonious parade complete with magical beasts welcomes the newcomers to the institution. Among them is the mysterious Oliver Horn, whose indifference changes to fascination as he notices a peculiar figure—a girl wearing strange attire equipped with a Japanese sword.  From the entrance ceremony onward, Oliver realizes that not all is as it seems at Kimberly, as the emergence of labyrinths, monsters, and other threats endanger the new student body. Nanatsu no Maken ga Shihai suru explores the intertwined fates of two warriors as they uncover the dark truths that lurk within the walls of the academy.",
         "['Action', 'Fantasy', 'School']",
         "122"
        ],
        [
         "36",
         "Gonglyong Mecard",
         "is a spin-off-series of Mecard, based on the idea that dinosaurs didn't become extinct 65 million years ago, but transformed into mecanimals. Its characters don't have any relations to the cast from , and .",
         "['Adventure', 'Kids', 'Mecha']",
         "125"
        ],
        [
         "37",
         "Shima Kousaku no Asia Risshi-den",
         "How did Asia's most prominent entrepreneurs know when to grasp opportunities? And how did they overcome difficulties and attain their positions of power? This series uses the unconventional technique of blending actual documentary footage with CG animation to get a close-up look into the front lines and what lies behind the scenes of Asian business.  Our cartoon host is Shima Kosaku, a character from a popular Japanese business manga. He delves into the heart of the Asian economic market representing 4 billion people, to visit entrepreneurs who have survived turbulent times. Thai business magnate, Dhanin Chearavanont (Chairman of CP Group), and innovative Taiwanese semiconductor entrepreneur, Morris Chang (Chairman of TSMC), are among the many movers and shakers to be featured. Don't miss this opportunity to glimpse the dramatic lives of these media-shy business titans.",
         "['Drama', 'Seinen']",
         "132"
        ],
        [
         "38",
         "Tomodachi Game",
         "Yuuichi Katagiri has battled financial hardships his whole life but has learned to stay content and positive thanks to his close circle of friends. To keep a promise he made to them, Yuuichi saves up enough money to join them on the school trip. But when the gathered money mysteriously goes missing, suspicion falls on two of Yuuichi's friends: Shiho Sawaragi and Makoto Shibe, who were in charge of collecting the payments. Although innocent, Shiho and Makoto take responsibility for the failure to protect the money when no one else comes forward.  A few days later, Yuuichi and his friends receive mysterious letters which trick each of them into meeting up. Upon arrival, they are ambushed and knocked unconscious. They wake up in a mysterious room in the presence of \"Manabu-kun,\" a character from a controversial children's show that stopped airing due to its malicious content. He informs the group that one of them indirectly gathered them together in order to settle a large debt. They are to play a \"friendship game\": a series of games that will test the strength of their bond and trust in each other. As the group's faith wavers due to the growing number of secrets and betrayals, Yuuichi must figure out who of his \"friends\" he can actually trust and ultimately discover the identity of the traitor.",
         "['Shounen']",
         "134"
        ],
        [
         "39",
         "Shuukan Storyland",
         "This was an anthology program containing several different anime each week along with some non-animated segments. Several of the animated films were short series including: Nazo no Rouba [謎の老婆] (tvss), Meibugyou Bun-san [名奉行・文さん], Jo Keibu Jinguuji Youko [女警部・神宮寺葉子], Remon Suzumori's Soudanjo [鈴森なんでも相談所].",
         "['Comedy', 'Drama', 'Seinen', 'Slice of Life']",
         "141"
        ],
        [
         "40",
         "Chimimo",
         "The \"heart-warming comedy\" anime centers on Chimimo, who is a messenger of hell and a shape-shifting evil demon. Chimimo is one of 12 evil demons whose mission is to turn the human world into hell. The 12 demons along with \"Hell-san\" go to the human world, but Hell-san and Chimimo become freeloaders to a family of three sisters named Mutsumi, Hazuki, and Mei.",
         "['Comedy']",
         "144"
        ],
        [
         "41",
         "Ocha-ken: Hotto Monogatari",
         "The second series features the Tea Dogs interacting with humans.",
         "['Kids', 'Slice of Life']",
         "149"
        ],
        [
         "42",
         "Xingji Biaoche Wang",
         "Set in the future on the Yellow River Planet, the realm of car racing has advanced beyond Formula One-into the domain of the Galaxy Racers. Riders steer their simulator-racers which remotely control the actual customized speedsters hurtling around a track.  The hero, a teenager named Roy, was born to race and aspires to be the King of Galaxy Racers. But his guardian, his grandfather, sees a threat from and great danger in the evil and greedy Taz, the CEO of the Titan Space Navigation Auto Group which seeks to swallow or destroy all competitors, and whose Mosha Racing Team would just as ruthlessly run over and crush Roy under its thundering wheels. He arranges for him to join the good guys in the Matela Racing Team to race for the highest honors.  Many years ago, Ray’s father, Dr Renault, worked for the Titan Group and he invented the Galaxy Racers but he was against CEO Taz’s destructive greed. He tries to escape-and disappears! Monopolizing the technology and construction of the Racers, Taz, the Titan Group and Mosha Racing Team swallowed, crushed and beat all rival companies, racers and teams.  Desperately, Ray’s grandfather uses a secret design hidden by Dr Renault from Taz and builds for him a superior racer, The Lion King. But he has first to learn the skills and garner experience from racing at the highest levels. To acquire these qualities plus humility and resilience, he relies on his Matela friends who have their own cool cars, to help him. But arrayed against them are the Mosha baddies and their menacing machines.  In a series of hair-raising and nail-biting races with thrills & spills, growling engines, screeching wheels, burning rubber, smashing metal against metal, intense bitter rivalry, persevering friendships & loyalties forged in grueling teamwork and battle, Ray and Team Matela must conquer their fears and overcome the arrogant and powerful Team Mosha which uses cheating as a winning strategy.  Will justice prevail or evil triumph? Find out on The Galaxy Racers on a track near you!",
         "['Action', 'Adventure']",
         "150"
        ],
        [
         "43",
         "Sakuran Boy DT",
         "The Geisha Tokyo Entertainment company has announced on Wednesday it is producing and airing Sakuran Boy DT, \"Japan's first\" Flash-animated television series about a local costumed hero character. The name of the character is a wordplay on the Japanese translation for \"cherry boy\" — the Japanese slang for a male virgin — and the Sakuranbo television station in the northeastern Japanese city of Yamagata. The story revolves around Satou-kun, an ordinary high school boy who transforms into Sakuran Boy DT to rescue the mayor's daughter from the nefarious secret society Zaou. Sakuranbo has posted a trailer online, and the 11 five-minute weekly episodes will premiere on this station on January 14.",
         "['Comedy', 'Super Power']",
         "151"
        ],
        [
         "44",
         "Neko to Mata",
         "The series centers around two cats: a younger sister named Neko, and an older brother named Mata. Neko is a nekomata (a mythical two-tailed cat), innocently selfish, and spoiled by her brother. Mata is a neighborhood cat with an eartipped mark as a sign of being neutered. They meet under a streetlight in the city at night to talk.",
         "['Supernatural']",
         "157"
        ],
        [
         "45",
         "Okashi na Sabaku no Suna to Manu",
         "The story centers on the everyday life of the cats Suna and Manu, who live in a desert — a desert made of sugar instead of sand.",
         "['Comedy']",
         "167"
        ],
        [
         "46",
         "Mahoutsukai ni Narenakatta Onnanoko no Hanashi.",
         "Kurumi Mirai is in the first year of high school.  She has enrolled in junior high section of the Redrun Magic School, the world's only facility for mages that approved by International Mage League and able to work under royal families when graduates, and she was always top of the class. However, when she applies for the high school section and took the examination to get into a mage training class \"Ma-gumi (Mage Class)\", she wasn't able to get in in spite having full scores and was top of the class for the whole three years.  There are some students in the class next to her that takes that class. Among that there's someone she admires. How will Kurumi Mirai who has extraordinary brain but didn't get in to be a mage candidate try to overcome and grow up? What is the aim for Minami Suzuki, a loyal mage who suddenly appears to be the homeroom teacher? This is a relaxing story of her growth.",
         "['Drama', 'Fantasy', 'School', 'Slice of Life']",
         "169"
        ],
        [
         "47",
         "Zhu Zhu Xia: Wu Ling Shou Wei Zhe",
         "G.G. Bond finally won the appreciation of Princess Crystal and moved to Crystal City. But conspiracy traps lurk in the darkness out to frame G.G. Bond an ruin his good name.",
         "['Kids', 'Sci-Fi', 'Super Power']",
         "170"
        ],
        [
         "48",
         "Xiong Chumo: Chunri Dui Dui Peng",
         "Fourth season of .  Now that spring is in the air, the forest animals are back to frolicking amongst the freshly blooming flowers and busy at work planting new trees to add even more color to their luscious home. The bear brothers—Briar and Bramble, and all their friends are having a jolly great time basking in this colorful season; however, from time to time, they stumble across Logger Vick who will not give up. The bears, along with their little friends make it their mission to protect the forest. This always results in a lot of laughter, tears and of course, adventures aplenty!",
         "['Adventure', 'Comedy', 'Kids']",
         "174"
        ],
        [
         "49",
         "Pittanko! Nekozakana",
         "On a distant southern island, a fish (sakana) opened its mouth for a cat (neko), thus \"nekozakana\" (cat-fish) is born.",
         "['Comedy', 'Kids']",
         "175"
        ]
       ],
       "shape": {
        "columns": 4,
        "rows": 7120
       }
      },
      "text/html": [
       "<div>\n",
       "<style scoped>\n",
       "    .dataframe tbody tr th:only-of-type {\n",
       "        vertical-align: middle;\n",
       "    }\n",
       "\n",
       "    .dataframe tbody tr th {\n",
       "        vertical-align: top;\n",
       "    }\n",
       "\n",
       "    .dataframe thead th {\n",
       "        text-align: right;\n",
       "    }\n",
       "</style>\n",
       "<table border=\"1\" class=\"dataframe\">\n",
       "  <thead>\n",
       "    <tr style=\"text-align: right;\">\n",
       "      <th></th>\n",
       "      <th>title</th>\n",
       "      <th>synopsis</th>\n",
       "      <th>genres</th>\n",
       "      <th>index</th>\n",
       "    </tr>\n",
       "  </thead>\n",
       "  <tbody>\n",
       "    <tr>\n",
       "      <th>0</th>\n",
       "      <td>Touma Kishinden Oni</td>\n",
       "      <td>Shuramaru is hated and feared by the villagers...</td>\n",
       "      <td>[Supernatural]</td>\n",
       "      <td>0</td>\n",
       "    </tr>\n",
       "    <tr>\n",
       "      <th>1</th>\n",
       "      <td>Sabaku no Kaizoku! Captain Kuppa</td>\n",
       "      <td>Sometime in the future, the world was complete...</td>\n",
       "      <td>[Action, Adventure]</td>\n",
       "      <td>1</td>\n",
       "    </tr>\n",
       "    <tr>\n",
       "      <th>2</th>\n",
       "      <td>On Air Dekinai!</td>\n",
       "      <td>Set in 2014, the anime follows the adventures ...</td>\n",
       "      <td>[Comedy]</td>\n",
       "      <td>2</td>\n",
       "    </tr>\n",
       "    <tr>\n",
       "      <th>3</th>\n",
       "      <td>Space Bug</td>\n",
       "      <td>This story is about Mick, a sleeping chironomi...</td>\n",
       "      <td>[Adventure]</td>\n",
       "      <td>11</td>\n",
       "    </tr>\n",
       "    <tr>\n",
       "      <th>4</th>\n",
       "      <td>Bakujuu Gasshin Ziguru Hazeru</td>\n",
       "      <td>The anime is based on MegaHouse's line of Zigu...</td>\n",
       "      <td>[Action, Mecha]</td>\n",
       "      <td>13</td>\n",
       "    </tr>\n",
       "    <tr>\n",
       "      <th>...</th>\n",
       "      <td>...</td>\n",
       "      <td>...</td>\n",
       "      <td>...</td>\n",
       "      <td>...</td>\n",
       "    </tr>\n",
       "    <tr>\n",
       "      <th>7115</th>\n",
       "      <td>Zero no Tsukaima: Princesses no Rondo Picture ...</td>\n",
       "      <td>Picture Drama episodes included in each DVD vo...</td>\n",
       "      <td>[Action, Adventure, Comedy, Drama, Fantasy, Ro...</td>\n",
       "      <td>13363</td>\n",
       "    </tr>\n",
       "    <tr>\n",
       "      <th>7116</th>\n",
       "      <td>Natsume Yuujinchou Roku Specials</td>\n",
       "      <td>On a hot summer day, Takashi Natsume and his f...</td>\n",
       "      <td>[Drama, Shoujo, Slice of Life, Supernatural]</td>\n",
       "      <td>13368</td>\n",
       "    </tr>\n",
       "    <tr>\n",
       "      <th>7117</th>\n",
       "      <td>Gintama: Nanigoto mo Saiyo ga Kanjin nano de T...</td>\n",
       "      <td>Due to the arrival of aliens called the \"Amant...</td>\n",
       "      <td>[Action, Comedy, Historical, Mecha, Sci-Fi, Sh...</td>\n",
       "      <td>13372</td>\n",
       "    </tr>\n",
       "    <tr>\n",
       "      <th>7118</th>\n",
       "      <td>Naruto: Dai Katsugeki!! Yuki Hime Shinobu Houj...</td>\n",
       "      <td>The Konohagakure Grand Sports Festival has beg...</td>\n",
       "      <td>[Action, Comedy, Fantasy, Shounen, Sports]</td>\n",
       "      <td>13373</td>\n",
       "    </tr>\n",
       "    <tr>\n",
       "      <th>7119</th>\n",
       "      <td>Steins;Gate: Kyoukaimenjou no Missing Link - D...</td>\n",
       "      <td>Having reached his emotional breaking point, R...</td>\n",
       "      <td>[Sci-Fi]</td>\n",
       "      <td>13374</td>\n",
       "    </tr>\n",
       "  </tbody>\n",
       "</table>\n",
       "<p>7120 rows × 4 columns</p>\n",
       "</div>"
      ],
      "text/plain": [
       "                                                  title  \\\n",
       "0                                   Touma Kishinden Oni   \n",
       "1                      Sabaku no Kaizoku! Captain Kuppa   \n",
       "2                                       On Air Dekinai!   \n",
       "3                                             Space Bug   \n",
       "4                         Bakujuu Gasshin Ziguru Hazeru   \n",
       "...                                                 ...   \n",
       "7115  Zero no Tsukaima: Princesses no Rondo Picture ...   \n",
       "7116                   Natsume Yuujinchou Roku Specials   \n",
       "7117  Gintama: Nanigoto mo Saiyo ga Kanjin nano de T...   \n",
       "7118  Naruto: Dai Katsugeki!! Yuki Hime Shinobu Houj...   \n",
       "7119  Steins;Gate: Kyoukaimenjou no Missing Link - D...   \n",
       "\n",
       "                                               synopsis  \\\n",
       "0     Shuramaru is hated and feared by the villagers...   \n",
       "1     Sometime in the future, the world was complete...   \n",
       "2     Set in 2014, the anime follows the adventures ...   \n",
       "3     This story is about Mick, a sleeping chironomi...   \n",
       "4     The anime is based on MegaHouse's line of Zigu...   \n",
       "...                                                 ...   \n",
       "7115  Picture Drama episodes included in each DVD vo...   \n",
       "7116  On a hot summer day, Takashi Natsume and his f...   \n",
       "7117  Due to the arrival of aliens called the \"Amant...   \n",
       "7118  The Konohagakure Grand Sports Festival has beg...   \n",
       "7119  Having reached his emotional breaking point, R...   \n",
       "\n",
       "                                                 genres  index  \n",
       "0                                        [Supernatural]      0  \n",
       "1                                   [Action, Adventure]      1  \n",
       "2                                              [Comedy]      2  \n",
       "3                                           [Adventure]     11  \n",
       "4                                       [Action, Mecha]     13  \n",
       "...                                                 ...    ...  \n",
       "7115  [Action, Adventure, Comedy, Drama, Fantasy, Ro...  13363  \n",
       "7116       [Drama, Shoujo, Slice of Life, Supernatural]  13368  \n",
       "7117  [Action, Comedy, Historical, Mecha, Sci-Fi, Sh...  13372  \n",
       "7118         [Action, Comedy, Fantasy, Shounen, Sports]  13373  \n",
       "7119                                           [Sci-Fi]  13374  \n",
       "\n",
       "[7120 rows x 4 columns]"
      ]
     },
     "metadata": {},
     "output_type": "display_data"
    },
    {
     "data": {
      "application/vnd.microsoft.datawrangler.viewer.v0+json": {
       "columns": [
        {
         "name": "index",
         "rawType": "int64",
         "type": "integer"
        },
        {
         "name": "title",
         "rawType": "object",
         "type": "string"
        },
        {
         "name": "synopsis",
         "rawType": "object",
         "type": "string"
        },
        {
         "name": "genres",
         "rawType": "object",
         "type": "unknown"
        },
        {
         "name": "index",
         "rawType": "int64",
         "type": "integer"
        }
       ],
       "conversionMethod": "pd.DataFrame",
       "ref": "ec8709a2-bbd5-4a55-b9ef-c7e59ac27c0f",
       "rows": [
        [
         "0",
         "Panpaka Pants O-New!",
         "Follows a pig whose family's mission is to collect underpants.",
         "['Comedy', 'Kids']",
         "8"
        ],
        [
         "1",
         "RPG Fudousan",
         "The story begins 15 years after the demon king was defeated and the world has become peaceful. Kotone, who graduated from school and became a magician, inquired about the kingdom-affiliated RPG Real Estate in order to find a new home. In reality, RPG Real Estate was Kotone's place of employment, and together with Fa, a demi-human, the priest Rufuria, and the soldier Rakira, they help support the searches of new homes for the customers with various circumstances.",
         "['Comedy', 'Fantasy', 'Slice of Life']",
         "20"
        ],
        [
         "2",
         "Hyper Positive Yogoremon",
         "The story centers on Otarou, a creature themed around dirt known as a yogoremon. It and other yogoremon ask the meaning of words and explain negative terms in positive ways.",
         "['Comedy']",
         "24"
        ],
        [
         "3",
         "Chuldong! Super Wings",
         "follows the adventures of an adorable jet plane named Jett who travels around the world delivering packages to children. On every delivery, Jett encounters new problems that he must solve with the help of his friends the \"Super Wings\": Dizzy, Jerome and Donnie. Together, the team explores different countries and learns the diversity of new cultures.",
         "['Adventure', 'Kids']",
         "25"
        ],
        [
         "4",
         "Totsugeki! Pappara-tai",
         "An elite soldier, whose nickname is God of Death, is transferred to another unit known as the PaPaRa Army. The PaPaRa Army is infamous for its elite but hilariously crazy members. There is no plot to speak of other than humour, hilarious brutality, and general nonsense. This is also Matsuzawa-sensei's debut work.",
         "['Action', 'Adventure', 'Comedy', 'Romance', 'Sci-Fi']",
         "31"
        ],
        [
         "5",
         "Kyuumei Senshi Nanosaver",
         "The third show in the Virtual Trilogy, a mix of anime and live action shots.  In the beginning of the 22nd century society advanced rapidly. Now even children are able to become real doctors, a task before that took two and a half decades to achieve. And nanomachines became prevalent to fight disease. Keita is a Nanosaver, a child doctor who uses the virtual world to apply life saving techniques by entering the body and treating the patients in a virtual medical station (VMS). As more and more patients are taken in, various mysterious are uncovered about them.  In the second half of the anime, a small Ethanarian alien and galactic federation is introduced.",
         "['Adventure', 'Shounen']",
         "38"
        ],
        [
         "6",
         "Zhu Zhu Xia: Zhong Ji Jue Zhan - Qian Ye Pian",
         "A prequel TV series setting up for the feature film.  G.G. Bond's father while exploring ruins gets sucked into a dimension of evil through the Dark Gate. He is bestowed power and knowledge and becomes corrupted as the King of Darkness. Ancient monsters are sent through the cracks of the gate to attack G.G. Bond and his team as the 5 elemental powers are stronger than the King of Darkness. By weakening the team, only then can the King of Darkness forcibly open the gate to unless a reign of terror on the Fairy Tale world.",
         "['Kids', 'Sci-Fi', 'Super Power']",
         "42"
        ],
        [
         "7",
         "Kkoma Sinseon Tao",
         "This Korean and Chinese co-production series focuses on Tao, a young boy with magical powers, as he attends school to become a wizard. Each episode was composed of two stories.",
         "['Kids']",
         "45"
        ],
        [
         "8",
         "Catch! Tiniping",
         "revolves around mischievous creatures called Teenieping that like to enter people's minds, but their playful nature and magical powers can wreak havoc in their hosts' lives. When the Teenieping are set loose on Earth, Princess Romi of the Emotion Kingdom becomes an ordinary girl that has to turn into a magical girl to stop them, all while balancing her new civilian life as a worker for the Bakery Heartrose with her coworkers Ian, Kyle, and Jun.",
         "['Fantasy', 'Kids', 'School']",
         "84"
        ],
        [
         "9",
         "Xia Lan",
         "When Nian Chi was a young child, his elder sister was kidnapped in front of him, while he could do nothing but watch, a thing that has tormented him for all these years. Now 10 years later, he's dead set on going to rescue his sister, and sets out.",
         "['Action', 'Adventure', 'Drama', 'Fantasy', 'Historical', 'Supernatural']",
         "88"
        ],
        [
         "10",
         "Yowamushi Monsters",
         "An NHK toddler's anime following cowardly creatures representing typical Halloween monsters like Dracula and a witch.",
         "['Kids']",
         "100"
        ],
        [
         "11",
         "Shin Bikkuriman",
         "No synopsis has been added for this series yet.   to update this information.",
         "['Comedy', 'Fantasy']",
         "111"
        ],
        [
         "12",
         "The Snack World (TV)",
         "In \"a certain era\" on \"a certain continent,\" banal things are happening. The construction of \"Large-Scale Leisure Facilities\" has demanded that all the villages are to be evicted. When these demands are denied, the village and its residents are obliterated. A boy named Chap once lived in tranquility, but that happiness soon came crumbling down. He decides to embark on a journey of revenge, but soon falls madly in love with the king's daughter, Princess Melora. In order to fulfill her selfish wishes, he gathers his friends in order to overcome the impossible.",
         "['Adventure', 'Comedy', 'Fantasy', 'Kids']",
         "115"
        ],
        [
         "13",
         "Nyanfuru",
         "Shorts that feature music note cats. The series premiered on February 22, 2014 on television; the first episode was published on an official YouTube channel that same day.  The whole world is in love with character illustrations of cats, dogs, and bears. A brand-new show, and the first of its kind in Japan, featuring nothing but cat characters for cat lovers started airing in February 2014. A variety of cat characters designed by Japan's topnotch creators and illustrators are animated and they are voiced by popular KAWAII (cute) anime voice actors. This show is a must-see not just for the fans of cat characters but for all anime lovers!",
         "['Comedy', 'Music']",
         "121"
        ],
        [
         "14",
         "Kirakira Shougakusei Celeb-chan",
         "Shorts that aired within \"Fight Tension☆Depart,\" a variety program that originally aired the anime as one of its segments. Celeb-chan is a narcissistic school girl who believes that she is a celebrity because her family is incredibly wealthy. She tries to do typical rich people things such as starting her own heavy makeup line, becoming a singer, saving an endangered species, buying a teacup poodle, etc. The results are never how she expects it.",
         "['Comedy']",
         "128"
        ],
        [
         "15",
         "Usagi no Matthew",
         "The story centers on Matthew, a daydreaming worrywart of a rabbit. Matthew also has two friends: Keron, a pessimistic frog who is fond of good-luck charms; and Ham, a hamster of few words and who moves through life at his own pace. The story follows the three animals' everyday lives within a mysterious forest.",
         "['Slice of Life']",
         "133"
        ],
        [
         "16",
         "Healer Girl",
         "The story will follow four girls who seek to use their songs to heal and soothe the people of their world. The tagline reads, \"Kindhearted, powerful songs heal the world. These are beautiful miracles sung by humanity.\"",
         "['Music']",
         "139"
        ],
        [
         "17",
         "Kamiwaza Wanda",
         "The story is set in a world where every event has been turned into programs, and mysterious monsters known as \"Promin\" maintain the world. However, many Promin who have turned into bugs known as \"Bugmin\" are responsible for many of the world's real-life bugs. Left alone, they may eventually turn into a big problem. The boy Yuuto encounters the space dog Wanda, and the pair use a camera-like device and key items to capture Bugmin. Promin themselves are able to do things like \"accelerate objects,\" \"spew fire,\" or \"create objects,\" through an ability known as \"Kamiwaza\" (miracle), and are able to fend off Bugmin with it. At first, the Bugmin only cause small, bothersome things, but it will soon elevate into a global scale threat. Can one boy and one dog save the world?",
         "['Kids', 'Sci-Fi']",
         "155"
        ],
        [
         "18",
         "Doushitemo Eto ni Hairitai",
         "Rat, a member of the Zodiac, meets a normal cat at a park one day. Rat comes to love Cat so much that it becomes very eager to get Cat to become a member of the Zodiac. Cat goes with Rat to meet the rest of the 12 members of the Zodiac to ask them to become a member.",
         "['Comedy']",
         "158"
        ],
        [
         "19",
         "Soredemo Ayumu wa Yosetekuru",
         "On a whim, first-year Ayumu Tanaka quits the Kendo Club to join the illegitimate Shogi Club. Urushi Yaotome, the president of the club and a master of shogi, is thrilled to finally have a playing partner. As Ayumu's upperclassman, Urushi endeavors to be his shogi mentor and student role model. Too often, however, she finds herself blushing with embarrassment! Stone-faced and honest, Ayumu sees no issue with calling Urushi \"cute.\" Although Ayumu likes her, he refrains from confessing and promises himself to first beat her in a game of shogi.  Through school life and shogi games, the two students have many hilarious and heart-warming adventures. Ayumu enjoys every second with Urushi, but he is still a long way from beating her in shogi. With the commitment he made to himself, will Ayumu ever get the chance to confess his feelings to Urushi?",
         "['Comedy', 'Romance', 'School', 'Shounen', 'Slice of Life']",
         "164"
        ],
        [
         "20",
         "Summertime Render",
         "After his parents died, Shinpei Ajiro lived with the Kofune sisters, Mio and Ushio, but he has since moved to live on his own in Tokyo. But after Ushio drowns while trying to save the young Shiori Kobayakawa, he returns home to mourn her departure. However, bruises around Ushio's neck bring her cause of death into question.  Taking a step back, Shinpei becomes convinced there must be another explanation. Dangerous entities roam among the islanders, and a vision of deceased Ushio asks him to \"save Mio\" as her final request. He is certain that something is afoot—and Ushio's death is only a piece of the puzzle.  With the help of Mio and various others, Shinpei struggles to forge a future in which he, his friends, and family can stay alive. But the more he investigates, the more impossible such a future seems. This darkness infiltrates his home island. Just how much more suffering will he go through before finding the right path to save it all?",
         "['Mystery', 'Shounen', 'Supernatural']",
         "165"
        ],
        [
         "21",
         "Xiong Chumo: Conglin Zong Dong Yuan",
         "Third season of .  Having had a taste of carnival life in town, the Bear Brothers return to the forest to start anew. But aside from the joy of meeting old friends, the bears must again cope with the dull-but-driven Logger Vick! That shiny-pated villain is determined to crush their renewed efforts to protect the forest they love. If he can dispatch the Bear Brothers, Vick will realize his evil dream of riches through total destruction of the forest. Fortunately the Brothers and their friends have a forest full of surprises in store for him! Boonie Bears: Forest Frenzy features Briar and Bramble Bear doing what they do best: creating non-stop laughs for kids around the world!",
         "['Comedy', 'Kids']",
         "172"
        ],
        [
         "22",
         "Möbius Dust",
         "On February 29, 2000, the Möbius meteorites fell on Earth. These meteorites brought a new form of matter known as Möbius Dust to Earth. The dust permeated Earth's atmosphere, leading to a miracle. The day the meteorites fell, nicknamed \"2.29,\" accelerated the economic disparity in Japan.  Before long, the Bloody War Alliance, discontent with this disparity, began committing acts of terrorism. Amidst all this, the police established the anti-RC special mobile unit and a joint anti-RC training school for the initial training of the unit members.",
         "['Action', 'Kids']",
         "176"
        ],
        [
         "23",
         "Ocha-ken: Ryokutto Monogatari",
         "The third series, this season focuses on environmental friendly themes.",
         "['Kids', 'Slice of Life']",
         "179"
        ],
        [
         "24",
         "Miniforce",
         "Cute yet mighty! Mini animal rangers transform into super power Force-Bot to save endangered friends! In the ruthless world of animals, big strong animals dominate and feed on the small and weak. To buck this natural system, small animals form a secret organization \"MINIFORCE.\" Rigidly selected mutants with special powers: Volt, Sammy, Lucy and Max become top secret rangers to save their small village Bluebell from the hand of human villain Nein and his underling lizard Pascal. Animals in danger? No problem! When Force-Gem alerts, it's time to get suit on! With Mini Force and their transforming mechanics, it’s time to sweep!",
         "['Action', 'Adventure']",
         "181"
        ],
        [
         "25",
         "Kakuza Tousan",
         "A stop-motion comedy drama about sugar cube people from the Meiji era. Specifically it focuses on the father Kakuza who easily succumbs to emotion usually about his 37 year old daughter Touko's newest fiancé who tries to ask for his blessing. He's scared of losing his daughter even though it was his late wife's dying wish to see her as a happy bride.  The show had a very irregular release schedule and by the end of its serialization its title had changed to .",
         "['Comedy', 'Drama', 'Historical']",
         "185"
        ],
        [
         "26",
         "Kotatsu Neko (TV)",
         "Kotatsu Neko is based on a \"live-action science-fiction/fantasy romance\" film of the same name which was released in Japan in 2006. The story is set in a certain neighborhood of Tokyo where two cats live under a kotatsu. Shito is a girlish white cat, while Zero is a cool black cat. The cat's owner, Rei \"Junior\" Fujisaki, is a third-year middle-school hikikomori obsessed with games. He likes a girl in his class, but naturally, he cannot work up the nerve to tell her. Shito herself harbors a secret one-sided love also.",
         "['Comedy']",
         "201"
        ],
        [
         "27",
         "Green Saver",
         "Nalong, Ukkya, and Longman have teamed up to defend the Earth from alien invaders who are here to pollute the environment! Lulu forest is no longer the main threatened area as the trio travels the world and helps out other animals in need.",
         "['Adventure', 'Kids']",
         "209"
        ],
        [
         "28",
         "Hustle Punch",
         "The show centers around three hobos that live in a broken car on top of a junkyard: Punch, Touch, and Boom. Punch is a bear who is literally strong-headed: his head is as hard as a rock, and nothing can knock him down. Boom the weasel is an expert shot, using not a gun, but a slingshot. Touch the mouse takes advantage of her smallness in order to get into small holes and sneaking into things without the villains knowing.  Gari-Gari is a mad scientist wolf who wants to build a mansion over the junkyard, constantly thinking up evil plans to get the money needed to buy the property, whether it’s creating a machine that creates counterfeit 10 yen (about 10 cents in US money) or stealing priceless paintings and selling it to a high bidder. He is an inventor, creating things that can aid him into doing his deed. If Gari-Gari buys the junkyard, this of course means that the three heroes will have no place to stay, so they constantly thwart his schemes. Gari-Gari has two henchmen working for him: Black and Nyu. Black is a gangster cat who welds a gun, often shooting at Punch and the gang with it. Nyu is a simple-minded pig who has big strength.",
         "['Comedy', 'Fantasy', 'Kids']",
         "236"
        ],
        [
         "29",
         "Beads no Mori no Rabi",
         "A stop-motion anime using beaded characters. Here a magician rabbits solve problems by using magic.",
         "['Kids']",
         "239"
        ],
        [
         "30",
         "Freaky Highschool",
         "A cutesy horror anime. Everyone in town is monster but they're living their lives like normal while attending high school.",
         "['School']",
         "248"
        ],
        [
         "31",
         "Norasco (TV)",
         "musicる TV signed up Norasco for their channel. Some of the ONA's episodes were shown and then the episodes became mostly musicる TV exclusive.",
         "['Comedy', 'Slice of Life']",
         "250"
        ],
        [
         "32",
         "Nukko.",
         "The new Nukko. anime is an adolescent school story revolving around Nukko and Nukko's slightly(?) oddball friends.",
         "['Comedy']",
         "253"
        ],
        [
         "33",
         "PJ Berri no Mogumogu Munyamunya",
         "Fuji TV announced that it will air a new series of anime shorts based on the Parappa the Rapper video game franchise. The new anime will center on the P.J. Berri character. Each episode is about 96 seconds long.  The anime celebrates both the 20th anniversary of the game and the 15th anniversary of the anime series.",
         "['Comedy']",
         "269"
        ],
        [
         "34",
         "Shokei Shoujo no Virgin Road",
         "The Lost Ones are wanderers who come here from a distant world known as \"Japan.\" No one knows how or why they leave their homes. The only thing that is certain is that they bring disaster and calamity. The duty of exterminating them without remorse falls to Menou, a young Executioner. When she meets Akari, it seems like just another job...until she discovers it's impossible to kill this girl! And when Menou begins to search for a way to defeat this immortality, Akari is more than happy to tag along! So begins a journey that will change Menou forever...",
         "['Action', 'Adventure', 'Fantasy']",
         "279"
        ],
        [
         "35",
         "Tomodachi 8-nin",
         "A series oriented to three-year-old children, showing the everydays of 9 characters, each of them having a distinct feature. Children will recognize characters and situations from their own life. Sometimes through conflicts, sometimes through encouragement, they will find everyone's place in the world. The story conveys messages such as \"Nobody's alone\", \"It's good to be different\" and the importance of being connected with others, in a fun way.",
         "['Comedy', 'Kids']",
         "285"
        ],
        [
         "36",
         "Ten Count",
         "Corporate secretary Shirotani suffers from obsessive-compulsive disorder. One day he meets Kurose, a therapist who offers to take him through a ten-step program to cure him of his compulsion. As the two go through each of the ten steps, Shirotani 's attraction to his counselor grows.",
         "['Drama', 'Romance']",
         "292"
        ],
        [
         "37",
         "Kuroneko Monroe",
         "The series follows the black cat Monroe and the human Yoppy and their \"normal and special everyday lives.\"",
         "['Comedy']",
         "316"
        ],
        [
         "38",
         "Unicorn no Kyupi",
         "Unicorn no Kyupi is a helpful sprite that lives in the kitchen and polishes dirty pots and pans clean with its fluffy white body. Harigorou, a rival sprite shaped like a hedgehog, tries to interfere.",
         "['Fantasy', 'Kids']",
         "320"
        ],
        [
         "39",
         "Ragna Crimson",
         "In a world where dragons rule sky, sea, and land, those who would fight them and win must surpass the limits of normal human strength. Set on victory at any cost, dragon hunter Ragna joins forces with the mysterious Crimson. Crimson's motivations may be obscure, but their goal is the same: to destroy the dragon monarchs.",
         "['Fantasy', 'Shounen']",
         "327"
        ],
        [
         "40",
         "Utawarerumono: Futari no Hakuoro",
         "After the events of Mask of Deception, the Yamato Empire is now ruled with an iron fist by a ruthless usurper who seeks to subjugate all before him. It's up to a couple of familiar faces to band together against the might of the Imperial army, and the fate of the world hangs in the balance as nations and generals must pick a side to fight with in this perilous civil war. Secrets will be revealed, friendships will be tested, and battles will be fought. Will peace and order be restored or will victory at any cost be the beginning of the end?",
         "['Action', 'Drama', 'Fantasy']",
         "335"
        ],
        [
         "41",
         "Kumichou Musume to Sewagakari",
         "WHO'S YOUR NANNY?  Tooru Kirishima is the right-hand man of the Sakuragi crime family. For him, the job is a perfect excuse to let his violent instincts run wild, earning him the nickname \"The Demon of Sakuragi.\" It seems like nothing will stand in the way of his vicious nature. But then one day, he receives an assignment like never before from the boss—babysitting his daughter!  This is the heartwarming (or is it bloodcurdling?) story of a little girl and her yakuza caretaker!",
         "['Comedy', 'Slice of Life']",
         "337"
        ],
        [
         "42",
         "Chuldong! Super Wings 2",
         "The second season of . One major change in the story is that uncle Jimbo has retired to travel the world and his niece, Sky, takes over being the main traffic controller for the airport.",
         "['Adventure', 'Kids']",
         "347"
        ],
        [
         "43",
         "Waresho! Warera! Shodobutsu Aigo Iinkai",
         "Three girls come from another planet to save the mistreated animals of planet Earth. Black cat Amiru, squirrel Rumi, and rabbit Rie all make their way to Earth but Rie crashes her UFO! Lucky Amiru and Rumi run into Earth girl Minami and together set out to conquer the world!",
         "['Comedy']",
         "348"
        ],
        [
         "44",
         "Baby-Hamitang",
         "The episodes will present topics from the list of 17 Sustainable Development Goals (SDG) such as global warming, food waste, and gender equality, in an easy-to-understand manner. Baby Hamitang will then solve the issues.",
         "['Kids']",
         "362"
        ],
        [
         "45",
         "Ji Jia Shou Shen Zhi Baolie Feiche",
         "Bang! One day, the Universe exploded! The explosion produced a number of light crystals which scattered in the Earth and became energy coins. Some energy life entities also came to the Earth and existed as mini cars to chase light crystals. Once those mini cars grasped light crystals, they would return to their original forms. A group of evil attempted to plot against the Earth with the super power of light crystals. To protect the Earth, the righteous kids Hawley, Kinson and Yolan help the mini cars of the justice side to collect energy coins. Armed with Eagle Car and Dragon Car, the two brothers are ready to fight against the Commander-K leaded evil force. The war is on…",
         "['Action', 'Adventure']",
         "366"
        ],
        [
         "46",
         "Reizouko no Tsukenosuke!",
         "A gag anime about foods in a refrigerator. The anime airs within the children's morning TV program and will receive a simultaneous manga serialization by Kazumata Oguri.",
         "['Comedy', 'Kids']",
         "374"
        ],
        [
         "47",
         "Hello Cocomong",
         "I can dance! I can sing! So, I can speak English! is a series of musical episodes teaching kids through song and dance. A large amount of episodes are aimed to teach English to Korean speaking children, though the intention is lost with the official English dub of the show.",
         "['Kids', 'Music']",
         "388"
        ],
        [
         "48",
         "Kungya Kungya",
         "Kyungyas, from vegetable kingdom, comes to the Kyungya Restaurant. They have a mission to make children eat more vegetable and protect them from greasy, instant dishes. However, far from completing their mission, Kyungyas have hard time keeping the restaurant from bankruptcy. It is because of Onion Kyungya’s experimental dishes. His curiosity makes trouble with Celery Kyungya, the manager of Kyungya restaurant. How can they solve the problems they have with the customers. Would it be possible for Kyungyas to accomplish the mission?",
         "['Fantasy', 'Kids']",
         "404"
        ],
        [
         "49",
         "Haruniwa Ie no 3 Nin-me",
         "The Haruba family is a wonderful family of three kids. The protagonist is the youngest son of the three siblings, who is in actuality, a spirit. The story unfolds in a nostalgic background of Japan and relates the life of this incredible family.",
         "['Comedy', 'Slice of Life', 'Supernatural']",
         "406"
        ]
       ],
       "shape": {
        "columns": 4,
        "rows": 892
       }
      },
      "text/html": [
       "<div>\n",
       "<style scoped>\n",
       "    .dataframe tbody tr th:only-of-type {\n",
       "        vertical-align: middle;\n",
       "    }\n",
       "\n",
       "    .dataframe tbody tr th {\n",
       "        vertical-align: top;\n",
       "    }\n",
       "\n",
       "    .dataframe thead th {\n",
       "        text-align: right;\n",
       "    }\n",
       "</style>\n",
       "<table border=\"1\" class=\"dataframe\">\n",
       "  <thead>\n",
       "    <tr style=\"text-align: right;\">\n",
       "      <th></th>\n",
       "      <th>title</th>\n",
       "      <th>synopsis</th>\n",
       "      <th>genres</th>\n",
       "      <th>index</th>\n",
       "    </tr>\n",
       "  </thead>\n",
       "  <tbody>\n",
       "    <tr>\n",
       "      <th>0</th>\n",
       "      <td>Panpaka Pants O-New!</td>\n",
       "      <td>Follows a pig whose family's mission is to col...</td>\n",
       "      <td>[Comedy, Kids]</td>\n",
       "      <td>8</td>\n",
       "    </tr>\n",
       "    <tr>\n",
       "      <th>1</th>\n",
       "      <td>RPG Fudousan</td>\n",
       "      <td>The story begins 15 years after the demon king...</td>\n",
       "      <td>[Comedy, Fantasy, Slice of Life]</td>\n",
       "      <td>20</td>\n",
       "    </tr>\n",
       "    <tr>\n",
       "      <th>2</th>\n",
       "      <td>Hyper Positive Yogoremon</td>\n",
       "      <td>The story centers on Otarou, a creature themed...</td>\n",
       "      <td>[Comedy]</td>\n",
       "      <td>24</td>\n",
       "    </tr>\n",
       "    <tr>\n",
       "      <th>3</th>\n",
       "      <td>Chuldong! Super Wings</td>\n",
       "      <td>follows the adventures of an adorable jet plan...</td>\n",
       "      <td>[Adventure, Kids]</td>\n",
       "      <td>25</td>\n",
       "    </tr>\n",
       "    <tr>\n",
       "      <th>4</th>\n",
       "      <td>Totsugeki! Pappara-tai</td>\n",
       "      <td>An elite soldier, whose nickname is God of Dea...</td>\n",
       "      <td>[Action, Adventure, Comedy, Romance, Sci-Fi]</td>\n",
       "      <td>31</td>\n",
       "    </tr>\n",
       "    <tr>\n",
       "      <th>...</th>\n",
       "      <td>...</td>\n",
       "      <td>...</td>\n",
       "      <td>...</td>\n",
       "      <td>...</td>\n",
       "    </tr>\n",
       "    <tr>\n",
       "      <th>887</th>\n",
       "      <td>Fairy Tail Movie 1: Houou no Miko - Hajimari n...</td>\n",
       "      <td>This special is showing a day of Eclair's life...</td>\n",
       "      <td>[Fantasy, Shounen]</td>\n",
       "      <td>12650</td>\n",
       "    </tr>\n",
       "    <tr>\n",
       "      <th>888</th>\n",
       "      <td>Mini Toji: Kanami-Mihono no \"Toji Miko Taidou-...</td>\n",
       "      <td>Episode 0 of . Kanami and Mihono are self-awar...</td>\n",
       "      <td>[Action]</td>\n",
       "      <td>12752</td>\n",
       "    </tr>\n",
       "    <tr>\n",
       "      <th>889</th>\n",
       "      <td>Lion meets HachiClo</td>\n",
       "      <td>The ad's crossover theme matches a tote bag bu...</td>\n",
       "      <td>[Seinen, Slice of Life]</td>\n",
       "      <td>12817</td>\n",
       "    </tr>\n",
       "    <tr>\n",
       "      <th>890</th>\n",
       "      <td>Zekkyou Gakkyuu: Tensei</td>\n",
       "      <td>A girl's classmate disappears during a game of...</td>\n",
       "      <td>[Shoujo, Supernatural]</td>\n",
       "      <td>12880</td>\n",
       "    </tr>\n",
       "    <tr>\n",
       "      <th>891</th>\n",
       "      <td>Robot Girls Z</td>\n",
       "      <td>The story revolves around a new team of \"Toei ...</td>\n",
       "      <td>[Comedy, Mecha]</td>\n",
       "      <td>13105</td>\n",
       "    </tr>\n",
       "  </tbody>\n",
       "</table>\n",
       "<p>892 rows × 4 columns</p>\n",
       "</div>"
      ],
      "text/plain": [
       "                                                 title  \\\n",
       "0                                 Panpaka Pants O-New!   \n",
       "1                                         RPG Fudousan   \n",
       "2                             Hyper Positive Yogoremon   \n",
       "3                                Chuldong! Super Wings   \n",
       "4                               Totsugeki! Pappara-tai   \n",
       "..                                                 ...   \n",
       "887  Fairy Tail Movie 1: Houou no Miko - Hajimari n...   \n",
       "888  Mini Toji: Kanami-Mihono no \"Toji Miko Taidou-...   \n",
       "889                                Lion meets HachiClo   \n",
       "890                            Zekkyou Gakkyuu: Tensei   \n",
       "891                                      Robot Girls Z   \n",
       "\n",
       "                                              synopsis  \\\n",
       "0    Follows a pig whose family's mission is to col...   \n",
       "1    The story begins 15 years after the demon king...   \n",
       "2    The story centers on Otarou, a creature themed...   \n",
       "3    follows the adventures of an adorable jet plan...   \n",
       "4    An elite soldier, whose nickname is God of Dea...   \n",
       "..                                                 ...   \n",
       "887  This special is showing a day of Eclair's life...   \n",
       "888  Episode 0 of . Kanami and Mihono are self-awar...   \n",
       "889  The ad's crossover theme matches a tote bag bu...   \n",
       "890  A girl's classmate disappears during a game of...   \n",
       "891  The story revolves around a new team of \"Toei ...   \n",
       "\n",
       "                                           genres  index  \n",
       "0                                  [Comedy, Kids]      8  \n",
       "1                [Comedy, Fantasy, Slice of Life]     20  \n",
       "2                                        [Comedy]     24  \n",
       "3                               [Adventure, Kids]     25  \n",
       "4    [Action, Adventure, Comedy, Romance, Sci-Fi]     31  \n",
       "..                                            ...    ...  \n",
       "887                            [Fantasy, Shounen]  12650  \n",
       "888                                      [Action]  12752  \n",
       "889                       [Seinen, Slice of Life]  12817  \n",
       "890                        [Shoujo, Supernatural]  12880  \n",
       "891                               [Comedy, Mecha]  13105  \n",
       "\n",
       "[892 rows x 4 columns]"
      ]
     },
     "metadata": {},
     "output_type": "display_data"
    },
    {
     "data": {
      "application/vnd.microsoft.datawrangler.viewer.v0+json": {
       "columns": [
        {
         "name": "index",
         "rawType": "int64",
         "type": "integer"
        },
        {
         "name": "title",
         "rawType": "object",
         "type": "string"
        },
        {
         "name": "synopsis",
         "rawType": "object",
         "type": "string"
        },
        {
         "name": "genres",
         "rawType": "object",
         "type": "unknown"
        },
        {
         "name": "index",
         "rawType": "int64",
         "type": "integer"
        }
       ],
       "conversionMethod": "pd.DataFrame",
       "ref": "cf7a406b-6397-4b3c-a287-e97c9074c9b2",
       "rows": [
        [
         "0",
         "Uchi no 3 Shimai",
         "The daily life of the Motsumoto family. The three sisters, Fuu, Suu, and Chii, follow what happens on a daily basis. Mother and Father have to deal with them sometimes, but they're used to it.",
         "['Comedy', 'Slice of Life']",
         "3"
        ],
        [
         "1",
         "Running Man",
         "The Soul Tree, the great source of our race.  But for its ultimate power and by those whose minds were blinded by it, it also became the catastrophic cause that had brought never-ending wars between the tribes. Tortured by the agonies of the wars, the leaders of the tribes finally came to a peace agreement that they would instead open a competition. Players, equipped with special watches and shields, compete against each other as winner’s tribe would be awarded with Materion, the sacred fruit of the Soul Tree.  These brave players, who throw themselves in this fierce fight, we call them the Runningman.",
         "['Action', 'Adventure', 'Kids']",
         "4"
        ],
        [
         "2",
         "Fuwafuwa Hour: Pui Pui & Muu Muu",
         "Fairies living in a fluffy forest, where both flowers and trees are fluffy. Follow a witch's trouble-maker apprentices Pui Pui and Muu Muu.",
         "['Fantasy', 'Kids']",
         "10"
        ],
        [
         "3",
         "Hyouga Senshi Gaislugger",
         "A cyborg warrior from an ancient Antarctic kingdom awakes 30000 years later from an accidental hibernation to find the Earth changed and an old alien enemy on the verge of invasion. It's up to Guyslugger to use his ancient technology to defeat the aliens.",
         "['Action', 'Mecha', 'Sci-Fi']",
         "23"
        ],
        [
         "4",
         "Poccolies",
         "The 2018 LINE sticker set Poccolies is inspiring a series of anime shorts. The story of the sticker set is that a positive and honest boy named Patsuhiko lives on Pokkori Island, along with the shrewd and mysterious Ham, and a reliable older brother figure named Kangaroo. The sticker set follows their daily lives.",
         "['Kids', 'Slice of Life']",
         "34"
        ],
        [
         "5",
         "Paripi Koumei",
         "General of the Three Kingdoms, Kongming had struggled his whole life, facing countless battles that made him into the accomplished strategist he was. So on his deathbed, he wished only to be reborn into a peaceful world... and was sent straight to modern-day party-central, Tokyo! Can even a brilliant strategist like Kongming adapt to the wild beats and even wilder party people?!",
         "['Comedy']",
         "48"
        ],
        [
         "6",
         "Nananin no Ayakashi: Chimi Chimi Mouryou!! Gendai Monogatari",
         "This show consists of shorts starring 7 characters created and voiced by the voice actors of the variety show \"Seiyuu Danshi desu ga...?\". The anime will be a slapstick comedy that follows seven spirits that come to the modern world.",
         "['Comedy', 'Supernatural']",
         "53"
        ],
        [
         "7",
         "Kami wa Game ni Ueteiru.",
         "The supreme Gods who had too much free time created the ultimate brain games \"Play of the Gods.\" Former Goddess Leche awoke from a long slumber and declared to the world, \"Bring forth the person who is the best in games in this era!\" Fay is nominated to represent humanity as the \"best rookie in recent years.\"  The \"Game of the Gods\" that is about to begin between the two may be a little too difficult, as there has yet to be a victor throughout human history, because Gods are capricious, very unreasonable, and sometimes completely incomprehensible. However, given the nature of the games, it would be a waste not to have a good time and play with all of one's heart! The ultimate brain battles of a genius gamer boy, a former Goddess, and friends begin!",
         "['Fantasy']",
         "56"
        ],
        [
         "8",
         "Technoroid: Overmind",
         "Technoroid: Overmind is set in the Entertainment Tower Babel, a new hope found by those who have lost the joy of light as humanity's activities are restricted due to the large-scale climate change caused by the expanded sun. The anime depicts unique units and characters fighting for the top of Babel, pursuing emotions that move people and androids through performances.",
         "['Music']",
         "58"
        ],
        [
         "9",
         "Mon Cheri CoCo",
         "A young woman aims to become a famous fashion designer.",
         "['Romance', 'Shoujo']",
         "63"
        ],
        [
         "10",
         "Titipo Titipo",
         "Say hi to Tayo's new friend - Titipo! Train Center's new born little train Titipo has just passed the driving examination and is prepared to work at the Train Village. Although Titipo dreams of becoming the best train in the world, his curious yet random personality catches him in unforeseen events and troubles everyday. Titipo expands his experience in the greater world and befriends Genie, Diesel, and other little trains. Will Titipo achieve his dream of becoming the best train? Come join the railroad journey and meet Titipo and the little train friends.",
         "['Kids']",
         "65"
        ],
        [
         "11",
         "Hei Mao Jing Zhang (1992)",
         "The series follows Officer Black Cat's adventures around the forest neighbourhood, apprehending criminals, dealing justice, and solving crimes.",
         "['Action', 'Adventure', 'Comedy', 'Kids']",
         "69"
        ],
        [
         "12",
         "Tensei shitara Ken Deshita",
         "The hero of Tensei shitara Ken deshita differs from your standard otherworldly protagonist in that he is reincarnated as a sword! Beginning his quest by spawning in the middle of a beast-ridden forest, he encounters an injured girl frantically fleeing for her life. Saving her from her assailants, the pair acquaint themselves, and the girl introduces herself as Fran. She bears a heavy past, having endured the enslavement and maltreatment of her tribe, the Black Cats.  As the hero is unable to remember the name from his past life, the young and tenacious Fran bestows him the name \"Shishou\" and becomes his wielder. Thereafter, Shishou and Fran become a formidable team, embarking on quests to liberate the oppressed and exact justice!",
         "['Action', 'Fantasy']",
         "74"
        ],
        [
         "13",
         "Tomodachi no Imouto ga Ore ni dake Uzai",
         "If a girl teases you, that means she likes you!  Unfortunately, Akiteru knows from experience that isn't the case. Because every girl he interacts with shows him nothing but scorn, and he's not scored a single date from it! Luckily, he's more concerned with securing a spot for him and his game-development buddies at his uncle's business.  But when his uncle throws him a condition that involves playing the part of his daughter's boyfriend, Akiteru has no choice but to take it. What will his best friend's sister Iroha, who bullies him relentlessly, think of the news?",
         "['Comedy', 'Romance', 'School']",
         "75"
        ],
        [
         "14",
         "Capsule Boy 2: Ujuleul Jikyeola",
         "The second season of . SBS took over broadcasting the show. The art style has been changed for a more modern anime-esque appearance and some voice actors did not reprise their character's roles.",
         "['Kids', 'Sci-Fi']",
         "86"
        ],
        [
         "15",
         "Bocchi the Rock!",
         "Hitori Gotou is a high school girl who's starting to learn to play the guitar because she dreams of being in a band, but she's so shy that she hasn't made a single friend. However, her dream might come true after she meets Nijika Ijichi, a girl who plays drums and is looking for a new guitarist for her band.",
         "['Comedy', 'Music', 'Slice of Life']",
         "93"
        ],
        [
         "16",
         "Kanashiki Debu Neko-chan",
         "The anime's story centers on a cat named Maru, adopted by a girl named Anna from a shelter in Matsuyama city. Loved and well fed by the family, Maru gets rounder and fatter every day, spending most of his day sitting by the window and looking at the garden outside. When the family gets a new cat named Cerisier and begins doting on it, Maru gets jealous. In a fight with Cerisier, Maru is hurt by the family's words to him, and follows the advice of another cat to leave and see the world.",
         "['Slice of Life']",
         "97"
        ],
        [
         "17",
         "Chickip Dancers",
         "TV anime based on San-X's new series of mascot characters \"Chickip Dancers.\" The main characters in the anime will be the apprehensive but curious bone-in chicken Hone Chicken, and the dancing instructor frog Skip Gaeru, who travels by dancing.",
         "['Slice of Life']",
         "98"
        ],
        [
         "18",
         "Tian Xin Ge Ge",
         "A Chinese prince meets a regular civilian during his travels and quickly falls in love. They marry and have a daughter, but the prince is soon separated from them during a rebellion. Many years later, the prince has become emperor and locates his lost daughter. She comes to live with him, but unfortunately has picked up several unrefined habits during her times as a civilian.",
         "['Comedy', 'Historical', 'Kids']",
         "101"
        ],
        [
         "19",
         "Kekkero Ke",
         "The anime follows the frogs Kekkero and Ke who try to find their 998 other siblings.",
         "['Comedy']",
         "102"
        ],
        [
         "20",
         "Otoppe",
         "The series follows a young girl named Shina who hopes to become the world's best DJ, and is interested in new sounds. Shina explores a mysterious world filled with Otoppe, strange creatures capable of unique sounds.",
         "['Fantasy', 'Kids', 'Music']",
         "119"
        ],
        [
         "21",
         "Skip to Loafer",
         "Excellent student Iwakura Mitsumi has always dreamt about leaving her small town, going to a prestigious university, and making positive change in the world. But she's so focused on reaching her goals that she's not prepared for the very different (and overwhelming) city life that awaits her in a Tokyo high school. Luckily, she makes fast friends with Shima Sousuke, a handsome classmate who's as laid-back as she is over-prepared. Can this naive country girl make it big in Tokyo with Sousuke by her side?",
         "['School', 'Seinen', 'Slice of Life']",
         "137"
        ],
        [
         "22",
         "Turning Mecard W: Vandyne-ui Bimil",
         "It follows the fan favorite character Vandyne as his hidden secrets are revealed. Unlike the reboot, which exclusively uses 3DCG visuals, this series is like the earlier entries and is animated with 2D and 3D visuals.  The mini-series is part of a new promotional campaign from Sono Kong. The Korean toy manufacturer will launch four new mechanimals this month at retail.",
         "['Adventure', 'Kids', 'Mecha']",
         "140"
        ],
        [
         "23",
         "Ryuuichi Manga Gekijou Onbu Obake",
         "The mischievous antics of a ghost in an ancient village.",
         "['Supernatural']",
         "153"
        ],
        [
         "24",
         "Gaikotsu Kishi-sama, Tadaima Isekai e Odekakechuu",
         "One day, a gamer played video games until he fell asleep...and when he woke up, he found himself in the game world—as a skeleton! Equipped with the powerful weapons and armor of his avatar but stuck with its frightening skeletal appearance, Arc has to find a place for himself in this new, fantastical land. All his hopes for a quiet life are dashed when he crosses paths with a beautiful elven warrior, setting him on a journey full of conflict and adventure.",
         "['Action', 'Fantasy']",
         "159"
        ],
        [
         "25",
         "Noramimi",
         "The anime is based on Kazuo Hara's comedy manga in which mascot characters live and work among humans. Agencies have been set up to train mascots to babysit children and then to place the mascots within families. Noramimi is one such mascot at the Hello Kids branch office #59. Unfortunately, no family wants to adopt a mascot born from a demon (oni) family, so he is stuck living at the agency.  Source: ANN, Moon Phase",
         "['Comedy']",
         "168"
        ],
        [
         "26",
         "Kyoufu! Zombie Neko",
         "The series of \"warm and soothing\" anime shorts will follow a cat who is suddenly resurrected from the grave and begins to wander around town. Despite being a zombie, the cat is able to get all the townsfolk to fall in love with it.",
         "['Comedy']",
         "184"
        ],
        [
         "27",
         "Shinmai Renkinjutsushi no Tenpo Keiei",
         "Shoot for the stars! I'm going to be the country's number one alchemist!  When young girl Sarasa graduated from the Royal Alchemist Academy, her teacher gifted her a house for her to set up shop. Aiming to become a masterclass alchemist, she gathers materials herself, experiments and operates a business. In her very own atelier, Sarasa indulges in a slow and relaxed alchemist life!",
         "['Adventure', 'Fantasy', 'Slice of Life']",
         "190"
        ],
        [
         "28",
         "Library Cross Infinite",
         "Based on Otomate's puzzle role-playing game.  A medical student named Shiina and nine male partners are trapped in a certain dimensional realm with many ancient texts and an enormous mysterious clock. Together, they must find a way to escape by uncovering clues before the clock strikes \"13.\"",
         "['Mystery', 'Romance', 'Supernatural']",
         "195"
        ],
        [
         "29",
         "\"Eikou Naki Tensai-tachi\" Kara no Monogatari",
         "An anime/documentary series about athletes present by NHK.  The first episode adapts material from Tomoyoshi Itou and Shingo Morita's Weekly Young Jump biographical manga (Geniuses Without Glory)—specifically the story about Hironoshin Furuhashi, the swimmer also known as \"the flying fish of Fujiyama.\" The episode also includes interviews with Olympic swimmer Kousuke Kitajima and other Japanese swimmers about the how Furuhashi changed the Japanese competitive swimming world, as well as what sort of training is required to be an Olympic swimmer.",
         "['Sports']",
         "199"
        ],
        [
         "30",
         "Robby to Kerobby",
         "A story of the adventures of Robby and Kerobby along with their other friends.",
         "['Comedy', 'Kids']",
         "206"
        ],
        [
         "31",
         "Eiyuu Densetsu: Sen no Kiseki",
         "Eiyuu Densetsu: Sen no Kiseki centers around Rean Schwarzer, a professor at Thors Military Academy in the Erebonian Empire. The anime's story will focus on the western part of the Zemurian continent featured in the games.",
         "['Action']",
         "212"
        ],
        [
         "32",
         "Shachiku-san wa Youjo Yuurei ni Iyasaretai.",
         "A little ghost girl gets worries when Ms. Fushihara, a corporate slave, is working till midnight, and tries to make her go home. While saying \"Leave now~,\" the ghost girl helps and brings her refreshments, healing Ms. Fushihara's heart with her preciousness. Be healed by the heartwarming daily life of the cute little ghost and the corporate slave Ms. Fushihara.",
         "['Comedy', 'Shounen', 'Slice of Life', 'Supernatural']",
         "218"
        ],
        [
         "33",
         "Chaechaepong Kimchi Pong",
         "The story follows as Tochi and Milo travel the world in search of new Kimchi Pong to save their homes and uncover the secrets behind these creatures.",
         "['Adventure', 'Fantasy', 'Kids']",
         "221"
        ],
        [
         "34",
         "Okawari-Boy Starzan-S",
         "On planet Kirakira live two tribes: Senobi and Robot. Senobi, quiet and peacefully set, settle down in the forest. Robot comes from the desert and starts war to take control of afforested grounds. A young hero coming from Senobi tries to appease the whole situation.",
         "['Action', 'Adventure', 'Sci-Fi']",
         "223"
        ],
        [
         "35",
         "Jungle Kurobee",
         "Urobe was a son of the great chief of Pyrimi, Africa. One day he hung on an airplane and came to Japan. Because of the cold and hunger, he fell on to the yard of Shishio’s house, and Shishio nursed him. Kurobe was very thankful for him and began to repay for his kindness. Kurobe dug a big hole in the yard.Every time he returns the favor, he threw a stone into the hole until stones would fill the hole.",
         "['Comedy']",
         "230"
        ],
        [
         "36",
         "Karakuri Kengou Den Musashi Lord",
         "It is the time of civil war. Zipangu is a country where people live together with gimmick warriors, a kind of super human robot. There, people and gimmick warriors struggle to seize power. Musashi, a Samurai gimmick warrior, departs to on a quest to become the best Samurai warrior. Musashi thrives in the series of battles, encountering with many heroes and villains including his lifelong rival, Kojiro, an expert swordsman.Later, Mushashi and Kojiro are sent by their General to escort the Princess, a granddaughter of the general. The princess is spoiled and difficult, so their journey becomes series of misadventures. Soon, they are caught up in a battle to seize control of the Country.",
         "['Action', 'Adventure', 'Mecha']",
         "237"
        ],
        [
         "37",
         "Youkaiden Nekome Kozou",
         "The story is told by the cat-eyed boy, hated by humans and demons, who engages in tales of terror, including monsters and children.",
         "['Adventure', 'Seinen', 'Supernatural']",
         "259"
        ],
        [
         "38",
         "Fuuto Tantei",
         "In the city of Fuuto, criminals make use of USB-like devices called \"Gaia Memories\" to turn themselves into superpowered monsters known as \"Dopants,\" wreaking havoc in the otherwise peaceful city. However, there are also heroes who utilize the Gaia Memories to fight these criminals, one of whom is the self-proclaimed, hard-boiled detective Shoutarou Hidari. With the help of his witty partner Philip, the two transform into Kamen Rider W—the legendary hero of Fuuto city.  After the fall of Museum—the evil organisation responsible for many crimes in Fuuto—the production and distribution of Gaia Memories has halted. However, remnants of Gaia Memories still remain within society and are sold in the black market at high prices. Thus, the two heroes from Narumi Detective Agency are yet to have time to relax. Sights of Dopants still occur and the agency receives more and more clients who claim to experience supernatural phenomena.  Regardless of the arduous nature of the task, Kamen Rider W promises that those who hurt Fuuto will inevitably count up their sins.",
         "['Action', 'Drama', 'Mystery', 'Seinen', 'Supernatural']",
         "261"
        ],
        [
         "39",
         "Oni (TV)",
         "Tonko House has partnered with Japanese stop-motion house \"dwarf\" and CG studio Megalis on the new project. Tsutsumi is the directing showrunner of a stop-motion/CGI animated TV series called “Oni,” about a human girl being raised by a mythical Japanese god.  Tonko House plans to show test footage of at its first-ever Tonko House Film Festival this spring in Tokyo.",
         "['Kids']",
         "266"
        ],
        [
         "40",
         "Nameko: Sekai no Tomodachi",
         "Nameko Forest gathers nameko from all over the world. They form the Nameko Universal Ranger (NUR) to convey the charm of the forest. It's an everyday life of inviting new nameko with unique personalities to the forests. What incident will happen today?",
         "['Comedy', 'Kids']",
         "270"
        ],
        [
         "41",
         "Semi wa Magic Cube",
         "The story tells the tale of Semi, a bright girl who goes in a magical time journey with the genius teacher Wai, in order to prevent the evil X from utilizing the powers of the magic cube for evil. Along the way, Semi and her math school friends run into history and math problems that they must solve with logic and wit.",
         "['Action', 'Comedy', 'Fantasy']",
         "274"
        ],
        [
         "42",
         "Spoon-hime no Swing Kitchen",
         "An NHK toddler's anime following a Spoon Princess and other kitchen themed characters.",
         "['Adventure', 'Kids']",
         "275"
        ],
        [
         "43",
         "Wansa-kun",
         "The hero of Wansa-kun is Wansa, a puppy who is sold for a pittance, then escapes, and spends much of the rest of the series looking for his mother.",
         "['Comedy']",
         "283"
        ],
        [
         "44",
         "Dochamon Junior",
         "Japan has 47 prefectures and each one has a guardian spirit called a Dochamon. follows guardian spirits in training to one day take over the jobs of their elders. But these juniors have a lot of growing up to do before they graduate!",
         "['Comedy', 'Kids']",
         "318"
        ],
        [
         "45",
         "Zhu Zhu Xia: Meng Xiang Shou Wei Zhe",
         "G.G. Bonds enters the realm of dreams to stop evil's power from growing. They must get the citizens of Crystal City to remember their dreams so that the 5 element powers can recharge.",
         "['Kids', 'Sci-Fi', 'Super Power']",
         "319"
        ],
        [
         "46",
         "Onipan!",
         "Three oni-kids who, through the power of the onipan (a portmanteau of \"oni\" and \"pantsu\") become human to help fix the relationship between humans and oni. The three girls transfer into a normal Tokyo high school to aid in their task and help fix their image by revitalizing the town, sometimes jumping headfirst into school events, and other times ... becoming idols!",
         "['Comedy', 'Fantasy']",
         "321"
        ],
        [
         "47",
         "Yoshida Katsuko no Yabai wa! SDGs: Araburu! Trouble! Sustainable!",
         "The anime centers on Katsuko Yoshida, the cousin of Eagle Talon's Yoshida-kun, and an employee in Kemonomichi Electronics' \"special general affairs\" section. She educates her poorly informed colleagues about their misunderstandings of Sustainable Development Goals, the United Nations-backed goals for member nations to attain a sustainable future.",
         "['Comedy']",
         "329"
        ],
        [
         "48",
         "Mannaka no Rikkun@Kin Tele",
         "The \"home comedy\" centers on the mischievous boy Rikkun and his eccentric family.",
         "['Comedy', 'Seinen']",
         "338"
        ],
        [
         "49",
         "Pankis! 2-jigen",
         "St. Muse Academy: the place for the \"sound of the spirits.\" In order for people to live pleasantly among the sound, there is an academy where people learn to balance and control sound. Now, the five failing students receive a special mission...",
         "['Comedy', 'Music']",
         "364"
        ]
       ],
       "shape": {
        "columns": 4,
        "rows": 891
       }
      },
      "text/html": [
       "<div>\n",
       "<style scoped>\n",
       "    .dataframe tbody tr th:only-of-type {\n",
       "        vertical-align: middle;\n",
       "    }\n",
       "\n",
       "    .dataframe tbody tr th {\n",
       "        vertical-align: top;\n",
       "    }\n",
       "\n",
       "    .dataframe thead th {\n",
       "        text-align: right;\n",
       "    }\n",
       "</style>\n",
       "<table border=\"1\" class=\"dataframe\">\n",
       "  <thead>\n",
       "    <tr style=\"text-align: right;\">\n",
       "      <th></th>\n",
       "      <th>title</th>\n",
       "      <th>synopsis</th>\n",
       "      <th>genres</th>\n",
       "      <th>index</th>\n",
       "    </tr>\n",
       "  </thead>\n",
       "  <tbody>\n",
       "    <tr>\n",
       "      <th>0</th>\n",
       "      <td>Uchi no 3 Shimai</td>\n",
       "      <td>The daily life of the Motsumoto family. The th...</td>\n",
       "      <td>[Comedy, Slice of Life]</td>\n",
       "      <td>3</td>\n",
       "    </tr>\n",
       "    <tr>\n",
       "      <th>1</th>\n",
       "      <td>Running Man</td>\n",
       "      <td>The Soul Tree, the great source of our race.  ...</td>\n",
       "      <td>[Action, Adventure, Kids]</td>\n",
       "      <td>4</td>\n",
       "    </tr>\n",
       "    <tr>\n",
       "      <th>2</th>\n",
       "      <td>Fuwafuwa Hour: Pui Pui &amp; Muu Muu</td>\n",
       "      <td>Fairies living in a fluffy forest, where both ...</td>\n",
       "      <td>[Fantasy, Kids]</td>\n",
       "      <td>10</td>\n",
       "    </tr>\n",
       "    <tr>\n",
       "      <th>3</th>\n",
       "      <td>Hyouga Senshi Gaislugger</td>\n",
       "      <td>A cyborg warrior from an ancient Antarctic kin...</td>\n",
       "      <td>[Action, Mecha, Sci-Fi]</td>\n",
       "      <td>23</td>\n",
       "    </tr>\n",
       "    <tr>\n",
       "      <th>4</th>\n",
       "      <td>Poccolies</td>\n",
       "      <td>The 2018 LINE sticker set Poccolies is inspiri...</td>\n",
       "      <td>[Kids, Slice of Life]</td>\n",
       "      <td>34</td>\n",
       "    </tr>\n",
       "    <tr>\n",
       "      <th>...</th>\n",
       "      <td>...</td>\n",
       "      <td>...</td>\n",
       "      <td>...</td>\n",
       "      <td>...</td>\n",
       "    </tr>\n",
       "    <tr>\n",
       "      <th>886</th>\n",
       "      <td>Street Fighter IV: Aftermath</td>\n",
       "      <td>A series of four animated prequels to Street F...</td>\n",
       "      <td>[Action]</td>\n",
       "      <td>11644</td>\n",
       "    </tr>\n",
       "    <tr>\n",
       "      <th>887</th>\n",
       "      <td>Ookiku Furikabutte: Natsu no Taikai-hen – Moku...</td>\n",
       "      <td>According to HMV, the DVD &amp; Blu-ray volume 7 o...</td>\n",
       "      <td>[Comedy, Seinen, Sports]</td>\n",
       "      <td>12052</td>\n",
       "    </tr>\n",
       "    <tr>\n",
       "      <th>888</th>\n",
       "      <td>Thermae Romae: Kodai Romajin ga Uchuu e</td>\n",
       "      <td>Lucius ends up in a space station, where he ex...</td>\n",
       "      <td>[Comedy, Seinen]</td>\n",
       "      <td>12296</td>\n",
       "    </tr>\n",
       "    <tr>\n",
       "      <th>889</th>\n",
       "      <td>Megumi to Taiyou: Kajuu Gummi Tweet Love Story</td>\n",
       "      <td>The \"Megumi and Taiyou\" commercial depicts the...</td>\n",
       "      <td>[Romance, Slice of Life]</td>\n",
       "      <td>12447</td>\n",
       "    </tr>\n",
       "    <tr>\n",
       "      <th>890</th>\n",
       "      <td>Hungry Days: Aoharu ka yo.</td>\n",
       "      <td>Kiki is a 17-year-old high school witch living...</td>\n",
       "      <td>[Romance, Slice of Life]</td>\n",
       "      <td>12901</td>\n",
       "    </tr>\n",
       "  </tbody>\n",
       "</table>\n",
       "<p>891 rows × 4 columns</p>\n",
       "</div>"
      ],
      "text/plain": [
       "                                                 title  \\\n",
       "0                                     Uchi no 3 Shimai   \n",
       "1                                          Running Man   \n",
       "2                     Fuwafuwa Hour: Pui Pui & Muu Muu   \n",
       "3                             Hyouga Senshi Gaislugger   \n",
       "4                                            Poccolies   \n",
       "..                                                 ...   \n",
       "886                       Street Fighter IV: Aftermath   \n",
       "887  Ookiku Furikabutte: Natsu no Taikai-hen – Moku...   \n",
       "888            Thermae Romae: Kodai Romajin ga Uchuu e   \n",
       "889     Megumi to Taiyou: Kajuu Gummi Tweet Love Story   \n",
       "890                         Hungry Days: Aoharu ka yo.   \n",
       "\n",
       "                                              synopsis  \\\n",
       "0    The daily life of the Motsumoto family. The th...   \n",
       "1    The Soul Tree, the great source of our race.  ...   \n",
       "2    Fairies living in a fluffy forest, where both ...   \n",
       "3    A cyborg warrior from an ancient Antarctic kin...   \n",
       "4    The 2018 LINE sticker set Poccolies is inspiri...   \n",
       "..                                                 ...   \n",
       "886  A series of four animated prequels to Street F...   \n",
       "887  According to HMV, the DVD & Blu-ray volume 7 o...   \n",
       "888  Lucius ends up in a space station, where he ex...   \n",
       "889  The \"Megumi and Taiyou\" commercial depicts the...   \n",
       "890  Kiki is a 17-year-old high school witch living...   \n",
       "\n",
       "                        genres  index  \n",
       "0      [Comedy, Slice of Life]      3  \n",
       "1    [Action, Adventure, Kids]      4  \n",
       "2              [Fantasy, Kids]     10  \n",
       "3      [Action, Mecha, Sci-Fi]     23  \n",
       "4        [Kids, Slice of Life]     34  \n",
       "..                         ...    ...  \n",
       "886                   [Action]  11644  \n",
       "887   [Comedy, Seinen, Sports]  12052  \n",
       "888           [Comedy, Seinen]  12296  \n",
       "889   [Romance, Slice of Life]  12447  \n",
       "890   [Romance, Slice of Life]  12901  \n",
       "\n",
       "[891 rows x 4 columns]"
      ]
     },
     "metadata": {},
     "output_type": "display_data"
    }
   ],
   "source": [
    "from my_import import *\n",
    "df_train = pd.read_csv('df_train.csv')\n",
    "df_val = pd.read_csv('df_val.csv')\n",
    "df_test = pd.read_csv('df_test.csv')\n",
    "\n",
    "#Make sure the genre collumns is in lists not strings\n",
    "#NEED TO DO THIS EVERYTIME EXPORT DATASET\n",
    "df_train['genres'] = df_train['genres'].apply(lambda x: list(ast.literal_eval(x)))\n",
    "df_val['genres'] = df_val['genres'].apply(lambda x: list(ast.literal_eval(x)))\n",
    "df_test['genres'] = df_test['genres'].apply(lambda x: list(ast.literal_eval(x)))\n",
    "\n",
    "display(df_train)\n",
    "display(df_val)\n",
    "display(df_test)\n",
    "\n",
    "\n"
   ]
  },
  {
   "cell_type": "code",
   "execution_count": 4,
   "id": "e699c552",
   "metadata": {},
   "outputs": [],
   "source": [
    "from sklearn.metrics import confusion_matrix, matthews_corrcoef\n",
    "\n",
    "def optimize_thresholds_with_precision_constraint(probs, labels, thresholds=np.linspace(0, 1, 1000), min_precision=0.5):\n",
    "    best_thresholds = []\n",
    "    for i in range(probs.shape[1]):\n",
    "        best_f1 = 0\n",
    "        best_thresh = 0.5\n",
    "        for t in thresholds:\n",
    "            pred = (probs[:, i] >= t).astype(int)\n",
    "            precision = precision_score(labels[:, i], pred, zero_division=0)\n",
    "            f1 = f1_score(labels[:, i], pred, zero_division=0)\n",
    "            if f1 > best_f1 and precision >= min_precision:\n",
    "                best_f1 = f1\n",
    "                best_thresh = t\n",
    "        best_thresholds.append(best_thresh)\n",
    "        print(f\"Label {i}: Best threshold = {best_thresh:.2f}, F1 = {best_f1:.4f}\")\n",
    "    return (best_thresholds)\n",
    "\n",
    "def compute_tpr_tnr(y_true, y_pred):\n",
    "    tn, fp, fn, tp = confusion_matrix(y_true, y_pred, labels=[0,1]).ravel()\n",
    "    tpr = tp / (tp + fn) if (tp + fn) > 0 else 0.0\n",
    "    tnr = tn / (tn + fp) if (tn + fp) > 0 else 0.0\n",
    "    return tpr, tnr\n",
    "\n",
    "def optimize_thresholds_with_mcc_constraint(probs, labels, thresholds=np.linspace(0, 1, 1000)):\n",
    "    best_thresholds = []\n",
    "\n",
    "    for i in range(probs.shape[1]):\n",
    "        best_mcc = -1\n",
    "        best_thresh = 0.5\n",
    "\n",
    "        for t in thresholds:\n",
    "            pred = (probs[:, i] >= t).astype(int)\n",
    "            tpr, tnr = compute_tpr_tnr(labels[:, i], pred)\n",
    "            mcc = matthews_corrcoef(labels[:, i], pred)\n",
    "            if mcc > best_mcc:\n",
    "                best_mcc = mcc\n",
    "                best_thresh = t\n",
    " \n",
    "\n",
    "        best_thresholds.append(best_thresh)\n",
    "        print(f\"Label {i}: Best threshold = {best_thresh:.2f}, MCC = {best_mcc:.4f}\")\n",
    "    \n",
    "    return best_thresholds\n",
    "\n",
    "# optimised_thresh=optimize_thresholds_with_precision_constraint(val_prob,val_labels)\n",
    "#optimised_thresh=optimize_thresholds_with_mcc_constraint(val_prob,val_labels)"
   ]
  },
  {
   "cell_type": "code",
   "execution_count": 5,
   "id": "19547be9",
   "metadata": {},
   "outputs": [
    {
     "name": "stdout",
     "output_type": "stream",
     "text": [
      "Action: 0.3128\n",
      "Adventure: 0.2180\n",
      "Comedy: 0.4091\n",
      "Drama: 0.2069\n",
      "Fantasy: 0.2368\n",
      "Historical: 0.0743\n",
      "Kids: 0.0834\n",
      "Mecha: 0.0763\n",
      "Music: 0.0514\n",
      "Mystery: 0.0666\n",
      "Romance: 0.1678\n",
      "School: 0.1360\n",
      "Sci-Fi: 0.1993\n",
      "Seinen: 0.0712\n",
      "Shoujo: 0.0565\n",
      "Shounen: 0.1603\n",
      "Slice of Life: 0.1410\n",
      "Sports: 0.0507\n",
      "Super Power: 0.0500\n",
      "Supernatural: 0.1277\n"
     ]
    },
    {
     "data": {
      "text/plain": [
       "[0.3127808988764045,\n",
       " 0.21797752808988763,\n",
       " 0.40912921348314607,\n",
       " 0.20688202247191012,\n",
       " 0.23679775280898877,\n",
       " 0.07429775280898876,\n",
       " 0.08342696629213484,\n",
       " 0.07626404494382022,\n",
       " 0.05140449438202247,\n",
       " 0.06657303370786517,\n",
       " 0.1678370786516854,\n",
       " 0.13595505617977527,\n",
       " 0.19929775280898876,\n",
       " 0.07120786516853933,\n",
       " 0.056460674157303374,\n",
       " 0.16025280898876404,\n",
       " 0.14101123595505619,\n",
       " 0.050702247191011234,\n",
       " 0.05,\n",
       " 0.12766853932584268]"
      ]
     },
     "execution_count": 5,
     "metadata": {},
     "output_type": "execute_result"
    }
   ],
   "source": [
    "#Generating prior probability thresholds\n",
    "# Flatten all genre lists into one long list\n",
    "all_genres = sorted(set(genre for sublist in df_train[\"genres\"] for genre in sublist))\n",
    "\n",
    "# Flatten the genre lists\n",
    "all_genres_comb = [genre for genre_list in df_train['genres'] for genre in genre_list]\n",
    "\n",
    "# Count each genre\n",
    "genre_counts = Counter(all_genres_comb)\n",
    "\n",
    "# Total number of samples\n",
    "total_samples = len(df_train)\n",
    "\n",
    "# Compute prior probability for each genre\n",
    "genre_priors = {genre: count / total_samples for genre, count in genre_counts.items()}\n",
    "\n",
    "# Display\n",
    "prior_threshold=[]\n",
    "for genre, prob in sorted(genre_priors.items()):\n",
    "    print(f\"{genre}: {prob:.4f}\")\n",
    "    prior_threshold.append(prob)\n",
    "prior_threshold"
   ]
  },
  {
   "cell_type": "code",
   "execution_count": null,
   "id": "a20d13df",
   "metadata": {},
   "outputs": [
    {
     "data": {
      "text/html": [
       "<style>#sk-container-id-2 {\n",
       "  /* Definition of color scheme common for light and dark mode */\n",
       "  --sklearn-color-text: #000;\n",
       "  --sklearn-color-text-muted: #666;\n",
       "  --sklearn-color-line: gray;\n",
       "  /* Definition of color scheme for unfitted estimators */\n",
       "  --sklearn-color-unfitted-level-0: #fff5e6;\n",
       "  --sklearn-color-unfitted-level-1: #f6e4d2;\n",
       "  --sklearn-color-unfitted-level-2: #ffe0b3;\n",
       "  --sklearn-color-unfitted-level-3: chocolate;\n",
       "  /* Definition of color scheme for fitted estimators */\n",
       "  --sklearn-color-fitted-level-0: #f0f8ff;\n",
       "  --sklearn-color-fitted-level-1: #d4ebff;\n",
       "  --sklearn-color-fitted-level-2: #b3dbfd;\n",
       "  --sklearn-color-fitted-level-3: cornflowerblue;\n",
       "\n",
       "  /* Specific color for light theme */\n",
       "  --sklearn-color-text-on-default-background: var(--sg-text-color, var(--theme-code-foreground, var(--jp-content-font-color1, black)));\n",
       "  --sklearn-color-background: var(--sg-background-color, var(--theme-background, var(--jp-layout-color0, white)));\n",
       "  --sklearn-color-border-box: var(--sg-text-color, var(--theme-code-foreground, var(--jp-content-font-color1, black)));\n",
       "  --sklearn-color-icon: #696969;\n",
       "\n",
       "  @media (prefers-color-scheme: dark) {\n",
       "    /* Redefinition of color scheme for dark theme */\n",
       "    --sklearn-color-text-on-default-background: var(--sg-text-color, var(--theme-code-foreground, var(--jp-content-font-color1, white)));\n",
       "    --sklearn-color-background: var(--sg-background-color, var(--theme-background, var(--jp-layout-color0, #111)));\n",
       "    --sklearn-color-border-box: var(--sg-text-color, var(--theme-code-foreground, var(--jp-content-font-color1, white)));\n",
       "    --sklearn-color-icon: #878787;\n",
       "  }\n",
       "}\n",
       "\n",
       "#sk-container-id-2 {\n",
       "  color: var(--sklearn-color-text);\n",
       "}\n",
       "\n",
       "#sk-container-id-2 pre {\n",
       "  padding: 0;\n",
       "}\n",
       "\n",
       "#sk-container-id-2 input.sk-hidden--visually {\n",
       "  border: 0;\n",
       "  clip: rect(1px 1px 1px 1px);\n",
       "  clip: rect(1px, 1px, 1px, 1px);\n",
       "  height: 1px;\n",
       "  margin: -1px;\n",
       "  overflow: hidden;\n",
       "  padding: 0;\n",
       "  position: absolute;\n",
       "  width: 1px;\n",
       "}\n",
       "\n",
       "#sk-container-id-2 div.sk-dashed-wrapped {\n",
       "  border: 1px dashed var(--sklearn-color-line);\n",
       "  margin: 0 0.4em 0.5em 0.4em;\n",
       "  box-sizing: border-box;\n",
       "  padding-bottom: 0.4em;\n",
       "  background-color: var(--sklearn-color-background);\n",
       "}\n",
       "\n",
       "#sk-container-id-2 div.sk-container {\n",
       "  /* jupyter's `normalize.less` sets `[hidden] { display: none; }`\n",
       "     but bootstrap.min.css set `[hidden] { display: none !important; }`\n",
       "     so we also need the `!important` here to be able to override the\n",
       "     default hidden behavior on the sphinx rendered scikit-learn.org.\n",
       "     See: https://github.com/scikit-learn/scikit-learn/issues/21755 */\n",
       "  display: inline-block !important;\n",
       "  position: relative;\n",
       "}\n",
       "\n",
       "#sk-container-id-2 div.sk-text-repr-fallback {\n",
       "  display: none;\n",
       "}\n",
       "\n",
       "div.sk-parallel-item,\n",
       "div.sk-serial,\n",
       "div.sk-item {\n",
       "  /* draw centered vertical line to link estimators */\n",
       "  background-image: linear-gradient(var(--sklearn-color-text-on-default-background), var(--sklearn-color-text-on-default-background));\n",
       "  background-size: 2px 100%;\n",
       "  background-repeat: no-repeat;\n",
       "  background-position: center center;\n",
       "}\n",
       "\n",
       "/* Parallel-specific style estimator block */\n",
       "\n",
       "#sk-container-id-2 div.sk-parallel-item::after {\n",
       "  content: \"\";\n",
       "  width: 100%;\n",
       "  border-bottom: 2px solid var(--sklearn-color-text-on-default-background);\n",
       "  flex-grow: 1;\n",
       "}\n",
       "\n",
       "#sk-container-id-2 div.sk-parallel {\n",
       "  display: flex;\n",
       "  align-items: stretch;\n",
       "  justify-content: center;\n",
       "  background-color: var(--sklearn-color-background);\n",
       "  position: relative;\n",
       "}\n",
       "\n",
       "#sk-container-id-2 div.sk-parallel-item {\n",
       "  display: flex;\n",
       "  flex-direction: column;\n",
       "}\n",
       "\n",
       "#sk-container-id-2 div.sk-parallel-item:first-child::after {\n",
       "  align-self: flex-end;\n",
       "  width: 50%;\n",
       "}\n",
       "\n",
       "#sk-container-id-2 div.sk-parallel-item:last-child::after {\n",
       "  align-self: flex-start;\n",
       "  width: 50%;\n",
       "}\n",
       "\n",
       "#sk-container-id-2 div.sk-parallel-item:only-child::after {\n",
       "  width: 0;\n",
       "}\n",
       "\n",
       "/* Serial-specific style estimator block */\n",
       "\n",
       "#sk-container-id-2 div.sk-serial {\n",
       "  display: flex;\n",
       "  flex-direction: column;\n",
       "  align-items: center;\n",
       "  background-color: var(--sklearn-color-background);\n",
       "  padding-right: 1em;\n",
       "  padding-left: 1em;\n",
       "}\n",
       "\n",
       "\n",
       "/* Toggleable style: style used for estimator/Pipeline/ColumnTransformer box that is\n",
       "clickable and can be expanded/collapsed.\n",
       "- Pipeline and ColumnTransformer use this feature and define the default style\n",
       "- Estimators will overwrite some part of the style using the `sk-estimator` class\n",
       "*/\n",
       "\n",
       "/* Pipeline and ColumnTransformer style (default) */\n",
       "\n",
       "#sk-container-id-2 div.sk-toggleable {\n",
       "  /* Default theme specific background. It is overwritten whether we have a\n",
       "  specific estimator or a Pipeline/ColumnTransformer */\n",
       "  background-color: var(--sklearn-color-background);\n",
       "}\n",
       "\n",
       "/* Toggleable label */\n",
       "#sk-container-id-2 label.sk-toggleable__label {\n",
       "  cursor: pointer;\n",
       "  display: flex;\n",
       "  width: 100%;\n",
       "  margin-bottom: 0;\n",
       "  padding: 0.5em;\n",
       "  box-sizing: border-box;\n",
       "  text-align: center;\n",
       "  align-items: start;\n",
       "  justify-content: space-between;\n",
       "  gap: 0.5em;\n",
       "}\n",
       "\n",
       "#sk-container-id-2 label.sk-toggleable__label .caption {\n",
       "  font-size: 0.6rem;\n",
       "  font-weight: lighter;\n",
       "  color: var(--sklearn-color-text-muted);\n",
       "}\n",
       "\n",
       "#sk-container-id-2 label.sk-toggleable__label-arrow:before {\n",
       "  /* Arrow on the left of the label */\n",
       "  content: \"▸\";\n",
       "  float: left;\n",
       "  margin-right: 0.25em;\n",
       "  color: var(--sklearn-color-icon);\n",
       "}\n",
       "\n",
       "#sk-container-id-2 label.sk-toggleable__label-arrow:hover:before {\n",
       "  color: var(--sklearn-color-text);\n",
       "}\n",
       "\n",
       "/* Toggleable content - dropdown */\n",
       "\n",
       "#sk-container-id-2 div.sk-toggleable__content {\n",
       "  max-height: 0;\n",
       "  max-width: 0;\n",
       "  overflow: hidden;\n",
       "  text-align: left;\n",
       "  /* unfitted */\n",
       "  background-color: var(--sklearn-color-unfitted-level-0);\n",
       "}\n",
       "\n",
       "#sk-container-id-2 div.sk-toggleable__content.fitted {\n",
       "  /* fitted */\n",
       "  background-color: var(--sklearn-color-fitted-level-0);\n",
       "}\n",
       "\n",
       "#sk-container-id-2 div.sk-toggleable__content pre {\n",
       "  margin: 0.2em;\n",
       "  border-radius: 0.25em;\n",
       "  color: var(--sklearn-color-text);\n",
       "  /* unfitted */\n",
       "  background-color: var(--sklearn-color-unfitted-level-0);\n",
       "}\n",
       "\n",
       "#sk-container-id-2 div.sk-toggleable__content.fitted pre {\n",
       "  /* unfitted */\n",
       "  background-color: var(--sklearn-color-fitted-level-0);\n",
       "}\n",
       "\n",
       "#sk-container-id-2 input.sk-toggleable__control:checked~div.sk-toggleable__content {\n",
       "  /* Expand drop-down */\n",
       "  max-height: 200px;\n",
       "  max-width: 100%;\n",
       "  overflow: auto;\n",
       "}\n",
       "\n",
       "#sk-container-id-2 input.sk-toggleable__control:checked~label.sk-toggleable__label-arrow:before {\n",
       "  content: \"▾\";\n",
       "}\n",
       "\n",
       "/* Pipeline/ColumnTransformer-specific style */\n",
       "\n",
       "#sk-container-id-2 div.sk-label input.sk-toggleable__control:checked~label.sk-toggleable__label {\n",
       "  color: var(--sklearn-color-text);\n",
       "  background-color: var(--sklearn-color-unfitted-level-2);\n",
       "}\n",
       "\n",
       "#sk-container-id-2 div.sk-label.fitted input.sk-toggleable__control:checked~label.sk-toggleable__label {\n",
       "  background-color: var(--sklearn-color-fitted-level-2);\n",
       "}\n",
       "\n",
       "/* Estimator-specific style */\n",
       "\n",
       "/* Colorize estimator box */\n",
       "#sk-container-id-2 div.sk-estimator input.sk-toggleable__control:checked~label.sk-toggleable__label {\n",
       "  /* unfitted */\n",
       "  background-color: var(--sklearn-color-unfitted-level-2);\n",
       "}\n",
       "\n",
       "#sk-container-id-2 div.sk-estimator.fitted input.sk-toggleable__control:checked~label.sk-toggleable__label {\n",
       "  /* fitted */\n",
       "  background-color: var(--sklearn-color-fitted-level-2);\n",
       "}\n",
       "\n",
       "#sk-container-id-2 div.sk-label label.sk-toggleable__label,\n",
       "#sk-container-id-2 div.sk-label label {\n",
       "  /* The background is the default theme color */\n",
       "  color: var(--sklearn-color-text-on-default-background);\n",
       "}\n",
       "\n",
       "/* On hover, darken the color of the background */\n",
       "#sk-container-id-2 div.sk-label:hover label.sk-toggleable__label {\n",
       "  color: var(--sklearn-color-text);\n",
       "  background-color: var(--sklearn-color-unfitted-level-2);\n",
       "}\n",
       "\n",
       "/* Label box, darken color on hover, fitted */\n",
       "#sk-container-id-2 div.sk-label.fitted:hover label.sk-toggleable__label.fitted {\n",
       "  color: var(--sklearn-color-text);\n",
       "  background-color: var(--sklearn-color-fitted-level-2);\n",
       "}\n",
       "\n",
       "/* Estimator label */\n",
       "\n",
       "#sk-container-id-2 div.sk-label label {\n",
       "  font-family: monospace;\n",
       "  font-weight: bold;\n",
       "  display: inline-block;\n",
       "  line-height: 1.2em;\n",
       "}\n",
       "\n",
       "#sk-container-id-2 div.sk-label-container {\n",
       "  text-align: center;\n",
       "}\n",
       "\n",
       "/* Estimator-specific */\n",
       "#sk-container-id-2 div.sk-estimator {\n",
       "  font-family: monospace;\n",
       "  border: 1px dotted var(--sklearn-color-border-box);\n",
       "  border-radius: 0.25em;\n",
       "  box-sizing: border-box;\n",
       "  margin-bottom: 0.5em;\n",
       "  /* unfitted */\n",
       "  background-color: var(--sklearn-color-unfitted-level-0);\n",
       "}\n",
       "\n",
       "#sk-container-id-2 div.sk-estimator.fitted {\n",
       "  /* fitted */\n",
       "  background-color: var(--sklearn-color-fitted-level-0);\n",
       "}\n",
       "\n",
       "/* on hover */\n",
       "#sk-container-id-2 div.sk-estimator:hover {\n",
       "  /* unfitted */\n",
       "  background-color: var(--sklearn-color-unfitted-level-2);\n",
       "}\n",
       "\n",
       "#sk-container-id-2 div.sk-estimator.fitted:hover {\n",
       "  /* fitted */\n",
       "  background-color: var(--sklearn-color-fitted-level-2);\n",
       "}\n",
       "\n",
       "/* Specification for estimator info (e.g. \"i\" and \"?\") */\n",
       "\n",
       "/* Common style for \"i\" and \"?\" */\n",
       "\n",
       ".sk-estimator-doc-link,\n",
       "a:link.sk-estimator-doc-link,\n",
       "a:visited.sk-estimator-doc-link {\n",
       "  float: right;\n",
       "  font-size: smaller;\n",
       "  line-height: 1em;\n",
       "  font-family: monospace;\n",
       "  background-color: var(--sklearn-color-background);\n",
       "  border-radius: 1em;\n",
       "  height: 1em;\n",
       "  width: 1em;\n",
       "  text-decoration: none !important;\n",
       "  margin-left: 0.5em;\n",
       "  text-align: center;\n",
       "  /* unfitted */\n",
       "  border: var(--sklearn-color-unfitted-level-1) 1pt solid;\n",
       "  color: var(--sklearn-color-unfitted-level-1);\n",
       "}\n",
       "\n",
       ".sk-estimator-doc-link.fitted,\n",
       "a:link.sk-estimator-doc-link.fitted,\n",
       "a:visited.sk-estimator-doc-link.fitted {\n",
       "  /* fitted */\n",
       "  border: var(--sklearn-color-fitted-level-1) 1pt solid;\n",
       "  color: var(--sklearn-color-fitted-level-1);\n",
       "}\n",
       "\n",
       "/* On hover */\n",
       "div.sk-estimator:hover .sk-estimator-doc-link:hover,\n",
       ".sk-estimator-doc-link:hover,\n",
       "div.sk-label-container:hover .sk-estimator-doc-link:hover,\n",
       ".sk-estimator-doc-link:hover {\n",
       "  /* unfitted */\n",
       "  background-color: var(--sklearn-color-unfitted-level-3);\n",
       "  color: var(--sklearn-color-background);\n",
       "  text-decoration: none;\n",
       "}\n",
       "\n",
       "div.sk-estimator.fitted:hover .sk-estimator-doc-link.fitted:hover,\n",
       ".sk-estimator-doc-link.fitted:hover,\n",
       "div.sk-label-container:hover .sk-estimator-doc-link.fitted:hover,\n",
       ".sk-estimator-doc-link.fitted:hover {\n",
       "  /* fitted */\n",
       "  background-color: var(--sklearn-color-fitted-level-3);\n",
       "  color: var(--sklearn-color-background);\n",
       "  text-decoration: none;\n",
       "}\n",
       "\n",
       "/* Span, style for the box shown on hovering the info icon */\n",
       ".sk-estimator-doc-link span {\n",
       "  display: none;\n",
       "  z-index: 9999;\n",
       "  position: relative;\n",
       "  font-weight: normal;\n",
       "  right: .2ex;\n",
       "  padding: .5ex;\n",
       "  margin: .5ex;\n",
       "  width: min-content;\n",
       "  min-width: 20ex;\n",
       "  max-width: 50ex;\n",
       "  color: var(--sklearn-color-text);\n",
       "  box-shadow: 2pt 2pt 4pt #999;\n",
       "  /* unfitted */\n",
       "  background: var(--sklearn-color-unfitted-level-0);\n",
       "  border: .5pt solid var(--sklearn-color-unfitted-level-3);\n",
       "}\n",
       "\n",
       ".sk-estimator-doc-link.fitted span {\n",
       "  /* fitted */\n",
       "  background: var(--sklearn-color-fitted-level-0);\n",
       "  border: var(--sklearn-color-fitted-level-3);\n",
       "}\n",
       "\n",
       ".sk-estimator-doc-link:hover span {\n",
       "  display: block;\n",
       "}\n",
       "\n",
       "/* \"?\"-specific style due to the `<a>` HTML tag */\n",
       "\n",
       "#sk-container-id-2 a.estimator_doc_link {\n",
       "  float: right;\n",
       "  font-size: 1rem;\n",
       "  line-height: 1em;\n",
       "  font-family: monospace;\n",
       "  background-color: var(--sklearn-color-background);\n",
       "  border-radius: 1rem;\n",
       "  height: 1rem;\n",
       "  width: 1rem;\n",
       "  text-decoration: none;\n",
       "  /* unfitted */\n",
       "  color: var(--sklearn-color-unfitted-level-1);\n",
       "  border: var(--sklearn-color-unfitted-level-1) 1pt solid;\n",
       "}\n",
       "\n",
       "#sk-container-id-2 a.estimator_doc_link.fitted {\n",
       "  /* fitted */\n",
       "  border: var(--sklearn-color-fitted-level-1) 1pt solid;\n",
       "  color: var(--sklearn-color-fitted-level-1);\n",
       "}\n",
       "\n",
       "/* On hover */\n",
       "#sk-container-id-2 a.estimator_doc_link:hover {\n",
       "  /* unfitted */\n",
       "  background-color: var(--sklearn-color-unfitted-level-3);\n",
       "  color: var(--sklearn-color-background);\n",
       "  text-decoration: none;\n",
       "}\n",
       "\n",
       "#sk-container-id-2 a.estimator_doc_link.fitted:hover {\n",
       "  /* fitted */\n",
       "  background-color: var(--sklearn-color-fitted-level-3);\n",
       "}\n",
       "</style><div id=\"sk-container-id-2\" class=\"sk-top-container\"><div class=\"sk-text-repr-fallback\"><pre>OneVsRestClassifier(estimator=LogisticRegression(class_weight=&#x27;balanced&#x27;,\n",
       "                                                 max_iter=1000))</pre><b>In a Jupyter environment, please rerun this cell to show the HTML representation or trust the notebook. <br />On GitHub, the HTML representation is unable to render, please try loading this page with nbviewer.org.</b></div><div class=\"sk-container\" hidden><div class=\"sk-item sk-dashed-wrapped\"><div class=\"sk-label-container\"><div class=\"sk-label fitted sk-toggleable\"><input class=\"sk-toggleable__control sk-hidden--visually\" id=\"sk-estimator-id-4\" type=\"checkbox\" ><label for=\"sk-estimator-id-4\" class=\"sk-toggleable__label fitted sk-toggleable__label-arrow\"><div><div>OneVsRestClassifier</div></div><div><a class=\"sk-estimator-doc-link fitted\" rel=\"noreferrer\" target=\"_blank\" href=\"https://scikit-learn.org/1.6/modules/generated/sklearn.multiclass.OneVsRestClassifier.html\">?<span>Documentation for OneVsRestClassifier</span></a><span class=\"sk-estimator-doc-link fitted\">i<span>Fitted</span></span></div></label><div class=\"sk-toggleable__content fitted\"><pre>OneVsRestClassifier(estimator=LogisticRegression(class_weight=&#x27;balanced&#x27;,\n",
       "                                                 max_iter=1000))</pre></div> </div></div><div class=\"sk-parallel\"><div class=\"sk-parallel-item\"><div class=\"sk-item\"><div class=\"sk-label-container\"><div class=\"sk-label fitted sk-toggleable\"><input class=\"sk-toggleable__control sk-hidden--visually\" id=\"sk-estimator-id-5\" type=\"checkbox\" ><label for=\"sk-estimator-id-5\" class=\"sk-toggleable__label fitted sk-toggleable__label-arrow\"><div><div>estimator: LogisticRegression</div></div></label><div class=\"sk-toggleable__content fitted\"><pre>LogisticRegression(class_weight=&#x27;balanced&#x27;, max_iter=1000)</pre></div> </div></div><div class=\"sk-serial\"><div class=\"sk-item\"><div class=\"sk-estimator fitted sk-toggleable\"><input class=\"sk-toggleable__control sk-hidden--visually\" id=\"sk-estimator-id-6\" type=\"checkbox\" ><label for=\"sk-estimator-id-6\" class=\"sk-toggleable__label fitted sk-toggleable__label-arrow\"><div><div>LogisticRegression</div></div><div><a class=\"sk-estimator-doc-link fitted\" rel=\"noreferrer\" target=\"_blank\" href=\"https://scikit-learn.org/1.6/modules/generated/sklearn.linear_model.LogisticRegression.html\">?<span>Documentation for LogisticRegression</span></a></div></label><div class=\"sk-toggleable__content fitted\"><pre>LogisticRegression(class_weight=&#x27;balanced&#x27;, max_iter=1000)</pre></div> </div></div></div></div></div></div></div></div></div>"
      ],
      "text/plain": [
       "OneVsRestClassifier(estimator=LogisticRegression(class_weight='balanced',\n",
       "                                                 max_iter=1000))"
      ]
     },
     "execution_count": 9,
     "metadata": {},
     "output_type": "execute_result"
    }
   ],
   "source": [
    "import nltk\n",
    "from nltk.stem import WordNetLemmatizer\n",
    "from nltk.corpus import stopwords\n",
    "import re\n",
    "\n",
    "# Download essential resources\n",
    "# nltk.download('punkt_tab')         # tokenizer\n",
    "# nltk.download('stopwords')     # stopword list\n",
    "# nltk.download('wordnet')       # lemmatizer\n",
    "# nltk.download('omw-1.4')       # lemmatizer support data\n",
    "lemmatizer = WordNetLemmatizer()\n",
    "stop_words = set(stopwords.words('english'))\n",
    "\n",
    "def clean_text(text):\n",
    "    tokens = nltk.word_tokenize(text.lower())\n",
    "    tokens = [lemmatizer.lemmatize(word) for word in tokens if word.isalpha() and word not in stop_words]\n",
    "    return ' '.join(tokens)\n",
    "\n",
    "df_train['clean_synopsis'] = df_train['synopsis'].apply(clean_text)\n",
    "df_val['clean_synopsis'] = df_val['synopsis'].apply(clean_text)\n",
    "df_test['clean_synopsis'] = df_test['synopsis'].apply(clean_text)\n",
    "\n",
    "#Parameters that can be changed:\n",
    "#Number of wordds in vocublary\n",
    "#Class weighting\n",
    "\n",
    "# from sklearn.feature_extraction.text import CountVectorizer\n",
    "mlb=MultiLabelBinarizer()\n",
    "y_train = mlb.fit_transform(df_train['genres'])\n",
    "#display(y)\n",
    "vectorizer = CountVectorizer(stop_words='english', max_features=1000, ngram_range=(1,4),min_df=2,max_df=0.8)\n",
    "X_train = vectorizer.fit_transform(df_train['clean_synopsis'])\n",
    "#display(X_train)\n",
    "#print(vectorizer.get_feature_names_out(),len(vectorizer.get_feature_names_out()))\n",
    "#print(X_train.toarray())\n",
    "\n",
    "y_val= mlb.transform(df_val['genres'])\n",
    "X_val = vectorizer.transform(df_val['clean_synopsis'])\n",
    "y_test= mlb.transform(df_test['genres'])\n",
    "X_test = vectorizer.transform(df_test['clean_synopsis'])\n",
    "\n",
    "# from sklearn.multiclass import OneVsRestClassifier\n",
    "# from sklearn.linear_model import LogisticRegression\n",
    "\n",
    "classifier = OneVsRestClassifier(LogisticRegression(class_weight=\"balanced\",max_iter=1000)) #Already tried with balanced class but it is worse\n",
    "classifier.fit(X_train, y_train)                                    #At least when it is not balanced it can overfit the train class\n"
   ]
  },
  {
   "cell_type": "code",
   "execution_count": 11,
   "id": "9f04ee75",
   "metadata": {},
   "outputs": [
    {
     "data": {
      "application/vnd.microsoft.datawrangler.viewer.v0+json": {
       "columns": [
        {
         "name": "index",
         "rawType": "object",
         "type": "string"
        },
        {
         "name": "Top Word 1",
         "rawType": "object",
         "type": "string"
        },
        {
         "name": "Top Word 2",
         "rawType": "object",
         "type": "string"
        },
        {
         "name": "Top Word 3",
         "rawType": "object",
         "type": "string"
        },
        {
         "name": "Top Word 4",
         "rawType": "object",
         "type": "string"
        },
        {
         "name": "Top Word 5",
         "rawType": "object",
         "type": "string"
        }
       ],
       "conversionMethod": "pd.DataFrame",
       "ref": "573e19cd-1844-4a35-a897-dcc37e088ba2",
       "rows": [
        [
         "Action",
         "killing ",
         "lupin ",
         "assassin ",
         "agent ",
         "attacked "
        ],
        [
         "Adventure",
         "pokémon ",
         "conan ",
         "chase ",
         "storm ",
         "adventure "
        ],
        [
         "Comedy",
         "comedy ",
         "eccentric ",
         "otaku ",
         "bad ",
         "exam "
        ],
        [
         "Drama",
         "natsume ",
         "tv series ",
         "chosen ",
         "truly ",
         "suffering "
        ],
        [
         "Fantasy",
         "pokemon ",
         "fantasy ",
         "pokémon ",
         "ball ",
         "magic "
        ],
        [
         "Historical",
         "era ",
         "period ",
         "history ",
         "ally ",
         "emperor "
        ],
        [
         "Kids",
         "pokémon ",
         "pokemon ",
         "safety ",
         "satoshi ",
         "built "
        ],
        [
         "Mecha",
         "gundam ",
         "robot ",
         "cyborg ",
         "pilot ",
         "giant "
        ],
        [
         "Music",
         "music ",
         "idol ",
         "band ",
         "song ",
         "truth "
        ],
        [
         "Mystery",
         "conan ",
         "detective ",
         "solve ",
         "mystery ",
         "rumor "
        ],
        [
         "Romance",
         "romantic ",
         "romance ",
         "allows ",
         "couple ",
         "relationship "
        ],
        [
         "School",
         "classmate ",
         "academy ",
         "school life ",
         "girl named ",
         "council "
        ],
        [
         "Sci-Fi",
         "cyborg ",
         "android ",
         "robot ",
         "suit ",
         "computer "
        ],
        [
         "Seinen",
         "lupin ",
         "say ",
         "racing ",
         "constantly ",
         "loses "
        ],
        [
         "Shoujo",
         "cure ",
         "birthday ",
         "transform ",
         "romantic ",
         "natsume "
        ],
        [
         "Shounen",
         "conan ",
         "year ago ",
         "chase ",
         "training ",
         "upcoming "
        ],
        [
         "Slice of Life",
         "losing ",
         "office ",
         "grand ",
         "following ",
         "natsume "
        ],
        [
         "Sports",
         "baseball ",
         "sport ",
         "soccer ",
         "tennis ",
         "racing "
        ],
        [
         "Super Power",
         "bond ",
         "ball ",
         "ability ",
         "apart ",
         "birthday "
        ],
        [
         "Supernatural",
         "supernatural ",
         "ghost ",
         "youkai ",
         "vampire ",
         "reveals "
        ]
       ],
       "shape": {
        "columns": 5,
        "rows": 20
       }
      },
      "text/html": [
       "<div>\n",
       "<style scoped>\n",
       "    .dataframe tbody tr th:only-of-type {\n",
       "        vertical-align: middle;\n",
       "    }\n",
       "\n",
       "    .dataframe tbody tr th {\n",
       "        vertical-align: top;\n",
       "    }\n",
       "\n",
       "    .dataframe thead th {\n",
       "        text-align: right;\n",
       "    }\n",
       "</style>\n",
       "<table border=\"1\" class=\"dataframe\">\n",
       "  <thead>\n",
       "    <tr style=\"text-align: right;\">\n",
       "      <th></th>\n",
       "      <th>Top Word 1</th>\n",
       "      <th>Top Word 2</th>\n",
       "      <th>Top Word 3</th>\n",
       "      <th>Top Word 4</th>\n",
       "      <th>Top Word 5</th>\n",
       "    </tr>\n",
       "  </thead>\n",
       "  <tbody>\n",
       "    <tr>\n",
       "      <th>Action</th>\n",
       "      <td>killing</td>\n",
       "      <td>lupin</td>\n",
       "      <td>assassin</td>\n",
       "      <td>agent</td>\n",
       "      <td>attacked</td>\n",
       "    </tr>\n",
       "    <tr>\n",
       "      <th>Adventure</th>\n",
       "      <td>pokémon</td>\n",
       "      <td>conan</td>\n",
       "      <td>chase</td>\n",
       "      <td>storm</td>\n",
       "      <td>adventure</td>\n",
       "    </tr>\n",
       "    <tr>\n",
       "      <th>Comedy</th>\n",
       "      <td>comedy</td>\n",
       "      <td>eccentric</td>\n",
       "      <td>otaku</td>\n",
       "      <td>bad</td>\n",
       "      <td>exam</td>\n",
       "    </tr>\n",
       "    <tr>\n",
       "      <th>Drama</th>\n",
       "      <td>natsume</td>\n",
       "      <td>tv series</td>\n",
       "      <td>chosen</td>\n",
       "      <td>truly</td>\n",
       "      <td>suffering</td>\n",
       "    </tr>\n",
       "    <tr>\n",
       "      <th>Fantasy</th>\n",
       "      <td>pokemon</td>\n",
       "      <td>fantasy</td>\n",
       "      <td>pokémon</td>\n",
       "      <td>ball</td>\n",
       "      <td>magic</td>\n",
       "    </tr>\n",
       "    <tr>\n",
       "      <th>Historical</th>\n",
       "      <td>era</td>\n",
       "      <td>period</td>\n",
       "      <td>history</td>\n",
       "      <td>ally</td>\n",
       "      <td>emperor</td>\n",
       "    </tr>\n",
       "    <tr>\n",
       "      <th>Kids</th>\n",
       "      <td>pokémon</td>\n",
       "      <td>pokemon</td>\n",
       "      <td>safety</td>\n",
       "      <td>satoshi</td>\n",
       "      <td>built</td>\n",
       "    </tr>\n",
       "    <tr>\n",
       "      <th>Mecha</th>\n",
       "      <td>gundam</td>\n",
       "      <td>robot</td>\n",
       "      <td>cyborg</td>\n",
       "      <td>pilot</td>\n",
       "      <td>giant</td>\n",
       "    </tr>\n",
       "    <tr>\n",
       "      <th>Music</th>\n",
       "      <td>music</td>\n",
       "      <td>idol</td>\n",
       "      <td>band</td>\n",
       "      <td>song</td>\n",
       "      <td>truth</td>\n",
       "    </tr>\n",
       "    <tr>\n",
       "      <th>Mystery</th>\n",
       "      <td>conan</td>\n",
       "      <td>detective</td>\n",
       "      <td>solve</td>\n",
       "      <td>mystery</td>\n",
       "      <td>rumor</td>\n",
       "    </tr>\n",
       "    <tr>\n",
       "      <th>Romance</th>\n",
       "      <td>romantic</td>\n",
       "      <td>romance</td>\n",
       "      <td>allows</td>\n",
       "      <td>couple</td>\n",
       "      <td>relationship</td>\n",
       "    </tr>\n",
       "    <tr>\n",
       "      <th>School</th>\n",
       "      <td>classmate</td>\n",
       "      <td>academy</td>\n",
       "      <td>school life</td>\n",
       "      <td>girl named</td>\n",
       "      <td>council</td>\n",
       "    </tr>\n",
       "    <tr>\n",
       "      <th>Sci-Fi</th>\n",
       "      <td>cyborg</td>\n",
       "      <td>android</td>\n",
       "      <td>robot</td>\n",
       "      <td>suit</td>\n",
       "      <td>computer</td>\n",
       "    </tr>\n",
       "    <tr>\n",
       "      <th>Seinen</th>\n",
       "      <td>lupin</td>\n",
       "      <td>say</td>\n",
       "      <td>racing</td>\n",
       "      <td>constantly</td>\n",
       "      <td>loses</td>\n",
       "    </tr>\n",
       "    <tr>\n",
       "      <th>Shoujo</th>\n",
       "      <td>cure</td>\n",
       "      <td>birthday</td>\n",
       "      <td>transform</td>\n",
       "      <td>romantic</td>\n",
       "      <td>natsume</td>\n",
       "    </tr>\n",
       "    <tr>\n",
       "      <th>Shounen</th>\n",
       "      <td>conan</td>\n",
       "      <td>year ago</td>\n",
       "      <td>chase</td>\n",
       "      <td>training</td>\n",
       "      <td>upcoming</td>\n",
       "    </tr>\n",
       "    <tr>\n",
       "      <th>Slice of Life</th>\n",
       "      <td>losing</td>\n",
       "      <td>office</td>\n",
       "      <td>grand</td>\n",
       "      <td>following</td>\n",
       "      <td>natsume</td>\n",
       "    </tr>\n",
       "    <tr>\n",
       "      <th>Sports</th>\n",
       "      <td>baseball</td>\n",
       "      <td>sport</td>\n",
       "      <td>soccer</td>\n",
       "      <td>tennis</td>\n",
       "      <td>racing</td>\n",
       "    </tr>\n",
       "    <tr>\n",
       "      <th>Super Power</th>\n",
       "      <td>bond</td>\n",
       "      <td>ball</td>\n",
       "      <td>ability</td>\n",
       "      <td>apart</td>\n",
       "      <td>birthday</td>\n",
       "    </tr>\n",
       "    <tr>\n",
       "      <th>Supernatural</th>\n",
       "      <td>supernatural</td>\n",
       "      <td>ghost</td>\n",
       "      <td>youkai</td>\n",
       "      <td>vampire</td>\n",
       "      <td>reveals</td>\n",
       "    </tr>\n",
       "  </tbody>\n",
       "</table>\n",
       "</div>"
      ],
      "text/plain": [
       "                  Top Word 1  Top Word 2    Top Word 3   Top Word 4  \\\n",
       "Action              killing       lupin      assassin        agent    \n",
       "Adventure           pokémon       conan         chase        storm    \n",
       "Comedy               comedy   eccentric         otaku          bad    \n",
       "Drama               natsume   tv series        chosen        truly    \n",
       "Fantasy             pokemon     fantasy       pokémon         ball    \n",
       "Historical              era      period       history         ally    \n",
       "Kids                pokémon     pokemon        safety      satoshi    \n",
       "Mecha                gundam       robot        cyborg        pilot    \n",
       "Music                 music        idol          band         song    \n",
       "Mystery               conan   detective         solve      mystery    \n",
       "Romance            romantic     romance        allows       couple    \n",
       "School            classmate     academy   school life   girl named    \n",
       "Sci-Fi               cyborg     android         robot         suit    \n",
       "Seinen                lupin         say        racing   constantly    \n",
       "Shoujo                 cure    birthday     transform     romantic    \n",
       "Shounen               conan    year ago         chase     training    \n",
       "Slice of Life        losing      office         grand    following    \n",
       "Sports             baseball       sport        soccer       tennis    \n",
       "Super Power            bond        ball       ability        apart    \n",
       "Supernatural   supernatural       ghost        youkai      vampire    \n",
       "\n",
       "                  Top Word 5  \n",
       "Action             attacked   \n",
       "Adventure         adventure   \n",
       "Comedy                 exam   \n",
       "Drama             suffering   \n",
       "Fantasy               magic   \n",
       "Historical          emperor   \n",
       "Kids                  built   \n",
       "Mecha                 giant   \n",
       "Music                 truth   \n",
       "Mystery               rumor   \n",
       "Romance        relationship   \n",
       "School              council   \n",
       "Sci-Fi             computer   \n",
       "Seinen                loses   \n",
       "Shoujo              natsume   \n",
       "Shounen            upcoming   \n",
       "Slice of Life       natsume   \n",
       "Sports               racing   \n",
       "Super Power        birthday   \n",
       "Supernatural        reveals   "
      ]
     },
     "metadata": {},
     "output_type": "display_data"
    }
   ],
   "source": [
    "import pandas as pd\n",
    "import numpy as np\n",
    "\n",
    "# Initialize the DataFrame for the most influential words\n",
    "influential_words_df = pd.DataFrame(columns=[f\"Top Word {i+1}\" for i in range(5)])\n",
    "\n",
    "# Extract feature names from the vectorizer\n",
    "feature_names = vectorizer.get_feature_names_out()\n",
    "\n",
    "# Iterate over each class and its logistic regression estimator\n",
    "for class_index, estimator in enumerate(classifier.estimators_):\n",
    "    class_name = mlb.classes_[class_index]\n",
    "\n",
    "    # Get the coefficients for the current class from the estimator\n",
    "    coefficients = estimator.coef_.flatten()\n",
    "\n",
    "    # Combine words with their coefficients\n",
    "    word_stats = list(zip(feature_names, coefficients))\n",
    "\n",
    "    # Sort words by absolute coefficient value (impact on prediction)\n",
    "    sorted_words = sorted(word_stats, key=lambda x: x[1], reverse=True)\n",
    "\n",
    "    # Select the top 5 most influential words\n",
    "    top_5_words = [f\"{word} \" for word, coef in sorted_words[:5]]#({coef:.4f})\n",
    "\n",
    "    # Add the top words to the DataFrame as a new row\n",
    "    influential_words_df.loc[class_name] = pd.Series(top_5_words, index=influential_words_df.columns)\n",
    "\n",
    "# Display the DataFrame\n",
    "display(influential_words_df)\n",
    "#influential_words_df.to_csv('BOW LR words.csv',  index=False)"
   ]
  },
  {
   "cell_type": "code",
   "execution_count": 12,
   "id": "736e7776",
   "metadata": {},
   "outputs": [
    {
     "name": "stdout",
     "output_type": "stream",
     "text": [
      "0.5 threshold\n",
      "\n",
      "📊 Evaluation Metrics:\n",
      "                 Metric     Value\n",
      "0              F1 Score  0.431743\n",
      "1             Precision  0.350234\n",
      "2                Recall  0.583605\n",
      "3  Exact Match Accuracy  0.014574\n",
      "4          Hamming Loss  0.204765\n",
      "5         Jaccard Score  0.282711\n",
      "6              Hit Rate  0.871076\n",
      "7               ROC AUC  0.772704\n",
      "\n",
      "📊 Evaluation Metrics:\n",
      "                 Metric     Value\n",
      "0              F1 Score  0.429595\n",
      "1             Precision  0.346975\n",
      "2                Recall  0.582884\n",
      "3  Exact Match Accuracy  0.005612\n",
      "4          Hamming Loss  0.202132\n",
      "5         Jaccard Score  0.280953\n",
      "6              Hit Rate  0.878788\n",
      "7               ROC AUC  0.768578\n",
      "prior threshold\n",
      "\n",
      "📊 Evaluation Metrics:\n",
      "                 Metric     Value\n",
      "0              F1 Score  0.346900\n",
      "1             Precision  0.233916\n",
      "2                Recall  0.788879\n",
      "3  Exact Match Accuracy  0.001122\n",
      "4          Hamming Loss  0.381538\n",
      "5         Jaccard Score  0.218002\n",
      "6              Hit Rate  0.955107\n",
      "7               ROC AUC  0.768578\n",
      "F1 threshold\n",
      "Label 0: Best threshold = 0.37, F1 = 0.6364\n",
      "Label 1: Best threshold = 0.67, F1 = 0.5036\n",
      "Label 2: Best threshold = 0.35, F1 = 0.6294\n",
      "Label 3: Best threshold = 0.85, F1 = 0.3247\n",
      "Label 4: Best threshold = 0.71, F1 = 0.4988\n",
      "Label 5: Best threshold = 0.99, F1 = 0.3218\n",
      "Label 6: Best threshold = 0.98, F1 = 0.1935\n",
      "Label 7: Best threshold = 0.95, F1 = 0.5091\n",
      "Label 8: Best threshold = 0.93, F1 = 0.6190\n",
      "Label 9: Best threshold = 0.50, F1 = 0.0000\n",
      "Label 10: Best threshold = 0.78, F1 = 0.4504\n",
      "Label 11: Best threshold = 0.79, F1 = 0.5349\n",
      "Label 12: Best threshold = 0.81, F1 = 0.6074\n",
      "Label 13: Best threshold = 0.50, F1 = 0.0000\n",
      "Label 14: Best threshold = 1.00, F1 = 0.0656\n",
      "Label 15: Best threshold = 0.99, F1 = 0.1013\n",
      "Label 16: Best threshold = 0.91, F1 = 0.3441\n",
      "Label 17: Best threshold = 0.89, F1 = 0.7105\n",
      "Label 18: Best threshold = 1.00, F1 = 0.1509\n",
      "Label 19: Best threshold = 0.80, F1 = 0.4887\n",
      "\n",
      "📊 Evaluation Metrics:\n",
      "                 Metric     Value\n",
      "0              F1 Score  0.387687\n",
      "1             Precision  0.486176\n",
      "2                Recall  0.383068\n",
      "3  Exact Match Accuracy  0.051627\n",
      "4          Hamming Loss  0.150673\n",
      "5         Jaccard Score  0.257225\n",
      "6              Hit Rate  0.799102\n",
      "7               ROC AUC  0.768578\n",
      "MCC threshold\n",
      "Label 0: Best threshold = 0.37, MCC = 0.4421\n",
      "Label 1: Best threshold = 0.53, MCC = 0.3732\n",
      "Label 2: Best threshold = 0.43, MCC = 0.2986\n",
      "Label 3: Best threshold = 0.52, MCC = 0.2612\n",
      "Label 4: Best threshold = 0.79, MCC = 0.3668\n",
      "Label 5: Best threshold = 0.58, MCC = 0.3804\n",
      "Label 6: Best threshold = 0.44, MCC = 0.3386\n",
      "Label 7: Best threshold = 0.97, MCC = 0.4999\n",
      "Label 8: Best threshold = 0.96, MCC = 0.6092\n",
      "Label 9: Best threshold = 0.60, MCC = 0.3326\n",
      "Label 10: Best threshold = 0.78, MCC = 0.3593\n",
      "Label 11: Best threshold = 0.79, MCC = 0.4578\n",
      "Label 12: Best threshold = 0.81, MCC = 0.5238\n",
      "Label 13: Best threshold = 0.07, MCC = 0.1179\n",
      "Label 14: Best threshold = 0.64, MCC = 0.2477\n",
      "Label 15: Best threshold = 0.57, MCC = 0.1960\n",
      "Label 16: Best threshold = 0.85, MCC = 0.3091\n",
      "Label 17: Best threshold = 0.98, MCC = 0.7213\n",
      "Label 18: Best threshold = 0.99, MCC = 0.2091\n",
      "Label 19: Best threshold = 0.95, MCC = 0.4525\n",
      "\n",
      "📊 Evaluation Metrics:\n",
      "                 Metric     Value\n",
      "0              F1 Score  0.429413\n",
      "1             Precision  0.441166\n",
      "2                Recall  0.485358\n",
      "3  Exact Match Accuracy  0.016835\n",
      "4          Hamming Loss  0.184063\n",
      "5         Jaccard Score  0.282492\n",
      "6              Hit Rate  0.836139\n",
      "7               ROC AUC  0.768578\n"
     ]
    }
   ],
   "source": [
    "from sklearn.metrics import f1_score, precision_score, recall_score, accuracy_score, hamming_loss, jaccard_score, roc_auc_score\n",
    "import numpy as np\n",
    "import pandas as pd\n",
    "\n",
    "def predict_genres_with_logreg(classifier, vectorizer, df_source, mlb, id2label, threshold=0.5):\n",
    "    # Vectorize clean synopsis\n",
    "    X = vectorizer.transform(df_source['clean_synopsis'])\n",
    "    y_true = mlb.transform(df_source['genres'])\n",
    "\n",
    "    # Predict probabilities and apply threshold\n",
    "    probabilities = classifier.predict_proba(X)\n",
    "    probabilities = np.array(probabilities)  # list of arrays → array\n",
    "    if isinstance(probabilities, list):  # OneVsRestClassifier returns list of arrays\n",
    "        probabilities = np.vstack([p[:, 1] for p in probabilities]).T\n",
    "    predictions = (probabilities >= threshold).astype(int)\n",
    "\n",
    "    # Decode predicted genres using id2label\n",
    "    predicted_genres = []\n",
    "    for row in predictions:\n",
    "        genres = [id2label[i] for i, val in enumerate(row) if val == 1]\n",
    "        predicted_genres.append(genres)\n",
    "\n",
    "    # === Calculate metrics ===\n",
    "    f1 = f1_score(y_true, predictions, average='macro')\n",
    "    precision = precision_score(y_true, predictions, average='macro')\n",
    "    recall = recall_score(y_true, predictions, average='macro')\n",
    "    accuracy = accuracy_score(y_true, predictions)\n",
    "    hamming = hamming_loss(y_true, predictions)\n",
    "    jaccard = jaccard_score(y_true, predictions, average='macro')\n",
    "    hit_rate = (np.logical_and(y_true, predictions).sum(axis=1) > 0).mean()\n",
    "    try:\n",
    "        roc_auc = roc_auc_score(y_true, probabilities, average='macro')\n",
    "    except ValueError:\n",
    "        roc_auc = np.nan\n",
    "\n",
    "    metrics_df = pd.DataFrame({\n",
    "        'Metric': [\n",
    "            'F1 Score', 'Precision', 'Recall', 'Exact Match Accuracy',\n",
    "            'Hamming Loss', 'Jaccard Score', 'Hit Rate', 'ROC AUC'\n",
    "        ],\n",
    "        'Value': [\n",
    "            f1, precision, recall, accuracy,\n",
    "            hamming, jaccard, hit_rate, roc_auc\n",
    "        ]\n",
    "    })\n",
    "\n",
    "    # Build result DataFrame\n",
    "    result_df = pd.DataFrame({\n",
    "        \"synopsis\": df_source[\"synopsis\"].values,\n",
    "        \"true_genres\": df_source[\"genres\"].values,\n",
    "        \"predicted_genres\": predicted_genres\n",
    "    })\n",
    "\n",
    "    print(\"\\n📊 Evaluation Metrics:\")\n",
    "    print(metrics_df)\n",
    "\n",
    "    return result_df, metrics_df, probabilities, y_true, predictions\n",
    "\n",
    "print(\"0.5 threshold\")\n",
    "use_thresh=0.5\n",
    "id2label = {i: label for i, label in enumerate(mlb.classes_)}\n",
    "#df_train_results, train_metrics, train_prob, train_labels, train_pred  = predict_genres_with_logreg(classifier, vectorizer, df_train, mlb, id2label, threshold=use_thresh)\n",
    "df_val_results, val_metrics, val_prob, val_labels, val_pred = predict_genres_with_logreg(classifier, vectorizer, df_val, mlb, id2label, threshold=use_thresh)\n",
    "df_test_results, test_metrics, test_prob, test_labels, test_pred = predict_genres_with_logreg(classifier, vectorizer, df_test, mlb, id2label, threshold=use_thresh)\n",
    "\n",
    "\n",
    "print(\"prior threshold\")\n",
    "use_thresh=prior_threshold\n",
    "df_test_results, test_metrics, test_prob, test_labels, test_pred = predict_genres_with_logreg(classifier, vectorizer, df_test, mlb, id2label, threshold=use_thresh)\n",
    "\n",
    "print(\"F1 threshold\")\n",
    "optimised_thresh=optimize_thresholds_with_precision_constraint(val_prob,val_labels)\n",
    "use_thresh=optimised_thresh\n",
    "df_test_results, test_metrics, test_prob, test_labels, test_pred = predict_genres_with_logreg(classifier, vectorizer, df_test, mlb, id2label, threshold=use_thresh)\n",
    "\n",
    "print(\"MCC threshold\")\n",
    "optimised_thresh=optimize_thresholds_with_mcc_constraint(val_prob,val_labels)\n",
    "use_thresh=optimised_thresh\n",
    "df_test_results, test_metrics, test_prob, test_labels, test_pred = predict_genres_with_logreg(classifier, vectorizer, df_test, mlb, id2label, threshold=use_thresh)"
   ]
  },
  {
   "cell_type": "code",
   "execution_count": 7,
   "id": "54d27af9",
   "metadata": {},
   "outputs": [
    {
     "name": "stdout",
     "output_type": "stream",
     "text": [
      "               precision    recall  f1-score   support\n",
      "\n",
      "       Action       0.67      0.80      0.73      2227\n",
      "    Adventure       0.59      0.83      0.69      1552\n",
      "       Comedy       0.68      0.77      0.72      2913\n",
      "        Drama       0.48      0.78      0.60      1473\n",
      "      Fantasy       0.60      0.81      0.69      1686\n",
      "   Historical       0.43      0.96      0.59       529\n",
      "         Kids       0.45      0.98      0.62       594\n",
      "        Mecha       0.56      0.97      0.71       543\n",
      "        Music       0.49      0.98      0.66       366\n",
      "      Mystery       0.54      0.98      0.70       474\n",
      "      Romance       0.50      0.84      0.63      1195\n",
      "       School       0.58      0.92      0.71       968\n",
      "       Sci-Fi       0.63      0.87      0.73      1419\n",
      "       Seinen       0.35      0.95      0.51       507\n",
      "       Shoujo       0.41      0.98      0.58       402\n",
      "      Shounen       0.43      0.82      0.57      1141\n",
      "Slice of Life       0.46      0.90      0.61      1004\n",
      "       Sports       0.66      1.00      0.80       361\n",
      "  Super Power       0.40      0.98      0.57       356\n",
      " Supernatural       0.48      0.91      0.63       909\n",
      "\n",
      "    micro avg       0.54      0.86      0.66     20619\n",
      "    macro avg       0.52      0.90      0.65     20619\n",
      " weighted avg       0.56      0.86      0.67     20619\n",
      "  samples avg       0.54      0.85      0.63     20619\n",
      "\n",
      "               precision    recall  f1-score   support\n",
      "\n",
      "       Action       0.58      0.69      0.63       278\n",
      "    Adventure       0.47      0.64      0.54       205\n",
      "       Comedy       0.56      0.67      0.61       364\n",
      "        Drama       0.34      0.54      0.42       184\n",
      "      Fantasy       0.44      0.62      0.51       214\n",
      "   Historical       0.30      0.67      0.41        66\n",
      "         Kids       0.29      0.59      0.39        75\n",
      "        Mecha       0.33      0.65      0.44        69\n",
      "        Music       0.34      0.61      0.44        46\n",
      "      Mystery       0.28      0.52      0.36        60\n",
      "      Romance       0.39      0.63      0.48       144\n",
      "       School       0.43      0.71      0.53       121\n",
      "       Sci-Fi       0.50      0.69      0.58       178\n",
      "       Seinen       0.12      0.31      0.18        70\n",
      "       Shoujo       0.20      0.42      0.27        57\n",
      "      Shounen       0.25      0.50      0.34       142\n",
      "Slice of Life       0.29      0.60      0.39       125\n",
      "       Sports       0.54      0.64      0.59        45\n",
      "  Super Power       0.11      0.33      0.17        45\n",
      " Supernatural       0.32      0.62      0.43       113\n",
      "\n",
      "    micro avg       0.38      0.61      0.47      2601\n",
      "    macro avg       0.35      0.58      0.44      2601\n",
      " weighted avg       0.41      0.61      0.49      2601\n",
      "  samples avg       0.39      0.62      0.45      2601\n",
      "\n",
      "               precision    recall  f1-score   support\n",
      "\n",
      "       Action       0.59      0.70      0.64       279\n",
      "    Adventure       0.39      0.63      0.48       183\n",
      "       Comedy       0.56      0.61      0.59       364\n",
      "        Drama       0.32      0.53      0.40       184\n",
      "      Fantasy       0.48      0.65      0.55       208\n",
      "   Historical       0.25      0.52      0.34        66\n",
      "         Kids       0.31      0.62      0.42        74\n",
      "        Mecha       0.34      0.55      0.42        75\n",
      "        Music       0.31      0.57      0.40        46\n",
      "      Mystery       0.28      0.47      0.35        59\n",
      "      Romance       0.37      0.63      0.47       157\n",
      "       School       0.39      0.69      0.50       121\n",
      "       Sci-Fi       0.51      0.70      0.59       177\n",
      "       Seinen       0.12      0.30      0.17        69\n",
      "       Shoujo       0.17      0.37      0.24        49\n",
      "      Shounen       0.32      0.59      0.41       145\n",
      "Slice of Life       0.30      0.60      0.40       126\n",
      "       Sports       0.47      0.73      0.57        45\n",
      "  Super Power       0.17      0.48      0.25        44\n",
      " Supernatural       0.33      0.60      0.42       114\n",
      "\n",
      "    micro avg       0.38      0.61      0.47      2585\n",
      "    macro avg       0.35      0.58      0.43      2585\n",
      " weighted avg       0.41      0.61      0.48      2585\n",
      "  samples avg       0.39      0.62      0.44      2585\n",
      "\n"
     ]
    },
    {
     "name": "stderr",
     "output_type": "stream",
     "text": [
      "c:\\Users\\User\\anaconda3\\envs\\nlp_env\\lib\\site-packages\\sklearn\\metrics\\_classification.py:1565: UndefinedMetricWarning: Precision is ill-defined and being set to 0.0 in samples with no predicted labels. Use `zero_division` parameter to control this behavior.\n",
      "  _warn_prf(average, modifier, f\"{metric.capitalize()} is\", len(result))\n",
      "c:\\Users\\User\\anaconda3\\envs\\nlp_env\\lib\\site-packages\\sklearn\\metrics\\_classification.py:1565: UndefinedMetricWarning: Precision is ill-defined and being set to 0.0 in samples with no predicted labels. Use `zero_division` parameter to control this behavior.\n",
      "  _warn_prf(average, modifier, f\"{metric.capitalize()} is\", len(result))\n"
     ]
    }
   ],
   "source": [
    "\n",
    "from sklearn.metrics import classification_report\n",
    "\n",
    "print(classification_report(train_labels, train_pred, target_names=all_genres))\n",
    "print(classification_report(val_labels, val_pred, target_names=all_genres))\n",
    "print(classification_report(test_labels, test_pred, target_names=all_genres))"
   ]
  },
  {
   "cell_type": "code",
   "execution_count": 8,
   "id": "b41625bb",
   "metadata": {},
   "outputs": [
    {
     "data": {
      "application/vnd.microsoft.datawrangler.viewer.v0+json": {
       "columns": [
        {
         "name": "index",
         "rawType": "int64",
         "type": "integer"
        },
        {
         "name": "synopsis",
         "rawType": "object",
         "type": "string"
        },
        {
         "name": "true_genres",
         "rawType": "object",
         "type": "unknown"
        },
        {
         "name": "predicted_genres",
         "rawType": "object",
         "type": "unknown"
        }
       ],
       "conversionMethod": "pd.DataFrame",
       "ref": "c1835d57-ef69-459b-9dfa-39d09e5a01b5",
       "rows": [
        [
         "0",
         "Shuramaru is hated and feared by the villagers for his unusual powers. He thinks he is human, but... is he?",
         "['Supernatural']",
         "['Comedy', 'Fantasy', 'Historical', 'Kids', 'Sci-Fi', 'Shounen', 'Supernatural']"
        ],
        [
         "1",
         "Sometime in the future, the world was completely dried up and became all desert. They had little rivers and lakes left, which villians and dangerous animals lived. Water has become the most valueable thing on the world. Whoever can control water will rule over the world.",
         "['Action', 'Adventure']",
         "['Fantasy', 'Kids']"
        ],
        [
         "2",
         "Set in 2014, the anime follows the adventures of 23 years old Mafuneko, a newly minted assistant director who joins the TV production department at Tokyo Hajikko Television, only to discover that the glamorous and glitzy life of working behind-the-scenes making TV shows involves strange and inexplicable tasks such as \"gathering 300 acorns\" and \"making a mosaic out of the images reflected in the camera lens.\" Despite being surrounded by chaos, set-backs, and weirdos, Mafuneko struggles to become a fully-fledged TV producer.",
         "['Comedy']",
         "['Comedy', 'Fantasy', 'Slice of Life']"
        ],
        [
         "3",
         "This story is about Mick, a sleeping chironomid. Insects are taken up into space for use in experiments by humans. An epic space adventure of Mick and his friends of their journey back home to Earth. The development plans and experiments are aborted by humans for no known reason, the organisms are left behind in the space station with limited resources. Going over hurdles and fighting through challenges, together, they travel across planets and gain new comrades, heading for Earth. As their journey progresses, the mystery behind the human’s abandonment unravels…",
         "['Adventure']",
         "['Action', 'Adventure', 'Drama', 'Sci-Fi', 'Shounen']"
        ],
        [
         "4",
         "The anime is based on MegaHouse's line of Ziguru Hazeru (literally, \"Jiggle and Pop Out\") mecha toys that allow people to remove parts from the joints and add different parts in their place. In addition, if one combines together Hazeru Gokuu, Hazeru Sagojo, and Hazeru Hakkai, the resulting mecha will be Hazeru Seioh, allowing for users to combine their toys together.  The ZIGURUHAZERU animated series is based on the upcoming original toy line of the same name from MegaHouse, featuring cool robot toys modelled after characters from the famous Journey to the West tale.",
         "['Action', 'Mecha']",
         "['Mecha']"
        ],
        [
         "5",
         "Himeno Mimika is a daughter of historical cook family. She goes to a cooking school, Miracle Academy which train cooks all over the world. Vying with rivals, she brings out her gift, and she grows up as a cook.",
         "['Kids', 'Slice of Life']",
         "['Comedy', 'Kids', 'Mystery', 'School', 'Shounen', 'Slice of Life']"
        ],
        [
         "6",
         "Fuwa Beibei encounters the severely injured goddess, Athena. In order to help Athena regain strength, Beibei sets out to find a mysterious wooden box left by Coubertin in 1894, but the worrying thing is that Pixiu who injured his stomach from his glutinous eating habits heard this news too. He thought that this mysterious energy could not only cure his stomach, but also improve his magic, and such begins the journey through time and space of two spirits with different aims. After all the hardships, they found the sixth son of the dragon - Bixi, and after the two's efforts in passing his test, Bixi carries them along 100 years of Olympic history.",
         "['Historical']",
         "['Action', 'Drama', 'Historical', 'Romance']"
        ],
        [
         "7",
         "The anime will depict various vehicles as characters in the \"Mobile Land\" island. The protagonist Car-kun arrives at the island as a delivery worker. Through his deliveries, he gets to know the residents of Mobile Land, all while following traffic rules and having his deliveries stopped by the meddling Sabibi.",
         "['Comedy', 'Kids', 'Slice of Life']",
         "['Fantasy', 'Kids', 'Slice of Life']"
        ],
        [
         "8",
         "The third generation of J SOUL BROTHERS from EXILE TRIBE is reimagined as 7 unique and diverse characters in \"KICK & SLIDE\". This is a slapstick story where the characters solve difficult cases!? and rare cases!? that occur in the colorful and pop vibrant city \"Nakame Town\" with dance and music.",
         "['Kids', 'Music']",
         "['Comedy', 'Historical', 'Kids', 'Music', 'Mystery']"
        ],
        [
         "9",
         "There was once a man who was summoned to another world, and saved it. Of course, he became too popular there, and turned into an isekai-normie. However, that man fell into a \"trap\" and was forcibly returned to his original world. Moreover, he had to start over as a baby!  This is the story of the way-too-fantastic ex-hero who lived as a gloomy high-schooler, as he gets summoned once again to that same other world in a very unexpected development!",
         "['Action', 'Adventure', 'Comedy', 'Fantasy', 'Romance']",
         "['Action', 'Adventure', 'Drama', 'Fantasy', 'Historical', 'Shoujo']"
        ],
        [
         "10",
         "The gag anime takes place at a school for youkai and other supernatural beings. A vampire named Rakuru transfers to the school from the West, and she tries to change the school as the class representative.",
         "['Comedy', 'Supernatural']",
         "['Comedy', 'School', 'Shoujo', 'Supernatural']"
        ],
        [
         "11",
         "The offensive and defensive battles between Nobuo, an office worker, and Chi-Sui Maru, a mosquito.",
         "['Comedy']",
         "['Comedy', 'Slice of Life']"
        ],
        [
         "12",
         "TV adaptation of Cocone Corporation's mobile puzzle game app.  Discover the adventures of the cat painter, Vincent van Meowogh who lives in a mansion in Paris surrounded by his quirky friends. Let's give him a spark of inspiration for his painting by completing puzzle stages, buy back the furniture and restore his home to its former glory!",
         "['Kids']",
         "['Adventure', 'Fantasy', 'Kids']"
        ],
        [
         "13",
         "Kou Yamori seems like a typical middle school student on the surface. Relatively good at studies and amiable with his classmates, he puts a lot of effort into maintaining this facade. One day, however, he decides to stop pretending and quits school, developing insomnia as a result of having no daytime outlet for his energy. When taking walks alone at night, he feels marginally better, though he is aware that his inability to sleep should be considered a serious problem.  On one such walk, Kou meets a weird girl, Nazuna Nanakusa, who diagnoses the cause of his sleeplessness: despite making changes in his life, he is still holding himself back from experiencing true freedom. She says that he won't be able to sleep unless he is satisfied with how he spends his waking hours. When it appears that she has resolved his current worries, Nazuna invites him back to her apartment to share her futon. After a while, unaware that he is only feigning unconsciousness, she leans over him—and bites his neck!",
         "['Romance', 'Shounen', 'Supernatural']",
         "['Comedy', 'Romance', 'Shounen', 'Slice of Life', 'Supernatural']"
        ],
        [
         "14",
         "Ryou Mizushima enrolls in junior high and joins the badminton club with great vigor. Although the club didn't have a proper coach, Mizushima improved his skills with his own physical strength by the time he participated in the prefectural tournament. Afterwards, he is approached by the Yokohama Minato High School's badminton coach, Ebihara.  Indecisive and timid, Mizushima hesitates to attend such a prestigious school. However, with his elder sister Rika giving him a strong push, he decides to go to Yokohama Minato. Now blessed with a coach and idiosyncratic teammates, Mizushima will gain experience he's lacked till now, and aims to win the inter-high tournament.",
         "['Sports']",
         "['School', 'Slice of Life', 'Sports']"
        ],
        [
         "15",
         "Hello Jadoo is a South-Korean TV show about a girl named Choi Jadoo who is a very free-spirited girl. In every episode, she would always get into drama, whether it was with her parents or school. At the same time, she meets new people and she tries to solve problems occurring.",
         "['Slice of Life']",
         "['Adventure', 'Comedy', 'School', 'Slice of Life']"
        ],
        [
         "16",
         "Struggling with life and society, high school student Michio Kaga wanders about the Internet and lands on an odd website. The website, featuring a number of questions and a point based system, allows one to create skills and abilities for a character. Upon completing his character, Kaga was transported to a game-like fantasy world and reborn as a strong man who can claim idol-level girls. Thus begins the cheat and harem legend of a reborn man!",
         "['Action', 'Adventure', 'Fantasy', 'Romance']",
         "['Action', 'Fantasy']"
        ],
        [
         "17",
         "The series revolves around life in Gifu Prefecture in central Japan — as seen through the eyes of Tatekayoko, a female inhabitant who speaks in the dialect of Gifu's Tounou region. The anime will air within the program on Tokyo MX.",
         "['Comedy', 'Kids']",
         "['Historical', 'Kids', 'Seinen']"
        ],
        [
         "18",
         "Matsuri Kazamaki and Suzu Kanade are childhood friends, bonded by their shared ability to see ayakashi—youkai in search of a life force to devour. However, in high school, their relationship deteriorates. As Suzu's one-sided feelings are growing, so is the difference in their ayakashi views: Matsuri considers all ayakashi a threat to his friend, while Suzu is an ayakashi medium—someone who exudes a significant amount of life force compared to the average human—and loves them all despite the risk.  When the two stumble upon a talking white cat named Shirogane, they are unaware that it is a four-hundred-year-old ayakashi known as the \"King of Ayakashi.\" He is hell-bent on gaining even more power by devouring Suzu, but as Matsuri swoops in to try and save her by sealing Shirogane's powers, the ayakashi uses a jutsu to turn him into a girl instead!  Matsuri vows to protect Suzu from further harm as her best friend, but he must learn how to act like a girl until his grandfather—a famous wind jutsu exorcist ninja—can undo the jutsu. Meanwhile, Suzu must work out her romantic feelings for Matsuri now that he is no longer a boy. But when Matsuri takes the king as his pet, the future of the two friends seems uncertain.",
         "['Action', 'Comedy', 'Romance', 'Shounen']",
         "['Comedy', 'Drama', 'Romance', 'School', 'Shounen']"
        ],
        [
         "19",
         "Tsukumogami—spirits or \"marebito\" can possess objects of considerable age and gain a physical form. Although he is part of the Saenome clan that is in charge of peacefully sending them back to their own world, Hyouma Kunato despises them because one took away what was very precious to him. In order to cure him of this loathing, Hyouma's grandfather sends him to live with Botan Nagatsuki, a girl who is the master of six \"friendly\" tsukumogami and lives with them as a family.",
         "['Action', 'Seinen', 'Supernatural']",
         "['Action', 'Fantasy', 'Historical', 'Seinen', 'Shoujo', 'Supernatural']"
        ],
        [
         "20",
         "The 3rd continuation of NTV's ZIP! anime parody shorts. This one focuses on . Like with the previous season, occasionally the Gatchaman team and now the Mazinger Z team show up in some episodes.",
         "['Comedy']",
         "['Kids', 'School', 'Sports']"
        ],
        [
         "21",
         "At Ruby's house, a small event related to the main plot of each episode occurs, before a red jewellery on the chest of Choco, Ruby's Teddy bear, flashes with a melody. Ruby then takes Choco to her room, and the two 'transport' themselves to the Rainbow Village. There, Ruby hears an explanation from Ling Ling, the mayor of Rainbow Village, and transforms herself using her Rainbow Roller into an appropriate clothing to solve problems. Each episode concludes, back home, with another small event.",
         "['Fantasy', 'Kids']",
         "['Comedy', 'Fantasy', 'Historical', 'Kids', 'Mystery', 'Sci-Fi', 'Supernatural']"
        ],
        [
         "22",
         "There is a mysterious power of the Holy Spirit hidden in the legendary continent of Labelle, and the way to get power is recorded in the book of flower, guard by numerous flower Fairy Kings,only the legendary magic ambassador is recognized to wake up the power, and use them to defeat evil. For this.The evil force,led by Jakarta,the Queen of Dark had start a war to the continent of Labelle.With the help of the Flower Goddess,Pupula and the tribe of gouring flower fairys, the fate of the continent of Labelle is linked with an Earth girl... Who is the legendary envoy XiaAnAn.",
         "['Kids']",
         "['Adventure', 'Fantasy', 'Kids', 'Sci-Fi', 'Shounen']"
        ],
        [
         "23",
         "Denji has a simple dream—to live a happy and peaceful life, spending time with a girl he likes. This is a far cry from reality, however, as Denji is forced by the yakuza into killing devils in order to pay off his crushing debts. Using his pet devil Pochita as a weapon, he is ready to do anything for a bit of cash.  Unfortunately, he has outlived his usefulness and is murdered by a devil in contract with the yakuza. However, in an unexpected turn of events, Pochita merges with Denji's dead body and grants him the powers of a chainsaw devil. Now able to transform parts of his body into chainsaws, a revived Denji uses his new abilities to quickly and brutally dispatch his enemies. Catching the eye of the official devil hunters who arrive at the scene, he is offered work at the Public Safety Bureau as one of them. Now with the means to face even the toughest of enemies, Denji will stop at nothing to achieve his simple teenage dreams.",
         "['Action', 'Adventure', 'Shounen']",
         "['Action', 'Adventure', 'Fantasy', 'Mystery', 'Romance', 'Shounen', 'Supernatural']"
        ],
        [
         "24",
         "6.5-centimeter tall Degirdians fall to Earth in their spacecraft while chasing fugitives. Their spaceship transforms into a capsule toy stand near a toy store and a human boy accidentally takes home one of the aliens thinking it's a capsule toy. They befriend a human boy and try to figure out a way to get home all while fighting off the evil alien.",
         "['Kids', 'Sci-Fi']",
         "['Kids', 'Sci-Fi', 'Shounen']"
        ],
        [
         "25",
         "The anime is set on the titular Musical Note Island, where the god of music is said to reside. The island is home to \"instrument animals,\" who are born from music energy, and have parts of their body composed of a musical instrument. One day, a witch arrives at the island. The warrior girl Cara must go on a journey to defeat the witch and win back the peace on the island.",
         "['Adventure', 'Fantasy', 'Kids']",
         "['Adventure', 'Fantasy', 'Kids', 'Music']"
        ],
        [
         "26",
         "A more educational season of GG Bond. This season is composed of 2 arcs, each arc has 52 episodes.  GG Bond works on cleaning up some fossils at the lab as they'll be used in a museum exhibit. He uses a fossil to create a data coin that is compatible with his special jet. This allows for him to travel back in time to the original animal (a T-Rex) the fossil was made of. While GG Bond is ecstatic to learn about dinosaurs in-person (as well as mine more accurate data for the data coin), he didn't quite realize the danger he'd be in. He successfully gets out of this sticky situation but there's still a lot more dinosaurs he needs to get information on.",
         "['Historical', 'Kids', 'Sci-Fi', 'Super Power']",
         "['Adventure', 'Comedy', 'Historical', 'Kids', 'Sci-Fi', 'Super Power', 'Supernatural']"
        ],
        [
         "27",
         "While it may seem like a mere depiction of everyday life, The Sound of Your Heart is a comedy filled to the brim with wit, sarcasm, and parody. It gives no regard for the probable or realistic- it is a series of absurd situations that is sure to get a laugh out of every reader willing to suspend their sense of reality.",
         "['Comedy', 'Slice of Life']",
         "['Comedy', 'Romance', 'School', 'Slice of Life', 'Supernatural']"
        ],
        [
         "28",
         "The anime will follow two units from the Vazzrock series—Vazzy and Rock Down.",
         "['Music']",
         "['Historical', 'Music']"
        ],
        [
         "29",
         "The 3rd animated season. It follows an entirely new story and new characters unrelated to the previous seasons. The previous seasons metaphorical usage of magic/spirit/chi to visualize yoyo battles has now become literal. The yoyo toys have spirit animals within them and the cast tries to return them to their world before the villains use them for evil purposes.  Leon has an argument with his classmate Gurido for trifle. At the advice of Catherine, Leon and Gurido decide to judge the victory or defeat through yoyo competition. The Daemon Tiger appears when Leon and Gurido begin to fight in the woods. Leon follows Daemon Tiger and work with it. With Daemon Tiger’s help, Leon defeats Gurido.",
         "['Fantasy', 'Kids']",
         "['Adventure', 'Comedy', 'Fantasy', 'Kids']"
        ],
        [
         "30",
         "is an animation series with some educational undertones targeting 5~7-year-old kids. The entire series is set against the backdrop of a supermarket. Viewing the animations, children will be able to imagine themselves in amidst all a supermarket has to offer. Children can join Kemy and his quest to figure out the answers to everyday questions. Buka and Chaka do not reprise their roles in this season.",
         "['Kids']",
         "['Comedy', 'Kids']"
        ],
        [
         "31",
         "Within the nature \"Darwin Kita! Kikimono Shin Densetsu\" program on NHK1.5 airs the short , based on a web manga/comic of the same name. It following animal characters who visit the bar . The bar is run by the Mama who is a Pallas's cat ( ) and serviced by the hostess Tsunomin who is a Brazilian treehopper ( ).",
         "['Slice of Life']",
         "['Kids', 'Slice of Life']"
        ],
        [
         "32",
         "Yuuya, one half of the boy pop duo ZINGS, may be the laziest performer in the Japanese music industry. His partner is out there giving 110% every night (and, thankfully, he's quite popular), but Yuuya's half-assed, sloppy dancing, and his frankly hostile attitude toward the audience, has the fans hating him and his agent looking for any excuse to cut him loose. The career of a pop idol just isn't the path of easy leisure and adulation Yuuya expected...  After a particularly lifeless concert appearance, Yuuya meets a girl backstage. She's dressed to the nines in a colorful outfit, she's full of vim and vigor, and all she wants from life is to perform. There's just one problem: She's been dead for a year. This is the ghost of Asahi Mogami, the beloved singer whose time on the stage was tragically cut short, unless... If ghosts are real, is spirit possession really that much of a stretch?",
         "['Comedy', 'Music', 'Supernatural']",
         "['Comedy', 'Drama', 'Music', 'Shoujo', 'Supernatural']"
        ],
        [
         "33",
         "The story centers on the Seven Gods of Fortune in Japanese mythology as they reside on Awaji Island in Hyogo. In the shorts' story, the Seven Gods of Fortune slack in their duties in heaven, and Susanoo-no-Mikoto banishes them to Awaji Island. In order to return to the heavenly realm, they must help bring happiness to humans and rebuild their virtue. The outcast gods reluctantly grant human wishes and accumulate points in their \"god phones\" to be able to return to heaven. They aim to perform good deeds on particularly auspicious days to maximize point accumulation. Despite their best efforts at accumulating virtue, sometimes the Seven Gods of Fortune end up bringing misfortune to humans. When they fail, they lose points, further prolonging their stay on Awaji Island.",
         "['Comedy', 'Kids', 'Supernatural']",
         "['Adventure', 'Comedy', 'Fantasy', 'Kids', 'Romance', 'Shoujo', 'Slice of Life', 'Supernatural']"
        ],
        [
         "34",
         "The story centers around a cat who answers people's wishes and delivers happiness. (\"Tane\" and \"neko\" are the Japanese words for \"seed\" and \"cat,\" respectively.)",
         "['Comedy']",
         "['Kids', 'Music', 'Seinen']"
        ],
        [
         "35",
         "In the world of magic, there exist deadly irreversible techniques commonly known as spellblades. These sparse and elusive spells, along with their casters, are shrouded in mystery and only their absolute lethality is known to the masses.  Every year, the spring blossom signifies a new intake of students to the prestigious magic school Kimberly. With reactions of awe and bewilderment, a ceremonious parade complete with magical beasts welcomes the newcomers to the institution. Among them is the mysterious Oliver Horn, whose indifference changes to fascination as he notices a peculiar figure—a girl wearing strange attire equipped with a Japanese sword.  From the entrance ceremony onward, Oliver realizes that not all is as it seems at Kimberly, as the emergence of labyrinths, monsters, and other threats endanger the new student body. Nanatsu no Maken ga Shihai suru explores the intertwined fates of two warriors as they uncover the dark truths that lurk within the walls of the academy.",
         "['Action', 'Fantasy', 'School']",
         "['Action', 'Fantasy', 'School', 'Supernatural']"
        ],
        [
         "36",
         "is a spin-off-series of Mecard, based on the idea that dinosaurs didn't become extinct 65 million years ago, but transformed into mecanimals. Its characters don't have any relations to the cast from , and .",
         "['Adventure', 'Kids', 'Mecha']",
         "['Comedy', 'Fantasy', 'Kids', 'Mecha']"
        ],
        [
         "37",
         "How did Asia's most prominent entrepreneurs know when to grasp opportunities? And how did they overcome difficulties and attain their positions of power? This series uses the unconventional technique of blending actual documentary footage with CG animation to get a close-up look into the front lines and what lies behind the scenes of Asian business.  Our cartoon host is Shima Kosaku, a character from a popular Japanese business manga. He delves into the heart of the Asian economic market representing 4 billion people, to visit entrepreneurs who have survived turbulent times. Thai business magnate, Dhanin Chearavanont (Chairman of CP Group), and innovative Taiwanese semiconductor entrepreneur, Morris Chang (Chairman of TSMC), are among the many movers and shakers to be featured. Don't miss this opportunity to glimpse the dramatic lives of these media-shy business titans.",
         "['Drama', 'Seinen']",
         "['Historical', 'Seinen']"
        ],
        [
         "38",
         "Yuuichi Katagiri has battled financial hardships his whole life but has learned to stay content and positive thanks to his close circle of friends. To keep a promise he made to them, Yuuichi saves up enough money to join them on the school trip. But when the gathered money mysteriously goes missing, suspicion falls on two of Yuuichi's friends: Shiho Sawaragi and Makoto Shibe, who were in charge of collecting the payments. Although innocent, Shiho and Makoto take responsibility for the failure to protect the money when no one else comes forward.  A few days later, Yuuichi and his friends receive mysterious letters which trick each of them into meeting up. Upon arrival, they are ambushed and knocked unconscious. They wake up in a mysterious room in the presence of \"Manabu-kun,\" a character from a controversial children's show that stopped airing due to its malicious content. He informs the group that one of them indirectly gathered them together in order to settle a large debt. They are to play a \"friendship game\": a series of games that will test the strength of their bond and trust in each other. As the group's faith wavers due to the growing number of secrets and betrayals, Yuuichi must figure out who of his \"friends\" he can actually trust and ultimately discover the identity of the traitor.",
         "['Shounen']",
         "['Comedy', 'Drama', 'Shounen']"
        ],
        [
         "39",
         "This was an anthology program containing several different anime each week along with some non-animated segments. Several of the animated films were short series including: Nazo no Rouba [謎の老婆] (tvss), Meibugyou Bun-san [名奉行・文さん], Jo Keibu Jinguuji Youko [女警部・神宮寺葉子], Remon Suzumori's Soudanjo [鈴森なんでも相談所].",
         "['Comedy', 'Drama', 'Seinen', 'Slice of Life']",
         "['Kids']"
        ],
        [
         "40",
         "The \"heart-warming comedy\" anime centers on Chimimo, who is a messenger of hell and a shape-shifting evil demon. Chimimo is one of 12 evil demons whose mission is to turn the human world into hell. The 12 demons along with \"Hell-san\" go to the human world, but Hell-san and Chimimo become freeloaders to a family of three sisters named Mutsumi, Hazuki, and Mei.",
         "['Comedy']",
         "['Comedy', 'Supernatural']"
        ],
        [
         "41",
         "The second series features the Tea Dogs interacting with humans.",
         "['Kids', 'Slice of Life']",
         "['Adventure', 'Comedy', 'Kids', 'Slice of Life', 'Sports']"
        ],
        [
         "42",
         "Set in the future on the Yellow River Planet, the realm of car racing has advanced beyond Formula One-into the domain of the Galaxy Racers. Riders steer their simulator-racers which remotely control the actual customized speedsters hurtling around a track.  The hero, a teenager named Roy, was born to race and aspires to be the King of Galaxy Racers. But his guardian, his grandfather, sees a threat from and great danger in the evil and greedy Taz, the CEO of the Titan Space Navigation Auto Group which seeks to swallow or destroy all competitors, and whose Mosha Racing Team would just as ruthlessly run over and crush Roy under its thundering wheels. He arranges for him to join the good guys in the Matela Racing Team to race for the highest honors.  Many years ago, Ray’s father, Dr Renault, worked for the Titan Group and he invented the Galaxy Racers but he was against CEO Taz’s destructive greed. He tries to escape-and disappears! Monopolizing the technology and construction of the Racers, Taz, the Titan Group and Mosha Racing Team swallowed, crushed and beat all rival companies, racers and teams.  Desperately, Ray’s grandfather uses a secret design hidden by Dr Renault from Taz and builds for him a superior racer, The Lion King. But he has first to learn the skills and garner experience from racing at the highest levels. To acquire these qualities plus humility and resilience, he relies on his Matela friends who have their own cool cars, to help him. But arrayed against them are the Mosha baddies and their menacing machines.  In a series of hair-raising and nail-biting races with thrills & spills, growling engines, screeching wheels, burning rubber, smashing metal against metal, intense bitter rivalry, persevering friendships & loyalties forged in grueling teamwork and battle, Ray and Team Matela must conquer their fears and overcome the arrogant and powerful Team Mosha which uses cheating as a winning strategy.  Will justice prevail or evil triumph? Find out on The Galaxy Racers on a track near you!",
         "['Action', 'Adventure']",
         "['Action', 'Adventure', 'Mecha', 'Sci-Fi']"
        ],
        [
         "43",
         "The Geisha Tokyo Entertainment company has announced on Wednesday it is producing and airing Sakuran Boy DT, \"Japan's first\" Flash-animated television series about a local costumed hero character. The name of the character is a wordplay on the Japanese translation for \"cherry boy\" — the Japanese slang for a male virgin — and the Sakuranbo television station in the northeastern Japanese city of Yamagata. The story revolves around Satou-kun, an ordinary high school boy who transforms into Sakuran Boy DT to rescue the mayor's daughter from the nefarious secret society Zaou. Sakuranbo has posted a trailer online, and the 11 five-minute weekly episodes will premiere on this station on January 14.",
         "['Comedy', 'Super Power']",
         "['Comedy', 'Super Power']"
        ],
        [
         "44",
         "The series centers around two cats: a younger sister named Neko, and an older brother named Mata. Neko is a nekomata (a mythical two-tailed cat), innocently selfish, and spoiled by her brother. Mata is a neighborhood cat with an eartipped mark as a sign of being neutered. They meet under a streetlight in the city at night to talk.",
         "['Supernatural']",
         "['Comedy', 'Kids']"
        ],
        [
         "45",
         "The story centers on the everyday life of the cats Suna and Manu, who live in a desert — a desert made of sugar instead of sand.",
         "['Comedy']",
         "['Comedy', 'Kids', 'Music', 'Slice of Life']"
        ],
        [
         "46",
         "Kurumi Mirai is in the first year of high school.  She has enrolled in junior high section of the Redrun Magic School, the world's only facility for mages that approved by International Mage League and able to work under royal families when graduates, and she was always top of the class. However, when she applies for the high school section and took the examination to get into a mage training class \"Ma-gumi (Mage Class)\", she wasn't able to get in in spite having full scores and was top of the class for the whole three years.  There are some students in the class next to her that takes that class. Among that there's someone she admires. How will Kurumi Mirai who has extraordinary brain but didn't get in to be a mage candidate try to overcome and grow up? What is the aim for Minami Suzuki, a loyal mage who suddenly appears to be the homeroom teacher? This is a relaxing story of her growth.",
         "['Drama', 'Fantasy', 'School', 'Slice of Life']",
         "['Drama', 'School', 'Slice of Life']"
        ],
        [
         "47",
         "G.G. Bond finally won the appreciation of Princess Crystal and moved to Crystal City. But conspiracy traps lurk in the darkness out to frame G.G. Bond an ruin his good name.",
         "['Kids', 'Sci-Fi', 'Super Power']",
         "['Historical', 'Kids', 'Super Power']"
        ],
        [
         "48",
         "Fourth season of .  Now that spring is in the air, the forest animals are back to frolicking amongst the freshly blooming flowers and busy at work planting new trees to add even more color to their luscious home. The bear brothers—Briar and Bramble, and all their friends are having a jolly great time basking in this colorful season; however, from time to time, they stumble across Logger Vick who will not give up. The bears, along with their little friends make it their mission to protect the forest. This always results in a lot of laughter, tears and of course, adventures aplenty!",
         "['Adventure', 'Comedy', 'Kids']",
         "['Adventure', 'Comedy', 'Kids']"
        ],
        [
         "49",
         "On a distant southern island, a fish (sakana) opened its mouth for a cat (neko), thus \"nekozakana\" (cat-fish) is born.",
         "['Comedy', 'Kids']",
         "['Adventure', 'Fantasy', 'Kids']"
        ]
       ],
       "shape": {
        "columns": 3,
        "rows": 7120
       }
      },
      "text/html": [
       "<div>\n",
       "<style scoped>\n",
       "    .dataframe tbody tr th:only-of-type {\n",
       "        vertical-align: middle;\n",
       "    }\n",
       "\n",
       "    .dataframe tbody tr th {\n",
       "        vertical-align: top;\n",
       "    }\n",
       "\n",
       "    .dataframe thead th {\n",
       "        text-align: right;\n",
       "    }\n",
       "</style>\n",
       "<table border=\"1\" class=\"dataframe\">\n",
       "  <thead>\n",
       "    <tr style=\"text-align: right;\">\n",
       "      <th></th>\n",
       "      <th>synopsis</th>\n",
       "      <th>true_genres</th>\n",
       "      <th>predicted_genres</th>\n",
       "    </tr>\n",
       "  </thead>\n",
       "  <tbody>\n",
       "    <tr>\n",
       "      <th>0</th>\n",
       "      <td>Shuramaru is hated and feared by the villagers...</td>\n",
       "      <td>[Supernatural]</td>\n",
       "      <td>[Comedy, Fantasy, Historical, Kids, Sci-Fi, Sh...</td>\n",
       "    </tr>\n",
       "    <tr>\n",
       "      <th>1</th>\n",
       "      <td>Sometime in the future, the world was complete...</td>\n",
       "      <td>[Action, Adventure]</td>\n",
       "      <td>[Fantasy, Kids]</td>\n",
       "    </tr>\n",
       "    <tr>\n",
       "      <th>2</th>\n",
       "      <td>Set in 2014, the anime follows the adventures ...</td>\n",
       "      <td>[Comedy]</td>\n",
       "      <td>[Comedy, Fantasy, Slice of Life]</td>\n",
       "    </tr>\n",
       "    <tr>\n",
       "      <th>3</th>\n",
       "      <td>This story is about Mick, a sleeping chironomi...</td>\n",
       "      <td>[Adventure]</td>\n",
       "      <td>[Action, Adventure, Drama, Sci-Fi, Shounen]</td>\n",
       "    </tr>\n",
       "    <tr>\n",
       "      <th>4</th>\n",
       "      <td>The anime is based on MegaHouse's line of Zigu...</td>\n",
       "      <td>[Action, Mecha]</td>\n",
       "      <td>[Mecha]</td>\n",
       "    </tr>\n",
       "    <tr>\n",
       "      <th>...</th>\n",
       "      <td>...</td>\n",
       "      <td>...</td>\n",
       "      <td>...</td>\n",
       "    </tr>\n",
       "    <tr>\n",
       "      <th>7115</th>\n",
       "      <td>Picture Drama episodes included in each DVD vo...</td>\n",
       "      <td>[Action, Adventure, Comedy, Drama, Fantasy, Ro...</td>\n",
       "      <td>[Adventure, Comedy, Fantasy, Romance, School, ...</td>\n",
       "    </tr>\n",
       "    <tr>\n",
       "      <th>7116</th>\n",
       "      <td>On a hot summer day, Takashi Natsume and his f...</td>\n",
       "      <td>[Drama, Shoujo, Slice of Life, Supernatural]</td>\n",
       "      <td>[Drama, Shoujo, Slice of Life, Supernatural]</td>\n",
       "    </tr>\n",
       "    <tr>\n",
       "      <th>7117</th>\n",
       "      <td>Due to the arrival of aliens called the \"Amant...</td>\n",
       "      <td>[Action, Comedy, Historical, Mecha, Sci-Fi, Sh...</td>\n",
       "      <td>[Action, Adventure, Comedy, Historical, Mecha,...</td>\n",
       "    </tr>\n",
       "    <tr>\n",
       "      <th>7118</th>\n",
       "      <td>The Konohagakure Grand Sports Festival has beg...</td>\n",
       "      <td>[Action, Comedy, Fantasy, Shounen, Sports]</td>\n",
       "      <td>[Comedy, Fantasy, Shounen, Sports]</td>\n",
       "    </tr>\n",
       "    <tr>\n",
       "      <th>7119</th>\n",
       "      <td>Having reached his emotional breaking point, R...</td>\n",
       "      <td>[Sci-Fi]</td>\n",
       "      <td>[Action, Drama, Romance, Sci-Fi, Shounen]</td>\n",
       "    </tr>\n",
       "  </tbody>\n",
       "</table>\n",
       "<p>7120 rows × 3 columns</p>\n",
       "</div>"
      ],
      "text/plain": [
       "                                               synopsis  \\\n",
       "0     Shuramaru is hated and feared by the villagers...   \n",
       "1     Sometime in the future, the world was complete...   \n",
       "2     Set in 2014, the anime follows the adventures ...   \n",
       "3     This story is about Mick, a sleeping chironomi...   \n",
       "4     The anime is based on MegaHouse's line of Zigu...   \n",
       "...                                                 ...   \n",
       "7115  Picture Drama episodes included in each DVD vo...   \n",
       "7116  On a hot summer day, Takashi Natsume and his f...   \n",
       "7117  Due to the arrival of aliens called the \"Amant...   \n",
       "7118  The Konohagakure Grand Sports Festival has beg...   \n",
       "7119  Having reached his emotional breaking point, R...   \n",
       "\n",
       "                                            true_genres  \\\n",
       "0                                        [Supernatural]   \n",
       "1                                   [Action, Adventure]   \n",
       "2                                              [Comedy]   \n",
       "3                                           [Adventure]   \n",
       "4                                       [Action, Mecha]   \n",
       "...                                                 ...   \n",
       "7115  [Action, Adventure, Comedy, Drama, Fantasy, Ro...   \n",
       "7116       [Drama, Shoujo, Slice of Life, Supernatural]   \n",
       "7117  [Action, Comedy, Historical, Mecha, Sci-Fi, Sh...   \n",
       "7118         [Action, Comedy, Fantasy, Shounen, Sports]   \n",
       "7119                                           [Sci-Fi]   \n",
       "\n",
       "                                       predicted_genres  \n",
       "0     [Comedy, Fantasy, Historical, Kids, Sci-Fi, Sh...  \n",
       "1                                       [Fantasy, Kids]  \n",
       "2                      [Comedy, Fantasy, Slice of Life]  \n",
       "3           [Action, Adventure, Drama, Sci-Fi, Shounen]  \n",
       "4                                               [Mecha]  \n",
       "...                                                 ...  \n",
       "7115  [Adventure, Comedy, Fantasy, Romance, School, ...  \n",
       "7116       [Drama, Shoujo, Slice of Life, Supernatural]  \n",
       "7117  [Action, Adventure, Comedy, Historical, Mecha,...  \n",
       "7118                 [Comedy, Fantasy, Shounen, Sports]  \n",
       "7119          [Action, Drama, Romance, Sci-Fi, Shounen]  \n",
       "\n",
       "[7120 rows x 3 columns]"
      ]
     },
     "metadata": {},
     "output_type": "display_data"
    },
    {
     "data": {
      "application/vnd.microsoft.datawrangler.viewer.v0+json": {
       "columns": [
        {
         "name": "index",
         "rawType": "int64",
         "type": "integer"
        },
        {
         "name": "synopsis",
         "rawType": "object",
         "type": "string"
        },
        {
         "name": "true_genres",
         "rawType": "object",
         "type": "unknown"
        },
        {
         "name": "predicted_genres",
         "rawType": "object",
         "type": "unknown"
        }
       ],
       "conversionMethod": "pd.DataFrame",
       "ref": "6436c8aa-ca4b-4608-b7ad-ce91284ccc10",
       "rows": [
        [
         "0",
         "Follows a pig whose family's mission is to collect underpants.",
         "['Comedy', 'Kids']",
         "['Comedy', 'Kids', 'Seinen', 'Slice of Life']"
        ],
        [
         "1",
         "The story begins 15 years after the demon king was defeated and the world has become peaceful. Kotone, who graduated from school and became a magician, inquired about the kingdom-affiliated RPG Real Estate in order to find a new home. In reality, RPG Real Estate was Kotone's place of employment, and together with Fa, a demi-human, the priest Rufuria, and the soldier Rakira, they help support the searches of new homes for the customers with various circumstances.",
         "['Comedy', 'Fantasy', 'Slice of Life']",
         "['Adventure', 'Fantasy', 'Historical', 'Kids', 'Shounen', 'Slice of Life', 'Supernatural']"
        ],
        [
         "2",
         "The story centers on Otarou, a creature themed around dirt known as a yogoremon. It and other yogoremon ask the meaning of words and explain negative terms in positive ways.",
         "['Comedy']",
         "['Fantasy', 'Kids']"
        ],
        [
         "3",
         "follows the adventures of an adorable jet plane named Jett who travels around the world delivering packages to children. On every delivery, Jett encounters new problems that he must solve with the help of his friends the \"Super Wings\": Dizzy, Jerome and Donnie. Together, the team explores different countries and learns the diversity of new cultures.",
         "['Adventure', 'Kids']",
         "['Adventure', 'Comedy', 'Fantasy', 'Kids', 'Shounen']"
        ],
        [
         "4",
         "An elite soldier, whose nickname is God of Death, is transferred to another unit known as the PaPaRa Army. The PaPaRa Army is infamous for its elite but hilariously crazy members. There is no plot to speak of other than humour, hilarious brutality, and general nonsense. This is also Matsuzawa-sensei's debut work.",
         "['Action', 'Adventure', 'Comedy', 'Romance', 'Sci-Fi']",
         "['Action', 'Drama', 'Historical', 'Romance']"
        ],
        [
         "5",
         "The third show in the Virtual Trilogy, a mix of anime and live action shots.  In the beginning of the 22nd century society advanced rapidly. Now even children are able to become real doctors, a task before that took two and a half decades to achieve. And nanomachines became prevalent to fight disease. Keita is a Nanosaver, a child doctor who uses the virtual world to apply life saving techniques by entering the body and treating the patients in a virtual medical station (VMS). As more and more patients are taken in, various mysterious are uncovered about them.  In the second half of the anime, a small Ethanarian alien and galactic federation is introduced.",
         "['Adventure', 'Shounen']",
         "['Action', 'Drama', 'Historical', 'Sci-Fi']"
        ],
        [
         "6",
         "A prequel TV series setting up for the feature film.  G.G. Bond's father while exploring ruins gets sucked into a dimension of evil through the Dark Gate. He is bestowed power and knowledge and becomes corrupted as the King of Darkness. Ancient monsters are sent through the cracks of the gate to attack G.G. Bond and his team as the 5 elemental powers are stronger than the King of Darkness. By weakening the team, only then can the King of Darkness forcibly open the gate to unless a reign of terror on the Fairy Tale world.",
         "['Kids', 'Sci-Fi', 'Super Power']",
         "['Adventure', 'Fantasy', 'Historical', 'Shoujo', 'Super Power', 'Supernatural']"
        ],
        [
         "7",
         "This Korean and Chinese co-production series focuses on Tao, a young boy with magical powers, as he attends school to become a wizard. Each episode was composed of two stories.",
         "['Kids']",
         "['Adventure', 'Kids']"
        ],
        [
         "8",
         "revolves around mischievous creatures called Teenieping that like to enter people's minds, but their playful nature and magical powers can wreak havoc in their hosts' lives. When the Teenieping are set loose on Earth, Princess Romi of the Emotion Kingdom becomes an ordinary girl that has to turn into a magical girl to stop them, all while balancing her new civilian life as a worker for the Bakery Heartrose with her coworkers Ian, Kyle, and Jun.",
         "['Fantasy', 'Kids', 'School']",
         "['Adventure', 'Comedy', 'Fantasy']"
        ],
        [
         "9",
         "When Nian Chi was a young child, his elder sister was kidnapped in front of him, while he could do nothing but watch, a thing that has tormented him for all these years. Now 10 years later, he's dead set on going to rescue his sister, and sets out.",
         "['Action', 'Adventure', 'Drama', 'Fantasy', 'Historical', 'Supernatural']",
         "['Drama', 'Fantasy', 'Historical', 'Mecha', 'School', 'Sci-Fi']"
        ],
        [
         "10",
         "An NHK toddler's anime following cowardly creatures representing typical Halloween monsters like Dracula and a witch.",
         "['Kids']",
         "['Comedy', 'Fantasy', 'Slice of Life']"
        ],
        [
         "11",
         "No synopsis has been added for this series yet.   to update this information.",
         "['Comedy', 'Fantasy']",
         "['Mecha', 'Sports']"
        ],
        [
         "12",
         "In \"a certain era\" on \"a certain continent,\" banal things are happening. The construction of \"Large-Scale Leisure Facilities\" has demanded that all the villages are to be evicted. When these demands are denied, the village and its residents are obliterated. A boy named Chap once lived in tranquility, but that happiness soon came crumbling down. He decides to embark on a journey of revenge, but soon falls madly in love with the king's daughter, Princess Melora. In order to fulfill her selfish wishes, he gathers his friends in order to overcome the impossible.",
         "['Adventure', 'Comedy', 'Fantasy', 'Kids']",
         "['Fantasy', 'Historical']"
        ],
        [
         "13",
         "Shorts that feature music note cats. The series premiered on February 22, 2014 on television; the first episode was published on an official YouTube channel that same day.  The whole world is in love with character illustrations of cats, dogs, and bears. A brand-new show, and the first of its kind in Japan, featuring nothing but cat characters for cat lovers started airing in February 2014. A variety of cat characters designed by Japan's topnotch creators and illustrators are animated and they are voiced by popular KAWAII (cute) anime voice actors. This show is a must-see not just for the fans of cat characters but for all anime lovers!",
         "['Comedy', 'Music']",
         "['Comedy', 'Kids']"
        ],
        [
         "14",
         "Shorts that aired within \"Fight Tension☆Depart,\" a variety program that originally aired the anime as one of its segments. Celeb-chan is a narcissistic school girl who believes that she is a celebrity because her family is incredibly wealthy. She tries to do typical rich people things such as starting her own heavy makeup line, becoming a singer, saving an endangered species, buying a teacup poodle, etc. The results are never how she expects it.",
         "['Comedy']",
         "['Adventure', 'Comedy', 'Kids', 'School']"
        ],
        [
         "15",
         "The story centers on Matthew, a daydreaming worrywart of a rabbit. Matthew also has two friends: Keron, a pessimistic frog who is fond of good-luck charms; and Ham, a hamster of few words and who moves through life at his own pace. The story follows the three animals' everyday lives within a mysterious forest.",
         "['Slice of Life']",
         "['Comedy', 'Kids', 'Slice of Life']"
        ],
        [
         "16",
         "The story will follow four girls who seek to use their songs to heal and soothe the people of their world. The tagline reads, \"Kindhearted, powerful songs heal the world. These are beautiful miracles sung by humanity.\"",
         "['Music']",
         "['Action', 'Music', 'Mystery']"
        ],
        [
         "17",
         "The story is set in a world where every event has been turned into programs, and mysterious monsters known as \"Promin\" maintain the world. However, many Promin who have turned into bugs known as \"Bugmin\" are responsible for many of the world's real-life bugs. Left alone, they may eventually turn into a big problem. The boy Yuuto encounters the space dog Wanda, and the pair use a camera-like device and key items to capture Bugmin. Promin themselves are able to do things like \"accelerate objects,\" \"spew fire,\" or \"create objects,\" through an ability known as \"Kamiwaza\" (miracle), and are able to fend off Bugmin with it. At first, the Bugmin only cause small, bothersome things, but it will soon elevate into a global scale threat. Can one boy and one dog save the world?",
         "['Kids', 'Sci-Fi']",
         "['Action', 'Adventure', 'Comedy', 'School', 'Sci-Fi', 'Shounen']"
        ],
        [
         "18",
         "Rat, a member of the Zodiac, meets a normal cat at a park one day. Rat comes to love Cat so much that it becomes very eager to get Cat to become a member of the Zodiac. Cat goes with Rat to meet the rest of the 12 members of the Zodiac to ask them to become a member.",
         "['Comedy']",
         "['Comedy', 'Kids', 'Music', 'Mystery', 'Shoujo']"
        ],
        [
         "19",
         "On a whim, first-year Ayumu Tanaka quits the Kendo Club to join the illegitimate Shogi Club. Urushi Yaotome, the president of the club and a master of shogi, is thrilled to finally have a playing partner. As Ayumu's upperclassman, Urushi endeavors to be his shogi mentor and student role model. Too often, however, she finds herself blushing with embarrassment! Stone-faced and honest, Ayumu sees no issue with calling Urushi \"cute.\" Although Ayumu likes her, he refrains from confessing and promises himself to first beat her in a game of shogi.  Through school life and shogi games, the two students have many hilarious and heart-warming adventures. Ayumu enjoys every second with Urushi, but he is still a long way from beating her in shogi. With the commitment he made to himself, will Ayumu ever get the chance to confess his feelings to Urushi?",
         "['Comedy', 'Romance', 'School', 'Shounen', 'Slice of Life']",
         "['Comedy', 'Romance', 'School']"
        ],
        [
         "20",
         "After his parents died, Shinpei Ajiro lived with the Kofune sisters, Mio and Ushio, but he has since moved to live on his own in Tokyo. But after Ushio drowns while trying to save the young Shiori Kobayakawa, he returns home to mourn her departure. However, bruises around Ushio's neck bring her cause of death into question.  Taking a step back, Shinpei becomes convinced there must be another explanation. Dangerous entities roam among the islanders, and a vision of deceased Ushio asks him to \"save Mio\" as her final request. He is certain that something is afoot—and Ushio's death is only a piece of the puzzle.  With the help of Mio and various others, Shinpei struggles to forge a future in which he, his friends, and family can stay alive. But the more he investigates, the more impossible such a future seems. This darkness infiltrates his home island. Just how much more suffering will he go through before finding the right path to save it all?",
         "['Mystery', 'Shounen', 'Supernatural']",
         "['Drama', 'Kids', 'Sci-Fi', 'Shounen']"
        ],
        [
         "21",
         "Third season of .  Having had a taste of carnival life in town, the Bear Brothers return to the forest to start anew. But aside from the joy of meeting old friends, the bears must again cope with the dull-but-driven Logger Vick! That shiny-pated villain is determined to crush their renewed efforts to protect the forest they love. If he can dispatch the Bear Brothers, Vick will realize his evil dream of riches through total destruction of the forest. Fortunately the Brothers and their friends have a forest full of surprises in store for him! Boonie Bears: Forest Frenzy features Briar and Bramble Bear doing what they do best: creating non-stop laughs for kids around the world!",
         "['Comedy', 'Kids']",
         "['Adventure', 'Comedy', 'Kids']"
        ],
        [
         "22",
         "On February 29, 2000, the Möbius meteorites fell on Earth. These meteorites brought a new form of matter known as Möbius Dust to Earth. The dust permeated Earth's atmosphere, leading to a miracle. The day the meteorites fell, nicknamed \"2.29,\" accelerated the economic disparity in Japan.  Before long, the Bloody War Alliance, discontent with this disparity, began committing acts of terrorism. Amidst all this, the police established the anti-RC special mobile unit and a joint anti-RC training school for the initial training of the unit members.",
         "['Action', 'Kids']",
         "['Action', 'Mecha', 'Sci-Fi', 'Shounen']"
        ],
        [
         "23",
         "The third series, this season focuses on environmental friendly themes.",
         "['Kids', 'Slice of Life']",
         "['Comedy', 'Kids', 'Supernatural']"
        ],
        [
         "24",
         "Cute yet mighty! Mini animal rangers transform into super power Force-Bot to save endangered friends! In the ruthless world of animals, big strong animals dominate and feed on the small and weak. To buck this natural system, small animals form a secret organization \"MINIFORCE.\" Rigidly selected mutants with special powers: Volt, Sammy, Lucy and Max become top secret rangers to save their small village Bluebell from the hand of human villain Nein and his underling lizard Pascal. Animals in danger? No problem! When Force-Gem alerts, it's time to get suit on! With Mini Force and their transforming mechanics, it’s time to sweep!",
         "['Action', 'Adventure']",
         "['Adventure', 'Comedy', 'Historical', 'Kids']"
        ],
        [
         "25",
         "A stop-motion comedy drama about sugar cube people from the Meiji era. Specifically it focuses on the father Kakuza who easily succumbs to emotion usually about his 37 year old daughter Touko's newest fiancé who tries to ask for his blessing. He's scared of losing his daughter even though it was his late wife's dying wish to see her as a happy bride.  The show had a very irregular release schedule and by the end of its serialization its title had changed to .",
         "['Comedy', 'Drama', 'Historical']",
         "['Comedy', 'Historical', 'Slice of Life']"
        ],
        [
         "26",
         "Kotatsu Neko is based on a \"live-action science-fiction/fantasy romance\" film of the same name which was released in Japan in 2006. The story is set in a certain neighborhood of Tokyo where two cats live under a kotatsu. Shito is a girlish white cat, while Zero is a cool black cat. The cat's owner, Rei \"Junior\" Fujisaki, is a third-year middle-school hikikomori obsessed with games. He likes a girl in his class, but naturally, he cannot work up the nerve to tell her. Shito herself harbors a secret one-sided love also.",
         "['Comedy']",
         "['Music']"
        ],
        [
         "27",
         "Nalong, Ukkya, and Longman have teamed up to defend the Earth from alien invaders who are here to pollute the environment! Lulu forest is no longer the main threatened area as the trio travels the world and helps out other animals in need.",
         "['Adventure', 'Kids']",
         "['Adventure', 'Kids']"
        ],
        [
         "28",
         "The show centers around three hobos that live in a broken car on top of a junkyard: Punch, Touch, and Boom. Punch is a bear who is literally strong-headed: his head is as hard as a rock, and nothing can knock him down. Boom the weasel is an expert shot, using not a gun, but a slingshot. Touch the mouse takes advantage of her smallness in order to get into small holes and sneaking into things without the villains knowing.  Gari-Gari is a mad scientist wolf who wants to build a mansion over the junkyard, constantly thinking up evil plans to get the money needed to buy the property, whether it’s creating a machine that creates counterfeit 10 yen (about 10 cents in US money) or stealing priceless paintings and selling it to a high bidder. He is an inventor, creating things that can aid him into doing his deed. If Gari-Gari buys the junkyard, this of course means that the three heroes will have no place to stay, so they constantly thwart his schemes. Gari-Gari has two henchmen working for him: Black and Nyu. Black is a gangster cat who welds a gun, often shooting at Punch and the gang with it. Nyu is a simple-minded pig who has big strength.",
         "['Comedy', 'Fantasy', 'Kids']",
         "['Comedy', 'Sci-Fi', 'Seinen']"
        ],
        [
         "29",
         "A stop-motion anime using beaded characters. Here a magician rabbits solve problems by using magic.",
         "['Kids']",
         "['Comedy', 'Fantasy', 'Historical', 'Kids', 'Music', 'School']"
        ],
        [
         "30",
         "A cutesy horror anime. Everyone in town is monster but they're living their lives like normal while attending high school.",
         "['School']",
         "['Comedy', 'School', 'Seinen', 'Slice of Life']"
        ],
        [
         "31",
         "musicる TV signed up Norasco for their channel. Some of the ONA's episodes were shown and then the episodes became mostly musicる TV exclusive.",
         "['Comedy', 'Slice of Life']",
         "['Comedy', 'Shoujo', 'Slice of Life', 'Sports']"
        ],
        [
         "32",
         "The new Nukko. anime is an adolescent school story revolving around Nukko and Nukko's slightly(?) oddball friends.",
         "['Comedy']",
         "['Comedy', 'Kids', 'School', 'Slice of Life']"
        ],
        [
         "33",
         "Fuji TV announced that it will air a new series of anime shorts based on the Parappa the Rapper video game franchise. The new anime will center on the P.J. Berri character. Each episode is about 96 seconds long.  The anime celebrates both the 20th anniversary of the game and the 15th anniversary of the anime series.",
         "['Comedy']",
         "['Kids']"
        ],
        [
         "34",
         "The Lost Ones are wanderers who come here from a distant world known as \"Japan.\" No one knows how or why they leave their homes. The only thing that is certain is that they bring disaster and calamity. The duty of exterminating them without remorse falls to Menou, a young Executioner. When she meets Akari, it seems like just another job...until she discovers it's impossible to kill this girl! And when Menou begins to search for a way to defeat this immortality, Akari is more than happy to tag along! So begins a journey that will change Menou forever...",
         "['Action', 'Adventure', 'Fantasy']",
         "['Action', 'Adventure', 'Drama', 'Fantasy', 'Supernatural']"
        ],
        [
         "35",
         "A series oriented to three-year-old children, showing the everydays of 9 characters, each of them having a distinct feature. Children will recognize characters and situations from their own life. Sometimes through conflicts, sometimes through encouragement, they will find everyone's place in the world. The story conveys messages such as \"Nobody's alone\", \"It's good to be different\" and the importance of being connected with others, in a fun way.",
         "['Comedy', 'Kids']",
         "['Adventure', 'Comedy', 'Kids']"
        ],
        [
         "36",
         "Corporate secretary Shirotani suffers from obsessive-compulsive disorder. One day he meets Kurose, a therapist who offers to take him through a ten-step program to cure him of his compulsion. As the two go through each of the ten steps, Shirotani 's attraction to his counselor grows.",
         "['Drama', 'Romance']",
         "['Drama', 'Kids', 'Shoujo', 'Slice of Life']"
        ],
        [
         "37",
         "The series follows the black cat Monroe and the human Yoppy and their \"normal and special everyday lives.\"",
         "['Comedy']",
         "['Comedy', 'Seinen', 'Slice of Life']"
        ],
        [
         "38",
         "Unicorn no Kyupi is a helpful sprite that lives in the kitchen and polishes dirty pots and pans clean with its fluffy white body. Harigorou, a rival sprite shaped like a hedgehog, tries to interfere.",
         "['Fantasy', 'Kids']",
         "['Comedy', 'Kids', 'Romance', 'Shoujo', 'Shounen', 'Supernatural']"
        ],
        [
         "39",
         "In a world where dragons rule sky, sea, and land, those who would fight them and win must surpass the limits of normal human strength. Set on victory at any cost, dragon hunter Ragna joins forces with the mysterious Crimson. Crimson's motivations may be obscure, but their goal is the same: to destroy the dragon monarchs.",
         "['Fantasy', 'Shounen']",
         "['Action', 'Adventure', 'Fantasy', 'Mecha', 'Sci-Fi']"
        ],
        [
         "40",
         "After the events of Mask of Deception, the Yamato Empire is now ruled with an iron fist by a ruthless usurper who seeks to subjugate all before him. It's up to a couple of familiar faces to band together against the might of the Imperial army, and the fate of the world hangs in the balance as nations and generals must pick a side to fight with in this perilous civil war. Secrets will be revealed, friendships will be tested, and battles will be fought. Will peace and order be restored or will victory at any cost be the beginning of the end?",
         "['Action', 'Drama', 'Fantasy']",
         "['Action', 'Drama', 'Fantasy', 'School', 'Super Power']"
        ],
        [
         "41",
         "WHO'S YOUR NANNY?  Tooru Kirishima is the right-hand man of the Sakuragi crime family. For him, the job is a perfect excuse to let his violent instincts run wild, earning him the nickname \"The Demon of Sakuragi.\" It seems like nothing will stand in the way of his vicious nature. But then one day, he receives an assignment like never before from the boss—babysitting his daughter!  This is the heartwarming (or is it bloodcurdling?) story of a little girl and her yakuza caretaker!",
         "['Comedy', 'Slice of Life']",
         "['Comedy', 'Shounen', 'Supernatural']"
        ],
        [
         "42",
         "The second season of . One major change in the story is that uncle Jimbo has retired to travel the world and his niece, Sky, takes over being the main traffic controller for the airport.",
         "['Adventure', 'Kids']",
         "['Adventure', 'Fantasy', 'Kids', 'Sci-Fi', 'Sports', 'Supernatural']"
        ],
        [
         "43",
         "Three girls come from another planet to save the mistreated animals of planet Earth. Black cat Amiru, squirrel Rumi, and rabbit Rie all make their way to Earth but Rie crashes her UFO! Lucky Amiru and Rumi run into Earth girl Minami and together set out to conquer the world!",
         "['Comedy']",
         "['Adventure', 'Comedy', 'Sci-Fi', 'Super Power']"
        ],
        [
         "44",
         "The episodes will present topics from the list of 17 Sustainable Development Goals (SDG) such as global warming, food waste, and gender equality, in an easy-to-understand manner. Baby Hamitang will then solve the issues.",
         "['Kids']",
         "['Comedy', 'Historical', 'Mystery', 'Seinen', 'Shounen']"
        ],
        [
         "45",
         "Bang! One day, the Universe exploded! The explosion produced a number of light crystals which scattered in the Earth and became energy coins. Some energy life entities also came to the Earth and existed as mini cars to chase light crystals. Once those mini cars grasped light crystals, they would return to their original forms. A group of evil attempted to plot against the Earth with the super power of light crystals. To protect the Earth, the righteous kids Hawley, Kinson and Yolan help the mini cars of the justice side to collect energy coins. Armed with Eagle Car and Dragon Car, the two brothers are ready to fight against the Commander-K leaded evil force. The war is on…",
         "['Action', 'Adventure']",
         "['Action', 'Comedy', 'Mecha', 'Shounen', 'Super Power']"
        ],
        [
         "46",
         "A gag anime about foods in a refrigerator. The anime airs within the children's morning TV program and will receive a simultaneous manga serialization by Kazumata Oguri.",
         "['Comedy', 'Kids']",
         "['Comedy', 'Kids', 'Seinen', 'Slice of Life']"
        ],
        [
         "47",
         "I can dance! I can sing! So, I can speak English! is a series of musical episodes teaching kids through song and dance. A large amount of episodes are aimed to teach English to Korean speaking children, though the intention is lost with the official English dub of the show.",
         "['Kids', 'Music']",
         "['Kids', 'Music', 'Slice of Life']"
        ],
        [
         "48",
         "Kyungyas, from vegetable kingdom, comes to the Kyungya Restaurant. They have a mission to make children eat more vegetable and protect them from greasy, instant dishes. However, far from completing their mission, Kyungyas have hard time keeping the restaurant from bankruptcy. It is because of Onion Kyungya’s experimental dishes. His curiosity makes trouble with Celery Kyungya, the manager of Kyungya restaurant. How can they solve the problems they have with the customers. Would it be possible for Kyungyas to accomplish the mission?",
         "['Fantasy', 'Kids']",
         "['Comedy', 'Fantasy', 'Sci-Fi']"
        ],
        [
         "49",
         "The Haruba family is a wonderful family of three kids. The protagonist is the youngest son of the three siblings, who is in actuality, a spirit. The story unfolds in a nostalgic background of Japan and relates the life of this incredible family.",
         "['Comedy', 'Slice of Life', 'Supernatural']",
         "['Comedy', 'Drama', 'Kids', 'Seinen', 'Slice of Life']"
        ]
       ],
       "shape": {
        "columns": 3,
        "rows": 892
       }
      },
      "text/html": [
       "<div>\n",
       "<style scoped>\n",
       "    .dataframe tbody tr th:only-of-type {\n",
       "        vertical-align: middle;\n",
       "    }\n",
       "\n",
       "    .dataframe tbody tr th {\n",
       "        vertical-align: top;\n",
       "    }\n",
       "\n",
       "    .dataframe thead th {\n",
       "        text-align: right;\n",
       "    }\n",
       "</style>\n",
       "<table border=\"1\" class=\"dataframe\">\n",
       "  <thead>\n",
       "    <tr style=\"text-align: right;\">\n",
       "      <th></th>\n",
       "      <th>synopsis</th>\n",
       "      <th>true_genres</th>\n",
       "      <th>predicted_genres</th>\n",
       "    </tr>\n",
       "  </thead>\n",
       "  <tbody>\n",
       "    <tr>\n",
       "      <th>0</th>\n",
       "      <td>Follows a pig whose family's mission is to col...</td>\n",
       "      <td>[Comedy, Kids]</td>\n",
       "      <td>[Comedy, Kids, Seinen, Slice of Life]</td>\n",
       "    </tr>\n",
       "    <tr>\n",
       "      <th>1</th>\n",
       "      <td>The story begins 15 years after the demon king...</td>\n",
       "      <td>[Comedy, Fantasy, Slice of Life]</td>\n",
       "      <td>[Adventure, Fantasy, Historical, Kids, Shounen...</td>\n",
       "    </tr>\n",
       "    <tr>\n",
       "      <th>2</th>\n",
       "      <td>The story centers on Otarou, a creature themed...</td>\n",
       "      <td>[Comedy]</td>\n",
       "      <td>[Fantasy, Kids]</td>\n",
       "    </tr>\n",
       "    <tr>\n",
       "      <th>3</th>\n",
       "      <td>follows the adventures of an adorable jet plan...</td>\n",
       "      <td>[Adventure, Kids]</td>\n",
       "      <td>[Adventure, Comedy, Fantasy, Kids, Shounen]</td>\n",
       "    </tr>\n",
       "    <tr>\n",
       "      <th>4</th>\n",
       "      <td>An elite soldier, whose nickname is God of Dea...</td>\n",
       "      <td>[Action, Adventure, Comedy, Romance, Sci-Fi]</td>\n",
       "      <td>[Action, Drama, Historical, Romance]</td>\n",
       "    </tr>\n",
       "    <tr>\n",
       "      <th>...</th>\n",
       "      <td>...</td>\n",
       "      <td>...</td>\n",
       "      <td>...</td>\n",
       "    </tr>\n",
       "    <tr>\n",
       "      <th>887</th>\n",
       "      <td>This special is showing a day of Eclair's life...</td>\n",
       "      <td>[Fantasy, Shounen]</td>\n",
       "      <td>[Action, Sci-Fi]</td>\n",
       "    </tr>\n",
       "    <tr>\n",
       "      <th>888</th>\n",
       "      <td>Episode 0 of . Kanami and Mihono are self-awar...</td>\n",
       "      <td>[Action]</td>\n",
       "      <td>[Comedy, School, Seinen, Slice of Life]</td>\n",
       "    </tr>\n",
       "    <tr>\n",
       "      <th>889</th>\n",
       "      <td>The ad's crossover theme matches a tote bag bu...</td>\n",
       "      <td>[Seinen, Slice of Life]</td>\n",
       "      <td>[Action, Comedy, Seinen, Shounen, Slice of Lif...</td>\n",
       "    </tr>\n",
       "    <tr>\n",
       "      <th>890</th>\n",
       "      <td>A girl's classmate disappears during a game of...</td>\n",
       "      <td>[Shoujo, Supernatural]</td>\n",
       "      <td>[Romance, School, Shoujo]</td>\n",
       "    </tr>\n",
       "    <tr>\n",
       "      <th>891</th>\n",
       "      <td>The story revolves around a new team of \"Toei ...</td>\n",
       "      <td>[Comedy, Mecha]</td>\n",
       "      <td>[Mecha, School, Sci-Fi]</td>\n",
       "    </tr>\n",
       "  </tbody>\n",
       "</table>\n",
       "<p>892 rows × 3 columns</p>\n",
       "</div>"
      ],
      "text/plain": [
       "                                              synopsis  \\\n",
       "0    Follows a pig whose family's mission is to col...   \n",
       "1    The story begins 15 years after the demon king...   \n",
       "2    The story centers on Otarou, a creature themed...   \n",
       "3    follows the adventures of an adorable jet plan...   \n",
       "4    An elite soldier, whose nickname is God of Dea...   \n",
       "..                                                 ...   \n",
       "887  This special is showing a day of Eclair's life...   \n",
       "888  Episode 0 of . Kanami and Mihono are self-awar...   \n",
       "889  The ad's crossover theme matches a tote bag bu...   \n",
       "890  A girl's classmate disappears during a game of...   \n",
       "891  The story revolves around a new team of \"Toei ...   \n",
       "\n",
       "                                      true_genres  \\\n",
       "0                                  [Comedy, Kids]   \n",
       "1                [Comedy, Fantasy, Slice of Life]   \n",
       "2                                        [Comedy]   \n",
       "3                               [Adventure, Kids]   \n",
       "4    [Action, Adventure, Comedy, Romance, Sci-Fi]   \n",
       "..                                            ...   \n",
       "887                            [Fantasy, Shounen]   \n",
       "888                                      [Action]   \n",
       "889                       [Seinen, Slice of Life]   \n",
       "890                        [Shoujo, Supernatural]   \n",
       "891                               [Comedy, Mecha]   \n",
       "\n",
       "                                      predicted_genres  \n",
       "0                [Comedy, Kids, Seinen, Slice of Life]  \n",
       "1    [Adventure, Fantasy, Historical, Kids, Shounen...  \n",
       "2                                      [Fantasy, Kids]  \n",
       "3          [Adventure, Comedy, Fantasy, Kids, Shounen]  \n",
       "4                 [Action, Drama, Historical, Romance]  \n",
       "..                                                 ...  \n",
       "887                                   [Action, Sci-Fi]  \n",
       "888            [Comedy, School, Seinen, Slice of Life]  \n",
       "889  [Action, Comedy, Seinen, Shounen, Slice of Lif...  \n",
       "890                          [Romance, School, Shoujo]  \n",
       "891                            [Mecha, School, Sci-Fi]  \n",
       "\n",
       "[892 rows x 3 columns]"
      ]
     },
     "metadata": {},
     "output_type": "display_data"
    },
    {
     "data": {
      "application/vnd.microsoft.datawrangler.viewer.v0+json": {
       "columns": [
        {
         "name": "index",
         "rawType": "int64",
         "type": "integer"
        },
        {
         "name": "synopsis",
         "rawType": "object",
         "type": "string"
        },
        {
         "name": "true_genres",
         "rawType": "object",
         "type": "unknown"
        },
        {
         "name": "predicted_genres",
         "rawType": "object",
         "type": "unknown"
        }
       ],
       "conversionMethod": "pd.DataFrame",
       "ref": "e6ca1bb1-1413-402d-8b5d-6b976f1fcdcf",
       "rows": [
        [
         "0",
         "The daily life of the Motsumoto family. The three sisters, Fuu, Suu, and Chii, follow what happens on a daily basis. Mother and Father have to deal with them sometimes, but they're used to it.",
         "['Comedy', 'Slice of Life']",
         "['Comedy', 'Mystery', 'Seinen', 'Slice of Life']"
        ],
        [
         "1",
         "The Soul Tree, the great source of our race.  But for its ultimate power and by those whose minds were blinded by it, it also became the catastrophic cause that had brought never-ending wars between the tribes. Tortured by the agonies of the wars, the leaders of the tribes finally came to a peace agreement that they would instead open a competition. Players, equipped with special watches and shields, compete against each other as winner’s tribe would be awarded with Materion, the sacred fruit of the Soul Tree.  These brave players, who throw themselves in this fierce fight, we call them the Runningman.",
         "['Action', 'Adventure', 'Kids']",
         "['Action', 'Drama', 'Fantasy', 'Kids', 'Romance', 'Shounen', 'Supernatural']"
        ],
        [
         "2",
         "Fairies living in a fluffy forest, where both flowers and trees are fluffy. Follow a witch's trouble-maker apprentices Pui Pui and Muu Muu.",
         "['Fantasy', 'Kids']",
         "['Adventure', 'Kids', 'Slice of Life']"
        ],
        [
         "3",
         "A cyborg warrior from an ancient Antarctic kingdom awakes 30000 years later from an accidental hibernation to find the Earth changed and an old alien enemy on the verge of invasion. It's up to Guyslugger to use his ancient technology to defeat the aliens.",
         "['Action', 'Mecha', 'Sci-Fi']",
         "['Action', 'Adventure', 'Fantasy', 'Historical', 'Mecha', 'Sci-Fi', 'Shounen']"
        ],
        [
         "4",
         "The 2018 LINE sticker set Poccolies is inspiring a series of anime shorts. The story of the sticker set is that a positive and honest boy named Patsuhiko lives on Pokkori Island, along with the shrewd and mysterious Ham, and a reliable older brother figure named Kangaroo. The sticker set follows their daily lives.",
         "['Kids', 'Slice of Life']",
         "['Adventure', 'Fantasy', 'Kids']"
        ],
        [
         "5",
         "General of the Three Kingdoms, Kongming had struggled his whole life, facing countless battles that made him into the accomplished strategist he was. So on his deathbed, he wished only to be reborn into a peaceful world... and was sent straight to modern-day party-central, Tokyo! Can even a brilliant strategist like Kongming adapt to the wild beats and even wilder party people?!",
         "['Comedy']",
         "['Action', 'Adventure', 'Comedy', 'Mecha', 'Music', 'Seinen', 'Slice of Life']"
        ],
        [
         "6",
         "This show consists of shorts starring 7 characters created and voiced by the voice actors of the variety show \"Seiyuu Danshi desu ga...?\". The anime will be a slapstick comedy that follows seven spirits that come to the modern world.",
         "['Comedy', 'Supernatural']",
         "['Comedy', 'Kids', 'Slice of Life']"
        ],
        [
         "7",
         "The supreme Gods who had too much free time created the ultimate brain games \"Play of the Gods.\" Former Goddess Leche awoke from a long slumber and declared to the world, \"Bring forth the person who is the best in games in this era!\" Fay is nominated to represent humanity as the \"best rookie in recent years.\"  The \"Game of the Gods\" that is about to begin between the two may be a little too difficult, as there has yet to be a victor throughout human history, because Gods are capricious, very unreasonable, and sometimes completely incomprehensible. However, given the nature of the games, it would be a waste not to have a good time and play with all of one's heart! The ultimate brain battles of a genius gamer boy, a former Goddess, and friends begin!",
         "['Fantasy']",
         "['Action', 'Fantasy', 'Seinen', 'Supernatural']"
        ],
        [
         "8",
         "Technoroid: Overmind is set in the Entertainment Tower Babel, a new hope found by those who have lost the joy of light as humanity's activities are restricted due to the large-scale climate change caused by the expanded sun. The anime depicts unique units and characters fighting for the top of Babel, pursuing emotions that move people and androids through performances.",
         "['Music']",
         "['Adventure', 'Historical', 'Mecha', 'Romance', 'Sci-Fi']"
        ],
        [
         "9",
         "A young woman aims to become a famous fashion designer.",
         "['Romance', 'Shoujo']",
         "['Drama', 'Historical', 'Romance', 'Slice of Life']"
        ],
        [
         "10",
         "Say hi to Tayo's new friend - Titipo! Train Center's new born little train Titipo has just passed the driving examination and is prepared to work at the Train Village. Although Titipo dreams of becoming the best train in the world, his curious yet random personality catches him in unforeseen events and troubles everyday. Titipo expands his experience in the greater world and befriends Genie, Diesel, and other little trains. Will Titipo achieve his dream of becoming the best train? Come join the railroad journey and meet Titipo and the little train friends.",
         "['Kids']",
         "['Adventure', 'Kids', 'Mystery', 'Slice of Life']"
        ],
        [
         "11",
         "The series follows Officer Black Cat's adventures around the forest neighbourhood, apprehending criminals, dealing justice, and solving crimes.",
         "['Action', 'Adventure', 'Comedy', 'Kids']",
         "['Adventure', 'Comedy', 'Kids']"
        ],
        [
         "12",
         "The hero of Tensei shitara Ken deshita differs from your standard otherworldly protagonist in that he is reincarnated as a sword! Beginning his quest by spawning in the middle of a beast-ridden forest, he encounters an injured girl frantically fleeing for her life. Saving her from her assailants, the pair acquaint themselves, and the girl introduces herself as Fran. She bears a heavy past, having endured the enslavement and maltreatment of her tribe, the Black Cats.  As the hero is unable to remember the name from his past life, the young and tenacious Fran bestows him the name \"Shishou\" and becomes his wielder. Thereafter, Shishou and Fran become a formidable team, embarking on quests to liberate the oppressed and exact justice!",
         "['Action', 'Fantasy']",
         "['Adventure', 'Drama', 'School']"
        ],
        [
         "13",
         "If a girl teases you, that means she likes you!  Unfortunately, Akiteru knows from experience that isn't the case. Because every girl he interacts with shows him nothing but scorn, and he's not scored a single date from it! Luckily, he's more concerned with securing a spot for him and his game-development buddies at his uncle's business.  But when his uncle throws him a condition that involves playing the part of his daughter's boyfriend, Akiteru has no choice but to take it. What will his best friend's sister Iroha, who bullies him relentlessly, think of the news?",
         "['Comedy', 'Romance', 'School']",
         "['Comedy', 'Drama', 'School', 'Seinen', 'Slice of Life']"
        ],
        [
         "14",
         "The second season of . SBS took over broadcasting the show. The art style has been changed for a more modern anime-esque appearance and some voice actors did not reprise their character's roles.",
         "['Kids', 'Sci-Fi']",
         "['Comedy', 'Slice of Life', 'Sports', 'Super Power']"
        ],
        [
         "15",
         "Hitori Gotou is a high school girl who's starting to learn to play the guitar because she dreams of being in a band, but she's so shy that she hasn't made a single friend. However, her dream might come true after she meets Nijika Ijichi, a girl who plays drums and is looking for a new guitarist for her band.",
         "['Comedy', 'Music', 'Slice of Life']",
         "['Music', 'School', 'Seinen', 'Shoujo', 'Slice of Life']"
        ],
        [
         "16",
         "The anime's story centers on a cat named Maru, adopted by a girl named Anna from a shelter in Matsuyama city. Loved and well fed by the family, Maru gets rounder and fatter every day, spending most of his day sitting by the window and looking at the garden outside. When the family gets a new cat named Cerisier and begins doting on it, Maru gets jealous. In a fight with Cerisier, Maru is hurt by the family's words to him, and follows the advice of another cat to leave and see the world.",
         "['Slice of Life']",
         "['Comedy', 'Fantasy', 'Kids', 'Seinen', 'Slice of Life']"
        ],
        [
         "17",
         "TV anime based on San-X's new series of mascot characters \"Chickip Dancers.\" The main characters in the anime will be the apprehensive but curious bone-in chicken Hone Chicken, and the dancing instructor frog Skip Gaeru, who travels by dancing.",
         "['Slice of Life']",
         "['Adventure', 'Comedy', 'Kids', 'Shoujo']"
        ],
        [
         "18",
         "A Chinese prince meets a regular civilian during his travels and quickly falls in love. They marry and have a daughter, but the prince is soon separated from them during a rebellion. Many years later, the prince has become emperor and locates his lost daughter. She comes to live with him, but unfortunately has picked up several unrefined habits during her times as a civilian.",
         "['Comedy', 'Historical', 'Kids']",
         "['Adventure', 'Comedy', 'Drama', 'Fantasy', 'Historical', 'Kids', 'Romance']"
        ],
        [
         "19",
         "The anime follows the frogs Kekkero and Ke who try to find their 998 other siblings.",
         "['Comedy']",
         "['Comedy', 'Fantasy', 'Kids', 'Music', 'Slice of Life']"
        ],
        [
         "20",
         "The series follows a young girl named Shina who hopes to become the world's best DJ, and is interested in new sounds. Shina explores a mysterious world filled with Otoppe, strange creatures capable of unique sounds.",
         "['Fantasy', 'Kids', 'Music']",
         "['Adventure', 'Comedy', 'Fantasy', 'Kids', 'Sci-Fi', 'Slice of Life', 'Supernatural']"
        ],
        [
         "21",
         "Excellent student Iwakura Mitsumi has always dreamt about leaving her small town, going to a prestigious university, and making positive change in the world. But she's so focused on reaching her goals that she's not prepared for the very different (and overwhelming) city life that awaits her in a Tokyo high school. Luckily, she makes fast friends with Shima Sousuke, a handsome classmate who's as laid-back as she is over-prepared. Can this naive country girl make it big in Tokyo with Sousuke by her side?",
         "['School', 'Seinen', 'Slice of Life']",
         "['Drama', 'School', 'Slice of Life']"
        ],
        [
         "22",
         "It follows the fan favorite character Vandyne as his hidden secrets are revealed. Unlike the reboot, which exclusively uses 3DCG visuals, this series is like the earlier entries and is animated with 2D and 3D visuals.  The mini-series is part of a new promotional campaign from Sono Kong. The Korean toy manufacturer will launch four new mechanimals this month at retail.",
         "['Adventure', 'Kids', 'Mecha']",
         "['Comedy']"
        ],
        [
         "23",
         "The mischievous antics of a ghost in an ancient village.",
         "['Supernatural']",
         "['Adventure', 'Fantasy', 'Historical', 'Kids', 'Shounen', 'Slice of Life', 'Super Power', 'Supernatural']"
        ],
        [
         "24",
         "One day, a gamer played video games until he fell asleep...and when he woke up, he found himself in the game world—as a skeleton! Equipped with the powerful weapons and armor of his avatar but stuck with its frightening skeletal appearance, Arc has to find a place for himself in this new, fantastical land. All his hopes for a quiet life are dashed when he crosses paths with a beautiful elven warrior, setting him on a journey full of conflict and adventure.",
         "['Action', 'Fantasy']",
         "['Action', 'Adventure', 'Fantasy']"
        ],
        [
         "25",
         "The anime is based on Kazuo Hara's comedy manga in which mascot characters live and work among humans. Agencies have been set up to train mascots to babysit children and then to place the mascots within families. Noramimi is one such mascot at the Hello Kids branch office #59. Unfortunately, no family wants to adopt a mascot born from a demon (oni) family, so he is stuck living at the agency.  Source: ANN, Moon Phase",
         "['Comedy']",
         "['Comedy', 'School', 'Shoujo', 'Slice of Life']"
        ],
        [
         "26",
         "The series of \"warm and soothing\" anime shorts will follow a cat who is suddenly resurrected from the grave and begins to wander around town. Despite being a zombie, the cat is able to get all the townsfolk to fall in love with it.",
         "['Comedy']",
         "['Comedy']"
        ],
        [
         "27",
         "Shoot for the stars! I'm going to be the country's number one alchemist!  When young girl Sarasa graduated from the Royal Alchemist Academy, her teacher gifted her a house for her to set up shop. Aiming to become a masterclass alchemist, she gathers materials herself, experiments and operates a business. In her very own atelier, Sarasa indulges in a slow and relaxed alchemist life!",
         "['Adventure', 'Fantasy', 'Slice of Life']",
         "['Fantasy', 'School']"
        ],
        [
         "28",
         "Based on Otomate's puzzle role-playing game.  A medical student named Shiina and nine male partners are trapped in a certain dimensional realm with many ancient texts and an enormous mysterious clock. Together, they must find a way to escape by uncovering clues before the clock strikes \"13.\"",
         "['Mystery', 'Romance', 'Supernatural']",
         "['Action', 'Adventure', 'Fantasy', 'Mystery', 'Shounen']"
        ],
        [
         "29",
         "An anime/documentary series about athletes present by NHK.  The first episode adapts material from Tomoyoshi Itou and Shingo Morita's Weekly Young Jump biographical manga (Geniuses Without Glory)—specifically the story about Hironoshin Furuhashi, the swimmer also known as \"the flying fish of Fujiyama.\" The episode also includes interviews with Olympic swimmer Kousuke Kitajima and other Japanese swimmers about the how Furuhashi changed the Japanese competitive swimming world, as well as what sort of training is required to be an Olympic swimmer.",
         "['Sports']",
         "['Comedy', 'Drama', 'Romance', 'Sci-Fi', 'Shounen']"
        ],
        [
         "30",
         "A story of the adventures of Robby and Kerobby along with their other friends.",
         "['Comedy', 'Kids']",
         "['Adventure', 'Comedy', 'Fantasy', 'Kids']"
        ],
        [
         "31",
         "Eiyuu Densetsu: Sen no Kiseki centers around Rean Schwarzer, a professor at Thors Military Academy in the Erebonian Empire. The anime's story will focus on the western part of the Zemurian continent featured in the games.",
         "['Action']",
         "['Action', 'Fantasy', 'School']"
        ],
        [
         "32",
         "A little ghost girl gets worries when Ms. Fushihara, a corporate slave, is working till midnight, and tries to make her go home. While saying \"Leave now~,\" the ghost girl helps and brings her refreshments, healing Ms. Fushihara's heart with her preciousness. Be healed by the heartwarming daily life of the cute little ghost and the corporate slave Ms. Fushihara.",
         "['Comedy', 'Shounen', 'Slice of Life', 'Supernatural']",
         "['Comedy', 'Kids', 'Romance', 'School', 'Seinen', 'Slice of Life', 'Supernatural']"
        ],
        [
         "33",
         "The story follows as Tochi and Milo travel the world in search of new Kimchi Pong to save their homes and uncover the secrets behind these creatures.",
         "['Adventure', 'Fantasy', 'Kids']",
         "['Adventure', 'Fantasy', 'Kids', 'Mystery', 'Shounen']"
        ],
        [
         "34",
         "On planet Kirakira live two tribes: Senobi and Robot. Senobi, quiet and peacefully set, settle down in the forest. Robot comes from the desert and starts war to take control of afforested grounds. A young hero coming from Senobi tries to appease the whole situation.",
         "['Action', 'Adventure', 'Sci-Fi']",
         "['Action', 'Adventure', 'Comedy', 'Mecha', 'Sci-Fi']"
        ],
        [
         "35",
         "Urobe was a son of the great chief of Pyrimi, Africa. One day he hung on an airplane and came to Japan. Because of the cold and hunger, he fell on to the yard of Shishio’s house, and Shishio nursed him. Kurobe was very thankful for him and began to repay for his kindness. Kurobe dug a big hole in the yard.Every time he returns the favor, he threw a stone into the hole until stones would fill the hole.",
         "['Comedy']",
         "['Comedy', 'Historical', 'Kids']"
        ],
        [
         "36",
         "It is the time of civil war. Zipangu is a country where people live together with gimmick warriors, a kind of super human robot. There, people and gimmick warriors struggle to seize power. Musashi, a Samurai gimmick warrior, departs to on a quest to become the best Samurai warrior. Musashi thrives in the series of battles, encountering with many heroes and villains including his lifelong rival, Kojiro, an expert swordsman.Later, Mushashi and Kojiro are sent by their General to escort the Princess, a granddaughter of the general. The princess is spoiled and difficult, so their journey becomes series of misadventures. Soon, they are caught up in a battle to seize control of the Country.",
         "['Action', 'Adventure', 'Mecha']",
         "['Action', 'Adventure', 'Fantasy', 'Historical', 'Shounen']"
        ],
        [
         "37",
         "The story is told by the cat-eyed boy, hated by humans and demons, who engages in tales of terror, including monsters and children.",
         "['Adventure', 'Seinen', 'Supernatural']",
         "['Fantasy', 'Kids', 'Shounen', 'Supernatural']"
        ],
        [
         "38",
         "In the city of Fuuto, criminals make use of USB-like devices called \"Gaia Memories\" to turn themselves into superpowered monsters known as \"Dopants,\" wreaking havoc in the otherwise peaceful city. However, there are also heroes who utilize the Gaia Memories to fight these criminals, one of whom is the self-proclaimed, hard-boiled detective Shoutarou Hidari. With the help of his witty partner Philip, the two transform into Kamen Rider W—the legendary hero of Fuuto city.  After the fall of Museum—the evil organisation responsible for many crimes in Fuuto—the production and distribution of Gaia Memories has halted. However, remnants of Gaia Memories still remain within society and are sold in the black market at high prices. Thus, the two heroes from Narumi Detective Agency are yet to have time to relax. Sights of Dopants still occur and the agency receives more and more clients who claim to experience supernatural phenomena.  Regardless of the arduous nature of the task, Kamen Rider W promises that those who hurt Fuuto will inevitably count up their sins.",
         "['Action', 'Drama', 'Mystery', 'Seinen', 'Supernatural']",
         "['Action', 'Adventure', 'Comedy', 'Mystery', 'Sci-Fi', 'Shounen', 'Super Power']"
        ],
        [
         "39",
         "Tonko House has partnered with Japanese stop-motion house \"dwarf\" and CG studio Megalis on the new project. Tsutsumi is the directing showrunner of a stop-motion/CGI animated TV series called “Oni,” about a human girl being raised by a mythical Japanese god.  Tonko House plans to show test footage of at its first-ever Tonko House Film Festival this spring in Tokyo.",
         "['Kids']",
         "['Historical', 'Romance', 'Slice of Life', 'Supernatural']"
        ],
        [
         "40",
         "Nameko Forest gathers nameko from all over the world. They form the Nameko Universal Ranger (NUR) to convey the charm of the forest. It's an everyday life of inviting new nameko with unique personalities to the forests. What incident will happen today?",
         "['Comedy', 'Kids']",
         "['Comedy', 'Kids', 'Music', 'Seinen', 'Slice of Life', 'Supernatural']"
        ],
        [
         "41",
         "The story tells the tale of Semi, a bright girl who goes in a magical time journey with the genius teacher Wai, in order to prevent the evil X from utilizing the powers of the magic cube for evil. Along the way, Semi and her math school friends run into history and math problems that they must solve with logic and wit.",
         "['Action', 'Comedy', 'Fantasy']",
         "['Adventure', 'Comedy', 'Fantasy', 'Historical']"
        ],
        [
         "42",
         "An NHK toddler's anime following a Spoon Princess and other kitchen themed characters.",
         "['Adventure', 'Kids']",
         "['Comedy', 'Kids', 'Music', 'School', 'Slice of Life']"
        ],
        [
         "43",
         "The hero of Wansa-kun is Wansa, a puppy who is sold for a pittance, then escapes, and spends much of the rest of the series looking for his mother.",
         "['Comedy']",
         "['Adventure', 'Drama', 'Fantasy', 'Kids', 'Slice of Life']"
        ],
        [
         "44",
         "Japan has 47 prefectures and each one has a guardian spirit called a Dochamon. follows guardian spirits in training to one day take over the jobs of their elders. But these juniors have a lot of growing up to do before they graduate!",
         "['Comedy', 'Kids']",
         "['Comedy', 'Supernatural']"
        ],
        [
         "45",
         "G.G. Bonds enters the realm of dreams to stop evil's power from growing. They must get the citizens of Crystal City to remember their dreams so that the 5 element powers can recharge.",
         "['Kids', 'Sci-Fi', 'Super Power']",
         "['Adventure', 'Fantasy', 'Mecha', 'Sci-Fi', 'Super Power']"
        ],
        [
         "46",
         "Three oni-kids who, through the power of the onipan (a portmanteau of \"oni\" and \"pantsu\") become human to help fix the relationship between humans and oni. The three girls transfer into a normal Tokyo high school to aid in their task and help fix their image by revitalizing the town, sometimes jumping headfirst into school events, and other times ... becoming idols!",
         "['Comedy', 'Fantasy']",
         "['Drama', 'Romance', 'School']"
        ],
        [
         "47",
         "The anime centers on Katsuko Yoshida, the cousin of Eagle Talon's Yoshida-kun, and an employee in Kemonomichi Electronics' \"special general affairs\" section. She educates her poorly informed colleagues about their misunderstandings of Sustainable Development Goals, the United Nations-backed goals for member nations to attain a sustainable future.",
         "['Comedy']",
         "['Action', 'Music', 'School', 'Sci-Fi', 'Shounen']"
        ],
        [
         "48",
         "The \"home comedy\" centers on the mischievous boy Rikkun and his eccentric family.",
         "['Comedy', 'Seinen']",
         "['Comedy', 'Kids', 'Seinen', 'Shounen', 'Slice of Life']"
        ],
        [
         "49",
         "St. Muse Academy: the place for the \"sound of the spirits.\" In order for people to live pleasantly among the sound, there is an academy where people learn to balance and control sound. Now, the five failing students receive a special mission...",
         "['Comedy', 'Music']",
         "['Action', 'Comedy', 'School']"
        ]
       ],
       "shape": {
        "columns": 3,
        "rows": 891
       }
      },
      "text/html": [
       "<div>\n",
       "<style scoped>\n",
       "    .dataframe tbody tr th:only-of-type {\n",
       "        vertical-align: middle;\n",
       "    }\n",
       "\n",
       "    .dataframe tbody tr th {\n",
       "        vertical-align: top;\n",
       "    }\n",
       "\n",
       "    .dataframe thead th {\n",
       "        text-align: right;\n",
       "    }\n",
       "</style>\n",
       "<table border=\"1\" class=\"dataframe\">\n",
       "  <thead>\n",
       "    <tr style=\"text-align: right;\">\n",
       "      <th></th>\n",
       "      <th>synopsis</th>\n",
       "      <th>true_genres</th>\n",
       "      <th>predicted_genres</th>\n",
       "    </tr>\n",
       "  </thead>\n",
       "  <tbody>\n",
       "    <tr>\n",
       "      <th>0</th>\n",
       "      <td>The daily life of the Motsumoto family. The th...</td>\n",
       "      <td>[Comedy, Slice of Life]</td>\n",
       "      <td>[Comedy, Mystery, Seinen, Slice of Life]</td>\n",
       "    </tr>\n",
       "    <tr>\n",
       "      <th>1</th>\n",
       "      <td>The Soul Tree, the great source of our race.  ...</td>\n",
       "      <td>[Action, Adventure, Kids]</td>\n",
       "      <td>[Action, Drama, Fantasy, Kids, Romance, Shoune...</td>\n",
       "    </tr>\n",
       "    <tr>\n",
       "      <th>2</th>\n",
       "      <td>Fairies living in a fluffy forest, where both ...</td>\n",
       "      <td>[Fantasy, Kids]</td>\n",
       "      <td>[Adventure, Kids, Slice of Life]</td>\n",
       "    </tr>\n",
       "    <tr>\n",
       "      <th>3</th>\n",
       "      <td>A cyborg warrior from an ancient Antarctic kin...</td>\n",
       "      <td>[Action, Mecha, Sci-Fi]</td>\n",
       "      <td>[Action, Adventure, Fantasy, Historical, Mecha...</td>\n",
       "    </tr>\n",
       "    <tr>\n",
       "      <th>4</th>\n",
       "      <td>The 2018 LINE sticker set Poccolies is inspiri...</td>\n",
       "      <td>[Kids, Slice of Life]</td>\n",
       "      <td>[Adventure, Fantasy, Kids]</td>\n",
       "    </tr>\n",
       "    <tr>\n",
       "      <th>...</th>\n",
       "      <td>...</td>\n",
       "      <td>...</td>\n",
       "      <td>...</td>\n",
       "    </tr>\n",
       "    <tr>\n",
       "      <th>886</th>\n",
       "      <td>A series of four animated prequels to Street F...</td>\n",
       "      <td>[Action]</td>\n",
       "      <td>[Action, Historical, Mecha, Music, Sports]</td>\n",
       "    </tr>\n",
       "    <tr>\n",
       "      <th>887</th>\n",
       "      <td>According to HMV, the DVD &amp; Blu-ray volume 7 o...</td>\n",
       "      <td>[Comedy, Seinen, Sports]</td>\n",
       "      <td>[Action, Adventure, Comedy, Drama, School, Sci...</td>\n",
       "    </tr>\n",
       "    <tr>\n",
       "      <th>888</th>\n",
       "      <td>Lucius ends up in a space station, where he ex...</td>\n",
       "      <td>[Comedy, Seinen]</td>\n",
       "      <td>[Mecha, Music, Slice of Life]</td>\n",
       "    </tr>\n",
       "    <tr>\n",
       "      <th>889</th>\n",
       "      <td>The \"Megumi and Taiyou\" commercial depicts the...</td>\n",
       "      <td>[Romance, Slice of Life]</td>\n",
       "      <td>[Drama, Music, School, Slice of Life]</td>\n",
       "    </tr>\n",
       "    <tr>\n",
       "      <th>890</th>\n",
       "      <td>Kiki is a 17-year-old high school witch living...</td>\n",
       "      <td>[Romance, Slice of Life]</td>\n",
       "      <td>[Drama, Romance, School]</td>\n",
       "    </tr>\n",
       "  </tbody>\n",
       "</table>\n",
       "<p>891 rows × 3 columns</p>\n",
       "</div>"
      ],
      "text/plain": [
       "                                              synopsis  \\\n",
       "0    The daily life of the Motsumoto family. The th...   \n",
       "1    The Soul Tree, the great source of our race.  ...   \n",
       "2    Fairies living in a fluffy forest, where both ...   \n",
       "3    A cyborg warrior from an ancient Antarctic kin...   \n",
       "4    The 2018 LINE sticker set Poccolies is inspiri...   \n",
       "..                                                 ...   \n",
       "886  A series of four animated prequels to Street F...   \n",
       "887  According to HMV, the DVD & Blu-ray volume 7 o...   \n",
       "888  Lucius ends up in a space station, where he ex...   \n",
       "889  The \"Megumi and Taiyou\" commercial depicts the...   \n",
       "890  Kiki is a 17-year-old high school witch living...   \n",
       "\n",
       "                   true_genres  \\\n",
       "0      [Comedy, Slice of Life]   \n",
       "1    [Action, Adventure, Kids]   \n",
       "2              [Fantasy, Kids]   \n",
       "3      [Action, Mecha, Sci-Fi]   \n",
       "4        [Kids, Slice of Life]   \n",
       "..                         ...   \n",
       "886                   [Action]   \n",
       "887   [Comedy, Seinen, Sports]   \n",
       "888           [Comedy, Seinen]   \n",
       "889   [Romance, Slice of Life]   \n",
       "890   [Romance, Slice of Life]   \n",
       "\n",
       "                                      predicted_genres  \n",
       "0             [Comedy, Mystery, Seinen, Slice of Life]  \n",
       "1    [Action, Drama, Fantasy, Kids, Romance, Shoune...  \n",
       "2                     [Adventure, Kids, Slice of Life]  \n",
       "3    [Action, Adventure, Fantasy, Historical, Mecha...  \n",
       "4                           [Adventure, Fantasy, Kids]  \n",
       "..                                                 ...  \n",
       "886         [Action, Historical, Mecha, Music, Sports]  \n",
       "887  [Action, Adventure, Comedy, Drama, School, Sci...  \n",
       "888                      [Mecha, Music, Slice of Life]  \n",
       "889              [Drama, Music, School, Slice of Life]  \n",
       "890                           [Drama, Romance, School]  \n",
       "\n",
       "[891 rows x 3 columns]"
      ]
     },
     "metadata": {},
     "output_type": "display_data"
    }
   ],
   "source": [
    "display(df_train_results)\n",
    "display(df_val_results)\n",
    "display(df_test_results)"
   ]
  },
  {
   "cell_type": "code",
   "execution_count": null,
   "id": "28625f47",
   "metadata": {},
   "outputs": [],
   "source": [
    "roc_auc_per_genre = roc_auc_score(test_labels, test_prob, average=None)\n",
    "for label, auc in zip(all_genres, roc_auc_per_genre):\n",
    "    print(f\"{label}: ROC AUC = {auc:.4f}\")"
   ]
  },
  {
   "cell_type": "code",
   "execution_count": 5,
   "id": "8d000acf",
   "metadata": {},
   "outputs": [
    {
     "name": "stdout",
     "output_type": "stream",
     "text": [
      "Action: ROC AUC = 0.8054\n",
      "Adventure: ROC AUC = 0.7599\n",
      "Comedy: ROC AUC = 0.6900\n",
      "Drama: ROC AUC = 0.6682\n",
      "Fantasy: ROC AUC = 0.7845\n",
      "Historical: ROC AUC = 0.7919\n",
      "Kids: ROC AUC = 0.8278\n",
      "Mecha: ROC AUC = 0.8008\n",
      "Music: ROC AUC = 0.8554\n",
      "Mystery: ROC AUC = 0.7247\n",
      "Romance: ROC AUC = 0.7604\n",
      "School: ROC AUC = 0.8261\n",
      "Sci-Fi: ROC AUC = 0.8282\n",
      "Seinen: ROC AUC = 0.6176\n",
      "Shoujo: ROC AUC = 0.7065\n",
      "Shounen: ROC AUC = 0.7042\n",
      "Slice of Life: ROC AUC = 0.7825\n",
      "Sports: ROC AUC = 0.9394\n",
      "Super Power: ROC AUC = 0.7278\n",
      "Supernatural: ROC AUC = 0.7805\n"
     ]
    }
   ],
   "source": [
    "roc_auc_per_genre = roc_auc_score(test_labels, test_prob, average=None)\n",
    "for label, auc in zip(all_genres, roc_auc_per_genre):\n",
    "    print(f\"{label}: ROC AUC = {auc:.4f}\")"
   ]
  },
  {
   "cell_type": "code",
   "execution_count": 6,
   "id": "8936ebfe",
   "metadata": {},
   "outputs": [
    {
     "data": {
      "application/vnd.microsoft.datawrangler.viewer.v0+json": {
       "columns": [
        {
         "name": "index",
         "rawType": "int64",
         "type": "integer"
        },
        {
         "name": "0",
         "rawType": "float64",
         "type": "float"
        }
       ],
       "conversionMethod": "pd.DataFrame",
       "ref": "1ef1cea1-bff8-407f-bd4d-d83cfc3a1bc1",
       "rows": [
        [
         "0",
         "0.80543256729215"
        ],
        [
         "1",
         "0.7599101602296934"
        ],
        [
         "2",
         "0.6900348228621475"
        ],
        [
         "3",
         "0.668247647746141"
        ],
        [
         "4",
         "0.7844774186282238"
        ],
        [
         "5",
         "0.7919191919191919"
        ],
        [
         "6",
         "0.8278308908663866"
        ],
        [
         "7",
         "0.8008496732026144"
        ],
        [
         "8",
         "0.8553640339593517"
        ],
        [
         "9",
         "0.7246781290743155"
        ],
        [
         "10",
         "0.7603915375136674"
        ],
        [
         "11",
         "0.8260974562627454"
        ],
        [
         "12",
         "0.8282295969235152"
        ],
        [
         "13",
         "0.6175640890017279"
        ],
        [
         "14",
         "0.7065054050123613"
        ],
        [
         "15",
         "0.7042063418692799"
        ],
        [
         "16",
         "0.7825189334993257"
        ],
        [
         "17",
         "0.9394273706330444"
        ],
        [
         "18",
         "0.7278093807019427"
        ],
        [
         "19",
         "0.7804872541714646"
        ]
       ],
       "shape": {
        "columns": 1,
        "rows": 20
       }
      },
      "text/html": [
       "<div>\n",
       "<style scoped>\n",
       "    .dataframe tbody tr th:only-of-type {\n",
       "        vertical-align: middle;\n",
       "    }\n",
       "\n",
       "    .dataframe tbody tr th {\n",
       "        vertical-align: top;\n",
       "    }\n",
       "\n",
       "    .dataframe thead th {\n",
       "        text-align: right;\n",
       "    }\n",
       "</style>\n",
       "<table border=\"1\" class=\"dataframe\">\n",
       "  <thead>\n",
       "    <tr style=\"text-align: right;\">\n",
       "      <th></th>\n",
       "      <th>0</th>\n",
       "    </tr>\n",
       "  </thead>\n",
       "  <tbody>\n",
       "    <tr>\n",
       "      <th>0</th>\n",
       "      <td>0.805433</td>\n",
       "    </tr>\n",
       "    <tr>\n",
       "      <th>1</th>\n",
       "      <td>0.759910</td>\n",
       "    </tr>\n",
       "    <tr>\n",
       "      <th>2</th>\n",
       "      <td>0.690035</td>\n",
       "    </tr>\n",
       "    <tr>\n",
       "      <th>3</th>\n",
       "      <td>0.668248</td>\n",
       "    </tr>\n",
       "    <tr>\n",
       "      <th>4</th>\n",
       "      <td>0.784477</td>\n",
       "    </tr>\n",
       "    <tr>\n",
       "      <th>5</th>\n",
       "      <td>0.791919</td>\n",
       "    </tr>\n",
       "    <tr>\n",
       "      <th>6</th>\n",
       "      <td>0.827831</td>\n",
       "    </tr>\n",
       "    <tr>\n",
       "      <th>7</th>\n",
       "      <td>0.800850</td>\n",
       "    </tr>\n",
       "    <tr>\n",
       "      <th>8</th>\n",
       "      <td>0.855364</td>\n",
       "    </tr>\n",
       "    <tr>\n",
       "      <th>9</th>\n",
       "      <td>0.724678</td>\n",
       "    </tr>\n",
       "    <tr>\n",
       "      <th>10</th>\n",
       "      <td>0.760392</td>\n",
       "    </tr>\n",
       "    <tr>\n",
       "      <th>11</th>\n",
       "      <td>0.826097</td>\n",
       "    </tr>\n",
       "    <tr>\n",
       "      <th>12</th>\n",
       "      <td>0.828230</td>\n",
       "    </tr>\n",
       "    <tr>\n",
       "      <th>13</th>\n",
       "      <td>0.617564</td>\n",
       "    </tr>\n",
       "    <tr>\n",
       "      <th>14</th>\n",
       "      <td>0.706505</td>\n",
       "    </tr>\n",
       "    <tr>\n",
       "      <th>15</th>\n",
       "      <td>0.704206</td>\n",
       "    </tr>\n",
       "    <tr>\n",
       "      <th>16</th>\n",
       "      <td>0.782519</td>\n",
       "    </tr>\n",
       "    <tr>\n",
       "      <th>17</th>\n",
       "      <td>0.939427</td>\n",
       "    </tr>\n",
       "    <tr>\n",
       "      <th>18</th>\n",
       "      <td>0.727809</td>\n",
       "    </tr>\n",
       "    <tr>\n",
       "      <th>19</th>\n",
       "      <td>0.780487</td>\n",
       "    </tr>\n",
       "  </tbody>\n",
       "</table>\n",
       "</div>"
      ],
      "text/plain": [
       "           0\n",
       "0   0.805433\n",
       "1   0.759910\n",
       "2   0.690035\n",
       "3   0.668248\n",
       "4   0.784477\n",
       "5   0.791919\n",
       "6   0.827831\n",
       "7   0.800850\n",
       "8   0.855364\n",
       "9   0.724678\n",
       "10  0.760392\n",
       "11  0.826097\n",
       "12  0.828230\n",
       "13  0.617564\n",
       "14  0.706505\n",
       "15  0.704206\n",
       "16  0.782519\n",
       "17  0.939427\n",
       "18  0.727809\n",
       "19  0.780487"
      ]
     },
     "metadata": {},
     "output_type": "display_data"
    }
   ],
   "source": [
    "df=pd.DataFrame(roc_auc_per_genre)\n",
    "display(df)\n",
    "df.to_csv('BOWLR.csv', float_format='%.2f', index=False)"
   ]
  },
  {
   "cell_type": "code",
   "execution_count": null,
   "id": "41af551f",
   "metadata": {},
   "outputs": [
    {
     "data": {
      "text/plain": [
       "Action           0.544904\n",
       "Adventure        0.492381\n",
       "Comedy           0.428335\n",
       "Drama            0.373203\n",
       "Fantasy          0.508050\n",
       "Historical       0.573845\n",
       "Kids             0.506849\n",
       "Mecha            0.617752\n",
       "Music            0.678723\n",
       "Mystery          0.484980\n",
       "Romance          0.482020\n",
       "School           0.612314\n",
       "Sci-Fi           0.587746\n",
       "Seinen           0.219229\n",
       "Shoujo           0.425929\n",
       "Shounen          0.352751\n",
       "Slice of Life    0.464132\n",
       "Sports           0.811631\n",
       "Super Power      0.384030\n",
       "Supernatural     0.524237\n",
       "Name: MCC, dtype: float64"
      ]
     },
     "metadata": {},
     "output_type": "display_data"
    }
   ],
   "source": [
    "from sklearn.metrics import matthews_corrcoef\n",
    "import numpy as np\n",
    "import pandas as pd\n",
    "\n",
    "def mcc_per_label(y_true, y_pred, label_names=None):\n",
    "    n_labels = y_true.shape[1]\n",
    "    mcc_scores = []\n",
    "\n",
    "    for i in range(n_labels):\n",
    "        mcc = matthews_corrcoef(y_true[:, i], y_pred[:, i])\n",
    "        mcc_scores.append(mcc)\n",
    "\n",
    "    if label_names is None:\n",
    "        label_names = [f\"Label_{i}\" for i in range(n_labels)]\n",
    "\n",
    "    return pd.Series(mcc_scores, index=label_names, name=\"MCC\")\n",
    "\n",
    "MCC_labels=mcc_per_label(val_labels,val_pred,label_names=all_genres)\n",
    "display(MCC_labels)"
   ]
  },
  {
   "cell_type": "code",
   "execution_count": null,
   "id": "a5454887",
   "metadata": {},
   "outputs": [
    {
     "name": "stdout",
     "output_type": "stream",
     "text": [
      "Report for Train dataset\n",
      "samples avg f1-score = 0.49593121432667137\n",
      "Jaccard Similarity: 0.35888034988126655\n",
      "Hit Rate: 0.9890145747226452\n",
      "----------------------\n",
      "Report for Val dataset\n",
      "samples avg f1-score = 0.3832850235652609\n",
      "Jaccard Similarity: 0.25724073961297966\n",
      "Hit Rate: 0.9332748024582967\n",
      "----------------------\n",
      "Report for Test dataset\n",
      "samples avg f1-score = 0.3862439184078565\n",
      "Jaccard Similarity: 0.26009086586694063\n",
      "Hit Rate: 0.9332748024582967\n"
     ]
    },
    {
     "data": {
      "application/vnd.microsoft.datawrangler.viewer.v0+json": {
       "columns": [
        {
         "name": "index",
         "rawType": "int64",
         "type": "integer"
        },
        {
         "name": "Synopsis",
         "rawType": "object",
         "type": "string"
        },
        {
         "name": "Actual Genres",
         "rawType": "object",
         "type": "unknown"
        },
        {
         "name": "Predicted Genres",
         "rawType": "object",
         "type": "unknown"
        }
       ],
       "conversionMethod": "pd.DataFrame",
       "ref": "9a968c13-4e50-4372-80f4-42a49e8e2a61",
       "rows": [
        [
         "0",
         "Sometime in the future, the world was completely dried up and became all desert. They had little rivers and lakes left, which villians and dangerous animals lived. Water has become the most valueable thing on the world. Whoever can control water will rule over the world.  (Source: ANN)",
         "('Action', 'Adventure')",
         "('Adventure', 'Comedy', 'Fantasy', 'Kids', 'Other', 'Sci-Fi', 'Shounen')"
        ],
        [
         "1",
         "Set in 2014, the anime follows the adventures of 23 years old Mafuneko, a newly minted assistant director who joins the TV production department at Tokyo Hajikko Television, only to discover that the glamorous and glitzy life of working behind-the-scenes making TV shows involves strange and inexplicable tasks such as \"gathering 300 acorns\" and \"making a mosaic out of the images reflected in the camera lens.\" Despite being surrounded by chaos, set-backs, and weirdos, Mafuneko struggles to become a fully-fledged TV producer.  (Source: Crunchyroll, edited)",
         "('Comedy',)",
         "('Comedy', 'Fantasy', 'Slice of Life')"
        ],
        [
         "2",
         "Follows a pig whose family's mission is to collect underpants.",
         "('Comedy', 'Kids')",
         "('Action', 'Comedy', 'Ecchi', 'Fantasy', 'Kids', 'Music', 'Other', 'Sci-Fi', 'Seinen', 'Shounen', 'Slice of Life', 'Super Power', 'Supernatural')"
        ],
        [
         "3",
         "In honor of the 2018 World Cup, this season of GG Bond focuses on sports team competition, team spirit, and personal growth as they compete in the Meteor League.  ",
         "('Kids', 'Sci-Fi', 'Sports', 'Super Power')",
         "('Action', 'Drama', 'Kids', 'Music', 'Sci-Fi', 'Seinen', 'Sports', 'Super Power')"
        ],
        [
         "4",
         "Fairies living in a fluffy forest, where both flowers and trees are fluffy. Follow a witch's trouble-maker apprentices Pui Pui and Muu Muu.",
         "('Fantasy', 'Kids')",
         "('Adventure', 'Comedy', 'Fantasy', 'Kids', 'Shoujo', 'Slice of Life')"
        ],
        [
         "5",
         "This story is about Mick, a sleeping chironomid. Insects are taken up into space for use in experiments by humans. An epic space adventure of Mick and his friends of their journey back home to Earth. The development plans and experiments are aborted by humans for no known reason, the organisms are left behind in the space station with limited resources. Going over hurdles and fighting through challenges, together, they travel across planets and gain new comrades, heading for Earth. As their journey progresses, the mystery behind the human’s abandonment unravels…  (Source: Crunchyroll)",
         "('Adventure', 'Other')",
         "('Action', 'Adventure', 'Drama', 'Other', 'Sci-Fi', 'Seinen', 'Shounen')"
        ],
        [
         "6",
         "The anime is based on MegaHouse's line of Ziguru Hazeru (literally, \"Jiggle and Pop Out\") mecha toys that allow people to remove parts from the joints and add different parts in their place. In addition, if one combines together Hazeru Gokuu, Hazeru Sagojo, and Hazeru Hakkai, the resulting mecha will be Hazeru Seioh, allowing for users to combine their toys together.  The ZIGURUHAZERU animated series is based on the upcoming original toy line of the same name from MegaHouse, featuring cool robot toys modelled after characters from the famous Journey to the West tale.",
         "('Action', 'Mecha')",
         "('Action', 'Kids', 'Mecha')"
        ],
        [
         "7",
         "Fuwa Beibei encounters the severely injured goddess, Athena. In order to help Athena regain strength, Beibei sets out to find a mysterious wooden box left by Coubertin in 1894, but the worrying thing is that Pixiu who injured his stomach from his glutinous eating habits heard this news too. He thought that this mysterious energy could not only cure his stomach, but also improve his magic, and such begins the journey through time and space of two spirits with different aims. After all the hardships, they found the sixth son of the dragon - Bixi, and after the two's efforts in passing his test, Bixi carries them along 100 years of Olympic history.",
         "('Historical',)",
         "('Action', 'Drama', 'Fantasy', 'Historical', 'Mecha', 'Other', 'Romance', 'Shoujo')"
        ],
        [
         "8",
         "The anime will depict various vehicles as characters in the \"Mobile Land\" island. The protagonist Car-kun arrives at the island as a delivery worker. Through his deliveries, he gets to know the residents of Mobile Land, all while following traffic rules and having his deliveries stopped by the meddling Sabibi.  (Source: ANN)",
         "('Comedy', 'Kids', 'Other', 'Slice of Life')",
         "('Adventure', 'Comedy', 'Fantasy', 'Kids', 'Military', 'Other', 'Slice of Life')"
        ],
        [
         "9",
         "follows the adventures of an adorable jet plane named Jett who travels around the world delivering packages to children. On every delivery, Jett encounters new problems that he must solve with the help of his friends the \"Super Wings\": Dizzy, Jerome and Donnie. Together, the team explores different countries and learns the diversity of new cultures.  (Source: Official YouTube channel)",
         "('Adventure', 'Kids', 'Other')",
         "('Adventure', 'Comedy', 'Fantasy', 'Kids', 'Other', 'Sci-Fi', 'Shounen', 'Sports')"
        ],
        [
         "10",
         "A collaboration shorts that aired as part of Yomiuri TV's morning program block.",
         "('Comedy',)",
         "('Comedy', 'Historical', 'Kids', 'Music', 'Parody', 'Slice of Life', 'Sports')"
        ],
        [
         "11",
         "There was once a man who was summoned to another world, and saved it. Of course, he became too popular there, and turned into an isekai-normie. However, that man fell into a \"trap\" and was forcibly returned to his original world. Moreover, he had to start over as a baby!  This is the story of the way-too-fantastic ex-hero who lived as a gloomy high-schooler, as he gets summoned once again to that same other world in a very unexpected development!  (Source: Coolmic, edited)",
         "('Action', 'Adventure', 'Comedy', 'Fantasy', 'Harem', 'Romance')",
         "('Adventure', 'Comedy', 'Drama', 'Fantasy', 'Harem', 'Kids', 'Other', 'Romance', 'Sci-Fi', 'Shoujo')"
        ],
        [
         "12",
         "The 2018 LINE sticker set Poccolies is inspiring a series of anime shorts. The story of the sticker set is that a positive and honest boy named Patsuhiko lives on Pokkori Island, along with the shrewd and mysterious Ham, and a reliable older brother figure named Kangaroo. The sticker set follows their daily lives.  (Source: ANN)",
         "('Kids', 'Slice of Life')",
         "('Adventure', 'Comedy', 'Drama', 'Fantasy', 'Kids', 'Romance', 'Sci-Fi', 'Shounen', 'Slice of Life')"
        ],
        [
         "13",
         "Fourth season of Kamiusagi Rope, events occur after the feature film. Airs on Mezamashi TV instead of the theaters.",
         "('Comedy', 'Slice of Life')",
         "('Adventure', 'Comedy', 'Fantasy', 'Historical', 'Kids', 'Military', 'Other', 'Parody', 'Slice of Life')"
        ],
        [
         "14",
         "Korean Animation about the monsters Eerie, Rock-G, Popo, and Yossi and the adventures they go on each day!",
         "('Adventure',)",
         "('Adventure', 'Comedy', 'Demons', 'Fantasy', 'Horror', 'Kids', 'Other')"
        ],
        [
         "15",
         "TV adaptation of Cocone Corporation's mobile puzzle game app.  Discover the adventures of the cat painter, Vincent van Meowogh who lives in a mansion in Paris surrounded by his quirky friends. Let's give him a spark of inspiration for his painting by completing puzzle stages, buy back the furniture and restore his home to its former glory!  (Source: ANN)",
         "('Kids', 'Other')",
         "('Adventure', 'Comedy', 'Fantasy', 'Kids', 'Music', 'Other')"
        ],
        [
         "16",
         "General of the Three Kingdoms, Kongming had struggled his whole life, facing countless battles that made him into the accomplished strategist he was. So on his deathbed, he wished only to be reborn into a peaceful world... and was sent straight to modern-day party-central, Tokyo! Can even a brilliant strategist like Kongming adapt to the wild beats and even wilder party people?!  (Source: Kodansha US, edited)",
         "('Comedy',)",
         "('Action', 'Adventure', 'Comedy', 'Drama', 'Ecchi', 'Fantasy', 'Romance', 'Seinen', 'Slice of Life')"
        ],
        [
         "17",
         "Kou Yamori seems like a typical middle school student on the surface. Relatively good at studies and amiable with his classmates, he puts a lot of effort into maintaining this facade. One day, however, he decides to stop pretending and quits school, developing insomnia as a result of having no daytime outlet for his energy. When taking walks alone at night, he feels marginally better, though he is aware that his inability to sleep should be considered a serious problem.  On one such walk, Kou meets a weird girl, Nazuna Nanakusa, who diagnoses the cause of his sleeplessness: despite making changes in his life, he is still holding himself back from experiencing true freedom. She says that he won't be able to sleep unless he is satisfied with how he spends his waking hours. When it appears that she has resolved his current worries, Nazuna invites him back to her apartment to share her futon. After a while, unaware that he is only feigning unconsciousness, she leans over him—and bites his neck!  ",
         "('Other', 'Romance', 'Shounen', 'Supernatural')",
         "('Comedy', 'Other', 'Romance', 'School', 'Shoujo', 'Shounen', 'Slice of Life', 'Super Power', 'Supernatural')"
        ],
        [
         "18",
         "Ryou Mizushima enrolls in junior high and joins the badminton club with great vigor. Although the club didn't have a proper coach, Mizushima improved his skills with his own physical strength by the time he participated in the prefectural tournament. Afterwards, he is approached by the Yokohama Minato High School's badminton coach, Ebihara.  Indecisive and timid, Mizushima hesitates to attend such a prestigious school. However, with his elder sister Rika giving him a strong push, he decides to go to Yokohama Minato. Now blessed with a coach and idiosyncratic teammates, Mizushima will gain experience he's lacked till now, and aims to win the inter-high tournament.  (Source: MAL News)",
         "('Sports',)",
         "('Comedy', 'Ecchi', 'School', 'Shounen', 'Slice of Life', 'Sports')"
        ],
        [
         "19",
         "This show consists of shorts starring 7 characters created and voiced by the voice actors of the variety show \"Seiyuu Danshi desu ga...?\". The anime will be a slapstick comedy that follows seven spirits that come to the modern world.  (Source: ANN)",
         "('Comedy', 'Supernatural')",
         "('Comedy', 'Fantasy', 'Kids', 'Parody', 'Slice of Life', 'Supernatural')"
        ],
        [
         "20",
         "Hello Jadoo is a South-Korean TV show about a girl named Choi Jadoo who is a very free-spirited girl. In every episode, she would always get into drama, whether it was with her parents or school. At the same time, she meets new people and she tries to solve problems occurring.",
         "('Slice of Life',)",
         "('Adventure', 'Comedy', 'Drama', 'Harem', 'Music', 'Mystery', 'School', 'Shounen', 'Slice of Life')"
        ],
        [
         "21",
         "The supreme Gods who had too much free time created the ultimate brain games \"Play of the Gods.\" Former Goddess Leche awoke from a long slumber and declared to the world, \"Bring forth the person who is the best in games in this era!\" Fay is nominated to represent humanity as the \"best rookie in recent years.\"  The \"Game of the Gods\" that is about to begin between the two may be a little too difficult, as there has yet to be a victor throughout human history, because Gods are capricious, very unreasonable, and sometimes completely incomprehensible. However, given the nature of the games, it would be a waste not to have a good time and play with all of one's heart! The ultimate brain battles of a genius gamer boy, a former Goddess, and friends begin!  (Source: MAL News)",
         "('Ecchi', 'Fantasy', 'Other')",
         "('Comedy', 'Ecchi', 'Fantasy', 'Historical', 'Other', 'Romance', 'Seinen', 'Shoujo', 'Shounen', 'Supernatural')"
        ],
        [
         "22",
         "Struggling with life and society, high school student Michio Kaga wanders about the Internet and lands on an odd website. The website, featuring a number of questions and a point based system, allows one to create skills and abilities for a character. Upon completing his character, Kaga was transported to a game-like fantasy world and reborn as a strong man who can claim idol-level girls. Thus begins the cheat and harem legend of a reborn man!  (Source: MAL News)",
         "('Action', 'Adventure', 'Fantasy', 'Harem', 'Romance')",
         "('Action', 'Comedy', 'Ecchi', 'Fantasy', 'Harem', 'Parody', 'Romance', 'Shounen', 'Supernatural')"
        ],
        [
         "23",
         "Technoroid: Overmind is set in the Entertainment Tower Babel, a new hope found by those who have lost the joy of light as humanity's activities are restricted due to the large-scale climate change caused by the expanded sun. The anime depicts unique units and characters fighting for the top of Babel, pursuing emotions that move people and androids through performances.  (Source: MAL News)",
         "('Music',)",
         "('Action', 'Adventure', 'Harem', 'Historical', 'Mecha', 'Music', 'Romance', 'School', 'Sci-Fi', 'Slice of Life')"
        ],
        [
         "24",
         "Tsukumogami—spirits or \"marebito\" can possess objects of considerable age and gain a physical form. Although he is part of the Saenome clan that is in charge of peacefully sending them back to their own world, Hyouma Kunato despises them because one took away what was very precious to him. In order to cure him of this loathing, Hyouma's grandfather sends him to live with Botan Nagatsuki, a girl who is the master of six \"friendly\" tsukumogami and lives with them as a family.  (Source: MU, edited)",
         "('Action', 'Seinen', 'Supernatural')",
         "('Action', 'Fantasy', 'Harem', 'Historical', 'Seinen', 'Slice of Life', 'Supernatural')"
        ],
        [
         "25",
         "A young woman aims to become a famous fashion designer.  (Source: AniDB)",
         "('Romance', 'Shoujo')",
         "('Fantasy', 'Hentai', 'Historical', 'Romance', 'Shoujo', 'Slice of Life')"
        ],
        [
         "26",
         "The hero of Tensei shitara Ken deshita differs from your standard otherworldly protagonist in that he is reincarnated as a sword! Beginning his quest by spawning in the middle of a beast-ridden forest, he encounters an injured girl frantically fleeing for her life. Saving her from her assailants, the pair acquaint themselves, and the girl introduces herself as Fran. She bears a heavy past, having endured the enslavement and maltreatment of her tribe, the Black Cats.  As the hero is unable to remember the name from his past life, the young and tenacious Fran bestows him the name \"Shishou\" and becomes his wielder. Thereafter, Shishou and Fran become a formidable team, embarking on quests to liberate the oppressed and exact justice!  ",
         "('Action', 'Fantasy')",
         "('Action', 'Adventure', 'Comedy', 'Drama', 'Fantasy', 'School', 'Shounen')"
        ],
        [
         "27",
         "If a girl teases you, that means she likes you!  Unfortunately, Akiteru knows from experience that isn't the case. Because every girl he interacts with shows him nothing but scorn, and he's not scored a single date from it! Luckily, he's more concerned with securing a spot for him and his game-development buddies at his uncle's business.  But when his uncle throws him a condition that involves playing the part of his daughter's boyfriend, Akiteru has no choice but to take it. What will his best friend's sister Iroha, who bullies him relentlessly, think of the news?  (Source: J-Novel Club)",
         "('Comedy', 'Romance', 'School')",
         "('Comedy', 'Drama', 'Romance', 'School', 'Seinen')"
        ],
        [
         "28",
         "There is a mysterious power of the Holy Spirit hidden in the legendary continent of Labelle, and the way to get power is recorded in the book of flower, guard by numerous flower Fairy Kings,only the legendary magic ambassador is recognized to wake up the power, and use them to defeat evil. For this.The evil force,led by Jakarta,the Queen of Dark had start a war to the continent of Labelle.With the help of the Flower Goddess,Pupula and the tribe of gouring flower fairys, the fate of the continent of Labelle is linked with an Earth girl... Who is the legendary envoy XiaAnAn.  (Source: Magical Girl Wiki)",
         "('Kids',)",
         "('Adventure', 'Fantasy', 'Kids', 'Sci-Fi', 'Shoujo')"
        ],
        [
         "29",
         "Denji has a simple dream—to live a happy and peaceful life, spending time with a girl he likes. This is a far cry from reality, however, as Denji is forced by the yakuza into killing devils in order to pay off his crushing debts. Using his pet devil Pochita as a weapon, he is ready to do anything for a bit of cash.  Unfortunately, he has outlived his usefulness and is murdered by a devil in contract with the yakuza. However, in an unexpected turn of events, Pochita merges with Denji's dead body and grants him the powers of a chainsaw devil. Now able to transform parts of his body into chainsaws, a revived Denji uses his new abilities to quickly and brutally dispatch his enemies. Catching the eye of the official devil hunters who arrive at the scene, he is offered work at the Public Safety Bureau as one of them. Now with the means to face even the toughest of enemies, Denji will stop at nothing to achieve his simple teenage dreams.  ",
         "('Action', 'Adventure', 'Demons', 'Shounen')",
         "('Action', 'Adventure', 'Demons', 'Ecchi', 'Fantasy', 'Mystery', 'Romance', 'Seinen', 'Shounen', 'Supernatural')"
        ],
        [
         "30",
         "6.5-centimeter tall Degirdians fall to Earth in their spacecraft while chasing fugitives. Their spaceship transforms into a capsule toy stand near a toy store and a human boy accidentally takes home one of the aliens thinking it's a capsule toy. They befriend a human boy and try to figure out a way to get home all while fighting off the evil alien.",
         "('Kids', 'Sci-Fi')",
         "('Action', 'Kids', 'Other', 'Sci-Fi', 'Shounen')"
        ],
        [
         "31",
         "revolves around mischievous creatures called Teenieping that like to enter people's minds, but their playful nature and magical powers can wreak havoc in their hosts' lives. When the Teenieping are set loose on Earth, Princess Romi of the Emotion Kingdom becomes an ordinary girl that has to turn into a magical girl to stop them, all while balancing her new civilian life as a worker for the Bakery Heartrose with her coworkers Ian, Kyle, and Jun.  (Source: Wikipedia)",
         "('Fantasy', 'Kids', 'School')",
         "('Adventure', 'Comedy', 'Fantasy', 'Harem', 'Kids', 'Mecha', 'School', 'Sci-Fi', 'Shoujo')"
        ],
        [
         "32",
         "A more educational season of GG Bond. This season is composed of 2 arcs, each arc has 52 episodes.  GG Bond works on cleaning up some fossils at the lab as they'll be used in a museum exhibit. He uses a fossil to create a data coin that is compatible with his special jet. This allows for him to travel back in time to the original animal (a T-Rex) the fossil was made of. While GG Bond is ecstatic to learn about dinosaurs in-person (as well as mine more accurate data for the data coin), he didn't quite realize the danger he'd be in. He successfully gets out of this sticky situation but there's still a lot more dinosaurs he needs to get information on.",
         "('Historical', 'Kids', 'Sci-Fi', 'Super Power')",
         "('Adventure', 'Comedy', 'Historical', 'Kids', 'Sci-Fi', 'Seinen', 'Super Power', 'Supernatural')"
        ],
        [
         "33",
         "Hitori Gotou is a high school girl who's starting to learn to play the guitar because she dreams of being in a band, but she's so shy that she hasn't made a single friend. However, her dream might come true after she meets Nijika Ijichi, a girl who plays drums and is looking for a new guitarist for her band.  (Source: MU, edited)",
         "('Comedy', 'Music', 'Slice of Life')",
         "('Comedy', 'Fantasy', 'Music', 'School', 'Seinen', 'Shoujo', 'Shounen', 'Slice of Life')"
        ],
        [
         "34",
         "TV anime based on San-X's new series of mascot characters \"Chickip Dancers.\" The main characters in the anime will be the apprehensive but curious bone-in chicken Hone Chicken, and the dancing instructor frog Skip Gaeru, who travels by dancing.  (Source: ANN)",
         "('Slice of Life',)",
         "('Adventure', 'Comedy', 'Fantasy', 'Kids', 'Parody', 'Shoujo', 'Slice of Life')"
        ],
        [
         "35",
         "Stop-motion animation using clay and puppets follows a musician and hit cat traveling the world and learning about music in different cultures while spreading their own songs.",
         "('Kids', 'Music')",
         "('Fantasy', 'Kids', 'Music', 'Other', 'School', 'Slice of Life')"
        ],
        [
         "36",
         "A Chinese prince meets a regular civilian during his travels and quickly falls in love. They marry and have a daughter, but the prince is soon separated from them during a rebellion. Many years later, the prince has become emperor and locates his lost daughter. She comes to live with him, but unfortunately has picked up several unrefined habits during her times as a civilian.",
         "('Comedy', 'Historical', 'Kids')",
         "('Action', 'Adventure', 'Comedy', 'Drama', 'Fantasy', 'Historical', 'Kids', 'Other', 'Romance', 'Shoujo')"
        ],
        [
         "37",
         "is an animation series with some educational undertones targeting 5~7-year-old kids. The entire series is set against the backdrop of a supermarket. Viewing the animations, children will be able to imagine themselves in amidst all a supermarket has to offer. Children can join Kemy and his quest to figure out the answers to everyday questions. Buka and Chaka do not reprise their roles in this season.  (Source: korean-products.com)  ",
         "('Kids',)",
         "('Adventure', 'Demons', 'Fantasy', 'Historical', 'Kids', 'Music', 'Other')"
        ],
        [
         "38",
         "Centers on a penguin who works in an abusive company and gripes about the difficulties of workplace life. The title is a play on the \"koutei penguin,\" the Japanese name for the emperor penguin.  (Source: ANN)",
         "('Other',)",
         "('Comedy', 'Drama', 'Historical', 'Other', 'Romance', 'Shounen', 'Slice of Life')"
        ],
        [
         "39",
         "No synopsis has been added for this series yet.   to update this information.",
         "('Comedy', 'Fantasy')",
         "('Action', 'Adventure', 'Comedy', 'Drama', 'Fantasy', 'Historical', 'Kids', 'Mecha', 'Military', 'Other', 'Sci-Fi', 'Seinen', 'Shoujo', 'Slice of Life', 'Sports')"
        ],
        [
         "40",
         "In \"a certain era\" on \"a certain continent,\" banal things are happening. The construction of \"Large-Scale Leisure Facilities\" has demanded that all the villages are to be evicted. When these demands are denied, the village and its residents are obliterated. A boy named Chap once lived in tranquility, but that happiness soon came crumbling down. He decides to embark on a journey of revenge, but soon falls madly in love with the king's daughter, Princess Melora. In order to fulfill her selfish wishes, he gathers his friends in order to overcome the impossible.",
         "('Adventure', 'Comedy', 'Fantasy', 'Kids')",
         "('Adventure', 'Comedy', 'Fantasy', 'Historical', 'Kids', 'Supernatural')"
        ],
        [
         "41",
         "The story centers around a cat who answers people's wishes and delivers happiness. (\"Tane\" and \"neko\" are the Japanese words for \"seed\" and \"cat,\" respectively.)  (Source: ANN)",
         "('Comedy',)",
         "('Comedy', 'Drama', 'Fantasy', 'Kids', 'Music', 'Shounen', 'Slice of Life')"
        ],
        [
         "42",
         "The series follows a young girl named Shina who hopes to become the world's best DJ, and is interested in new sounds. Shina explores a mysterious world filled with Otoppe, strange creatures capable of unique sounds.",
         "('Fantasy', 'Kids', 'Music')",
         "('Action', 'Adventure', 'Comedy', 'Fantasy', 'Kids', 'Music', 'Other', 'School', 'Sci-Fi', 'Slice of Life')"
        ],
        [
         "43",
         "The second season of the franchise. It aired within the \"Fight Tension☆School\" variety program.",
         "('Comedy', 'Mecha')",
         "('Comedy', 'Kids', 'Mecha', 'Music', 'Mystery', 'Parody', 'Shoujo', 'Slice of Life', 'Sports', 'Supernatural')"
        ],
        [
         "44",
         "Shorts that aired within \"Fight Tension☆Depart,\" a variety program that originally aired the anime as one of its segments. Celeb-chan is a narcissistic school girl who believes that she is a celebrity because her family is incredibly wealthy. She tries to do typical rich people things such as starting her own heavy makeup line, becoming a singer, saving an endangered species, buying a teacup poodle, etc. The results are never how she expects it.",
         "('Comedy', 'Parody')",
         "('Comedy', 'Ecchi', 'Kids', 'Parody', 'School', 'Shoujo', 'Slice of Life')"
        ],
        [
         "45",
         "How did Asia's most prominent entrepreneurs know when to grasp opportunities? And how did they overcome difficulties and attain their positions of power? This series uses the unconventional technique of blending actual documentary footage with CG animation to get a close-up look into the front lines and what lies behind the scenes of Asian business.  Our cartoon host is Shima Kosaku, a character from a popular Japanese business manga. He delves into the heart of the Asian economic market representing 4 billion people, to visit entrepreneurs who have survived turbulent times. Thai business magnate, Dhanin Chearavanont (Chairman of CP Group), and innovative Taiwanese semiconductor entrepreneur, Morris Chang (Chairman of TSMC), are among the many movers and shakers to be featured. Don't miss this opportunity to glimpse the dramatic lives of these media-shy business titans.  (Source: Official Site)",
         "('Drama', 'Seinen')",
         "('Drama', 'Historical', 'Kids', 'Other', 'Seinen', 'Supernatural')"
        ],
        [
         "46",
         "The story centers on Matthew, a daydreaming worrywart of a rabbit. Matthew also has two friends: Keron, a pessimistic frog who is fond of good-luck charms; and Ham, a hamster of few words and who moves through life at his own pace. The story follows the three animals' everyday lives within a mysterious forest.  (Source: ANN)",
         "('Slice of Life',)",
         "('Comedy', 'Kids', 'Seinen', 'Slice of Life')"
        ],
        [
         "47",
         "Excellent student Iwakura Mitsumi has always dreamt about leaving her small town, going to a prestigious university, and making positive change in the world. But she's so focused on reaching her goals that she's not prepared for the very different (and overwhelming) city life that awaits her in a Tokyo high school. Luckily, she makes fast friends with Shima Sousuke, a handsome classmate who's as laid-back as she is over-prepared. Can this naive country girl make it big in Tokyo with Sousuke by her side?  (Source: Seven Seas Entertainment)",
         "('School', 'Seinen', 'Slice of Life')",
         "('Drama', 'Fantasy', 'Music', 'Romance', 'School', 'Seinen', 'Slice of Life')"
        ],
        [
         "48",
         "The story will follow four girls who seek to use their songs to heal and soothe the people of their world. The tagline reads, \"Kindhearted, powerful songs heal the world. These are beautiful miracles sung by humanity.\"  (Source: MAL Source)",
         "('Music',)",
         "('Adventure', 'Ecchi', 'Fantasy', 'Historical', 'Music', 'School')"
        ],
        [
         "49",
         "It follows the fan favorite character Vandyne as his hidden secrets are revealed. Unlike the reboot, which exclusively uses 3DCG visuals, this series is like the earlier entries and is animated with 2D and 3D visuals.  The mini-series is part of a new promotional campaign from Sono Kong. The Korean toy manufacturer will launch four new mechanimals this month at retail.  (Source: toonbarn.com)",
         "('Adventure', 'Kids', 'Mecha', 'Other')",
         "('Action', 'Adventure', 'Comedy', 'Kids', 'Mecha', 'Music', 'Other', 'Romance', 'School')"
        ]
       ],
       "shape": {
        "columns": 3,
        "rows": 9194
       }
      },
      "text/html": [
       "<div>\n",
       "<style scoped>\n",
       "    .dataframe tbody tr th:only-of-type {\n",
       "        vertical-align: middle;\n",
       "    }\n",
       "\n",
       "    .dataframe tbody tr th {\n",
       "        vertical-align: top;\n",
       "    }\n",
       "\n",
       "    .dataframe thead th {\n",
       "        text-align: right;\n",
       "    }\n",
       "</style>\n",
       "<table border=\"1\" class=\"dataframe\">\n",
       "  <thead>\n",
       "    <tr style=\"text-align: right;\">\n",
       "      <th></th>\n",
       "      <th>Synopsis</th>\n",
       "      <th>Actual Genres</th>\n",
       "      <th>Predicted Genres</th>\n",
       "    </tr>\n",
       "  </thead>\n",
       "  <tbody>\n",
       "    <tr>\n",
       "      <th>0</th>\n",
       "      <td>Sometime in the future, the world was complete...</td>\n",
       "      <td>(Action, Adventure)</td>\n",
       "      <td>(Adventure, Comedy, Fantasy, Kids, Other, Sci-...</td>\n",
       "    </tr>\n",
       "    <tr>\n",
       "      <th>1</th>\n",
       "      <td>Set in 2014, the anime follows the adventures ...</td>\n",
       "      <td>(Comedy,)</td>\n",
       "      <td>(Comedy, Fantasy, Slice of Life)</td>\n",
       "    </tr>\n",
       "    <tr>\n",
       "      <th>2</th>\n",
       "      <td>Follows a pig whose family's mission is to col...</td>\n",
       "      <td>(Comedy, Kids)</td>\n",
       "      <td>(Action, Comedy, Ecchi, Fantasy, Kids, Music, ...</td>\n",
       "    </tr>\n",
       "    <tr>\n",
       "      <th>3</th>\n",
       "      <td>In honor of the 2018 World Cup, this season of...</td>\n",
       "      <td>(Kids, Sci-Fi, Sports, Super Power)</td>\n",
       "      <td>(Action, Drama, Kids, Music, Sci-Fi, Seinen, S...</td>\n",
       "    </tr>\n",
       "    <tr>\n",
       "      <th>4</th>\n",
       "      <td>Fairies living in a fluffy forest, where both ...</td>\n",
       "      <td>(Fantasy, Kids)</td>\n",
       "      <td>(Adventure, Comedy, Fantasy, Kids, Shoujo, Sli...</td>\n",
       "    </tr>\n",
       "    <tr>\n",
       "      <th>...</th>\n",
       "      <td>...</td>\n",
       "      <td>...</td>\n",
       "      <td>...</td>\n",
       "    </tr>\n",
       "    <tr>\n",
       "      <th>9189</th>\n",
       "      <td>The Konohagakure Grand Sports Festival has beg...</td>\n",
       "      <td>(Action, Comedy, Fantasy, Other, Shounen, Sports)</td>\n",
       "      <td>(Action, Comedy, Drama, Fantasy, Harem, Other,...</td>\n",
       "    </tr>\n",
       "    <tr>\n",
       "      <th>9190</th>\n",
       "      <td>Special bundled with the Blu-ray/DVD volume of .</td>\n",
       "      <td>(Ecchi,)</td>\n",
       "      <td>(Action, Comedy, Demons, Ecchi, Fantasy, Harem...</td>\n",
       "    </tr>\n",
       "    <tr>\n",
       "      <th>9191</th>\n",
       "      <td>According to the official Hobby Japan website,...</td>\n",
       "      <td>(Comedy, Ecchi, Fantasy, Parody)</td>\n",
       "      <td>(Action, Comedy, Demons, Ecchi, Fantasy, Histo...</td>\n",
       "    </tr>\n",
       "    <tr>\n",
       "      <th>9192</th>\n",
       "      <td>A series of comedic shorts featuring chibi ver...</td>\n",
       "      <td>(Adventure, Comedy, Fantasy, Parody)</td>\n",
       "      <td>(Action, Adventure, Comedy, Fantasy, Harem, Ki...</td>\n",
       "    </tr>\n",
       "    <tr>\n",
       "      <th>9193</th>\n",
       "      <td>These shorts, included in the Blu-ray and DVD ...</td>\n",
       "      <td>(Comedy, Seinen, Slice of Life)</td>\n",
       "      <td>(Comedy, Military, Parody, Shounen, Slice of L...</td>\n",
       "    </tr>\n",
       "  </tbody>\n",
       "</table>\n",
       "<p>9194 rows × 3 columns</p>\n",
       "</div>"
      ],
      "text/plain": [
       "                                               Synopsis  \\\n",
       "0     Sometime in the future, the world was complete...   \n",
       "1     Set in 2014, the anime follows the adventures ...   \n",
       "2     Follows a pig whose family's mission is to col...   \n",
       "3     In honor of the 2018 World Cup, this season of...   \n",
       "4     Fairies living in a fluffy forest, where both ...   \n",
       "...                                                 ...   \n",
       "9189  The Konohagakure Grand Sports Festival has beg...   \n",
       "9190   Special bundled with the Blu-ray/DVD volume of .   \n",
       "9191  According to the official Hobby Japan website,...   \n",
       "9192  A series of comedic shorts featuring chibi ver...   \n",
       "9193  These shorts, included in the Blu-ray and DVD ...   \n",
       "\n",
       "                                          Actual Genres  \\\n",
       "0                                   (Action, Adventure)   \n",
       "1                                             (Comedy,)   \n",
       "2                                        (Comedy, Kids)   \n",
       "3                   (Kids, Sci-Fi, Sports, Super Power)   \n",
       "4                                       (Fantasy, Kids)   \n",
       "...                                                 ...   \n",
       "9189  (Action, Comedy, Fantasy, Other, Shounen, Sports)   \n",
       "9190                                           (Ecchi,)   \n",
       "9191                   (Comedy, Ecchi, Fantasy, Parody)   \n",
       "9192               (Adventure, Comedy, Fantasy, Parody)   \n",
       "9193                    (Comedy, Seinen, Slice of Life)   \n",
       "\n",
       "                                       Predicted Genres  \n",
       "0     (Adventure, Comedy, Fantasy, Kids, Other, Sci-...  \n",
       "1                      (Comedy, Fantasy, Slice of Life)  \n",
       "2     (Action, Comedy, Ecchi, Fantasy, Kids, Music, ...  \n",
       "3     (Action, Drama, Kids, Music, Sci-Fi, Seinen, S...  \n",
       "4     (Adventure, Comedy, Fantasy, Kids, Shoujo, Sli...  \n",
       "...                                                 ...  \n",
       "9189  (Action, Comedy, Drama, Fantasy, Harem, Other,...  \n",
       "9190  (Action, Comedy, Demons, Ecchi, Fantasy, Harem...  \n",
       "9191  (Action, Comedy, Demons, Ecchi, Fantasy, Histo...  \n",
       "9192  (Action, Adventure, Comedy, Fantasy, Harem, Ki...  \n",
       "9193  (Comedy, Military, Parody, Shounen, Slice of L...  \n",
       "\n",
       "[9194 rows x 3 columns]"
      ]
     },
     "metadata": {},
     "output_type": "display_data"
    },
    {
     "data": {
      "application/vnd.microsoft.datawrangler.viewer.v0+json": {
       "columns": [
        {
         "name": "index",
         "rawType": "int64",
         "type": "integer"
        },
        {
         "name": "Synopsis",
         "rawType": "object",
         "type": "string"
        },
        {
         "name": "Actual Genres",
         "rawType": "object",
         "type": "unknown"
        },
        {
         "name": "Predicted Genres",
         "rawType": "object",
         "type": "unknown"
        }
       ],
       "conversionMethod": "pd.DataFrame",
       "ref": "b55710b5-0eeb-4260-b676-72c69c8face8",
       "rows": [
        [
         "0",
         "Shuramaru is hated and feared by the villagers for his unusual powers. He thinks he is human, but... is he?  (Source: AniDB)",
         "('Supernatural',)",
         "('Action', 'Adventure', 'Comedy', 'Demons', 'Drama', 'Ecchi', 'Fantasy', 'Hentai', 'Kids', 'Other', 'Parody', 'Sci-Fi', 'Shoujo')"
        ],
        [
         "1",
         "The daily life of the Motsumoto family. The three sisters, Fuu, Suu, and Chii, follow what happens on a daily basis. Mother and Father have to deal with them sometimes, but they're used to it.",
         "('Comedy', 'Slice of Life')",
         "('Comedy', 'Mystery', 'Parody', 'Sci-Fi', 'Seinen', 'Slice of Life', 'Super Power')"
        ],
        [
         "2",
         "The Soul Tree, the great source of our race.  But for its ultimate power and by those whose minds were blinded by it, it also became the catastrophic cause that had brought never-ending wars between the tribes. Tortured by the agonies of the wars, the leaders of the tribes finally came to a peace agreement that they would instead open a competition. Players, equipped with special watches and shields, compete against each other as winner’s tribe would be awarded with Materion, the sacred fruit of the Soul Tree.  These brave players, who throw themselves in this fierce fight, we call them the Runningman.  (Source: Official YouTube Channel)",
         "('Action', 'Adventure', 'Kids')",
         "('Fantasy', 'Other')"
        ],
        [
         "3",
         "Himeno Mimika is a daughter of historical cook family. She goes to a cooking school, Miracle Academy which train cooks all over the world. Vying with rivals, she brings out her gift, and she grows up as a cook.  (Source: AnimeNfo)",
         "('Kids', 'Other', 'Slice of Life')",
         "('Comedy', 'Ecchi', 'Fantasy', 'Hentai', 'Kids', 'Mystery', 'Other', 'Shounen')"
        ],
        [
         "4",
         "The third generation of J SOUL BROTHERS from EXILE TRIBE is reimagined as 7 unique and diverse characters in \"KICK & SLIDE\". This is a slapstick story where the characters solve difficult cases!? and rare cases!? that occur in the colorful and pop vibrant city \"Nakame Town\" with dance and music.  (Source: Official website)",
         "('Kids', 'Music')",
         "('Comedy', 'Fantasy', 'Music', 'Other', 'School')"
        ],
        [
         "5",
         "A prequel TV series setting up for the feature film.  G.G. Bond's father while exploring ruins gets sucked into a dimension of evil through the Dark Gate. He is bestowed power and knowledge and becomes corrupted as the King of Darkness. Ancient monsters are sent through the cracks of the gate to attack G.G. Bond and his team as the 5 elemental powers are stronger than the King of Darkness. By weakening the team, only then can the King of Darkness forcibly open the gate to unless a reign of terror on the Fairy Tale world.",
         "('Kids', 'Sci-Fi', 'Super Power')",
         "('Adventure', 'Fantasy', 'Historical', 'Horror', 'Kids', 'Shoujo', 'Shounen', 'Super Power', 'Supernatural')"
        ],
        [
         "6",
         "The offensive and defensive battles between Nobuo, an office worker, and Chi-Sui Maru, a mosquito.",
         "('Comedy',)",
         "('Action', 'Adventure', 'Comedy', 'Hentai', 'Historical', 'Other', 'Shounen', 'Slice of Life', 'Super Power')"
        ],
        [
         "7",
         "This Korean and Chinese co-production series focuses on Tao, a young boy with magical powers, as he attends school to become a wizard. Each episode was composed of two stories.  (Source: Wiki)",
         "('Kids',)",
         "('Action', 'Adventure', 'Demons', 'Fantasy', 'Historical', 'Kids', 'Parody', 'School', 'Supernatural')"
        ],
        [
         "8",
         "Matsuri Kazamaki and Suzu Kanade are childhood friends, bonded by their shared ability to see ayakashi—youkai in search of a life force to devour. However, in high school, their relationship deteriorates. As Suzu's one-sided feelings are growing, so is the difference in their ayakashi views: Matsuri considers all ayakashi a threat to his friend, while Suzu is an ayakashi medium—someone who exudes a significant amount of life force compared to the average human—and loves them all despite the risk.  When the two stumble upon a talking white cat named Shirogane, they are unaware that it is a four-hundred-year-old ayakashi known as the \"King of Ayakashi.\" He is hell-bent on gaining even more power by devouring Suzu, but as Matsuri swoops in to try and save her by sealing Shirogane's powers, the ayakashi uses a jutsu to turn him into a girl instead!  Matsuri vows to protect Suzu from further harm as her best friend, but he must learn how to act like a girl until his grandfather—a famous wind jutsu exorcist ninja—can undo the jutsu. Meanwhile, Suzu must work out her romantic feelings for Matsuri now that he is no longer a boy. But when Matsuri takes the king as his pet, the future of the two friends seems uncertain.  ",
         "('Action', 'Comedy', 'Ecchi', 'Romance', 'Shounen')",
         "('Comedy', 'Drama', 'Fantasy', 'Romance', 'School', 'Shounen')"
        ],
        [
         "9",
         "The 3rd continuation of NTV's ZIP! anime parody shorts. This one focuses on . Like with the previous season, occasionally the Gatchaman team and now the Mazinger Z team show up in some episodes.",
         "('Comedy', 'Parody')",
         "('Action', 'Comedy', 'Kids', 'Mecha', 'Parody', 'School', 'Seinen', 'Shounen', 'Slice of Life', 'Sports', 'Super Power')"
        ],
        [
         "10",
         "Say hi to Tayo's new friend - Titipo! Train Center's new born little train Titipo has just passed the driving examination and is prepared to work at the Train Village. Although Titipo dreams of becoming the best train in the world, his curious yet random personality catches him in unforeseen events and troubles everyday. Titipo expands his experience in the greater world and befriends Genie, Diesel, and other little trains. Will Titipo achieve his dream of becoming the best train? Come join the railroad journey and meet Titipo and the little train friends.  (Source: Official YouTube channel)",
         "('Kids', 'Other')",
         "('Fantasy', 'Kids', 'Slice of Life', 'Super Power')"
        ],
        [
         "11",
         "At Ruby's house, a small event related to the main plot of each episode occurs, before a red jewellery on the chest of Choco, Ruby's Teddy bear, flashes with a melody. Ruby then takes Choco to her room, and the two 'transport' themselves to the Rainbow Village. There, Ruby hears an explanation from Ling Ling, the mayor of Rainbow Village, and transforms herself using her Rainbow Roller into an appropriate clothing to solve problems. Each episode concludes, back home, with another small event.  (Source: AniDB) ",
         "('Fantasy', 'Kids')",
         "('Comedy', 'Demons', 'Fantasy', 'Hentai', 'Historical', 'Mystery', 'Other', 'Sci-Fi', 'Super Power', 'Supernatural')"
        ],
        [
         "12",
         "The series follows Officer Black Cat's adventures around the forest neighbourhood, apprehending criminals, dealing justice, and solving crimes.",
         "('Action', 'Adventure', 'Comedy', 'Kids', 'Other')",
         "('Action', 'Adventure', 'Comedy', 'Demons', 'Kids', 'Other', 'Sci-Fi', 'Super Power')"
        ],
        [
         "13",
         "The anime is set on the titular Musical Note Island, where the god of music is said to reside. The island is home to \"instrument animals,\" who are born from music energy, and have parts of their body composed of a musical instrument. One day, a witch arrives at the island. The warrior girl Cara must go on a journey to defeat the witch and win back the peace on the island.  (Source: ANN)",
         "('Adventure', 'Fantasy', 'Kids')",
         "('Adventure', 'Comedy', 'Fantasy', 'Kids', 'Music', 'Shounen')"
        ],
        [
         "14",
         "While it may seem like a mere depiction of everyday life, The Sound of Your Heart is a comedy filled to the brim with wit, sarcasm, and parody. It gives no regard for the probable or realistic- it is a series of absurd situations that is sure to get a laugh out of every reader willing to suspend their sense of reality.  (Source: LINE Webtoon)",
         "('Comedy', 'Slice of Life')",
         "('Comedy', 'Ecchi', 'School', 'Seinen', 'Slice of Life', 'Super Power')"
        ],
        [
         "15",
         "The anime will follow two units from the Vazzrock series—Vazzy and Rock Down.",
         "('Music',)",
         "('Action', 'Comedy', 'Historical', 'Horror', 'Kids', 'Mecha', 'Military', 'Music', 'Other', 'Sci-Fi')"
        ],
        [
         "16",
         "The anime's story centers on a cat named Maru, adopted by a girl named Anna from a shelter in Matsuyama city. Loved and well fed by the family, Maru gets rounder and fatter every day, spending most of his day sitting by the window and looking at the garden outside. When the family gets a new cat named Cerisier and begins doting on it, Maru gets jealous. In a fight with Cerisier, Maru is hurt by the family's words to him, and follows the advice of another cat to leave and see the world.  (Source: ANN)",
         "('Slice of Life',)",
         "('Action', 'Adventure', 'Comedy', 'Drama', 'Ecchi', 'Fantasy', 'Kids', 'Romance', 'Seinen', 'Slice of Life')"
        ],
        [
         "17",
         "The story centers on the Seven Gods of Fortune in Japanese mythology as they reside on Awaji Island in Hyogo. In the shorts' story, the Seven Gods of Fortune slack in their duties in heaven, and Susanoo-no-Mikoto banishes them to Awaji Island. In order to return to the heavenly realm, they must help bring happiness to humans and rebuild their virtue. The outcast gods reluctantly grant human wishes and accumulate points in their \"god phones\" to be able to return to heaven. They aim to perform good deeds on particularly auspicious days to maximize point accumulation. Despite their best efforts at accumulating virtue, sometimes the Seven Gods of Fortune end up bringing misfortune to humans. When they fail, they lose points, further prolonging their stay on Awaji Island.  (Source: ANN)",
         "('Comedy', 'Kids', 'Supernatural')",
         "('Action', 'Adventure', 'Ecchi', 'Fantasy', 'Romance', 'Shoujo', 'Slice of Life', 'Supernatural')"
        ],
        [
         "18",
         "is a spin-off-series of Mecard, based on the idea that dinosaurs didn't become extinct 65 million years ago, but transformed into mecanimals. Its characters don't have any relations to the cast from , and .  (Source: Gonglyong Mecard Wikia)",
         "('Adventure', 'Kids', 'Mecha', 'Other')",
         "('Comedy', 'Kids', 'Other', 'School')"
        ],
        [
         "19",
         "Yuuichi Katagiri has battled financial hardships his whole life but has learned to stay content and positive thanks to his close circle of friends. To keep a promise he made to them, Yuuichi saves up enough money to join them on the school trip. But when the gathered money mysteriously goes missing, suspicion falls on two of Yuuichi's friends: Shiho Sawaragi and Makoto Shibe, who were in charge of collecting the payments. Although innocent, Shiho and Makoto take responsibility for the failure to protect the money when no one else comes forward.  A few days later, Yuuichi and his friends receive mysterious letters which trick each of them into meeting up. Upon arrival, they are ambushed and knocked unconscious. They wake up in a mysterious room in the presence of \"Manabu-kun,\" a character from a controversial children's show that stopped airing due to its malicious content. He informs the group that one of them indirectly gathered them together in order to settle a large debt. They are to play a \"friendship game\": a series of games that will test the strength of their bond and trust in each other. As the group's faith wavers due to the growing number of secrets and betrayals, Yuuichi must figure out who of his \"friends\" he can actually trust and ultimately discover the identity of the traitor.  ",
         "('Other', 'Shounen')",
         "('Adventure', 'Comedy', 'Drama', 'Fantasy', 'Other', 'Romance', 'School', 'Sci-Fi', 'Shounen', 'Supernatural')"
        ],
        [
         "20",
         "Shorts about root vegetables from the refrigerator who try to act like superheroes.",
         "('Comedy',)",
         "('Comedy', 'Ecchi', 'Hentai', 'Historical', 'Kids', 'Mecha', 'Music', 'Other', 'Seinen', 'Slice of Life', 'Sports', 'Supernatural')"
        ],
        [
         "21",
         "The Geisha Tokyo Entertainment company has announced on Wednesday it is producing and airing Sakuran Boy DT, \"Japan's first\" Flash-animated television series about a local costumed hero character. The name of the character is a wordplay on the Japanese translation for \"cherry boy\" — the Japanese slang for a male virgin — and the Sakuranbo television station in the northeastern Japanese city of Yamagata. The story revolves around Satou-kun, an ordinary high school boy who transforms into Sakuran Boy DT to rescue the mayor's daughter from the nefarious secret society Zaou. Sakuranbo has posted a trailer online, and the 11 five-minute weekly episodes will premiere on this station on January 14.",
         "('Comedy', 'Super Power')",
         "('Comedy', 'Drama', 'Parody', 'Romance', 'Slice of Life')"
        ],
        [
         "22",
         "On a whim, first-year Ayumu Tanaka quits the Kendo Club to join the illegitimate Shogi Club. Urushi Yaotome, the president of the club and a master of shogi, is thrilled to finally have a playing partner. As Ayumu's upperclassman, Urushi endeavors to be his shogi mentor and student role model. Too often, however, she finds herself blushing with embarrassment! Stone-faced and honest, Ayumu sees no issue with calling Urushi \"cute.\" Although Ayumu likes her, he refrains from confessing and promises himself to first beat her in a game of shogi.  Through school life and shogi games, the two students have many hilarious and heart-warming adventures. Ayumu enjoys every second with Urushi, but he is still a long way from beating her in shogi. With the commitment he made to himself, will Ayumu ever get the chance to confess his feelings to Urushi?  ",
         "('Comedy', 'Romance', 'School', 'Shounen', 'Slice of Life')",
         "('Comedy', 'Ecchi', 'Mystery', 'Other', 'Romance', 'School', 'Shounen')"
        ],
        [
         "23",
         "On a distant southern island, a fish (sakana) opened its mouth for a cat (neko), thus \"nekozakana\" (cat-fish) is born.  (Source: ANN)",
         "('Comedy', 'Kids')",
         "('Adventure', 'Comedy', 'Drama', 'Fantasy', 'Music', 'Sci-Fi', 'Slice of Life', 'Super Power', 'Supernatural')"
        ],
        [
         "24",
         "On February 29, 2000, the Möbius meteorites fell on Earth. These meteorites brought a new form of matter known as Möbius Dust to Earth. The dust permeated Earth's atmosphere, leading to a miracle. The day the meteorites fell, nicknamed \"2.29,\" accelerated the economic disparity in Japan.  Before long, the Bloody War Alliance, discontent with this disparity, began committing acts of terrorism. Amidst all this, the police established the anti-RC special mobile unit and a joint anti-RC training school for the initial training of the unit members.  (Source: ANN)",
         "('Action', 'Kids', 'Other')",
         "('Action', 'Comedy', 'Drama', 'Mecha', 'Military', 'Mystery', 'Other', 'Sci-Fi')"
        ],
        [
         "25",
         "Cute yet mighty! Mini animal rangers transform into super power Force-Bot to save endangered friends! In the ruthless world of animals, big strong animals dominate and feed on the small and weak. To buck this natural system, small animals form a secret organization \"MINIFORCE.\" Rigidly selected mutants with special powers: Volt, Sammy, Lucy and Max become top secret rangers to save their small village Bluebell from the hand of human villain Nein and his underling lizard Pascal. Animals in danger? No problem! When Force-Gem alerts, it's time to get suit on! With Mini Force and their transforming mechanics, it’s time to sweep! (Source: Samg Animation)",
         "('Action', 'Adventure')",
         "('Adventure', 'Comedy', 'Kids', 'Shoujo', 'Supernatural')"
        ],
        [
         "26",
         "Coburoux is a prince of Curry Kingdom. Although he is a prince, he goes to the school for common people, and he is treated like other students. In fact, he is scolded by the teacher, is made to stand during class as a punishment, go some errands for a chef, and is teased by a girl whom he loves. He is always worried, and wonders whether the prince should be better. Being surrounded by weird friends and strange people in Curry Kingdom, he spends worrying days.  (Source: AnimeNfo)",
         "('Comedy',)",
         "('Adventure', 'Comedy', 'Parody', 'School', 'Slice of Life')"
        ],
        [
         "27",
         "A short anime about Taeko Shinbou who is an office worker that is patient with everything and greets everything that comes her way with cheer. An announcement was made that a \"regular person\" from Kantou will voice Taeko rather than an industry professional.  (Source: ANN)",
         "('Slice of Life',)",
         "('Action', 'Comedy', 'Romance', 'Shounen', 'Slice of Life', 'Super Power')"
        ],
        [
         "28",
         "No synopsis information has been added to this title. Help improve our database by adding a synopsis .",
         "('Demons', 'Horror', 'Parody')",
         "('Adventure', 'Comedy', 'Drama', 'Ecchi', 'Fantasy', 'Historical', 'Kids', 'Mecha', 'Other', 'Slice of Life', 'Sports')"
        ],
        [
         "29",
         "Urobe was a son of the great chief of Pyrimi, Africa. One day he hung on an airplane and came to Japan. Because of the cold and hunger, he fell on to the yard of Shishio’s house, and Shishio nursed him. Kurobe was very thankful for him and began to repay for his kindness. Kurobe dug a big hole in the yard.Every time he returns the favor, he threw a stone into the hole until stones would fill the hole.  (Source: ANN)",
         "('Comedy',)",
         "('Adventure', 'Comedy', 'Historical', 'Other', 'Shounen')"
        ],
        [
         "30",
         "These are witches who defend everyone's smiles and fight enemies through the healing power of music. These witches, opposite of those in the defense fleet, are idols known as the Music Squadron.  (Source: MAL News)",
         "('Ecchi', 'Military', 'Music', 'Sci-Fi')",
         "('Action', 'Fantasy', 'Music', 'Seinen', 'Shoujo')"
        ],
        [
         "31",
         "It is the time of civil war. Zipangu is a country where people live together with gimmick warriors, a kind of super human robot. There, people and gimmick warriors struggle to seize power. Musashi, a Samurai gimmick warrior, departs to on a quest to become the best Samurai warrior. Musashi thrives in the series of battles, encountering with many heroes and villains including his lifelong rival, Kojiro, an expert swordsman.Later, Mushashi and Kojiro are sent by their General to escort the Princess, a granddaughter of the general. The princess is spoiled and difficult, so their journey becomes series of misadventures. Soon, they are caught up in a battle to seize control of the Country.",
         "('Action', 'Adventure', 'Mecha')",
         "('Action', 'Adventure', 'Comedy', 'Fantasy', 'Historical', 'Mecha', 'Other', 'Parody', 'Shounen')"
        ],
        [
         "32",
         "A stop-motion anime using beaded characters. Here a magician rabbits solve problems by using magic.",
         "('Kids',)",
         "('Comedy', 'Demons', 'Fantasy', 'Historical', 'Kids', 'School')"
        ],
        [
         "33",
         "Jim Button and his best friend Luke live on an island. When Luke has to leave the island Jim decides to go with him. when they leave they don't have a clue about the hidden dangers in the world. while traveling they learn that a young princess name Lisi was captured by pirates whom brought her to Sorrowland. The evil and dangerous dragon miss. Grindtooth rules in that land. Jim and Luke decide to go to Sorrowland to save princess Lisi.",
         "('Adventure', 'Fantasy', 'Kids')",
         "('Action', 'Adventure', 'Demons', 'Drama', 'Fantasy', 'Harem', 'Hentai', 'Kids', 'Romance', 'Shounen', 'Super Power')"
        ],
        [
         "34",
         "In a Tokyo suburb small town, there lives a girl named Nekota Kaoru. Being born into a normal family, being raised in a normal way, this spring she'll become a normal happy middle-schooler.  However, since young age, Nekota had an abnormal ability to see Imadoki youkai (Modern Monster). And she has kept it a secret from others...",
         "('Fantasy', 'Kids', 'School', 'Slice of Life')",
         "('Comedy', 'Drama', 'Fantasy', 'Harem', 'Romance', 'Seinen', 'Slice of Life', 'Supernatural')"
        ],
        [
         "35",
         "Grandpa Danger is a world where the great protector is Grandpa Danger! He's an expert at falling off of cliffs, dealing with a principal who suffers from a severe inferiority complex, and escaping the hidden dangers of sleep! He's a nonsensical, utterly disgusting, relentless prankster. Grandpa Danger's excessive phlegm and farts frustrate Grandson to hilarious extremes, and make you laugh until your stomach splits!  (Source: AniDB)",
         "('Comedy', 'Kids')",
         "('Action', 'Adventure', 'Comedy', 'Demons', 'Ecchi', 'Fantasy', 'Hentai', 'Historical', 'Kids', 'Parody', 'Sci-Fi', 'Shoujo', 'Shounen', 'Super Power', 'Supernatural')"
        ],
        [
         "36",
         "The new Nukko. anime is an adolescent school story revolving around Nukko and Nukko's slightly(?) oddball friends.  (Source: ANN)",
         "('Comedy',)",
         "('Action', 'Adventure', 'Comedy', 'Drama', 'Ecchi', 'Fantasy', 'Kids', 'Other', 'Parody', 'Romance', 'School', 'Shoujo', 'Shounen', 'Slice of Life')"
        ],
        [
         "37",
         "In the city of Fuuto, criminals make use of USB-like devices called \"Gaia Memories\" to turn themselves into superpowered monsters known as \"Dopants,\" wreaking havoc in the otherwise peaceful city. However, there are also heroes who utilize the Gaia Memories to fight these criminals, one of whom is the self-proclaimed, hard-boiled detective Shoutarou Hidari. With the help of his witty partner Philip, the two transform into Kamen Rider W—the legendary hero of Fuuto city.  After the fall of Museum—the evil organisation responsible for many crimes in Fuuto—the production and distribution of Gaia Memories has halted. However, remnants of Gaia Memories still remain within society and are sold in the black market at high prices. Thus, the two heroes from Narumi Detective Agency are yet to have time to relax. Sights of Dopants still occur and the agency receives more and more clients who claim to experience supernatural phenomena.  Regardless of the arduous nature of the task, Kamen Rider W promises that those who hurt Fuuto will inevitably count up their sins.  ",
         "('Action', 'Drama', 'Mystery', 'Other', 'Seinen', 'Supernatural')",
         "('Action', 'Comedy', 'Mystery', 'Sci-Fi', 'Shounen', 'Super Power', 'Supernatural')"
        ],
        [
         "38",
         "A young boy has adventures with his transforming car.",
         "('Kids', 'Other')",
         "('Action', 'Adventure', 'Comedy', 'Fantasy', 'Historical', 'Kids', 'Other', 'Parody', 'Shounen')"
        ],
        [
         "39",
         "Kikuru Madan, is a monster hunter with excellent performance, because of his particular job in the forest, but he decided to quit it because of fear wasting his own youth...  (Source: LHTranslation)",
         "('Comedy', 'Ecchi', 'Fantasy', 'Harem', 'Shounen')",
         "('Action', 'Demons', 'Hentai', 'Kids', 'Mystery', 'Romance', 'Super Power', 'Supernatural')"
        ],
        [
         "40",
         "Norakuro is a black dog enlisted in the \"Mokenrentai\" (Fierce Dog Brigade), an Imperial army of dogs fighting in a war against the enemy Monkey Army.  Norakuro is a stray black-and-white dog in an army of white dogs who blundered his way while being a Private Second-Class.  This serieswas relatively faithful to the comics. One big change, however, was the addition of the army nurse Miko, whom Norakuro had a crush on. For this series, Norakuro was voiced by Nobuyo Ooyama, who would later become noted for voicing Doraemon.  (Source: Cartoon Research)",
         "('Comedy',)",
         "('Action', 'Adventure', 'Comedy', 'Demons', 'Fantasy', 'Hentai', 'Historical', 'Kids', 'Military', 'Other')"
        ],
        [
         "41",
         "Corporate secretary Shirotani suffers from obsessive-compulsive disorder. One day he meets Kurose, a therapist who offers to take him through a ten-step program to cure him of his compulsion. As the two go through each of the ten steps, Shirotani 's attraction to his counselor grows.  (Source: SuBLime)",
         "('Drama', 'Other', 'Romance')",
         "('Action', 'Comedy', 'Drama', 'Fantasy', 'Horror', 'Kids', 'Mystery', 'Other', 'Shoujo', 'Slice of Life', 'Supernatural')"
        ],
        [
         "42",
         "The anime follows a boy named Gen, who time travels from the year 2020 to a distant future where humanity has gone extinct. He begins staying at the Ganko family home in the Rustling Forest, where he has none of the amenities he is used to: no electricity, gas, or running water, as well as no television, smartphones, convenience stores, snacks, or games.  (Source: ANN)",
         "('Comedy', 'Kids', 'Sci-Fi')",
         "('Adventure', 'Drama', 'Fantasy', 'Kids', 'Other', 'Romance', 'Sci-Fi', 'Shounen', 'Slice of Life')"
        ],
        [
         "43",
         "The series follows the black cat Monroe and the human Yoppy and their \"normal and special everyday lives.\"  (Source: ANN)",
         "('Comedy',)",
         "('Comedy', 'Drama', 'Kids', 'Sci-Fi', 'Seinen', 'Shounen', 'Slice of Life', 'Super Power', 'Supernatural')"
        ],
        [
         "44",
         "G.G. Bonds enters the realm of dreams to stop evil's power from growing. They must get the citizens of Crystal City to remember their dreams so that the 5 element powers can recharge.",
         "('Kids', 'Sci-Fi', 'Super Power')",
         "('Action', 'Adventure', 'Comedy', 'Ecchi', 'Fantasy', 'Kids', 'Mecha', 'Other', 'Sci-Fi', 'Shounen', 'Super Power')"
        ],
        [
         "45",
         "It follows the daily life of Kotetsu-kun, who aspires to be an astronaut, and friends at the Animal Space Academy as they all pursue their dreams.  (Source: ANN)",
         "('Comedy', 'Other')",
         "('Comedy', 'Fantasy', 'Kids', 'Other', 'School', 'Shounen', 'Slice of Life')"
        ],
        [
         "46",
         "The story centers around a mysterious tall tower built from an (unsteady) stack of building blocks. Every morning, noon, and evening, an old timekeeping man rings the bell in the tower to confirm the time for the local townspeople. However, one day at noon, the tower bell fails to ring — leaving the townspeople confused about when to eat lunch. The fantasy adventure begins when Karl, an inquisitive boy living in the town, decides to go to the tower's plaza to see what is the matter.  (Source: ANN)",
         "('Adventure', 'Fantasy', 'Kids', 'Mystery')",
         "('Action', 'Adventure', 'Fantasy', 'Romance', 'Sci-Fi')"
        ],
        [
         "47",
         "WHO'S YOUR NANNY?  Tooru Kirishima is the right-hand man of the Sakuragi crime family. For him, the job is a perfect excuse to let his violent instincts run wild, earning him the nickname \"The Demon of Sakuragi.\" It seems like nothing will stand in the way of his vicious nature. But then one day, he receives an assignment like never before from the boss—babysitting his daughter!  This is the heartwarming (or is it bloodcurdling?) story of a little girl and her yakuza caretaker!  (Source: Kaiten Books, edited)",
         "('Comedy', 'Slice of Life')",
         "('Action', 'Adventure', 'Comedy', 'Ecchi', 'Hentai', 'Mystery', 'Parody', 'Romance', 'Shounen', 'Supernatural')"
        ],
        [
         "48",
         "The story is set in the near future.  'Hyper Sports' became a hobby competitions that is popular with children and adults alike. Hiyori Hayama is an high school singer who has nothing to do with Hyper Sports. However, the story begins to be set in motion after a certain incident and encounter.  \"This is the story about how we met our best friends.\"  (Source: MAL News)",
         "('Music', 'Sports')",
         "('Drama', 'Mecha', 'School', 'Sci-Fi', 'Seinen', 'Sports')"
        ],
        [
         "49",
         "Three girls come from another planet to save the mistreated animals of planet Earth. Black cat Amiru, squirrel Rumi, and rabbit Rie all make their way to Earth but Rie crashes her UFO! Lucky Amiru and Rumi run into Earth girl Minami and together set out to conquer the world!  (Source: Tokyo Otaku Mode)",
         "('Comedy',)",
         "('Action', 'Adventure', 'Comedy', 'Mecha', 'Sci-Fi')"
        ]
       ],
       "shape": {
        "columns": 3,
        "rows": 1139
       }
      },
      "text/html": [
       "<div>\n",
       "<style scoped>\n",
       "    .dataframe tbody tr th:only-of-type {\n",
       "        vertical-align: middle;\n",
       "    }\n",
       "\n",
       "    .dataframe tbody tr th {\n",
       "        vertical-align: top;\n",
       "    }\n",
       "\n",
       "    .dataframe thead th {\n",
       "        text-align: right;\n",
       "    }\n",
       "</style>\n",
       "<table border=\"1\" class=\"dataframe\">\n",
       "  <thead>\n",
       "    <tr style=\"text-align: right;\">\n",
       "      <th></th>\n",
       "      <th>Synopsis</th>\n",
       "      <th>Actual Genres</th>\n",
       "      <th>Predicted Genres</th>\n",
       "    </tr>\n",
       "  </thead>\n",
       "  <tbody>\n",
       "    <tr>\n",
       "      <th>0</th>\n",
       "      <td>Shuramaru is hated and feared by the villagers...</td>\n",
       "      <td>(Supernatural,)</td>\n",
       "      <td>(Action, Adventure, Comedy, Demons, Drama, Ecc...</td>\n",
       "    </tr>\n",
       "    <tr>\n",
       "      <th>1</th>\n",
       "      <td>The daily life of the Motsumoto family. The th...</td>\n",
       "      <td>(Comedy, Slice of Life)</td>\n",
       "      <td>(Comedy, Mystery, Parody, Sci-Fi, Seinen, Slic...</td>\n",
       "    </tr>\n",
       "    <tr>\n",
       "      <th>2</th>\n",
       "      <td>The Soul Tree, the great source of our race.  ...</td>\n",
       "      <td>(Action, Adventure, Kids)</td>\n",
       "      <td>(Fantasy, Other)</td>\n",
       "    </tr>\n",
       "    <tr>\n",
       "      <th>3</th>\n",
       "      <td>Himeno Mimika is a daughter of historical cook...</td>\n",
       "      <td>(Kids, Other, Slice of Life)</td>\n",
       "      <td>(Comedy, Ecchi, Fantasy, Hentai, Kids, Mystery...</td>\n",
       "    </tr>\n",
       "    <tr>\n",
       "      <th>4</th>\n",
       "      <td>The third generation of J SOUL BROTHERS from E...</td>\n",
       "      <td>(Kids, Music)</td>\n",
       "      <td>(Comedy, Fantasy, Music, Other, School)</td>\n",
       "    </tr>\n",
       "    <tr>\n",
       "      <th>...</th>\n",
       "      <td>...</td>\n",
       "      <td>...</td>\n",
       "      <td>...</td>\n",
       "    </tr>\n",
       "    <tr>\n",
       "      <th>1134</th>\n",
       "      <td>Specials included in the OVA of Hyakujitsu no ...</td>\n",
       "      <td>(Other, Parody)</td>\n",
       "      <td>(Action, Comedy, Demons, Ecchi, Fantasy, Harem...</td>\n",
       "    </tr>\n",
       "    <tr>\n",
       "      <th>1135</th>\n",
       "      <td>DVD/BD specials featuring two female cast memb...</td>\n",
       "      <td>(Ecchi, Seinen)</td>\n",
       "      <td>(Comedy, Ecchi, Fantasy, Harem, Hentai, Mecha,...</td>\n",
       "    </tr>\n",
       "    <tr>\n",
       "      <th>1136</th>\n",
       "      <td>As college entrance examinations draw near, tw...</td>\n",
       "      <td>(School, Slice of Life)</td>\n",
       "      <td>(Comedy, Drama, Hentai, Music, Other, Romance,...</td>\n",
       "    </tr>\n",
       "    <tr>\n",
       "      <th>1137</th>\n",
       "      <td>Two special episodes of included on Blu-ray. 1...</td>\n",
       "      <td>(Ecchi, Slice of Life)</td>\n",
       "      <td>(Comedy, Ecchi, Fantasy, Historical, Horror, M...</td>\n",
       "    </tr>\n",
       "    <tr>\n",
       "      <th>1138</th>\n",
       "      <td>The Future Foundation is in shambles after the...</td>\n",
       "      <td>(Action, Horror, Mystery, Other)</td>\n",
       "      <td>(Action, Adventure, Drama, Other, Sci-Fi, Sein...</td>\n",
       "    </tr>\n",
       "  </tbody>\n",
       "</table>\n",
       "<p>1139 rows × 3 columns</p>\n",
       "</div>"
      ],
      "text/plain": [
       "                                               Synopsis  \\\n",
       "0     Shuramaru is hated and feared by the villagers...   \n",
       "1     The daily life of the Motsumoto family. The th...   \n",
       "2     The Soul Tree, the great source of our race.  ...   \n",
       "3     Himeno Mimika is a daughter of historical cook...   \n",
       "4     The third generation of J SOUL BROTHERS from E...   \n",
       "...                                                 ...   \n",
       "1134  Specials included in the OVA of Hyakujitsu no ...   \n",
       "1135  DVD/BD specials featuring two female cast memb...   \n",
       "1136  As college entrance examinations draw near, tw...   \n",
       "1137  Two special episodes of included on Blu-ray. 1...   \n",
       "1138  The Future Foundation is in shambles after the...   \n",
       "\n",
       "                         Actual Genres  \\\n",
       "0                      (Supernatural,)   \n",
       "1              (Comedy, Slice of Life)   \n",
       "2            (Action, Adventure, Kids)   \n",
       "3         (Kids, Other, Slice of Life)   \n",
       "4                        (Kids, Music)   \n",
       "...                                ...   \n",
       "1134                   (Other, Parody)   \n",
       "1135                   (Ecchi, Seinen)   \n",
       "1136           (School, Slice of Life)   \n",
       "1137            (Ecchi, Slice of Life)   \n",
       "1138  (Action, Horror, Mystery, Other)   \n",
       "\n",
       "                                       Predicted Genres  \n",
       "0     (Action, Adventure, Comedy, Demons, Drama, Ecc...  \n",
       "1     (Comedy, Mystery, Parody, Sci-Fi, Seinen, Slic...  \n",
       "2                                      (Fantasy, Other)  \n",
       "3     (Comedy, Ecchi, Fantasy, Hentai, Kids, Mystery...  \n",
       "4               (Comedy, Fantasy, Music, Other, School)  \n",
       "...                                                 ...  \n",
       "1134  (Action, Comedy, Demons, Ecchi, Fantasy, Harem...  \n",
       "1135  (Comedy, Ecchi, Fantasy, Harem, Hentai, Mecha,...  \n",
       "1136  (Comedy, Drama, Hentai, Music, Other, Romance,...  \n",
       "1137  (Comedy, Ecchi, Fantasy, Historical, Horror, M...  \n",
       "1138  (Action, Adventure, Drama, Other, Sci-Fi, Sein...  \n",
       "\n",
       "[1139 rows x 3 columns]"
      ]
     },
     "metadata": {},
     "output_type": "display_data"
    },
    {
     "data": {
      "application/vnd.microsoft.datawrangler.viewer.v0+json": {
       "columns": [
        {
         "name": "index",
         "rawType": "int64",
         "type": "integer"
        },
        {
         "name": "Synopsis",
         "rawType": "object",
         "type": "string"
        },
        {
         "name": "Actual Genres",
         "rawType": "object",
         "type": "unknown"
        },
        {
         "name": "Predicted Genres",
         "rawType": "object",
         "type": "unknown"
        }
       ],
       "conversionMethod": "pd.DataFrame",
       "ref": "844afb87-8183-434d-802b-ce775e67db2a",
       "rows": [
        [
         "0",
         "The story begins 15 years after the demon king was defeated and the world has become peaceful. Kotone, who graduated from school and became a magician, inquired about the kingdom-affiliated RPG Real Estate in order to find a new home. In reality, RPG Real Estate was Kotone's place of employment, and together with Fa, a demi-human, the priest Rufuria, and the soldier Rakira, they help support the searches of new homes for the customers with various circumstances.  (Source: MU, edited)",
         "('Comedy', 'Fantasy', 'Slice of Life')",
         "('Action', 'Adventure', 'Comedy', 'Demons', 'Drama', 'Ecchi', 'Fantasy', 'Historical', 'Kids', 'Shounen', 'Slice of Life', 'Supernatural')"
        ],
        [
         "1",
         "A cyborg warrior from an ancient Antarctic kingdom awakes 30000 years later from an accidental hibernation to find the Earth changed and an old alien enemy on the verge of invasion. It's up to Guyslugger to use his ancient technology to defeat the aliens.  (Source: AniDB)",
         "('Action', 'Mecha', 'Sci-Fi')",
         "('Action', 'Adventure', 'Fantasy', 'Hentai', 'Historical', 'Horror', 'Kids', 'Mecha', 'Military', 'Other', 'Sci-Fi', 'Seinen', 'Shounen')"
        ],
        [
         "2",
         "The story centers on Otarou, a creature themed around dirt known as a yogoremon. It and other yogoremon ask the meaning of words and explain negative terms in positive ways.  (Source: ANN)",
         "('Comedy',)",
         "('Adventure', 'Comedy', 'Ecchi', 'Fantasy', 'Hentai', 'Horror', 'Kids', 'Other', 'Parody', 'Romance', 'Seinen', 'Shounen', 'Slice of Life')"
        ],
        [
         "3",
         "An elite soldier, whose nickname is God of Death, is transferred to another unit known as the PaPaRa Army. The PaPaRa Army is infamous for its elite but hilariously crazy members. There is no plot to speak of other than humour, hilarious brutality, and general nonsense. This is also Matsuzawa-sensei's debut work.",
         "('Action', 'Adventure', 'Comedy', 'Romance', 'Sci-Fi')",
         "('Action', 'Adventure', 'Demons', 'Drama', 'Ecchi', 'Hentai', 'Historical', 'Military', 'Music', 'Other', 'Romance', 'Sci-Fi', 'Shounen', 'Super Power')"
        ],
        [
         "4",
         "Based on the real life-story of Pink Lady, a female pop duo that rose to superstardom in the mid-1970's.  (Source: ANN)",
         "('Drama', 'Music', 'Slice of Life')",
         "('Comedy', 'Drama', 'Ecchi', 'Hentai', 'Mecha', 'Romance')"
        ],
        [
         "5",
         "The third show in the Virtual Trilogy, a mix of anime and live action shots.  In the beginning of the 22nd century society advanced rapidly. Now even children are able to become real doctors, a task before that took two and a half decades to achieve. And nanomachines became prevalent to fight disease. Keita is a Nanosaver, a child doctor who uses the virtual world to apply life saving techniques by entering the body and treating the patients in a virtual medical station (VMS). As more and more patients are taken in, various mysterious are uncovered about them.  In the second half of the anime, a small Ethanarian alien and galactic federation is introduced.",
         "('Adventure', 'Shounen')",
         "('Action', 'Drama', 'Historical', 'Sci-Fi')"
        ],
        [
         "6",
         "The gag anime takes place at a school for youkai and other supernatural beings. A vampire named Rakuru transfers to the school from the West, and she tries to change the school as the class representative.",
         "('Comedy', 'Supernatural')",
         "('Comedy', 'Ecchi', 'Harem', 'Horror', 'Kids', 'Other', 'Romance', 'School', 'Seinen', 'Shoujo', 'Supernatural')"
        ],
        [
         "7",
         "An anime series based on the Gunma Prefecture mascot character, Gunma-chan.  (Source: Anilist)",
         "('Slice of Life',)",
         "('Adventure', 'Comedy', 'Historical', 'Kids', 'Music', 'Slice of Life')"
        ],
        [
         "8",
         "The series revolves around life in Gifu Prefecture in central Japan — as seen through the eyes of Tatekayoko, a female inhabitant who speaks in the dialect of Gifu's Tounou region. The anime will air within the program on Tokyo MX.  (Source: ANN)",
         "('Comedy', 'Kids')",
         "('Comedy', 'Drama', 'Historical', 'Mecha', 'Other', 'Romance', 'Sci-Fi', 'Seinen', 'Slice of Life')"
        ],
        [
         "9",
         "Depiction of Japan's economy, based on Shoutarou Ishinomori's epynomous manga.",
         "('Drama', 'Historical', 'Seinen', 'Slice of Life')",
         "('Action', 'Comedy', 'Drama', 'Ecchi', 'Hentai', 'Historical', 'Parody', 'Seinen', 'Shounen', 'Slice of Life', 'Sports', 'Super Power')"
        ],
        [
         "10",
         "The second season of . SBS took over broadcasting the show. The art style has been changed for a more modern anime-esque appearance and some voice actors did not reprise their character's roles.",
         "('Kids', 'Sci-Fi')",
         "('Comedy', 'Drama', 'Music', 'Other', 'Parody', 'Romance', 'Shoujo', 'Slice of Life', 'Supernatural')"
        ],
        [
         "11",
         "When Nian Chi was a young child, his elder sister was kidnapped in front of him, while he could do nothing but watch, a thing that has tormented him for all these years. Now 10 years later, he's dead set on going to rescue his sister, and sets out.",
         "('Action', 'Adventure', 'Drama', 'Fantasy', 'Historical', 'Other', 'Supernatural')",
         "('Action', 'Drama', 'Fantasy', 'Historical', 'Kids', 'Mecha', 'School', 'Sci-Fi', 'Seinen')"
        ],
        [
         "12",
         "An NHK toddler's anime following cowardly creatures representing typical Halloween monsters like Dracula and a witch.",
         "('Kids',)",
         "('Action', 'Comedy', 'Demons', 'Ecchi', 'Fantasy', 'Horror', 'Kids', 'Military', 'Other', 'Parody', 'School', 'Seinen', 'Slice of Life')"
        ],
        [
         "13",
         "The anime follows the frogs Kekkero and Ke who try to find their 998 other siblings.  (Source: ANN)",
         "('Comedy',)",
         "('Adventure', 'Comedy', 'Ecchi', 'Fantasy', 'Horror', 'Kids', 'Other', 'Sci-Fi', 'Seinen', 'Shoujo', 'Shounen', 'Slice of Life', 'Supernatural')"
        ],
        [
         "14",
         "The 3rd animated season. It follows an entirely new story and new characters unrelated to the previous seasons. The previous seasons metaphorical usage of magic/spirit/chi to visualize yoyo battles has now become literal. The yoyo toys have spirit animals within them and the cast tries to return them to their world before the villains use them for evil purposes.  Leon has an argument with his classmate Gurido for trifle. At the advice of Catherine, Leon and Gurido decide to judge the victory or defeat through yoyo competition. The Daemon Tiger appears when Leon and Gurido begin to fight in the woods. Leon follows Daemon Tiger and work with it. With Daemon Tiger’s help, Leon defeats Gurido.  (Source: Official YouTube channel) ",
         "('Fantasy', 'Kids', 'Other')",
         "('Action', 'Adventure', 'Comedy', 'Fantasy', 'Kids', 'Other')"
        ],
        [
         "15",
         "Within the nature \"Darwin Kita! Kikimono Shin Densetsu\" program on NHK1.5 airs the short , based on a web manga/comic of the same name. It following animal characters who visit the bar . The bar is run by the Mama who is a Pallas's cat ( ) and serviced by the hostess Tsunomin who is a Brazilian treehopper ( ).",
         "('Slice of Life',)",
         "('Comedy', 'Historical', 'Kids', 'Parody', 'Slice of Life')"
        ],
        [
         "16",
         "Yuuya, one half of the boy pop duo ZINGS, may be the laziest performer in the Japanese music industry. His partner is out there giving 110% every night (and, thankfully, he's quite popular), but Yuuya's half-assed, sloppy dancing, and his frankly hostile attitude toward the audience, has the fans hating him and his agent looking for any excuse to cut him loose. The career of a pop idol just isn't the path of easy leisure and adulation Yuuya expected...  After a particularly lifeless concert appearance, Yuuya meets a girl backstage. She's dressed to the nines in a colorful outfit, she's full of vim and vigor, and all she wants from life is to perform. There's just one problem: She's been dead for a year. This is the ghost of Asahi Mogami, the beloved singer whose time on the stage was tragically cut short, unless... If ghosts are real, is spirit possession really that much of a stretch?  (Source: Kodansha US) ",
         "('Comedy', 'Music', 'Other', 'Supernatural')",
         "('Action', 'Comedy', 'Drama', 'Shoujo')"
        ],
        [
         "17",
         "Based on the gag manga by Fujio A Fujiko.",
         "('Comedy', 'Slice of Life')",
         "('Action', 'Comedy', 'Drama', 'Ecchi', 'Hentai', 'Other', 'Parody', 'Seinen', 'Shoujo', 'Shounen', 'Slice of Life', 'Sports', 'Super Power')"
        ],
        [
         "18",
         "Shorts that feature music note cats. The series premiered on February 22, 2014 on television; the first episode was published on an official YouTube channel that same day.  The whole world is in love with character illustrations of cats, dogs, and bears. A brand-new show, and the first of its kind in Japan, featuring nothing but cat characters for cat lovers started airing in February 2014. A variety of cat characters designed by Japan's topnotch creators and illustrators are animated and they are voiced by popular KAWAII (cute) anime voice actors. This show is a must-see not just for the fans of cat characters but for all anime lovers!  (Source:YouTube)",
         "('Comedy', 'Music')",
         "('Comedy', 'Kids', 'Music')"
        ],
        [
         "19",
         "In the world of magic, there exist deadly irreversible techniques commonly known as spellblades. These sparse and elusive spells, along with their casters, are shrouded in mystery and only their absolute lethality is known to the masses.  Every year, the spring blossom signifies a new intake of students to the prestigious magic school Kimberly. With reactions of awe and bewilderment, a ceremonious parade complete with magical beasts welcomes the newcomers to the institution. Among them is the mysterious Oliver Horn, whose indifference changes to fascination as he notices a peculiar figure—a girl wearing strange attire equipped with a Japanese sword.  From the entrance ceremony onward, Oliver realizes that not all is as it seems at Kimberly, as the emergence of labyrinths, monsters, and other threats endanger the new student body. Nanatsu no Maken ga Shihai suru explores the intertwined fates of two warriors as they uncover the dark truths that lurk within the walls of the academy.  ",
         "('Action', 'Fantasy', 'School')",
         "('Action', 'Fantasy', 'Mystery', 'Other', 'School', 'Shounen', 'Supernatural')"
        ],
        [
         "20",
         "A short anime that airs within \"Enkame: That's Enka Tainment\" (and enka variety show) program on Asahi TV. It follows a cast of ice cream characters.",
         "('Kids',)",
         "('Comedy', 'Kids', 'Military', 'Parody', 'Slice of Life')"
        ],
        [
         "21",
         "The story is set in a world where every event has been turned into programs, and mysterious monsters known as \"Promin\" maintain the world. However, many Promin who have turned into bugs known as \"Bugmin\" are responsible for many of the world's real-life bugs. Left alone, they may eventually turn into a big problem. The boy Yuuto encounters the space dog Wanda, and the pair use a camera-like device and key items to capture Bugmin. Promin themselves are able to do things like \"accelerate objects,\" \"spew fire,\" or \"create objects,\" through an ability known as \"Kamiwaza\" (miracle), and are able to fend off Bugmin with it. At first, the Bugmin only cause small, bothersome things, but it will soon elevate into a global scale threat. Can one boy and one dog save the world?  (Source: ANN)",
         "('Kids', 'Sci-Fi')",
         "('Action', 'Adventure', 'Comedy', 'Fantasy', 'Military', 'Other', 'School', 'Sci-Fi', 'Shoujo', 'Shounen', 'Supernatural')"
        ],
        [
         "22",
         "The story centers on the everyday life of the cats Suna and Manu, who live in a desert — a desert made of sugar instead of sand.  (Source: ANN)",
         "('Comedy',)",
         "('Comedy', 'Drama', 'Kids', 'Music', 'Slice of Life')"
        ],
        [
         "23",
         "Kurumi Mirai is in the first year of high school.  She has enrolled in junior high section of the Redrun Magic School, the world's only facility for mages that approved by International Mage League and able to work under royal families when graduates, and she was always top of the class. However, when she applies for the high school section and took the examination to get into a mage training class \"Ma-gumi (Mage Class)\", she wasn't able to get in in spite having full scores and was top of the class for the whole three years.  There are some students in the class next to her that takes that class. Among that there's someone she admires. How will Kurumi Mirai who has extraordinary brain but didn't get in to be a mage candidate try to overcome and grow up? What is the aim for Minami Suzuki, a loyal mage who suddenly appears to be the homeroom teacher? This is a relaxing story of her growth.  (Source: MAL News)",
         "('Drama', 'Fantasy', 'School', 'Slice of Life')",
         "('Comedy', 'School', 'Shounen', 'Slice of Life')"
        ],
        [
         "24",
         "Fourth season of .  Now that spring is in the air, the forest animals are back to frolicking amongst the freshly blooming flowers and busy at work planting new trees to add even more color to their luscious home. The bear brothers—Briar and Bramble, and all their friends are having a jolly great time basking in this colorful season; however, from time to time, they stumble across Logger Vick who will not give up. The bears, along with their little friends make it their mission to protect the forest. This always results in a lot of laughter, tears and of course, adventures aplenty!  (Source: Official website)",
         "('Adventure', 'Comedy', 'Kids')",
         "('Adventure', 'Comedy', 'Fantasy', 'Kids')"
        ],
        [
         "25",
         "The series follows a mysterious but gentle-hearted man named Yasashi Yasamura who spreads warmth and human kindness wherever he goes.  (Source: Crunchyroll)",
         "('Comedy',)",
         "('Action', 'Comedy', 'Demons', 'Drama', 'Fantasy', 'Historical', 'Horror', 'Kids', 'Other', 'Seinen', 'Shounen', 'Slice of Life', 'Sports', 'Supernatural')"
        ],
        [
         "26",
         "A stop-motion comedy drama about sugar cube people from the Meiji era. Specifically it focuses on the father Kakuza who easily succumbs to emotion usually about his 37 year old daughter Touko's newest fiancé who tries to ask for his blessing. He's scared of losing his daughter even though it was his late wife's dying wish to see her as a happy bride.  The show had a very irregular release schedule and by the end of its serialization its title had changed to .",
         "('Comedy', 'Drama', 'Historical', 'Parody')",
         "('Comedy', 'Historical', 'Kids', 'Other', 'Slice of Life')"
        ],
        [
         "27",
         "As the most powerful entity of all time, the Demon Lord Varvatos thinks life is a big fat snore. When he takes matters into his own hands and decides to reincarnate, he calibrates his magical strength to be perfectly average. But there is no way he could have predicted that everyone in the modern world would be weak as hell, which means he is totally overpowered once again! Reborn under the name Ard, he has ladies fawning over him, the royal family begging him to become the next king, and an ex-minion insisting on killing him?! But Ard has a one-track mind, and he won't stop at anything to achieve his ultimate goal!  (Source: Yen Press)",
         "('Action', 'Fantasy', 'School')",
         "('Adventure', 'Comedy', 'Demons', 'Fantasy', 'Historical', 'Romance', 'Shounen')"
        ],
        [
         "28",
         "A dangerous shadow organization launches a campaign of fear and violence in the city of Shinjuku, pushing society to the brink of chaos. As a young police officer tasked with restoring order, Ichika Hoshino becomes the target of an attack, and has a poisonous collar attached to her neck. With the situation spiraling out of control and time running out, five mysterious strangers appear to aid her in her quest for the truth. Who can she trust? Will she be able to save herself and the soul of Shinjuku from the clutches of oblivion?  (Source: Aksys Games)",
         "('Mystery', 'Other', 'Romance')",
         "('Action', 'Adventure', 'Demons', 'Fantasy', 'Mecha', 'Mystery', 'Other', 'Romance', 'Supernatural')"
        ],
        [
         "29",
         "An anime/documentary series about athletes present by NHK.  The first episode adapts material from Tomoyoshi Itou and Shingo Morita's Weekly Young Jump biographical manga (Geniuses Without Glory)—specifically the story about Hironoshin Furuhashi, the swimmer also known as \"the flying fish of Fujiyama.\" The episode also includes interviews with Olympic swimmer Kousuke Kitajima and other Japanese swimmers about the how Furuhashi changed the Japanese competitive swimming world, as well as what sort of training is required to be an Olympic swimmer.  (Source: ANN, edited)",
         "('Sports',)",
         "('Action', 'Adventure', 'Comedy', 'Demons', 'Drama', 'Fantasy', 'Horror', 'Kids', 'Mystery', 'Other', 'Parody', 'Romance', 'Sci-Fi', 'Seinen', 'Shoujo', 'Shounen')"
        ],
        [
         "30",
         "Part of TV Tokyo's Kinder TV (きんだーてれび) program.",
         "('Comedy',)",
         "('Action', 'Comedy', 'Ecchi', 'Kids', 'Music', 'Mystery', 'Other', 'Shoujo', 'Slice of Life')"
        ],
        [
         "31",
         "This anime is a fusion of 3D CGI and live-action. Majority of the episodes are Kemy, Buka, and Chaka in their animated club house but other parts of the episodes are the characters imposed on live footage of nature. The program solves various questions by looking at the world with the vision of infants who are still immature in the world.",
         "('Adventure', 'Kids')",
         "('Adventure', 'Comedy', 'Fantasy', 'Kids', 'Music', 'Mystery', 'Other', 'Parody', 'School', 'Slice of Life', 'Sports')"
        ],
        [
         "32",
         "A foolish clumsy angel came to the human world to help a very unlucky boy. But more accidents are then created...",
         "('Comedy', 'Fantasy')",
         "('Adventure', 'Comedy', 'Historical', 'School', 'Shoujo', 'Slice of Life')"
        ],
        [
         "33",
         "A little ghost girl gets worries when Ms. Fushihara, a corporate slave, is working till midnight, and tries to make her go home. While saying \"Leave now~,\" the ghost girl helps and brings her refreshments, healing Ms. Fushihara's heart with her preciousness. Be healed by the heartwarming daily life of the cute little ghost and the corporate slave Ms. Fushihara.  (Source: MAL News)",
         "('Comedy', 'Shounen', 'Slice of Life', 'Supernatural')",
         "('Comedy', 'Ecchi', 'Horror', 'Romance', 'School', 'Seinen', 'Slice of Life', 'Supernatural')"
        ],
        [
         "34",
         "On planet Kirakira live two tribes: Senobi and Robot. Senobi, quiet and peacefully set, settle down in the forest. Robot comes from the desert and starts war to take control of afforested grounds. A young hero coming from Senobi tries to appease the whole situation.",
         "('Action', 'Adventure', 'Sci-Fi')",
         "('Action', 'Adventure', 'Comedy', 'Mecha', 'Sci-Fi', 'Shounen')"
        ],
        [
         "35",
         "A prospective witch, a kindergartener who acts like a middle aged, an innocent and incompetent pretty devil, and a genius dog which understands man's words presents a slapstick comedy.  (Source: Toei Animation)",
         "('Comedy', 'Kids')",
         "('Comedy', 'Kids', 'Seinen')"
        ],
        [
         "36",
         "musicる TV signed up Norasco for their channel. Some of the ONA's episodes were shown and then the episodes became mostly musicる TV exclusive. ",
         "('Comedy', 'Slice of Life')",
         "('Action', 'Adventure', 'Comedy', 'Historical', 'Music', 'Other', 'Parody', 'Sci-Fi', 'Shoujo', 'Slice of Life')"
        ],
        [
         "37",
         "Second cour of the third season of .",
         "('Music',)",
         "('Action', 'Adventure', 'Comedy', 'Demons', 'Drama', 'Fantasy', 'Harem', 'Historical', 'Kids', 'Music', 'Other', 'Parody', 'Sci-Fi', 'Shounen', 'Slice of Life', 'Sports', 'Super Power', 'Supernatural')"
        ],
        [
         "38",
         "The story is told by the cat-eyed boy, hated by humans and demons, who engages in tales of terror, including monsters and children.",
         "('Adventure', 'Horror', 'Other', 'Seinen', 'Supernatural')",
         "('Demons', 'Drama', 'Fantasy', 'Historical', 'Horror', 'Kids', 'Other', 'Parody', 'Shounen', 'Supernatural')"
        ],
        [
         "39",
         "The series follows a variety of employed shellfish who exhibit selfish or odd personality traits.  (Source: LiveChart)",
         "('Comedy',)",
         "('Comedy', 'Fantasy', 'Kids', 'Other', 'Seinen', 'Slice of Life', 'Supernatural')"
        ],
        [
         "40",
         "A gag comedy aimed at young children featuring Zombie-kun, a child zombie, and his interactions with the world. It's not intended to be scary in the slightest, but rather, it focuses on the comical and bizarre things Zombie-kun's body can do, and the common-sense-defying way Zombie-kun behaves. For example, he'll take out his stomach and inflate it with air to use as a pillow, or if he gets wet, he'll detach parts of his body and wring them out like towels, then reattach them with a glue stick. Everything is depicted in a cute, cartoony fashion so as not to be too graphic for kids.  (Source: Baka-Updates)",
         "('Comedy', 'Kids')",
         "('Comedy', 'Kids', 'Slice of Life')"
        ],
        [
         "41",
         "During the ancient Western Han dynasty (206BC-9AD), a series of disasters caused by occult phenomena swept across the entire world. Huainanzi, the mysterious Chinese book bound in bamboo, was ripped apart and sent through time to different historical junctures. The book pieces were transformed into various objects, waiting to be rediscovered. A hundred years later, a young man, named Hong Lie, lifts up the burden to collect the missing pieces of the ancient bamboo book. With the help of Ba Gong and his friends going through the Gate of 24 Solar Terms, Hong Lie travels through dynasties to search for the lost pieces. In his adventure, Hong Lie and his loyal friends, Ji Ming and Gou Tiao, experienced the greatness of the ancient legends, appreciating the wisdom of the ancestors from Chun Qiu Period, and witnessed all the weird things happening among ordinary people. Warmth and coldness, sadness and happiness, separation and reunion, stories led him to the great world in the book Huainanzi. Through exciting adventures, he also made lifelong friends. In this special way, Hong Lie communicated with ancestors and started to see the principle of world, realizing that obeying the laws of nature and being in harmony with the environment was the right thing to do. A simple collecting journey slowly became a challenging trip for him to go on with his family mission, and inherit the ancestor’s spirit. (Source: Wikipedia)",
         "('Adventure', 'Fantasy', 'Historical')",
         "('Action', 'Adventure', 'Drama', 'Fantasy', 'Historical', 'Kids', 'Mystery', 'Supernatural')"
        ],
        [
         "42",
         "An NHK toddler's anime following a Spoon Princess and other kitchen themed characters.",
         "('Adventure', 'Kids')",
         "('Action', 'Comedy', 'Ecchi', 'Fantasy', 'Historical', 'Kids', 'Music', 'Parody', 'School', 'Slice of Life')"
        ],
        [
         "43",
         "The Lost Ones are wanderers who come here from a distant world known as \"Japan.\" No one knows how or why they leave their homes. The only thing that is certain is that they bring disaster and calamity. The duty of exterminating them without remorse falls to Menou, a young Executioner. When she meets Akari, it seems like just another job...until she discovers it's impossible to kill this girl! And when Menou begins to search for a way to defeat this immortality, Akari is more than happy to tag along! So begins a journey that will change Menou forever...  (Source: Yen Press)",
         "('Action', 'Adventure', 'Fantasy')",
         "('Action', 'Adventure', 'Drama', 'Ecchi', 'Fantasy', 'Historical', 'Horror', 'Other', 'Slice of Life', 'Supernatural')"
        ],
        [
         "44",
         "CGI shorts about famous Japanese comedian George Tokoro.",
         "('Comedy',)",
         "('Comedy', 'Fantasy', 'Historical', 'Kids', 'Other', 'Shoujo', 'Slice of Life')"
        ],
        [
         "45",
         "The \"Waruchin Ceremony\" has been stolen from All Star, a planet that exists in the outskirts of space. The computer that is built into it is programmed to make anything possible. The thief is actually the villain, Doctor Bell. Doctor Bell schemes to invade the other planets through the use of Waruchin. The prince of All Star, Prince Chikkun, together with his trusty advisor, the intellectual Takkun, decides to head towards Earth in pursuit of Doctor Bell.  (Source: ANN)",
         "('Comedy', 'Sci-Fi')",
         "('Action', 'Adventure', 'Drama', 'Kids', 'Other', 'Sci-Fi')"
        ],
        [
         "46",
         "A daily educational TV anime broadcasted on NTV focusing on teaching children traffic safety. It was rebroadcasted on other networks till 1978. The anime ran in a 5-minute time slot but shared some of the air time with some live-action shorts/series also meant for children.  ",
         "('Kids',)",
         "('Comedy', 'Historical', 'Kids', 'Parody', 'Slice of Life')"
        ],
        [
         "47",
         "The second season of . Its broadcast will be in the same timeslot as the re-airing of the original 2001 anime on Fuji TV.",
         "('Comedy',)",
         "('Action', 'Adventure', 'Comedy', 'Fantasy', 'Harem', 'Historical', 'Kids', 'Mecha', 'Music', 'Other', 'Parody', 'Shoujo', 'Shounen', 'Slice of Life', 'Super Power')"
        ],
        [
         "48",
         "Based on a manga by Fujiko (A) Fujio and Fujiko (F) Fujio.",
         "('Adventure',)",
         "('Action', 'Comedy', 'Drama', 'Ecchi', 'Hentai', 'Other', 'Parody', 'Seinen', 'Shoujo', 'Shounen', 'Slice of Life', 'Sports', 'Super Power')"
        ],
        [
         "49",
         "Based on Nasu Masamoto's Zukkoke Sannin-gumi juvenile novels series.  The main characters are 6 grade boys, Hachibei, Hakase, and Mo-chan. This anime shows their adventures.  (Source: AnimeNfo)",
         "('Comedy', 'Kids', 'School')",
         "('Action', 'Adventure', 'Comedy', 'Fantasy', 'Harem', 'Kids', 'Parody', 'Shoujo')"
        ]
       ],
       "shape": {
        "columns": 3,
        "rows": 1127
       }
      },
      "text/html": [
       "<div>\n",
       "<style scoped>\n",
       "    .dataframe tbody tr th:only-of-type {\n",
       "        vertical-align: middle;\n",
       "    }\n",
       "\n",
       "    .dataframe tbody tr th {\n",
       "        vertical-align: top;\n",
       "    }\n",
       "\n",
       "    .dataframe thead th {\n",
       "        text-align: right;\n",
       "    }\n",
       "</style>\n",
       "<table border=\"1\" class=\"dataframe\">\n",
       "  <thead>\n",
       "    <tr style=\"text-align: right;\">\n",
       "      <th></th>\n",
       "      <th>Synopsis</th>\n",
       "      <th>Actual Genres</th>\n",
       "      <th>Predicted Genres</th>\n",
       "    </tr>\n",
       "  </thead>\n",
       "  <tbody>\n",
       "    <tr>\n",
       "      <th>0</th>\n",
       "      <td>The story begins 15 years after the demon king...</td>\n",
       "      <td>(Comedy, Fantasy, Slice of Life)</td>\n",
       "      <td>(Action, Adventure, Comedy, Demons, Drama, Ecc...</td>\n",
       "    </tr>\n",
       "    <tr>\n",
       "      <th>1</th>\n",
       "      <td>A cyborg warrior from an ancient Antarctic kin...</td>\n",
       "      <td>(Action, Mecha, Sci-Fi)</td>\n",
       "      <td>(Action, Adventure, Fantasy, Hentai, Historica...</td>\n",
       "    </tr>\n",
       "    <tr>\n",
       "      <th>2</th>\n",
       "      <td>The story centers on Otarou, a creature themed...</td>\n",
       "      <td>(Comedy,)</td>\n",
       "      <td>(Adventure, Comedy, Ecchi, Fantasy, Hentai, Ho...</td>\n",
       "    </tr>\n",
       "    <tr>\n",
       "      <th>3</th>\n",
       "      <td>An elite soldier, whose nickname is God of Dea...</td>\n",
       "      <td>(Action, Adventure, Comedy, Romance, Sci-Fi)</td>\n",
       "      <td>(Action, Adventure, Demons, Drama, Ecchi, Hent...</td>\n",
       "    </tr>\n",
       "    <tr>\n",
       "      <th>4</th>\n",
       "      <td>Based on the real life-story of Pink Lady, a f...</td>\n",
       "      <td>(Drama, Music, Slice of Life)</td>\n",
       "      <td>(Comedy, Drama, Ecchi, Hentai, Mecha, Romance)</td>\n",
       "    </tr>\n",
       "    <tr>\n",
       "      <th>...</th>\n",
       "      <td>...</td>\n",
       "      <td>...</td>\n",
       "      <td>...</td>\n",
       "    </tr>\n",
       "    <tr>\n",
       "      <th>1122</th>\n",
       "      <td>An unaired episode released with the sixth BD ...</td>\n",
       "      <td>(Sci-Fi, Seinen)</td>\n",
       "      <td>(Action, Comedy, Demons, Ecchi, Fantasy, Harem...</td>\n",
       "    </tr>\n",
       "    <tr>\n",
       "      <th>1123</th>\n",
       "      <td>Short extras of the anime included in each of ...</td>\n",
       "      <td>(Romance,)</td>\n",
       "      <td>(Comedy, Demons, Ecchi, Fantasy, Historical, P...</td>\n",
       "    </tr>\n",
       "    <tr>\n",
       "      <th>1124</th>\n",
       "      <td>Short specials included in the Blu-ray release...</td>\n",
       "      <td>(Sci-Fi, Seinen)</td>\n",
       "      <td>(Comedy, Demons, Ecchi, Fantasy, Military, Par...</td>\n",
       "    </tr>\n",
       "    <tr>\n",
       "      <th>1125</th>\n",
       "      <td>Three episodes aired on TV as part of the Ribo...</td>\n",
       "      <td>(Shoujo,)</td>\n",
       "      <td>(Comedy, Drama, Mystery, Other, School, Shoune...</td>\n",
       "    </tr>\n",
       "    <tr>\n",
       "      <th>1126</th>\n",
       "      <td>Having reached his emotional breaking point, R...</td>\n",
       "      <td>(Other, Sci-Fi)</td>\n",
       "      <td>(Action, Drama, Historical, Mecha, Military, O...</td>\n",
       "    </tr>\n",
       "  </tbody>\n",
       "</table>\n",
       "<p>1127 rows × 3 columns</p>\n",
       "</div>"
      ],
      "text/plain": [
       "                                               Synopsis  \\\n",
       "0     The story begins 15 years after the demon king...   \n",
       "1     A cyborg warrior from an ancient Antarctic kin...   \n",
       "2     The story centers on Otarou, a creature themed...   \n",
       "3     An elite soldier, whose nickname is God of Dea...   \n",
       "4     Based on the real life-story of Pink Lady, a f...   \n",
       "...                                                 ...   \n",
       "1122  An unaired episode released with the sixth BD ...   \n",
       "1123  Short extras of the anime included in each of ...   \n",
       "1124  Short specials included in the Blu-ray release...   \n",
       "1125  Three episodes aired on TV as part of the Ribo...   \n",
       "1126  Having reached his emotional breaking point, R...   \n",
       "\n",
       "                                     Actual Genres  \\\n",
       "0                 (Comedy, Fantasy, Slice of Life)   \n",
       "1                          (Action, Mecha, Sci-Fi)   \n",
       "2                                        (Comedy,)   \n",
       "3     (Action, Adventure, Comedy, Romance, Sci-Fi)   \n",
       "4                    (Drama, Music, Slice of Life)   \n",
       "...                                            ...   \n",
       "1122                              (Sci-Fi, Seinen)   \n",
       "1123                                    (Romance,)   \n",
       "1124                              (Sci-Fi, Seinen)   \n",
       "1125                                     (Shoujo,)   \n",
       "1126                               (Other, Sci-Fi)   \n",
       "\n",
       "                                       Predicted Genres  \n",
       "0     (Action, Adventure, Comedy, Demons, Drama, Ecc...  \n",
       "1     (Action, Adventure, Fantasy, Hentai, Historica...  \n",
       "2     (Adventure, Comedy, Ecchi, Fantasy, Hentai, Ho...  \n",
       "3     (Action, Adventure, Demons, Drama, Ecchi, Hent...  \n",
       "4        (Comedy, Drama, Ecchi, Hentai, Mecha, Romance)  \n",
       "...                                                 ...  \n",
       "1122  (Action, Comedy, Demons, Ecchi, Fantasy, Harem...  \n",
       "1123  (Comedy, Demons, Ecchi, Fantasy, Historical, P...  \n",
       "1124  (Comedy, Demons, Ecchi, Fantasy, Military, Par...  \n",
       "1125  (Comedy, Drama, Mystery, Other, School, Shoune...  \n",
       "1126  (Action, Drama, Historical, Mecha, Military, O...  \n",
       "\n",
       "[1127 rows x 3 columns]"
      ]
     },
     "metadata": {},
     "output_type": "display_data"
    }
   ],
   "source": [
    "\n",
    "\n",
    "\n",
    "\n",
    "# from sklearn.metrics import classification_report\n",
    "#samples\tHow well did we predict each movie's genres?\t✅ Best for your task\n",
    "#micro\t    Overall genre prediction accuracy\t            ✅ Good for global view\n",
    "#macro\t    Equal focus on rare and frequent genres\t        ⚠️ Careful with imbalance\n",
    "#weighted\tGenre performance balanced by frequency\t        ✅ Fair but skew-sensitive\n",
    "#USE SAMPLES\n",
    "\n",
    "\n",
    "print(\"Report for Train dataset\")\n",
    "threshold=0.33\n",
    "y_pred_train=LR_OVA_prob(X_train,threshold,classifier)\n",
    "print_report(y_train,y_pred_train,\"samples avg\",\"f1-score\",mlb)\n",
    "jaccard = jaccard_score(y_train, y_pred_train, average='samples')\n",
    "print(\"Jaccard Similarity:\", jaccard)\n",
    "hr = hit_rate(y_train, y_pred_train)\n",
    "print(\"Hit Rate:\", hr)\n",
    "\n",
    "print(\"----------------------\")\n",
    "print(\"Report for Val dataset\")\n",
    "y_pred_val=LR_OVA_prob(X_val,threshold,classifier)\n",
    "print_report(y_val,y_pred_val,\"samples avg\",\"f1-score\",mlb)\n",
    "jaccard = jaccard_score(y_val, y_pred_val, average='samples')\n",
    "print(\"Jaccard Similarity:\", jaccard)\n",
    "hr = hit_rate(y_val, y_pred_val)\n",
    "print(\"Hit Rate:\", hr)\n",
    "\n",
    "print(\"----------------------\")\n",
    "print(\"Report for Test dataset\")\n",
    "y_pred_test=LR_OVA_prob(X_test,threshold,classifier)\n",
    "print_report(y_test,y_pred_test,\"samples avg\",\"f1-score\",mlb)\n",
    "jaccard = jaccard_score(y_test, y_pred_test, average='samples')\n",
    "print(\"Jaccard Similarity:\", jaccard)\n",
    "hr = hit_rate(y_val, y_pred_val)\n",
    "print(\"Hit Rate:\", hr)\n",
    "\n",
    "\n",
    "\n",
    "display(result_table(y_train,y_pred_train,df_train,mlb))\n",
    "display(result_table(y_val,y_pred_val,df_val,mlb))\n",
    "display(result_table(y_test,y_pred_test,df_test,mlb))\n"
   ]
  }
 ],
 "metadata": {
  "kernelspec": {
   "display_name": "nlp_env",
   "language": "python",
   "name": "python3"
  },
  "language_info": {
   "codemirror_mode": {
    "name": "ipython",
    "version": 3
   },
   "file_extension": ".py",
   "mimetype": "text/x-python",
   "name": "python",
   "nbconvert_exporter": "python",
   "pygments_lexer": "ipython3",
   "version": "3.10.16"
  }
 },
 "nbformat": 4,
 "nbformat_minor": 5
}
